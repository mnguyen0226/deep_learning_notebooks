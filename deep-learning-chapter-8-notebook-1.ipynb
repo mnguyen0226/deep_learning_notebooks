{
 "cells": [
  {
   "cell_type": "markdown",
   "id": "5ad0a358",
   "metadata": {
    "_cell_guid": "b1076dfc-b9ad-4769-8c92-a6c4dae69d19",
    "_uuid": "8f2839f25d086af736a60e9eeb907d3b93b6e0e5",
    "papermill": {
     "duration": 0.004095,
     "end_time": "2023-02-18T19:09:27.351908",
     "exception": false,
     "start_time": "2023-02-18T19:09:27.347813",
     "status": "completed"
    },
    "tags": []
   },
   "source": [
    "# 8. Introduction to Deep Learning for Computer Vision\n",
    "# 8.1. Introduction to Convnets"
   ]
  },
  {
   "cell_type": "code",
   "execution_count": 1,
   "id": "6d0ffdcd",
   "metadata": {
    "execution": {
     "iopub.execute_input": "2023-02-18T19:09:27.360665Z",
     "iopub.status.busy": "2023-02-18T19:09:27.360053Z",
     "iopub.status.idle": "2023-02-18T19:09:34.775049Z",
     "shell.execute_reply": "2023-02-18T19:09:34.774047Z"
    },
    "papermill": {
     "duration": 7.4227,
     "end_time": "2023-02-18T19:09:34.777912",
     "exception": false,
     "start_time": "2023-02-18T19:09:27.355212",
     "status": "completed"
    },
    "tags": []
   },
   "outputs": [],
   "source": [
    "# import libraries\n",
    "from tensorflow import keras\n",
    "from tensorflow.keras import layers\n",
    "from tensorflow.keras.datasets import mnist"
   ]
  },
  {
   "cell_type": "markdown",
   "id": "012b102f",
   "metadata": {
    "papermill": {
     "duration": 0.002722,
     "end_time": "2023-02-18T19:09:34.783839",
     "exception": false,
     "start_time": "2023-02-18T19:09:34.781117",
     "status": "completed"
    },
    "tags": []
   },
   "source": [
    "### Instantiate a small convnet\n",
    "- The architecture consist of Conv2D and MaxPooling2D."
   ]
  },
  {
   "cell_type": "code",
   "execution_count": 2,
   "id": "90cfd590",
   "metadata": {
    "execution": {
     "iopub.execute_input": "2023-02-18T19:09:34.794621Z",
     "iopub.status.busy": "2023-02-18T19:09:34.793408Z",
     "iopub.status.idle": "2023-02-18T19:09:34.931743Z",
     "shell.execute_reply": "2023-02-18T19:09:34.930261Z"
    },
    "papermill": {
     "duration": 0.1481,
     "end_time": "2023-02-18T19:09:34.934812",
     "exception": false,
     "start_time": "2023-02-18T19:09:34.786712",
     "status": "completed"
    },
    "tags": []
   },
   "outputs": [
    {
     "name": "stderr",
     "output_type": "stream",
     "text": [
      "2023-02-18 19:09:34.833833: W tensorflow/stream_executor/platform/default/dso_loader.cc:64] Could not load dynamic library 'libcuda.so.1'; dlerror: libcuda.so.1: cannot open shared object file: No such file or directory; LD_LIBRARY_PATH: /usr/local/cuda/lib64:/usr/local/cuda/lib:/usr/local/lib/x86_64-linux-gnu:/usr/local/nvidia/lib:/usr/local/nvidia/lib64::/opt/conda/lib\n",
      "2023-02-18 19:09:34.833895: W tensorflow/stream_executor/cuda/cuda_driver.cc:269] failed call to cuInit: UNKNOWN ERROR (303)\n"
     ]
    }
   ],
   "source": [
    "# construct the model\n",
    "inputs = keras.Input(shape=(28,28,1), name=\"Input\") # (image_height, image_width, image_channel)\n",
    "x = layers.Conv2D(filters=32, kernel_size=3, activation=\"relu\", name=\"Con2D_1\")(inputs) # \n",
    "x = layers.MaxPooling2D(pool_size=2, name=\"MaxPooling2D_1\")(x)\n",
    "x = layers.Conv2D(filters=64, kernel_size=3, activation=\"relu\", name=\"Conv2D_2\")(x)\n",
    "x = layers.MaxPooling2D(pool_size=2, name=\"MaxPooling2D_2\")(x)\n",
    "x = layers.Conv2D(filters=128, kernel_size=3, activation=\"relu\", name=\"Conv2D_3\")(x)\n",
    "x = layers.Flatten(name=\"Flatten_1\")(x)\n",
    "outputs = layers.Dense(10, activation=\"softmax\", name=\"Dense\")(x)\n",
    "model = keras.Model(inputs=inputs, outputs=outputs)"
   ]
  },
  {
   "cell_type": "code",
   "execution_count": 3,
   "id": "cb4225ea",
   "metadata": {
    "execution": {
     "iopub.execute_input": "2023-02-18T19:09:34.942885Z",
     "iopub.status.busy": "2023-02-18T19:09:34.942466Z",
     "iopub.status.idle": "2023-02-18T19:09:34.976319Z",
     "shell.execute_reply": "2023-02-18T19:09:34.974790Z"
    },
    "papermill": {
     "duration": 0.045652,
     "end_time": "2023-02-18T19:09:34.983833",
     "exception": false,
     "start_time": "2023-02-18T19:09:34.938181",
     "status": "completed"
    },
    "tags": []
   },
   "outputs": [
    {
     "name": "stdout",
     "output_type": "stream",
     "text": [
      "Model: \"model\"\n",
      "_________________________________________________________________\n",
      " Layer (type)                Output Shape              Param #   \n",
      "=================================================================\n",
      " Input (InputLayer)          [(None, 28, 28, 1)]       0         \n",
      "                                                                 \n",
      " Con2D_1 (Conv2D)            (None, 26, 26, 32)        320       \n",
      "                                                                 \n",
      " MaxPooling2D_1 (MaxPooling2  (None, 13, 13, 32)       0         \n",
      " D)                                                              \n",
      "                                                                 \n",
      " Conv2D_2 (Conv2D)           (None, 11, 11, 64)        18496     \n",
      "                                                                 \n",
      " MaxPooling2D_2 (MaxPooling2  (None, 5, 5, 64)         0         \n",
      " D)                                                              \n",
      "                                                                 \n",
      " Conv2D_3 (Conv2D)           (None, 3, 3, 128)         73856     \n",
      "                                                                 \n",
      " Flatten_1 (Flatten)         (None, 1152)              0         \n",
      "                                                                 \n",
      " Dense (Dense)               (None, 10)                11530     \n",
      "                                                                 \n",
      "=================================================================\n",
      "Total params: 104,202\n",
      "Trainable params: 104,202\n",
      "Non-trainable params: 0\n",
      "_________________________________________________________________\n"
     ]
    }
   ],
   "source": [
    "# check architecture\n",
    "model.summary()"
   ]
  },
  {
   "cell_type": "markdown",
   "id": "6f2f4a48",
   "metadata": {
    "papermill": {
     "duration": 0.004515,
     "end_time": "2023-02-18T19:09:34.993075",
     "exception": false,
     "start_time": "2023-02-18T19:09:34.988560",
     "status": "completed"
    },
    "tags": []
   },
   "source": [
    "**Note**: As we do 10-way classification, the last layer has 10 outputs and a softmax activation. Thus we will use categorical crossentropy, and because the labels are integer, we will use sparse version, aka `sparse_categorical_crossentropy`"
   ]
  },
  {
   "cell_type": "markdown",
   "id": "724374c4",
   "metadata": {
    "papermill": {
     "duration": 0.004343,
     "end_time": "2023-02-18T19:09:35.001991",
     "exception": false,
     "start_time": "2023-02-18T19:09:34.997648",
     "status": "completed"
    },
    "tags": []
   },
   "source": [
    "### Train & evaluate the convnet on MNIST dataset"
   ]
  },
  {
   "cell_type": "code",
   "execution_count": 4,
   "id": "ae85029e",
   "metadata": {
    "execution": {
     "iopub.execute_input": "2023-02-18T19:09:35.013262Z",
     "iopub.status.busy": "2023-02-18T19:09:35.012846Z",
     "iopub.status.idle": "2023-02-18T19:09:37.031018Z",
     "shell.execute_reply": "2023-02-18T19:09:37.030015Z"
    },
    "papermill": {
     "duration": 2.026986,
     "end_time": "2023-02-18T19:09:37.033511",
     "exception": false,
     "start_time": "2023-02-18T19:09:35.006525",
     "status": "completed"
    },
    "tags": []
   },
   "outputs": [
    {
     "name": "stdout",
     "output_type": "stream",
     "text": [
      "Downloading data from https://storage.googleapis.com/tensorflow/tf-keras-datasets/mnist.npz\n",
      "11490434/11490434 [==============================] - 1s 0us/step\n"
     ]
    }
   ],
   "source": [
    "# load data\n",
    "(train_images, train_labels), (test_images, test_labels) = mnist.load_data()\n",
    "\n",
    "# reshape and normalize the image\n",
    "train_images = train_images.reshape((60000, 28, 28, 1))\n",
    "train_images = train_images.astype(\"float32\") / 255\n",
    "test_images = test_images.reshape((10000, 28, 28, 1))\n",
    "test_images = test_images.astype(\"float32\") / 255\n",
    "\n",
    "# initialize optimizer, loss, and metrics\n",
    "model.compile(optimizer=\"rmsprop\",\n",
    "              loss=\"sparse_categorical_crossentropy\",\n",
    "              metrics=[\"accuracy\"])"
   ]
  },
  {
   "cell_type": "code",
   "execution_count": 5,
   "id": "4620d963",
   "metadata": {
    "execution": {
     "iopub.execute_input": "2023-02-18T19:09:37.048156Z",
     "iopub.status.busy": "2023-02-18T19:09:37.047423Z",
     "iopub.status.idle": "2023-02-18T19:12:08.230471Z",
     "shell.execute_reply": "2023-02-18T19:12:08.229601Z"
    },
    "papermill": {
     "duration": 151.192857,
     "end_time": "2023-02-18T19:12:08.232755",
     "exception": false,
     "start_time": "2023-02-18T19:09:37.039898",
     "status": "completed"
    },
    "tags": []
   },
   "outputs": [
    {
     "name": "stdout",
     "output_type": "stream",
     "text": [
      "Epoch 1/5\n",
      "938/938 [==============================] - 31s 32ms/step - loss: 0.1555 - accuracy: 0.9514\n",
      "Epoch 2/5\n",
      "938/938 [==============================] - 30s 32ms/step - loss: 0.0432 - accuracy: 0.9864\n",
      "Epoch 3/5\n",
      "938/938 [==============================] - 30s 32ms/step - loss: 0.0301 - accuracy: 0.9906\n",
      "Epoch 4/5\n",
      "938/938 [==============================] - 30s 32ms/step - loss: 0.0236 - accuracy: 0.9930\n",
      "Epoch 5/5\n",
      "938/938 [==============================] - 30s 32ms/step - loss: 0.0185 - accuracy: 0.9945\n"
     ]
    },
    {
     "data": {
      "text/plain": [
       "<keras.callbacks.History at 0x7fba73627890>"
      ]
     },
     "execution_count": 5,
     "metadata": {},
     "output_type": "execute_result"
    }
   ],
   "source": [
    "# train model\n",
    "model.fit(train_images, train_labels, epochs=5, batch_size=64)"
   ]
  },
  {
   "cell_type": "code",
   "execution_count": 6,
   "id": "e6ff7250",
   "metadata": {
    "execution": {
     "iopub.execute_input": "2023-02-18T19:12:08.546919Z",
     "iopub.status.busy": "2023-02-18T19:12:08.546080Z",
     "iopub.status.idle": "2023-02-18T19:12:11.341446Z",
     "shell.execute_reply": "2023-02-18T19:12:11.340082Z"
    },
    "papermill": {
     "duration": 2.954826,
     "end_time": "2023-02-18T19:12:11.344220",
     "exception": false,
     "start_time": "2023-02-18T19:12:08.389394",
     "status": "completed"
    },
    "tags": []
   },
   "outputs": [
    {
     "name": "stdout",
     "output_type": "stream",
     "text": [
      "313/313 [==============================] - 2s 6ms/step - loss: 0.0263 - accuracy: 0.9908\n",
      "Test accuracy: 0.9908000230789185\n"
     ]
    }
   ],
   "source": [
    "# test modl\n",
    "test_loss, test_acc = model.evaluate(test_images, test_labels)\n",
    "print(f\"Test accuracy: {test_acc}\")"
   ]
  },
  {
   "cell_type": "markdown",
   "id": "6a76017a",
   "metadata": {
    "papermill": {
     "duration": 0.155578,
     "end_time": "2023-02-18T19:12:11.654767",
     "exception": false,
     "start_time": "2023-02-18T19:12:11.499189",
     "status": "completed"
    },
    "tags": []
   },
   "source": [
    "**Note**: using fully Dense net, we got test accuracy of 97.8%, but with Conv net, we got 99.1% and decrease the error rate by 60% relatively. Why does Conv net perform better than Dense net?\n",
    "- The convolutional operation.\n",
    "- The max-pooling operation."
   ]
  }
 ],
 "metadata": {
  "kernelspec": {
   "display_name": "Python 3",
   "language": "python",
   "name": "python3"
  },
  "language_info": {
   "codemirror_mode": {
    "name": "ipython",
    "version": 3
   },
   "file_extension": ".py",
   "mimetype": "text/x-python",
   "name": "python",
   "nbconvert_exporter": "python",
   "pygments_lexer": "ipython3",
   "version": "3.7.12"
  },
  "papermill": {
   "default_parameters": {},
   "duration": 176.258133,
   "end_time": "2023-02-18T19:12:15.400638",
   "environment_variables": {},
   "exception": null,
   "input_path": "__notebook__.ipynb",
   "output_path": "__notebook__.ipynb",
   "parameters": {},
   "start_time": "2023-02-18T19:09:19.142505",
   "version": "2.3.4"
  }
 },
 "nbformat": 4,
 "nbformat_minor": 5
}
