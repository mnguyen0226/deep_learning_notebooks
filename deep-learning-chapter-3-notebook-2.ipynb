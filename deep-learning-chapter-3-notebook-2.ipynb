{
 "cells": [
  {
   "cell_type": "markdown",
   "id": "fd111f6a",
   "metadata": {
    "_cell_guid": "b1076dfc-b9ad-4769-8c92-a6c4dae69d19",
    "_uuid": "8f2839f25d086af736a60e9eeb907d3b93b6e0e5",
    "papermill": {
     "duration": 0.004467,
     "end_time": "2023-02-01T04:56:01.031815",
     "exception": false,
     "start_time": "2023-02-01T04:56:01.027348",
     "status": "completed"
    },
    "tags": []
   },
   "source": [
    "# Chapter 3.6: Anatomy Of A Neural Network: Understanding core Keras API"
   ]
  },
  {
   "cell_type": "code",
   "execution_count": 1,
   "id": "30734a45",
   "metadata": {
    "execution": {
     "iopub.execute_input": "2023-02-01T04:56:01.041365Z",
     "iopub.status.busy": "2023-02-01T04:56:01.039843Z",
     "iopub.status.idle": "2023-02-01T04:56:07.566113Z",
     "shell.execute_reply": "2023-02-01T04:56:07.564731Z"
    },
    "papermill": {
     "duration": 6.53466,
     "end_time": "2023-02-01T04:56:07.569724",
     "exception": false,
     "start_time": "2023-02-01T04:56:01.035064",
     "status": "completed"
    },
    "tags": []
   },
   "outputs": [],
   "source": [
    "# import libraries\n",
    "from tensorflow import keras"
   ]
  },
  {
   "cell_type": "markdown",
   "id": "eed6c3ea",
   "metadata": {
    "papermill": {
     "duration": 0.002666,
     "end_time": "2023-02-01T04:56:07.575558",
     "exception": false,
     "start_time": "2023-02-01T04:56:07.572892",
     "status": "completed"
    },
    "tags": []
   },
   "source": [
    "## 1. Layers: the building blocks of deep learning\n",
    "- Frequently, layers have a state: the layer's weights, one or several tensors leared with SGD, which together contain the network's knowledge.\n",
    "- Differnet types of layer are fit for different tensor format and types of data\n",
    "    - Vector data (rank-2), eg (samples, features): use fully connected layer (Dense).\n",
    "    - Sequential data (rank-3), eg (samples, timestep, features): use recurrent layer (LSTM or Conv1D).\n",
    "    - Image data (rank-4): user Conv2D."
   ]
  },
  {
   "cell_type": "markdown",
   "id": "3e5b588d",
   "metadata": {
    "papermill": {
     "duration": 0.002618,
     "end_time": "2023-02-01T04:56:07.581156",
     "exception": false,
     "start_time": "2023-02-01T04:56:07.578538",
     "status": "completed"
    },
    "tags": []
   },
   "source": [
    "### 1.1. The base layer class in Keras\n",
    "- Weights are defined in build().\n",
    "- The computation is defined in call(). This is the forward pass."
   ]
  },
  {
   "cell_type": "code",
   "execution_count": 2,
   "id": "a19db1ed",
   "metadata": {
    "execution": {
     "iopub.execute_input": "2023-02-01T04:56:07.589475Z",
     "iopub.status.busy": "2023-02-01T04:56:07.588783Z",
     "iopub.status.idle": "2023-02-01T04:56:08.980325Z",
     "shell.execute_reply": "2023-02-01T04:56:08.979000Z"
    },
    "papermill": {
     "duration": 1.39911,
     "end_time": "2023-02-01T04:56:08.983155",
     "exception": false,
     "start_time": "2023-02-01T04:56:07.584045",
     "status": "completed"
    },
    "tags": []
   },
   "outputs": [],
   "source": [
    "# create a simple dense class\n",
    "class SimpleDense(keras.layers.Layer):\n",
    "    def __init__(self, units, activation=None):\n",
    "        super().__init__()\n",
    "        self.units = units\n",
    "        self.activation = activation\n",
    "    \n",
    "    def build(self, input_shape):\n",
    "        # function initialize weights\n",
    "        input_dum = input_shape[-1]\n",
    "        self.W = self.add_weight(shape=(input_dim, self.units), initializer=\"random_normal\")\n",
    "        self.b = self.add_weight(shape=(self.units,), initializer=\"zeros\")\n",
    "    \n",
    "    def call(self, inputs):\n",
    "        # prediction = W * input + b\n",
    "        # function calculate forward pass\n",
    "        y = tf.matmul(inputs, self.W) + self.b \n",
    "        if self.activation is not None:\n",
    "            y = self.activation(y)\n",
    "        return y"
   ]
  },
  {
   "cell_type": "markdown",
   "id": "77567522",
   "metadata": {
    "papermill": {
     "duration": 0.002723,
     "end_time": "2023-02-01T04:56:08.988996",
     "exception": false,
     "start_time": "2023-02-01T04:56:08.986273",
     "status": "completed"
    },
    "tags": []
   },
   "source": [
    "## 1.2. Lessons\n",
    "- You need to choose the right network architecture, which is learned later.\n",
    "- Choose the right Loss Function (Objective Function): The quantify that will be minimized during training.\n",
    "- Choose the right Optimizer which determines how the network will update based on the loss function.\n",
    "- Choose the right metrics which measure the success you want to monitor during training and validation. Training will not be optimized directly for these metrics.\n",
    "- Function compiles() configure the training process in which you can specify the optimizer, loss, and metrics"
   ]
  },
  {
   "cell_type": "markdown",
   "id": "c4ff1274",
   "metadata": {
    "papermill": {
     "duration": 0.002624,
     "end_time": "2023-02-01T04:56:08.994624",
     "exception": false,
     "start_time": "2023-02-01T04:56:08.992000",
     "status": "completed"
    },
    "tags": []
   },
   "source": [
    "## 1.3. Built-in Options in Keras\n",
    "- Optimizers:\n",
    "    - SGD (with and without momentum)\n",
    "    - RMSprop\n",
    "    - Adam\n",
    "    - Adagrad\n",
    "    - ...\n",
    "- Losses:\n",
    "    - CategoricalCrossentropy\n",
    "    - SparseCategoricalCrossentropy\n",
    "    - BinaryCrossentropy\n",
    "    - MeanSquaredError\n",
    "    - KLDivergence\n",
    "    - CosineSimilarity\n",
    "    - ...\n",
    "- Metrics:\n",
    "    - CategoricalAccuracy\n",
    "    - SparseCategoricalAccuracy\n",
    "    - BinaryAccuracy\n",
    "    - AUC\n",
    "    - Precision\n",
    "    - Recall\n",
    "    - ..."
   ]
  },
  {
   "cell_type": "markdown",
   "id": "4384f922",
   "metadata": {
    "papermill": {
     "duration": 0.002593,
     "end_time": "2023-02-01T04:56:09.000164",
     "exception": false,
     "start_time": "2023-02-01T04:56:08.997571",
     "status": "completed"
    },
    "tags": []
   },
   "source": [
    "## 1.4. Pick a Loss Function\n",
    "- Choose the right loss function for the right problem is extremely important: Your network will take any shortcut it can to minimize the loss, so if the objective does not fully correlate with the success for the task at hand, your network will end up doing things you might not wanted. \n",
    "- Fortunately, when it comes to common problems such as classification, regression, and sequence prediction, there are simple guidelines you can follow to choose correct loss\n",
    "    - Binary crossentropy for binary classification.\n",
    "    - Categorical crossentropy for multi-class classification."
   ]
  },
  {
   "cell_type": "markdown",
   "id": "b42e3772",
   "metadata": {
    "papermill": {
     "duration": 0.002579,
     "end_time": "2023-02-01T04:56:09.005733",
     "exception": false,
     "start_time": "2023-02-01T04:56:09.003154",
     "status": "completed"
    },
    "tags": []
   },
   "source": [
    "## 1.5. Understanding The Fit() Method\n",
    "```python\n",
    "history = model.fit(\n",
    " inputs,\n",
    " targets,\n",
    " epochs=5,\n",
    " batch_size=128\n",
    ")\n",
    "\n",
    "history.history\n",
    "{\"binary_accuracy\": [0.855, 0.9565, 0.9555, 0.95, 0.951],\n",
    " \"loss\": [0.6573270302042366,\n",
    " 0.07434618508815766,\n",
    " 0.07687718723714351,\n",
    " 0.07412414988875389,\n",
    " 0.07617757616937161]}\n",
    "```"
   ]
  },
  {
   "cell_type": "markdown",
   "id": "043a103d",
   "metadata": {
    "papermill": {
     "duration": 0.002565,
     "end_time": "2023-02-01T04:56:09.011177",
     "exception": false,
     "start_time": "2023-02-01T04:56:09.008612",
     "status": "completed"
    },
    "tags": []
   },
   "source": [
    "## 1.6. Monitoring Loss and Metrics On Validation Data\n",
    "- The goal of ML is not to obtain models that perform well on the training data, but to have the model that perform well in general.\n",
    "- This s what validation data is useful: You won't train on it but to calculate the loss value and metric value. \n",
    "- The goal of validation data is to check if the model is learning anything useful when meeting new data."
   ]
  }
 ],
 "metadata": {
  "kernelspec": {
   "display_name": "Python 3",
   "language": "python",
   "name": "python3"
  },
  "language_info": {
   "codemirror_mode": {
    "name": "ipython",
    "version": 3
   },
   "file_extension": ".py",
   "mimetype": "text/x-python",
   "name": "python",
   "nbconvert_exporter": "python",
   "pygments_lexer": "ipython3",
   "version": "3.7.12"
  },
  "papermill": {
   "default_parameters": {},
   "duration": 23.552121,
   "end_time": "2023-02-01T04:56:12.548394",
   "environment_variables": {},
   "exception": null,
   "input_path": "__notebook__.ipynb",
   "output_path": "__notebook__.ipynb",
   "parameters": {},
   "start_time": "2023-02-01T04:55:48.996273",
   "version": "2.3.4"
  }
 },
 "nbformat": 4,
 "nbformat_minor": 5
}
