{
 "cells": [
  {
   "cell_type": "markdown",
   "id": "c259cb34",
   "metadata": {
    "_cell_guid": "b1076dfc-b9ad-4769-8c92-a6c4dae69d19",
    "_uuid": "8f2839f25d086af736a60e9eeb907d3b93b6e0e5",
    "papermill": {
     "duration": 0.0201,
     "end_time": "2023-04-23T03:51:21.312190",
     "exception": false,
     "start_time": "2023-04-23T03:51:21.292090",
     "status": "completed"
    },
    "tags": []
   },
   "source": [
    "# Gaussian Naive Bayes Classifier for Breast Cancer Dataset\n",
    "- Implement a simple program using GaussianNB() to classify the data samples (including train and test data samples). Report the prediction accuracy and confusion matrix of the classifier.\n",
    "- Add (30-dimensional) zero-mean Gaussian noises with different variances (at least 5, e.g., 50, 100, 200, 400, 800) to the features of the dataset; train Gaussian Naïve Bayes classifiers to classify the noisy datasets and report the prediction accuracies and confusion matrices of the classifiers."
   ]
  },
  {
   "cell_type": "code",
   "execution_count": 1,
   "id": "e0f7a5e9",
   "metadata": {
    "execution": {
     "iopub.execute_input": "2023-04-23T03:51:21.352943Z",
     "iopub.status.busy": "2023-04-23T03:51:21.352497Z",
     "iopub.status.idle": "2023-04-23T03:51:22.605151Z",
     "shell.execute_reply": "2023-04-23T03:51:22.604174Z"
    },
    "papermill": {
     "duration": 1.276733,
     "end_time": "2023-04-23T03:51:22.607978",
     "exception": false,
     "start_time": "2023-04-23T03:51:21.331245",
     "status": "completed"
    },
    "tags": []
   },
   "outputs": [],
   "source": [
    "# import libraries\n",
    "import numpy as np \n",
    "import pandas as pd \n",
    "import matplotlib.pyplot as plt\n",
    "from sklearn.model_selection import train_test_split\n",
    "from sklearn.naive_bayes import GaussianNB\n",
    "from sklearn import preprocessing\n",
    "from sklearn import metrics\n",
    "import os\n",
    "import math"
   ]
  },
  {
   "cell_type": "code",
   "execution_count": 2,
   "id": "e8fff96e",
   "metadata": {
    "execution": {
     "iopub.execute_input": "2023-04-23T03:51:22.648182Z",
     "iopub.status.busy": "2023-04-23T03:51:22.647788Z",
     "iopub.status.idle": "2023-04-23T03:51:22.659585Z",
     "shell.execute_reply": "2023-04-23T03:51:22.658587Z"
    },
    "papermill": {
     "duration": 0.035453,
     "end_time": "2023-04-23T03:51:22.662639",
     "exception": false,
     "start_time": "2023-04-23T03:51:22.627186",
     "status": "completed"
    },
    "tags": []
   },
   "outputs": [
    {
     "name": "stdout",
     "output_type": "stream",
     "text": [
      "/kaggle/input/breast-cancer-wisconsin-data/data.csv\n"
     ]
    }
   ],
   "source": [
    "# connect to Kaggle open-source database\n",
    "for dirname, _, filenames in os.walk('/kaggle/input'):\n",
    "    for filename in filenames:\n",
    "        print(os.path.join(dirname, filename))"
   ]
  },
  {
   "cell_type": "markdown",
   "id": "6cb33cae",
   "metadata": {
    "papermill": {
     "duration": 0.019473,
     "end_time": "2023-04-23T03:51:22.701138",
     "exception": false,
     "start_time": "2023-04-23T03:51:22.681665",
     "status": "completed"
    },
    "tags": []
   },
   "source": [
    "# 1. Data Processing "
   ]
  },
  {
   "cell_type": "code",
   "execution_count": 3,
   "id": "ca64d462",
   "metadata": {
    "execution": {
     "iopub.execute_input": "2023-04-23T03:51:22.743048Z",
     "iopub.status.busy": "2023-04-23T03:51:22.742655Z",
     "iopub.status.idle": "2023-04-23T03:51:22.804695Z",
     "shell.execute_reply": "2023-04-23T03:51:22.803514Z"
    },
    "papermill": {
     "duration": 0.086726,
     "end_time": "2023-04-23T03:51:22.807405",
     "exception": false,
     "start_time": "2023-04-23T03:51:22.720679",
     "status": "completed"
    },
    "tags": []
   },
   "outputs": [
    {
     "data": {
      "text/html": [
       "<div>\n",
       "<style scoped>\n",
       "    .dataframe tbody tr th:only-of-type {\n",
       "        vertical-align: middle;\n",
       "    }\n",
       "\n",
       "    .dataframe tbody tr th {\n",
       "        vertical-align: top;\n",
       "    }\n",
       "\n",
       "    .dataframe thead th {\n",
       "        text-align: right;\n",
       "    }\n",
       "</style>\n",
       "<table border=\"1\" class=\"dataframe\">\n",
       "  <thead>\n",
       "    <tr style=\"text-align: right;\">\n",
       "      <th></th>\n",
       "      <th>id</th>\n",
       "      <th>diagnosis</th>\n",
       "      <th>radius_mean</th>\n",
       "      <th>texture_mean</th>\n",
       "      <th>perimeter_mean</th>\n",
       "      <th>area_mean</th>\n",
       "      <th>smoothness_mean</th>\n",
       "      <th>compactness_mean</th>\n",
       "      <th>concavity_mean</th>\n",
       "      <th>concave points_mean</th>\n",
       "      <th>...</th>\n",
       "      <th>texture_worst</th>\n",
       "      <th>perimeter_worst</th>\n",
       "      <th>area_worst</th>\n",
       "      <th>smoothness_worst</th>\n",
       "      <th>compactness_worst</th>\n",
       "      <th>concavity_worst</th>\n",
       "      <th>concave points_worst</th>\n",
       "      <th>symmetry_worst</th>\n",
       "      <th>fractal_dimension_worst</th>\n",
       "      <th>Unnamed: 32</th>\n",
       "    </tr>\n",
       "  </thead>\n",
       "  <tbody>\n",
       "    <tr>\n",
       "      <th>0</th>\n",
       "      <td>842302</td>\n",
       "      <td>M</td>\n",
       "      <td>17.99</td>\n",
       "      <td>10.38</td>\n",
       "      <td>122.80</td>\n",
       "      <td>1001.0</td>\n",
       "      <td>0.11840</td>\n",
       "      <td>0.27760</td>\n",
       "      <td>0.3001</td>\n",
       "      <td>0.14710</td>\n",
       "      <td>...</td>\n",
       "      <td>17.33</td>\n",
       "      <td>184.60</td>\n",
       "      <td>2019.0</td>\n",
       "      <td>0.1622</td>\n",
       "      <td>0.6656</td>\n",
       "      <td>0.7119</td>\n",
       "      <td>0.2654</td>\n",
       "      <td>0.4601</td>\n",
       "      <td>0.11890</td>\n",
       "      <td>NaN</td>\n",
       "    </tr>\n",
       "    <tr>\n",
       "      <th>1</th>\n",
       "      <td>842517</td>\n",
       "      <td>M</td>\n",
       "      <td>20.57</td>\n",
       "      <td>17.77</td>\n",
       "      <td>132.90</td>\n",
       "      <td>1326.0</td>\n",
       "      <td>0.08474</td>\n",
       "      <td>0.07864</td>\n",
       "      <td>0.0869</td>\n",
       "      <td>0.07017</td>\n",
       "      <td>...</td>\n",
       "      <td>23.41</td>\n",
       "      <td>158.80</td>\n",
       "      <td>1956.0</td>\n",
       "      <td>0.1238</td>\n",
       "      <td>0.1866</td>\n",
       "      <td>0.2416</td>\n",
       "      <td>0.1860</td>\n",
       "      <td>0.2750</td>\n",
       "      <td>0.08902</td>\n",
       "      <td>NaN</td>\n",
       "    </tr>\n",
       "    <tr>\n",
       "      <th>2</th>\n",
       "      <td>84300903</td>\n",
       "      <td>M</td>\n",
       "      <td>19.69</td>\n",
       "      <td>21.25</td>\n",
       "      <td>130.00</td>\n",
       "      <td>1203.0</td>\n",
       "      <td>0.10960</td>\n",
       "      <td>0.15990</td>\n",
       "      <td>0.1974</td>\n",
       "      <td>0.12790</td>\n",
       "      <td>...</td>\n",
       "      <td>25.53</td>\n",
       "      <td>152.50</td>\n",
       "      <td>1709.0</td>\n",
       "      <td>0.1444</td>\n",
       "      <td>0.4245</td>\n",
       "      <td>0.4504</td>\n",
       "      <td>0.2430</td>\n",
       "      <td>0.3613</td>\n",
       "      <td>0.08758</td>\n",
       "      <td>NaN</td>\n",
       "    </tr>\n",
       "    <tr>\n",
       "      <th>3</th>\n",
       "      <td>84348301</td>\n",
       "      <td>M</td>\n",
       "      <td>11.42</td>\n",
       "      <td>20.38</td>\n",
       "      <td>77.58</td>\n",
       "      <td>386.1</td>\n",
       "      <td>0.14250</td>\n",
       "      <td>0.28390</td>\n",
       "      <td>0.2414</td>\n",
       "      <td>0.10520</td>\n",
       "      <td>...</td>\n",
       "      <td>26.50</td>\n",
       "      <td>98.87</td>\n",
       "      <td>567.7</td>\n",
       "      <td>0.2098</td>\n",
       "      <td>0.8663</td>\n",
       "      <td>0.6869</td>\n",
       "      <td>0.2575</td>\n",
       "      <td>0.6638</td>\n",
       "      <td>0.17300</td>\n",
       "      <td>NaN</td>\n",
       "    </tr>\n",
       "    <tr>\n",
       "      <th>4</th>\n",
       "      <td>84358402</td>\n",
       "      <td>M</td>\n",
       "      <td>20.29</td>\n",
       "      <td>14.34</td>\n",
       "      <td>135.10</td>\n",
       "      <td>1297.0</td>\n",
       "      <td>0.10030</td>\n",
       "      <td>0.13280</td>\n",
       "      <td>0.1980</td>\n",
       "      <td>0.10430</td>\n",
       "      <td>...</td>\n",
       "      <td>16.67</td>\n",
       "      <td>152.20</td>\n",
       "      <td>1575.0</td>\n",
       "      <td>0.1374</td>\n",
       "      <td>0.2050</td>\n",
       "      <td>0.4000</td>\n",
       "      <td>0.1625</td>\n",
       "      <td>0.2364</td>\n",
       "      <td>0.07678</td>\n",
       "      <td>NaN</td>\n",
       "    </tr>\n",
       "  </tbody>\n",
       "</table>\n",
       "<p>5 rows × 33 columns</p>\n",
       "</div>"
      ],
      "text/plain": [
       "         id diagnosis  radius_mean  texture_mean  perimeter_mean  area_mean  \\\n",
       "0    842302         M        17.99         10.38          122.80     1001.0   \n",
       "1    842517         M        20.57         17.77          132.90     1326.0   \n",
       "2  84300903         M        19.69         21.25          130.00     1203.0   \n",
       "3  84348301         M        11.42         20.38           77.58      386.1   \n",
       "4  84358402         M        20.29         14.34          135.10     1297.0   \n",
       "\n",
       "   smoothness_mean  compactness_mean  concavity_mean  concave points_mean  \\\n",
       "0          0.11840           0.27760          0.3001              0.14710   \n",
       "1          0.08474           0.07864          0.0869              0.07017   \n",
       "2          0.10960           0.15990          0.1974              0.12790   \n",
       "3          0.14250           0.28390          0.2414              0.10520   \n",
       "4          0.10030           0.13280          0.1980              0.10430   \n",
       "\n",
       "   ...  texture_worst  perimeter_worst  area_worst  smoothness_worst  \\\n",
       "0  ...          17.33           184.60      2019.0            0.1622   \n",
       "1  ...          23.41           158.80      1956.0            0.1238   \n",
       "2  ...          25.53           152.50      1709.0            0.1444   \n",
       "3  ...          26.50            98.87       567.7            0.2098   \n",
       "4  ...          16.67           152.20      1575.0            0.1374   \n",
       "\n",
       "   compactness_worst  concavity_worst  concave points_worst  symmetry_worst  \\\n",
       "0             0.6656           0.7119                0.2654          0.4601   \n",
       "1             0.1866           0.2416                0.1860          0.2750   \n",
       "2             0.4245           0.4504                0.2430          0.3613   \n",
       "3             0.8663           0.6869                0.2575          0.6638   \n",
       "4             0.2050           0.4000                0.1625          0.2364   \n",
       "\n",
       "   fractal_dimension_worst  Unnamed: 32  \n",
       "0                  0.11890          NaN  \n",
       "1                  0.08902          NaN  \n",
       "2                  0.08758          NaN  \n",
       "3                  0.17300          NaN  \n",
       "4                  0.07678          NaN  \n",
       "\n",
       "[5 rows x 33 columns]"
      ]
     },
     "execution_count": 3,
     "metadata": {},
     "output_type": "execute_result"
    }
   ],
   "source": [
    "# import dataset\n",
    "df = pd.read_csv(\"/kaggle/input/breast-cancer-wisconsin-data/data.csv\")\n",
    "df.head()"
   ]
  },
  {
   "cell_type": "code",
   "execution_count": 4,
   "id": "bed18942",
   "metadata": {
    "execution": {
     "iopub.execute_input": "2023-04-23T03:51:22.850545Z",
     "iopub.status.busy": "2023-04-23T03:51:22.849686Z",
     "iopub.status.idle": "2023-04-23T03:51:22.898096Z",
     "shell.execute_reply": "2023-04-23T03:51:22.896152Z"
    },
    "papermill": {
     "duration": 0.074042,
     "end_time": "2023-04-23T03:51:22.900616",
     "exception": false,
     "start_time": "2023-04-23T03:51:22.826574",
     "status": "completed"
    },
    "tags": []
   },
   "outputs": [
    {
     "name": "stdout",
     "output_type": "stream",
     "text": [
      "<class 'pandas.core.frame.DataFrame'>\n",
      "RangeIndex: 569 entries, 0 to 568\n",
      "Data columns (total 33 columns):\n",
      " #   Column                   Non-Null Count  Dtype  \n",
      "---  ------                   --------------  -----  \n",
      " 0   id                       569 non-null    int64  \n",
      " 1   diagnosis                569 non-null    object \n",
      " 2   radius_mean              569 non-null    float64\n",
      " 3   texture_mean             569 non-null    float64\n",
      " 4   perimeter_mean           569 non-null    float64\n",
      " 5   area_mean                569 non-null    float64\n",
      " 6   smoothness_mean          569 non-null    float64\n",
      " 7   compactness_mean         569 non-null    float64\n",
      " 8   concavity_mean           569 non-null    float64\n",
      " 9   concave points_mean      569 non-null    float64\n",
      " 10  symmetry_mean            569 non-null    float64\n",
      " 11  fractal_dimension_mean   569 non-null    float64\n",
      " 12  radius_se                569 non-null    float64\n",
      " 13  texture_se               569 non-null    float64\n",
      " 14  perimeter_se             569 non-null    float64\n",
      " 15  area_se                  569 non-null    float64\n",
      " 16  smoothness_se            569 non-null    float64\n",
      " 17  compactness_se           569 non-null    float64\n",
      " 18  concavity_se             569 non-null    float64\n",
      " 19  concave points_se        569 non-null    float64\n",
      " 20  symmetry_se              569 non-null    float64\n",
      " 21  fractal_dimension_se     569 non-null    float64\n",
      " 22  radius_worst             569 non-null    float64\n",
      " 23  texture_worst            569 non-null    float64\n",
      " 24  perimeter_worst          569 non-null    float64\n",
      " 25  area_worst               569 non-null    float64\n",
      " 26  smoothness_worst         569 non-null    float64\n",
      " 27  compactness_worst        569 non-null    float64\n",
      " 28  concavity_worst          569 non-null    float64\n",
      " 29  concave points_worst     569 non-null    float64\n",
      " 30  symmetry_worst           569 non-null    float64\n",
      " 31  fractal_dimension_worst  569 non-null    float64\n",
      " 32  Unnamed: 32              0 non-null      float64\n",
      "dtypes: float64(31), int64(1), object(1)\n",
      "memory usage: 146.8+ KB\n"
     ]
    }
   ],
   "source": [
    "# check datatype\n",
    "df.info()"
   ]
  },
  {
   "cell_type": "markdown",
   "id": "8755c270",
   "metadata": {
    "papermill": {
     "duration": 0.018992,
     "end_time": "2023-04-23T03:51:22.938810",
     "exception": false,
     "start_time": "2023-04-23T03:51:22.919818",
     "status": "completed"
    },
    "tags": []
   },
   "source": [
    "**Note**: we will drop *id* and *Unnamed* columns as they does not contribute to the learning process of the model."
   ]
  },
  {
   "cell_type": "markdown",
   "id": "6a8ad1f7",
   "metadata": {
    "papermill": {
     "duration": 0.018887,
     "end_time": "2023-04-23T03:51:22.977075",
     "exception": false,
     "start_time": "2023-04-23T03:51:22.958188",
     "status": "completed"
    },
    "tags": []
   },
   "source": [
    "## 1.1. Data Visualization\n",
    "Let's plot the malignent and benign cancer data points."
   ]
  },
  {
   "cell_type": "code",
   "execution_count": 5,
   "id": "9495e87e",
   "metadata": {
    "execution": {
     "iopub.execute_input": "2023-04-23T03:51:23.017232Z",
     "iopub.status.busy": "2023-04-23T03:51:23.016860Z",
     "iopub.status.idle": "2023-04-23T03:51:23.289998Z",
     "shell.execute_reply": "2023-04-23T03:51:23.288841Z"
    },
    "papermill": {
     "duration": 0.29634,
     "end_time": "2023-04-23T03:51:23.292610",
     "exception": false,
     "start_time": "2023-04-23T03:51:22.996270",
     "status": "completed"
    },
    "tags": []
   },
   "outputs": [
    {
     "data": {
      "image/png": "[encoded data removed]",
      "text/plain": [
       "<Figure size 432x288 with 1 Axes>"
      ]
     },
     "metadata": {
      "needs_background": "light"
     },
     "output_type": "display_data"
    }
   ],
   "source": [
    "# plot the distribution of points\n",
    "plt.title(\"Radius & Texture Data Distribution\")\n",
    "df['radius_mean'].plot(kind='kde')\n",
    "df['texture_mean'].plot(kind='kde')\n",
    "plt.legend()\n",
    "plt.show()"
   ]
  },
  {
   "cell_type": "markdown",
   "id": "c89ccd6e",
   "metadata": {
    "papermill": {
     "duration": 0.019427,
     "end_time": "2023-04-23T03:51:23.332308",
     "exception": false,
     "start_time": "2023-04-23T03:51:23.312881",
     "status": "completed"
    },
    "tags": []
   },
   "source": [
    "## 1.2. Data Processing"
   ]
  },
  {
   "cell_type": "code",
   "execution_count": 6,
   "id": "0fc7f757",
   "metadata": {
    "execution": {
     "iopub.execute_input": "2023-04-23T03:51:23.374409Z",
     "iopub.status.busy": "2023-04-23T03:51:23.373587Z",
     "iopub.status.idle": "2023-04-23T03:51:23.381061Z",
     "shell.execute_reply": "2023-04-23T03:51:23.380014Z"
    },
    "papermill": {
     "duration": 0.031857,
     "end_time": "2023-04-23T03:51:23.383704",
     "exception": false,
     "start_time": "2023-04-23T03:51:23.351847",
     "status": "completed"
    },
    "tags": []
   },
   "outputs": [],
   "source": [
    "# drop columns\n",
    "df = df.drop(['id'], axis=1)\n",
    "df = df.drop(['Unnamed: 32'], axis=1)"
   ]
  },
  {
   "cell_type": "code",
   "execution_count": 7,
   "id": "80293464",
   "metadata": {
    "execution": {
     "iopub.execute_input": "2023-04-23T03:51:23.425064Z",
     "iopub.status.busy": "2023-04-23T03:51:23.424246Z",
     "iopub.status.idle": "2023-04-23T03:51:23.431122Z",
     "shell.execute_reply": "2023-04-23T03:51:23.429940Z"
    },
    "papermill": {
     "duration": 0.030723,
     "end_time": "2023-04-23T03:51:23.434039",
     "exception": false,
     "start_time": "2023-04-23T03:51:23.403316",
     "status": "completed"
    },
    "tags": []
   },
   "outputs": [
    {
     "name": "stdout",
     "output_type": "stream",
     "text": [
      "False\n"
     ]
    }
   ],
   "source": [
    "# Examine and replace missing values \n",
    "print(df.isnull().values.any())"
   ]
  },
  {
   "cell_type": "markdown",
   "id": "a65e4613",
   "metadata": {
    "papermill": {
     "duration": 0.019915,
     "end_time": "2023-04-23T03:51:23.473569",
     "exception": false,
     "start_time": "2023-04-23T03:51:23.453654",
     "status": "completed"
    },
    "tags": []
   },
   "source": [
    "**Note**: split the dataset into input features and labels."
   ]
  },
  {
   "cell_type": "code",
   "execution_count": 8,
   "id": "38951e7d",
   "metadata": {
    "execution": {
     "iopub.execute_input": "2023-04-23T03:51:23.516835Z",
     "iopub.status.busy": "2023-04-23T03:51:23.516370Z",
     "iopub.status.idle": "2023-04-23T03:51:23.522779Z",
     "shell.execute_reply": "2023-04-23T03:51:23.521844Z"
    },
    "papermill": {
     "duration": 0.031039,
     "end_time": "2023-04-23T03:51:23.524775",
     "exception": false,
     "start_time": "2023-04-23T03:51:23.493736",
     "status": "completed"
    },
    "tags": []
   },
   "outputs": [],
   "source": [
    "# convert character into numerical value for easily calculate the \n",
    "df['diagnosis'] = [1 if i == 'M' else 0 for i in df['diagnosis']]"
   ]
  },
  {
   "cell_type": "code",
   "execution_count": 9,
   "id": "8357d7d7",
   "metadata": {
    "execution": {
     "iopub.execute_input": "2023-04-23T03:51:23.567127Z",
     "iopub.status.busy": "2023-04-23T03:51:23.566725Z",
     "iopub.status.idle": "2023-04-23T03:51:23.595832Z",
     "shell.execute_reply": "2023-04-23T03:51:23.594915Z"
    },
    "papermill": {
     "duration": 0.052986,
     "end_time": "2023-04-23T03:51:23.597962",
     "exception": false,
     "start_time": "2023-04-23T03:51:23.544976",
     "status": "completed"
    },
    "tags": []
   },
   "outputs": [
    {
     "data": {
      "text/html": [
       "<div>\n",
       "<style scoped>\n",
       "    .dataframe tbody tr th:only-of-type {\n",
       "        vertical-align: middle;\n",
       "    }\n",
       "\n",
       "    .dataframe tbody tr th {\n",
       "        vertical-align: top;\n",
       "    }\n",
       "\n",
       "    .dataframe thead th {\n",
       "        text-align: right;\n",
       "    }\n",
       "</style>\n",
       "<table border=\"1\" class=\"dataframe\">\n",
       "  <thead>\n",
       "    <tr style=\"text-align: right;\">\n",
       "      <th></th>\n",
       "      <th>diagnosis</th>\n",
       "      <th>radius_mean</th>\n",
       "      <th>texture_mean</th>\n",
       "      <th>perimeter_mean</th>\n",
       "      <th>area_mean</th>\n",
       "      <th>smoothness_mean</th>\n",
       "      <th>compactness_mean</th>\n",
       "      <th>concavity_mean</th>\n",
       "      <th>concave points_mean</th>\n",
       "      <th>symmetry_mean</th>\n",
       "      <th>...</th>\n",
       "      <th>radius_worst</th>\n",
       "      <th>texture_worst</th>\n",
       "      <th>perimeter_worst</th>\n",
       "      <th>area_worst</th>\n",
       "      <th>smoothness_worst</th>\n",
       "      <th>compactness_worst</th>\n",
       "      <th>concavity_worst</th>\n",
       "      <th>concave points_worst</th>\n",
       "      <th>symmetry_worst</th>\n",
       "      <th>fractal_dimension_worst</th>\n",
       "    </tr>\n",
       "  </thead>\n",
       "  <tbody>\n",
       "    <tr>\n",
       "      <th>0</th>\n",
       "      <td>1</td>\n",
       "      <td>17.99</td>\n",
       "      <td>10.38</td>\n",
       "      <td>122.80</td>\n",
       "      <td>1001.0</td>\n",
       "      <td>0.11840</td>\n",
       "      <td>0.27760</td>\n",
       "      <td>0.3001</td>\n",
       "      <td>0.14710</td>\n",
       "      <td>0.2419</td>\n",
       "      <td>...</td>\n",
       "      <td>25.38</td>\n",
       "      <td>17.33</td>\n",
       "      <td>184.60</td>\n",
       "      <td>2019.0</td>\n",
       "      <td>0.1622</td>\n",
       "      <td>0.6656</td>\n",
       "      <td>0.7119</td>\n",
       "      <td>0.2654</td>\n",
       "      <td>0.4601</td>\n",
       "      <td>0.11890</td>\n",
       "    </tr>\n",
       "    <tr>\n",
       "      <th>1</th>\n",
       "      <td>1</td>\n",
       "      <td>20.57</td>\n",
       "      <td>17.77</td>\n",
       "      <td>132.90</td>\n",
       "      <td>1326.0</td>\n",
       "      <td>0.08474</td>\n",
       "      <td>0.07864</td>\n",
       "      <td>0.0869</td>\n",
       "      <td>0.07017</td>\n",
       "      <td>0.1812</td>\n",
       "      <td>...</td>\n",
       "      <td>24.99</td>\n",
       "      <td>23.41</td>\n",
       "      <td>158.80</td>\n",
       "      <td>1956.0</td>\n",
       "      <td>0.1238</td>\n",
       "      <td>0.1866</td>\n",
       "      <td>0.2416</td>\n",
       "      <td>0.1860</td>\n",
       "      <td>0.2750</td>\n",
       "      <td>0.08902</td>\n",
       "    </tr>\n",
       "    <tr>\n",
       "      <th>2</th>\n",
       "      <td>1</td>\n",
       "      <td>19.69</td>\n",
       "      <td>21.25</td>\n",
       "      <td>130.00</td>\n",
       "      <td>1203.0</td>\n",
       "      <td>0.10960</td>\n",
       "      <td>0.15990</td>\n",
       "      <td>0.1974</td>\n",
       "      <td>0.12790</td>\n",
       "      <td>0.2069</td>\n",
       "      <td>...</td>\n",
       "      <td>23.57</td>\n",
       "      <td>25.53</td>\n",
       "      <td>152.50</td>\n",
       "      <td>1709.0</td>\n",
       "      <td>0.1444</td>\n",
       "      <td>0.4245</td>\n",
       "      <td>0.4504</td>\n",
       "      <td>0.2430</td>\n",
       "      <td>0.3613</td>\n",
       "      <td>0.08758</td>\n",
       "    </tr>\n",
       "    <tr>\n",
       "      <th>3</th>\n",
       "      <td>1</td>\n",
       "      <td>11.42</td>\n",
       "      <td>20.38</td>\n",
       "      <td>77.58</td>\n",
       "      <td>386.1</td>\n",
       "      <td>0.14250</td>\n",
       "      <td>0.28390</td>\n",
       "      <td>0.2414</td>\n",
       "      <td>0.10520</td>\n",
       "      <td>0.2597</td>\n",
       "      <td>...</td>\n",
       "      <td>14.91</td>\n",
       "      <td>26.50</td>\n",
       "      <td>98.87</td>\n",
       "      <td>567.7</td>\n",
       "      <td>0.2098</td>\n",
       "      <td>0.8663</td>\n",
       "      <td>0.6869</td>\n",
       "      <td>0.2575</td>\n",
       "      <td>0.6638</td>\n",
       "      <td>0.17300</td>\n",
       "    </tr>\n",
       "    <tr>\n",
       "      <th>4</th>\n",
       "      <td>1</td>\n",
       "      <td>20.29</td>\n",
       "      <td>14.34</td>\n",
       "      <td>135.10</td>\n",
       "      <td>1297.0</td>\n",
       "      <td>0.10030</td>\n",
       "      <td>0.13280</td>\n",
       "      <td>0.1980</td>\n",
       "      <td>0.10430</td>\n",
       "      <td>0.1809</td>\n",
       "      <td>...</td>\n",
       "      <td>22.54</td>\n",
       "      <td>16.67</td>\n",
       "      <td>152.20</td>\n",
       "      <td>1575.0</td>\n",
       "      <td>0.1374</td>\n",
       "      <td>0.2050</td>\n",
       "      <td>0.4000</td>\n",
       "      <td>0.1625</td>\n",
       "      <td>0.2364</td>\n",
       "      <td>0.07678</td>\n",
       "    </tr>\n",
       "  </tbody>\n",
       "</table>\n",
       "<p>5 rows × 31 columns</p>\n",
       "</div>"
      ],
      "text/plain": [
       "   diagnosis  radius_mean  texture_mean  perimeter_mean  area_mean  \\\n",
       "0          1        17.99         10.38          122.80     1001.0   \n",
       "1          1        20.57         17.77          132.90     1326.0   \n",
       "2          1        19.69         21.25          130.00     1203.0   \n",
       "3          1        11.42         20.38           77.58      386.1   \n",
       "4          1        20.29         14.34          135.10     1297.0   \n",
       "\n",
       "   smoothness_mean  compactness_mean  concavity_mean  concave points_mean  \\\n",
       "0          0.11840           0.27760          0.3001              0.14710   \n",
       "1          0.08474           0.07864          0.0869              0.07017   \n",
       "2          0.10960           0.15990          0.1974              0.12790   \n",
       "3          0.14250           0.28390          0.2414              0.10520   \n",
       "4          0.10030           0.13280          0.1980              0.10430   \n",
       "\n",
       "   symmetry_mean  ...  radius_worst  texture_worst  perimeter_worst  \\\n",
       "0         0.2419  ...         25.38          17.33           184.60   \n",
       "1         0.1812  ...         24.99          23.41           158.80   \n",
       "2         0.2069  ...         23.57          25.53           152.50   \n",
       "3         0.2597  ...         14.91          26.50            98.87   \n",
       "4         0.1809  ...         22.54          16.67           152.20   \n",
       "\n",
       "   area_worst  smoothness_worst  compactness_worst  concavity_worst  \\\n",
       "0      2019.0            0.1622             0.6656           0.7119   \n",
       "1      1956.0            0.1238             0.1866           0.2416   \n",
       "2      1709.0            0.1444             0.4245           0.4504   \n",
       "3       567.7            0.2098             0.8663           0.6869   \n",
       "4      1575.0            0.1374             0.2050           0.4000   \n",
       "\n",
       "   concave points_worst  symmetry_worst  fractal_dimension_worst  \n",
       "0                0.2654          0.4601                  0.11890  \n",
       "1                0.1860          0.2750                  0.08902  \n",
       "2                0.2430          0.3613                  0.08758  \n",
       "3                0.2575          0.6638                  0.17300  \n",
       "4                0.1625          0.2364                  0.07678  \n",
       "\n",
       "[5 rows x 31 columns]"
      ]
     },
     "execution_count": 9,
     "metadata": {},
     "output_type": "execute_result"
    }
   ],
   "source": [
    "df.head()"
   ]
  },
  {
   "cell_type": "code",
   "execution_count": 10,
   "id": "e4092213",
   "metadata": {
    "execution": {
     "iopub.execute_input": "2023-04-23T03:51:23.642276Z",
     "iopub.status.busy": "2023-04-23T03:51:23.641191Z",
     "iopub.status.idle": "2023-04-23T03:51:23.648411Z",
     "shell.execute_reply": "2023-04-23T03:51:23.647344Z"
    },
    "papermill": {
     "duration": 0.032235,
     "end_time": "2023-04-23T03:51:23.651112",
     "exception": false,
     "start_time": "2023-04-23T03:51:23.618877",
     "status": "completed"
    },
    "tags": []
   },
   "outputs": [],
   "source": [
    "# split the dataset into input features and target label\n",
    "X = df.drop([\"diagnosis\"], axis=1)\n",
    "y = df['diagnosis'].to_numpy().reshape(-1, 1)"
   ]
  },
  {
   "cell_type": "code",
   "execution_count": 11,
   "id": "60b6a05e",
   "metadata": {
    "execution": {
     "iopub.execute_input": "2023-04-23T03:51:23.694589Z",
     "iopub.status.busy": "2023-04-23T03:51:23.694129Z",
     "iopub.status.idle": "2023-04-23T03:51:23.700014Z",
     "shell.execute_reply": "2023-04-23T03:51:23.698824Z"
    },
    "papermill": {
     "duration": 0.031289,
     "end_time": "2023-04-23T03:51:23.702953",
     "exception": false,
     "start_time": "2023-04-23T03:51:23.671664",
     "status": "completed"
    },
    "tags": []
   },
   "outputs": [
    {
     "name": "stdout",
     "output_type": "stream",
     "text": [
      "(569, 30)\n",
      "(569, 1)\n"
     ]
    }
   ],
   "source": [
    "# check shapes\n",
    "print(X.shape)\n",
    "print(y.shape)"
   ]
  },
  {
   "cell_type": "code",
   "execution_count": 12,
   "id": "132096ed",
   "metadata": {
    "execution": {
     "iopub.execute_input": "2023-04-23T03:51:23.745826Z",
     "iopub.status.busy": "2023-04-23T03:51:23.745385Z",
     "iopub.status.idle": "2023-04-23T03:51:23.756906Z",
     "shell.execute_reply": "2023-04-23T03:51:23.755892Z"
    },
    "papermill": {
     "duration": 0.035824,
     "end_time": "2023-04-23T03:51:23.759363",
     "exception": false,
     "start_time": "2023-04-23T03:51:23.723539",
     "status": "completed"
    },
    "tags": []
   },
   "outputs": [],
   "source": [
    "# data normalization\n",
    "X_scaler = preprocessing.MinMaxScaler(feature_range=(-1,1))\n",
    "X = X_scaler.fit_transform(X)\n",
    "\n",
    "y_scaler = preprocessing.MinMaxScaler(feature_range=(-1,1))\n",
    "y = y_scaler.fit_transform(y)"
   ]
  },
  {
   "cell_type": "code",
   "execution_count": 13,
   "id": "1cc166cb",
   "metadata": {
    "execution": {
     "iopub.execute_input": "2023-04-23T03:51:23.802150Z",
     "iopub.status.busy": "2023-04-23T03:51:23.801764Z",
     "iopub.status.idle": "2023-04-23T03:51:23.808655Z",
     "shell.execute_reply": "2023-04-23T03:51:23.807353Z"
    },
    "papermill": {
     "duration": 0.031069,
     "end_time": "2023-04-23T03:51:23.811039",
     "exception": false,
     "start_time": "2023-04-23T03:51:23.779970",
     "status": "completed"
    },
    "tags": []
   },
   "outputs": [],
   "source": [
    "# partition into training/test/validation \n",
    "X_train, X_test, y_train, y_test = train_test_split(X, y, test_size=0.3, random_state=0)"
   ]
  },
  {
   "cell_type": "markdown",
   "id": "567f30fa",
   "metadata": {
    "papermill": {
     "duration": 0.0197,
     "end_time": "2023-04-23T03:51:23.851496",
     "exception": false,
     "start_time": "2023-04-23T03:51:23.831796",
     "status": "completed"
    },
    "tags": []
   },
   "source": [
    "# 2. Gaussian Naive Bayes On Original Dataset"
   ]
  },
  {
   "cell_type": "markdown",
   "id": "ef9d6f21",
   "metadata": {
    "papermill": {
     "duration": 0.019772,
     "end_time": "2023-04-23T03:51:23.891309",
     "exception": false,
     "start_time": "2023-04-23T03:51:23.871537",
     "status": "completed"
    },
    "tags": []
   },
   "source": [
    "## 2.1. Create Model"
   ]
  },
  {
   "cell_type": "code",
   "execution_count": 14,
   "id": "44537569",
   "metadata": {
    "execution": {
     "iopub.execute_input": "2023-04-23T03:51:23.933164Z",
     "iopub.status.busy": "2023-04-23T03:51:23.932778Z",
     "iopub.status.idle": "2023-04-23T03:51:23.937399Z",
     "shell.execute_reply": "2023-04-23T03:51:23.936331Z"
    },
    "papermill": {
     "duration": 0.028665,
     "end_time": "2023-04-23T03:51:23.940057",
     "exception": false,
     "start_time": "2023-04-23T03:51:23.911392",
     "status": "completed"
    },
    "tags": []
   },
   "outputs": [],
   "source": [
    "# create model\n",
    "gnb1 = GaussianNB()"
   ]
  },
  {
   "cell_type": "markdown",
   "id": "24331763",
   "metadata": {
    "papermill": {
     "duration": 0.020062,
     "end_time": "2023-04-23T03:51:23.980722",
     "exception": false,
     "start_time": "2023-04-23T03:51:23.960660",
     "status": "completed"
    },
    "tags": []
   },
   "source": [
    "## 2.2. Train Model"
   ]
  },
  {
   "cell_type": "code",
   "execution_count": 15,
   "id": "cadc0e89",
   "metadata": {
    "execution": {
     "iopub.execute_input": "2023-04-23T03:51:24.024830Z",
     "iopub.status.busy": "2023-04-23T03:51:24.024424Z",
     "iopub.status.idle": "2023-04-23T03:51:24.036526Z",
     "shell.execute_reply": "2023-04-23T03:51:24.035473Z"
    },
    "papermill": {
     "duration": 0.036872,
     "end_time": "2023-04-23T03:51:24.038676",
     "exception": false,
     "start_time": "2023-04-23T03:51:24.001804",
     "status": "completed"
    },
    "tags": []
   },
   "outputs": [
    {
     "name": "stderr",
     "output_type": "stream",
     "text": [
      "/opt/conda/lib/python3.7/site-packages/sklearn/utils/validation.py:993: DataConversionWarning: A column-vector y was passed when a 1d array was expected. Please change the shape of y to (n_samples, ), for example using ravel().\n",
      "  y = column_or_1d(y, warn=True)\n"
     ]
    },
    {
     "data": {
      "text/plain": [
       "GaussianNB()"
      ]
     },
     "execution_count": 15,
     "metadata": {},
     "output_type": "execute_result"
    }
   ],
   "source": [
    "# train model on training dataset\n",
    "gnb1.fit(X_train, y_train)"
   ]
  },
  {
   "cell_type": "markdown",
   "id": "590c30d5",
   "metadata": {
    "papermill": {
     "duration": 0.020145,
     "end_time": "2023-04-23T03:51:24.079257",
     "exception": false,
     "start_time": "2023-04-23T03:51:24.059112",
     "status": "completed"
    },
    "tags": []
   },
   "source": [
    " as there are many features, I only choose the radius and texture mean column so that we can, later on, ## 2.3. Test Model"
   ]
  },
  {
   "cell_type": "code",
   "execution_count": 16,
   "id": "6c0b56d7",
   "metadata": {
    "execution": {
     "iopub.execute_input": "2023-04-23T03:51:24.122479Z",
     "iopub.status.busy": "2023-04-23T03:51:24.122057Z",
     "iopub.status.idle": "2023-04-23T03:51:24.144924Z",
     "shell.execute_reply": "2023-04-23T03:51:24.143413Z"
    },
    "papermill": {
     "duration": 0.047282,
     "end_time": "2023-04-23T03:51:24.147070",
     "exception": false,
     "start_time": "2023-04-23T03:51:24.099788",
     "status": "completed"
    },
    "tags": []
   },
   "outputs": [
    {
     "name": "stdout",
     "output_type": "stream",
     "text": [
      "Training MSE = 0.231156\n",
      "Validating MSE = 0.350877\n",
      "F1 Score = 0.883721\n",
      "Precision Score = 0.863636\n",
      "Recall Score = 0.904762\n",
      "ROC-AUC Score = 0.910714\n",
      "\n",
      "-----------------------------\n",
      "SUBMIT\n",
      "-----------------------------\n",
      "Accuracy = 0.912281\n",
      "Confusion Matrix = \n",
      "[[99  9]\n",
      " [ 6 57]]\n",
      "True Negative: 99\n",
      "False Positive: 9\n",
      "False Negative: 6\n",
      "True Positive: 57\n"
     ]
    }
   ],
   "source": [
    "# predict on validate set\n",
    "y_test_pred = gnb1.predict(X_test)\n",
    "\n",
    "# predict on train set\n",
    "y_train_pred = gnb1.predict(X_train)\n",
    "\n",
    "accuracy = metrics.accuracy_score(y_test, y_test_pred)\n",
    "f1 = metrics.f1_score(y_test, y_test_pred)\n",
    "prec = metrics.precision_score(y_test, y_test_pred)\n",
    "recall = metrics.recall_score(y_test, y_test_pred)\n",
    "roc_auc = metrics.roc_auc_score(y_test, y_test_pred)\n",
    "cm = metrics.confusion_matrix(y_test.squeeze(), y_test_pred.squeeze())\n",
    "tn, fp, fn, tp = metrics.confusion_matrix(y_test.squeeze(), y_test_pred.squeeze()).ravel()\n",
    "\n",
    "print(\"Training MSE = %f\" % metrics.mean_squared_error(y_train, y_train_pred))\n",
    "print(\"Validating MSE = %f\" % metrics.mean_squared_error(y_test, y_test_pred))\n",
    "print('F1 Score = %f' % (f1))\n",
    "print('Precision Score = %f' % (prec))\n",
    "print('Recall Score = %f' % (recall))\n",
    "print('ROC-AUC Score = %f' % (roc_auc))\n",
    "print('\\n-----------------------------')\n",
    "print('SUBMIT')\n",
    "print('-----------------------------')\n",
    "print('Accuracy = %f' % (accuracy))\n",
    "print(f'Confusion Matrix = \\n{cm}')\n",
    "print(f'True Negative: {tn}')\n",
    "print(f'False Positive: {fp}')\n",
    "print(f'False Negative: {fn}')\n",
    "print(f'True Positive: {tp}')"
   ]
  },
  {
   "cell_type": "markdown",
   "id": "2a68bee5",
   "metadata": {
    "papermill": {
     "duration": 0.020491,
     "end_time": "2023-04-23T03:51:24.188404",
     "exception": false,
     "start_time": "2023-04-23T03:51:24.167913",
     "status": "completed"
    },
    "tags": []
   },
   "source": [
    "# 3. Gaussian Naive Bayes On Noisy Dataset"
   ]
  },
  {
   "cell_type": "markdown",
   "id": "46d96abe",
   "metadata": {
    "papermill": {
     "duration": 0.020846,
     "end_time": "2023-04-23T03:51:24.229965",
     "exception": false,
     "start_time": "2023-04-23T03:51:24.209119",
     "status": "completed"
    },
    "tags": []
   },
   "source": [
    "## 3.1. Data Processing"
   ]
  },
  {
   "cell_type": "code",
   "execution_count": 17,
   "id": "0da507d8",
   "metadata": {
    "execution": {
     "iopub.execute_input": "2023-04-23T03:51:24.273945Z",
     "iopub.status.busy": "2023-04-23T03:51:24.273493Z",
     "iopub.status.idle": "2023-04-23T03:51:24.308831Z",
     "shell.execute_reply": "2023-04-23T03:51:24.307552Z"
    },
    "papermill": {
     "duration": 0.060431,
     "end_time": "2023-04-23T03:51:24.311443",
     "exception": false,
     "start_time": "2023-04-23T03:51:24.251012",
     "status": "completed"
    },
    "tags": []
   },
   "outputs": [
    {
     "data": {
      "text/html": [
       "<div>\n",
       "<style scoped>\n",
       "    .dataframe tbody tr th:only-of-type {\n",
       "        vertical-align: middle;\n",
       "    }\n",
       "\n",
       "    .dataframe tbody tr th {\n",
       "        vertical-align: top;\n",
       "    }\n",
       "\n",
       "    .dataframe thead th {\n",
       "        text-align: right;\n",
       "    }\n",
       "</style>\n",
       "<table border=\"1\" class=\"dataframe\">\n",
       "  <thead>\n",
       "    <tr style=\"text-align: right;\">\n",
       "      <th></th>\n",
       "      <th>id</th>\n",
       "      <th>diagnosis</th>\n",
       "      <th>radius_mean</th>\n",
       "      <th>texture_mean</th>\n",
       "      <th>perimeter_mean</th>\n",
       "      <th>area_mean</th>\n",
       "      <th>smoothness_mean</th>\n",
       "      <th>compactness_mean</th>\n",
       "      <th>concavity_mean</th>\n",
       "      <th>concave points_mean</th>\n",
       "      <th>...</th>\n",
       "      <th>texture_worst</th>\n",
       "      <th>perimeter_worst</th>\n",
       "      <th>area_worst</th>\n",
       "      <th>smoothness_worst</th>\n",
       "      <th>compactness_worst</th>\n",
       "      <th>concavity_worst</th>\n",
       "      <th>concave points_worst</th>\n",
       "      <th>symmetry_worst</th>\n",
       "      <th>fractal_dimension_worst</th>\n",
       "      <th>Unnamed: 32</th>\n",
       "    </tr>\n",
       "  </thead>\n",
       "  <tbody>\n",
       "    <tr>\n",
       "      <th>0</th>\n",
       "      <td>842302</td>\n",
       "      <td>M</td>\n",
       "      <td>17.99</td>\n",
       "      <td>10.38</td>\n",
       "      <td>122.80</td>\n",
       "      <td>1001.0</td>\n",
       "      <td>0.11840</td>\n",
       "      <td>0.27760</td>\n",
       "      <td>0.3001</td>\n",
       "      <td>0.14710</td>\n",
       "      <td>...</td>\n",
       "      <td>17.33</td>\n",
       "      <td>184.60</td>\n",
       "      <td>2019.0</td>\n",
       "      <td>0.1622</td>\n",
       "      <td>0.6656</td>\n",
       "      <td>0.7119</td>\n",
       "      <td>0.2654</td>\n",
       "      <td>0.4601</td>\n",
       "      <td>0.11890</td>\n",
       "      <td>NaN</td>\n",
       "    </tr>\n",
       "    <tr>\n",
       "      <th>1</th>\n",
       "      <td>842517</td>\n",
       "      <td>M</td>\n",
       "      <td>20.57</td>\n",
       "      <td>17.77</td>\n",
       "      <td>132.90</td>\n",
       "      <td>1326.0</td>\n",
       "      <td>0.08474</td>\n",
       "      <td>0.07864</td>\n",
       "      <td>0.0869</td>\n",
       "      <td>0.07017</td>\n",
       "      <td>...</td>\n",
       "      <td>23.41</td>\n",
       "      <td>158.80</td>\n",
       "      <td>1956.0</td>\n",
       "      <td>0.1238</td>\n",
       "      <td>0.1866</td>\n",
       "      <td>0.2416</td>\n",
       "      <td>0.1860</td>\n",
       "      <td>0.2750</td>\n",
       "      <td>0.08902</td>\n",
       "      <td>NaN</td>\n",
       "    </tr>\n",
       "    <tr>\n",
       "      <th>2</th>\n",
       "      <td>84300903</td>\n",
       "      <td>M</td>\n",
       "      <td>19.69</td>\n",
       "      <td>21.25</td>\n",
       "      <td>130.00</td>\n",
       "      <td>1203.0</td>\n",
       "      <td>0.10960</td>\n",
       "      <td>0.15990</td>\n",
       "      <td>0.1974</td>\n",
       "      <td>0.12790</td>\n",
       "      <td>...</td>\n",
       "      <td>25.53</td>\n",
       "      <td>152.50</td>\n",
       "      <td>1709.0</td>\n",
       "      <td>0.1444</td>\n",
       "      <td>0.4245</td>\n",
       "      <td>0.4504</td>\n",
       "      <td>0.2430</td>\n",
       "      <td>0.3613</td>\n",
       "      <td>0.08758</td>\n",
       "      <td>NaN</td>\n",
       "    </tr>\n",
       "    <tr>\n",
       "      <th>3</th>\n",
       "      <td>84348301</td>\n",
       "      <td>M</td>\n",
       "      <td>11.42</td>\n",
       "      <td>20.38</td>\n",
       "      <td>77.58</td>\n",
       "      <td>386.1</td>\n",
       "      <td>0.14250</td>\n",
       "      <td>0.28390</td>\n",
       "      <td>0.2414</td>\n",
       "      <td>0.10520</td>\n",
       "      <td>...</td>\n",
       "      <td>26.50</td>\n",
       "      <td>98.87</td>\n",
       "      <td>567.7</td>\n",
       "      <td>0.2098</td>\n",
       "      <td>0.8663</td>\n",
       "      <td>0.6869</td>\n",
       "      <td>0.2575</td>\n",
       "      <td>0.6638</td>\n",
       "      <td>0.17300</td>\n",
       "      <td>NaN</td>\n",
       "    </tr>\n",
       "    <tr>\n",
       "      <th>4</th>\n",
       "      <td>84358402</td>\n",
       "      <td>M</td>\n",
       "      <td>20.29</td>\n",
       "      <td>14.34</td>\n",
       "      <td>135.10</td>\n",
       "      <td>1297.0</td>\n",
       "      <td>0.10030</td>\n",
       "      <td>0.13280</td>\n",
       "      <td>0.1980</td>\n",
       "      <td>0.10430</td>\n",
       "      <td>...</td>\n",
       "      <td>16.67</td>\n",
       "      <td>152.20</td>\n",
       "      <td>1575.0</td>\n",
       "      <td>0.1374</td>\n",
       "      <td>0.2050</td>\n",
       "      <td>0.4000</td>\n",
       "      <td>0.1625</td>\n",
       "      <td>0.2364</td>\n",
       "      <td>0.07678</td>\n",
       "      <td>NaN</td>\n",
       "    </tr>\n",
       "  </tbody>\n",
       "</table>\n",
       "<p>5 rows × 33 columns</p>\n",
       "</div>"
      ],
      "text/plain": [
       "         id diagnosis  radius_mean  texture_mean  perimeter_mean  area_mean  \\\n",
       "0    842302         M        17.99         10.38          122.80     1001.0   \n",
       "1    842517         M        20.57         17.77          132.90     1326.0   \n",
       "2  84300903         M        19.69         21.25          130.00     1203.0   \n",
       "3  84348301         M        11.42         20.38           77.58      386.1   \n",
       "4  84358402         M        20.29         14.34          135.10     1297.0   \n",
       "\n",
       "   smoothness_mean  compactness_mean  concavity_mean  concave points_mean  \\\n",
       "0          0.11840           0.27760          0.3001              0.14710   \n",
       "1          0.08474           0.07864          0.0869              0.07017   \n",
       "2          0.10960           0.15990          0.1974              0.12790   \n",
       "3          0.14250           0.28390          0.2414              0.10520   \n",
       "4          0.10030           0.13280          0.1980              0.10430   \n",
       "\n",
       "   ...  texture_worst  perimeter_worst  area_worst  smoothness_worst  \\\n",
       "0  ...          17.33           184.60      2019.0            0.1622   \n",
       "1  ...          23.41           158.80      1956.0            0.1238   \n",
       "2  ...          25.53           152.50      1709.0            0.1444   \n",
       "3  ...          26.50            98.87       567.7            0.2098   \n",
       "4  ...          16.67           152.20      1575.0            0.1374   \n",
       "\n",
       "   compactness_worst  concavity_worst  concave points_worst  symmetry_worst  \\\n",
       "0             0.6656           0.7119                0.2654          0.4601   \n",
       "1             0.1866           0.2416                0.1860          0.2750   \n",
       "2             0.4245           0.4504                0.2430          0.3613   \n",
       "3             0.8663           0.6869                0.2575          0.6638   \n",
       "4             0.2050           0.4000                0.1625          0.2364   \n",
       "\n",
       "   fractal_dimension_worst  Unnamed: 32  \n",
       "0                  0.11890          NaN  \n",
       "1                  0.08902          NaN  \n",
       "2                  0.08758          NaN  \n",
       "3                  0.17300          NaN  \n",
       "4                  0.07678          NaN  \n",
       "\n",
       "[5 rows x 33 columns]"
      ]
     },
     "execution_count": 17,
     "metadata": {},
     "output_type": "execute_result"
    }
   ],
   "source": [
    "# re-import dataset\n",
    "df = pd.read_csv(\"/kaggle/input/breast-cancer-wisconsin-data/data.csv\")\n",
    "df.head()"
   ]
  },
  {
   "cell_type": "code",
   "execution_count": 18,
   "id": "c8302cf7",
   "metadata": {
    "execution": {
     "iopub.execute_input": "2023-04-23T03:51:24.355599Z",
     "iopub.status.busy": "2023-04-23T03:51:24.355166Z",
     "iopub.status.idle": "2023-04-23T03:51:24.362873Z",
     "shell.execute_reply": "2023-04-23T03:51:24.361673Z"
    },
    "papermill": {
     "duration": 0.032221,
     "end_time": "2023-04-23T03:51:24.364949",
     "exception": false,
     "start_time": "2023-04-23T03:51:24.332728",
     "status": "completed"
    },
    "tags": []
   },
   "outputs": [],
   "source": [
    "# drop columns\n",
    "df = df.drop(['id'], axis=1)\n",
    "df = df.drop(['Unnamed: 32'], axis=1)"
   ]
  },
  {
   "cell_type": "code",
   "execution_count": 19,
   "id": "e35004f1",
   "metadata": {
    "execution": {
     "iopub.execute_input": "2023-04-23T03:51:24.408411Z",
     "iopub.status.busy": "2023-04-23T03:51:24.407995Z",
     "iopub.status.idle": "2023-04-23T03:51:24.414779Z",
     "shell.execute_reply": "2023-04-23T03:51:24.413348Z"
    },
    "papermill": {
     "duration": 0.03084,
     "end_time": "2023-04-23T03:51:24.416901",
     "exception": false,
     "start_time": "2023-04-23T03:51:24.386061",
     "status": "completed"
    },
    "tags": []
   },
   "outputs": [],
   "source": [
    "# convert character into numerical value for easily calculate the \n",
    "df['diagnosis'] = [1 if i == 'M' else 0 for i in df['diagnosis']]"
   ]
  },
  {
   "cell_type": "code",
   "execution_count": 20,
   "id": "dbd3a829",
   "metadata": {
    "execution": {
     "iopub.execute_input": "2023-04-23T03:51:24.462477Z",
     "iopub.status.busy": "2023-04-23T03:51:24.461334Z",
     "iopub.status.idle": "2023-04-23T03:51:24.468495Z",
     "shell.execute_reply": "2023-04-23T03:51:24.467257Z"
    },
    "papermill": {
     "duration": 0.032604,
     "end_time": "2023-04-23T03:51:24.470976",
     "exception": false,
     "start_time": "2023-04-23T03:51:24.438372",
     "status": "completed"
    },
    "tags": []
   },
   "outputs": [],
   "source": [
    "# split the dataset into input features and target label\n",
    "X = df.drop([\"diagnosis\"], axis=1)\n",
    "y = df['diagnosis'].to_numpy().reshape(-1, 1)"
   ]
  },
  {
   "cell_type": "code",
   "execution_count": 21,
   "id": "7a86d1cb",
   "metadata": {
    "execution": {
     "iopub.execute_input": "2023-04-23T03:51:24.514954Z",
     "iopub.status.busy": "2023-04-23T03:51:24.514538Z",
     "iopub.status.idle": "2023-04-23T03:51:24.521070Z",
     "shell.execute_reply": "2023-04-23T03:51:24.519729Z"
    },
    "papermill": {
     "duration": 0.0314,
     "end_time": "2023-04-23T03:51:24.523251",
     "exception": false,
     "start_time": "2023-04-23T03:51:24.491851",
     "status": "completed"
    },
    "tags": []
   },
   "outputs": [
    {
     "name": "stdout",
     "output_type": "stream",
     "text": [
      "(569, 30)\n",
      "(569, 1)\n"
     ]
    }
   ],
   "source": [
    "# check shapes\n",
    "print(X.shape)\n",
    "print(y.shape)"
   ]
  },
  {
   "cell_type": "code",
   "execution_count": 22,
   "id": "677c6f2f",
   "metadata": {
    "execution": {
     "iopub.execute_input": "2023-04-23T03:51:24.566958Z",
     "iopub.status.busy": "2023-04-23T03:51:24.566546Z",
     "iopub.status.idle": "2023-04-23T03:51:24.596205Z",
     "shell.execute_reply": "2023-04-23T03:51:24.594767Z"
    },
    "papermill": {
     "duration": 0.054567,
     "end_time": "2023-04-23T03:51:24.598742",
     "exception": false,
     "start_time": "2023-04-23T03:51:24.544175",
     "status": "completed"
    },
    "tags": []
   },
   "outputs": [
    {
     "data": {
      "text/html": [
       "<div>\n",
       "<style scoped>\n",
       "    .dataframe tbody tr th:only-of-type {\n",
       "        vertical-align: middle;\n",
       "    }\n",
       "\n",
       "    .dataframe tbody tr th {\n",
       "        vertical-align: top;\n",
       "    }\n",
       "\n",
       "    .dataframe thead th {\n",
       "        text-align: right;\n",
       "    }\n",
       "</style>\n",
       "<table border=\"1\" class=\"dataframe\">\n",
       "  <thead>\n",
       "    <tr style=\"text-align: right;\">\n",
       "      <th></th>\n",
       "      <th>radius_mean</th>\n",
       "      <th>texture_mean</th>\n",
       "      <th>perimeter_mean</th>\n",
       "      <th>area_mean</th>\n",
       "      <th>smoothness_mean</th>\n",
       "      <th>compactness_mean</th>\n",
       "      <th>concavity_mean</th>\n",
       "      <th>concave points_mean</th>\n",
       "      <th>symmetry_mean</th>\n",
       "      <th>fractal_dimension_mean</th>\n",
       "      <th>...</th>\n",
       "      <th>radius_worst</th>\n",
       "      <th>texture_worst</th>\n",
       "      <th>perimeter_worst</th>\n",
       "      <th>area_worst</th>\n",
       "      <th>smoothness_worst</th>\n",
       "      <th>compactness_worst</th>\n",
       "      <th>concavity_worst</th>\n",
       "      <th>concave points_worst</th>\n",
       "      <th>symmetry_worst</th>\n",
       "      <th>fractal_dimension_worst</th>\n",
       "    </tr>\n",
       "  </thead>\n",
       "  <tbody>\n",
       "    <tr>\n",
       "      <th>0</th>\n",
       "      <td>17.99</td>\n",
       "      <td>10.38</td>\n",
       "      <td>122.80</td>\n",
       "      <td>1001.0</td>\n",
       "      <td>0.11840</td>\n",
       "      <td>0.27760</td>\n",
       "      <td>0.3001</td>\n",
       "      <td>0.14710</td>\n",
       "      <td>0.2419</td>\n",
       "      <td>0.07871</td>\n",
       "      <td>...</td>\n",
       "      <td>25.38</td>\n",
       "      <td>17.33</td>\n",
       "      <td>184.60</td>\n",
       "      <td>2019.0</td>\n",
       "      <td>0.1622</td>\n",
       "      <td>0.6656</td>\n",
       "      <td>0.7119</td>\n",
       "      <td>0.2654</td>\n",
       "      <td>0.4601</td>\n",
       "      <td>0.11890</td>\n",
       "    </tr>\n",
       "    <tr>\n",
       "      <th>1</th>\n",
       "      <td>20.57</td>\n",
       "      <td>17.77</td>\n",
       "      <td>132.90</td>\n",
       "      <td>1326.0</td>\n",
       "      <td>0.08474</td>\n",
       "      <td>0.07864</td>\n",
       "      <td>0.0869</td>\n",
       "      <td>0.07017</td>\n",
       "      <td>0.1812</td>\n",
       "      <td>0.05667</td>\n",
       "      <td>...</td>\n",
       "      <td>24.99</td>\n",
       "      <td>23.41</td>\n",
       "      <td>158.80</td>\n",
       "      <td>1956.0</td>\n",
       "      <td>0.1238</td>\n",
       "      <td>0.1866</td>\n",
       "      <td>0.2416</td>\n",
       "      <td>0.1860</td>\n",
       "      <td>0.2750</td>\n",
       "      <td>0.08902</td>\n",
       "    </tr>\n",
       "    <tr>\n",
       "      <th>2</th>\n",
       "      <td>19.69</td>\n",
       "      <td>21.25</td>\n",
       "      <td>130.00</td>\n",
       "      <td>1203.0</td>\n",
       "      <td>0.10960</td>\n",
       "      <td>0.15990</td>\n",
       "      <td>0.1974</td>\n",
       "      <td>0.12790</td>\n",
       "      <td>0.2069</td>\n",
       "      <td>0.05999</td>\n",
       "      <td>...</td>\n",
       "      <td>23.57</td>\n",
       "      <td>25.53</td>\n",
       "      <td>152.50</td>\n",
       "      <td>1709.0</td>\n",
       "      <td>0.1444</td>\n",
       "      <td>0.4245</td>\n",
       "      <td>0.4504</td>\n",
       "      <td>0.2430</td>\n",
       "      <td>0.3613</td>\n",
       "      <td>0.08758</td>\n",
       "    </tr>\n",
       "    <tr>\n",
       "      <th>3</th>\n",
       "      <td>11.42</td>\n",
       "      <td>20.38</td>\n",
       "      <td>77.58</td>\n",
       "      <td>386.1</td>\n",
       "      <td>0.14250</td>\n",
       "      <td>0.28390</td>\n",
       "      <td>0.2414</td>\n",
       "      <td>0.10520</td>\n",
       "      <td>0.2597</td>\n",
       "      <td>0.09744</td>\n",
       "      <td>...</td>\n",
       "      <td>14.91</td>\n",
       "      <td>26.50</td>\n",
       "      <td>98.87</td>\n",
       "      <td>567.7</td>\n",
       "      <td>0.2098</td>\n",
       "      <td>0.8663</td>\n",
       "      <td>0.6869</td>\n",
       "      <td>0.2575</td>\n",
       "      <td>0.6638</td>\n",
       "      <td>0.17300</td>\n",
       "    </tr>\n",
       "    <tr>\n",
       "      <th>4</th>\n",
       "      <td>20.29</td>\n",
       "      <td>14.34</td>\n",
       "      <td>135.10</td>\n",
       "      <td>1297.0</td>\n",
       "      <td>0.10030</td>\n",
       "      <td>0.13280</td>\n",
       "      <td>0.1980</td>\n",
       "      <td>0.10430</td>\n",
       "      <td>0.1809</td>\n",
       "      <td>0.05883</td>\n",
       "      <td>...</td>\n",
       "      <td>22.54</td>\n",
       "      <td>16.67</td>\n",
       "      <td>152.20</td>\n",
       "      <td>1575.0</td>\n",
       "      <td>0.1374</td>\n",
       "      <td>0.2050</td>\n",
       "      <td>0.4000</td>\n",
       "      <td>0.1625</td>\n",
       "      <td>0.2364</td>\n",
       "      <td>0.07678</td>\n",
       "    </tr>\n",
       "  </tbody>\n",
       "</table>\n",
       "<p>5 rows × 30 columns</p>\n",
       "</div>"
      ],
      "text/plain": [
       "   radius_mean  texture_mean  perimeter_mean  area_mean  smoothness_mean  \\\n",
       "0        17.99         10.38          122.80     1001.0          0.11840   \n",
       "1        20.57         17.77          132.90     1326.0          0.08474   \n",
       "2        19.69         21.25          130.00     1203.0          0.10960   \n",
       "3        11.42         20.38           77.58      386.1          0.14250   \n",
       "4        20.29         14.34          135.10     1297.0          0.10030   \n",
       "\n",
       "   compactness_mean  concavity_mean  concave points_mean  symmetry_mean  \\\n",
       "0           0.27760          0.3001              0.14710         0.2419   \n",
       "1           0.07864          0.0869              0.07017         0.1812   \n",
       "2           0.15990          0.1974              0.12790         0.2069   \n",
       "3           0.28390          0.2414              0.10520         0.2597   \n",
       "4           0.13280          0.1980              0.10430         0.1809   \n",
       "\n",
       "   fractal_dimension_mean  ...  radius_worst  texture_worst  perimeter_worst  \\\n",
       "0                 0.07871  ...         25.38          17.33           184.60   \n",
       "1                 0.05667  ...         24.99          23.41           158.80   \n",
       "2                 0.05999  ...         23.57          25.53           152.50   \n",
       "3                 0.09744  ...         14.91          26.50            98.87   \n",
       "4                 0.05883  ...         22.54          16.67           152.20   \n",
       "\n",
       "   area_worst  smoothness_worst  compactness_worst  concavity_worst  \\\n",
       "0      2019.0            0.1622             0.6656           0.7119   \n",
       "1      1956.0            0.1238             0.1866           0.2416   \n",
       "2      1709.0            0.1444             0.4245           0.4504   \n",
       "3       567.7            0.2098             0.8663           0.6869   \n",
       "4      1575.0            0.1374             0.2050           0.4000   \n",
       "\n",
       "   concave points_worst  symmetry_worst  fractal_dimension_worst  \n",
       "0                0.2654          0.4601                  0.11890  \n",
       "1                0.1860          0.2750                  0.08902  \n",
       "2                0.2430          0.3613                  0.08758  \n",
       "3                0.2575          0.6638                  0.17300  \n",
       "4                0.1625          0.2364                  0.07678  \n",
       "\n",
       "[5 rows x 30 columns]"
      ]
     },
     "execution_count": 22,
     "metadata": {},
     "output_type": "execute_result"
    }
   ],
   "source": [
    "X.head()"
   ]
  },
  {
   "cell_type": "code",
   "execution_count": 23,
   "id": "971a6240",
   "metadata": {
    "execution": {
     "iopub.execute_input": "2023-04-23T03:51:24.644782Z",
     "iopub.status.busy": "2023-04-23T03:51:24.643591Z",
     "iopub.status.idle": "2023-04-23T03:51:24.661411Z",
     "shell.execute_reply": "2023-04-23T03:51:24.660393Z"
    },
    "papermill": {
     "duration": 0.043205,
     "end_time": "2023-04-23T03:51:24.664089",
     "exception": false,
     "start_time": "2023-04-23T03:51:24.620884",
     "status": "completed"
    },
    "tags": []
   },
   "outputs": [],
   "source": [
    "# create noisy Gaussian-distributed noisy data with same matrix size\n",
    "# Reference: https://stackoverflow.com/questions/46093073/adding-gaussian-noise-to-a-dataset-of-floating-points-and-save-it-python\n",
    "\n",
    "# zero-mean noise with variance 50\n",
    "noise_1 = np.random.normal(loc=0, scale=math.sqrt(50), size=[569, 30]) \n",
    "noise_1_scaler = preprocessing.MinMaxScaler(feature_range=(-1,1))\n",
    "noise_1 = noise_1_scaler.fit_transform(noise_1)\n",
    "\n",
    "# zero-mean noise with variance 100\n",
    "noise_2 = np.random.normal(loc=0, scale=math.sqrt(100), size=[569, 30]) \n",
    "noise_2_scaler = preprocessing.MinMaxScaler(feature_range=(-1,1))\n",
    "noise_2 = noise_2_scaler.fit_transform(noise_2)\n",
    "\n",
    "# zero-mean noise with variance 200\n",
    "noise_3 = np.random.normal(loc=0, scale=math.sqrt(200), size=[569, 30]) \n",
    "noise_3_scaler = preprocessing.MinMaxScaler(feature_range=(-1,1))\n",
    "noise_3 = noise_3_scaler.fit_transform(noise_3)\n",
    "\n",
    "# zero-mean noise with variance 400\n",
    "noise_4 = np.random.normal(loc=0, scale=math.sqrt(400), size=[569, 30]) \n",
    "noise_4_scaler = preprocessing.MinMaxScaler(feature_range=(-1,1))\n",
    "noise_4 = noise_4_scaler.fit_transform(noise_4)\n",
    "\n",
    "# zero-mean noise with variance 800\n",
    "noise_5 = np.random.normal(loc=0, scale=math.sqrt(800), size=[569, 30]) \n",
    "noise_5_scaler = preprocessing.MinMaxScaler(feature_range=(-1,1))\n",
    "noise_5 = noise_5_scaler.fit_transform(noise_5)"
   ]
  },
  {
   "cell_type": "code",
   "execution_count": 24,
   "id": "83e2c429",
   "metadata": {
    "execution": {
     "iopub.execute_input": "2023-04-23T03:51:24.708872Z",
     "iopub.status.busy": "2023-04-23T03:51:24.708441Z",
     "iopub.status.idle": "2023-04-23T03:51:24.720200Z",
     "shell.execute_reply": "2023-04-23T03:51:24.719076Z"
    },
    "papermill": {
     "duration": 0.036704,
     "end_time": "2023-04-23T03:51:24.722351",
     "exception": false,
     "start_time": "2023-04-23T03:51:24.685647",
     "status": "completed"
    },
    "tags": []
   },
   "outputs": [],
   "source": [
    "# data normalization\n",
    "X_scaler = preprocessing.MinMaxScaler(feature_range=(-1,1))\n",
    "X = X_scaler.fit_transform(X)\n",
    "\n",
    "y_scaler = preprocessing.MinMaxScaler(feature_range=(-1,1))\n",
    "y = y_scaler.fit_transform(y)"
   ]
  },
  {
   "cell_type": "code",
   "execution_count": 25,
   "id": "4332df08",
   "metadata": {
    "execution": {
     "iopub.execute_input": "2023-04-23T03:51:24.767100Z",
     "iopub.status.busy": "2023-04-23T03:51:24.766621Z",
     "iopub.status.idle": "2023-04-23T03:51:24.772975Z",
     "shell.execute_reply": "2023-04-23T03:51:24.771878Z"
    },
    "papermill": {
     "duration": 0.031649,
     "end_time": "2023-04-23T03:51:24.775325",
     "exception": false,
     "start_time": "2023-04-23T03:51:24.743676",
     "status": "completed"
    },
    "tags": []
   },
   "outputs": [],
   "source": [
    "# partition into training/test/validation \n",
    "X_train, X_test, y_train, y_test = train_test_split(X, y, test_size=0.3, random_state=0)"
   ]
  },
  {
   "cell_type": "code",
   "execution_count": 26,
   "id": "3ac46f63",
   "metadata": {
    "execution": {
     "iopub.execute_input": "2023-04-23T03:51:24.819772Z",
     "iopub.status.busy": "2023-04-23T03:51:24.819332Z",
     "iopub.status.idle": "2023-04-23T03:51:24.826132Z",
     "shell.execute_reply": "2023-04-23T03:51:24.824904Z"
    },
    "papermill": {
     "duration": 0.031929,
     "end_time": "2023-04-23T03:51:24.828475",
     "exception": false,
     "start_time": "2023-04-23T03:51:24.796546",
     "status": "completed"
    },
    "tags": []
   },
   "outputs": [
    {
     "data": {
      "text/plain": [
       "(398, 30)"
      ]
     },
     "execution_count": 26,
     "metadata": {},
     "output_type": "execute_result"
    }
   ],
   "source": [
    "X_train.shape"
   ]
  },
  {
   "cell_type": "markdown",
   "id": "85b26fb7",
   "metadata": {
    "papermill": {
     "duration": 0.021208,
     "end_time": "2023-04-23T03:51:24.871020",
     "exception": false,
     "start_time": "2023-04-23T03:51:24.849812",
     "status": "completed"
    },
    "tags": []
   },
   "source": [
    "## 3.2. Case 1: Add Noise 1 To The Dataset"
   ]
  },
  {
   "cell_type": "markdown",
   "id": "d7ed372a",
   "metadata": {
    "papermill": {
     "duration": 0.020881,
     "end_time": "2023-04-23T03:51:24.913371",
     "exception": false,
     "start_time": "2023-04-23T03:51:24.892490",
     "status": "completed"
    },
    "tags": []
   },
   "source": [
    "### 3.2.1. Data Processing"
   ]
  },
  {
   "cell_type": "code",
   "execution_count": 27,
   "id": "240321e5",
   "metadata": {
    "execution": {
     "iopub.execute_input": "2023-04-23T03:51:24.957836Z",
     "iopub.status.busy": "2023-04-23T03:51:24.957377Z",
     "iopub.status.idle": "2023-04-23T03:51:24.962409Z",
     "shell.execute_reply": "2023-04-23T03:51:24.961248Z"
    },
    "papermill": {
     "duration": 0.030053,
     "end_time": "2023-04-23T03:51:24.964619",
     "exception": false,
     "start_time": "2023-04-23T03:51:24.934566",
     "status": "completed"
    },
    "tags": []
   },
   "outputs": [],
   "source": [
    "# add noise to dataset\n",
    "X1 = X + noise_1"
   ]
  },
  {
   "cell_type": "code",
   "execution_count": 28,
   "id": "92c74e47",
   "metadata": {
    "execution": {
     "iopub.execute_input": "2023-04-23T03:51:25.009604Z",
     "iopub.status.busy": "2023-04-23T03:51:25.009175Z",
     "iopub.status.idle": "2023-04-23T03:51:25.034056Z",
     "shell.execute_reply": "2023-04-23T03:51:25.032925Z"
    },
    "papermill": {
     "duration": 0.050493,
     "end_time": "2023-04-23T03:51:25.036382",
     "exception": false,
     "start_time": "2023-04-23T03:51:24.985889",
     "status": "completed"
    },
    "tags": []
   },
   "outputs": [
    {
     "data": {
      "text/html": [
       "<div>\n",
       "<style scoped>\n",
       "    .dataframe tbody tr th:only-of-type {\n",
       "        vertical-align: middle;\n",
       "    }\n",
       "\n",
       "    .dataframe tbody tr th {\n",
       "        vertical-align: top;\n",
       "    }\n",
       "\n",
       "    .dataframe thead th {\n",
       "        text-align: right;\n",
       "    }\n",
       "</style>\n",
       "<table border=\"1\" class=\"dataframe\">\n",
       "  <thead>\n",
       "    <tr style=\"text-align: right;\">\n",
       "      <th></th>\n",
       "      <th>0</th>\n",
       "      <th>1</th>\n",
       "      <th>2</th>\n",
       "      <th>3</th>\n",
       "      <th>4</th>\n",
       "      <th>5</th>\n",
       "      <th>6</th>\n",
       "      <th>7</th>\n",
       "      <th>8</th>\n",
       "      <th>9</th>\n",
       "      <th>...</th>\n",
       "      <th>20</th>\n",
       "      <th>21</th>\n",
       "      <th>22</th>\n",
       "      <th>23</th>\n",
       "      <th>24</th>\n",
       "      <th>25</th>\n",
       "      <th>26</th>\n",
       "      <th>27</th>\n",
       "      <th>28</th>\n",
       "      <th>29</th>\n",
       "    </tr>\n",
       "  </thead>\n",
       "  <tbody>\n",
       "    <tr>\n",
       "      <th>0</th>\n",
       "      <td>0.092268</td>\n",
       "      <td>-0.387008</td>\n",
       "      <td>-0.388126</td>\n",
       "      <td>0.200334</td>\n",
       "      <td>0.889746</td>\n",
       "      <td>0.721315</td>\n",
       "      <td>0.177319</td>\n",
       "      <td>0.047406</td>\n",
       "      <td>0.086303</td>\n",
       "      <td>0.129927</td>\n",
       "      <td>...</td>\n",
       "      <td>0.160448</td>\n",
       "      <td>-0.428721</td>\n",
       "      <td>0.287355</td>\n",
       "      <td>0.161911</td>\n",
       "      <td>0.557695</td>\n",
       "      <td>0.100491</td>\n",
       "      <td>0.249206</td>\n",
       "      <td>1.177409</td>\n",
       "      <td>0.260132</td>\n",
       "      <td>-0.283442</td>\n",
       "    </tr>\n",
       "    <tr>\n",
       "      <th>1</th>\n",
       "      <td>0.124794</td>\n",
       "      <td>0.545147</td>\n",
       "      <td>0.333725</td>\n",
       "      <td>0.252111</td>\n",
       "      <td>-0.880388</td>\n",
       "      <td>-0.492170</td>\n",
       "      <td>-0.230904</td>\n",
       "      <td>-0.119842</td>\n",
       "      <td>0.240545</td>\n",
       "      <td>-0.834362</td>\n",
       "      <td>...</td>\n",
       "      <td>-0.157721</td>\n",
       "      <td>-0.599238</td>\n",
       "      <td>0.577666</td>\n",
       "      <td>-0.273524</td>\n",
       "      <td>-0.655607</td>\n",
       "      <td>-0.799242</td>\n",
       "      <td>-0.177550</td>\n",
       "      <td>0.129118</td>\n",
       "      <td>-0.426278</td>\n",
       "      <td>-0.704676</td>\n",
       "    </tr>\n",
       "    <tr>\n",
       "      <th>2</th>\n",
       "      <td>-0.488865</td>\n",
       "      <td>0.374828</td>\n",
       "      <td>0.793944</td>\n",
       "      <td>-0.457088</td>\n",
       "      <td>0.006043</td>\n",
       "      <td>0.032636</td>\n",
       "      <td>-0.240325</td>\n",
       "      <td>-0.174214</td>\n",
       "      <td>-0.338765</td>\n",
       "      <td>-1.103815</td>\n",
       "      <td>...</td>\n",
       "      <td>0.642022</td>\n",
       "      <td>-0.152279</td>\n",
       "      <td>-0.103957</td>\n",
       "      <td>0.108064</td>\n",
       "      <td>0.320612</td>\n",
       "      <td>0.039020</td>\n",
       "      <td>-0.462399</td>\n",
       "      <td>0.636254</td>\n",
       "      <td>-0.586989</td>\n",
       "      <td>-0.503445</td>\n",
       "    </tr>\n",
       "    <tr>\n",
       "      <th>3</th>\n",
       "      <td>-0.898461</td>\n",
       "      <td>-0.191510</td>\n",
       "      <td>-1.001278</td>\n",
       "      <td>-0.519326</td>\n",
       "      <td>-0.176317</td>\n",
       "      <td>0.792493</td>\n",
       "      <td>0.408051</td>\n",
       "      <td>0.415181</td>\n",
       "      <td>0.419156</td>\n",
       "      <td>0.711138</td>\n",
       "      <td>...</td>\n",
       "      <td>-0.128511</td>\n",
       "      <td>-0.089008</td>\n",
       "      <td>-0.272765</td>\n",
       "      <td>-0.883666</td>\n",
       "      <td>0.346349</td>\n",
       "      <td>0.645647</td>\n",
       "      <td>-0.184911</td>\n",
       "      <td>1.071769</td>\n",
       "      <td>0.576262</td>\n",
       "      <td>1.181841</td>\n",
       "    </tr>\n",
       "    <tr>\n",
       "      <th>4</th>\n",
       "      <td>0.128581</td>\n",
       "      <td>-0.200808</td>\n",
       "      <td>0.218613</td>\n",
       "      <td>0.289980</td>\n",
       "      <td>0.237888</td>\n",
       "      <td>-0.495931</td>\n",
       "      <td>-0.016650</td>\n",
       "      <td>-0.337428</td>\n",
       "      <td>-0.476768</td>\n",
       "      <td>-0.438019</td>\n",
       "      <td>...</td>\n",
       "      <td>0.098734</td>\n",
       "      <td>-1.285609</td>\n",
       "      <td>0.279777</td>\n",
       "      <td>-0.803539</td>\n",
       "      <td>-0.088847</td>\n",
       "      <td>-0.399041</td>\n",
       "      <td>-1.202979</td>\n",
       "      <td>-0.502318</td>\n",
       "      <td>-0.651843</td>\n",
       "      <td>-0.956511</td>\n",
       "    </tr>\n",
       "  </tbody>\n",
       "</table>\n",
       "<p>5 rows × 30 columns</p>\n",
       "</div>"
      ],
      "text/plain": [
       "         0         1         2         3         4         5         6   \\\n",
       "0  0.092268 -0.387008 -0.388126  0.200334  0.889746  0.721315  0.177319   \n",
       "1  0.124794  0.545147  0.333725  0.252111 -0.880388 -0.492170 -0.230904   \n",
       "2 -0.488865  0.374828  0.793944 -0.457088  0.006043  0.032636 -0.240325   \n",
       "3 -0.898461 -0.191510 -1.001278 -0.519326 -0.176317  0.792493  0.408051   \n",
       "4  0.128581 -0.200808  0.218613  0.289980  0.237888 -0.495931 -0.016650   \n",
       "\n",
       "         7         8         9   ...        20        21        22        23  \\\n",
       "0  0.047406  0.086303  0.129927  ...  0.160448 -0.428721  0.287355  0.161911   \n",
       "1 -0.119842  0.240545 -0.834362  ... -0.157721 -0.599238  0.577666 -0.273524   \n",
       "2 -0.174214 -0.338765 -1.103815  ...  0.642022 -0.152279 -0.103957  0.108064   \n",
       "3  0.415181  0.419156  0.711138  ... -0.128511 -0.089008 -0.272765 -0.883666   \n",
       "4 -0.337428 -0.476768 -0.438019  ...  0.098734 -1.285609  0.279777 -0.803539   \n",
       "\n",
       "         24        25        26        27        28        29  \n",
       "0  0.557695  0.100491  0.249206  1.177409  0.260132 -0.283442  \n",
       "1 -0.655607 -0.799242 -0.177550  0.129118 -0.426278 -0.704676  \n",
       "2  0.320612  0.039020 -0.462399  0.636254 -0.586989 -0.503445  \n",
       "3  0.346349  0.645647 -0.184911  1.071769  0.576262  1.181841  \n",
       "4 -0.088847 -0.399041 -1.202979 -0.502318 -0.651843 -0.956511  \n",
       "\n",
       "[5 rows x 30 columns]"
      ]
     },
     "execution_count": 28,
     "metadata": {},
     "output_type": "execute_result"
    }
   ],
   "source": [
    "# view dataset\n",
    "pd.DataFrame(X1).head()"
   ]
  },
  {
   "cell_type": "code",
   "execution_count": 29,
   "id": "a7cdad2e",
   "metadata": {
    "execution": {
     "iopub.execute_input": "2023-04-23T03:51:25.081995Z",
     "iopub.status.busy": "2023-04-23T03:51:25.081130Z",
     "iopub.status.idle": "2023-04-23T03:51:25.330288Z",
     "shell.execute_reply": "2023-04-23T03:51:25.329446Z"
    },
    "papermill": {
     "duration": 0.274357,
     "end_time": "2023-04-23T03:51:25.332420",
     "exception": false,
     "start_time": "2023-04-23T03:51:25.058063",
     "status": "completed"
    },
    "tags": []
   },
   "outputs": [
    {
     "data": {
      "image/png": "[encoded data removed]",
      "text/plain": [
       "<Figure size 432x288 with 1 Axes>"
      ]
     },
     "metadata": {
      "needs_background": "light"
     },
     "output_type": "display_data"
    }
   ],
   "source": [
    "# plot the distribution of points\n",
    "plt.title(\"Malignant Radius & Texture Data Distribution\")\n",
    "pd.DataFrame(X1)[0].plot(kind='kde')\n",
    "pd.DataFrame(X1)[1].plot(kind='kde')\n",
    "plt.legend()\n",
    "plt.show()"
   ]
  },
  {
   "cell_type": "code",
   "execution_count": 30,
   "id": "c47fb86c",
   "metadata": {
    "execution": {
     "iopub.execute_input": "2023-04-23T03:51:25.381439Z",
     "iopub.status.busy": "2023-04-23T03:51:25.380319Z",
     "iopub.status.idle": "2023-04-23T03:51:25.387686Z",
     "shell.execute_reply": "2023-04-23T03:51:25.386534Z"
    },
    "papermill": {
     "duration": 0.034633,
     "end_time": "2023-04-23T03:51:25.390218",
     "exception": false,
     "start_time": "2023-04-23T03:51:25.355585",
     "status": "completed"
    },
    "tags": []
   },
   "outputs": [],
   "source": [
    "# partition into training/test/validation \n",
    "X_train, X_test, y_train, y_test = train_test_split(X1, y, test_size=0.3, random_state=0)"
   ]
  },
  {
   "cell_type": "markdown",
   "id": "69b18322",
   "metadata": {
    "papermill": {
     "duration": 0.022266,
     "end_time": "2023-04-23T03:51:25.435057",
     "exception": false,
     "start_time": "2023-04-23T03:51:25.412791",
     "status": "completed"
    },
    "tags": []
   },
   "source": [
    "### 3.2.2. Create Model"
   ]
  },
  {
   "cell_type": "code",
   "execution_count": 31,
   "id": "5ad08723",
   "metadata": {
    "execution": {
     "iopub.execute_input": "2023-04-23T03:51:25.481790Z",
     "iopub.status.busy": "2023-04-23T03:51:25.481345Z",
     "iopub.status.idle": "2023-04-23T03:51:25.486195Z",
     "shell.execute_reply": "2023-04-23T03:51:25.485151Z"
    },
    "papermill": {
     "duration": 0.031218,
     "end_time": "2023-04-23T03:51:25.488529",
     "exception": false,
     "start_time": "2023-04-23T03:51:25.457311",
     "status": "completed"
    },
    "tags": []
   },
   "outputs": [],
   "source": [
    "# create model\n",
    "gnb2_1 = GaussianNB()"
   ]
  },
  {
   "cell_type": "markdown",
   "id": "4be2c357",
   "metadata": {
    "papermill": {
     "duration": 0.02209,
     "end_time": "2023-04-23T03:51:25.534098",
     "exception": false,
     "start_time": "2023-04-23T03:51:25.512008",
     "status": "completed"
    },
    "tags": []
   },
   "source": [
    "### 3.2.3. Train Model"
   ]
  },
  {
   "cell_type": "code",
   "execution_count": 32,
   "id": "e0d81f06",
   "metadata": {
    "execution": {
     "iopub.execute_input": "2023-04-23T03:51:25.580533Z",
     "iopub.status.busy": "2023-04-23T03:51:25.580068Z",
     "iopub.status.idle": "2023-04-23T03:51:25.590421Z",
     "shell.execute_reply": "2023-04-23T03:51:25.589442Z"
    },
    "papermill": {
     "duration": 0.03576,
     "end_time": "2023-04-23T03:51:25.592436",
     "exception": false,
     "start_time": "2023-04-23T03:51:25.556676",
     "status": "completed"
    },
    "tags": []
   },
   "outputs": [
    {
     "name": "stderr",
     "output_type": "stream",
     "text": [
      "/opt/conda/lib/python3.7/site-packages/sklearn/utils/validation.py:993: DataConversionWarning: A column-vector y was passed when a 1d array was expected. Please change the shape of y to (n_samples, ), for example using ravel().\n",
      "  y = column_or_1d(y, warn=True)\n"
     ]
    },
    {
     "data": {
      "text/plain": [
       "GaussianNB()"
      ]
     },
     "execution_count": 32,
     "metadata": {},
     "output_type": "execute_result"
    }
   ],
   "source": [
    "# train model on training dataset\n",
    "gnb2_1.fit(X_train, y_train)"
   ]
  },
  {
   "cell_type": "markdown",
   "id": "d953f8e5",
   "metadata": {
    "papermill": {
     "duration": 0.02359,
     "end_time": "2023-04-23T03:51:25.638335",
     "exception": false,
     "start_time": "2023-04-23T03:51:25.614745",
     "status": "completed"
    },
    "tags": []
   },
   "source": [
    "### 3.2.4. Test Model"
   ]
  },
  {
   "cell_type": "code",
   "execution_count": 33,
   "id": "bb131938",
   "metadata": {
    "execution": {
     "iopub.execute_input": "2023-04-23T03:51:25.687093Z",
     "iopub.status.busy": "2023-04-23T03:51:25.686014Z",
     "iopub.status.idle": "2023-04-23T03:51:25.705731Z",
     "shell.execute_reply": "2023-04-23T03:51:25.704670Z"
    },
    "papermill": {
     "duration": 0.047554,
     "end_time": "2023-04-23T03:51:25.708240",
     "exception": false,
     "start_time": "2023-04-23T03:51:25.660686",
     "status": "completed"
    },
    "tags": []
   },
   "outputs": [
    {
     "name": "stdout",
     "output_type": "stream",
     "text": [
      "Training MSE = 0.281407\n",
      "Validating MSE = 0.304094\n",
      "F1 Score = 0.892562\n",
      "Precision Score = 0.931034\n",
      "Recall Score = 0.857143\n",
      "ROC-AUC Score = 0.910053\n",
      "\n",
      "-----------------------------\n",
      "SUBMIT\n",
      "-----------------------------\n",
      "Accuracy = 0.923977\n",
      "Confusion Matrix = \n",
      "[[104   4]\n",
      " [  9  54]]\n",
      "True Negative: 104\n",
      "False Positive: 4\n",
      "False Negative: 9\n",
      "True Positive: 54\n"
     ]
    }
   ],
   "source": [
    "# predict on validate set\n",
    "y_test_pred = gnb2_1.predict(X_test)\n",
    "\n",
    "# predict on train set\n",
    "y_train_pred = gnb2_1.predict(X_train)\n",
    "\n",
    "accuracy = metrics.accuracy_score(y_test, y_test_pred)\n",
    "f1 = metrics.f1_score(y_test, y_test_pred)\n",
    "prec = metrics.precision_score(y_test, y_test_pred)\n",
    "recall = metrics.recall_score(y_test, y_test_pred)\n",
    "roc_auc = metrics.roc_auc_score(y_test, y_test_pred)\n",
    "cm = metrics.confusion_matrix(y_test.squeeze(), y_test_pred.squeeze())\n",
    "tn, fp, fn, tp = metrics.confusion_matrix(y_test.squeeze(), y_test_pred.squeeze()).ravel()\n",
    "\n",
    "print(\"Training MSE = %f\" % metrics.mean_squared_error(y_train, y_train_pred))\n",
    "print(\"Validating MSE = %f\" % metrics.mean_squared_error(y_test, y_test_pred))\n",
    "print('F1 Score = %f' % (f1))\n",
    "print('Precision Score = %f' % (prec))\n",
    "print('Recall Score = %f' % (recall))\n",
    "print('ROC-AUC Score = %f' % (roc_auc))\n",
    "print('\\n-----------------------------')\n",
    "print('SUBMIT')\n",
    "print('-----------------------------')\n",
    "print('Accuracy = %f' % (accuracy))\n",
    "print(f'Confusion Matrix = \\n{cm}')\n",
    "print(f'True Negative: {tn}')\n",
    "print(f'False Positive: {fp}')\n",
    "print(f'False Negative: {fn}')\n",
    "print(f'True Positive: {tp}')"
   ]
  },
  {
   "cell_type": "markdown",
   "id": "c1fd9d02",
   "metadata": {
    "papermill": {
     "duration": 0.022777,
     "end_time": "2023-04-23T03:51:25.753985",
     "exception": false,
     "start_time": "2023-04-23T03:51:25.731208",
     "status": "completed"
    },
    "tags": []
   },
   "source": [
    "## 3.3. Case 2: Add Noise 2 To The Dataset"
   ]
  },
  {
   "cell_type": "markdown",
   "id": "f028a35b",
   "metadata": {
    "papermill": {
     "duration": 0.022963,
     "end_time": "2023-04-23T03:51:25.799661",
     "exception": false,
     "start_time": "2023-04-23T03:51:25.776698",
     "status": "completed"
    },
    "tags": []
   },
   "source": [
    "### 3.3.1. Data Processing"
   ]
  },
  {
   "cell_type": "code",
   "execution_count": 34,
   "id": "a2d1461d",
   "metadata": {
    "execution": {
     "iopub.execute_input": "2023-04-23T03:51:25.846631Z",
     "iopub.status.busy": "2023-04-23T03:51:25.846153Z",
     "iopub.status.idle": "2023-04-23T03:51:25.850610Z",
     "shell.execute_reply": "2023-04-23T03:51:25.849707Z"
    },
    "papermill": {
     "duration": 0.030424,
     "end_time": "2023-04-23T03:51:25.852691",
     "exception": false,
     "start_time": "2023-04-23T03:51:25.822267",
     "status": "completed"
    },
    "tags": []
   },
   "outputs": [],
   "source": [
    "# add noise to dataset\n",
    "X2 = X + noise_2"
   ]
  },
  {
   "cell_type": "code",
   "execution_count": 35,
   "id": "aa75fe67",
   "metadata": {
    "execution": {
     "iopub.execute_input": "2023-04-23T03:51:25.900599Z",
     "iopub.status.busy": "2023-04-23T03:51:25.899814Z",
     "iopub.status.idle": "2023-04-23T03:51:25.924848Z",
     "shell.execute_reply": "2023-04-23T03:51:25.923542Z"
    },
    "papermill": {
     "duration": 0.051583,
     "end_time": "2023-04-23T03:51:25.927216",
     "exception": false,
     "start_time": "2023-04-23T03:51:25.875633",
     "status": "completed"
    },
    "tags": []
   },
   "outputs": [
    {
     "data": {
      "text/html": [
       "<div>\n",
       "<style scoped>\n",
       "    .dataframe tbody tr th:only-of-type {\n",
       "        vertical-align: middle;\n",
       "    }\n",
       "\n",
       "    .dataframe tbody tr th {\n",
       "        vertical-align: top;\n",
       "    }\n",
       "\n",
       "    .dataframe thead th {\n",
       "        text-align: right;\n",
       "    }\n",
       "</style>\n",
       "<table border=\"1\" class=\"dataframe\">\n",
       "  <thead>\n",
       "    <tr style=\"text-align: right;\">\n",
       "      <th></th>\n",
       "      <th>0</th>\n",
       "      <th>1</th>\n",
       "      <th>2</th>\n",
       "      <th>3</th>\n",
       "      <th>4</th>\n",
       "      <th>5</th>\n",
       "      <th>6</th>\n",
       "      <th>7</th>\n",
       "      <th>8</th>\n",
       "      <th>9</th>\n",
       "      <th>...</th>\n",
       "      <th>20</th>\n",
       "      <th>21</th>\n",
       "      <th>22</th>\n",
       "      <th>23</th>\n",
       "      <th>24</th>\n",
       "      <th>25</th>\n",
       "      <th>26</th>\n",
       "      <th>27</th>\n",
       "      <th>28</th>\n",
       "      <th>29</th>\n",
       "    </tr>\n",
       "  </thead>\n",
       "  <tbody>\n",
       "    <tr>\n",
       "      <th>0</th>\n",
       "      <td>-0.120680</td>\n",
       "      <td>-0.644651</td>\n",
       "      <td>-0.431895</td>\n",
       "      <td>-0.295147</td>\n",
       "      <td>0.513861</td>\n",
       "      <td>0.312111</td>\n",
       "      <td>0.485243</td>\n",
       "      <td>-0.063337</td>\n",
       "      <td>0.170880</td>\n",
       "      <td>0.272806</td>\n",
       "      <td>...</td>\n",
       "      <td>0.695933</td>\n",
       "      <td>-0.443066</td>\n",
       "      <td>1.336620</td>\n",
       "      <td>0.171026</td>\n",
       "      <td>-0.092555</td>\n",
       "      <td>0.451483</td>\n",
       "      <td>0.563962</td>\n",
       "      <td>0.144204</td>\n",
       "      <td>0.739033</td>\n",
       "      <td>-0.228256</td>\n",
       "    </tr>\n",
       "    <tr>\n",
       "      <th>1</th>\n",
       "      <td>0.240607</td>\n",
       "      <td>-0.357692</td>\n",
       "      <td>-0.000465</td>\n",
       "      <td>0.045950</td>\n",
       "      <td>-0.206844</td>\n",
       "      <td>-0.925881</td>\n",
       "      <td>-0.550929</td>\n",
       "      <td>0.166261</td>\n",
       "      <td>0.097188</td>\n",
       "      <td>-0.096262</td>\n",
       "      <td>...</td>\n",
       "      <td>0.055976</td>\n",
       "      <td>-0.988575</td>\n",
       "      <td>0.035520</td>\n",
       "      <td>0.328414</td>\n",
       "      <td>-0.161327</td>\n",
       "      <td>-0.458614</td>\n",
       "      <td>-0.889343</td>\n",
       "      <td>0.155288</td>\n",
       "      <td>-0.394197</td>\n",
       "      <td>-0.215801</td>\n",
       "    </tr>\n",
       "    <tr>\n",
       "      <th>2</th>\n",
       "      <td>-0.123494</td>\n",
       "      <td>0.175348</td>\n",
       "      <td>0.934768</td>\n",
       "      <td>-0.281603</td>\n",
       "      <td>0.321360</td>\n",
       "      <td>-0.174251</td>\n",
       "      <td>0.250192</td>\n",
       "      <td>-0.161103</td>\n",
       "      <td>-0.049210</td>\n",
       "      <td>-0.139663</td>\n",
       "      <td>...</td>\n",
       "      <td>0.468047</td>\n",
       "      <td>0.194663</td>\n",
       "      <td>0.405701</td>\n",
       "      <td>0.013931</td>\n",
       "      <td>-0.194019</td>\n",
       "      <td>-0.527389</td>\n",
       "      <td>-0.171099</td>\n",
       "      <td>0.905462</td>\n",
       "      <td>-0.199827</td>\n",
       "      <td>-0.702312</td>\n",
       "    </tr>\n",
       "    <tr>\n",
       "      <th>3</th>\n",
       "      <td>-1.451123</td>\n",
       "      <td>-0.349139</td>\n",
       "      <td>-0.625694</td>\n",
       "      <td>-0.395265</td>\n",
       "      <td>1.020515</td>\n",
       "      <td>1.175081</td>\n",
       "      <td>0.291231</td>\n",
       "      <td>-0.237293</td>\n",
       "      <td>0.531883</td>\n",
       "      <td>1.598263</td>\n",
       "      <td>...</td>\n",
       "      <td>-0.198484</td>\n",
       "      <td>-0.043305</td>\n",
       "      <td>-0.671579</td>\n",
       "      <td>-0.125309</td>\n",
       "      <td>0.869390</td>\n",
       "      <td>0.353853</td>\n",
       "      <td>-0.310989</td>\n",
       "      <td>0.279458</td>\n",
       "      <td>1.025908</td>\n",
       "      <td>0.176667</td>\n",
       "    </tr>\n",
       "    <tr>\n",
       "      <th>4</th>\n",
       "      <td>-0.290106</td>\n",
       "      <td>-0.629085</td>\n",
       "      <td>-0.208664</td>\n",
       "      <td>-0.128040</td>\n",
       "      <td>-0.654537</td>\n",
       "      <td>0.633792</td>\n",
       "      <td>0.409584</td>\n",
       "      <td>0.174323</td>\n",
       "      <td>0.026589</td>\n",
       "      <td>-0.960023</td>\n",
       "      <td>...</td>\n",
       "      <td>0.124137</td>\n",
       "      <td>-0.679474</td>\n",
       "      <td>0.005364</td>\n",
       "      <td>-0.043346</td>\n",
       "      <td>0.323455</td>\n",
       "      <td>-1.088158</td>\n",
       "      <td>-0.501972</td>\n",
       "      <td>0.078374</td>\n",
       "      <td>-0.839150</td>\n",
       "      <td>-0.817943</td>\n",
       "    </tr>\n",
       "  </tbody>\n",
       "</table>\n",
       "<p>5 rows × 30 columns</p>\n",
       "</div>"
      ],
      "text/plain": [
       "         0         1         2         3         4         5         6   \\\n",
       "0 -0.120680 -0.644651 -0.431895 -0.295147  0.513861  0.312111  0.485243   \n",
       "1  0.240607 -0.357692 -0.000465  0.045950 -0.206844 -0.925881 -0.550929   \n",
       "2 -0.123494  0.175348  0.934768 -0.281603  0.321360 -0.174251  0.250192   \n",
       "3 -1.451123 -0.349139 -0.625694 -0.395265  1.020515  1.175081  0.291231   \n",
       "4 -0.290106 -0.629085 -0.208664 -0.128040 -0.654537  0.633792  0.409584   \n",
       "\n",
       "         7         8         9   ...        20        21        22        23  \\\n",
       "0 -0.063337  0.170880  0.272806  ...  0.695933 -0.443066  1.336620  0.171026   \n",
       "1  0.166261  0.097188 -0.096262  ...  0.055976 -0.988575  0.035520  0.328414   \n",
       "2 -0.161103 -0.049210 -0.139663  ...  0.468047  0.194663  0.405701  0.013931   \n",
       "3 -0.237293  0.531883  1.598263  ... -0.198484 -0.043305 -0.671579 -0.125309   \n",
       "4  0.174323  0.026589 -0.960023  ...  0.124137 -0.679474  0.005364 -0.043346   \n",
       "\n",
       "         24        25        26        27        28        29  \n",
       "0 -0.092555  0.451483  0.563962  0.144204  0.739033 -0.228256  \n",
       "1 -0.161327 -0.458614 -0.889343  0.155288 -0.394197 -0.215801  \n",
       "2 -0.194019 -0.527389 -0.171099  0.905462 -0.199827 -0.702312  \n",
       "3  0.869390  0.353853 -0.310989  0.279458  1.025908  0.176667  \n",
       "4  0.323455 -1.088158 -0.501972  0.078374 -0.839150 -0.817943  \n",
       "\n",
       "[5 rows x 30 columns]"
      ]
     },
     "execution_count": 35,
     "metadata": {},
     "output_type": "execute_result"
    }
   ],
   "source": [
    "# view dataset\n",
    "pd.DataFrame(X2).head()"
   ]
  },
  {
   "cell_type": "code",
   "execution_count": 36,
   "id": "279eff35",
   "metadata": {
    "execution": {
     "iopub.execute_input": "2023-04-23T03:51:25.975038Z",
     "iopub.status.busy": "2023-04-23T03:51:25.974636Z",
     "iopub.status.idle": "2023-04-23T03:51:26.218687Z",
     "shell.execute_reply": "2023-04-23T03:51:26.217593Z"
    },
    "papermill": {
     "duration": 0.270804,
     "end_time": "2023-04-23T03:51:26.221076",
     "exception": false,
     "start_time": "2023-04-23T03:51:25.950272",
     "status": "completed"
    },
    "tags": []
   },
   "outputs": [
    {
     "data": {
      "image/png": "[encoded data removed]",
      "text/plain": [
       "<Figure size 432x288 with 1 Axes>"
      ]
     },
     "metadata": {
      "needs_background": "light"
     },
     "output_type": "display_data"
    }
   ],
   "source": [
    "# plot the distribution of points\n",
    "plt.title(\"Malignant Radius & Texture Data Distribution\")\n",
    "pd.DataFrame(X2)[0].plot(kind='kde')\n",
    "pd.DataFrame(X2)[1].plot(kind='kde')\n",
    "plt.legend()\n",
    "plt.show()"
   ]
  },
  {
   "cell_type": "code",
   "execution_count": 37,
   "id": "fc7198b0",
   "metadata": {
    "execution": {
     "iopub.execute_input": "2023-04-23T03:51:26.270519Z",
     "iopub.status.busy": "2023-04-23T03:51:26.269305Z",
     "iopub.status.idle": "2023-04-23T03:51:26.275092Z",
     "shell.execute_reply": "2023-04-23T03:51:26.274280Z"
    },
    "papermill": {
     "duration": 0.032943,
     "end_time": "2023-04-23T03:51:26.277203",
     "exception": false,
     "start_time": "2023-04-23T03:51:26.244260",
     "status": "completed"
    },
    "tags": []
   },
   "outputs": [],
   "source": [
    "# partition into training/test/validation \n",
    "X_train, X_test, y_train, y_test = train_test_split(X2, y, test_size=0.3, random_state=0)"
   ]
  },
  {
   "cell_type": "markdown",
   "id": "37b69bad",
   "metadata": {
    "papermill": {
     "duration": 0.022785,
     "end_time": "2023-04-23T03:51:26.323131",
     "exception": false,
     "start_time": "2023-04-23T03:51:26.300346",
     "status": "completed"
    },
    "tags": []
   },
   "source": [
    "### 3.3.2. Create Model"
   ]
  },
  {
   "cell_type": "code",
   "execution_count": 38,
   "id": "49143a16",
   "metadata": {
    "execution": {
     "iopub.execute_input": "2023-04-23T03:51:26.376756Z",
     "iopub.status.busy": "2023-04-23T03:51:26.376064Z",
     "iopub.status.idle": "2023-04-23T03:51:26.380404Z",
     "shell.execute_reply": "2023-04-23T03:51:26.379526Z"
    },
    "papermill": {
     "duration": 0.032206,
     "end_time": "2023-04-23T03:51:26.382516",
     "exception": false,
     "start_time": "2023-04-23T03:51:26.350310",
     "status": "completed"
    },
    "tags": []
   },
   "outputs": [],
   "source": [
    "# create model\n",
    "gnb2_2 = GaussianNB()"
   ]
  },
  {
   "cell_type": "markdown",
   "id": "4b6d1f65",
   "metadata": {
    "papermill": {
     "duration": 0.023102,
     "end_time": "2023-04-23T03:51:26.428720",
     "exception": false,
     "start_time": "2023-04-23T03:51:26.405618",
     "status": "completed"
    },
    "tags": []
   },
   "source": [
    "### 3.3.3. Train Model"
   ]
  },
  {
   "cell_type": "code",
   "execution_count": 39,
   "id": "a5fe5fe6",
   "metadata": {
    "execution": {
     "iopub.execute_input": "2023-04-23T03:51:26.477333Z",
     "iopub.status.busy": "2023-04-23T03:51:26.476599Z",
     "iopub.status.idle": "2023-04-23T03:51:26.484853Z",
     "shell.execute_reply": "2023-04-23T03:51:26.483855Z"
    },
    "papermill": {
     "duration": 0.035056,
     "end_time": "2023-04-23T03:51:26.486985",
     "exception": false,
     "start_time": "2023-04-23T03:51:26.451929",
     "status": "completed"
    },
    "tags": []
   },
   "outputs": [
    {
     "name": "stderr",
     "output_type": "stream",
     "text": [
      "/opt/conda/lib/python3.7/site-packages/sklearn/utils/validation.py:993: DataConversionWarning: A column-vector y was passed when a 1d array was expected. Please change the shape of y to (n_samples, ), for example using ravel().\n",
      "  y = column_or_1d(y, warn=True)\n"
     ]
    },
    {
     "data": {
      "text/plain": [
       "GaussianNB()"
      ]
     },
     "execution_count": 39,
     "metadata": {},
     "output_type": "execute_result"
    }
   ],
   "source": [
    "# train model on training dataset\n",
    "gnb2_2.fit(X_train, y_train)"
   ]
  },
  {
   "cell_type": "markdown",
   "id": "500836cf",
   "metadata": {
    "papermill": {
     "duration": 0.022817,
     "end_time": "2023-04-23T03:51:26.532961",
     "exception": false,
     "start_time": "2023-04-23T03:51:26.510144",
     "status": "completed"
    },
    "tags": []
   },
   "source": [
    "### 3.3.4. Test Model"
   ]
  },
  {
   "cell_type": "code",
   "execution_count": 40,
   "id": "7b97be6c",
   "metadata": {
    "execution": {
     "iopub.execute_input": "2023-04-23T03:51:26.581552Z",
     "iopub.status.busy": "2023-04-23T03:51:26.581097Z",
     "iopub.status.idle": "2023-04-23T03:51:26.601126Z",
     "shell.execute_reply": "2023-04-23T03:51:26.599525Z"
    },
    "papermill": {
     "duration": 0.04722,
     "end_time": "2023-04-23T03:51:26.603399",
     "exception": false,
     "start_time": "2023-04-23T03:51:26.556179",
     "status": "completed"
    },
    "tags": []
   },
   "outputs": [
    {
     "name": "stdout",
     "output_type": "stream",
     "text": [
      "Training MSE = 0.311558\n",
      "Validating MSE = 0.444444\n",
      "F1 Score = 0.848000\n",
      "Precision Score = 0.854839\n",
      "Recall Score = 0.841270\n",
      "ROC-AUC Score = 0.878968\n",
      "\n",
      "-----------------------------\n",
      "SUBMIT\n",
      "-----------------------------\n",
      "Accuracy = 0.888889\n",
      "Confusion Matrix = \n",
      "[[99  9]\n",
      " [10 53]]\n",
      "True Negative: 99\n",
      "False Positive: 9\n",
      "False Negative: 10\n",
      "True Positive: 53\n"
     ]
    }
   ],
   "source": [
    "# predict on validate set\n",
    "y_test_pred = gnb2_2.predict(X_test)\n",
    "\n",
    "# predict on train set\n",
    "y_train_pred = gnb2_2.predict(X_train)\n",
    "\n",
    "accuracy = metrics.accuracy_score(y_test, y_test_pred)\n",
    "f1 = metrics.f1_score(y_test, y_test_pred)\n",
    "prec = metrics.precision_score(y_test, y_test_pred)\n",
    "recall = metrics.recall_score(y_test, y_test_pred)\n",
    "roc_auc = metrics.roc_auc_score(y_test, y_test_pred)\n",
    "cm = metrics.confusion_matrix(y_test.squeeze(), y_test_pred.squeeze())\n",
    "tn, fp, fn, tp = metrics.confusion_matrix(y_test.squeeze(), y_test_pred.squeeze()).ravel()\n",
    "\n",
    "print(\"Training MSE = %f\" % metrics.mean_squared_error(y_train, y_train_pred))\n",
    "print(\"Validating MSE = %f\" % metrics.mean_squared_error(y_test, y_test_pred))\n",
    "print('F1 Score = %f' % (f1))\n",
    "print('Precision Score = %f' % (prec))\n",
    "print('Recall Score = %f' % (recall))\n",
    "print('ROC-AUC Score = %f' % (roc_auc))\n",
    "print('\\n-----------------------------')\n",
    "print('SUBMIT')\n",
    "print('-----------------------------')\n",
    "print('Accuracy = %f' % (accuracy))\n",
    "print(f'Confusion Matrix = \\n{cm}')\n",
    "print(f'True Negative: {tn}')\n",
    "print(f'False Positive: {fp}')\n",
    "print(f'False Negative: {fn}')\n",
    "print(f'True Positive: {tp}')"
   ]
  },
  {
   "cell_type": "markdown",
   "id": "5fda4d22",
   "metadata": {
    "papermill": {
     "duration": 0.023894,
     "end_time": "2023-04-23T03:51:26.650642",
     "exception": false,
     "start_time": "2023-04-23T03:51:26.626748",
     "status": "completed"
    },
    "tags": []
   },
   "source": [
    "## 3.4. Case 3: Add Noise 3 To The Dataset"
   ]
  },
  {
   "cell_type": "markdown",
   "id": "1e697ee0",
   "metadata": {
    "papermill": {
     "duration": 0.023944,
     "end_time": "2023-04-23T03:51:26.698102",
     "exception": false,
     "start_time": "2023-04-23T03:51:26.674158",
     "status": "completed"
    },
    "tags": []
   },
   "source": [
    "### 3.4.1. Data Processing"
   ]
  },
  {
   "cell_type": "code",
   "execution_count": 41,
   "id": "f9289362",
   "metadata": {
    "execution": {
     "iopub.execute_input": "2023-04-23T03:51:26.748182Z",
     "iopub.status.busy": "2023-04-23T03:51:26.747774Z",
     "iopub.status.idle": "2023-04-23T03:51:26.752765Z",
     "shell.execute_reply": "2023-04-23T03:51:26.751688Z"
    },
    "papermill": {
     "duration": 0.03274,
     "end_time": "2023-04-23T03:51:26.755043",
     "exception": false,
     "start_time": "2023-04-23T03:51:26.722303",
     "status": "completed"
    },
    "tags": []
   },
   "outputs": [],
   "source": [
    "# add noise to dataset\n",
    "X3 = X + noise_3"
   ]
  },
  {
   "cell_type": "code",
   "execution_count": 42,
   "id": "7fc50663",
   "metadata": {
    "execution": {
     "iopub.execute_input": "2023-04-23T03:51:26.803442Z",
     "iopub.status.busy": "2023-04-23T03:51:26.803012Z",
     "iopub.status.idle": "2023-04-23T03:51:26.830202Z",
     "shell.execute_reply": "2023-04-23T03:51:26.828991Z"
    },
    "papermill": {
     "duration": 0.054821,
     "end_time": "2023-04-23T03:51:26.833156",
     "exception": false,
     "start_time": "2023-04-23T03:51:26.778335",
     "status": "completed"
    },
    "tags": []
   },
   "outputs": [
    {
     "data": {
      "text/html": [
       "<div>\n",
       "<style scoped>\n",
       "    .dataframe tbody tr th:only-of-type {\n",
       "        vertical-align: middle;\n",
       "    }\n",
       "\n",
       "    .dataframe tbody tr th {\n",
       "        vertical-align: top;\n",
       "    }\n",
       "\n",
       "    .dataframe thead th {\n",
       "        text-align: right;\n",
       "    }\n",
       "</style>\n",
       "<table border=\"1\" class=\"dataframe\">\n",
       "  <thead>\n",
       "    <tr style=\"text-align: right;\">\n",
       "      <th></th>\n",
       "      <th>0</th>\n",
       "      <th>1</th>\n",
       "      <th>2</th>\n",
       "      <th>3</th>\n",
       "      <th>4</th>\n",
       "      <th>5</th>\n",
       "      <th>6</th>\n",
       "      <th>7</th>\n",
       "      <th>8</th>\n",
       "      <th>9</th>\n",
       "      <th>...</th>\n",
       "      <th>20</th>\n",
       "      <th>21</th>\n",
       "      <th>22</th>\n",
       "      <th>23</th>\n",
       "      <th>24</th>\n",
       "      <th>25</th>\n",
       "      <th>26</th>\n",
       "      <th>27</th>\n",
       "      <th>28</th>\n",
       "      <th>29</th>\n",
       "    </tr>\n",
       "  </thead>\n",
       "  <tbody>\n",
       "    <tr>\n",
       "      <th>0</th>\n",
       "      <td>0.386096</td>\n",
       "      <td>-1.118299</td>\n",
       "      <td>0.074249</td>\n",
       "      <td>-0.335559</td>\n",
       "      <td>-0.111752</td>\n",
       "      <td>0.862490</td>\n",
       "      <td>0.152953</td>\n",
       "      <td>0.518300</td>\n",
       "      <td>0.088125</td>\n",
       "      <td>0.532596</td>\n",
       "      <td>...</td>\n",
       "      <td>0.268072</td>\n",
       "      <td>-1.247546</td>\n",
       "      <td>0.528502</td>\n",
       "      <td>0.504777</td>\n",
       "      <td>0.904764</td>\n",
       "      <td>0.126300</td>\n",
       "      <td>0.411379</td>\n",
       "      <td>0.969029</td>\n",
       "      <td>-0.315399</td>\n",
       "      <td>-0.380826</td>\n",
       "    </tr>\n",
       "    <tr>\n",
       "      <th>1</th>\n",
       "      <td>0.418034</td>\n",
       "      <td>-0.180781</td>\n",
       "      <td>-0.152629</td>\n",
       "      <td>0.459406</td>\n",
       "      <td>-0.531690</td>\n",
       "      <td>-0.356489</td>\n",
       "      <td>-0.514490</td>\n",
       "      <td>-0.289722</td>\n",
       "      <td>-0.231689</td>\n",
       "      <td>-0.469763</td>\n",
       "      <td>...</td>\n",
       "      <td>0.012374</td>\n",
       "      <td>-0.847304</td>\n",
       "      <td>-0.402200</td>\n",
       "      <td>-0.468878</td>\n",
       "      <td>0.229620</td>\n",
       "      <td>-0.269779</td>\n",
       "      <td>-0.447236</td>\n",
       "      <td>-0.170202</td>\n",
       "      <td>-0.426296</td>\n",
       "      <td>-0.628236</td>\n",
       "    </tr>\n",
       "    <tr>\n",
       "      <th>2</th>\n",
       "      <td>-0.358800</td>\n",
       "      <td>-0.074746</td>\n",
       "      <td>0.438618</td>\n",
       "      <td>-0.413113</td>\n",
       "      <td>-0.002456</td>\n",
       "      <td>0.380964</td>\n",
       "      <td>0.639372</td>\n",
       "      <td>0.360686</td>\n",
       "      <td>0.261657</td>\n",
       "      <td>-0.436521</td>\n",
       "      <td>...</td>\n",
       "      <td>-0.032722</td>\n",
       "      <td>-0.300281</td>\n",
       "      <td>0.156286</td>\n",
       "      <td>-0.276489</td>\n",
       "      <td>0.105800</td>\n",
       "      <td>-0.055576</td>\n",
       "      <td>-0.182703</td>\n",
       "      <td>0.675371</td>\n",
       "      <td>-0.258918</td>\n",
       "      <td>-0.574255</td>\n",
       "    </tr>\n",
       "    <tr>\n",
       "      <th>3</th>\n",
       "      <td>-0.934728</td>\n",
       "      <td>-0.557949</td>\n",
       "      <td>-0.465712</td>\n",
       "      <td>-0.413552</td>\n",
       "      <td>1.064075</td>\n",
       "      <td>0.309149</td>\n",
       "      <td>0.231393</td>\n",
       "      <td>-0.063055</td>\n",
       "      <td>0.880862</td>\n",
       "      <td>0.950218</td>\n",
       "      <td>...</td>\n",
       "      <td>-1.180123</td>\n",
       "      <td>-0.196871</td>\n",
       "      <td>0.353184</td>\n",
       "      <td>-0.883232</td>\n",
       "      <td>0.458895</td>\n",
       "      <td>0.705264</td>\n",
       "      <td>0.236246</td>\n",
       "      <td>1.631232</td>\n",
       "      <td>0.748666</td>\n",
       "      <td>0.834852</td>\n",
       "    </tr>\n",
       "    <tr>\n",
       "      <th>4</th>\n",
       "      <td>0.114469</td>\n",
       "      <td>-0.442448</td>\n",
       "      <td>0.314727</td>\n",
       "      <td>-0.083092</td>\n",
       "      <td>-0.666278</td>\n",
       "      <td>-0.355820</td>\n",
       "      <td>0.135863</td>\n",
       "      <td>0.375005</td>\n",
       "      <td>0.101067</td>\n",
       "      <td>-0.903518</td>\n",
       "      <td>...</td>\n",
       "      <td>-0.027711</td>\n",
       "      <td>-0.942946</td>\n",
       "      <td>0.758541</td>\n",
       "      <td>-0.724266</td>\n",
       "      <td>0.656383</td>\n",
       "      <td>-0.599609</td>\n",
       "      <td>0.202546</td>\n",
       "      <td>0.634599</td>\n",
       "      <td>-0.828199</td>\n",
       "      <td>-0.837304</td>\n",
       "    </tr>\n",
       "  </tbody>\n",
       "</table>\n",
       "<p>5 rows × 30 columns</p>\n",
       "</div>"
      ],
      "text/plain": [
       "         0         1         2         3         4         5         6   \\\n",
       "0  0.386096 -1.118299  0.074249 -0.335559 -0.111752  0.862490  0.152953   \n",
       "1  0.418034 -0.180781 -0.152629  0.459406 -0.531690 -0.356489 -0.514490   \n",
       "2 -0.358800 -0.074746  0.438618 -0.413113 -0.002456  0.380964  0.639372   \n",
       "3 -0.934728 -0.557949 -0.465712 -0.413552  1.064075  0.309149  0.231393   \n",
       "4  0.114469 -0.442448  0.314727 -0.083092 -0.666278 -0.355820  0.135863   \n",
       "\n",
       "         7         8         9   ...        20        21        22        23  \\\n",
       "0  0.518300  0.088125  0.532596  ...  0.268072 -1.247546  0.528502  0.504777   \n",
       "1 -0.289722 -0.231689 -0.469763  ...  0.012374 -0.847304 -0.402200 -0.468878   \n",
       "2  0.360686  0.261657 -0.436521  ... -0.032722 -0.300281  0.156286 -0.276489   \n",
       "3 -0.063055  0.880862  0.950218  ... -1.180123 -0.196871  0.353184 -0.883232   \n",
       "4  0.375005  0.101067 -0.903518  ... -0.027711 -0.942946  0.758541 -0.724266   \n",
       "\n",
       "         24        25        26        27        28        29  \n",
       "0  0.904764  0.126300  0.411379  0.969029 -0.315399 -0.380826  \n",
       "1  0.229620 -0.269779 -0.447236 -0.170202 -0.426296 -0.628236  \n",
       "2  0.105800 -0.055576 -0.182703  0.675371 -0.258918 -0.574255  \n",
       "3  0.458895  0.705264  0.236246  1.631232  0.748666  0.834852  \n",
       "4  0.656383 -0.599609  0.202546  0.634599 -0.828199 -0.837304  \n",
       "\n",
       "[5 rows x 30 columns]"
      ]
     },
     "execution_count": 42,
     "metadata": {},
     "output_type": "execute_result"
    }
   ],
   "source": [
    "# view dataset\n",
    "pd.DataFrame(X3).head()"
   ]
  },
  {
   "cell_type": "code",
   "execution_count": 43,
   "id": "a5b1d1c8",
   "metadata": {
    "execution": {
     "iopub.execute_input": "2023-04-23T03:51:26.882803Z",
     "iopub.status.busy": "2023-04-23T03:51:26.882123Z",
     "iopub.status.idle": "2023-04-23T03:51:27.134255Z",
     "shell.execute_reply": "2023-04-23T03:51:27.133464Z"
    },
    "papermill": {
     "duration": 0.279752,
     "end_time": "2023-04-23T03:51:27.136617",
     "exception": false,
     "start_time": "2023-04-23T03:51:26.856865",
     "status": "completed"
    },
    "tags": []
   },
   "outputs": [
    {
     "data": {
      "image/png": "[encoded data removed]",
      "text/plain": [
       "<Figure size 432x288 with 1 Axes>"
      ]
     },
     "metadata": {
      "needs_background": "light"
     },
     "output_type": "display_data"
    }
   ],
   "source": [
    "# plot the distribution of points\n",
    "plt.title(\"Malignant Radius & Texture Data Distribution\")\n",
    "pd.DataFrame(X3)[0].plot(kind='kde')\n",
    "pd.DataFrame(X3)[1].plot(kind='kde')\n",
    "plt.legend()\n",
    "plt.show()"
   ]
  },
  {
   "cell_type": "code",
   "execution_count": 44,
   "id": "66b74013",
   "metadata": {
    "execution": {
     "iopub.execute_input": "2023-04-23T03:51:27.187681Z",
     "iopub.status.busy": "2023-04-23T03:51:27.186552Z",
     "iopub.status.idle": "2023-04-23T03:51:27.192238Z",
     "shell.execute_reply": "2023-04-23T03:51:27.191429Z"
    },
    "papermill": {
     "duration": 0.033698,
     "end_time": "2023-04-23T03:51:27.194469",
     "exception": false,
     "start_time": "2023-04-23T03:51:27.160771",
     "status": "completed"
    },
    "tags": []
   },
   "outputs": [],
   "source": [
    "# partition into training/test/validation \n",
    "X_train, X_test, y_train, y_test = train_test_split(X3, y, test_size=0.3, random_state=0)"
   ]
  },
  {
   "cell_type": "markdown",
   "id": "8710d659",
   "metadata": {
    "papermill": {
     "duration": 0.023606,
     "end_time": "2023-04-23T03:51:27.242196",
     "exception": false,
     "start_time": "2023-04-23T03:51:27.218590",
     "status": "completed"
    },
    "tags": []
   },
   "source": [
    "### 3.4.2. Create Model"
   ]
  },
  {
   "cell_type": "code",
   "execution_count": 45,
   "id": "98aa3dfe",
   "metadata": {
    "execution": {
     "iopub.execute_input": "2023-04-23T03:51:27.292507Z",
     "iopub.status.busy": "2023-04-23T03:51:27.291722Z",
     "iopub.status.idle": "2023-04-23T03:51:27.296929Z",
     "shell.execute_reply": "2023-04-23T03:51:27.295803Z"
    },
    "papermill": {
     "duration": 0.033213,
     "end_time": "2023-04-23T03:51:27.299325",
     "exception": false,
     "start_time": "2023-04-23T03:51:27.266112",
     "status": "completed"
    },
    "tags": []
   },
   "outputs": [],
   "source": [
    "# create model\n",
    "gnb2_3 = GaussianNB()"
   ]
  },
  {
   "cell_type": "markdown",
   "id": "6d49135f",
   "metadata": {
    "papermill": {
     "duration": 0.023506,
     "end_time": "2023-04-23T03:51:27.346653",
     "exception": false,
     "start_time": "2023-04-23T03:51:27.323147",
     "status": "completed"
    },
    "tags": []
   },
   "source": [
    "### 3.4.3. Train Model"
   ]
  },
  {
   "cell_type": "code",
   "execution_count": 46,
   "id": "d1ffe9f1",
   "metadata": {
    "execution": {
     "iopub.execute_input": "2023-04-23T03:51:27.396273Z",
     "iopub.status.busy": "2023-04-23T03:51:27.395568Z",
     "iopub.status.idle": "2023-04-23T03:51:27.403274Z",
     "shell.execute_reply": "2023-04-23T03:51:27.402531Z"
    },
    "papermill": {
     "duration": 0.035068,
     "end_time": "2023-04-23T03:51:27.405474",
     "exception": false,
     "start_time": "2023-04-23T03:51:27.370406",
     "status": "completed"
    },
    "tags": []
   },
   "outputs": [
    {
     "name": "stderr",
     "output_type": "stream",
     "text": [
      "/opt/conda/lib/python3.7/site-packages/sklearn/utils/validation.py:993: DataConversionWarning: A column-vector y was passed when a 1d array was expected. Please change the shape of y to (n_samples, ), for example using ravel().\n",
      "  y = column_or_1d(y, warn=True)\n"
     ]
    },
    {
     "data": {
      "text/plain": [
       "GaussianNB()"
      ]
     },
     "execution_count": 46,
     "metadata": {},
     "output_type": "execute_result"
    }
   ],
   "source": [
    "# train model on training dataset\n",
    "gnb2_3.fit(X_train, y_train)"
   ]
  },
  {
   "cell_type": "markdown",
   "id": "6f589e7b",
   "metadata": {
    "papermill": {
     "duration": 0.023559,
     "end_time": "2023-04-23T03:51:27.452919",
     "exception": false,
     "start_time": "2023-04-23T03:51:27.429360",
     "status": "completed"
    },
    "tags": []
   },
   "source": [
    "### 3.4.4. Test Model"
   ]
  },
  {
   "cell_type": "code",
   "execution_count": 47,
   "id": "ea2bc054",
   "metadata": {
    "execution": {
     "iopub.execute_input": "2023-04-23T03:51:27.502931Z",
     "iopub.status.busy": "2023-04-23T03:51:27.502198Z",
     "iopub.status.idle": "2023-04-23T03:51:27.520806Z",
     "shell.execute_reply": "2023-04-23T03:51:27.519546Z"
    },
    "papermill": {
     "duration": 0.046223,
     "end_time": "2023-04-23T03:51:27.523010",
     "exception": false,
     "start_time": "2023-04-23T03:51:27.476787",
     "status": "completed"
    },
    "tags": []
   },
   "outputs": [
    {
     "name": "stdout",
     "output_type": "stream",
     "text": [
      "Training MSE = 0.321608\n",
      "Validating MSE = 0.233918\n",
      "F1 Score = 0.918033\n",
      "Precision Score = 0.949153\n",
      "Recall Score = 0.888889\n",
      "ROC-AUC Score = 0.930556\n",
      "\n",
      "-----------------------------\n",
      "SUBMIT\n",
      "-----------------------------\n",
      "Accuracy = 0.941520\n",
      "Confusion Matrix = \n",
      "[[105   3]\n",
      " [  7  56]]\n",
      "True Negative: 105\n",
      "False Positive: 3\n",
      "False Negative: 7\n",
      "True Positive: 56\n"
     ]
    }
   ],
   "source": [
    "# predict on validate set\n",
    "y_test_pred = gnb2_3.predict(X_test)\n",
    "\n",
    "# predict on train set\n",
    "y_train_pred = gnb2_3.predict(X_train)\n",
    "\n",
    "accuracy = metrics.accuracy_score(y_test, y_test_pred)\n",
    "f1 = metrics.f1_score(y_test, y_test_pred)\n",
    "prec = metrics.precision_score(y_test, y_test_pred)\n",
    "recall = metrics.recall_score(y_test, y_test_pred)\n",
    "roc_auc = metrics.roc_auc_score(y_test, y_test_pred)\n",
    "cm = metrics.confusion_matrix(y_test.squeeze(), y_test_pred.squeeze())\n",
    "tn, fp, fn, tp = metrics.confusion_matrix(y_test.squeeze(), y_test_pred.squeeze()).ravel()\n",
    "\n",
    "print(\"Training MSE = %f\" % metrics.mean_squared_error(y_train, y_train_pred))\n",
    "print(\"Validating MSE = %f\" % metrics.mean_squared_error(y_test, y_test_pred))\n",
    "print('F1 Score = %f' % (f1))\n",
    "print('Precision Score = %f' % (prec))\n",
    "print('Recall Score = %f' % (recall))\n",
    "print('ROC-AUC Score = %f' % (roc_auc))\n",
    "print('\\n-----------------------------')\n",
    "print('SUBMIT')\n",
    "print('-----------------------------')\n",
    "print('Accuracy = %f' % (accuracy))\n",
    "print(f'Confusion Matrix = \\n{cm}')\n",
    "print(f'True Negative: {tn}')\n",
    "print(f'False Positive: {fp}')\n",
    "print(f'False Negative: {fn}')\n",
    "print(f'True Positive: {tp}')"
   ]
  },
  {
   "cell_type": "markdown",
   "id": "1481f1ea",
   "metadata": {
    "papermill": {
     "duration": 0.023684,
     "end_time": "2023-04-23T03:51:27.570835",
     "exception": false,
     "start_time": "2023-04-23T03:51:27.547151",
     "status": "completed"
    },
    "tags": []
   },
   "source": [
    "## 3.5. Case 4: Add Noise 4 To The Dataset"
   ]
  },
  {
   "cell_type": "markdown",
   "id": "36c875c2",
   "metadata": {
    "papermill": {
     "duration": 0.024785,
     "end_time": "2023-04-23T03:51:27.619741",
     "exception": false,
     "start_time": "2023-04-23T03:51:27.594956",
     "status": "completed"
    },
    "tags": []
   },
   "source": [
    "### 3.5.1. Data Processing"
   ]
  },
  {
   "cell_type": "code",
   "execution_count": 48,
   "id": "d94c2f82",
   "metadata": {
    "execution": {
     "iopub.execute_input": "2023-04-23T03:51:27.671732Z",
     "iopub.status.busy": "2023-04-23T03:51:27.671055Z",
     "iopub.status.idle": "2023-04-23T03:51:27.676139Z",
     "shell.execute_reply": "2023-04-23T03:51:27.675275Z"
    },
    "papermill": {
     "duration": 0.034292,
     "end_time": "2023-04-23T03:51:27.678422",
     "exception": false,
     "start_time": "2023-04-23T03:51:27.644130",
     "status": "completed"
    },
    "tags": []
   },
   "outputs": [],
   "source": [
    "# add noise to dataset\n",
    "X4 = X + noise_4"
   ]
  },
  {
   "cell_type": "code",
   "execution_count": 49,
   "id": "2900ef5e",
   "metadata": {
    "execution": {
     "iopub.execute_input": "2023-04-23T03:51:27.731869Z",
     "iopub.status.busy": "2023-04-23T03:51:27.731095Z",
     "iopub.status.idle": "2023-04-23T03:51:27.757677Z",
     "shell.execute_reply": "2023-04-23T03:51:27.756398Z"
    },
    "papermill": {
     "duration": 0.057206,
     "end_time": "2023-04-23T03:51:27.760238",
     "exception": false,
     "start_time": "2023-04-23T03:51:27.703032",
     "status": "completed"
    },
    "tags": []
   },
   "outputs": [
    {
     "data": {
      "text/html": [
       "<div>\n",
       "<style scoped>\n",
       "    .dataframe tbody tr th:only-of-type {\n",
       "        vertical-align: middle;\n",
       "    }\n",
       "\n",
       "    .dataframe tbody tr th {\n",
       "        vertical-align: top;\n",
       "    }\n",
       "\n",
       "    .dataframe thead th {\n",
       "        text-align: right;\n",
       "    }\n",
       "</style>\n",
       "<table border=\"1\" class=\"dataframe\">\n",
       "  <thead>\n",
       "    <tr style=\"text-align: right;\">\n",
       "      <th></th>\n",
       "      <th>0</th>\n",
       "      <th>1</th>\n",
       "      <th>2</th>\n",
       "      <th>3</th>\n",
       "      <th>4</th>\n",
       "      <th>5</th>\n",
       "      <th>6</th>\n",
       "      <th>7</th>\n",
       "      <th>8</th>\n",
       "      <th>9</th>\n",
       "      <th>...</th>\n",
       "      <th>20</th>\n",
       "      <th>21</th>\n",
       "      <th>22</th>\n",
       "      <th>23</th>\n",
       "      <th>24</th>\n",
       "      <th>25</th>\n",
       "      <th>26</th>\n",
       "      <th>27</th>\n",
       "      <th>28</th>\n",
       "      <th>29</th>\n",
       "    </tr>\n",
       "  </thead>\n",
       "  <tbody>\n",
       "    <tr>\n",
       "      <th>0</th>\n",
       "      <td>0.060920</td>\n",
       "      <td>-1.287760</td>\n",
       "      <td>0.137647</td>\n",
       "      <td>0.040780</td>\n",
       "      <td>0.171636</td>\n",
       "      <td>0.237196</td>\n",
       "      <td>0.631073</td>\n",
       "      <td>0.637718</td>\n",
       "      <td>0.822674</td>\n",
       "      <td>0.413792</td>\n",
       "      <td>...</td>\n",
       "      <td>0.911631</td>\n",
       "      <td>0.115052</td>\n",
       "      <td>0.173442</td>\n",
       "      <td>0.037475</td>\n",
       "      <td>-0.076358</td>\n",
       "      <td>0.446958</td>\n",
       "      <td>0.376605</td>\n",
       "      <td>1.339345</td>\n",
       "      <td>0.206734</td>\n",
       "      <td>-0.205118</td>\n",
       "    </tr>\n",
       "    <tr>\n",
       "      <th>1</th>\n",
       "      <td>0.668285</td>\n",
       "      <td>-0.351203</td>\n",
       "      <td>-0.351617</td>\n",
       "      <td>0.070743</td>\n",
       "      <td>-0.466392</td>\n",
       "      <td>-0.369395</td>\n",
       "      <td>-1.243956</td>\n",
       "      <td>0.006205</td>\n",
       "      <td>-0.401310</td>\n",
       "      <td>-1.331687</td>\n",
       "      <td>...</td>\n",
       "      <td>0.004564</td>\n",
       "      <td>-0.732911</td>\n",
       "      <td>0.365879</td>\n",
       "      <td>-0.538233</td>\n",
       "      <td>-0.357808</td>\n",
       "      <td>-0.740701</td>\n",
       "      <td>-0.352677</td>\n",
       "      <td>0.233507</td>\n",
       "      <td>-0.311868</td>\n",
       "      <td>-0.601864</td>\n",
       "    </tr>\n",
       "    <tr>\n",
       "      <th>2</th>\n",
       "      <td>0.042091</td>\n",
       "      <td>-0.162156</td>\n",
       "      <td>0.687646</td>\n",
       "      <td>-0.214686</td>\n",
       "      <td>0.797766</td>\n",
       "      <td>0.440974</td>\n",
       "      <td>-0.115799</td>\n",
       "      <td>0.453164</td>\n",
       "      <td>0.285905</td>\n",
       "      <td>-0.689070</td>\n",
       "      <td>...</td>\n",
       "      <td>-0.057810</td>\n",
       "      <td>-0.389520</td>\n",
       "      <td>-0.049717</td>\n",
       "      <td>-0.621118</td>\n",
       "      <td>0.506202</td>\n",
       "      <td>-0.298817</td>\n",
       "      <td>-0.075413</td>\n",
       "      <td>0.273158</td>\n",
       "      <td>0.140370</td>\n",
       "      <td>-0.779624</td>\n",
       "    </tr>\n",
       "    <tr>\n",
       "      <th>3</th>\n",
       "      <td>-0.614004</td>\n",
       "      <td>-0.808308</td>\n",
       "      <td>-0.320885</td>\n",
       "      <td>-0.245649</td>\n",
       "      <td>0.409637</td>\n",
       "      <td>0.207148</td>\n",
       "      <td>-0.224572</td>\n",
       "      <td>-0.273073</td>\n",
       "      <td>0.701980</td>\n",
       "      <td>0.773324</td>\n",
       "      <td>...</td>\n",
       "      <td>-0.160114</td>\n",
       "      <td>-0.135665</td>\n",
       "      <td>-0.013072</td>\n",
       "      <td>-0.459890</td>\n",
       "      <td>0.279733</td>\n",
       "      <td>1.284044</td>\n",
       "      <td>-0.382014</td>\n",
       "      <td>-0.045728</td>\n",
       "      <td>1.139291</td>\n",
       "      <td>-0.082038</td>\n",
       "    </tr>\n",
       "    <tr>\n",
       "      <th>4</th>\n",
       "      <td>-0.290186</td>\n",
       "      <td>-0.835768</td>\n",
       "      <td>0.331695</td>\n",
       "      <td>-0.182700</td>\n",
       "      <td>0.019355</td>\n",
       "      <td>0.020721</td>\n",
       "      <td>-0.421246</td>\n",
       "      <td>0.263520</td>\n",
       "      <td>-0.614140</td>\n",
       "      <td>-0.805628</td>\n",
       "      <td>...</td>\n",
       "      <td>0.230889</td>\n",
       "      <td>-1.290828</td>\n",
       "      <td>0.122599</td>\n",
       "      <td>-0.047901</td>\n",
       "      <td>0.230597</td>\n",
       "      <td>-0.542548</td>\n",
       "      <td>-0.164890</td>\n",
       "      <td>0.321222</td>\n",
       "      <td>-0.068495</td>\n",
       "      <td>-1.491757</td>\n",
       "    </tr>\n",
       "  </tbody>\n",
       "</table>\n",
       "<p>5 rows × 30 columns</p>\n",
       "</div>"
      ],
      "text/plain": [
       "         0         1         2         3         4         5         6   \\\n",
       "0  0.060920 -1.287760  0.137647  0.040780  0.171636  0.237196  0.631073   \n",
       "1  0.668285 -0.351203 -0.351617  0.070743 -0.466392 -0.369395 -1.243956   \n",
       "2  0.042091 -0.162156  0.687646 -0.214686  0.797766  0.440974 -0.115799   \n",
       "3 -0.614004 -0.808308 -0.320885 -0.245649  0.409637  0.207148 -0.224572   \n",
       "4 -0.290186 -0.835768  0.331695 -0.182700  0.019355  0.020721 -0.421246   \n",
       "\n",
       "         7         8         9   ...        20        21        22        23  \\\n",
       "0  0.637718  0.822674  0.413792  ...  0.911631  0.115052  0.173442  0.037475   \n",
       "1  0.006205 -0.401310 -1.331687  ...  0.004564 -0.732911  0.365879 -0.538233   \n",
       "2  0.453164  0.285905 -0.689070  ... -0.057810 -0.389520 -0.049717 -0.621118   \n",
       "3 -0.273073  0.701980  0.773324  ... -0.160114 -0.135665 -0.013072 -0.459890   \n",
       "4  0.263520 -0.614140 -0.805628  ...  0.230889 -1.290828  0.122599 -0.047901   \n",
       "\n",
       "         24        25        26        27        28        29  \n",
       "0 -0.076358  0.446958  0.376605  1.339345  0.206734 -0.205118  \n",
       "1 -0.357808 -0.740701 -0.352677  0.233507 -0.311868 -0.601864  \n",
       "2  0.506202 -0.298817 -0.075413  0.273158  0.140370 -0.779624  \n",
       "3  0.279733  1.284044 -0.382014 -0.045728  1.139291 -0.082038  \n",
       "4  0.230597 -0.542548 -0.164890  0.321222 -0.068495 -1.491757  \n",
       "\n",
       "[5 rows x 30 columns]"
      ]
     },
     "execution_count": 49,
     "metadata": {},
     "output_type": "execute_result"
    }
   ],
   "source": [
    "# view dataset\n",
    "pd.DataFrame(X4).head()"
   ]
  },
  {
   "cell_type": "code",
   "execution_count": 50,
   "id": "5bd39018",
   "metadata": {
    "execution": {
     "iopub.execute_input": "2023-04-23T03:51:27.812543Z",
     "iopub.status.busy": "2023-04-23T03:51:27.812106Z",
     "iopub.status.idle": "2023-04-23T03:51:28.056266Z",
     "shell.execute_reply": "2023-04-23T03:51:28.055487Z"
    },
    "papermill": {
     "duration": 0.272815,
     "end_time": "2023-04-23T03:51:28.058490",
     "exception": false,
     "start_time": "2023-04-23T03:51:27.785675",
     "status": "completed"
    },
    "tags": []
   },
   "outputs": [
    {
     "data": {
      "image/png": "[encoded data removed]",
      "text/plain": [
       "<Figure size 432x288 with 1 Axes>"
      ]
     },
     "metadata": {
      "needs_background": "light"
     },
     "output_type": "display_data"
    }
   ],
   "source": [
    "# plot the distribution of points\n",
    "plt.title(\"Malignant Radius & Texture Data Distribution\")\n",
    "pd.DataFrame(X4)[0].plot(kind='kde')\n",
    "pd.DataFrame(X4)[1].plot(kind='kde')\n",
    "plt.legend()\n",
    "plt.show()"
   ]
  },
  {
   "cell_type": "code",
   "execution_count": 51,
   "id": "7632cf9a",
   "metadata": {
    "execution": {
     "iopub.execute_input": "2023-04-23T03:51:28.111188Z",
     "iopub.status.busy": "2023-04-23T03:51:28.110501Z",
     "iopub.status.idle": "2023-04-23T03:51:28.115809Z",
     "shell.execute_reply": "2023-04-23T03:51:28.114999Z"
    },
    "papermill": {
     "duration": 0.034343,
     "end_time": "2023-04-23T03:51:28.118151",
     "exception": false,
     "start_time": "2023-04-23T03:51:28.083808",
     "status": "completed"
    },
    "tags": []
   },
   "outputs": [],
   "source": [
    "# partition into training/test/validation \n",
    "X_train, X_test, y_train, y_test = train_test_split(X4, y, test_size=0.3, random_state=0)"
   ]
  },
  {
   "cell_type": "markdown",
   "id": "c4ddcdaa",
   "metadata": {
    "papermill": {
     "duration": 0.02487,
     "end_time": "2023-04-23T03:51:28.168728",
     "exception": false,
     "start_time": "2023-04-23T03:51:28.143858",
     "status": "completed"
    },
    "tags": []
   },
   "source": [
    "### 3.5.2. Create Model"
   ]
  },
  {
   "cell_type": "code",
   "execution_count": 52,
   "id": "eeda9a8b",
   "metadata": {
    "execution": {
     "iopub.execute_input": "2023-04-23T03:51:28.221558Z",
     "iopub.status.busy": "2023-04-23T03:51:28.220820Z",
     "iopub.status.idle": "2023-04-23T03:51:28.224925Z",
     "shell.execute_reply": "2023-04-23T03:51:28.224161Z"
    },
    "papermill": {
     "duration": 0.033151,
     "end_time": "2023-04-23T03:51:28.227012",
     "exception": false,
     "start_time": "2023-04-23T03:51:28.193861",
     "status": "completed"
    },
    "tags": []
   },
   "outputs": [],
   "source": [
    "# create model\n",
    "gnb2_4 = GaussianNB()"
   ]
  },
  {
   "cell_type": "markdown",
   "id": "bdc43343",
   "metadata": {
    "papermill": {
     "duration": 0.024703,
     "end_time": "2023-04-23T03:51:28.277288",
     "exception": false,
     "start_time": "2023-04-23T03:51:28.252585",
     "status": "completed"
    },
    "tags": []
   },
   "source": [
    "### 3.5.3. Train Model"
   ]
  },
  {
   "cell_type": "code",
   "execution_count": 53,
   "id": "8a0b7124",
   "metadata": {
    "execution": {
     "iopub.execute_input": "2023-04-23T03:51:28.331838Z",
     "iopub.status.busy": "2023-04-23T03:51:28.331388Z",
     "iopub.status.idle": "2023-04-23T03:51:28.341779Z",
     "shell.execute_reply": "2023-04-23T03:51:28.340546Z"
    },
    "papermill": {
     "duration": 0.042501,
     "end_time": "2023-04-23T03:51:28.345142",
     "exception": false,
     "start_time": "2023-04-23T03:51:28.302641",
     "status": "completed"
    },
    "tags": []
   },
   "outputs": [
    {
     "name": "stderr",
     "output_type": "stream",
     "text": [
      "/opt/conda/lib/python3.7/site-packages/sklearn/utils/validation.py:993: DataConversionWarning: A column-vector y was passed when a 1d array was expected. Please change the shape of y to (n_samples, ), for example using ravel().\n",
      "  y = column_or_1d(y, warn=True)\n"
     ]
    },
    {
     "data": {
      "text/plain": [
       "GaussianNB()"
      ]
     },
     "execution_count": 53,
     "metadata": {},
     "output_type": "execute_result"
    }
   ],
   "source": [
    "# train model on training dataset\n",
    "gnb2_4.fit(X_train, y_train)"
   ]
  },
  {
   "cell_type": "markdown",
   "id": "eee1a3c9",
   "metadata": {
    "papermill": {
     "duration": 0.025249,
     "end_time": "2023-04-23T03:51:28.395918",
     "exception": false,
     "start_time": "2023-04-23T03:51:28.370669",
     "status": "completed"
    },
    "tags": []
   },
   "source": [
    "### 3.5.4. Test Model"
   ]
  },
  {
   "cell_type": "code",
   "execution_count": 54,
   "id": "279d2c3f",
   "metadata": {
    "execution": {
     "iopub.execute_input": "2023-04-23T03:51:28.450414Z",
     "iopub.status.busy": "2023-04-23T03:51:28.449479Z",
     "iopub.status.idle": "2023-04-23T03:51:28.471015Z",
     "shell.execute_reply": "2023-04-23T03:51:28.469635Z"
    },
    "papermill": {
     "duration": 0.052122,
     "end_time": "2023-04-23T03:51:28.473534",
     "exception": false,
     "start_time": "2023-04-23T03:51:28.421412",
     "status": "completed"
    },
    "tags": []
   },
   "outputs": [
    {
     "name": "stdout",
     "output_type": "stream",
     "text": [
      "Training MSE = 0.311558\n",
      "Validating MSE = 0.304094\n",
      "F1 Score = 0.896000\n",
      "Precision Score = 0.903226\n",
      "Recall Score = 0.888889\n",
      "ROC-AUC Score = 0.916667\n",
      "\n",
      "-----------------------------\n",
      "SUBMIT\n",
      "-----------------------------\n",
      "Accuracy = 0.923977\n",
      "Confusion Matrix = \n",
      "[[102   6]\n",
      " [  7  56]]\n",
      "True Negative: 102\n",
      "False Positive: 6\n",
      "False Negative: 7\n",
      "True Positive: 56\n"
     ]
    }
   ],
   "source": [
    "# predict on validate set\n",
    "y_test_pred = gnb2_4.predict(X_test)\n",
    "\n",
    "# predict on train set\n",
    "y_train_pred = gnb2_4.predict(X_train)\n",
    "\n",
    "accuracy = metrics.accuracy_score(y_test, y_test_pred)\n",
    "f1 = metrics.f1_score(y_test, y_test_pred)\n",
    "prec = metrics.precision_score(y_test, y_test_pred)\n",
    "recall = metrics.recall_score(y_test, y_test_pred)\n",
    "roc_auc = metrics.roc_auc_score(y_test, y_test_pred)\n",
    "cm = metrics.confusion_matrix(y_test.squeeze(), y_test_pred.squeeze())\n",
    "tn, fp, fn, tp = metrics.confusion_matrix(y_test.squeeze(), y_test_pred.squeeze()).ravel()\n",
    "\n",
    "print(\"Training MSE = %f\" % metrics.mean_squared_error(y_train, y_train_pred))\n",
    "print(\"Validating MSE = %f\" % metrics.mean_squared_error(y_test, y_test_pred))\n",
    "print('F1 Score = %f' % (f1))\n",
    "print('Precision Score = %f' % (prec))\n",
    "print('Recall Score = %f' % (recall))\n",
    "print('ROC-AUC Score = %f' % (roc_auc))\n",
    "print('\\n-----------------------------')\n",
    "print('SUBMIT')\n",
    "print('-----------------------------')\n",
    "print('Accuracy = %f' % (accuracy))\n",
    "print(f'Confusion Matrix = \\n{cm}')\n",
    "print(f'True Negative: {tn}')\n",
    "print(f'False Positive: {fp}')\n",
    "print(f'False Negative: {fn}')\n",
    "print(f'True Positive: {tp}')"
   ]
  },
  {
   "cell_type": "markdown",
   "id": "2fa5b204",
   "metadata": {
    "papermill": {
     "duration": 0.027845,
     "end_time": "2023-04-23T03:51:28.528477",
     "exception": false,
     "start_time": "2023-04-23T03:51:28.500632",
     "status": "completed"
    },
    "tags": []
   },
   "source": [
    "## 3.6. Case 5: Add Noise 5 To The Dataset"
   ]
  },
  {
   "cell_type": "markdown",
   "id": "43eccb47",
   "metadata": {
    "papermill": {
     "duration": 0.025118,
     "end_time": "2023-04-23T03:51:28.579921",
     "exception": false,
     "start_time": "2023-04-23T03:51:28.554803",
     "status": "completed"
    },
    "tags": []
   },
   "source": [
    "### 3.6.1. Data Processing"
   ]
  },
  {
   "cell_type": "code",
   "execution_count": 55,
   "id": "974e7756",
   "metadata": {
    "execution": {
     "iopub.execute_input": "2023-04-23T03:51:28.633367Z",
     "iopub.status.busy": "2023-04-23T03:51:28.632318Z",
     "iopub.status.idle": "2023-04-23T03:51:28.637774Z",
     "shell.execute_reply": "2023-04-23T03:51:28.636719Z"
    },
    "papermill": {
     "duration": 0.03466,
     "end_time": "2023-04-23T03:51:28.640092",
     "exception": false,
     "start_time": "2023-04-23T03:51:28.605432",
     "status": "completed"
    },
    "tags": []
   },
   "outputs": [],
   "source": [
    "# add noise to dataset\n",
    "X5 = X + noise_5"
   ]
  },
  {
   "cell_type": "code",
   "execution_count": 56,
   "id": "1aa848fe",
   "metadata": {
    "execution": {
     "iopub.execute_input": "2023-04-23T03:51:28.694069Z",
     "iopub.status.busy": "2023-04-23T03:51:28.693661Z",
     "iopub.status.idle": "2023-04-23T03:51:28.720700Z",
     "shell.execute_reply": "2023-04-23T03:51:28.719517Z"
    },
    "papermill": {
     "duration": 0.057712,
     "end_time": "2023-04-23T03:51:28.723044",
     "exception": false,
     "start_time": "2023-04-23T03:51:28.665332",
     "status": "completed"
    },
    "tags": []
   },
   "outputs": [
    {
     "data": {
      "text/html": [
       "<div>\n",
       "<style scoped>\n",
       "    .dataframe tbody tr th:only-of-type {\n",
       "        vertical-align: middle;\n",
       "    }\n",
       "\n",
       "    .dataframe tbody tr th {\n",
       "        vertical-align: top;\n",
       "    }\n",
       "\n",
       "    .dataframe thead th {\n",
       "        text-align: right;\n",
       "    }\n",
       "</style>\n",
       "<table border=\"1\" class=\"dataframe\">\n",
       "  <thead>\n",
       "    <tr style=\"text-align: right;\">\n",
       "      <th></th>\n",
       "      <th>0</th>\n",
       "      <th>1</th>\n",
       "      <th>2</th>\n",
       "      <th>3</th>\n",
       "      <th>4</th>\n",
       "      <th>5</th>\n",
       "      <th>6</th>\n",
       "      <th>7</th>\n",
       "      <th>8</th>\n",
       "      <th>9</th>\n",
       "      <th>...</th>\n",
       "      <th>20</th>\n",
       "      <th>21</th>\n",
       "      <th>22</th>\n",
       "      <th>23</th>\n",
       "      <th>24</th>\n",
       "      <th>25</th>\n",
       "      <th>26</th>\n",
       "      <th>27</th>\n",
       "      <th>28</th>\n",
       "      <th>29</th>\n",
       "    </tr>\n",
       "  </thead>\n",
       "  <tbody>\n",
       "    <tr>\n",
       "      <th>0</th>\n",
       "      <td>0.561045</td>\n",
       "      <td>-1.366778</td>\n",
       "      <td>0.149117</td>\n",
       "      <td>-0.460584</td>\n",
       "      <td>0.516644</td>\n",
       "      <td>0.739017</td>\n",
       "      <td>0.580825</td>\n",
       "      <td>0.969909</td>\n",
       "      <td>-0.109278</td>\n",
       "      <td>0.445775</td>\n",
       "      <td>...</td>\n",
       "      <td>-0.410044</td>\n",
       "      <td>-0.517819</td>\n",
       "      <td>0.490518</td>\n",
       "      <td>-0.132174</td>\n",
       "      <td>0.196766</td>\n",
       "      <td>0.076600</td>\n",
       "      <td>0.382279</td>\n",
       "      <td>0.766487</td>\n",
       "      <td>0.106361</td>\n",
       "      <td>0.160223</td>\n",
       "    </tr>\n",
       "    <tr>\n",
       "      <th>1</th>\n",
       "      <td>0.039056</td>\n",
       "      <td>-0.949097</td>\n",
       "      <td>-0.036647</td>\n",
       "      <td>0.248345</td>\n",
       "      <td>-0.650733</td>\n",
       "      <td>-0.381711</td>\n",
       "      <td>-0.390796</td>\n",
       "      <td>0.232561</td>\n",
       "      <td>-0.420261</td>\n",
       "      <td>-0.180946</td>\n",
       "      <td>...</td>\n",
       "      <td>0.351074</td>\n",
       "      <td>-0.426157</td>\n",
       "      <td>0.281306</td>\n",
       "      <td>-0.174553</td>\n",
       "      <td>-0.688376</td>\n",
       "      <td>-0.628905</td>\n",
       "      <td>-0.426334</td>\n",
       "      <td>0.037705</td>\n",
       "      <td>-0.592805</td>\n",
       "      <td>-0.564448</td>\n",
       "    </tr>\n",
       "    <tr>\n",
       "      <th>2</th>\n",
       "      <td>0.439891</td>\n",
       "      <td>-0.193321</td>\n",
       "      <td>-0.042013</td>\n",
       "      <td>-0.682961</td>\n",
       "      <td>-0.515792</td>\n",
       "      <td>-0.273489</td>\n",
       "      <td>-0.047779</td>\n",
       "      <td>0.227505</td>\n",
       "      <td>0.103181</td>\n",
       "      <td>-0.739117</td>\n",
       "      <td>...</td>\n",
       "      <td>0.250139</td>\n",
       "      <td>-0.205900</td>\n",
       "      <td>0.365459</td>\n",
       "      <td>-0.397367</td>\n",
       "      <td>0.426760</td>\n",
       "      <td>0.056897</td>\n",
       "      <td>-0.387753</td>\n",
       "      <td>0.876921</td>\n",
       "      <td>-0.407386</td>\n",
       "      <td>-0.984271</td>\n",
       "    </tr>\n",
       "    <tr>\n",
       "      <th>3</th>\n",
       "      <td>0.420181</td>\n",
       "      <td>-0.591635</td>\n",
       "      <td>-0.793751</td>\n",
       "      <td>-0.557561</td>\n",
       "      <td>0.600195</td>\n",
       "      <td>1.296933</td>\n",
       "      <td>0.789856</td>\n",
       "      <td>0.062715</td>\n",
       "      <td>0.366933</td>\n",
       "      <td>0.395171</td>\n",
       "      <td>...</td>\n",
       "      <td>-0.469288</td>\n",
       "      <td>-0.192444</td>\n",
       "      <td>0.029630</td>\n",
       "      <td>-0.689626</td>\n",
       "      <td>0.335945</td>\n",
       "      <td>0.118048</td>\n",
       "      <td>0.318717</td>\n",
       "      <td>0.827570</td>\n",
       "      <td>1.486477</td>\n",
       "      <td>0.396995</td>\n",
       "    </tr>\n",
       "    <tr>\n",
       "      <th>4</th>\n",
       "      <td>0.225917</td>\n",
       "      <td>-0.601183</td>\n",
       "      <td>-0.216950</td>\n",
       "      <td>0.350702</td>\n",
       "      <td>-0.023592</td>\n",
       "      <td>-0.114985</td>\n",
       "      <td>0.092199</td>\n",
       "      <td>0.042943</td>\n",
       "      <td>-0.217477</td>\n",
       "      <td>-0.390688</td>\n",
       "      <td>...</td>\n",
       "      <td>0.201577</td>\n",
       "      <td>-0.630223</td>\n",
       "      <td>0.474875</td>\n",
       "      <td>-0.508179</td>\n",
       "      <td>0.040548</td>\n",
       "      <td>-0.791351</td>\n",
       "      <td>-0.839348</td>\n",
       "      <td>-0.401259</td>\n",
       "      <td>-0.610763</td>\n",
       "      <td>-0.936769</td>\n",
       "    </tr>\n",
       "  </tbody>\n",
       "</table>\n",
       "<p>5 rows × 30 columns</p>\n",
       "</div>"
      ],
      "text/plain": [
       "         0         1         2         3         4         5         6   \\\n",
       "0  0.561045 -1.366778  0.149117 -0.460584  0.516644  0.739017  0.580825   \n",
       "1  0.039056 -0.949097 -0.036647  0.248345 -0.650733 -0.381711 -0.390796   \n",
       "2  0.439891 -0.193321 -0.042013 -0.682961 -0.515792 -0.273489 -0.047779   \n",
       "3  0.420181 -0.591635 -0.793751 -0.557561  0.600195  1.296933  0.789856   \n",
       "4  0.225917 -0.601183 -0.216950  0.350702 -0.023592 -0.114985  0.092199   \n",
       "\n",
       "         7         8         9   ...        20        21        22        23  \\\n",
       "0  0.969909 -0.109278  0.445775  ... -0.410044 -0.517819  0.490518 -0.132174   \n",
       "1  0.232561 -0.420261 -0.180946  ...  0.351074 -0.426157  0.281306 -0.174553   \n",
       "2  0.227505  0.103181 -0.739117  ...  0.250139 -0.205900  0.365459 -0.397367   \n",
       "3  0.062715  0.366933  0.395171  ... -0.469288 -0.192444  0.029630 -0.689626   \n",
       "4  0.042943 -0.217477 -0.390688  ...  0.201577 -0.630223  0.474875 -0.508179   \n",
       "\n",
       "         24        25        26        27        28        29  \n",
       "0  0.196766  0.076600  0.382279  0.766487  0.106361  0.160223  \n",
       "1 -0.688376 -0.628905 -0.426334  0.037705 -0.592805 -0.564448  \n",
       "2  0.426760  0.056897 -0.387753  0.876921 -0.407386 -0.984271  \n",
       "3  0.335945  0.118048  0.318717  0.827570  1.486477  0.396995  \n",
       "4  0.040548 -0.791351 -0.839348 -0.401259 -0.610763 -0.936769  \n",
       "\n",
       "[5 rows x 30 columns]"
      ]
     },
     "execution_count": 56,
     "metadata": {},
     "output_type": "execute_result"
    }
   ],
   "source": [
    "# view dataset\n",
    "pd.DataFrame(X5).head()"
   ]
  },
  {
   "cell_type": "code",
   "execution_count": 57,
   "id": "f5114d5c",
   "metadata": {
    "execution": {
     "iopub.execute_input": "2023-04-23T03:51:28.777901Z",
     "iopub.status.busy": "2023-04-23T03:51:28.777423Z",
     "iopub.status.idle": "2023-04-23T03:51:29.027214Z",
     "shell.execute_reply": "2023-04-23T03:51:29.026357Z"
    },
    "papermill": {
     "duration": 0.279308,
     "end_time": "2023-04-23T03:51:29.029329",
     "exception": false,
     "start_time": "2023-04-23T03:51:28.750021",
     "status": "completed"
    },
    "tags": []
   },
   "outputs": [
    {
     "data": {
      "image/png": "[encoded data removed]",
      "text/plain": [
       "<Figure size 432x288 with 1 Axes>"
      ]
     },
     "metadata": {
      "needs_background": "light"
     },
     "output_type": "display_data"
    }
   ],
   "source": [
    "# plot the distribution of points\n",
    "plt.title(\"Malignant Radius & Texture Data Distribution\")\n",
    "pd.DataFrame(X5)[0].plot(kind='kde')\n",
    "pd.DataFrame(X5)[1].plot(kind='kde')\n",
    "plt.legend()\n",
    "plt.show()"
   ]
  },
  {
   "cell_type": "code",
   "execution_count": 58,
   "id": "a54d95f4",
   "metadata": {
    "execution": {
     "iopub.execute_input": "2023-04-23T03:51:29.083630Z",
     "iopub.status.busy": "2023-04-23T03:51:29.082907Z",
     "iopub.status.idle": "2023-04-23T03:51:29.088357Z",
     "shell.execute_reply": "2023-04-23T03:51:29.087515Z"
    },
    "papermill": {
     "duration": 0.035365,
     "end_time": "2023-04-23T03:51:29.090556",
     "exception": false,
     "start_time": "2023-04-23T03:51:29.055191",
     "status": "completed"
    },
    "tags": []
   },
   "outputs": [],
   "source": [
    "# partition into training/test/validation \n",
    "X_train, X_test, y_train, y_test = train_test_split(X5, y, test_size=0.3, random_state=0)"
   ]
  },
  {
   "cell_type": "markdown",
   "id": "192b7003",
   "metadata": {
    "papermill": {
     "duration": 0.025719,
     "end_time": "2023-04-23T03:51:29.142319",
     "exception": false,
     "start_time": "2023-04-23T03:51:29.116600",
     "status": "completed"
    },
    "tags": []
   },
   "source": [
    "### 3.6.2. Create Model"
   ]
  },
  {
   "cell_type": "code",
   "execution_count": 59,
   "id": "1a463f79",
   "metadata": {
    "execution": {
     "iopub.execute_input": "2023-04-23T03:51:29.197197Z",
     "iopub.status.busy": "2023-04-23T03:51:29.196129Z",
     "iopub.status.idle": "2023-04-23T03:51:29.201713Z",
     "shell.execute_reply": "2023-04-23T03:51:29.200651Z"
    },
    "papermill": {
     "duration": 0.035688,
     "end_time": "2023-04-23T03:51:29.203964",
     "exception": false,
     "start_time": "2023-04-23T03:51:29.168276",
     "status": "completed"
    },
    "tags": []
   },
   "outputs": [],
   "source": [
    "# create model\n",
    "gnb2_5 = GaussianNB()"
   ]
  },
  {
   "cell_type": "markdown",
   "id": "d4f1ac29",
   "metadata": {
    "papermill": {
     "duration": 0.025667,
     "end_time": "2023-04-23T03:51:29.255993",
     "exception": false,
     "start_time": "2023-04-23T03:51:29.230326",
     "status": "completed"
    },
    "tags": []
   },
   "source": [
    "### 3.6.3. Train Model"
   ]
  },
  {
   "cell_type": "code",
   "execution_count": 60,
   "id": "b29db229",
   "metadata": {
    "execution": {
     "iopub.execute_input": "2023-04-23T03:51:29.310935Z",
     "iopub.status.busy": "2023-04-23T03:51:29.310127Z",
     "iopub.status.idle": "2023-04-23T03:51:29.318735Z",
     "shell.execute_reply": "2023-04-23T03:51:29.317909Z"
    },
    "papermill": {
     "duration": 0.038731,
     "end_time": "2023-04-23T03:51:29.320831",
     "exception": false,
     "start_time": "2023-04-23T03:51:29.282100",
     "status": "completed"
    },
    "tags": []
   },
   "outputs": [
    {
     "name": "stderr",
     "output_type": "stream",
     "text": [
      "/opt/conda/lib/python3.7/site-packages/sklearn/utils/validation.py:993: DataConversionWarning: A column-vector y was passed when a 1d array was expected. Please change the shape of y to (n_samples, ), for example using ravel().\n",
      "  y = column_or_1d(y, warn=True)\n"
     ]
    },
    {
     "data": {
      "text/plain": [
       "GaussianNB()"
      ]
     },
     "execution_count": 60,
     "metadata": {},
     "output_type": "execute_result"
    }
   ],
   "source": [
    "# train model on training dataset\n",
    "gnb2_5.fit(X_train, y_train)"
   ]
  },
  {
   "cell_type": "markdown",
   "id": "080a9787",
   "metadata": {
    "papermill": {
     "duration": 0.025956,
     "end_time": "2023-04-23T03:51:29.373651",
     "exception": false,
     "start_time": "2023-04-23T03:51:29.347695",
     "status": "completed"
    },
    "tags": []
   },
   "source": [
    "### 3.6.4. Test Model"
   ]
  },
  {
   "cell_type": "code",
   "execution_count": 61,
   "id": "6f744a69",
   "metadata": {
    "execution": {
     "iopub.execute_input": "2023-04-23T03:51:29.428304Z",
     "iopub.status.busy": "2023-04-23T03:51:29.427912Z",
     "iopub.status.idle": "2023-04-23T03:51:29.448190Z",
     "shell.execute_reply": "2023-04-23T03:51:29.446558Z"
    },
    "papermill": {
     "duration": 0.050549,
     "end_time": "2023-04-23T03:51:29.450580",
     "exception": false,
     "start_time": "2023-04-23T03:51:29.400031",
     "status": "completed"
    },
    "tags": []
   },
   "outputs": [
    {
     "name": "stdout",
     "output_type": "stream",
     "text": [
      "Training MSE = 0.281407\n",
      "Validating MSE = 0.514620\n",
      "F1 Score = 0.819672\n",
      "Precision Score = 0.847458\n",
      "Recall Score = 0.793651\n",
      "ROC-AUC Score = 0.855159\n",
      "\n",
      "-----------------------------\n",
      "SUBMIT\n",
      "-----------------------------\n",
      "Accuracy = 0.871345\n",
      "Confusion Matrix = \n",
      "[[99  9]\n",
      " [13 50]]\n",
      "True Negative: 99\n",
      "False Positive: 9\n",
      "False Negative: 13\n",
      "True Positive: 50\n"
     ]
    }
   ],
   "source": [
    "# predict on validate set\n",
    "y_test_pred = gnb2_5.predict(X_test)\n",
    "\n",
    "# predict on train set\n",
    "y_train_pred = gnb2_5.predict(X_train)\n",
    "\n",
    "accuracy = metrics.accuracy_score(y_test, y_test_pred)\n",
    "f1 = metrics.f1_score(y_test, y_test_pred)\n",
    "prec = metrics.precision_score(y_test, y_test_pred)\n",
    "recall = metrics.recall_score(y_test, y_test_pred)\n",
    "roc_auc = metrics.roc_auc_score(y_test, y_test_pred)\n",
    "cm = metrics.confusion_matrix(y_test.squeeze(), y_test_pred.squeeze())\n",
    "tn, fp, fn, tp = metrics.confusion_matrix(y_test.squeeze(), y_test_pred.squeeze()).ravel()\n",
    "\n",
    "print(\"Training MSE = %f\" % metrics.mean_squared_error(y_train, y_train_pred))\n",
    "print(\"Validating MSE = %f\" % metrics.mean_squared_error(y_test, y_test_pred))\n",
    "print('F1 Score = %f' % (f1))\n",
    "print('Precision Score = %f' % (prec))\n",
    "print('Recall Score = %f' % (recall))\n",
    "print('ROC-AUC Score = %f' % (roc_auc))\n",
    "print('\\n-----------------------------')\n",
    "print('SUBMIT')\n",
    "print('-----------------------------')\n",
    "print('Accuracy = %f' % (accuracy))\n",
    "print(f'Confusion Matrix = \\n{cm}')\n",
    "print(f'True Negative: {tn}')\n",
    "print(f'False Positive: {fp}')\n",
    "print(f'False Negative: {fn}')\n",
    "print(f'True Positive: {tp}')"
   ]
  }
 ],
 "metadata": {
  "kernelspec": {
   "display_name": "Python 3",
   "language": "python",
   "name": "python3"
  },
  "language_info": {
   "codemirror_mode": {
    "name": "ipython",
    "version": 3
   },
   "file_extension": ".py",
   "mimetype": "text/x-python",
   "name": "python",
   "nbconvert_exporter": "python",
   "pygments_lexer": "ipython3",
   "version": "3.7.12"
  },
  "papermill": {
   "default_parameters": {},
   "duration": 19.383913,
   "end_time": "2023-04-23T03:51:30.300398",
   "environment_variables": {},
   "exception": null,
   "input_path": "__notebook__.ipynb",
   "output_path": "__notebook__.ipynb",
   "parameters": {},
   "start_time": "2023-04-23T03:51:10.916485",
   "version": "2.3.4"
  }
 },
 "nbformat": 4,
 "nbformat_minor": 5
}
