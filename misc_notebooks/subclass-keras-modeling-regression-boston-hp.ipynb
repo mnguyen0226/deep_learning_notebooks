{
 "cells": [
  {
   "cell_type": "markdown",
   "id": "f2ddceca",
   "metadata": {
    "_cell_guid": "b1076dfc-b9ad-4769-8c92-a6c4dae69d19",
    "_uuid": "8f2839f25d086af736a60e9eeb907d3b93b6e0e5",
    "papermill": {
     "duration": 0.013308,
     "end_time": "2023-02-18T05:18:22.684827",
     "exception": false,
     "start_time": "2023-02-18T05:18:22.671519",
     "status": "completed"
    },
    "tags": []
   },
   "source": [
    "# Predict Boston House Price: A Deep Learning Approach with Keras (Subclassing Modeling)\n",
    "- **Date**: 2/17/2023.\n",
    "- **Author**: [Minh T. Nguyen](https://www.kaggle.com/minhbtnguyen).\n",
    "- **Dataset**: [Boston House Prices](https://www.kaggle.com/datasets/fedesoriano/the-boston-houseprice-data).\n",
    "- **Task**: Regression.\n",
    "- **Framework**: Keras, Sklearn.\n",
    "\n",
    "**Note**: *I use Kaggle to learn from others and practice my skills so any comment or suggestion is welcome!* \n",
    "\n",
    "**Related Notebooks:**\n",
    "- [Sequential Keras Modeling | Regression | Boston HP](https://www.kaggle.com/code/minhbtnguyen/sequential-keras-modeling-regression-boston-hp).\n",
    "- [Functional Keras Modeling | Regression | Boston HP](https://www.kaggle.com/code/minhbtnguyen/functional-keras-modeling-regression-boston-hp)."
   ]
  },
  {
   "cell_type": "markdown",
   "id": "36d52b61",
   "metadata": {
    "papermill": {
     "duration": 0.010986,
     "end_time": "2023-02-18T05:18:22.707484",
     "exception": false,
     "start_time": "2023-02-18T05:18:22.696498",
     "status": "completed"
    },
    "tags": []
   },
   "source": [
    "![](https://images.unsplash.com/photo-1572128023846-8cf5791a1299?ixlib=rb-4.0.3&ixid=MnwxMjA3fDB8MHxwaG90by1wYWdlfHx8fGVufDB8fHx8&auto=format&fit=crop&w=1032&q=80)"
   ]
  },
  {
   "cell_type": "code",
   "execution_count": 1,
   "id": "3b951ff4",
   "metadata": {
    "execution": {
     "iopub.execute_input": "2023-02-18T05:18:22.733650Z",
     "iopub.status.busy": "2023-02-18T05:18:22.732403Z",
     "iopub.status.idle": "2023-02-18T05:18:32.312017Z",
     "shell.execute_reply": "2023-02-18T05:18:32.310182Z"
    },
    "papermill": {
     "duration": 9.596282,
     "end_time": "2023-02-18T05:18:32.315423",
     "exception": false,
     "start_time": "2023-02-18T05:18:22.719141",
     "status": "completed"
    },
    "tags": []
   },
   "outputs": [],
   "source": [
    "# import libraries\n",
    "import numpy as np\n",
    "import pandas as pd\n",
    "import os \n",
    "import matplotlib.pyplot as plt\n",
    "import copy\n",
    "\n",
    "# import tensorflow\n",
    "from sklearn.model_selection import train_test_split\n",
    "from tensorflow import keras\n",
    "from tensorflow.keras import layers"
   ]
  },
  {
   "cell_type": "code",
   "execution_count": 2,
   "id": "ae31c287",
   "metadata": {
    "execution": {
     "iopub.execute_input": "2023-02-18T05:18:32.341977Z",
     "iopub.status.busy": "2023-02-18T05:18:32.340370Z",
     "iopub.status.idle": "2023-02-18T05:18:32.348135Z",
     "shell.execute_reply": "2023-02-18T05:18:32.346740Z"
    },
    "papermill": {
     "duration": 0.024606,
     "end_time": "2023-02-18T05:18:32.351555",
     "exception": false,
     "start_time": "2023-02-18T05:18:32.326949",
     "status": "completed"
    },
    "tags": []
   },
   "outputs": [],
   "source": [
    "# set random seed for same results when reproducing the notebook\n",
    "np.random.seed(0)"
   ]
  },
  {
   "cell_type": "markdown",
   "id": "c83aa336",
   "metadata": {
    "papermill": {
     "duration": 0.010668,
     "end_time": "2023-02-18T05:18:32.378250",
     "exception": false,
     "start_time": "2023-02-18T05:18:32.367582",
     "status": "completed"
    },
    "tags": []
   },
   "source": [
    "# 1. Import Dataset"
   ]
  },
  {
   "cell_type": "code",
   "execution_count": 3,
   "id": "054bb879",
   "metadata": {
    "execution": {
     "iopub.execute_input": "2023-02-18T05:18:32.403757Z",
     "iopub.status.busy": "2023-02-18T05:18:32.403313Z",
     "iopub.status.idle": "2023-02-18T05:18:32.417450Z",
     "shell.execute_reply": "2023-02-18T05:18:32.415688Z"
    },
    "papermill": {
     "duration": 0.029915,
     "end_time": "2023-02-18T05:18:32.420286",
     "exception": false,
     "start_time": "2023-02-18T05:18:32.390371",
     "status": "completed"
    },
    "tags": []
   },
   "outputs": [
    {
     "name": "stdout",
     "output_type": "stream",
     "text": [
      "/kaggle/input/the-boston-houseprice-data/boston.csv\n"
     ]
    }
   ],
   "source": [
    "# connect with Kaggle directory\n",
    "for dirname, _, filenames in os.walk('/kaggle/input'):\n",
    "    for filename in filenames:\n",
    "        print(os.path.join(dirname, filename))"
   ]
  },
  {
   "cell_type": "code",
   "execution_count": 4,
   "id": "1250570c",
   "metadata": {
    "execution": {
     "iopub.execute_input": "2023-02-18T05:18:32.444357Z",
     "iopub.status.busy": "2023-02-18T05:18:32.443925Z",
     "iopub.status.idle": "2023-02-18T05:18:32.497412Z",
     "shell.execute_reply": "2023-02-18T05:18:32.495922Z"
    },
    "papermill": {
     "duration": 0.068579,
     "end_time": "2023-02-18T05:18:32.500101",
     "exception": false,
     "start_time": "2023-02-18T05:18:32.431522",
     "status": "completed"
    },
    "tags": []
   },
   "outputs": [
    {
     "data": {
      "text/html": [
       "<div>\n",
       "<style scoped>\n",
       "    .dataframe tbody tr th:only-of-type {\n",
       "        vertical-align: middle;\n",
       "    }\n",
       "\n",
       "    .dataframe tbody tr th {\n",
       "        vertical-align: top;\n",
       "    }\n",
       "\n",
       "    .dataframe thead th {\n",
       "        text-align: right;\n",
       "    }\n",
       "</style>\n",
       "<table border=\"1\" class=\"dataframe\">\n",
       "  <thead>\n",
       "    <tr style=\"text-align: right;\">\n",
       "      <th></th>\n",
       "      <th>CRIM</th>\n",
       "      <th>ZN</th>\n",
       "      <th>INDUS</th>\n",
       "      <th>CHAS</th>\n",
       "      <th>NOX</th>\n",
       "      <th>RM</th>\n",
       "      <th>AGE</th>\n",
       "      <th>DIS</th>\n",
       "      <th>RAD</th>\n",
       "      <th>TAX</th>\n",
       "      <th>PTRATIO</th>\n",
       "      <th>B</th>\n",
       "      <th>LSTAT</th>\n",
       "      <th>MEDV</th>\n",
       "    </tr>\n",
       "  </thead>\n",
       "  <tbody>\n",
       "    <tr>\n",
       "      <th>0</th>\n",
       "      <td>0.00632</td>\n",
       "      <td>18.0</td>\n",
       "      <td>2.31</td>\n",
       "      <td>0</td>\n",
       "      <td>0.538</td>\n",
       "      <td>6.575</td>\n",
       "      <td>65.2</td>\n",
       "      <td>4.0900</td>\n",
       "      <td>1</td>\n",
       "      <td>296.0</td>\n",
       "      <td>15.3</td>\n",
       "      <td>396.90</td>\n",
       "      <td>4.98</td>\n",
       "      <td>24.0</td>\n",
       "    </tr>\n",
       "    <tr>\n",
       "      <th>1</th>\n",
       "      <td>0.02731</td>\n",
       "      <td>0.0</td>\n",
       "      <td>7.07</td>\n",
       "      <td>0</td>\n",
       "      <td>0.469</td>\n",
       "      <td>6.421</td>\n",
       "      <td>78.9</td>\n",
       "      <td>4.9671</td>\n",
       "      <td>2</td>\n",
       "      <td>242.0</td>\n",
       "      <td>17.8</td>\n",
       "      <td>396.90</td>\n",
       "      <td>9.14</td>\n",
       "      <td>21.6</td>\n",
       "    </tr>\n",
       "    <tr>\n",
       "      <th>2</th>\n",
       "      <td>0.02729</td>\n",
       "      <td>0.0</td>\n",
       "      <td>7.07</td>\n",
       "      <td>0</td>\n",
       "      <td>0.469</td>\n",
       "      <td>7.185</td>\n",
       "      <td>61.1</td>\n",
       "      <td>4.9671</td>\n",
       "      <td>2</td>\n",
       "      <td>242.0</td>\n",
       "      <td>17.8</td>\n",
       "      <td>392.83</td>\n",
       "      <td>4.03</td>\n",
       "      <td>34.7</td>\n",
       "    </tr>\n",
       "    <tr>\n",
       "      <th>3</th>\n",
       "      <td>0.03237</td>\n",
       "      <td>0.0</td>\n",
       "      <td>2.18</td>\n",
       "      <td>0</td>\n",
       "      <td>0.458</td>\n",
       "      <td>6.998</td>\n",
       "      <td>45.8</td>\n",
       "      <td>6.0622</td>\n",
       "      <td>3</td>\n",
       "      <td>222.0</td>\n",
       "      <td>18.7</td>\n",
       "      <td>394.63</td>\n",
       "      <td>2.94</td>\n",
       "      <td>33.4</td>\n",
       "    </tr>\n",
       "    <tr>\n",
       "      <th>4</th>\n",
       "      <td>0.06905</td>\n",
       "      <td>0.0</td>\n",
       "      <td>2.18</td>\n",
       "      <td>0</td>\n",
       "      <td>0.458</td>\n",
       "      <td>7.147</td>\n",
       "      <td>54.2</td>\n",
       "      <td>6.0622</td>\n",
       "      <td>3</td>\n",
       "      <td>222.0</td>\n",
       "      <td>18.7</td>\n",
       "      <td>396.90</td>\n",
       "      <td>5.33</td>\n",
       "      <td>36.2</td>\n",
       "    </tr>\n",
       "  </tbody>\n",
       "</table>\n",
       "</div>"
      ],
      "text/plain": [
       "      CRIM    ZN  INDUS  CHAS    NOX     RM   AGE     DIS  RAD    TAX  \\\n",
       "0  0.00632  18.0   2.31     0  0.538  6.575  65.2  4.0900    1  296.0   \n",
       "1  0.02731   0.0   7.07     0  0.469  6.421  78.9  4.9671    2  242.0   \n",
       "2  0.02729   0.0   7.07     0  0.469  7.185  61.1  4.9671    2  242.0   \n",
       "3  0.03237   0.0   2.18     0  0.458  6.998  45.8  6.0622    3  222.0   \n",
       "4  0.06905   0.0   2.18     0  0.458  7.147  54.2  6.0622    3  222.0   \n",
       "\n",
       "   PTRATIO       B  LSTAT  MEDV  \n",
       "0     15.3  396.90   4.98  24.0  \n",
       "1     17.8  396.90   9.14  21.6  \n",
       "2     17.8  392.83   4.03  34.7  \n",
       "3     18.7  394.63   2.94  33.4  \n",
       "4     18.7  396.90   5.33  36.2  "
      ]
     },
     "execution_count": 4,
     "metadata": {},
     "output_type": "execute_result"
    }
   ],
   "source": [
    "# import dataset\n",
    "df = pd.read_csv(\"/kaggle/input/the-boston-houseprice-data/boston.csv\")\n",
    "df.head()"
   ]
  },
  {
   "cell_type": "code",
   "execution_count": 5,
   "id": "286748e6",
   "metadata": {
    "execution": {
     "iopub.execute_input": "2023-02-18T05:18:32.525013Z",
     "iopub.status.busy": "2023-02-18T05:18:32.524594Z",
     "iopub.status.idle": "2023-02-18T05:18:32.529235Z",
     "shell.execute_reply": "2023-02-18T05:18:32.528291Z"
    },
    "papermill": {
     "duration": 0.021061,
     "end_time": "2023-02-18T05:18:32.532499",
     "exception": false,
     "start_time": "2023-02-18T05:18:32.511438",
     "status": "completed"
    },
    "tags": []
   },
   "outputs": [
    {
     "name": "stdout",
     "output_type": "stream",
     "text": [
      "(506, 14)\n"
     ]
    }
   ],
   "source": [
    "# check the shape of the dataset\n",
    "print(df.shape)"
   ]
  },
  {
   "cell_type": "code",
   "execution_count": 6,
   "id": "492fd8b1",
   "metadata": {
    "execution": {
     "iopub.execute_input": "2023-02-18T05:18:32.557484Z",
     "iopub.status.busy": "2023-02-18T05:18:32.556821Z",
     "iopub.status.idle": "2023-02-18T05:18:32.566801Z",
     "shell.execute_reply": "2023-02-18T05:18:32.565043Z"
    },
    "papermill": {
     "duration": 0.026127,
     "end_time": "2023-02-18T05:18:32.569982",
     "exception": false,
     "start_time": "2023-02-18T05:18:32.543855",
     "status": "completed"
    },
    "tags": []
   },
   "outputs": [
    {
     "data": {
      "text/plain": [
       "CRIM       float64\n",
       "ZN         float64\n",
       "INDUS      float64\n",
       "CHAS         int64\n",
       "NOX        float64\n",
       "RM         float64\n",
       "AGE        float64\n",
       "DIS        float64\n",
       "RAD          int64\n",
       "TAX        float64\n",
       "PTRATIO    float64\n",
       "B          float64\n",
       "LSTAT      float64\n",
       "MEDV       float64\n",
       "dtype: object"
      ]
     },
     "execution_count": 6,
     "metadata": {},
     "output_type": "execute_result"
    }
   ],
   "source": [
    "# check datatypes of each feature\n",
    "df.dtypes"
   ]
  },
  {
   "cell_type": "markdown",
   "id": "5821d9d5",
   "metadata": {
    "papermill": {
     "duration": 0.010873,
     "end_time": "2023-02-18T05:18:32.592474",
     "exception": false,
     "start_time": "2023-02-18T05:18:32.581601",
     "status": "completed"
    },
    "tags": []
   },
   "source": [
    "**Note**: From the metadata, we learn that each column has different meaning:\n",
    "- **CRIM**: per capita crime rate by town.\n",
    "- **ZN**: proportion of residential land zoned for lots over 25,000 sq.ft.\n",
    "- **INDUS**: proportion of non-retail business acres per town.\n",
    "- **CHAS**: Charles River dummy variable (1 if tract bounds river; 0 otherwise).\n",
    "- **NOX**: nitric oxides concentration (parts per 10 million) [parts/10M].\n",
    "- **RM**: average number of rooms per dwelling.\n",
    "- **AGE**: proportion of owner-occupied units built prior to 1940.\n",
    "- **DIS**: weighted distances to five Boston employment centres.\n",
    "- **RAD**: index of accessibility to radial highways.\n",
    "- **TAX**: full-value property-tax rate per `$10,000 [$/10k]`.\n",
    "- **PTRATIO**: pupil-teacher ratio by town.\n",
    "- **B**: The result of the equation B=1000(Bk - 0.63)^2 where Bk is the proportion of blacks by town.\n",
    "- **LSTAT**: % lower status of the population.\n",
    "- **MEDV**: Median value of owner-occupied homes in `$1000's [k$]`."
   ]
  },
  {
   "cell_type": "markdown",
   "id": "54761496",
   "metadata": {
    "papermill": {
     "duration": 0.010965,
     "end_time": "2023-02-18T05:18:32.615234",
     "exception": false,
     "start_time": "2023-02-18T05:18:32.604269",
     "status": "completed"
    },
    "tags": []
   },
   "source": [
    "# 2. Data Visualization & Analysis\n",
    "**Note**: From the table, we can see that the data has various ranges. Thus, we need to normalize all features into the same range so that the visualization of features won't be compressed.\n"
   ]
  },
  {
   "cell_type": "markdown",
   "id": "8afe9f5d",
   "metadata": {
    "papermill": {
     "duration": 0.010682,
     "end_time": "2023-02-18T05:18:32.636989",
     "exception": false,
     "start_time": "2023-02-18T05:18:32.626307",
     "status": "completed"
    },
    "tags": []
   },
   "source": [
    "**Note**: Shape of the normal distribution (Gaussian distribution).\n",
    "\n",
    "![](https://cdn.scribbr.com/wp-content/uploads/2020/10/standard-normal-distribution-1024x633.png)"
   ]
  },
  {
   "cell_type": "markdown",
   "id": "7aa56497",
   "metadata": {
    "papermill": {
     "duration": 0.011252,
     "end_time": "2023-02-18T05:18:32.659287",
     "exception": false,
     "start_time": "2023-02-18T05:18:32.648035",
     "status": "completed"
    },
    "tags": []
   },
   "source": [
    "**Note**: Let's plot the features (columns) of the dataset and see how they shape compared to the Gaussian distribution."
   ]
  },
  {
   "cell_type": "code",
   "execution_count": 7,
   "id": "c91f845d",
   "metadata": {
    "execution": {
     "iopub.execute_input": "2023-02-18T05:18:32.683828Z",
     "iopub.status.busy": "2023-02-18T05:18:32.683317Z",
     "iopub.status.idle": "2023-02-18T05:18:32.695865Z",
     "shell.execute_reply": "2023-02-18T05:18:32.694779Z"
    },
    "papermill": {
     "duration": 0.02793,
     "end_time": "2023-02-18T05:18:32.698350",
     "exception": false,
     "start_time": "2023-02-18T05:18:32.670420",
     "status": "completed"
    },
    "tags": []
   },
   "outputs": [],
   "source": [
    "# normalize the dataset prior to plot\n",
    "df_plot = df.copy() # made a copy of the dataframe here as we have different normalization process in the later step\n",
    "mean = df_plot.mean(axis=0)\n",
    "df_plot -= mean\n",
    "std = df_plot.std(axis=0)\n",
    "df_plot /= std"
   ]
  },
  {
   "cell_type": "code",
   "execution_count": 8,
   "id": "12815ca9",
   "metadata": {
    "execution": {
     "iopub.execute_input": "2023-02-18T05:18:32.723398Z",
     "iopub.status.busy": "2023-02-18T05:18:32.722582Z",
     "iopub.status.idle": "2023-02-18T05:18:33.357348Z",
     "shell.execute_reply": "2023-02-18T05:18:33.355956Z"
    },
    "papermill": {
     "duration": 0.650834,
     "end_time": "2023-02-18T05:18:33.360351",
     "exception": false,
     "start_time": "2023-02-18T05:18:32.709517",
     "status": "completed"
    },
    "tags": []
   },
   "outputs": [
    {
     "data": {
      "image/png": "[encoded data removed]",
      "text/plain": [
       "<Figure size 640x480 with 1 Axes>"
      ]
     },
     "metadata": {},
     "output_type": "display_data"
    }
   ],
   "source": [
    "# plot the distribution for all 4 columns\n",
    "plt.title(\"Features Distribution\")\n",
    "df_plot['CRIM'].plot(kind='kde')\n",
    "df_plot['ZN'].plot(kind='kde')\n",
    "df_plot['INDUS'].plot(kind='kde')\n",
    "df_plot['CHAS'].plot(kind='kde')\n",
    "df_plot['NOX'].plot(kind='kde')\n",
    "df_plot['RM'].plot(kind='kde')\n",
    "df_plot['AGE'].plot(kind='kde')\n",
    "df_plot['DIS'].plot(kind='kde')\n",
    "df_plot['RAD'].plot(kind='kde')\n",
    "df_plot['TAX'].plot(kind='kde')\n",
    "df_plot['PTRATIO'].plot(kind='kde')\n",
    "df_plot['B'].plot(kind='kde')\n",
    "df_plot['LSTAT'].plot(kind='kde')\n",
    "df_plot['MEDV'].plot(kind='kde')\n",
    "\n",
    "plt.legend()\n",
    "plt.show()"
   ]
  },
  {
   "cell_type": "markdown",
   "id": "d3f73bb2",
   "metadata": {
    "papermill": {
     "duration": 0.012664,
     "end_time": "2023-02-18T05:18:33.385784",
     "exception": false,
     "start_time": "2023-02-18T05:18:33.373120",
     "status": "completed"
    },
    "tags": []
   },
   "source": [
    "**Note**: We can see that all 14 features \"behaves\" similar to the Gaussian Distribution with different mean and standard deviation. This plot add an additional confirmation as most of the dataset has Gaussian distribution. The data points near the mean are more frequent in occurrent that the data far from the mean.\n",
    "\n",
    "*[Reference](https://www.investopedia.com/terms/n/normaldistribution.asp#:~:text=Normal%20distribution%2C%20also%20known%20as,as%20a%20%22bell%20curve%22.).*"
   ]
  },
  {
   "cell_type": "markdown",
   "id": "dc348e40",
   "metadata": {
    "papermill": {
     "duration": 0.011992,
     "end_time": "2023-02-18T05:18:33.410188",
     "exception": false,
     "start_time": "2023-02-18T05:18:33.398196",
     "status": "completed"
    },
    "tags": []
   },
   "source": [
    "# 3. Data Processing\n",
    "**Note**: There are ways to process raw data that suitable for types of data and how they are structure such as check NaN, feature engineering, normalization, data imputation,... However, for this dataset, I will do the following steps: \n",
    "- Check NaN.\n",
    "- Normalize the dataset.\n",
    "- Split it into training and testing set."
   ]
  },
  {
   "cell_type": "markdown",
   "id": "091ac225",
   "metadata": {
    "papermill": {
     "duration": 0.011929,
     "end_time": "2023-02-18T05:18:33.434387",
     "exception": false,
     "start_time": "2023-02-18T05:18:33.422458",
     "status": "completed"
    },
    "tags": []
   },
   "source": [
    "## 3.1. Check For Not-a-Number (NaN) Data"
   ]
  },
  {
   "cell_type": "code",
   "execution_count": 9,
   "id": "3252a9a9",
   "metadata": {
    "execution": {
     "iopub.execute_input": "2023-02-18T05:18:33.461684Z",
     "iopub.status.busy": "2023-02-18T05:18:33.461253Z",
     "iopub.status.idle": "2023-02-18T05:18:33.469627Z",
     "shell.execute_reply": "2023-02-18T05:18:33.467969Z"
    },
    "papermill": {
     "duration": 0.02583,
     "end_time": "2023-02-18T05:18:33.472362",
     "exception": false,
     "start_time": "2023-02-18T05:18:33.446532",
     "status": "completed"
    },
    "tags": []
   },
   "outputs": [
    {
     "name": "stdout",
     "output_type": "stream",
     "text": [
      "False\n"
     ]
    }
   ],
   "source": [
    "# examine and replace missing values \n",
    "print(df.isnull().values.any())"
   ]
  },
  {
   "cell_type": "markdown",
   "id": "f8119921",
   "metadata": {
    "papermill": {
     "duration": 0.012658,
     "end_time": "2023-02-18T05:18:33.497910",
     "exception": false,
     "start_time": "2023-02-18T05:18:33.485252",
     "status": "completed"
    },
    "tags": []
   },
   "source": [
    "## 3.2. Normalize & Split Dataset\n",
    "**Note**: Split the data in to input features (X) and output label (y)."
   ]
  },
  {
   "cell_type": "code",
   "execution_count": 10,
   "id": "cb22a0e4",
   "metadata": {
    "execution": {
     "iopub.execute_input": "2023-02-18T05:18:33.526215Z",
     "iopub.status.busy": "2023-02-18T05:18:33.525730Z",
     "iopub.status.idle": "2023-02-18T05:18:33.535507Z",
     "shell.execute_reply": "2023-02-18T05:18:33.533765Z"
    },
    "papermill": {
     "duration": 0.026703,
     "end_time": "2023-02-18T05:18:33.538558",
     "exception": false,
     "start_time": "2023-02-18T05:18:33.511855",
     "status": "completed"
    },
    "tags": []
   },
   "outputs": [
    {
     "name": "stdout",
     "output_type": "stream",
     "text": [
      "(506, 13)\n"
     ]
    }
   ],
   "source": [
    "# get input features X \n",
    "X = df[list(df.columns[0:-1])]\n",
    "print(X.shape)"
   ]
  },
  {
   "cell_type": "code",
   "execution_count": 11,
   "id": "ef283ece",
   "metadata": {
    "execution": {
     "iopub.execute_input": "2023-02-18T05:18:33.567447Z",
     "iopub.status.busy": "2023-02-18T05:18:33.567007Z",
     "iopub.status.idle": "2023-02-18T05:18:33.573869Z",
     "shell.execute_reply": "2023-02-18T05:18:33.572342Z"
    },
    "papermill": {
     "duration": 0.024867,
     "end_time": "2023-02-18T05:18:33.576496",
     "exception": false,
     "start_time": "2023-02-18T05:18:33.551629",
     "status": "completed"
    },
    "tags": []
   },
   "outputs": [
    {
     "name": "stdout",
     "output_type": "stream",
     "text": [
      "(506,)\n"
     ]
    }
   ],
   "source": [
    "# get output feature y\n",
    "y = df['MEDV']\n",
    "print(y.shape)"
   ]
  },
  {
   "cell_type": "code",
   "execution_count": 12,
   "id": "1ca52c1e",
   "metadata": {
    "execution": {
     "iopub.execute_input": "2023-02-18T05:18:33.604500Z",
     "iopub.status.busy": "2023-02-18T05:18:33.604025Z",
     "iopub.status.idle": "2023-02-18T05:18:33.613924Z",
     "shell.execute_reply": "2023-02-18T05:18:33.612403Z"
    },
    "papermill": {
     "duration": 0.027651,
     "end_time": "2023-02-18T05:18:33.617064",
     "exception": false,
     "start_time": "2023-02-18T05:18:33.589413",
     "status": "completed"
    },
    "tags": []
   },
   "outputs": [],
   "source": [
    "# partition into training/test/validation \n",
    "X_train, X_test, y_train, y_test = train_test_split(X, y, test_size=0.3, random_state=0)"
   ]
  },
  {
   "cell_type": "code",
   "execution_count": 13,
   "id": "55cf321d",
   "metadata": {
    "execution": {
     "iopub.execute_input": "2023-02-18T05:18:33.644528Z",
     "iopub.status.busy": "2023-02-18T05:18:33.644096Z",
     "iopub.status.idle": "2023-02-18T05:18:33.651296Z",
     "shell.execute_reply": "2023-02-18T05:18:33.649675Z"
    },
    "papermill": {
     "duration": 0.023938,
     "end_time": "2023-02-18T05:18:33.653948",
     "exception": false,
     "start_time": "2023-02-18T05:18:33.630010",
     "status": "completed"
    },
    "tags": []
   },
   "outputs": [
    {
     "name": "stdout",
     "output_type": "stream",
     "text": [
      "X_shape has shape: (354, 13)\n",
      "X_test has shape: (152, 13)\n",
      "y_train has shape: (354,)\n",
      "y_test has shape: (152,)\n"
     ]
    }
   ],
   "source": [
    "# check shape\n",
    "print(f\"X_shape has shape: {X_train.shape}\")\n",
    "print(f\"X_test has shape: {X_test.shape}\")\n",
    "print(f\"y_train has shape: {y_train.shape}\")\n",
    "print(f\"y_test has shape: {y_test.shape}\")"
   ]
  },
  {
   "cell_type": "code",
   "execution_count": 14,
   "id": "d2a03194",
   "metadata": {
    "execution": {
     "iopub.execute_input": "2023-02-18T05:18:33.681412Z",
     "iopub.status.busy": "2023-02-18T05:18:33.680886Z",
     "iopub.status.idle": "2023-02-18T05:18:33.695438Z",
     "shell.execute_reply": "2023-02-18T05:18:33.693782Z"
    },
    "papermill": {
     "duration": 0.032194,
     "end_time": "2023-02-18T05:18:33.698588",
     "exception": false,
     "start_time": "2023-02-18T05:18:33.666394",
     "status": "completed"
    },
    "tags": []
   },
   "outputs": [],
   "source": [
    "# normalized training data\n",
    "mean = X_train.mean(axis=0)\n",
    "X_train -= mean\n",
    "std = X_train.std(axis=0)\n",
    "X_train /= std\n",
    "\n",
    "# normalized testing data\n",
    "X_test -= mean\n",
    "X_test /= std"
   ]
  },
  {
   "cell_type": "markdown",
   "id": "b93967da",
   "metadata": {
    "papermill": {
     "duration": 0.012834,
     "end_time": "2023-02-18T05:18:33.724604",
     "exception": false,
     "start_time": "2023-02-18T05:18:33.711770",
     "status": "completed"
    },
    "tags": []
   },
   "source": [
    "**Note**: that we normalize the test data based on the training data. We don't want to normalized the test data based on the training distribution as we want to test the model on the same distribution of what we train. By doing this, we will avoid the \"information leak\" issue where the model might happen to learn something from the validation set, which will make the validation result less reliable."
   ]
  },
  {
   "cell_type": "markdown",
   "id": "a7d2df6b",
   "metadata": {
    "papermill": {
     "duration": 0.013345,
     "end_time": "2023-02-18T05:18:33.751351",
     "exception": false,
     "start_time": "2023-02-18T05:18:33.738006",
     "status": "completed"
    },
    "tags": []
   },
   "source": [
    "# 4. Modeling\n",
    "**Note**: As the dataset is a fairly small dataset, we only need a small model. We can use a larger model, however, it will be a waste of computing power and risk to the large model to learn unwanted patterns. In addition, if the model is too large, it will start to overfit right away which makes the validation loss curve looks choppy (due high-variance). If we limit the model's size, it will optimize less neuron and provide better quality"
   ]
  },
  {
   "cell_type": "code",
   "execution_count": 15,
   "id": "feacf8fe",
   "metadata": {
    "execution": {
     "iopub.execute_input": "2023-02-18T05:18:33.779560Z",
     "iopub.status.busy": "2023-02-18T05:18:33.779083Z",
     "iopub.status.idle": "2023-02-18T05:18:33.788181Z",
     "shell.execute_reply": "2023-02-18T05:18:33.786558Z"
    },
    "papermill": {
     "duration": 0.026398,
     "end_time": "2023-02-18T05:18:33.790803",
     "exception": false,
     "start_time": "2023-02-18T05:18:33.764405",
     "status": "completed"
    },
    "tags": []
   },
   "outputs": [],
   "source": [
    "class SimpleNetwork(keras.Model):\n",
    "    \n",
    "    def __init__(self):\n",
    "        \"\"\"Constructor\"\"\"\n",
    "        super().__init__()\n",
    "        \n",
    "        # define sub layers\n",
    "        self.hidden_layer_1 = layers.Dense(64, activation=\"relu\")\n",
    "        self.hidden_layer_2 = layers.Dense(64, activation=\"relu\")\n",
    "        self.output_layer = layers.Dense(1)\n",
    "        \n",
    "    def call(self, inputs):\n",
    "        \"\"\"Forward pass\n",
    "        @Parameters\n",
    "        inputs (tensor): process input housing features.\n",
    "        \n",
    "        @Return\n",
    "        outputs (tensor): output prediction of house price.\n",
    "        \"\"\"\n",
    "        features = self.hidden_layer_1(inputs)\n",
    "        features = self.hidden_layer_2(features)\n",
    "        outputs = self.output_layer(features)\n",
    "        \n",
    "        return outputs"
   ]
  },
  {
   "cell_type": "markdown",
   "id": "e000e803",
   "metadata": {
    "papermill": {
     "duration": 0.012426,
     "end_time": "2023-02-18T05:18:33.815906",
     "exception": false,
     "start_time": "2023-02-18T05:18:33.803480",
     "status": "completed"
    },
    "tags": []
   },
   "source": [
    "# 5. K-Fold Validation\n",
    "**Note**: Right now, we don't know how well is our model's structure as well as the number of epochs to train (if we train the model too much, then the model will overfit!). For the larger dataset, we can simply take a portion of the traininig dataset as validation dataset and check the performance prior to training the entire training data. However, since the dataset is small, K-Fold validation will be a better choice. The image below showed how K-Fold validation works."
   ]
  },
  {
   "cell_type": "markdown",
   "id": "430455bf",
   "metadata": {
    "papermill": {
     "duration": 0.012344,
     "end_time": "2023-02-18T05:18:33.841013",
     "exception": false,
     "start_time": "2023-02-18T05:18:33.828669",
     "status": "completed"
    },
    "tags": []
   },
   "source": [
    "![](https://scikit-learn.org/stable/_images/grid_search_cross_validation.png)\n",
    "\n",
    "[Reference](https://scikit-learn.org/stable/modules/cross_validation.html)."
   ]
  },
  {
   "cell_type": "code",
   "execution_count": 16,
   "id": "41448bd2",
   "metadata": {
    "execution": {
     "iopub.execute_input": "2023-02-18T05:18:33.868127Z",
     "iopub.status.busy": "2023-02-18T05:18:33.867690Z",
     "iopub.status.idle": "2023-02-18T05:20:53.535916Z",
     "shell.execute_reply": "2023-02-18T05:20:53.533668Z"
    },
    "papermill": {
     "duration": 139.68564,
     "end_time": "2023-02-18T05:20:53.539264",
     "exception": false,
     "start_time": "2023-02-18T05:18:33.853624",
     "status": "completed"
    },
    "tags": []
   },
   "outputs": [
    {
     "name": "stdout",
     "output_type": "stream",
     "text": [
      "Processing fold #0\n"
     ]
    },
    {
     "name": "stderr",
     "output_type": "stream",
     "text": [
      "2023-02-18 05:18:33.902409: W tensorflow/stream_executor/platform/default/dso_loader.cc:64] Could not load dynamic library 'libcuda.so.1'; dlerror: libcuda.so.1: cannot open shared object file: No such file or directory; LD_LIBRARY_PATH: /usr/local/cuda/lib64:/usr/local/cuda/lib:/usr/local/lib/x86_64-linux-gnu:/usr/local/nvidia/lib:/usr/local/nvidia/lib64::/opt/conda/lib\n",
      "2023-02-18 05:18:33.902480: W tensorflow/stream_executor/cuda/cuda_driver.cc:269] failed call to cuInit: UNKNOWN ERROR (303)\n"
     ]
    },
    {
     "name": "stdout",
     "output_type": "stream",
     "text": [
      "Processing fold #1\n",
      "Processing fold #2\n",
      "Processing fold #3\n"
     ]
    }
   ],
   "source": [
    "num_epochs = 500\n",
    "k = 4\n",
    "num_val_samples = len(X_train) // k\n",
    "all_mae_histories = []\n",
    "\n",
    "for i in range(k):\n",
    "    print(f\"Processing fold #{i}\")\n",
    "    \n",
    "    # split 1 fold for validation\n",
    "    val_data = X_train[i * num_val_samples: (i + 1) * num_val_samples]\n",
    "    val_targets = y_train[i * num_val_samples: (i + 1) * num_val_samples]\n",
    "    \n",
    "    # get the rest of 3 folds for training\n",
    "    partial_train_data = np.concatenate(\n",
    "        [X_train[:i * num_val_samples],\n",
    "        X_train[(i + 1) * num_val_samples:]],\n",
    "        axis=0\n",
    "    )\n",
    "    partial_train_targets = np.concatenate(\n",
    "        [y_train[:i * num_val_samples],\n",
    "        y_train[(i + 1) * num_val_samples:]],\n",
    "        axis=0\n",
    "    )\n",
    "        \n",
    "    # build model\n",
    "    model = SimpleNetwork()\n",
    "            \n",
    "    # initialize optimizer, loss function, and performance metrics\n",
    "    model.compile(optimizer=\"rmsprop\",\n",
    "                  loss=\"mse\",          # mse is a to-go loss function for regression\n",
    "                  metrics=[\"mae\"])\n",
    "    \n",
    "    # train model on training dataset\n",
    "    history = model.fit(partial_train_data, \n",
    "                        partial_train_targets,\n",
    "                        epochs=num_epochs, \n",
    "                        batch_size=16,\n",
    "                        validation_data=(val_data, val_targets),\n",
    "                        verbose=0) # verbose == training without print out every training epoch\n",
    "    \n",
    "    # log model performance\n",
    "    mae_history = history.history[\"val_mae\"]\n",
    "    all_mae_histories.append(mae_history)"
   ]
  },
  {
   "cell_type": "code",
   "execution_count": 17,
   "id": "977d370b",
   "metadata": {
    "execution": {
     "iopub.execute_input": "2023-02-18T05:20:53.569577Z",
     "iopub.status.busy": "2023-02-18T05:20:53.569073Z",
     "iopub.status.idle": "2023-02-18T05:20:53.576631Z",
     "shell.execute_reply": "2023-02-18T05:20:53.574756Z"
    },
    "papermill": {
     "duration": 0.026308,
     "end_time": "2023-02-18T05:20:53.579622",
     "exception": false,
     "start_time": "2023-02-18T05:20:53.553314",
     "status": "completed"
    },
    "tags": []
   },
   "outputs": [
    {
     "name": "stdout",
     "output_type": "stream",
     "text": [
      "(4, 500)\n"
     ]
    }
   ],
   "source": [
    "# basically, the matrix store 500 epochs (times) that re run K-fold and for each epoch we have 4 mae from a k-fold of that epoch.\n",
    "print(np.array(all_mae_histories).shape)"
   ]
  },
  {
   "cell_type": "code",
   "execution_count": 18,
   "id": "02079f49",
   "metadata": {
    "execution": {
     "iopub.execute_input": "2023-02-18T05:20:53.609782Z",
     "iopub.status.busy": "2023-02-18T05:20:53.609358Z",
     "iopub.status.idle": "2023-02-18T05:20:53.623626Z",
     "shell.execute_reply": "2023-02-18T05:20:53.622162Z"
    },
    "papermill": {
     "duration": 0.032321,
     "end_time": "2023-02-18T05:20:53.626460",
     "exception": false,
     "start_time": "2023-02-18T05:20:53.594139",
     "status": "completed"
    },
    "tags": []
   },
   "outputs": [],
   "source": [
    "average_mae_history = []\n",
    "\n",
    "# go thru 500 epochs\n",
    "for i in range(num_epochs):\n",
    "    temp = []\n",
    "    \n",
    "    # go thru each fold and get the mae at that epoch\n",
    "    for x in all_mae_histories:\n",
    "        temp.append(x[i])\n",
    "    \n",
    "    # calculate the mean mae for that epoch\n",
    "    temp = np.mean(temp)\n",
    "    \n",
    "    # store in the average mae log\n",
    "    average_mae_history.append(temp)"
   ]
  },
  {
   "cell_type": "code",
   "execution_count": 19,
   "id": "25fcf792",
   "metadata": {
    "execution": {
     "iopub.execute_input": "2023-02-18T05:20:53.656997Z",
     "iopub.status.busy": "2023-02-18T05:20:53.656593Z",
     "iopub.status.idle": "2023-02-18T05:20:53.662804Z",
     "shell.execute_reply": "2023-02-18T05:20:53.661356Z"
    },
    "papermill": {
     "duration": 0.025338,
     "end_time": "2023-02-18T05:20:53.665417",
     "exception": false,
     "start_time": "2023-02-18T05:20:53.640079",
     "status": "completed"
    },
    "tags": []
   },
   "outputs": [
    {
     "name": "stdout",
     "output_type": "stream",
     "text": [
      "500\n"
     ]
    }
   ],
   "source": [
    "# check shape\n",
    "print(len(average_mae_history))"
   ]
  },
  {
   "cell_type": "code",
   "execution_count": 20,
   "id": "b27b1b64",
   "metadata": {
    "execution": {
     "iopub.execute_input": "2023-02-18T05:20:53.694569Z",
     "iopub.status.busy": "2023-02-18T05:20:53.694173Z",
     "iopub.status.idle": "2023-02-18T05:20:53.938386Z",
     "shell.execute_reply": "2023-02-18T05:20:53.937063Z"
    },
    "papermill": {
     "duration": 0.262191,
     "end_time": "2023-02-18T05:20:53.941038",
     "exception": false,
     "start_time": "2023-02-18T05:20:53.678847",
     "status": "completed"
    },
    "tags": []
   },
   "outputs": [
    {
     "data": {
      "image/png": "[encoded data removed]",
      "text/plain": [
       "<Figure size 640x480 with 1 Axes>"
      ]
     },
     "metadata": {},
     "output_type": "display_data"
    }
   ],
   "source": [
    "# plot validation score from history\n",
    "plt.plot(range(1, len(average_mae_history) + 1), average_mae_history)\n",
    "plt.title(\"Validation MAE vs Epochs of Deep Learning Model\")\n",
    "plt.xlabel(\"Epochs\")\n",
    "plt.ylabel(\"Validation MAE\")\n",
    "plt.show()"
   ]
  },
  {
   "cell_type": "markdown",
   "id": "84431826",
   "metadata": {
    "papermill": {
     "duration": 0.013376,
     "end_time": "2023-02-18T05:20:53.968757",
     "exception": false,
     "start_time": "2023-02-18T05:20:53.955381",
     "status": "completed"
    },
    "tags": []
   },
   "source": [
    "**Note**: the validation MAE for the first few epochs is dramatically higher than the values that follow. Let’s omit the first 10 data points, which are on a different scale than the rest of the curve."
   ]
  },
  {
   "cell_type": "code",
   "execution_count": 21,
   "id": "b0be4b66",
   "metadata": {
    "execution": {
     "iopub.execute_input": "2023-02-18T05:20:53.998646Z",
     "iopub.status.busy": "2023-02-18T05:20:53.998158Z",
     "iopub.status.idle": "2023-02-18T05:20:54.232282Z",
     "shell.execute_reply": "2023-02-18T05:20:54.230689Z"
    },
    "papermill": {
     "duration": 0.252986,
     "end_time": "2023-02-18T05:20:54.235443",
     "exception": false,
     "start_time": "2023-02-18T05:20:53.982457",
     "status": "completed"
    },
    "tags": []
   },
   "outputs": [
    {
     "data": {
      "image/png": "[encoded data removed]",
      "text/plain": [
       "<Figure size 640x480 with 1 Axes>"
      ]
     },
     "metadata": {},
     "output_type": "display_data"
    }
   ],
   "source": [
    "# plot the validation score, excluding the first 10 data points\n",
    "truncated_mae_history = average_mae_history[10:]\n",
    "plt.plot(range(1, len(truncated_mae_history) + 1), truncated_mae_history)\n",
    "plt.title(\"Validation MAE vs Epochs of Deep Learning Model\")\n",
    "plt.xlabel(\"Epochs\")\n",
    "plt.ylabel(\"Validation MAE\")\n",
    "plt.show()"
   ]
  },
  {
   "cell_type": "markdown",
   "id": "2980d320",
   "metadata": {
    "papermill": {
     "duration": 0.014023,
     "end_time": "2023-02-18T05:20:54.264211",
     "exception": false,
     "start_time": "2023-02-18T05:20:54.250188",
     "status": "completed"
    },
    "tags": []
   },
   "source": [
    "**Note**: validation MAE stops improving significantly after 300-400 epochs (this number includes the 10 epochs we omitted). Past that point, we start overfitting."
   ]
  },
  {
   "cell_type": "markdown",
   "id": "2839e7bd",
   "metadata": {
    "papermill": {
     "duration": 0.01475,
     "end_time": "2023-02-18T05:20:54.293553",
     "exception": false,
     "start_time": "2023-02-18T05:20:54.278803",
     "status": "completed"
    },
    "tags": []
   },
   "source": [
    "# 6. Train Model on Full Training Dataset & Test on Testing Dataset"
   ]
  },
  {
   "cell_type": "code",
   "execution_count": 22,
   "id": "0165c9f8",
   "metadata": {
    "execution": {
     "iopub.execute_input": "2023-02-18T05:20:54.324669Z",
     "iopub.status.busy": "2023-02-18T05:20:54.324267Z",
     "iopub.status.idle": "2023-02-18T05:21:10.135761Z",
     "shell.execute_reply": "2023-02-18T05:21:10.133676Z"
    },
    "papermill": {
     "duration": 15.831232,
     "end_time": "2023-02-18T05:21:10.139258",
     "exception": false,
     "start_time": "2023-02-18T05:20:54.308026",
     "status": "completed"
    },
    "tags": []
   },
   "outputs": [
    {
     "name": "stdout",
     "output_type": "stream",
     "text": [
      "5/5 [==============================] - 0s 3ms/step - loss: 16.1799 - mean_absolute_error: 2.7190\n",
      "Model: \"simple_network_4\"\n",
      "_________________________________________________________________\n",
      " Layer (type)                Output Shape              Param #   \n",
      "=================================================================\n",
      " dense_12 (Dense)            multiple                  896       \n",
      "                                                                 \n",
      " dense_13 (Dense)            multiple                  4160      \n",
      "                                                                 \n",
      " dense_14 (Dense)            multiple                  65        \n",
      "                                                                 \n",
      "=================================================================\n",
      "Total params: 5,121\n",
      "Trainable params: 5,121\n",
      "Non-trainable params: 0\n",
      "_________________________________________________________________\n"
     ]
    },
    {
     "data": {
      "image/png": "[encoded data removed]",
      "text/plain": [
       "<IPython.core.display.Image object>"
      ]
     },
     "execution_count": 22,
     "metadata": {},
     "output_type": "execute_result"
    }
   ],
   "source": [
    "# construct model\n",
    "model = SimpleNetwork()\n",
    "\n",
    "# build model\n",
    "model.compile(optimizer=\"rmsprop\",\n",
    "              loss=[\"mean_squared_error\"],\n",
    "              metrics=[\"mean_absolute_error\"]) \n",
    "\n",
    "# train final model from what we learn: aka epochs=350\n",
    "model.fit(X_train, y_train, epochs=350, batch_size=16, verbose=0)\n",
    "\n",
    "# evaluate the model on the test dataset\n",
    "test_mse_score, test_mae_score = model.evaluate(X_test, y_test)\n",
    "\n",
    "# show the model summary\n",
    "model.summary()\n",
    "    \n",
    "# plot the model architecture\n",
    "keras.utils.plot_model(model, \"my_model.png\", show_shapes=True)"
   ]
  },
  {
   "cell_type": "code",
   "execution_count": 23,
   "id": "6d595625",
   "metadata": {
    "execution": {
     "iopub.execute_input": "2023-02-18T05:21:10.174545Z",
     "iopub.status.busy": "2023-02-18T05:21:10.173997Z",
     "iopub.status.idle": "2023-02-18T05:21:10.181020Z",
     "shell.execute_reply": "2023-02-18T05:21:10.179473Z"
    },
    "papermill": {
     "duration": 0.028557,
     "end_time": "2023-02-18T05:21:10.184377",
     "exception": false,
     "start_time": "2023-02-18T05:21:10.155820",
     "status": "completed"
    },
    "tags": []
   },
   "outputs": [
    {
     "name": "stdout",
     "output_type": "stream",
     "text": [
      "2.7189717292785645\n"
     ]
    }
   ],
   "source": [
    "print(test_mae_score)"
   ]
  },
  {
   "cell_type": "code",
   "execution_count": 24,
   "id": "767a8331",
   "metadata": {
    "execution": {
     "iopub.execute_input": "2023-02-18T05:21:10.218918Z",
     "iopub.status.busy": "2023-02-18T05:21:10.218432Z",
     "iopub.status.idle": "2023-02-18T05:21:10.225935Z",
     "shell.execute_reply": "2023-02-18T05:21:10.224298Z"
    },
    "papermill": {
     "duration": 0.028867,
     "end_time": "2023-02-18T05:21:10.229373",
     "exception": false,
     "start_time": "2023-02-18T05:21:10.200506",
     "status": "completed"
    },
    "tags": []
   },
   "outputs": [
    {
     "name": "stdout",
     "output_type": "stream",
     "text": [
      "The minimal house price is 5.0.\n",
      "The maximum house price is 50.0.\n"
     ]
    }
   ],
   "source": [
    "print(f\"The minimal house price is {min(y)}.\")\n",
    "print(f\"The maximum house price is {max(y)}.\")"
   ]
  },
  {
   "cell_type": "markdown",
   "id": "fba6ef3e",
   "metadata": {
    "papermill": {
     "duration": 0.015952,
     "end_time": "2023-02-18T05:21:10.262783",
     "exception": false,
     "start_time": "2023-02-18T05:21:10.246831",
     "status": "completed"
    },
    "tags": []
   },
   "source": [
    "**Note**: The MAE measure the difference between the predictions and the targets in regression. For this problem, if the MAE is 0.5, this means that the model prediction is off by `$500` on average. We see that the house price range is `$5000` to `$50,000`, thus, the fact that our model is off by `$2,543` in average is significant!"
   ]
  },
  {
   "cell_type": "markdown",
   "id": "3c064150",
   "metadata": {
    "papermill": {
     "duration": 0.016087,
     "end_time": "2023-02-18T05:21:10.295355",
     "exception": false,
     "start_time": "2023-02-18T05:21:10.279268",
     "status": "completed"
    },
    "tags": []
   },
   "source": [
    "# 7. Model \"Deployment\" Test\n",
    "**Note**: What if you want to see how our model perform during a \"deployment\" process? Let's test it on a sample on the testing dataset."
   ]
  },
  {
   "cell_type": "code",
   "execution_count": 25,
   "id": "f21a4d45",
   "metadata": {
    "execution": {
     "iopub.execute_input": "2023-02-18T05:21:10.330336Z",
     "iopub.status.busy": "2023-02-18T05:21:10.329813Z",
     "iopub.status.idle": "2023-02-18T05:21:10.548836Z",
     "shell.execute_reply": "2023-02-18T05:21:10.547641Z"
    },
    "papermill": {
     "duration": 0.240508,
     "end_time": "2023-02-18T05:21:10.552431",
     "exception": false,
     "start_time": "2023-02-18T05:21:10.311923",
     "status": "completed"
    },
    "tags": []
   },
   "outputs": [
    {
     "name": "stdout",
     "output_type": "stream",
     "text": [
      "5/5 [==============================] - 0s 2ms/step\n"
     ]
    }
   ],
   "source": [
    "# predict on the entire test dataset\n",
    "predictions = model.predict(X_test)"
   ]
  },
  {
   "cell_type": "code",
   "execution_count": 26,
   "id": "bc580eed",
   "metadata": {
    "execution": {
     "iopub.execute_input": "2023-02-18T05:21:10.591324Z",
     "iopub.status.busy": "2023-02-18T05:21:10.589506Z",
     "iopub.status.idle": "2023-02-18T05:21:10.600757Z",
     "shell.execute_reply": "2023-02-18T05:21:10.598426Z"
    },
    "papermill": {
     "duration": 0.034635,
     "end_time": "2023-02-18T05:21:10.604965",
     "exception": false,
     "start_time": "2023-02-18T05:21:10.570330",
     "status": "completed"
    },
    "tags": []
   },
   "outputs": [
    {
     "name": "stdout",
     "output_type": "stream",
     "text": [
      "Model's prediction on the first house in the test dataset is: 22.243999481201172\n"
     ]
    }
   ],
   "source": [
    "# get the prediction value\n",
    "print(f\"Model's prediction on the first house in the test dataset is: {predictions[0][0]}\")"
   ]
  },
  {
   "cell_type": "code",
   "execution_count": 27,
   "id": "514bb65e",
   "metadata": {
    "execution": {
     "iopub.execute_input": "2023-02-18T05:21:10.641586Z",
     "iopub.status.busy": "2023-02-18T05:21:10.639918Z",
     "iopub.status.idle": "2023-02-18T05:21:10.649228Z",
     "shell.execute_reply": "2023-02-18T05:21:10.647937Z"
    },
    "papermill": {
     "duration": 0.031457,
     "end_time": "2023-02-18T05:21:10.653215",
     "exception": false,
     "start_time": "2023-02-18T05:21:10.621758",
     "status": "completed"
    },
    "tags": []
   },
   "outputs": [
    {
     "name": "stdout",
     "output_type": "stream",
     "text": [
      "329    22.6\n",
      "371    50.0\n",
      "219    23.0\n",
      "403     8.3\n",
      "78     21.2\n",
      "       ... \n",
      "4      36.2\n",
      "428    11.0\n",
      "385     7.2\n",
      "308    22.8\n",
      "5      28.7\n",
      "Name: MEDV, Length: 152, dtype: float64\n"
     ]
    }
   ],
   "source": [
    "# get all the labels and indices from test dataset\n",
    "print(y_test)"
   ]
  },
  {
   "cell_type": "markdown",
   "id": "d7456b2e",
   "metadata": {
    "papermill": {
     "duration": 0.017659,
     "end_time": "2023-02-18T05:21:10.689610",
     "exception": false,
     "start_time": "2023-02-18T05:21:10.671951",
     "status": "completed"
    },
    "tags": []
   },
   "source": [
    "**Note**: we see that the first house in the test dataset has index of 329. Here, the index is mixed up since we set random shuffle during the train/validate/test split in the data processing step."
   ]
  },
  {
   "cell_type": "code",
   "execution_count": 28,
   "id": "2b4c6ab4",
   "metadata": {
    "execution": {
     "iopub.execute_input": "2023-02-18T05:21:10.726203Z",
     "iopub.status.busy": "2023-02-18T05:21:10.725717Z",
     "iopub.status.idle": "2023-02-18T05:21:10.732101Z",
     "shell.execute_reply": "2023-02-18T05:21:10.731142Z"
    },
    "papermill": {
     "duration": 0.027802,
     "end_time": "2023-02-18T05:21:10.734526",
     "exception": false,
     "start_time": "2023-02-18T05:21:10.706724",
     "status": "completed"
    },
    "tags": []
   },
   "outputs": [
    {
     "name": "stdout",
     "output_type": "stream",
     "text": [
      "22.6\n"
     ]
    }
   ],
   "source": [
    "print(df['MEDV'][329])"
   ]
  },
  {
   "cell_type": "markdown",
   "id": "26591269",
   "metadata": {
    "papermill": {
     "duration": 0.015902,
     "end_time": "2023-02-18T05:21:10.767160",
     "exception": false,
     "start_time": "2023-02-18T05:21:10.751258",
     "status": "completed"
    },
    "tags": []
   },
   "source": [
    "**Note**: We can see that the predicted price and the label do not offset by much (~`$1000`)."
   ]
  },
  {
   "cell_type": "markdown",
   "id": "bb77d622",
   "metadata": {
    "papermill": {
     "duration": 0.015707,
     "end_time": "2023-02-18T05:21:10.799022",
     "exception": false,
     "start_time": "2023-02-18T05:21:10.783315",
     "status": "completed"
    },
    "tags": []
   },
   "source": [
    "![](https://images.unsplash.com/photo-1506551907304-60bb62ffc9b0?ixlib=rb-4.0.3&ixid=MnwxMjA3fDB8MHxwaG90by1wYWdlfHx8fGVufDB8fHx8&auto=format&fit=crop&w=1170&q=80)"
   ]
  }
 ],
 "metadata": {
  "kernelspec": {
   "display_name": "Python 3",
   "language": "python",
   "name": "python3"
  },
  "language_info": {
   "codemirror_mode": {
    "name": "ipython",
    "version": 3
   },
   "file_extension": ".py",
   "mimetype": "text/x-python",
   "name": "python",
   "nbconvert_exporter": "python",
   "pygments_lexer": "ipython3",
   "version": "3.7.12"
  },
  "papermill": {
   "default_parameters": {},
   "duration": 180.300797,
   "end_time": "2023-02-18T05:21:13.673481",
   "environment_variables": {},
   "exception": null,
   "input_path": "__notebook__.ipynb",
   "output_path": "__notebook__.ipynb",
   "parameters": {},
   "start_time": "2023-02-18T05:18:13.372684",
   "version": "2.3.4"
  }
 },
 "nbformat": 4,
 "nbformat_minor": 5
}
