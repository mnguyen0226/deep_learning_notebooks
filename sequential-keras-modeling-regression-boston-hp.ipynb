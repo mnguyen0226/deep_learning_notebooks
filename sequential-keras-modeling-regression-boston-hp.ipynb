{
 "cells": [
  {
   "cell_type": "markdown",
   "id": "3b72073c",
   "metadata": {
    "_cell_guid": "b1076dfc-b9ad-4769-8c92-a6c4dae69d19",
    "_uuid": "8f2839f25d086af736a60e9eeb907d3b93b6e0e5",
    "papermill": {
     "duration": 0.012425,
     "end_time": "2023-02-17T22:16:49.538747",
     "exception": false,
     "start_time": "2023-02-17T22:16:49.526322",
     "status": "completed"
    },
    "tags": []
   },
   "source": [
    "# Predict Boston House Price: A Deep Learning Approach with Keras (Sequential Modeling)\n",
    "- **Date**: 2/17/2023.\n",
    "- **Author**: [Minh T. Nguyen](https://www.kaggle.com/minhbtnguyen).\n",
    "- **Dataset**: [Boston House Prices](https://www.kaggle.com/datasets/fedesoriano/the-boston-houseprice-data).\n",
    "- **Task**: Regression.\n",
    "- **Framework**: Keras, Sklearn.\n",
    "\n",
    "**Note**: *I use Kaggle to learn from others and practice my skills so any comment or suggestion is welcome!* "
   ]
  },
  {
   "cell_type": "markdown",
   "id": "c8c95bea",
   "metadata": {
    "papermill": {
     "duration": 0.010834,
     "end_time": "2023-02-17T22:16:49.561670",
     "exception": false,
     "start_time": "2023-02-17T22:16:49.550836",
     "status": "completed"
    },
    "tags": []
   },
   "source": [
    "![](https://images.unsplash.com/photo-1572128023846-8cf5791a1299?ixlib=rb-4.0.3&ixid=MnwxMjA3fDB8MHxwaG90by1wYWdlfHx8fGVufDB8fHx8&auto=format&fit=crop&w=1032&q=80)"
   ]
  },
  {
   "cell_type": "code",
   "execution_count": 1,
   "id": "33728f45",
   "metadata": {
    "execution": {
     "iopub.execute_input": "2023-02-17T22:16:49.585085Z",
     "iopub.status.busy": "2023-02-17T22:16:49.584587Z",
     "iopub.status.idle": "2023-02-17T22:17:00.642991Z",
     "shell.execute_reply": "2023-02-17T22:17:00.641508Z"
    },
    "papermill": {
     "duration": 11.073864,
     "end_time": "2023-02-17T22:17:00.646402",
     "exception": false,
     "start_time": "2023-02-17T22:16:49.572538",
     "status": "completed"
    },
    "tags": []
   },
   "outputs": [],
   "source": [
    "# import libraries\n",
    "import numpy as np\n",
    "import pandas as pd\n",
    "import os \n",
    "import matplotlib.pyplot as plt\n",
    "import copy\n",
    "\n",
    "# import tensorflow\n",
    "from sklearn.model_selection import train_test_split\n",
    "from tensorflow import keras\n",
    "from tensorflow.keras import layers"
   ]
  },
  {
   "cell_type": "code",
   "execution_count": 2,
   "id": "c062598f",
   "metadata": {
    "execution": {
     "iopub.execute_input": "2023-02-17T22:17:00.670491Z",
     "iopub.status.busy": "2023-02-17T22:17:00.669708Z",
     "iopub.status.idle": "2023-02-17T22:17:00.676366Z",
     "shell.execute_reply": "2023-02-17T22:17:00.674892Z"
    },
    "papermill": {
     "duration": 0.02192,
     "end_time": "2023-02-17T22:17:00.679420",
     "exception": false,
     "start_time": "2023-02-17T22:17:00.657500",
     "status": "completed"
    },
    "tags": []
   },
   "outputs": [],
   "source": [
    "# set random seed for same results when reproducing the notebook\n",
    "np.random.seed(0)"
   ]
  },
  {
   "cell_type": "markdown",
   "id": "42f08cdf",
   "metadata": {
    "papermill": {
     "duration": 0.012986,
     "end_time": "2023-02-17T22:17:00.703649",
     "exception": false,
     "start_time": "2023-02-17T22:17:00.690663",
     "status": "completed"
    },
    "tags": []
   },
   "source": [
    "# 1. Import Dataset"
   ]
  },
  {
   "cell_type": "code",
   "execution_count": 3,
   "id": "7e3e6be0",
   "metadata": {
    "execution": {
     "iopub.execute_input": "2023-02-17T22:17:00.731076Z",
     "iopub.status.busy": "2023-02-17T22:17:00.730621Z",
     "iopub.status.idle": "2023-02-17T22:17:00.742123Z",
     "shell.execute_reply": "2023-02-17T22:17:00.741190Z"
    },
    "papermill": {
     "duration": 0.027597,
     "end_time": "2023-02-17T22:17:00.744791",
     "exception": false,
     "start_time": "2023-02-17T22:17:00.717194",
     "status": "completed"
    },
    "tags": []
   },
   "outputs": [
    {
     "name": "stdout",
     "output_type": "stream",
     "text": [
      "/kaggle/input/the-boston-houseprice-data/boston.csv\n"
     ]
    }
   ],
   "source": [
    "# connect with Kaggle directory\n",
    "for dirname, _, filenames in os.walk('/kaggle/input'):\n",
    "    for filename in filenames:\n",
    "        print(os.path.join(dirname, filename))"
   ]
  },
  {
   "cell_type": "code",
   "execution_count": 4,
   "id": "9507fa40",
   "metadata": {
    "execution": {
     "iopub.execute_input": "2023-02-17T22:17:00.771219Z",
     "iopub.status.busy": "2023-02-17T22:17:00.770707Z",
     "iopub.status.idle": "2023-02-17T22:17:00.823014Z",
     "shell.execute_reply": "2023-02-17T22:17:00.822014Z"
    },
    "papermill": {
     "duration": 0.06931,
     "end_time": "2023-02-17T22:17:00.825379",
     "exception": false,
     "start_time": "2023-02-17T22:17:00.756069",
     "status": "completed"
    },
    "tags": []
   },
   "outputs": [
    {
     "data": {
      "text/html": [
       "<div>\n",
       "<style scoped>\n",
       "    .dataframe tbody tr th:only-of-type {\n",
       "        vertical-align: middle;\n",
       "    }\n",
       "\n",
       "    .dataframe tbody tr th {\n",
       "        vertical-align: top;\n",
       "    }\n",
       "\n",
       "    .dataframe thead th {\n",
       "        text-align: right;\n",
       "    }\n",
       "</style>\n",
       "<table border=\"1\" class=\"dataframe\">\n",
       "  <thead>\n",
       "    <tr style=\"text-align: right;\">\n",
       "      <th></th>\n",
       "      <th>CRIM</th>\n",
       "      <th>ZN</th>\n",
       "      <th>INDUS</th>\n",
       "      <th>CHAS</th>\n",
       "      <th>NOX</th>\n",
       "      <th>RM</th>\n",
       "      <th>AGE</th>\n",
       "      <th>DIS</th>\n",
       "      <th>RAD</th>\n",
       "      <th>TAX</th>\n",
       "      <th>PTRATIO</th>\n",
       "      <th>B</th>\n",
       "      <th>LSTAT</th>\n",
       "      <th>MEDV</th>\n",
       "    </tr>\n",
       "  </thead>\n",
       "  <tbody>\n",
       "    <tr>\n",
       "      <th>0</th>\n",
       "      <td>0.00632</td>\n",
       "      <td>18.0</td>\n",
       "      <td>2.31</td>\n",
       "      <td>0</td>\n",
       "      <td>0.538</td>\n",
       "      <td>6.575</td>\n",
       "      <td>65.2</td>\n",
       "      <td>4.0900</td>\n",
       "      <td>1</td>\n",
       "      <td>296.0</td>\n",
       "      <td>15.3</td>\n",
       "      <td>396.90</td>\n",
       "      <td>4.98</td>\n",
       "      <td>24.0</td>\n",
       "    </tr>\n",
       "    <tr>\n",
       "      <th>1</th>\n",
       "      <td>0.02731</td>\n",
       "      <td>0.0</td>\n",
       "      <td>7.07</td>\n",
       "      <td>0</td>\n",
       "      <td>0.469</td>\n",
       "      <td>6.421</td>\n",
       "      <td>78.9</td>\n",
       "      <td>4.9671</td>\n",
       "      <td>2</td>\n",
       "      <td>242.0</td>\n",
       "      <td>17.8</td>\n",
       "      <td>396.90</td>\n",
       "      <td>9.14</td>\n",
       "      <td>21.6</td>\n",
       "    </tr>\n",
       "    <tr>\n",
       "      <th>2</th>\n",
       "      <td>0.02729</td>\n",
       "      <td>0.0</td>\n",
       "      <td>7.07</td>\n",
       "      <td>0</td>\n",
       "      <td>0.469</td>\n",
       "      <td>7.185</td>\n",
       "      <td>61.1</td>\n",
       "      <td>4.9671</td>\n",
       "      <td>2</td>\n",
       "      <td>242.0</td>\n",
       "      <td>17.8</td>\n",
       "      <td>392.83</td>\n",
       "      <td>4.03</td>\n",
       "      <td>34.7</td>\n",
       "    </tr>\n",
       "    <tr>\n",
       "      <th>3</th>\n",
       "      <td>0.03237</td>\n",
       "      <td>0.0</td>\n",
       "      <td>2.18</td>\n",
       "      <td>0</td>\n",
       "      <td>0.458</td>\n",
       "      <td>6.998</td>\n",
       "      <td>45.8</td>\n",
       "      <td>6.0622</td>\n",
       "      <td>3</td>\n",
       "      <td>222.0</td>\n",
       "      <td>18.7</td>\n",
       "      <td>394.63</td>\n",
       "      <td>2.94</td>\n",
       "      <td>33.4</td>\n",
       "    </tr>\n",
       "    <tr>\n",
       "      <th>4</th>\n",
       "      <td>0.06905</td>\n",
       "      <td>0.0</td>\n",
       "      <td>2.18</td>\n",
       "      <td>0</td>\n",
       "      <td>0.458</td>\n",
       "      <td>7.147</td>\n",
       "      <td>54.2</td>\n",
       "      <td>6.0622</td>\n",
       "      <td>3</td>\n",
       "      <td>222.0</td>\n",
       "      <td>18.7</td>\n",
       "      <td>396.90</td>\n",
       "      <td>5.33</td>\n",
       "      <td>36.2</td>\n",
       "    </tr>\n",
       "  </tbody>\n",
       "</table>\n",
       "</div>"
      ],
      "text/plain": [
       "      CRIM    ZN  INDUS  CHAS    NOX     RM   AGE     DIS  RAD    TAX  \\\n",
       "0  0.00632  18.0   2.31     0  0.538  6.575  65.2  4.0900    1  296.0   \n",
       "1  0.02731   0.0   7.07     0  0.469  6.421  78.9  4.9671    2  242.0   \n",
       "2  0.02729   0.0   7.07     0  0.469  7.185  61.1  4.9671    2  242.0   \n",
       "3  0.03237   0.0   2.18     0  0.458  6.998  45.8  6.0622    3  222.0   \n",
       "4  0.06905   0.0   2.18     0  0.458  7.147  54.2  6.0622    3  222.0   \n",
       "\n",
       "   PTRATIO       B  LSTAT  MEDV  \n",
       "0     15.3  396.90   4.98  24.0  \n",
       "1     17.8  396.90   9.14  21.6  \n",
       "2     17.8  392.83   4.03  34.7  \n",
       "3     18.7  394.63   2.94  33.4  \n",
       "4     18.7  396.90   5.33  36.2  "
      ]
     },
     "execution_count": 4,
     "metadata": {},
     "output_type": "execute_result"
    }
   ],
   "source": [
    "# import dataset\n",
    "df = pd.read_csv(\"/kaggle/input/the-boston-houseprice-data/boston.csv\")\n",
    "df.head()"
   ]
  },
  {
   "cell_type": "code",
   "execution_count": 5,
   "id": "84a81e31",
   "metadata": {
    "execution": {
     "iopub.execute_input": "2023-02-17T22:17:00.850368Z",
     "iopub.status.busy": "2023-02-17T22:17:00.849284Z",
     "iopub.status.idle": "2023-02-17T22:17:00.855193Z",
     "shell.execute_reply": "2023-02-17T22:17:00.853979Z"
    },
    "papermill": {
     "duration": 0.020928,
     "end_time": "2023-02-17T22:17:00.857677",
     "exception": false,
     "start_time": "2023-02-17T22:17:00.836749",
     "status": "completed"
    },
    "tags": []
   },
   "outputs": [
    {
     "name": "stdout",
     "output_type": "stream",
     "text": [
      "(506, 14)\n"
     ]
    }
   ],
   "source": [
    "# check the shape of the dataset\n",
    "print(df.shape)"
   ]
  },
  {
   "cell_type": "code",
   "execution_count": 6,
   "id": "0d2006b6",
   "metadata": {
    "execution": {
     "iopub.execute_input": "2023-02-17T22:17:00.882050Z",
     "iopub.status.busy": "2023-02-17T22:17:00.881559Z",
     "iopub.status.idle": "2023-02-17T22:17:00.891171Z",
     "shell.execute_reply": "2023-02-17T22:17:00.889725Z"
    },
    "papermill": {
     "duration": 0.024469,
     "end_time": "2023-02-17T22:17:00.893471",
     "exception": false,
     "start_time": "2023-02-17T22:17:00.869002",
     "status": "completed"
    },
    "tags": []
   },
   "outputs": [
    {
     "data": {
      "text/plain": [
       "CRIM       float64\n",
       "ZN         float64\n",
       "INDUS      float64\n",
       "CHAS         int64\n",
       "NOX        float64\n",
       "RM         float64\n",
       "AGE        float64\n",
       "DIS        float64\n",
       "RAD          int64\n",
       "TAX        float64\n",
       "PTRATIO    float64\n",
       "B          float64\n",
       "LSTAT      float64\n",
       "MEDV       float64\n",
       "dtype: object"
      ]
     },
     "execution_count": 6,
     "metadata": {},
     "output_type": "execute_result"
    }
   ],
   "source": [
    "# check datatypes of each feature\n",
    "df.dtypes"
   ]
  },
  {
   "cell_type": "markdown",
   "id": "5e7c2c0c",
   "metadata": {
    "papermill": {
     "duration": 0.010903,
     "end_time": "2023-02-17T22:17:00.916298",
     "exception": false,
     "start_time": "2023-02-17T22:17:00.905395",
     "status": "completed"
    },
    "tags": []
   },
   "source": [
    "**Note**: From the metadata, we learn that each column has different meaning:\n",
    "- **CRIM**: per capita crime rate by town.\n",
    "- **ZN**: proportion of residential land zoned for lots over 25,000 sq.ft.\n",
    "- **INDUS**: proportion of non-retail business acres per town.\n",
    "- **CHAS**: Charles River dummy variable (1 if tract bounds river; 0 otherwise).\n",
    "- **NOX**: nitric oxides concentration (parts per 10 million) [parts/10M].\n",
    "- **RM**: average number of rooms per dwelling.\n",
    "- **AGE**: proportion of owner-occupied units built prior to 1940.\n",
    "- **DIS**: weighted distances to five Boston employment centres.\n",
    "- **RAD**: index of accessibility to radial highways.\n",
    "- **TAX**: full-value property-tax rate per `$10,000 [$/10k]`.\n",
    "- **PTRATIO**: pupil-teacher ratio by town.\n",
    "- **B**: The result of the equation B=1000(Bk - 0.63)^2 where Bk is the proportion of blacks by town.\n",
    "- **LSTAT**: % lower status of the population.\n",
    "- **MEDV**: Median value of owner-occupied homes in `$1000's [k$]`."
   ]
  },
  {
   "cell_type": "markdown",
   "id": "825791bd",
   "metadata": {
    "papermill": {
     "duration": 0.010817,
     "end_time": "2023-02-17T22:17:00.938747",
     "exception": false,
     "start_time": "2023-02-17T22:17:00.927930",
     "status": "completed"
    },
    "tags": []
   },
   "source": [
    "# 2. Data Visualization & Analysis\n",
    "**Note**: From the table, we can see that the data has various ranges. Thus, we need to normalize all features into the same range so that the visualization of features won't be compressed.\n"
   ]
  },
  {
   "cell_type": "markdown",
   "id": "7c841557",
   "metadata": {
    "papermill": {
     "duration": 0.011792,
     "end_time": "2023-02-17T22:17:00.961839",
     "exception": false,
     "start_time": "2023-02-17T22:17:00.950047",
     "status": "completed"
    },
    "tags": []
   },
   "source": [
    "**Note**: Shape of the normal distribution (Gaussian distribution).\n",
    "\n",
    "![](https://cdn.scribbr.com/wp-content/uploads/2020/10/standard-normal-distribution-1024x633.png)"
   ]
  },
  {
   "cell_type": "markdown",
   "id": "62605d03",
   "metadata": {
    "papermill": {
     "duration": 0.012099,
     "end_time": "2023-02-17T22:17:00.986012",
     "exception": false,
     "start_time": "2023-02-17T22:17:00.973913",
     "status": "completed"
    },
    "tags": []
   },
   "source": [
    "**Note**: Let's plot the features (columns) of the dataset and see how they shape compared to the Gaussian distribution."
   ]
  },
  {
   "cell_type": "code",
   "execution_count": 7,
   "id": "b4412cd2",
   "metadata": {
    "execution": {
     "iopub.execute_input": "2023-02-17T22:17:01.013855Z",
     "iopub.status.busy": "2023-02-17T22:17:01.012974Z",
     "iopub.status.idle": "2023-02-17T22:17:01.023211Z",
     "shell.execute_reply": "2023-02-17T22:17:01.022193Z"
    },
    "papermill": {
     "duration": 0.026788,
     "end_time": "2023-02-17T22:17:01.026287",
     "exception": false,
     "start_time": "2023-02-17T22:17:00.999499",
     "status": "completed"
    },
    "tags": []
   },
   "outputs": [],
   "source": [
    "# normalize the dataset prior to plot\n",
    "df_plot = df.copy() # made a copy of the dataframe here as we have different normalization process in the later step\n",
    "mean = df_plot.mean(axis=0)\n",
    "df_plot -= mean\n",
    "std = df_plot.std(axis=0)\n",
    "df_plot /= std"
   ]
  },
  {
   "cell_type": "code",
   "execution_count": 8,
   "id": "14657dc2",
   "metadata": {
    "execution": {
     "iopub.execute_input": "2023-02-17T22:17:01.050807Z",
     "iopub.status.busy": "2023-02-17T22:17:01.050320Z",
     "iopub.status.idle": "2023-02-17T22:17:01.734533Z",
     "shell.execute_reply": "2023-02-17T22:17:01.733145Z"
    },
    "papermill": {
     "duration": 0.699569,
     "end_time": "2023-02-17T22:17:01.737193",
     "exception": false,
     "start_time": "2023-02-17T22:17:01.037624",
     "status": "completed"
    },
    "tags": []
   },
   "outputs": [
    {
     "data": {
      "image/png": "[encoded data removed]",
      "text/plain": [
       "<Figure size 640x480 with 1 Axes>"
      ]
     },
     "metadata": {},
     "output_type": "display_data"
    }
   ],
   "source": [
    "# plot the distribution for all 4 columns\n",
    "plt.title(\"Features Distribution\")\n",
    "df_plot['CRIM'].plot(kind='kde')\n",
    "df_plot['ZN'].plot(kind='kde')\n",
    "df_plot['INDUS'].plot(kind='kde')\n",
    "df_plot['CHAS'].plot(kind='kde')\n",
    "df_plot['NOX'].plot(kind='kde')\n",
    "df_plot['RM'].plot(kind='kde')\n",
    "df_plot['AGE'].plot(kind='kde')\n",
    "df_plot['DIS'].plot(kind='kde')\n",
    "df_plot['RAD'].plot(kind='kde')\n",
    "df_plot['TAX'].plot(kind='kde')\n",
    "df_plot['PTRATIO'].plot(kind='kde')\n",
    "df_plot['B'].plot(kind='kde')\n",
    "df_plot['LSTAT'].plot(kind='kde')\n",
    "df_plot['MEDV'].plot(kind='kde')\n",
    "\n",
    "plt.legend()\n",
    "plt.show()"
   ]
  },
  {
   "cell_type": "markdown",
   "id": "2561f7fa",
   "metadata": {
    "papermill": {
     "duration": 0.012354,
     "end_time": "2023-02-17T22:17:01.762600",
     "exception": false,
     "start_time": "2023-02-17T22:17:01.750246",
     "status": "completed"
    },
    "tags": []
   },
   "source": [
    "**Note**: We can see that all 14 features \"behaves\" similar to the Gaussian Distribution with different mean and standard deviation. This plot add an additional confirmation as most of the dataset has Gaussian distribution. The data points near the mean are more frequent in occurrent that the data far from the mean.\n",
    "\n",
    "*[Reference](https://www.investopedia.com/terms/n/normaldistribution.asp#:~:text=Normal%20distribution%2C%20also%20known%20as,as%20a%20%22bell%20curve%22.).*"
   ]
  },
  {
   "cell_type": "markdown",
   "id": "8f0c32ba",
   "metadata": {
    "papermill": {
     "duration": 0.013849,
     "end_time": "2023-02-17T22:17:01.790121",
     "exception": false,
     "start_time": "2023-02-17T22:17:01.776272",
     "status": "completed"
    },
    "tags": []
   },
   "source": [
    "# 3. Data Processing\n",
    "**Note**: There are ways to process raw data that suitable for types of data and how they are structure such as check NaN, feature engineering, normalization, data imputation,... However, for this dataset, I will do the following steps: \n",
    "- Check NaN.\n",
    "- Normalize the dataset.\n",
    "- Split it into training and testing set."
   ]
  },
  {
   "cell_type": "markdown",
   "id": "780f44b2",
   "metadata": {
    "papermill": {
     "duration": 0.012636,
     "end_time": "2023-02-17T22:17:01.816283",
     "exception": false,
     "start_time": "2023-02-17T22:17:01.803647",
     "status": "completed"
    },
    "tags": []
   },
   "source": [
    "## 3.1. Check For Not-a-Number (NaN) Data"
   ]
  },
  {
   "cell_type": "code",
   "execution_count": 9,
   "id": "e65fb5b9",
   "metadata": {
    "execution": {
     "iopub.execute_input": "2023-02-17T22:17:01.844752Z",
     "iopub.status.busy": "2023-02-17T22:17:01.844039Z",
     "iopub.status.idle": "2023-02-17T22:17:01.851791Z",
     "shell.execute_reply": "2023-02-17T22:17:01.850162Z"
    },
    "papermill": {
     "duration": 0.026452,
     "end_time": "2023-02-17T22:17:01.856030",
     "exception": false,
     "start_time": "2023-02-17T22:17:01.829578",
     "status": "completed"
    },
    "tags": []
   },
   "outputs": [
    {
     "name": "stdout",
     "output_type": "stream",
     "text": [
      "False\n"
     ]
    }
   ],
   "source": [
    "# examine and replace missing values \n",
    "print(df.isnull().values.any())"
   ]
  },
  {
   "cell_type": "markdown",
   "id": "4efb7ccb",
   "metadata": {
    "papermill": {
     "duration": 0.012516,
     "end_time": "2023-02-17T22:17:01.882245",
     "exception": false,
     "start_time": "2023-02-17T22:17:01.869729",
     "status": "completed"
    },
    "tags": []
   },
   "source": [
    "## 3.2. Normalize & Split Dataset\n",
    "**Note**: Split the data in to input features (X) and output label (y)."
   ]
  },
  {
   "cell_type": "code",
   "execution_count": 10,
   "id": "d07edacc",
   "metadata": {
    "execution": {
     "iopub.execute_input": "2023-02-17T22:17:01.912218Z",
     "iopub.status.busy": "2023-02-17T22:17:01.911449Z",
     "iopub.status.idle": "2023-02-17T22:17:01.919147Z",
     "shell.execute_reply": "2023-02-17T22:17:01.917710Z"
    },
    "papermill": {
     "duration": 0.027008,
     "end_time": "2023-02-17T22:17:01.923029",
     "exception": false,
     "start_time": "2023-02-17T22:17:01.896021",
     "status": "completed"
    },
    "tags": []
   },
   "outputs": [
    {
     "name": "stdout",
     "output_type": "stream",
     "text": [
      "(506, 13)\n"
     ]
    }
   ],
   "source": [
    "# get input features X \n",
    "X = df[list(df.columns[0:-1])]\n",
    "print(X.shape)"
   ]
  },
  {
   "cell_type": "code",
   "execution_count": 11,
   "id": "c0c9be86",
   "metadata": {
    "execution": {
     "iopub.execute_input": "2023-02-17T22:17:01.951734Z",
     "iopub.status.busy": "2023-02-17T22:17:01.951093Z",
     "iopub.status.idle": "2023-02-17T22:17:01.956737Z",
     "shell.execute_reply": "2023-02-17T22:17:01.955343Z"
    },
    "papermill": {
     "duration": 0.022854,
     "end_time": "2023-02-17T22:17:01.959479",
     "exception": false,
     "start_time": "2023-02-17T22:17:01.936625",
     "status": "completed"
    },
    "tags": []
   },
   "outputs": [
    {
     "name": "stdout",
     "output_type": "stream",
     "text": [
      "(506,)\n"
     ]
    }
   ],
   "source": [
    "# get output feature y\n",
    "y = df['MEDV']\n",
    "print(y.shape)"
   ]
  },
  {
   "cell_type": "code",
   "execution_count": 12,
   "id": "be111834",
   "metadata": {
    "execution": {
     "iopub.execute_input": "2023-02-17T22:17:01.989242Z",
     "iopub.status.busy": "2023-02-17T22:17:01.987844Z",
     "iopub.status.idle": "2023-02-17T22:17:01.997927Z",
     "shell.execute_reply": "2023-02-17T22:17:01.996906Z"
    },
    "papermill": {
     "duration": 0.027564,
     "end_time": "2023-02-17T22:17:02.000667",
     "exception": false,
     "start_time": "2023-02-17T22:17:01.973103",
     "status": "completed"
    },
    "tags": []
   },
   "outputs": [],
   "source": [
    "# partition into training/test/validation \n",
    "X_train, X_test, y_train, y_test = train_test_split(X, y, test_size=0.3, random_state=0)"
   ]
  },
  {
   "cell_type": "code",
   "execution_count": 13,
   "id": "36d447d2",
   "metadata": {
    "execution": {
     "iopub.execute_input": "2023-02-17T22:17:02.030182Z",
     "iopub.status.busy": "2023-02-17T22:17:02.029489Z",
     "iopub.status.idle": "2023-02-17T22:17:02.037304Z",
     "shell.execute_reply": "2023-02-17T22:17:02.035243Z"
    },
    "papermill": {
     "duration": 0.026579,
     "end_time": "2023-02-17T22:17:02.040829",
     "exception": false,
     "start_time": "2023-02-17T22:17:02.014250",
     "status": "completed"
    },
    "tags": []
   },
   "outputs": [
    {
     "name": "stdout",
     "output_type": "stream",
     "text": [
      "X_shape has shape: (354, 13)\n",
      "X_test has shape: (152, 13)\n",
      "y_train has shape: (354,)\n",
      "y_test has shape: (152,)\n"
     ]
    }
   ],
   "source": [
    "# check shape\n",
    "print(f\"X_shape has shape: {X_train.shape}\")\n",
    "print(f\"X_test has shape: {X_test.shape}\")\n",
    "print(f\"y_train has shape: {y_train.shape}\")\n",
    "print(f\"y_test has shape: {y_test.shape}\")"
   ]
  },
  {
   "cell_type": "code",
   "execution_count": 14,
   "id": "9a0ea09d",
   "metadata": {
    "execution": {
     "iopub.execute_input": "2023-02-17T22:17:02.068779Z",
     "iopub.status.busy": "2023-02-17T22:17:02.068383Z",
     "iopub.status.idle": "2023-02-17T22:17:02.083790Z",
     "shell.execute_reply": "2023-02-17T22:17:02.082148Z"
    },
    "papermill": {
     "duration": 0.033307,
     "end_time": "2023-02-17T22:17:02.087070",
     "exception": false,
     "start_time": "2023-02-17T22:17:02.053763",
     "status": "completed"
    },
    "tags": []
   },
   "outputs": [],
   "source": [
    "# normalized training data\n",
    "mean = X_train.mean(axis=0)\n",
    "X_train -= mean\n",
    "std = X_train.std(axis=0)\n",
    "X_train /= std\n",
    "\n",
    "# normalized testing data\n",
    "X_test -= mean\n",
    "X_test /= std"
   ]
  },
  {
   "cell_type": "markdown",
   "id": "6c132129",
   "metadata": {
    "papermill": {
     "duration": 0.012602,
     "end_time": "2023-02-17T22:17:02.112434",
     "exception": false,
     "start_time": "2023-02-17T22:17:02.099832",
     "status": "completed"
    },
    "tags": []
   },
   "source": [
    "**Note**: that we normalize the test data based on the training data. We don't want to normalized the test data based on the training distribution as we want to test the model on the same distribution of what we train. By doing this, we will avoid the \"information leak\" issue where the model might happen to learn something from the validation set, which will make the validation result less reliable."
   ]
  },
  {
   "cell_type": "markdown",
   "id": "8dc7c422",
   "metadata": {
    "papermill": {
     "duration": 0.012571,
     "end_time": "2023-02-17T22:17:02.137899",
     "exception": false,
     "start_time": "2023-02-17T22:17:02.125328",
     "status": "completed"
    },
    "tags": []
   },
   "source": [
    "# 4. Modeling\n",
    "**Note**: As the dataset is a fairly small dataset, we only need a small model. We can use a larger model, however, it will be a waste of computing power and risk to the large model to learn unwanted patterns. In addition, if the model is too large, it will start to overfit right away which makes the validation loss curve looks choppy (due high-variance). If we limit the model's size, it will optimize less neuron and provide better quality"
   ]
  },
  {
   "cell_type": "code",
   "execution_count": 15,
   "id": "457d3327",
   "metadata": {
    "execution": {
     "iopub.execute_input": "2023-02-17T22:17:02.166357Z",
     "iopub.status.busy": "2023-02-17T22:17:02.165923Z",
     "iopub.status.idle": "2023-02-17T22:17:02.174429Z",
     "shell.execute_reply": "2023-02-17T22:17:02.173013Z"
    },
    "papermill": {
     "duration": 0.026094,
     "end_time": "2023-02-17T22:17:02.177065",
     "exception": false,
     "start_time": "2023-02-17T22:17:02.150971",
     "status": "completed"
    },
    "tags": []
   },
   "outputs": [],
   "source": [
    "def build_model():\n",
    "    \"\"\"Build a deep learning model with 3 layers\n",
    "    while initialize optimizer, loss function, and metrics\n",
    "    \"\"\"\n",
    "    # contruct model\n",
    "    model = keras.Sequential([\n",
    "        layers.Dense(64, activation=\"relu\"),\n",
    "        layers.Dense(64, activation=\"relu\"),\n",
    "        layers.Dense(1),\n",
    "    ])\n",
    "    \n",
    "    # initialize optimizer, loss function, and performance metrics\n",
    "    model.compile(optimizer=\"rmsprop\",\n",
    "                  loss=\"mse\",          # mse is a to-go loss function for regression\n",
    "                  metrics=[\"mae\"])\n",
    "    \n",
    "    return model"
   ]
  },
  {
   "cell_type": "markdown",
   "id": "81729a7a",
   "metadata": {
    "papermill": {
     "duration": 0.012644,
     "end_time": "2023-02-17T22:17:02.202528",
     "exception": false,
     "start_time": "2023-02-17T22:17:02.189884",
     "status": "completed"
    },
    "tags": []
   },
   "source": [
    "# 5. K-Fold Validation\n",
    "**Note**: Right now, we don't know how well is our model's structure as well as the number of epochs to train (if we train the model too much, then the model will overfit!). For the larger dataset, we can simply take a portion of the traininig dataset as validation dataset and check the performance prior to training the entire training data. However, since the dataset is small, K-Fold validation will be a better choice. The image below showed how K-Fold validation works."
   ]
  },
  {
   "cell_type": "markdown",
   "id": "8be26057",
   "metadata": {
    "papermill": {
     "duration": 0.013054,
     "end_time": "2023-02-17T22:17:02.229567",
     "exception": false,
     "start_time": "2023-02-17T22:17:02.216513",
     "status": "completed"
    },
    "tags": []
   },
   "source": [
    "![](https://scikit-learn.org/stable/_images/grid_search_cross_validation.png)\n",
    "\n",
    "[Reference](https://scikit-learn.org/stable/modules/cross_validation.html)."
   ]
  },
  {
   "cell_type": "code",
   "execution_count": 16,
   "id": "062aeb75",
   "metadata": {
    "execution": {
     "iopub.execute_input": "2023-02-17T22:17:02.258296Z",
     "iopub.status.busy": "2023-02-17T22:17:02.257849Z",
     "iopub.status.idle": "2023-02-17T22:19:32.002248Z",
     "shell.execute_reply": "2023-02-17T22:19:32.000834Z"
    },
    "papermill": {
     "duration": 149.761768,
     "end_time": "2023-02-17T22:19:32.005200",
     "exception": false,
     "start_time": "2023-02-17T22:17:02.243432",
     "status": "completed"
    },
    "tags": []
   },
   "outputs": [
    {
     "name": "stdout",
     "output_type": "stream",
     "text": [
      "Processing fold #0\n"
     ]
    },
    {
     "name": "stderr",
     "output_type": "stream",
     "text": [
      "2023-02-17 22:17:02.301455: W tensorflow/stream_executor/platform/default/dso_loader.cc:64] Could not load dynamic library 'libcuda.so.1'; dlerror: libcuda.so.1: cannot open shared object file: No such file or directory; LD_LIBRARY_PATH: /usr/local/cuda/lib64:/usr/local/cuda/lib:/usr/local/lib/x86_64-linux-gnu:/usr/local/nvidia/lib:/usr/local/nvidia/lib64::/opt/conda/lib\n",
      "2023-02-17 22:17:02.301523: W tensorflow/stream_executor/cuda/cuda_driver.cc:269] failed call to cuInit: UNKNOWN ERROR (303)\n"
     ]
    },
    {
     "name": "stdout",
     "output_type": "stream",
     "text": [
      "Processing fold #1\n",
      "Processing fold #2\n",
      "Processing fold #3\n"
     ]
    }
   ],
   "source": [
    "num_epochs = 500\n",
    "k = 4\n",
    "num_val_samples = len(X_train) // k\n",
    "all_mae_histories = []\n",
    "\n",
    "for i in range(k):\n",
    "    print(f\"Processing fold #{i}\")\n",
    "    \n",
    "    # split 1 fold for validation\n",
    "    val_data = X_train[i * num_val_samples: (i + 1) * num_val_samples]\n",
    "    val_targets = y_train[i * num_val_samples: (i + 1) * num_val_samples]\n",
    "    \n",
    "    # get the rest of 3 folds for training\n",
    "    partial_train_data = np.concatenate(\n",
    "        [X_train[:i * num_val_samples],\n",
    "        X_train[(i + 1) * num_val_samples:]],\n",
    "        axis=0\n",
    "    )\n",
    "    partial_train_targets = np.concatenate(\n",
    "        [y_train[:i * num_val_samples],\n",
    "        y_train[(i + 1) * num_val_samples:]],\n",
    "        axis=0\n",
    "    )\n",
    "    \n",
    "    # build model\n",
    "    model = build_model()\n",
    "    \n",
    "    # train model on training dataset\n",
    "    history = model.fit(partial_train_data, \n",
    "                        partial_train_targets,\n",
    "                        epochs=num_epochs, \n",
    "                        batch_size=16,\n",
    "                        validation_data=(val_data, val_targets),\n",
    "                        verbose=0) # verbose == training without print out every training epoch\n",
    "    \n",
    "    # log model performance\n",
    "    mae_history = history.history[\"val_mae\"]\n",
    "    all_mae_histories.append(mae_history)"
   ]
  },
  {
   "cell_type": "code",
   "execution_count": 17,
   "id": "dd5db6d6",
   "metadata": {
    "execution": {
     "iopub.execute_input": "2023-02-17T22:19:32.034437Z",
     "iopub.status.busy": "2023-02-17T22:19:32.033991Z",
     "iopub.status.idle": "2023-02-17T22:19:32.040843Z",
     "shell.execute_reply": "2023-02-17T22:19:32.039496Z"
    },
    "papermill": {
     "duration": 0.024251,
     "end_time": "2023-02-17T22:19:32.043640",
     "exception": false,
     "start_time": "2023-02-17T22:19:32.019389",
     "status": "completed"
    },
    "tags": []
   },
   "outputs": [
    {
     "name": "stdout",
     "output_type": "stream",
     "text": [
      "(4, 500)\n"
     ]
    }
   ],
   "source": [
    "# basically, the matrix store 500 epochs (times) that re run K-fold and for each epoch we have 4 mae from a k-fold of that epoch.\n",
    "print(np.array(all_mae_histories).shape)"
   ]
  },
  {
   "cell_type": "code",
   "execution_count": 18,
   "id": "a44e00d9",
   "metadata": {
    "execution": {
     "iopub.execute_input": "2023-02-17T22:19:32.072349Z",
     "iopub.status.busy": "2023-02-17T22:19:32.071927Z",
     "iopub.status.idle": "2023-02-17T22:19:32.084359Z",
     "shell.execute_reply": "2023-02-17T22:19:32.083184Z"
    },
    "papermill": {
     "duration": 0.029856,
     "end_time": "2023-02-17T22:19:32.087013",
     "exception": false,
     "start_time": "2023-02-17T22:19:32.057157",
     "status": "completed"
    },
    "tags": []
   },
   "outputs": [],
   "source": [
    "average_mae_history = []\n",
    "\n",
    "# go thru 500 epochs\n",
    "for i in range(num_epochs):\n",
    "    temp = []\n",
    "    \n",
    "    # go thru each fold and get the mae at that epoch\n",
    "    for x in all_mae_histories:\n",
    "        temp.append(x[i])\n",
    "    \n",
    "    # calculate the mean mae for that epoch\n",
    "    temp = np.mean(temp)\n",
    "    \n",
    "    # store in the average mae log\n",
    "    average_mae_history.append(temp)"
   ]
  },
  {
   "cell_type": "code",
   "execution_count": 19,
   "id": "52115f16",
   "metadata": {
    "execution": {
     "iopub.execute_input": "2023-02-17T22:19:32.116007Z",
     "iopub.status.busy": "2023-02-17T22:19:32.115576Z",
     "iopub.status.idle": "2023-02-17T22:19:32.121421Z",
     "shell.execute_reply": "2023-02-17T22:19:32.120089Z"
    },
    "papermill": {
     "duration": 0.023587,
     "end_time": "2023-02-17T22:19:32.124362",
     "exception": false,
     "start_time": "2023-02-17T22:19:32.100775",
     "status": "completed"
    },
    "tags": []
   },
   "outputs": [
    {
     "name": "stdout",
     "output_type": "stream",
     "text": [
      "500\n"
     ]
    }
   ],
   "source": [
    "# check shape\n",
    "print(len(average_mae_history))"
   ]
  },
  {
   "cell_type": "code",
   "execution_count": 20,
   "id": "1a3eae13",
   "metadata": {
    "execution": {
     "iopub.execute_input": "2023-02-17T22:19:32.154059Z",
     "iopub.status.busy": "2023-02-17T22:19:32.153539Z",
     "iopub.status.idle": "2023-02-17T22:19:32.390431Z",
     "shell.execute_reply": "2023-02-17T22:19:32.389200Z"
    },
    "papermill": {
     "duration": 0.254729,
     "end_time": "2023-02-17T22:19:32.393017",
     "exception": false,
     "start_time": "2023-02-17T22:19:32.138288",
     "status": "completed"
    },
    "tags": []
   },
   "outputs": [
    {
     "data": {
      "image/png": "[encoded data removed]",
      "text/plain": [
       "<Figure size 640x480 with 1 Axes>"
      ]
     },
     "metadata": {},
     "output_type": "display_data"
    }
   ],
   "source": [
    "# plot validation score from history\n",
    "plt.plot(range(1, len(average_mae_history) + 1), average_mae_history)\n",
    "plt.title(\"Validation MAE vs Epochs of Deep Learning Model\")\n",
    "plt.xlabel(\"Epochs\")\n",
    "plt.ylabel(\"Validation MAE\")\n",
    "plt.show()"
   ]
  },
  {
   "cell_type": "markdown",
   "id": "ae2ae66f",
   "metadata": {
    "papermill": {
     "duration": 0.013359,
     "end_time": "2023-02-17T22:19:32.420439",
     "exception": false,
     "start_time": "2023-02-17T22:19:32.407080",
     "status": "completed"
    },
    "tags": []
   },
   "source": [
    "**Note**: the validation MAE for the first few epochs is dramatically higher than the values that follow. Let’s omit the first 10 data points, which are on a different scale than the rest of the curve."
   ]
  },
  {
   "cell_type": "code",
   "execution_count": 21,
   "id": "6e05f58c",
   "metadata": {
    "execution": {
     "iopub.execute_input": "2023-02-17T22:19:32.451053Z",
     "iopub.status.busy": "2023-02-17T22:19:32.450622Z",
     "iopub.status.idle": "2023-02-17T22:19:32.682201Z",
     "shell.execute_reply": "2023-02-17T22:19:32.681335Z"
    },
    "papermill": {
     "duration": 0.249118,
     "end_time": "2023-02-17T22:19:32.684461",
     "exception": false,
     "start_time": "2023-02-17T22:19:32.435343",
     "status": "completed"
    },
    "tags": []
   },
   "outputs": [
    {
     "data": {
      "image/png": "[encoded data removed]",
      "text/plain": [
       "<Figure size 640x480 with 1 Axes>"
      ]
     },
     "metadata": {},
     "output_type": "display_data"
    }
   ],
   "source": [
    "# plot the validation score, excluding the first 10 data points\n",
    "truncated_mae_history = average_mae_history[10:]\n",
    "plt.plot(range(1, len(truncated_mae_history) + 1), truncated_mae_history)\n",
    "plt.title(\"Validation MAE vs Epochs of Deep Learning Model\")\n",
    "plt.xlabel(\"Epochs\")\n",
    "plt.ylabel(\"Validation MAE\")\n",
    "plt.show()"
   ]
  },
  {
   "cell_type": "markdown",
   "id": "141425d7",
   "metadata": {
    "papermill": {
     "duration": 0.014361,
     "end_time": "2023-02-17T22:19:32.713655",
     "exception": false,
     "start_time": "2023-02-17T22:19:32.699294",
     "status": "completed"
    },
    "tags": []
   },
   "source": [
    "**Note**: validation MAE stops improving significantly after 300-400 epochs (this number includes the 10 epochs we omitted). Past that point, we start overfitting."
   ]
  },
  {
   "cell_type": "markdown",
   "id": "6cf63069",
   "metadata": {
    "papermill": {
     "duration": 0.014061,
     "end_time": "2023-02-17T22:19:32.742204",
     "exception": false,
     "start_time": "2023-02-17T22:19:32.728143",
     "status": "completed"
    },
    "tags": []
   },
   "source": [
    "# 6. Train Model on Full Training Dataset & Test on Testing Dataset"
   ]
  },
  {
   "cell_type": "code",
   "execution_count": 22,
   "id": "65d5b9b7",
   "metadata": {
    "execution": {
     "iopub.execute_input": "2023-02-17T22:19:32.773947Z",
     "iopub.status.busy": "2023-02-17T22:19:32.773228Z",
     "iopub.status.idle": "2023-02-17T22:19:54.042908Z",
     "shell.execute_reply": "2023-02-17T22:19:54.040887Z"
    },
    "papermill": {
     "duration": 21.288647,
     "end_time": "2023-02-17T22:19:54.045822",
     "exception": false,
     "start_time": "2023-02-17T22:19:32.757175",
     "status": "completed"
    },
    "tags": []
   },
   "outputs": [
    {
     "name": "stdout",
     "output_type": "stream",
     "text": [
      "5/5 [==============================] - 0s 2ms/step - loss: 13.5304 - mae: 2.5567\n"
     ]
    }
   ],
   "source": [
    "# construct model\n",
    "model = build_model()\n",
    "\n",
    "# train final model from what we learn: aka epochs=130\n",
    "model.fit(X_train, y_train, epochs=350, batch_size=16, verbose=0)\n",
    "\n",
    "test_mse_score, test_mae_score = model.evaluate(X_test, y_test)"
   ]
  },
  {
   "cell_type": "code",
   "execution_count": 23,
   "id": "09f288cf",
   "metadata": {
    "execution": {
     "iopub.execute_input": "2023-02-17T22:19:54.077069Z",
     "iopub.status.busy": "2023-02-17T22:19:54.076615Z",
     "iopub.status.idle": "2023-02-17T22:19:54.083069Z",
     "shell.execute_reply": "2023-02-17T22:19:54.081742Z"
    },
    "papermill": {
     "duration": 0.02517,
     "end_time": "2023-02-17T22:19:54.085760",
     "exception": false,
     "start_time": "2023-02-17T22:19:54.060590",
     "status": "completed"
    },
    "tags": []
   },
   "outputs": [
    {
     "name": "stdout",
     "output_type": "stream",
     "text": [
      "2.55666184425354\n"
     ]
    }
   ],
   "source": [
    "print(test_mae_score)"
   ]
  },
  {
   "cell_type": "code",
   "execution_count": 24,
   "id": "52a7efb4",
   "metadata": {
    "execution": {
     "iopub.execute_input": "2023-02-17T22:19:54.116658Z",
     "iopub.status.busy": "2023-02-17T22:19:54.116262Z",
     "iopub.status.idle": "2023-02-17T22:19:54.122625Z",
     "shell.execute_reply": "2023-02-17T22:19:54.121396Z"
    },
    "papermill": {
     "duration": 0.024764,
     "end_time": "2023-02-17T22:19:54.125109",
     "exception": false,
     "start_time": "2023-02-17T22:19:54.100345",
     "status": "completed"
    },
    "tags": []
   },
   "outputs": [
    {
     "name": "stdout",
     "output_type": "stream",
     "text": [
      "The minimal house price is 5.0.\n",
      "The maximum house price is 50.0.\n"
     ]
    }
   ],
   "source": [
    "print(f\"The minimal house price is {min(y)}.\")\n",
    "print(f\"The maximum house price is {max(y)}.\")"
   ]
  },
  {
   "cell_type": "markdown",
   "id": "5c237754",
   "metadata": {
    "papermill": {
     "duration": 0.014223,
     "end_time": "2023-02-17T22:19:54.153923",
     "exception": false,
     "start_time": "2023-02-17T22:19:54.139700",
     "status": "completed"
    },
    "tags": []
   },
   "source": [
    "**Note**: The MAE measure the difference between the predictions and the targets in regression. For this problem, if the MAE is 0.5, this means that the model prediction is off by `$500` on average. We see that the house price range is `$5000` to `$50,000`, thus, the fact that our model is off by `$2,543` in average is significant!"
   ]
  },
  {
   "cell_type": "markdown",
   "id": "438d1270",
   "metadata": {
    "papermill": {
     "duration": 0.015524,
     "end_time": "2023-02-17T22:19:54.183939",
     "exception": false,
     "start_time": "2023-02-17T22:19:54.168415",
     "status": "completed"
    },
    "tags": []
   },
   "source": [
    "# 7. Model \"Deployment\" Test\n",
    "**Note**: What if you want to see how our model perform during a \"deployment\" process? Let's test it on a sample on the testing dataset."
   ]
  },
  {
   "cell_type": "code",
   "execution_count": 25,
   "id": "87a13235",
   "metadata": {
    "execution": {
     "iopub.execute_input": "2023-02-17T22:19:54.215599Z",
     "iopub.status.busy": "2023-02-17T22:19:54.215195Z",
     "iopub.status.idle": "2023-02-17T22:19:54.385733Z",
     "shell.execute_reply": "2023-02-17T22:19:54.384694Z"
    },
    "papermill": {
     "duration": 0.189018,
     "end_time": "2023-02-17T22:19:54.388320",
     "exception": false,
     "start_time": "2023-02-17T22:19:54.199302",
     "status": "completed"
    },
    "tags": []
   },
   "outputs": [
    {
     "name": "stdout",
     "output_type": "stream",
     "text": [
      "5/5 [==============================] - 0s 2ms/step\n"
     ]
    }
   ],
   "source": [
    "# predict on the entire test dataset\n",
    "predictions = model.predict(X_test)"
   ]
  },
  {
   "cell_type": "code",
   "execution_count": 26,
   "id": "bae8be43",
   "metadata": {
    "execution": {
     "iopub.execute_input": "2023-02-17T22:19:54.421343Z",
     "iopub.status.busy": "2023-02-17T22:19:54.420679Z",
     "iopub.status.idle": "2023-02-17T22:19:54.426561Z",
     "shell.execute_reply": "2023-02-17T22:19:54.425189Z"
    },
    "papermill": {
     "duration": 0.02501,
     "end_time": "2023-02-17T22:19:54.428888",
     "exception": false,
     "start_time": "2023-02-17T22:19:54.403878",
     "status": "completed"
    },
    "tags": []
   },
   "outputs": [
    {
     "name": "stdout",
     "output_type": "stream",
     "text": [
      "Model's prediction on the first house in the test dataset is: 21.105741500854492\n"
     ]
    }
   ],
   "source": [
    "# get the prediction value\n",
    "print(f\"Model's prediction on the first house in the test dataset is: {predictions[0][0]}\")"
   ]
  },
  {
   "cell_type": "code",
   "execution_count": 27,
   "id": "15d8d0f1",
   "metadata": {
    "execution": {
     "iopub.execute_input": "2023-02-17T22:19:54.461640Z",
     "iopub.status.busy": "2023-02-17T22:19:54.460199Z",
     "iopub.status.idle": "2023-02-17T22:19:54.468924Z",
     "shell.execute_reply": "2023-02-17T22:19:54.467184Z"
    },
    "papermill": {
     "duration": 0.028673,
     "end_time": "2023-02-17T22:19:54.472613",
     "exception": false,
     "start_time": "2023-02-17T22:19:54.443940",
     "status": "completed"
    },
    "tags": []
   },
   "outputs": [
    {
     "name": "stdout",
     "output_type": "stream",
     "text": [
      "329    22.6\n",
      "371    50.0\n",
      "219    23.0\n",
      "403     8.3\n",
      "78     21.2\n",
      "       ... \n",
      "4      36.2\n",
      "428    11.0\n",
      "385     7.2\n",
      "308    22.8\n",
      "5      28.7\n",
      "Name: MEDV, Length: 152, dtype: float64\n"
     ]
    }
   ],
   "source": [
    "# get all the labels and indices from test dataset\n",
    "print(y_test)"
   ]
  },
  {
   "cell_type": "markdown",
   "id": "e94b79b2",
   "metadata": {
    "papermill": {
     "duration": 0.015041,
     "end_time": "2023-02-17T22:19:54.503539",
     "exception": false,
     "start_time": "2023-02-17T22:19:54.488498",
     "status": "completed"
    },
    "tags": []
   },
   "source": [
    "**Note**: we see that the first house in the test dataset has index of 329. Here, the index is mixed up since we set random shuffle during the train/validate/test split in the data processing step."
   ]
  },
  {
   "cell_type": "code",
   "execution_count": 28,
   "id": "8490614c",
   "metadata": {
    "execution": {
     "iopub.execute_input": "2023-02-17T22:19:54.535610Z",
     "iopub.status.busy": "2023-02-17T22:19:54.535216Z",
     "iopub.status.idle": "2023-02-17T22:19:54.541644Z",
     "shell.execute_reply": "2023-02-17T22:19:54.540285Z"
    },
    "papermill": {
     "duration": 0.025563,
     "end_time": "2023-02-17T22:19:54.544645",
     "exception": false,
     "start_time": "2023-02-17T22:19:54.519082",
     "status": "completed"
    },
    "tags": []
   },
   "outputs": [
    {
     "name": "stdout",
     "output_type": "stream",
     "text": [
      "22.6\n"
     ]
    }
   ],
   "source": [
    "print(df['MEDV'][329])"
   ]
  },
  {
   "cell_type": "markdown",
   "id": "0aa834e1",
   "metadata": {
    "papermill": {
     "duration": 0.014988,
     "end_time": "2023-02-17T22:19:54.575673",
     "exception": false,
     "start_time": "2023-02-17T22:19:54.560685",
     "status": "completed"
    },
    "tags": []
   },
   "source": [
    "**Note**: We can see that the predicted price and the label do not offset by much (~`$1000`)."
   ]
  },
  {
   "cell_type": "markdown",
   "id": "009ffcce",
   "metadata": {
    "execution": {
     "iopub.execute_input": "2023-02-17T21:53:09.867082Z",
     "iopub.status.busy": "2023-02-17T21:53:09.866658Z",
     "iopub.status.idle": "2023-02-17T21:53:10.994811Z",
     "shell.execute_reply": "2023-02-17T21:53:10.993206Z",
     "shell.execute_reply.started": "2023-02-17T21:53:09.867046Z"
    },
    "papermill": {
     "duration": 0.015506,
     "end_time": "2023-02-17T22:19:54.606844",
     "exception": false,
     "start_time": "2023-02-17T22:19:54.591338",
     "status": "completed"
    },
    "tags": []
   },
   "source": [
    "![](https://images.unsplash.com/photo-1506551907304-60bb62ffc9b0?ixlib=rb-4.0.3&ixid=MnwxMjA3fDB8MHxwaG90by1wYWdlfHx8fGVufDB8fHx8&auto=format&fit=crop&w=1170&q=80)"
   ]
  }
 ],
 "metadata": {
  "kernelspec": {
   "display_name": "Python 3",
   "language": "python",
   "name": "python3"
  },
  "language_info": {
   "codemirror_mode": {
    "name": "ipython",
    "version": 3
   },
   "file_extension": ".py",
   "mimetype": "text/x-python",
   "name": "python",
   "nbconvert_exporter": "python",
   "pygments_lexer": "ipython3",
   "version": "3.7.12"
  },
  "papermill": {
   "default_parameters": {},
   "duration": 198.64974,
   "end_time": "2023-02-17T22:19:57.557858",
   "environment_variables": {},
   "exception": null,
   "input_path": "__notebook__.ipynb",
   "output_path": "__notebook__.ipynb",
   "parameters": {},
   "start_time": "2023-02-17T22:16:38.908118",
   "version": "2.3.4"
  }
 },
 "nbformat": 4,
 "nbformat_minor": 5
}
