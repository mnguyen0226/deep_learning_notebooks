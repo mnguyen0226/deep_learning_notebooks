{
 "cells": [
  {
   "cell_type": "markdown",
   "id": "9b90a651",
   "metadata": {
    "execution": {
     "iopub.execute_input": "2023-01-29T00:51:46.290122Z",
     "iopub.status.busy": "2023-01-29T00:51:46.289593Z",
     "iopub.status.idle": "2023-01-29T00:51:46.303142Z",
     "shell.execute_reply": "2023-01-29T00:51:46.301545Z",
     "shell.execute_reply.started": "2023-01-29T00:51:46.290064Z"
    },
    "papermill": {
     "duration": 0.004461,
     "end_time": "2023-01-29T02:23:51.206116",
     "exception": false,
     "start_time": "2023-01-29T02:23:51.201655",
     "status": "completed"
    },
    "tags": []
   },
   "source": [
    "# Chapter 2. The Mathematical Building Blocks of Neural Networks"
   ]
  },
  {
   "cell_type": "markdown",
   "id": "f88167a9",
   "metadata": {
    "papermill": {
     "duration": 0.002708,
     "end_time": "2023-01-29T02:23:51.212069",
     "exception": false,
     "start_time": "2023-01-29T02:23:51.209361",
     "status": "completed"
    },
    "tags": []
   },
   "source": [
    "## 2.1. A first look at a neural network"
   ]
  },
  {
   "cell_type": "code",
   "execution_count": 1,
   "id": "9918c65f",
   "metadata": {
    "execution": {
     "iopub.execute_input": "2023-01-29T02:23:51.219498Z",
     "iopub.status.busy": "2023-01-29T02:23:51.218932Z",
     "iopub.status.idle": "2023-01-29T02:23:58.041420Z",
     "shell.execute_reply": "2023-01-29T02:23:58.040153Z"
    },
    "papermill": {
     "duration": 6.829527,
     "end_time": "2023-01-29T02:23:58.044370",
     "exception": false,
     "start_time": "2023-01-29T02:23:51.214843",
     "status": "completed"
    },
    "tags": []
   },
   "outputs": [],
   "source": [
    "# import library\n",
    "from tensorflow.keras.datasets import mnist\n",
    "from tensorflow import keras\n",
    "from tensorflow.keras import layers"
   ]
  },
  {
   "cell_type": "code",
   "execution_count": 2,
   "id": "e1401e59",
   "metadata": {
    "execution": {
     "iopub.execute_input": "2023-01-29T02:23:58.051926Z",
     "iopub.status.busy": "2023-01-29T02:23:58.051257Z",
     "iopub.status.idle": "2023-01-29T02:23:59.787722Z",
     "shell.execute_reply": "2023-01-29T02:23:59.786430Z"
    },
    "papermill": {
     "duration": 1.743161,
     "end_time": "2023-01-29T02:23:59.790469",
     "exception": false,
     "start_time": "2023-01-29T02:23:58.047308",
     "status": "completed"
    },
    "tags": []
   },
   "outputs": [
    {
     "name": "stdout",
     "output_type": "stream",
     "text": [
      "Downloading data from https://storage.googleapis.com/tensorflow/tf-keras-datasets/mnist.npz\n",
      "11493376/11490434 [==============================] - 1s 0us/step\n",
      "11501568/11490434 [==============================] - 1s 0us/step\n"
     ]
    }
   ],
   "source": [
    "# load MNIST dataset\n",
    "(train_images, train_labels), (test_images, test_labels) = mnist.load_data()"
   ]
  },
  {
   "cell_type": "code",
   "execution_count": 3,
   "id": "d480b441",
   "metadata": {
    "execution": {
     "iopub.execute_input": "2023-01-29T02:23:59.802009Z",
     "iopub.status.busy": "2023-01-29T02:23:59.801479Z",
     "iopub.status.idle": "2023-01-29T02:23:59.808823Z",
     "shell.execute_reply": "2023-01-29T02:23:59.807707Z"
    },
    "papermill": {
     "duration": 0.016948,
     "end_time": "2023-01-29T02:23:59.812226",
     "exception": false,
     "start_time": "2023-01-29T02:23:59.795278",
     "status": "completed"
    },
    "tags": []
   },
   "outputs": [
    {
     "name": "stdout",
     "output_type": "stream",
     "text": [
      "(60000, 28, 28)\n",
      "(10000, 28, 28)\n"
     ]
    }
   ],
   "source": [
    "# check shape\n",
    "print(train_images.shape)\n",
    "print(test_images.shape)"
   ]
  },
  {
   "cell_type": "code",
   "execution_count": 4,
   "id": "35b2d31a",
   "metadata": {
    "execution": {
     "iopub.execute_input": "2023-01-29T02:23:59.824269Z",
     "iopub.status.busy": "2023-01-29T02:23:59.823436Z",
     "iopub.status.idle": "2023-01-29T02:23:59.894247Z",
     "shell.execute_reply": "2023-01-29T02:23:59.893032Z"
    },
    "papermill": {
     "duration": 0.078868,
     "end_time": "2023-01-29T02:23:59.896683",
     "exception": false,
     "start_time": "2023-01-29T02:23:59.817815",
     "status": "completed"
    },
    "tags": []
   },
   "outputs": [
    {
     "name": "stderr",
     "output_type": "stream",
     "text": [
      "2023-01-29 02:23:59.870297: I tensorflow/core/common_runtime/process_util.cc:146] Creating new thread pool with default inter op setting: 2. Tune using inter_op_parallelism_threads for best performance.\n"
     ]
    }
   ],
   "source": [
    "# build neural network\n",
    "model = keras.Sequential([\n",
    "    layers.Dense(512, activation=\"relu\"),\n",
    "    layers.Dense(10, activation=\"softmax\")\n",
    "])"
   ]
  },
  {
   "cell_type": "code",
   "execution_count": 5,
   "id": "bead855c",
   "metadata": {
    "execution": {
     "iopub.execute_input": "2023-01-29T02:23:59.911574Z",
     "iopub.status.busy": "2023-01-29T02:23:59.911083Z",
     "iopub.status.idle": "2023-01-29T02:23:59.936275Z",
     "shell.execute_reply": "2023-01-29T02:23:59.935074Z"
    },
    "papermill": {
     "duration": 0.036232,
     "end_time": "2023-01-29T02:23:59.939293",
     "exception": false,
     "start_time": "2023-01-29T02:23:59.903061",
     "status": "completed"
    },
    "tags": []
   },
   "outputs": [],
   "source": [
    "# compile model: add optimization\n",
    "model.compile(optimizer=\"rmsprop\",\n",
    "             loss=\"sparse_categorical_crossentropy\",\n",
    "             metrics=[\"accuracy\"])"
   ]
  },
  {
   "cell_type": "markdown",
   "id": "6dcaf09d",
   "metadata": {
    "papermill": {
     "duration": 0.004043,
     "end_time": "2023-01-29T02:23:59.947908",
     "exception": false,
     "start_time": "2023-01-29T02:23:59.943865",
     "status": "completed"
    },
    "tags": []
   },
   "source": [
    "Note: the input shape of the image is 512 = 28 x 28, so we need to reshape this"
   ]
  },
  {
   "cell_type": "code",
   "execution_count": 6,
   "id": "4cb9e390",
   "metadata": {
    "execution": {
     "iopub.execute_input": "2023-01-29T02:23:59.959424Z",
     "iopub.status.busy": "2023-01-29T02:23:59.958122Z",
     "iopub.status.idle": "2023-01-29T02:23:59.963815Z",
     "shell.execute_reply": "2023-01-29T02:23:59.962693Z"
    },
    "papermill": {
     "duration": 0.013814,
     "end_time": "2023-01-29T02:23:59.966188",
     "exception": false,
     "start_time": "2023-01-29T02:23:59.952374",
     "status": "completed"
    },
    "tags": []
   },
   "outputs": [],
   "source": [
    "# reshape"
   ]
  }
 ],
 "metadata": {
  "kernelspec": {
   "display_name": "Python 3",
   "language": "python",
   "name": "python3"
  },
  "language_info": {
   "codemirror_mode": {
    "name": "ipython",
    "version": 3
   },
   "file_extension": ".py",
   "mimetype": "text/x-python",
   "name": "python",
   "nbconvert_exporter": "python",
   "pygments_lexer": "ipython3",
   "version": "3.7.12"
  },
  "papermill": {
   "default_parameters": {},
   "duration": 21.166383,
   "end_time": "2023-01-29T02:24:03.586054",
   "environment_variables": {},
   "exception": null,
   "input_path": "__notebook__.ipynb",
   "output_path": "__notebook__.ipynb",
   "parameters": {},
   "start_time": "2023-01-29T02:23:42.419671",
   "version": "2.3.4"
  }
 },
 "nbformat": 4,
 "nbformat_minor": 5
}
