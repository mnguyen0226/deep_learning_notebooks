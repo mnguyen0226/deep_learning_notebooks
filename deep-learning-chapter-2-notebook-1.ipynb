{
 "cells": [
  {
   "cell_type": "code",
   "execution_count": 1,
   "id": "c6032b13",
   "metadata": {
    "_cell_guid": "b1076dfc-b9ad-4769-8c92-a6c4dae69d19",
    "_uuid": "8f2839f25d086af736a60e9eeb907d3b93b6e0e5",
    "execution": {
     "iopub.execute_input": "2023-01-29T00:53:09.708436Z",
     "iopub.status.busy": "2023-01-29T00:53:09.707992Z",
     "iopub.status.idle": "2023-01-29T00:53:09.714347Z",
     "shell.execute_reply": "2023-01-29T00:53:09.712592Z"
    },
    "papermill": {
     "duration": 0.014037,
     "end_time": "2023-01-29T00:53:09.717295",
     "exception": false,
     "start_time": "2023-01-29T00:53:09.703258",
     "status": "completed"
    },
    "tags": []
   },
   "outputs": [],
   "source": [
    "# # This Python 3 environment comes with many helpful analytics libraries installed\n",
    "# # It is defined by the kaggle/python Docker image: https://github.com/kaggle/docker-python\n",
    "# # For example, here's several helpful packages to load\n",
    "\n",
    "# import numpy as np # linear algebra\n",
    "# import pandas as pd # data processing, CSV file I/O (e.g. pd.read_csv)\n",
    "\n",
    "# # Input data files are available in the read-only \"../input/\" directory\n",
    "# # For example, running this (by clicking run or pressing Shift+Enter) will list all files under the input directory\n",
    "\n",
    "# import os\n",
    "# for dirname, _, filenames in os.walk('/kaggle/input'):\n",
    "#     for filename in filenames:\n",
    "#         print(os.path.join(dirname, filename))\n",
    "\n",
    "# # You can write up to 20GB to the current directory (/kaggle/working/) that gets preserved as output when you create a version using \"Save & Run All\" \n",
    "# # You can also write temporary files to /kaggle/temp/, but they won't be saved outside of the current session"
   ]
  },
  {
   "cell_type": "code",
   "execution_count": 2,
   "id": "bae46c34",
   "metadata": {
    "execution": {
     "iopub.execute_input": "2023-01-29T00:53:09.722837Z",
     "iopub.status.busy": "2023-01-29T00:53:09.722422Z",
     "iopub.status.idle": "2023-01-29T00:53:09.736253Z",
     "shell.execute_reply": "2023-01-29T00:53:09.734703Z"
    },
    "papermill": {
     "duration": 0.019906,
     "end_time": "2023-01-29T00:53:09.739183",
     "exception": false,
     "start_time": "2023-01-29T00:53:09.719277",
     "status": "completed"
    },
    "tags": []
   },
   "outputs": [
    {
     "name": "stdout",
     "output_type": "stream",
     "text": [
      "Hello\n"
     ]
    }
   ],
   "source": [
    "print(\"Hello\")"
   ]
  },
  {
   "cell_type": "code",
   "execution_count": null,
   "id": "97a40081",
   "metadata": {
    "papermill": {
     "duration": 0.001303,
     "end_time": "2023-01-29T00:53:09.742432",
     "exception": false,
     "start_time": "2023-01-29T00:53:09.741129",
     "status": "completed"
    },
    "tags": []
   },
   "outputs": [],
   "source": []
  }
 ],
 "metadata": {
  "kernelspec": {
   "display_name": "Python 3",
   "language": "python",
   "name": "python3"
  },
  "language_info": {
   "codemirror_mode": {
    "name": "ipython",
    "version": 3
   },
   "file_extension": ".py",
   "mimetype": "text/x-python",
   "name": "python",
   "nbconvert_exporter": "python",
   "pygments_lexer": "ipython3",
   "version": "3.7.12"
  },
  "papermill": {
   "default_parameters": {},
   "duration": 8.29603,
   "end_time": "2023-01-29T00:53:10.368442",
   "environment_variables": {},
   "exception": null,
   "input_path": "__notebook__.ipynb",
   "output_path": "__notebook__.ipynb",
   "parameters": {},
   "start_time": "2023-01-29T00:53:02.072412",
   "version": "2.3.4"
  }
 },
 "nbformat": 4,
 "nbformat_minor": 5
}
