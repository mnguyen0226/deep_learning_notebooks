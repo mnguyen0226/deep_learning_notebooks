{
 "cells": [
  {
   "cell_type": "markdown",
   "id": "a85d7a63",
   "metadata": {
    "_cell_guid": "b1076dfc-b9ad-4769-8c92-a6c4dae69d19",
    "_uuid": "8f2839f25d086af736a60e9eeb907d3b93b6e0e5",
    "papermill": {
     "duration": 0.010091,
     "end_time": "2023-02-19T20:20:12.777904",
     "exception": false,
     "start_time": "2023-02-19T20:20:12.767813",
     "status": "completed"
    },
    "tags": []
   },
   "source": [
    "# 10. Deep Learning for Time Series.\n",
    "# 10.2. A Temperatue Forecasting Example\n",
    "- Dataset: weather timeseries dataset recorded at the weather station at the Max Planck Institute for Biogeochemistry in Jena, Germany.\n",
    "- In this dataset, 14 different quantities (such as temperature, pressure, humidity, wind direction, and so on) were recorded every 10 minutes over several years. The original data goes back to 2003, but the subset of the data we’ll download is limited to 2009–2016.\n",
    "- **Research question**: Given the data cover the previous five days and sampled once per hour, can we predict the temperature in 24 hours?"
   ]
  },
  {
   "cell_type": "markdown",
   "id": "4d2795f8",
   "metadata": {
    "papermill": {
     "duration": 0.010744,
     "end_time": "2023-02-19T20:20:12.797493",
     "exception": false,
     "start_time": "2023-02-19T20:20:12.786749",
     "status": "completed"
    },
    "tags": []
   },
   "source": [
    "## A. Import Data"
   ]
  },
  {
   "cell_type": "code",
   "execution_count": 1,
   "id": "110b3660",
   "metadata": {
    "execution": {
     "iopub.execute_input": "2023-02-19T20:20:12.833109Z",
     "iopub.status.busy": "2023-02-19T20:20:12.832556Z",
     "iopub.status.idle": "2023-02-19T20:20:16.343339Z",
     "shell.execute_reply": "2023-02-19T20:20:16.342155Z"
    },
    "papermill": {
     "duration": 3.532378,
     "end_time": "2023-02-19T20:20:16.346187",
     "exception": false,
     "start_time": "2023-02-19T20:20:12.813809",
     "status": "completed"
    },
    "tags": []
   },
   "outputs": [
    {
     "name": "stdout",
     "output_type": "stream",
     "text": [
      "/bin/bash: /opt/conda/lib/libtinfo.so.6: no version information available (required by /bin/bash)\r\n",
      "--2023-02-19 20:20:13--  https://s3.amazonaws.com/keras-datasets/jena_climate_2009_2016.csv.zip\r\n",
      "Resolving s3.amazonaws.com (s3.amazonaws.com)... 52.217.175.104, 54.231.164.120, 52.216.179.5, ...\r\n",
      "Connecting to s3.amazonaws.com (s3.amazonaws.com)|52.217.175.104|:443... connected.\r\n",
      "HTTP request sent, awaiting response... 200 OK\r\n",
      "Length: 13565642 (13M) [application/zip]\r\n",
      "Saving to: ‘jena_climate_2009_2016.csv.zip’\r\n",
      "\r\n",
      "jena_climate_2009_2 100%[===================>]  12.94M  18.8MB/s    in 0.7s    \r\n",
      "\r\n",
      "2023-02-19 20:20:14 (18.8 MB/s) - ‘jena_climate_2009_2016.csv.zip’ saved [13565642/13565642]\r\n",
      "\r\n",
      "/bin/bash: /opt/conda/lib/libtinfo.so.6: no version information available (required by /bin/bash)\r\n",
      "Archive:  jena_climate_2009_2016.csv.zip\r\n",
      "  inflating: jena_climate_2009_2016.csv  \r\n",
      "  inflating: __MACOSX/._jena_climate_2009_2016.csv  \r\n"
     ]
    }
   ],
   "source": [
    "!wget https://s3.amazonaws.com/keras-datasets/jena_climate_2009_2016.csv.zip\n",
    "!unzip jena_climate_2009_2016.csv.zip"
   ]
  },
  {
   "cell_type": "code",
   "execution_count": 2,
   "id": "1dfdab50",
   "metadata": {
    "execution": {
     "iopub.execute_input": "2023-02-19T20:20:16.366158Z",
     "iopub.status.busy": "2023-02-19T20:20:16.365844Z",
     "iopub.status.idle": "2023-02-19T20:20:22.887147Z",
     "shell.execute_reply": "2023-02-19T20:20:22.886048Z"
    },
    "papermill": {
     "duration": 6.534505,
     "end_time": "2023-02-19T20:20:22.890176",
     "exception": false,
     "start_time": "2023-02-19T20:20:16.355671",
     "status": "completed"
    },
    "tags": []
   },
   "outputs": [],
   "source": [
    "# import libraries\n",
    "import os\n",
    "import numpy as np\n",
    "import matplotlib.pyplot as plt\n",
    "\n",
    "# import tensorflow\n",
    "from tensorflow import keras\n",
    "from tensorflow.keras import layers"
   ]
  },
  {
   "cell_type": "markdown",
   "id": "53452762",
   "metadata": {
    "papermill": {
     "duration": 0.014664,
     "end_time": "2023-02-19T20:20:22.925001",
     "exception": false,
     "start_time": "2023-02-19T20:20:22.910337",
     "status": "completed"
    },
    "tags": []
   },
   "source": [
    "### Inspect Jena weather dataset"
   ]
  },
  {
   "cell_type": "code",
   "execution_count": 3,
   "id": "e9734ec6",
   "metadata": {
    "execution": {
     "iopub.execute_input": "2023-02-19T20:20:22.957293Z",
     "iopub.status.busy": "2023-02-19T20:20:22.956232Z",
     "iopub.status.idle": "2023-02-19T20:20:23.165312Z",
     "shell.execute_reply": "2023-02-19T20:20:23.163599Z"
    },
    "papermill": {
     "duration": 0.228893,
     "end_time": "2023-02-19T20:20:23.168812",
     "exception": false,
     "start_time": "2023-02-19T20:20:22.939919",
     "status": "completed"
    },
    "tags": []
   },
   "outputs": [
    {
     "name": "stdout",
     "output_type": "stream",
     "text": [
      "['\"Date Time\"', '\"p (mbar)\"', '\"T (degC)\"', '\"Tpot (K)\"', '\"Tdew (degC)\"', '\"rh (%)\"', '\"VPmax (mbar)\"', '\"VPact (mbar)\"', '\"VPdef (mbar)\"', '\"sh (g/kg)\"', '\"H2OC (mmol/mol)\"', '\"rho (g/m**3)\"', '\"wv (m/s)\"', '\"max. wv (m/s)\"', '\"wd (deg)\"']\n",
      "420451\n"
     ]
    }
   ],
   "source": [
    "fname = os.path.join(\"jena_climate_2009_2016.csv\")\n",
    "\n",
    "with open(fname) as f:\n",
    "    data = f.read()\n",
    "\n",
    "lines = data.split(\"\\n\")\n",
    "header = lines[0].split(\",\")\n",
    "lines = lines[1:]\n",
    "print(header)\n",
    "print(len(lines))"
   ]
  },
  {
   "cell_type": "markdown",
   "id": "6470493a",
   "metadata": {
    "papermill": {
     "duration": 0.014335,
     "end_time": "2023-02-19T20:20:23.196917",
     "exception": false,
     "start_time": "2023-02-19T20:20:23.182582",
     "status": "completed"
    },
    "tags": []
   },
   "source": [
    "**Note**: this means that we have 420,551 lines of data (timesteps) and 14 weather-related values."
   ]
  },
  {
   "cell_type": "markdown",
   "id": "e2ff6a05",
   "metadata": {
    "papermill": {
     "duration": 0.013285,
     "end_time": "2023-02-19T20:20:23.223886",
     "exception": false,
     "start_time": "2023-02-19T20:20:23.210601",
     "status": "completed"
    },
    "tags": []
   },
   "source": [
    "### Parse data\n",
    "- Convert all 420,551 timesteps into NumPy array: one array for the temperature (Celcius) and another for features (future temperatures).\n",
    "- Discard the \"Date Time\" column. "
   ]
  },
  {
   "cell_type": "code",
   "execution_count": 4,
   "id": "682a0331",
   "metadata": {
    "execution": {
     "iopub.execute_input": "2023-02-19T20:20:23.252774Z",
     "iopub.status.busy": "2023-02-19T20:20:23.252393Z",
     "iopub.status.idle": "2023-02-19T20:20:25.551197Z",
     "shell.execute_reply": "2023-02-19T20:20:25.550182Z"
    },
    "papermill": {
     "duration": 2.315836,
     "end_time": "2023-02-19T20:20:25.553571",
     "exception": false,
     "start_time": "2023-02-19T20:20:23.237735",
     "status": "completed"
    },
    "tags": []
   },
   "outputs": [],
   "source": [
    "temperature = np.zeros((len(lines),))\n",
    "raw_data = np.zeros((len(lines), len(header) - 1))\n",
    "\n",
    "for i, line in enumerate(lines):\n",
    "    values = [float(x) for x in line.split(\",\")[1:]]\n",
    "    \n",
    "    # store column 1 in the temperature array\n",
    "    temperature[i] = values[1]\n",
    "    \n",
    "    # store all column in the raw data array\n",
    "    raw_data[i, :] = values[:]"
   ]
  },
  {
   "cell_type": "markdown",
   "id": "23a40211",
   "metadata": {
    "papermill": {
     "duration": 0.009473,
     "end_time": "2023-02-19T20:20:25.572595",
     "exception": false,
     "start_time": "2023-02-19T20:20:25.563122",
     "status": "completed"
    },
    "tags": []
   },
   "source": [
    "### Plot temperature timeseries"
   ]
  },
  {
   "cell_type": "code",
   "execution_count": 5,
   "id": "dbf7d46b",
   "metadata": {
    "execution": {
     "iopub.execute_input": "2023-02-19T20:20:25.593588Z",
     "iopub.status.busy": "2023-02-19T20:20:25.593278Z",
     "iopub.status.idle": "2023-02-19T20:20:26.212521Z",
     "shell.execute_reply": "2023-02-19T20:20:26.211430Z"
    },
    "papermill": {
     "duration": 0.632208,
     "end_time": "2023-02-19T20:20:26.215098",
     "exception": false,
     "start_time": "2023-02-19T20:20:25.582890",
     "status": "completed"
    },
    "tags": []
   },
   "outputs": [
    {
     "data": {
      "text/plain": [
       "[<matplotlib.lines.Line2D at 0x7efcad146e90>]"
      ]
     },
     "execution_count": 5,
     "metadata": {},
     "output_type": "execute_result"
    },
    {
     "data": {
      "image/png": "[encoded data removed]",
      "text/plain": [
       "<Figure size 640x480 with 1 Axes>"
      ]
     },
     "metadata": {},
     "output_type": "display_data"
    }
   ],
   "source": [
    "plt.plot(range(len(temperature)), temperature)"
   ]
  },
  {
   "cell_type": "code",
   "execution_count": 6,
   "id": "f0b4abad",
   "metadata": {
    "execution": {
     "iopub.execute_input": "2023-02-19T20:20:26.248039Z",
     "iopub.status.busy": "2023-02-19T20:20:26.247640Z",
     "iopub.status.idle": "2023-02-19T20:20:26.492886Z",
     "shell.execute_reply": "2023-02-19T20:20:26.491999Z"
    },
    "papermill": {
     "duration": 0.263828,
     "end_time": "2023-02-19T20:20:26.495084",
     "exception": false,
     "start_time": "2023-02-19T20:20:26.231256",
     "status": "completed"
    },
    "tags": []
   },
   "outputs": [
    {
     "data": {
      "text/plain": [
       "[<matplotlib.lines.Line2D at 0x7efcacfea650>]"
      ]
     },
     "execution_count": 6,
     "metadata": {},
     "output_type": "execute_result"
    },
    {
     "data": {
      "image/png": "[encoded data removed]",
      "text/plain": [
       "<Figure size 640x480 with 1 Axes>"
      ]
     },
     "metadata": {},
     "output_type": "display_data"
    }
   ],
   "source": [
    "# plot the first 10 days\n",
    "plt.plot(range(1440), temperature[:1440])"
   ]
  },
  {
   "cell_type": "markdown",
   "id": "baa97e36",
   "metadata": {
    "papermill": {
     "duration": 0.010458,
     "end_time": "2023-02-19T20:20:26.516364",
     "exception": false,
     "start_time": "2023-02-19T20:20:26.505906",
     "status": "completed"
    },
    "tags": []
   },
   "source": [
    "**Analysis**: We can see the periodicity in the last 4 days.\n",
    "- Periodicity over multiple timescales is an important and very common property of timeseries data. Whether you’re looking at the weather, mall parking occupancy, traffic to a website, sales of a grocery store, or steps logged in a fitness tracker, you’ll see daily cycles and yearly cycles (human-generated data also tends to feature weekly cycles). When exploring your data, make sure to look for these patterns."
   ]
  },
  {
   "cell_type": "markdown",
   "id": "40b5b7f2",
   "metadata": {
    "papermill": {
     "duration": 0.010366,
     "end_time": "2023-02-19T20:20:26.536947",
     "exception": false,
     "start_time": "2023-02-19T20:20:26.526581",
     "status": "completed"
    },
    "tags": []
   },
   "source": [
    "### Split the dataset into Train/Validation/Test set"
   ]
  },
  {
   "cell_type": "code",
   "execution_count": 7,
   "id": "d3e85d02",
   "metadata": {
    "execution": {
     "iopub.execute_input": "2023-02-19T20:20:26.559045Z",
     "iopub.status.busy": "2023-02-19T20:20:26.558744Z",
     "iopub.status.idle": "2023-02-19T20:20:26.563638Z",
     "shell.execute_reply": "2023-02-19T20:20:26.562676Z"
    },
    "papermill": {
     "duration": 0.018739,
     "end_time": "2023-02-19T20:20:26.566022",
     "exception": false,
     "start_time": "2023-02-19T20:20:26.547283",
     "status": "completed"
    },
    "tags": []
   },
   "outputs": [],
   "source": [
    "num_train_samples = int(0.5 * len(raw_data))\n",
    "num_val_samples = int(0.25 * len(raw_data))\n",
    "num_test_samples = len(raw_data) - num_train_samples - num_val_samples"
   ]
  },
  {
   "cell_type": "code",
   "execution_count": 8,
   "id": "6bff84a8",
   "metadata": {
    "execution": {
     "iopub.execute_input": "2023-02-19T20:20:26.588742Z",
     "iopub.status.busy": "2023-02-19T20:20:26.588431Z",
     "iopub.status.idle": "2023-02-19T20:20:26.593683Z",
     "shell.execute_reply": "2023-02-19T20:20:26.592604Z"
    },
    "papermill": {
     "duration": 0.019909,
     "end_time": "2023-02-19T20:20:26.596585",
     "exception": false,
     "start_time": "2023-02-19T20:20:26.576676",
     "status": "completed"
    },
    "tags": []
   },
   "outputs": [
    {
     "name": "stdout",
     "output_type": "stream",
     "text": [
      "num_train_samples: 210225\n",
      "num_val_samples: 105112\n",
      "num_test_samples: 105114\n"
     ]
    }
   ],
   "source": [
    "print(\"num_train_samples:\", num_train_samples)\n",
    "print(\"num_val_samples:\", num_val_samples)\n",
    "print(\"num_test_samples:\", num_test_samples)"
   ]
  },
  {
   "cell_type": "markdown",
   "id": "4a87e3a8",
   "metadata": {
    "papermill": {
     "duration": 0.010185,
     "end_time": "2023-02-19T20:20:26.618758",
     "exception": false,
     "start_time": "2023-02-19T20:20:26.608573",
     "status": "completed"
    },
    "tags": []
   },
   "source": [
    "## B. Data Processing\n",
    "- We don't have to vecturize the data as it is numerical. However, since the data is in different sclae, we need to normalize it. WIthin the training data (210,225) timesteps as the training data, we compute the mean and std one the fracture of the data.\n",
    "- Instead of parsing the data and store on local disk, we will store all data in Data object and parse it on the fly.\n",
    "- About `timeseries_dataset_from_array()`: \n",
    "    - You provide an array of timeseries data and this function gives you windows extracted from original timeseries. For example, if you use data = [0 1 2 3 4 5 6] and sequence_length=3, then timeseries_dataset_from_array() will generate the following samples: [0 1 2], [1 2 3], [2 3 4], [3 4 5], [4 5 6].\n",
    "    - You can also pass in a target argument to timeseries_dataset_from_array()."
   ]
  },
  {
   "cell_type": "code",
   "execution_count": 9,
   "id": "8ee3ab2f",
   "metadata": {
    "execution": {
     "iopub.execute_input": "2023-02-19T20:20:26.641578Z",
     "iopub.status.busy": "2023-02-19T20:20:26.641310Z",
     "iopub.status.idle": "2023-02-19T20:20:29.057172Z",
     "shell.execute_reply": "2023-02-19T20:20:29.056188Z"
    },
    "papermill": {
     "duration": 2.430233,
     "end_time": "2023-02-19T20:20:29.059727",
     "exception": false,
     "start_time": "2023-02-19T20:20:26.629494",
     "status": "completed"
    },
    "tags": []
   },
   "outputs": [],
   "source": [
    "# examples\n",
    "\n",
    "# generate array sorted from 0 to 9\n",
    "int_sequence = np.arange(10)\n",
    "\n",
    "dummy_dataset = keras.utils.timeseries_dataset_from_array(\n",
    "    # get [0, 6] only\n",
    "    data=int_sequence[:-3],\n",
    "    \n",
    "    # target every 3 timesteps\n",
    "    targets=int_sequence[3:],\n",
    "    \n",
    "    # sequence of 3\n",
    "    sequence_length=3,\n",
    "    \n",
    "    # the sequences will be batched in to size of 2\n",
    "    batch_size=2,\n",
    ")"
   ]
  },
  {
   "cell_type": "code",
   "execution_count": 10,
   "id": "452105b5",
   "metadata": {
    "execution": {
     "iopub.execute_input": "2023-02-19T20:20:29.084499Z",
     "iopub.status.busy": "2023-02-19T20:20:29.084166Z",
     "iopub.status.idle": "2023-02-19T20:20:29.231159Z",
     "shell.execute_reply": "2023-02-19T20:20:29.230096Z"
    },
    "papermill": {
     "duration": 0.16229,
     "end_time": "2023-02-19T20:20:29.233703",
     "exception": false,
     "start_time": "2023-02-19T20:20:29.071413",
     "status": "completed"
    },
    "tags": []
   },
   "outputs": [
    {
     "name": "stdout",
     "output_type": "stream",
     "text": [
      "[0, 1, 2] 3\n",
      "[1, 2, 3] 4\n",
      "[2, 3, 4] 5\n",
      "[3, 4, 5] 6\n",
      "[4, 5, 6] 7\n"
     ]
    }
   ],
   "source": [
    "for inputs, targets in dummy_dataset:\n",
    "    for i in range(inputs.shape[0]):\n",
    "        print([int(x) for x in inputs[i]], int(targets[i]))"
   ]
  },
  {
   "cell_type": "markdown",
   "id": "0aa92f8d",
   "metadata": {
    "papermill": {
     "duration": 0.010309,
     "end_time": "2023-02-19T20:20:29.254637",
     "exception": false,
     "start_time": "2023-02-19T20:20:29.244328",
     "status": "completed"
    },
    "tags": []
   },
   "source": [
    "### Normalize the data"
   ]
  },
  {
   "cell_type": "code",
   "execution_count": 11,
   "id": "261313ae",
   "metadata": {
    "execution": {
     "iopub.execute_input": "2023-02-19T20:20:29.278209Z",
     "iopub.status.busy": "2023-02-19T20:20:29.276739Z",
     "iopub.status.idle": "2023-02-19T20:20:29.327635Z",
     "shell.execute_reply": "2023-02-19T20:20:29.326681Z"
    },
    "papermill": {
     "duration": 0.065365,
     "end_time": "2023-02-19T20:20:29.330250",
     "exception": false,
     "start_time": "2023-02-19T20:20:29.264885",
     "status": "completed"
    },
    "tags": []
   },
   "outputs": [],
   "source": [
    "mean = raw_data[:num_train_samples].mean(axis=0)\n",
    "raw_data -= mean\n",
    "std = raw_data[:num_train_samples].std(axis=0)\n",
    "raw_data /= std"
   ]
  },
  {
   "cell_type": "markdown",
   "id": "97aa0ef4",
   "metadata": {
    "papermill": {
     "duration": 0.010329,
     "end_time": "2023-02-19T20:20:29.351358",
     "exception": false,
     "start_time": "2023-02-19T20:20:29.341029",
     "status": "completed"
    },
    "tags": []
   },
   "source": [
    "### Settings\n",
    "- sampling_rate = 6—Observations will be sampled at one data point per hour: we will only keep one data point out of 6 (60 mins per hour and the record is every 10 mins).\n",
    "- sequence_length = 120—Observations will go back 5 days (120 hours).\n",
    "- delay = sampling_rate * (sequence_length + 24 - 1)—The target for a sequence will be the temperature 24 hours after the end of the sequence.\n",
    "- Note: when we do this, we actually don't know the number of batches of the 3 datasets are until we finish sampling them. The number of batches is depending on the batch size."
   ]
  },
  {
   "cell_type": "markdown",
   "id": "89b0f3d7",
   "metadata": {
    "papermill": {
     "duration": 0.010057,
     "end_time": "2023-02-19T20:20:29.371597",
     "exception": false,
     "start_time": "2023-02-19T20:20:29.361540",
     "status": "completed"
    },
    "tags": []
   },
   "source": [
    "### Instantiate datasets for training, validation, and testing"
   ]
  },
  {
   "cell_type": "code",
   "execution_count": 12,
   "id": "ad33ba99",
   "metadata": {
    "execution": {
     "iopub.execute_input": "2023-02-19T20:20:29.393525Z",
     "iopub.status.busy": "2023-02-19T20:20:29.393209Z",
     "iopub.status.idle": "2023-02-19T20:20:29.599234Z",
     "shell.execute_reply": "2023-02-19T20:20:29.598170Z"
    },
    "papermill": {
     "duration": 0.219965,
     "end_time": "2023-02-19T20:20:29.601851",
     "exception": false,
     "start_time": "2023-02-19T20:20:29.381886",
     "status": "completed"
    },
    "tags": []
   },
   "outputs": [],
   "source": [
    "sampling_rate = 6\n",
    "sequence_length = 120\n",
    "delay = sampling_rate * (sequence_length + 24 - 1)\n",
    "batch_size = 256 # number of samples per batch\n",
    "\n",
    "train_dataset = keras.utils.timeseries_dataset_from_array(\n",
    "    raw_data[:-delay],\n",
    "    targets=temperature[delay:],\n",
    "    sampling_rate=sampling_rate,\n",
    "    sequence_length=sequence_length,\n",
    "    shuffle=True,\n",
    "    batch_size=batch_size,\n",
    "    start_index=0,\n",
    "    end_index=num_train_samples)\n",
    "\n",
    "val_dataset = keras.utils.timeseries_dataset_from_array(\n",
    "    raw_data[:-delay],\n",
    "    targets=temperature[delay:],\n",
    "    sampling_rate=sampling_rate,\n",
    "    sequence_length=sequence_length,\n",
    "    shuffle=True,\n",
    "    batch_size=batch_size,\n",
    "    start_index=num_train_samples,\n",
    "    end_index=num_train_samples + num_val_samples)\n",
    "\n",
    "test_dataset = keras.utils.timeseries_dataset_from_array(\n",
    "    raw_data[:-delay],\n",
    "    targets=temperature[delay:],\n",
    "    sampling_rate=sampling_rate,\n",
    "    sequence_length=sequence_length,\n",
    "    shuffle=True,\n",
    "    batch_size=batch_size,\n",
    "    start_index=num_train_samples + num_val_samples)"
   ]
  },
  {
   "cell_type": "markdown",
   "id": "16fe997f",
   "metadata": {
    "papermill": {
     "duration": 0.010406,
     "end_time": "2023-02-19T20:20:29.623100",
     "exception": false,
     "start_time": "2023-02-19T20:20:29.612694",
     "status": "completed"
    },
    "tags": []
   },
   "source": [
    "**Note**: each dataset yields a tuple (samples, targets), where samples is a batch of 256 samples, each contains 120 consecutive hours of input, and targets is the correct corresponding array of 256 target temperatures. Note that the samples are randomly shuffled so 2 consecutive sequences in batch (samples[0] and samples[1] aren't neccesarily close."
   ]
  },
  {
   "cell_type": "code",
   "execution_count": 13,
   "id": "c29dc526",
   "metadata": {
    "execution": {
     "iopub.execute_input": "2023-02-19T20:20:29.647927Z",
     "iopub.status.busy": "2023-02-19T20:20:29.646169Z",
     "iopub.status.idle": "2023-02-19T20:20:29.986306Z",
     "shell.execute_reply": "2023-02-19T20:20:29.984801Z"
    },
    "papermill": {
     "duration": 0.354724,
     "end_time": "2023-02-19T20:20:29.988518",
     "exception": false,
     "start_time": "2023-02-19T20:20:29.633794",
     "status": "completed"
    },
    "tags": []
   },
   "outputs": [
    {
     "name": "stdout",
     "output_type": "stream",
     "text": [
      "samples shape: (256, 120, 14)\n",
      "targets shape: (256,)\n",
      "train dataset size: 819\n",
      "validate dataset size: 408\n",
      "test dataset size 405\n"
     ]
    }
   ],
   "source": [
    "for samples, targets in train_dataset:\n",
    "    print(\"samples shape:\", samples.shape)\n",
    "    print(\"targets shape:\", targets.shape)\n",
    "    break\n",
    "print(\"train dataset size:\",len(train_dataset))\n",
    "print(\"validate dataset size:\",len(val_dataset))\n",
    "print(\"test dataset size\",len(test_dataset))"
   ]
  },
  {
   "cell_type": "markdown",
   "id": "139b0447",
   "metadata": {
    "papermill": {
     "duration": 0.010644,
     "end_time": "2023-02-19T20:20:30.010079",
     "exception": false,
     "start_time": "2023-02-19T20:20:29.999435",
     "status": "completed"
    },
    "tags": []
   },
   "source": [
    "## C. A common-sense, non ML baseline\n",
    "- Such common-sense baselines can be useful when you are approaching a new problem for which there is no known solution yet.\n",
    "- For our dataset, it can be safely assume to be continuous (temperature tomorrow are likely to be close to the temperatures today). **Thus, a common-sense approach is to always predict that the temperature 24 hours from now will be equal to the temperature right now.**"
   ]
  },
  {
   "cell_type": "code",
   "execution_count": 14,
   "id": "d0b32f2d",
   "metadata": {
    "execution": {
     "iopub.execute_input": "2023-02-19T20:20:30.035124Z",
     "iopub.status.busy": "2023-02-19T20:20:30.033234Z",
     "iopub.status.idle": "2023-02-19T20:20:30.041186Z",
     "shell.execute_reply": "2023-02-19T20:20:30.040289Z"
    },
    "papermill": {
     "duration": 0.022331,
     "end_time": "2023-02-19T20:20:30.043257",
     "exception": false,
     "start_time": "2023-02-19T20:20:30.020926",
     "status": "completed"
    },
    "tags": []
   },
   "outputs": [],
   "source": [
    "def evaluate_naive_method(dataset):\n",
    "    total_abs_err = 0.\n",
    "    samples_seen = 0\n",
    "    for samples, targets in dataset:\n",
    "        \n",
    "        # the temperature feature is at column 1, so samples[:, -1, 1] is the last temperature measurement in the input sequence.\n",
    "        # recall that we normalized our features, so to retrieve a temperature in degrees Celsius, we need to un-normalize it by multiplying it by the standard deviation and adding back the mean.\n",
    "        preds = samples[:, -1, 1] * std[1] + mean[1]\n",
    "        \n",
    "        # target is sample 24 hours after so no need to do anything to get target\n",
    "        total_abs_err += np.sum(np.abs(preds - targets))\n",
    "        samples_seen += samples.shape[0]\n",
    "    return total_abs_err / samples_seen"
   ]
  },
  {
   "cell_type": "code",
   "execution_count": 15,
   "id": "a6ae33ae",
   "metadata": {
    "execution": {
     "iopub.execute_input": "2023-02-19T20:20:30.067922Z",
     "iopub.status.busy": "2023-02-19T20:20:30.066382Z",
     "iopub.status.idle": "2023-02-19T20:21:04.145398Z",
     "shell.execute_reply": "2023-02-19T20:21:04.144297Z"
    },
    "papermill": {
     "duration": 34.102191,
     "end_time": "2023-02-19T20:21:04.156569",
     "exception": false,
     "start_time": "2023-02-19T20:20:30.054378",
     "status": "completed"
    },
    "tags": []
   },
   "outputs": [
    {
     "name": "stdout",
     "output_type": "stream",
     "text": [
      "Validation MAE: 2.44\n",
      "Test MAE: 2.62\n"
     ]
    }
   ],
   "source": [
    "print(f\"Validation MAE: {evaluate_naive_method(val_dataset):.2f}\")\n",
    "print(f\"Test MAE: {evaluate_naive_method(test_dataset):.2f}\")"
   ]
  },
  {
   "cell_type": "markdown",
   "id": "87216c7c",
   "metadata": {
    "papermill": {
     "duration": 0.010602,
     "end_time": "2023-02-19T20:21:04.178727",
     "exception": false,
     "start_time": "2023-02-19T20:21:04.168125",
     "status": "completed"
    },
    "tags": []
   },
   "source": [
    "## D. Try a basic ML model\n",
    "- We can build a simple densely connected model."
   ]
  },
  {
   "cell_type": "code",
   "execution_count": 16,
   "id": "58d11bee",
   "metadata": {
    "execution": {
     "iopub.execute_input": "2023-02-19T20:21:04.200875Z",
     "iopub.status.busy": "2023-02-19T20:21:04.200547Z",
     "iopub.status.idle": "2023-02-19T20:21:04.245177Z",
     "shell.execute_reply": "2023-02-19T20:21:04.244272Z"
    },
    "papermill": {
     "duration": 0.058066,
     "end_time": "2023-02-19T20:21:04.247225",
     "exception": false,
     "start_time": "2023-02-19T20:21:04.189159",
     "status": "completed"
    },
    "tags": []
   },
   "outputs": [],
   "source": [
    "# build model\n",
    "inputs = keras.Input(shape=(sequence_length, raw_data.shape[-1]))\n",
    "x = layers.Flatten()(inputs)\n",
    "x = layers.Dense(16, activation=\"relu\")(x)\n",
    "outputs = layers.Dense(1)(x)\n",
    "model = keras.Model(inputs, outputs)"
   ]
  },
  {
   "cell_type": "code",
   "execution_count": 17,
   "id": "b135d7af",
   "metadata": {
    "execution": {
     "iopub.execute_input": "2023-02-19T20:21:04.271101Z",
     "iopub.status.busy": "2023-02-19T20:21:04.269607Z",
     "iopub.status.idle": "2023-02-19T20:21:04.275227Z",
     "shell.execute_reply": "2023-02-19T20:21:04.274374Z"
    },
    "papermill": {
     "duration": 0.019001,
     "end_time": "2023-02-19T20:21:04.277140",
     "exception": false,
     "start_time": "2023-02-19T20:21:04.258139",
     "status": "completed"
    },
    "tags": []
   },
   "outputs": [],
   "source": [
    "# set up call back to save the best model only\n",
    "callbacks = [\n",
    "    keras.callbacks.ModelCheckpoint(\"jena_dense.keras\",\n",
    "    save_best_only=True)\n",
    "]"
   ]
  },
  {
   "cell_type": "code",
   "execution_count": 18,
   "id": "ae015f6c",
   "metadata": {
    "execution": {
     "iopub.execute_input": "2023-02-19T20:21:04.301012Z",
     "iopub.status.busy": "2023-02-19T20:21:04.299591Z",
     "iopub.status.idle": "2023-02-19T20:33:00.457662Z",
     "shell.execute_reply": "2023-02-19T20:33:00.456499Z"
    },
    "papermill": {
     "duration": 716.412068,
     "end_time": "2023-02-19T20:33:00.699647",
     "exception": false,
     "start_time": "2023-02-19T20:21:04.287579",
     "status": "completed"
    },
    "tags": []
   },
   "outputs": [
    {
     "name": "stdout",
     "output_type": "stream",
     "text": [
      "Epoch 1/10\n",
      "819/819 [==============================] - 53s 62ms/step - loss: 12.0461 - mae: 2.6863 - val_loss: 9.9842 - val_mae: 2.4834\n",
      "Epoch 2/10\n",
      "819/819 [==============================] - 46s 55ms/step - loss: 8.7419 - mae: 2.3225 - val_loss: 10.4844 - val_mae: 2.5505\n",
      "Epoch 3/10\n",
      "819/819 [==============================] - 45s 54ms/step - loss: 8.0184 - mae: 2.2267 - val_loss: 14.2158 - val_mae: 2.9941\n",
      "Epoch 4/10\n",
      "819/819 [==============================] - 51s 62ms/step - loss: 7.5920 - mae: 2.1680 - val_loss: 10.1861 - val_mae: 2.5126\n",
      "Epoch 5/10\n",
      "819/819 [==============================] - 51s 61ms/step - loss: 7.2938 - mae: 2.1263 - val_loss: 10.3513 - val_mae: 2.5414\n",
      "Epoch 6/10\n",
      "819/819 [==============================] - 45s 54ms/step - loss: 7.0887 - mae: 2.0975 - val_loss: 10.3171 - val_mae: 2.5241\n",
      "Epoch 7/10\n",
      "819/819 [==============================] - 45s 55ms/step - loss: 6.9303 - mae: 2.0763 - val_loss: 10.2951 - val_mae: 2.5266\n",
      "Epoch 8/10\n",
      "819/819 [==============================] - 45s 54ms/step - loss: 6.7897 - mae: 2.0554 - val_loss: 11.0103 - val_mae: 2.6058\n",
      "Epoch 9/10\n",
      "819/819 [==============================] - 52s 63ms/step - loss: 6.6683 - mae: 2.0371 - val_loss: 10.6495 - val_mae: 2.5654\n",
      "Epoch 10/10\n",
      "819/819 [==============================] - 52s 63ms/step - loss: 6.5660 - mae: 2.0220 - val_loss: 11.0230 - val_mae: 2.6117\n"
     ]
    }
   ],
   "source": [
    "# compile model\n",
    "model.compile(optimizer=\"rmsprop\", loss=\"mse\", metrics=[\"mae\"])\n",
    "    \n",
    "# train model\n",
    "history = model.fit(train_dataset,\n",
    "    epochs=10,\n",
    "    validation_data=val_dataset,\n",
    "    callbacks=callbacks)"
   ]
  },
  {
   "cell_type": "code",
   "execution_count": 19,
   "id": "d183465e",
   "metadata": {
    "execution": {
     "iopub.execute_input": "2023-02-19T20:33:01.233851Z",
     "iopub.status.busy": "2023-02-19T20:33:01.233474Z",
     "iopub.status.idle": "2023-02-19T20:33:21.839661Z",
     "shell.execute_reply": "2023-02-19T20:33:21.836087Z"
    },
    "papermill": {
     "duration": 20.896325,
     "end_time": "2023-02-19T20:33:21.842187",
     "exception": false,
     "start_time": "2023-02-19T20:33:00.945862",
     "status": "completed"
    },
    "tags": []
   },
   "outputs": [
    {
     "name": "stdout",
     "output_type": "stream",
     "text": [
      "405/405 [==============================] - 14s 35ms/step - loss: 11.0994 - mae: 2.6009\n",
      "Test MAE: 2.60\n"
     ]
    }
   ],
   "source": [
    "# evaluate model\n",
    "model = keras.models.load_model(\"jena_dense.keras\")\n",
    "print(f\"Test MAE: {model.evaluate(test_dataset)[1]:.2f}\")"
   ]
  },
  {
   "cell_type": "code",
   "execution_count": 20,
   "id": "8e2ddbca",
   "metadata": {
    "execution": {
     "iopub.execute_input": "2023-02-19T20:33:22.356763Z",
     "iopub.status.busy": "2023-02-19T20:33:22.356371Z",
     "iopub.status.idle": "2023-02-19T20:33:22.569042Z",
     "shell.execute_reply": "2023-02-19T20:33:22.567980Z"
    },
    "papermill": {
     "duration": 0.471862,
     "end_time": "2023-02-19T20:33:22.571699",
     "exception": false,
     "start_time": "2023-02-19T20:33:22.099837",
     "status": "completed"
    },
    "tags": []
   },
   "outputs": [
    {
     "data": {
      "image/png": "[encoded data removed]",
      "text/plain": [
       "<Figure size 640x480 with 1 Axes>"
      ]
     },
     "metadata": {},
     "output_type": "display_data"
    }
   ],
   "source": [
    "# plot result\n",
    "loss = history.history[\"mae\"]\n",
    "val_loss = history.history[\"val_mae\"]\n",
    "epochs = range(1, len(loss) + 1)\n",
    "plt.figure()\n",
    "plt.plot(epochs, loss, \"bo\", label=\"Training MAE\")\n",
    "plt.plot(epochs, val_loss, \"b\", label=\"Validation MAE\")\n",
    "plt.title(\"Training and validation MAE\")\n",
    "plt.legend()\n",
    "plt.show()"
   ]
  },
  {
   "cell_type": "markdown",
   "id": "f9e871ac",
   "metadata": {
    "papermill": {
     "duration": 0.253909,
     "end_time": "2023-02-19T20:33:23.091715",
     "exception": false,
     "start_time": "2023-02-19T20:33:22.837806",
     "status": "completed"
    },
    "tags": []
   },
   "source": [
    "**Analysis**: Some of the validation losses are close to the no-learning baseline, but not reliably. This goes to show the merit of having this baseline in the first place: it turns out to be not easy to outperform. Your common sense contains a lot of valuable information to which a machine learning model doesn’t have access."
   ]
  },
  {
   "cell_type": "markdown",
   "id": "0606ac37",
   "metadata": {
    "papermill": {
     "duration": 0.250386,
     "end_time": "2023-02-19T20:33:23.594523",
     "exception": false,
     "start_time": "2023-02-19T20:33:23.344137",
     "status": "completed"
    },
    "tags": []
   },
   "source": [
    "## E. Try 1D convolutional model"
   ]
  },
  {
   "cell_type": "code",
   "execution_count": 21,
   "id": "b9e85ade",
   "metadata": {
    "execution": {
     "iopub.execute_input": "2023-02-19T20:33:24.143384Z",
     "iopub.status.busy": "2023-02-19T20:33:24.143024Z",
     "iopub.status.idle": "2023-02-19T20:33:24.205718Z",
     "shell.execute_reply": "2023-02-19T20:33:24.204775Z"
    },
    "papermill": {
     "duration": 0.320851,
     "end_time": "2023-02-19T20:33:24.208157",
     "exception": false,
     "start_time": "2023-02-19T20:33:23.887306",
     "status": "completed"
    },
    "tags": []
   },
   "outputs": [],
   "source": [
    "# build model\n",
    "inputs = keras.Input(shape=(sequence_length, raw_data.shape[-1]))\n",
    "x = layers.Conv1D(8, 24, activation=\"relu\")(inputs)\n",
    "x = layers.MaxPooling1D(2)(x)\n",
    "x = layers.Conv1D(8, 12, activation=\"relu\")(x)\n",
    "x = layers.MaxPooling1D(2)(x)\n",
    "x = layers.Conv1D(8, 6, activation=\"relu\")(x)\n",
    "x = layers.GlobalAveragePooling1D()(x)\n",
    "outputs = layers.Dense(1)(x)\n",
    "model = keras.Model(inputs, outputs)"
   ]
  },
  {
   "cell_type": "code",
   "execution_count": 22,
   "id": "76f9ea72",
   "metadata": {
    "execution": {
     "iopub.execute_input": "2023-02-19T20:33:24.717783Z",
     "iopub.status.busy": "2023-02-19T20:33:24.717389Z",
     "iopub.status.idle": "2023-02-19T20:33:24.722148Z",
     "shell.execute_reply": "2023-02-19T20:33:24.721174Z"
    },
    "papermill": {
     "duration": 0.263705,
     "end_time": "2023-02-19T20:33:24.724300",
     "exception": false,
     "start_time": "2023-02-19T20:33:24.460595",
     "status": "completed"
    },
    "tags": []
   },
   "outputs": [],
   "source": [
    "# set up call back to save the best model\n",
    "callbacks = [\n",
    "    keras.callbacks.ModelCheckpoint(\"jena_conv.keras\",\n",
    "    save_best_only=True)\n",
    "]"
   ]
  },
  {
   "cell_type": "code",
   "execution_count": 23,
   "id": "a03ba279",
   "metadata": {
    "execution": {
     "iopub.execute_input": "2023-02-19T20:33:25.242057Z",
     "iopub.status.busy": "2023-02-19T20:33:25.241701Z",
     "iopub.status.idle": "2023-02-19T20:44:27.743960Z",
     "shell.execute_reply": "2023-02-19T20:44:27.742934Z"
    },
    "papermill": {
     "duration": 662.768842,
     "end_time": "2023-02-19T20:44:27.748257",
     "exception": false,
     "start_time": "2023-02-19T20:33:24.979415",
     "status": "completed"
    },
    "tags": []
   },
   "outputs": [
    {
     "name": "stdout",
     "output_type": "stream",
     "text": [
      "Epoch 1/10\n",
      "819/819 [==============================] - 52s 57ms/step - loss: 21.1337 - mae: 3.6141 - val_loss: 15.7971 - val_mae: 3.1438\n",
      "Epoch 2/10\n",
      "819/819 [==============================] - 53s 64ms/step - loss: 15.6070 - mae: 3.1344 - val_loss: 14.8436 - val_mae: 3.0334\n",
      "Epoch 3/10\n",
      "819/819 [==============================] - 53s 64ms/step - loss: 14.4323 - mae: 3.0135 - val_loss: 15.1908 - val_mae: 3.0860\n",
      "Epoch 4/10\n",
      "819/819 [==============================] - 46s 56ms/step - loss: 13.5604 - mae: 2.9218 - val_loss: 15.3033 - val_mae: 3.0884\n",
      "Epoch 5/10\n",
      "819/819 [==============================] - 52s 63ms/step - loss: 12.8162 - mae: 2.8398 - val_loss: 15.8725 - val_mae: 3.1370\n",
      "Epoch 6/10\n",
      "819/819 [==============================] - 47s 57ms/step - loss: 12.2375 - mae: 2.7747 - val_loss: 16.9757 - val_mae: 3.2365\n",
      "Epoch 7/10\n",
      "819/819 [==============================] - 54s 65ms/step - loss: 11.7072 - mae: 2.7151 - val_loss: 15.5867 - val_mae: 3.0857\n",
      "Epoch 8/10\n",
      "819/819 [==============================] - 47s 57ms/step - loss: 11.2405 - mae: 2.6608 - val_loss: 15.1988 - val_mae: 3.0664\n",
      "Epoch 9/10\n",
      "819/819 [==============================] - 47s 57ms/step - loss: 10.8354 - mae: 2.6109 - val_loss: 17.6897 - val_mae: 3.3008\n",
      "Epoch 10/10\n",
      "819/819 [==============================] - 54s 65ms/step - loss: 10.5136 - mae: 2.5718 - val_loss: 15.2906 - val_mae: 3.0574\n"
     ]
    }
   ],
   "source": [
    "# compile model\n",
    "model.compile(optimizer=\"rmsprop\", loss=\"mse\", metrics=[\"mae\"])\n",
    "\n",
    "# train and validate model\n",
    "history = model.fit(train_dataset,\n",
    "    epochs=10,\n",
    "    validation_data=val_dataset,\n",
    "    callbacks=callbacks)"
   ]
  },
  {
   "cell_type": "code",
   "execution_count": 24,
   "id": "9b11798b",
   "metadata": {
    "execution": {
     "iopub.execute_input": "2023-02-19T20:44:28.812961Z",
     "iopub.status.busy": "2023-02-19T20:44:28.812575Z",
     "iopub.status.idle": "2023-02-19T20:44:49.842811Z",
     "shell.execute_reply": "2023-02-19T20:44:49.841529Z"
    },
    "papermill": {
     "duration": 21.579319,
     "end_time": "2023-02-19T20:44:49.845546",
     "exception": false,
     "start_time": "2023-02-19T20:44:28.266227",
     "status": "completed"
    },
    "tags": []
   },
   "outputs": [
    {
     "name": "stdout",
     "output_type": "stream",
     "text": [
      "405/405 [==============================] - 16s 36ms/step - loss: 16.8216 - mae: 3.2364\n",
      "Test MAE: 3.24\n"
     ]
    }
   ],
   "source": [
    "# test model\n",
    "model = keras.models.load_model(\"jena_conv.keras\")\n",
    "print(f\"Test MAE: {model.evaluate(test_dataset)[1]:.2f}\")"
   ]
  },
  {
   "cell_type": "code",
   "execution_count": 25,
   "id": "99f1393d",
   "metadata": {
    "execution": {
     "iopub.execute_input": "2023-02-19T20:44:50.886516Z",
     "iopub.status.busy": "2023-02-19T20:44:50.886039Z",
     "iopub.status.idle": "2023-02-19T20:44:51.101440Z",
     "shell.execute_reply": "2023-02-19T20:44:51.100517Z"
    },
    "papermill": {
     "duration": 0.734265,
     "end_time": "2023-02-19T20:44:51.103615",
     "exception": false,
     "start_time": "2023-02-19T20:44:50.369350",
     "status": "completed"
    },
    "tags": []
   },
   "outputs": [
    {
     "data": {
      "image/png": "[encoded data removed]",
      "text/plain": [
       "<Figure size 640x480 with 1 Axes>"
      ]
     },
     "metadata": {},
     "output_type": "display_data"
    }
   ],
   "source": [
    "# plot result\n",
    "loss = history.history[\"mae\"]\n",
    "val_loss = history.history[\"val_mae\"]\n",
    "epochs = range(1, len(loss) + 1)\n",
    "plt.figure()\n",
    "plt.plot(epochs, loss, \"bo\", label=\"Training MAE\")\n",
    "plt.plot(epochs, val_loss, \"b\", label=\"Validation MAE\")\n",
    "plt.title(\"Training and validation MAE\")\n",
    "plt.legend()\n",
    "plt.show()"
   ]
  },
  {
   "cell_type": "markdown",
   "id": "0e0f18a8",
   "metadata": {
    "papermill": {
     "duration": 0.518068,
     "end_time": "2023-02-19T20:44:52.193773",
     "exception": false,
     "start_time": "2023-02-19T20:44:51.675705",
     "status": "completed"
    },
    "tags": []
   },
   "source": [
    "## F. First Recurrent Baseline"
   ]
  },
  {
   "cell_type": "code",
   "execution_count": 26,
   "id": "f8570d24",
   "metadata": {
    "execution": {
     "iopub.execute_input": "2023-02-19T20:44:53.262997Z",
     "iopub.status.busy": "2023-02-19T20:44:53.262619Z",
     "iopub.status.idle": "2023-02-19T20:44:53.523021Z",
     "shell.execute_reply": "2023-02-19T20:44:53.521963Z"
    },
    "papermill": {
     "duration": 0.823103,
     "end_time": "2023-02-19T20:44:53.526027",
     "exception": false,
     "start_time": "2023-02-19T20:44:52.702924",
     "status": "completed"
    },
    "tags": []
   },
   "outputs": [],
   "source": [
    "# build model\n",
    "inputs = keras.Input(shape=(sequence_length, raw_data.shape[-1]))\n",
    "x = layers.LSTM(16)(inputs)\n",
    "outputs = layers.Dense(1)(x)\n",
    "model = keras.Model(inputs, outputs)"
   ]
  },
  {
   "cell_type": "code",
   "execution_count": 27,
   "id": "d8200119",
   "metadata": {
    "execution": {
     "iopub.execute_input": "2023-02-19T20:44:54.548064Z",
     "iopub.status.busy": "2023-02-19T20:44:54.547651Z",
     "iopub.status.idle": "2023-02-19T20:44:54.552517Z",
     "shell.execute_reply": "2023-02-19T20:44:54.551445Z"
    },
    "papermill": {
     "duration": 0.525102,
     "end_time": "2023-02-19T20:44:54.555009",
     "exception": false,
     "start_time": "2023-02-19T20:44:54.029907",
     "status": "completed"
    },
    "tags": []
   },
   "outputs": [],
   "source": [
    "# set up call back to save the best model\n",
    "callbacks = [\n",
    "    keras.callbacks.ModelCheckpoint(\"jena_lstm.keras\",\n",
    "    save_best_only=True)\n",
    "]"
   ]
  },
  {
   "cell_type": "code",
   "execution_count": 28,
   "id": "226c04db",
   "metadata": {
    "execution": {
     "iopub.execute_input": "2023-02-19T20:44:55.632452Z",
     "iopub.status.busy": "2023-02-19T20:44:55.632068Z",
     "iopub.status.idle": "2023-02-19T20:56:39.325613Z",
     "shell.execute_reply": "2023-02-19T20:56:39.324590Z"
    },
    "papermill": {
     "duration": 705.04375,
     "end_time": "2023-02-19T20:56:40.155027",
     "exception": false,
     "start_time": "2023-02-19T20:44:55.111277",
     "status": "completed"
    },
    "tags": []
   },
   "outputs": [
    {
     "name": "stdout",
     "output_type": "stream",
     "text": [
      "Epoch 1/10\n",
      "819/819 [==============================] - 52s 61ms/step - loss: 38.5395 - mae: 4.5018 - val_loss: 12.0826 - val_mae: 2.6694\n",
      "Epoch 2/10\n",
      "819/819 [==============================] - 50s 61ms/step - loss: 10.7361 - mae: 2.5498 - val_loss: 9.8164 - val_mae: 2.4481\n",
      "Epoch 3/10\n",
      "819/819 [==============================] - 55s 67ms/step - loss: 9.7482 - mae: 2.4342 - val_loss: 9.8839 - val_mae: 2.4530\n",
      "Epoch 4/10\n",
      "819/819 [==============================] - 50s 60ms/step - loss: 9.4297 - mae: 2.3927 - val_loss: 9.6805 - val_mae: 2.4432\n",
      "Epoch 5/10\n",
      "819/819 [==============================] - 56s 67ms/step - loss: 9.0670 - mae: 2.3466 - val_loss: 9.4440 - val_mae: 2.4060\n",
      "Epoch 6/10\n",
      "819/819 [==============================] - 49s 59ms/step - loss: 8.8158 - mae: 2.3110 - val_loss: 9.6452 - val_mae: 2.4274\n",
      "Epoch 7/10\n",
      "819/819 [==============================] - 51s 62ms/step - loss: 8.6641 - mae: 2.2907 - val_loss: 9.5025 - val_mae: 2.4026\n",
      "Epoch 8/10\n",
      "819/819 [==============================] - 50s 61ms/step - loss: 8.4939 - mae: 2.2675 - val_loss: 9.5612 - val_mae: 2.4155\n",
      "Epoch 9/10\n",
      "819/819 [==============================] - 55s 67ms/step - loss: 8.3621 - mae: 2.2513 - val_loss: 9.7204 - val_mae: 2.4375\n",
      "Epoch 10/10\n",
      "819/819 [==============================] - 50s 60ms/step - loss: 8.2441 - mae: 2.2350 - val_loss: 9.7060 - val_mae: 2.4350\n"
     ]
    }
   ],
   "source": [
    "# compile model\n",
    "model.compile(optimizer=\"rmsprop\", loss=\"mse\", metrics=[\"mae\"])\n",
    "\n",
    "# train and validate model\n",
    "history = model.fit(train_dataset,\n",
    "    epochs=10,\n",
    "    validation_data=val_dataset,\n",
    "    callbacks=callbacks)"
   ]
  },
  {
   "cell_type": "code",
   "execution_count": 29,
   "id": "c77b1e2c",
   "metadata": {
    "execution": {
     "iopub.execute_input": "2023-02-19T20:56:41.951236Z",
     "iopub.status.busy": "2023-02-19T20:56:41.950856Z",
     "iopub.status.idle": "2023-02-19T20:57:03.082769Z",
     "shell.execute_reply": "2023-02-19T20:57:03.081441Z"
    },
    "papermill": {
     "duration": 21.951216,
     "end_time": "2023-02-19T20:57:03.085509",
     "exception": false,
     "start_time": "2023-02-19T20:56:41.134293",
     "status": "completed"
    },
    "tags": []
   },
   "outputs": [
    {
     "name": "stdout",
     "output_type": "stream",
     "text": [
      "405/405 [==============================] - 15s 36ms/step - loss: 10.7635 - mae: 2.5548\n",
      "Test MAE: 2.55\n"
     ]
    }
   ],
   "source": [
    "# test model\n",
    "model = keras.models.load_model(\"jena_lstm.keras\")\n",
    "print(f\"Test MAE: {model.evaluate(test_dataset)[1]:.2f}\")"
   ]
  },
  {
   "cell_type": "code",
   "execution_count": 30,
   "id": "72267cbf",
   "metadata": {
    "execution": {
     "iopub.execute_input": "2023-02-19T20:57:04.975382Z",
     "iopub.status.busy": "2023-02-19T20:57:04.974949Z",
     "iopub.status.idle": "2023-02-19T20:57:05.224712Z",
     "shell.execute_reply": "2023-02-19T20:57:05.223705Z"
    },
    "papermill": {
     "duration": 1.372283,
     "end_time": "2023-02-19T20:57:05.228689",
     "exception": false,
     "start_time": "2023-02-19T20:57:03.856406",
     "status": "completed"
    },
    "tags": []
   },
   "outputs": [
    {
     "data": {
      "image/png": "[encoded data removed]",
      "text/plain": [
       "<Figure size 640x480 with 1 Axes>"
      ]
     },
     "metadata": {},
     "output_type": "display_data"
    }
   ],
   "source": [
    "# plot result\n",
    "loss = history.history[\"mae\"]\n",
    "val_loss = history.history[\"val_mae\"]\n",
    "epochs = range(1, len(loss) + 1)\n",
    "plt.figure()\n",
    "plt.plot(epochs, loss, \"bo\", label=\"Training MAE\")\n",
    "plt.plot(epochs, val_loss, \"b\", label=\"Validation MAE\")\n",
    "plt.title(\"Training and validation MAE\")\n",
    "plt.legend()\n",
    "plt.show()"
   ]
  },
  {
   "cell_type": "markdown",
   "id": "f55c9f39",
   "metadata": {
    "papermill": {
     "duration": 0.829824,
     "end_time": "2023-02-19T20:57:06.938592",
     "exception": false,
     "start_time": "2023-02-19T20:57:06.108768",
     "status": "completed"
    },
    "tags": []
   },
   "source": [
    "**Analysis**: Much better! We achieve a validation MAE as low as 2.36 degrees and a test MAE of 2.55 degrees. The LSTM-based model can finally beat the\n",
    "common-sense baseline"
   ]
  },
  {
   "cell_type": "code",
   "execution_count": null,
   "id": "d63962d7",
   "metadata": {
    "papermill": {
     "duration": 0.857831,
     "end_time": "2023-02-19T20:57:08.563178",
     "exception": false,
     "start_time": "2023-02-19T20:57:07.705347",
     "status": "completed"
    },
    "tags": []
   },
   "outputs": [],
   "source": []
  }
 ],
 "metadata": {
  "kernelspec": {
   "display_name": "Python 3",
   "language": "python",
   "name": "python3"
  },
  "language_info": {
   "codemirror_mode": {
    "name": "ipython",
    "version": 3
   },
   "file_extension": ".py",
   "mimetype": "text/x-python",
   "name": "python",
   "nbconvert_exporter": "python",
   "pygments_lexer": "ipython3",
   "version": "3.7.12"
  },
  "papermill": {
   "default_parameters": {},
   "duration": 2228.184042,
   "end_time": "2023-02-19T20:57:13.133988",
   "environment_variables": {},
   "exception": null,
   "input_path": "__notebook__.ipynb",
   "output_path": "__notebook__.ipynb",
   "parameters": {},
   "start_time": "2023-02-19T20:20:04.949946",
   "version": "2.3.4"
  }
 },
 "nbformat": 4,
 "nbformat_minor": 5
}
