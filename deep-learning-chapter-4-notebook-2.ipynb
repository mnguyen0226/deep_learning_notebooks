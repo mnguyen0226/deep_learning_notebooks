{
 "cells": [
  {
   "cell_type": "markdown",
   "id": "ec3748b0",
   "metadata": {
    "_cell_guid": "b1076dfc-b9ad-4769-8c92-a6c4dae69d19",
    "_uuid": "8f2839f25d086af736a60e9eeb907d3b93b6e0e5",
    "papermill": {
     "duration": 0.009225,
     "end_time": "2023-02-04T04:45:17.944542",
     "exception": false,
     "start_time": "2023-02-04T04:45:17.935317",
     "status": "completed"
    },
    "tags": []
   },
   "source": [
    "# 4.2. Classifying Newswires: A Multi-class Classification Examples"
   ]
  },
  {
   "cell_type": "markdown",
   "id": "06ec184e",
   "metadata": {
    "papermill": {
     "duration": 0.007427,
     "end_time": "2023-02-04T04:45:17.960090",
     "exception": false,
     "start_time": "2023-02-04T04:45:17.952663",
     "status": "completed"
    },
    "tags": []
   },
   "source": [
    "# 4.2.1: The Reuters Dataset\n",
    "- About: A set of short newswires and their topics for text classification. There are 46 different topics and some topics are more represented than others, but each topic has at least 10 examples in a training dataset.\n",
    "- Similar to IMDB Dataset, we restrict data to the 10k most frequently occurring words found in data"
   ]
  },
  {
   "cell_type": "code",
   "execution_count": 1,
   "id": "361ae75c",
   "metadata": {
    "execution": {
     "iopub.execute_input": "2023-02-04T04:45:17.977969Z",
     "iopub.status.busy": "2023-02-04T04:45:17.977182Z",
     "iopub.status.idle": "2023-02-04T04:45:24.161539Z",
     "shell.execute_reply": "2023-02-04T04:45:24.160335Z"
    },
    "papermill": {
     "duration": 6.196868,
     "end_time": "2023-02-04T04:45:24.164669",
     "exception": false,
     "start_time": "2023-02-04T04:45:17.967801",
     "status": "completed"
    },
    "tags": []
   },
   "outputs": [],
   "source": [
    "# import library\n",
    "import numpy as np\n",
    "import matplotlib.pyplot as plt\n",
    "import copy\n",
    "\n",
    "# import tensorflow\n",
    "from tensorflow.keras.datasets import reuters\n",
    "from tensorflow.keras.utils import to_categorical\n",
    "from tensorflow import keras\n",
    "from tensorflow.keras import layers"
   ]
  },
  {
   "cell_type": "code",
   "execution_count": 2,
   "id": "5dcd71a5",
   "metadata": {
    "execution": {
     "iopub.execute_input": "2023-02-04T04:45:24.182685Z",
     "iopub.status.busy": "2023-02-04T04:45:24.181894Z",
     "iopub.status.idle": "2023-02-04T04:45:26.428538Z",
     "shell.execute_reply": "2023-02-04T04:45:26.427442Z"
    },
    "papermill": {
     "duration": 2.258575,
     "end_time": "2023-02-04T04:45:26.431246",
     "exception": false,
     "start_time": "2023-02-04T04:45:24.172671",
     "status": "completed"
    },
    "tags": []
   },
   "outputs": [
    {
     "name": "stdout",
     "output_type": "stream",
     "text": [
      "Downloading data from https://storage.googleapis.com/tensorflow/tf-keras-datasets/reuters.npz\n",
      "2113536/2110848 [==============================] - 1s 0us/step\n",
      "2121728/2110848 [==============================] - 1s 0us/step\n"
     ]
    }
   ],
   "source": [
    "# load the dataset\n",
    "(train_data, train_labels), (test_data, test_labels) = reuters.load_data(num_words=10000)"
   ]
  },
  {
   "cell_type": "code",
   "execution_count": 3,
   "id": "4fb41c0a",
   "metadata": {
    "execution": {
     "iopub.execute_input": "2023-02-04T04:45:26.451008Z",
     "iopub.status.busy": "2023-02-04T04:45:26.450553Z",
     "iopub.status.idle": "2023-02-04T04:45:26.456730Z",
     "shell.execute_reply": "2023-02-04T04:45:26.455410Z"
    },
    "papermill": {
     "duration": 0.019038,
     "end_time": "2023-02-04T04:45:26.459512",
     "exception": false,
     "start_time": "2023-02-04T04:45:26.440474",
     "status": "completed"
    },
    "tags": []
   },
   "outputs": [
    {
     "name": "stdout",
     "output_type": "stream",
     "text": [
      "8982\n",
      "2246\n"
     ]
    }
   ],
   "source": [
    "print(len(train_data))\n",
    "print(len(test_data))"
   ]
  },
  {
   "cell_type": "code",
   "execution_count": 4,
   "id": "3974bca7",
   "metadata": {
    "execution": {
     "iopub.execute_input": "2023-02-04T04:45:26.479537Z",
     "iopub.status.busy": "2023-02-04T04:45:26.479137Z",
     "iopub.status.idle": "2023-02-04T04:45:26.484825Z",
     "shell.execute_reply": "2023-02-04T04:45:26.483608Z"
    },
    "papermill": {
     "duration": 0.01831,
     "end_time": "2023-02-04T04:45:26.487310",
     "exception": false,
     "start_time": "2023-02-04T04:45:26.469000",
     "status": "completed"
    },
    "tags": []
   },
   "outputs": [
    {
     "name": "stdout",
     "output_type": "stream",
     "text": [
      "[1, 245, 273, 207, 156, 53, 74, 160, 26, 14, 46, 296, 26, 39, 74, 2979, 3554, 14, 46, 4689, 4329, 86, 61, 3499, 4795, 14, 61, 451, 4329, 17, 12]\n"
     ]
    }
   ],
   "source": [
    "# check sample\n",
    "print(train_data[10])"
   ]
  },
  {
   "cell_type": "code",
   "execution_count": 5,
   "id": "c7d1d805",
   "metadata": {
    "execution": {
     "iopub.execute_input": "2023-02-04T04:45:26.505741Z",
     "iopub.status.busy": "2023-02-04T04:45:26.505363Z",
     "iopub.status.idle": "2023-02-04T04:45:27.442067Z",
     "shell.execute_reply": "2023-02-04T04:45:27.440596Z"
    },
    "papermill": {
     "duration": 0.94929,
     "end_time": "2023-02-04T04:45:27.445064",
     "exception": false,
     "start_time": "2023-02-04T04:45:26.495774",
     "status": "completed"
    },
    "tags": []
   },
   "outputs": [
    {
     "name": "stdout",
     "output_type": "stream",
     "text": [
      "Downloading data from https://storage.googleapis.com/tensorflow/tf-keras-datasets/reuters_word_index.json\n",
      "557056/550378 [==============================] - 0s 1us/step\n",
      "565248/550378 [==============================] - 0s 1us/step\n",
      "? ? ? said as a result of its december acquisition of space co it expects earnings per share in 1987 of 1 15 to 1 30 dlrs per share up from 70 cts in 1986 the company said pretax net should rise to nine to 10 mln dlrs from six mln dlrs in 1986 and rental operation revenues to 19 to 22 mln dlrs from 12 5 mln dlrs it said cash flow per share this year should be 2 50 to three dlrs reuter 3\n"
     ]
    }
   ],
   "source": [
    "# Decoding news back to text\n",
    "word_index = reuters.get_word_index()\n",
    "reverse_word_index = dict([(value, key) for (key, value) in word_index.items()])\n",
    "decoded_newswire = \" \".join([reverse_word_index.get(i - 3, \"?\") for i in train_data[0]]) \n",
    "print(decoded_newswire)"
   ]
  },
  {
   "cell_type": "markdown",
   "id": "d1d12110",
   "metadata": {
    "papermill": {
     "duration": 0.009011,
     "end_time": "2023-02-04T04:45:27.465062",
     "exception": false,
     "start_time": "2023-02-04T04:45:27.456051",
     "status": "completed"
    },
    "tags": []
   },
   "source": [
    "# 4.2.2. Data Processing"
   ]
  },
  {
   "cell_type": "code",
   "execution_count": 6,
   "id": "d34619ab",
   "metadata": {
    "execution": {
     "iopub.execute_input": "2023-02-04T04:45:27.485883Z",
     "iopub.status.busy": "2023-02-04T04:45:27.485102Z",
     "iopub.status.idle": "2023-02-04T04:45:27.491637Z",
     "shell.execute_reply": "2023-02-04T04:45:27.490488Z"
    },
    "papermill": {
     "duration": 0.019286,
     "end_time": "2023-02-04T04:45:27.493777",
     "exception": false,
     "start_time": "2023-02-04T04:45:27.474491",
     "status": "completed"
    },
    "tags": []
   },
   "outputs": [],
   "source": [
    "def vectorize_sequences(sequences, dimension=10000):\n",
    "    # create an all-zero matrix of shape (len(sequences), dimension)\n",
    "    results = np.zeros((len(sequences), dimension))\n",
    "    \n",
    "    # go thru each sequence, then go thru each encoded words, the make it 1\n",
    "    for i, sequence in enumerate(sequences):\n",
    "        for j in sequence:\n",
    "            results[i, j] = 1.\n",
    "    return results"
   ]
  },
  {
   "cell_type": "code",
   "execution_count": 7,
   "id": "04e68fa9",
   "metadata": {
    "execution": {
     "iopub.execute_input": "2023-02-04T04:45:27.514560Z",
     "iopub.status.busy": "2023-02-04T04:45:27.513526Z",
     "iopub.status.idle": "2023-02-04T04:45:28.142815Z",
     "shell.execute_reply": "2023-02-04T04:45:28.141512Z"
    },
    "papermill": {
     "duration": 0.642878,
     "end_time": "2023-02-04T04:45:28.145952",
     "exception": false,
     "start_time": "2023-02-04T04:45:27.503074",
     "status": "completed"
    },
    "tags": []
   },
   "outputs": [],
   "source": [
    "# encode input data\n",
    "x_train = vectorize_sequences(train_data)\n",
    "x_test = vectorize_sequences(test_data)"
   ]
  },
  {
   "cell_type": "markdown",
   "id": "fcbaa9e6",
   "metadata": {
    "papermill": {
     "duration": 0.009015,
     "end_time": "2023-02-04T04:45:28.164472",
     "exception": false,
     "start_time": "2023-02-04T04:45:28.155457",
     "status": "completed"
    },
    "tags": []
   },
   "source": [
    "**Note**: as this is multiclass label, there are differnt ways to do it: one-hot encoding with categorical encoding."
   ]
  },
  {
   "cell_type": "code",
   "execution_count": 8,
   "id": "5a324cad",
   "metadata": {
    "execution": {
     "iopub.execute_input": "2023-02-04T04:45:28.188833Z",
     "iopub.status.busy": "2023-02-04T04:45:28.188354Z",
     "iopub.status.idle": "2023-02-04T04:45:28.199914Z",
     "shell.execute_reply": "2023-02-04T04:45:28.198995Z"
    },
    "papermill": {
     "duration": 0.028199,
     "end_time": "2023-02-04T04:45:28.202142",
     "exception": false,
     "start_time": "2023-02-04T04:45:28.173943",
     "status": "completed"
    },
    "tags": []
   },
   "outputs": [],
   "source": [
    "# way 1: manually do it\n",
    "def to_one_hot(labels, dimension=46):\n",
    "    results = np.zeros((len(labels), dimension))\n",
    "    for i, label in enumerate(labels):\n",
    "        results[i, label] = 1\n",
    "    return results\n",
    "\n",
    "y_train = to_one_hot(train_labels)\n",
    "y_test = to_one_hot(test_labels)"
   ]
  },
  {
   "cell_type": "code",
   "execution_count": 9,
   "id": "3d22c27f",
   "metadata": {
    "execution": {
     "iopub.execute_input": "2023-02-04T04:45:28.222672Z",
     "iopub.status.busy": "2023-02-04T04:45:28.221854Z",
     "iopub.status.idle": "2023-02-04T04:45:28.228304Z",
     "shell.execute_reply": "2023-02-04T04:45:28.227454Z"
    },
    "papermill": {
     "duration": 0.019166,
     "end_time": "2023-02-04T04:45:28.230518",
     "exception": false,
     "start_time": "2023-02-04T04:45:28.211352",
     "status": "completed"
    },
    "tags": []
   },
   "outputs": [],
   "source": [
    "# way 2: use keras\n",
    "y_train = to_categorical(train_labels)\n",
    "y_test = to_categorical(test_labels)"
   ]
  },
  {
   "cell_type": "markdown",
   "id": "691deb77",
   "metadata": {
    "papermill": {
     "duration": 0.009187,
     "end_time": "2023-02-04T04:45:28.248960",
     "exception": false,
     "start_time": "2023-02-04T04:45:28.239773",
     "status": "completed"
    },
    "tags": []
   },
   "source": [
    "# 4.2.3. Modeling\n",
    "- In Dense layer, each layer can only access info present in the output of the previous layer. If one layer drops some info relevant to the classification problem, this info can't be recovered from the later layers. Thus, we make the Dense layer \"thicker\" so that the info bottleneck is larger and can let more info go thru.\n",
    "- **Note**: The output of the model is a probability distribution with a 46-dimensional output vector where output[i] is the probability that the sample belongs to class i. The total is 1 for that output."
   ]
  },
  {
   "cell_type": "code",
   "execution_count": 10,
   "id": "1464240f",
   "metadata": {
    "execution": {
     "iopub.execute_input": "2023-02-04T04:45:28.269698Z",
     "iopub.status.busy": "2023-02-04T04:45:28.268964Z",
     "iopub.status.idle": "2023-02-04T04:45:28.331335Z",
     "shell.execute_reply": "2023-02-04T04:45:28.330438Z"
    },
    "papermill": {
     "duration": 0.075769,
     "end_time": "2023-02-04T04:45:28.334044",
     "exception": false,
     "start_time": "2023-02-04T04:45:28.258275",
     "status": "completed"
    },
    "tags": []
   },
   "outputs": [
    {
     "name": "stderr",
     "output_type": "stream",
     "text": [
      "2023-02-04 04:45:28.308056: I tensorflow/core/common_runtime/process_util.cc:146] Creating new thread pool with default inter op setting: 2. Tune using inter_op_parallelism_threads for best performance.\n"
     ]
    }
   ],
   "source": [
    "model = keras.Sequential([\n",
    "    layers.Dense(64, activation=\"relu\"),\n",
    "    layers.Dense(64, activation=\"relu\"),\n",
    "    layers.Dense(46, activation=\"softmax\"), \n",
    "])"
   ]
  },
  {
   "cell_type": "markdown",
   "id": "9c3384d5",
   "metadata": {
    "papermill": {
     "duration": 0.0089,
     "end_time": "2023-02-04T04:45:28.352048",
     "exception": false,
     "start_time": "2023-02-04T04:45:28.343148",
     "status": "completed"
    },
    "tags": []
   },
   "source": [
    "**Note**: As we use a multiclass classification, we will use a categorical_crossentropy loss function. This loss function measures the distance between two probability distribution (by the model and by the true distribution of the label)."
   ]
  },
  {
   "cell_type": "code",
   "execution_count": 11,
   "id": "dfea63cb",
   "metadata": {
    "execution": {
     "iopub.execute_input": "2023-02-04T04:45:28.372799Z",
     "iopub.status.busy": "2023-02-04T04:45:28.371694Z",
     "iopub.status.idle": "2023-02-04T04:45:28.394268Z",
     "shell.execute_reply": "2023-02-04T04:45:28.392994Z"
    },
    "papermill": {
     "duration": 0.035879,
     "end_time": "2023-02-04T04:45:28.397162",
     "exception": false,
     "start_time": "2023-02-04T04:45:28.361283",
     "status": "completed"
    },
    "tags": []
   },
   "outputs": [],
   "source": [
    "# compile model\n",
    "model.compile(optimizer=\"rmsprop\",\n",
    "              loss=\"categorical_crossentropy\",\n",
    "              metrics=[\"accuracy\"])"
   ]
  },
  {
   "cell_type": "markdown",
   "id": "f7dd34f1",
   "metadata": {
    "papermill": {
     "duration": 0.009276,
     "end_time": "2023-02-04T04:45:28.416160",
     "exception": false,
     "start_time": "2023-02-04T04:45:28.406884",
     "status": "completed"
    },
    "tags": []
   },
   "source": [
    "# 4.2.4. Validate Model\n",
    "- Set the first 1000 sample in the training dataset as validation and train the rest of the training dataset."
   ]
  },
  {
   "cell_type": "code",
   "execution_count": 12,
   "id": "2d7378ce",
   "metadata": {
    "execution": {
     "iopub.execute_input": "2023-02-04T04:45:28.437144Z",
     "iopub.status.busy": "2023-02-04T04:45:28.436674Z",
     "iopub.status.idle": "2023-02-04T04:45:28.442355Z",
     "shell.execute_reply": "2023-02-04T04:45:28.441151Z"
    },
    "papermill": {
     "duration": 0.019218,
     "end_time": "2023-02-04T04:45:28.444803",
     "exception": false,
     "start_time": "2023-02-04T04:45:28.425585",
     "status": "completed"
    },
    "tags": []
   },
   "outputs": [],
   "source": [
    "# set up dataset\n",
    "x_val = x_train[:1000]\n",
    "partial_x_train = x_train[1000:]\n",
    "y_val = y_train[:1000]\n",
    "partial_y_train = y_train[1000:]"
   ]
  },
  {
   "cell_type": "code",
   "execution_count": 13,
   "id": "7209fad6",
   "metadata": {
    "execution": {
     "iopub.execute_input": "2023-02-04T04:45:28.465934Z",
     "iopub.status.busy": "2023-02-04T04:45:28.465250Z",
     "iopub.status.idle": "2023-02-04T04:45:37.797622Z",
     "shell.execute_reply": "2023-02-04T04:45:37.796273Z"
    },
    "papermill": {
     "duration": 9.346214,
     "end_time": "2023-02-04T04:45:37.800572",
     "exception": false,
     "start_time": "2023-02-04T04:45:28.454358",
     "status": "completed"
    },
    "tags": []
   },
   "outputs": [
    {
     "name": "stderr",
     "output_type": "stream",
     "text": [
      "2023-02-04 04:45:29.138511: I tensorflow/compiler/mlir/mlir_graph_optimization_pass.cc:185] None of the MLIR Optimization Passes are enabled (registered 2)\n"
     ]
    },
    {
     "name": "stdout",
     "output_type": "stream",
     "text": [
      "Epoch 1/20\n",
      "16/16 [==============================] - 1s 43ms/step - loss: 2.6348 - accuracy: 0.5328 - val_loss: 1.7213 - val_accuracy: 0.6590\n",
      "Epoch 2/20\n",
      "16/16 [==============================] - 0s 24ms/step - loss: 1.4133 - accuracy: 0.7146 - val_loss: 1.2853 - val_accuracy: 0.7200\n",
      "Epoch 3/20\n",
      "16/16 [==============================] - 0s 23ms/step - loss: 1.0321 - accuracy: 0.7799 - val_loss: 1.1131 - val_accuracy: 0.7650\n",
      "Epoch 4/20\n",
      "16/16 [==============================] - 0s 24ms/step - loss: 0.8077 - accuracy: 0.8290 - val_loss: 1.0084 - val_accuracy: 0.7850\n",
      "Epoch 5/20\n",
      "16/16 [==============================] - 0s 23ms/step - loss: 0.6405 - accuracy: 0.8685 - val_loss: 0.9400 - val_accuracy: 0.8050\n",
      "Epoch 6/20\n",
      "16/16 [==============================] - 0s 23ms/step - loss: 0.5073 - accuracy: 0.8970 - val_loss: 0.9170 - val_accuracy: 0.8080\n",
      "Epoch 7/20\n",
      "16/16 [==============================] - 0s 27ms/step - loss: 0.4104 - accuracy: 0.9151 - val_loss: 0.8927 - val_accuracy: 0.8060\n",
      "Epoch 8/20\n",
      "16/16 [==============================] - 0s 23ms/step - loss: 0.3325 - accuracy: 0.9292 - val_loss: 0.8974 - val_accuracy: 0.8220\n",
      "Epoch 9/20\n",
      "16/16 [==============================] - 0s 23ms/step - loss: 0.2771 - accuracy: 0.9410 - val_loss: 0.8841 - val_accuracy: 0.8130\n",
      "Epoch 10/20\n",
      "16/16 [==============================] - 0s 25ms/step - loss: 0.2334 - accuracy: 0.9450 - val_loss: 0.9162 - val_accuracy: 0.8230\n",
      "Epoch 11/20\n",
      "16/16 [==============================] - 0s 22ms/step - loss: 0.2008 - accuracy: 0.9503 - val_loss: 0.9018 - val_accuracy: 0.8250\n",
      "Epoch 12/20\n",
      "16/16 [==============================] - 0s 23ms/step - loss: 0.1780 - accuracy: 0.9515 - val_loss: 0.9627 - val_accuracy: 0.8140\n",
      "Epoch 13/20\n",
      "16/16 [==============================] - 0s 23ms/step - loss: 0.1632 - accuracy: 0.9534 - val_loss: 1.0078 - val_accuracy: 0.8000\n",
      "Epoch 14/20\n",
      "16/16 [==============================] - 0s 23ms/step - loss: 0.1485 - accuracy: 0.9548 - val_loss: 1.0016 - val_accuracy: 0.8100\n",
      "Epoch 15/20\n",
      "16/16 [==============================] - 0s 23ms/step - loss: 0.1401 - accuracy: 0.9565 - val_loss: 0.9964 - val_accuracy: 0.8140\n",
      "Epoch 16/20\n",
      "16/16 [==============================] - 0s 23ms/step - loss: 0.1286 - accuracy: 0.9568 - val_loss: 1.0384 - val_accuracy: 0.8050\n",
      "Epoch 17/20\n",
      "16/16 [==============================] - 0s 23ms/step - loss: 0.1251 - accuracy: 0.9578 - val_loss: 1.0378 - val_accuracy: 0.8080\n",
      "Epoch 18/20\n",
      "16/16 [==============================] - 0s 23ms/step - loss: 0.1160 - accuracy: 0.9573 - val_loss: 1.0218 - val_accuracy: 0.8100\n",
      "Epoch 19/20\n",
      "16/16 [==============================] - 0s 23ms/step - loss: 0.1171 - accuracy: 0.9580 - val_loss: 1.0384 - val_accuracy: 0.8060\n",
      "Epoch 20/20\n",
      "16/16 [==============================] - 0s 22ms/step - loss: 0.1113 - accuracy: 0.9579 - val_loss: 1.0615 - val_accuracy: 0.8020\n"
     ]
    }
   ],
   "source": [
    "# train the model\n",
    "history = model.fit(partial_x_train,\n",
    "                    partial_y_train,\n",
    "                    epochs=20,\n",
    "                    batch_size=512,\n",
    "                    validation_data=(x_val, y_val))"
   ]
  },
  {
   "cell_type": "code",
   "execution_count": 14,
   "id": "5394a996",
   "metadata": {
    "execution": {
     "iopub.execute_input": "2023-02-04T04:45:37.839313Z",
     "iopub.status.busy": "2023-02-04T04:45:37.838222Z",
     "iopub.status.idle": "2023-02-04T04:45:38.041068Z",
     "shell.execute_reply": "2023-02-04T04:45:38.039855Z"
    },
    "papermill": {
     "duration": 0.224541,
     "end_time": "2023-02-04T04:45:38.043533",
     "exception": false,
     "start_time": "2023-02-04T04:45:37.818992",
     "status": "completed"
    },
    "tags": []
   },
   "outputs": [
    {
     "data": {
      "image/png": "[encoded data removed]",
      "text/plain": [
       "<Figure size 432x288 with 1 Axes>"
      ]
     },
     "metadata": {
      "needs_background": "light"
     },
     "output_type": "display_data"
    }
   ],
   "source": [
    "# plot loss history\n",
    "loss = history.history[\"loss\"]\n",
    "val_loss = history.history[\"val_loss\"]\n",
    "epochs = range(1, len(loss) + 1)\n",
    "plt.plot(epochs, loss, \"bo\", label=\"Training loss\")\n",
    "plt.plot(epochs, val_loss, \"b\", label=\"Validation loss\")\n",
    "plt.title(\"Training and validation loss\")\n",
    "plt.xlabel(\"Epochs\")\n",
    "plt.ylabel(\"Loss\")\n",
    "plt.legend()\n",
    "plt.show()"
   ]
  },
  {
   "cell_type": "code",
   "execution_count": 15,
   "id": "c7c74976",
   "metadata": {
    "execution": {
     "iopub.execute_input": "2023-02-04T04:45:38.083272Z",
     "iopub.status.busy": "2023-02-04T04:45:38.082475Z",
     "iopub.status.idle": "2023-02-04T04:45:38.252834Z",
     "shell.execute_reply": "2023-02-04T04:45:38.251178Z"
    },
    "papermill": {
     "duration": 0.193796,
     "end_time": "2023-02-04T04:45:38.256069",
     "exception": false,
     "start_time": "2023-02-04T04:45:38.062273",
     "status": "completed"
    },
    "tags": []
   },
   "outputs": [
    {
     "data": {
      "image/png": "[encoded data removed]",
      "text/plain": [
       "<Figure size 432x288 with 1 Axes>"
      ]
     },
     "metadata": {
      "needs_background": "light"
     },
     "output_type": "display_data"
    }
   ],
   "source": [
    "# plot accuracy history\n",
    "plt.clf()\n",
    "acc = history.history[\"accuracy\"]\n",
    "val_acc = history.history[\"val_accuracy\"]\n",
    "plt.plot(epochs, acc, \"bo\", label=\"Training accuracy\")\n",
    "plt.plot(epochs, val_acc, \"b\", label=\"Validation accuracy\")\n",
    "plt.title(\"Training and validation accuracy\")\n",
    "plt.xlabel(\"Epochs\")\n",
    "plt.ylabel(\"Accuracy\")\n",
    "plt.legend()\n",
    "plt.show()"
   ]
  },
  {
   "cell_type": "code",
   "execution_count": 16,
   "id": "4a77c5a4",
   "metadata": {
    "execution": {
     "iopub.execute_input": "2023-02-04T04:45:38.297087Z",
     "iopub.status.busy": "2023-02-04T04:45:38.296656Z",
     "iopub.status.idle": "2023-02-04T04:45:43.135130Z",
     "shell.execute_reply": "2023-02-04T04:45:43.133865Z"
    },
    "papermill": {
     "duration": 4.861434,
     "end_time": "2023-02-04T04:45:43.137936",
     "exception": false,
     "start_time": "2023-02-04T04:45:38.276502",
     "status": "completed"
    },
    "tags": []
   },
   "outputs": [
    {
     "name": "stdout",
     "output_type": "stream",
     "text": [
      "Epoch 1/9\n",
      "18/18 [==============================] - 1s 24ms/step - loss: 2.4790 - accuracy: 0.5160\n",
      "Epoch 2/9\n",
      "18/18 [==============================] - 0s 20ms/step - loss: 1.3266 - accuracy: 0.7135\n",
      "Epoch 3/9\n",
      "18/18 [==============================] - 0s 20ms/step - loss: 0.9664 - accuracy: 0.7910\n",
      "Epoch 4/9\n",
      "18/18 [==============================] - 0s 20ms/step - loss: 0.7469 - accuracy: 0.8432\n",
      "Epoch 5/9\n",
      "18/18 [==============================] - 0s 20ms/step - loss: 0.5865 - accuracy: 0.8795\n",
      "Epoch 6/9\n",
      "18/18 [==============================] - 0s 20ms/step - loss: 0.4663 - accuracy: 0.9019\n",
      "Epoch 7/9\n",
      "18/18 [==============================] - 0s 20ms/step - loss: 0.3702 - accuracy: 0.9215\n",
      "Epoch 8/9\n",
      "18/18 [==============================] - 0s 20ms/step - loss: 0.3048 - accuracy: 0.9343\n",
      "Epoch 9/9\n",
      "18/18 [==============================] - 0s 19ms/step - loss: 0.2599 - accuracy: 0.9395\n",
      "71/71 [==============================] - 0s 2ms/step - loss: 0.9727 - accuracy: 0.7903\n"
     ]
    }
   ],
   "source": [
    "# retrain model from scratch with full dataset\n",
    "model = keras.Sequential([\n",
    "    layers.Dense(64, activation=\"relu\"),\n",
    "    layers.Dense(64, activation=\"relu\"),\n",
    "    layers.Dense(46, activation=\"softmax\"), \n",
    "])\n",
    "\n",
    "model.compile(optimizer=\"rmsprop\",\n",
    " loss=\"categorical_crossentropy\",\n",
    " metrics=[\"accuracy\"])\n",
    "\n",
    "model.fit(x_train,\n",
    " y_train,\n",
    " epochs=9,\n",
    " batch_size=512)\n",
    "\n",
    "results = model.evaluate(x_test, y_test)"
   ]
  },
  {
   "cell_type": "code",
   "execution_count": 17,
   "id": "15ca2a35",
   "metadata": {
    "execution": {
     "iopub.execute_input": "2023-02-04T04:45:43.187314Z",
     "iopub.status.busy": "2023-02-04T04:45:43.186854Z",
     "iopub.status.idle": "2023-02-04T04:45:43.194662Z",
     "shell.execute_reply": "2023-02-04T04:45:43.193554Z"
    },
    "papermill": {
     "duration": 0.035385,
     "end_time": "2023-02-04T04:45:43.197090",
     "exception": false,
     "start_time": "2023-02-04T04:45:43.161705",
     "status": "completed"
    },
    "tags": []
   },
   "outputs": [
    {
     "data": {
      "text/plain": [
       "[0.9726559519767761, 0.7902938723564148]"
      ]
     },
     "execution_count": 17,
     "metadata": {},
     "output_type": "execute_result"
    }
   ],
   "source": [
    "results"
   ]
  },
  {
   "cell_type": "markdown",
   "id": "6142620e",
   "metadata": {
    "papermill": {
     "duration": 0.023323,
     "end_time": "2023-02-04T04:45:43.244152",
     "exception": false,
     "start_time": "2023-02-04T04:45:43.220829",
     "status": "completed"
    },
    "tags": []
   },
   "source": [
    "**Note**: the accuracy is ~80%."
   ]
  },
  {
   "cell_type": "markdown",
   "id": "369c055a",
   "metadata": {
    "papermill": {
     "duration": 0.024458,
     "end_time": "2023-02-04T04:45:43.292607",
     "exception": false,
     "start_time": "2023-02-04T04:45:43.268149",
     "status": "completed"
    },
    "tags": []
   },
   "source": [
    "## Tips On Model Performance Compared To Baseline Model\n",
    "- For a binary classification, a random classifier will get ~50%. What about for 46 classes and they may NOT be equally represented. What would the accuracy baseline model?"
   ]
  },
  {
   "cell_type": "code",
   "execution_count": 18,
   "id": "621a5fd7",
   "metadata": {
    "execution": {
     "iopub.execute_input": "2023-02-04T04:45:43.342011Z",
     "iopub.status.busy": "2023-02-04T04:45:43.341250Z",
     "iopub.status.idle": "2023-02-04T04:45:43.347727Z",
     "shell.execute_reply": "2023-02-04T04:45:43.346547Z"
    },
    "papermill": {
     "duration": 0.034337,
     "end_time": "2023-02-04T04:45:43.350587",
     "exception": false,
     "start_time": "2023-02-04T04:45:43.316250",
     "status": "completed"
    },
    "tags": []
   },
   "outputs": [
    {
     "name": "stdout",
     "output_type": "stream",
     "text": [
      "0.18477292965271594\n"
     ]
    }
   ],
   "source": [
    "# make a copy of label\n",
    "test_labels_copy = copy.copy(test_labels)\n",
    "\n",
    "# randomly shuffle it\n",
    "np.random.shuffle(test_labels_copy)\n",
    "\n",
    "# check how many match we got after shuffle\n",
    "hits_array = np.array(test_labels) == np.array(test_labels_copy)\n",
    "\n",
    "# print out mean\n",
    "print(hits_array.mean())"
   ]
  },
  {
   "cell_type": "markdown",
   "id": "adba2cd4",
   "metadata": {
    "papermill": {
     "duration": 0.023091,
     "end_time": "2023-02-04T04:45:43.398061",
     "exception": false,
     "start_time": "2023-02-04T04:45:43.374970",
     "status": "completed"
    },
    "tags": []
   },
   "source": [
    "**Note**: We can see that a random classifier would score around 19% accuracy. Thus our model is very good!"
   ]
  },
  {
   "cell_type": "markdown",
   "id": "2956ed6c",
   "metadata": {
    "papermill": {
     "duration": 0.022802,
     "end_time": "2023-02-04T04:45:43.444004",
     "exception": false,
     "start_time": "2023-02-04T04:45:43.421202",
     "status": "completed"
    },
    "tags": []
   },
   "source": [
    "# 4.2.5. Generate Predictions On New Data"
   ]
  },
  {
   "cell_type": "code",
   "execution_count": 19,
   "id": "5eb519f5",
   "metadata": {
    "execution": {
     "iopub.execute_input": "2023-02-04T04:45:43.492389Z",
     "iopub.status.busy": "2023-02-04T04:45:43.492002Z",
     "iopub.status.idle": "2023-02-04T04:45:43.837781Z",
     "shell.execute_reply": "2023-02-04T04:45:43.836420Z"
    },
    "papermill": {
     "duration": 0.373458,
     "end_time": "2023-02-04T04:45:43.840721",
     "exception": false,
     "start_time": "2023-02-04T04:45:43.467263",
     "status": "completed"
    },
    "tags": []
   },
   "outputs": [],
   "source": [
    "predictions = model.predict(x_test)"
   ]
  },
  {
   "cell_type": "code",
   "execution_count": 20,
   "id": "76aa160c",
   "metadata": {
    "execution": {
     "iopub.execute_input": "2023-02-04T04:45:43.891337Z",
     "iopub.status.busy": "2023-02-04T04:45:43.890065Z",
     "iopub.status.idle": "2023-02-04T04:45:43.897816Z",
     "shell.execute_reply": "2023-02-04T04:45:43.896173Z"
    },
    "papermill": {
     "duration": 0.034912,
     "end_time": "2023-02-04T04:45:43.900294",
     "exception": false,
     "start_time": "2023-02-04T04:45:43.865382",
     "status": "completed"
    },
    "tags": []
   },
   "outputs": [
    {
     "name": "stdout",
     "output_type": "stream",
     "text": [
      "[[6.4510918e-05 2.7403477e-04 2.0648049e-05 ... 3.7233505e-05\n",
      "  6.5949953e-06 3.0163239e-06]\n",
      " [3.6020167e-04 4.8286710e-03 3.2632828e-03 ... 1.3939608e-04\n",
      "  3.9741784e-07 6.8779525e-05]\n",
      " [1.5669499e-03 8.0627412e-01 4.8169185e-04 ... 4.5125873e-04\n",
      "  1.4921208e-04 3.3804262e-03]\n",
      " ...\n",
      " [2.2858230e-05 1.2263369e-04 1.3748193e-05 ... 4.3990672e-06\n",
      "  5.4672560e-06 1.1922723e-06]\n",
      " [6.3783783e-03 4.4687938e-02 1.6979099e-03 ... 1.2604481e-03\n",
      "  1.5387520e-04 6.7569176e-04]\n",
      " [7.5021232e-03 2.6893982e-01 2.7520235e-03 ... 2.2254803e-04\n",
      "  2.3580546e-04 4.4199947e-04]]\n"
     ]
    }
   ],
   "source": [
    "print(predictions)"
   ]
  },
  {
   "cell_type": "code",
   "execution_count": 21,
   "id": "f0f5a60d",
   "metadata": {
    "execution": {
     "iopub.execute_input": "2023-02-04T04:45:43.948564Z",
     "iopub.status.busy": "2023-02-04T04:45:43.948095Z",
     "iopub.status.idle": "2023-02-04T04:45:43.955350Z",
     "shell.execute_reply": "2023-02-04T04:45:43.954403Z"
    },
    "papermill": {
     "duration": 0.033976,
     "end_time": "2023-02-04T04:45:43.957483",
     "exception": false,
     "start_time": "2023-02-04T04:45:43.923507",
     "status": "completed"
    },
    "tags": []
   },
   "outputs": [
    {
     "data": {
      "text/plain": [
       "(46,)"
      ]
     },
     "execution_count": 21,
     "metadata": {},
     "output_type": "execute_result"
    }
   ],
   "source": [
    "# check shape\n",
    "predictions[0].shape"
   ]
  },
  {
   "cell_type": "code",
   "execution_count": 22,
   "id": "cbe1ac50",
   "metadata": {
    "execution": {
     "iopub.execute_input": "2023-02-04T04:45:44.007183Z",
     "iopub.status.busy": "2023-02-04T04:45:44.006334Z",
     "iopub.status.idle": "2023-02-04T04:45:44.014023Z",
     "shell.execute_reply": "2023-02-04T04:45:44.011801Z"
    },
    "papermill": {
     "duration": 0.035272,
     "end_time": "2023-02-04T04:45:44.016645",
     "exception": false,
     "start_time": "2023-02-04T04:45:43.981373",
     "status": "completed"
    },
    "tags": []
   },
   "outputs": [
    {
     "name": "stdout",
     "output_type": "stream",
     "text": [
      "1.0000002\n"
     ]
    }
   ],
   "source": [
    "# proof that the total prediction is 1\n",
    "print(np.sum(predictions[0]))"
   ]
  },
  {
   "cell_type": "code",
   "execution_count": 23,
   "id": "168e25c1",
   "metadata": {
    "execution": {
     "iopub.execute_input": "2023-02-04T04:45:44.066117Z",
     "iopub.status.busy": "2023-02-04T04:45:44.065410Z",
     "iopub.status.idle": "2023-02-04T04:45:44.072498Z",
     "shell.execute_reply": "2023-02-04T04:45:44.071315Z"
    },
    "papermill": {
     "duration": 0.034495,
     "end_time": "2023-02-04T04:45:44.074880",
     "exception": false,
     "start_time": "2023-02-04T04:45:44.040385",
     "status": "completed"
    },
    "tags": []
   },
   "outputs": [
    {
     "name": "stdout",
     "output_type": "stream",
     "text": [
      "3\n",
      "(46,)\n",
      "[6.4510918e-05 2.7403477e-04 2.0648049e-05 9.1382450e-01 6.7984447e-02\n",
      " 5.8439791e-06 2.0073294e-05 1.0411578e-04 8.0271233e-03 9.1653877e-05\n",
      " 3.1853608e-05 1.0878787e-03 4.5451041e-05 2.9718861e-04 2.2230808e-05\n",
      " 2.5616668e-04 8.9263992e-04 1.9204259e-05 1.1112310e-04 6.1568280e-04\n",
      " 2.6229131e-03 1.9637760e-04 7.1687605e-06 2.1399120e-04 1.4809477e-05\n",
      " 4.7044046e-05 1.6721945e-06 2.3356942e-04 4.4421522e-06 1.8050689e-04\n",
      " 8.0772872e-05 1.3026518e-04 1.3400809e-04 2.1811920e-06 1.6520765e-04\n",
      " 7.5311720e-05 1.8643848e-04 9.5569940e-06 1.5216535e-04 1.5973375e-03\n",
      " 6.5939617e-05 1.7521483e-05 1.7743327e-05 3.7233505e-05 6.5949953e-06\n",
      " 3.0163239e-06]\n",
      "0.9138245\n"
     ]
    }
   ],
   "source": [
    "# print the largest predicted class's index\n",
    "print(np.argmax(predictions[0]))\n",
    "\n",
    "# print shape\n",
    "print(predictions[0].shape)\n",
    "\n",
    "# print the output of the first prediction\n",
    "print(predictions[0])\n",
    "\n",
    "# print the probability of the largest predicted class\n",
    "print(predictions[0][3])"
   ]
  }
 ],
 "metadata": {
  "kernelspec": {
   "display_name": "Python 3",
   "language": "python",
   "name": "python3"
  },
  "language_info": {
   "codemirror_mode": {
    "name": "ipython",
    "version": 3
   },
   "file_extension": ".py",
   "mimetype": "text/x-python",
   "name": "python",
   "nbconvert_exporter": "python",
   "pygments_lexer": "ipython3",
   "version": "3.7.12"
  },
  "papermill": {
   "default_parameters": {},
   "duration": 38.112727,
   "end_time": "2023-02-04T04:45:47.574184",
   "environment_variables": {},
   "exception": null,
   "input_path": "__notebook__.ipynb",
   "output_path": "__notebook__.ipynb",
   "parameters": {},
   "start_time": "2023-02-04T04:45:09.461457",
   "version": "2.3.4"
  }
 },
 "nbformat": 4,
 "nbformat_minor": 5
}
