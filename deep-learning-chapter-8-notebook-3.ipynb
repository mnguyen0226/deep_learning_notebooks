{
 "cells": [
  {
   "cell_type": "markdown",
   "id": "fd575762",
   "metadata": {
    "_cell_guid": "b1076dfc-b9ad-4769-8c92-a6c4dae69d19",
    "_uuid": "8f2839f25d086af736a60e9eeb907d3b93b6e0e5",
    "papermill": {
     "duration": 0.009027,
     "end_time": "2023-02-19T05:53:57.216856",
     "exception": false,
     "start_time": "2023-02-19T05:53:57.207829",
     "status": "completed"
    },
    "tags": []
   },
   "source": [
    "# 8.3. Leveraging a pretrained model\n",
    "We will use pretrained VGG16 model for two tasks:\n",
    "- Feature extraction.\n",
    "- Fine-tunning."
   ]
  },
  {
   "cell_type": "markdown",
   "id": "7fc6b4f1",
   "metadata": {
    "papermill": {
     "duration": 0.007422,
     "end_time": "2023-02-19T05:53:57.232163",
     "exception": false,
     "start_time": "2023-02-19T05:53:57.224741",
     "status": "completed"
    },
    "tags": []
   },
   "source": [
    "## Download Dataset"
   ]
  },
  {
   "cell_type": "code",
   "execution_count": 1,
   "id": "da4f5cbe",
   "metadata": {
    "execution": {
     "iopub.execute_input": "2023-02-19T05:53:57.249852Z",
     "iopub.status.busy": "2023-02-19T05:53:57.249309Z",
     "iopub.status.idle": "2023-02-19T05:53:58.195496Z",
     "shell.execute_reply": "2023-02-19T05:53:58.194266Z"
    },
    "papermill": {
     "duration": 0.958366,
     "end_time": "2023-02-19T05:53:58.198104",
     "exception": false,
     "start_time": "2023-02-19T05:53:57.239738",
     "status": "completed"
    },
    "tags": []
   },
   "outputs": [
    {
     "name": "stdout",
     "output_type": "stream",
     "text": [
      "/bin/bash: /opt/conda/lib/libtinfo.so.6: no version information available (required by /bin/bash)\r\n"
     ]
    }
   ],
   "source": [
    "!rm -rf convnet_from_scratch.keras train cats_vs_dogs_small test1"
   ]
  },
  {
   "cell_type": "code",
   "execution_count": 2,
   "id": "5eda025a",
   "metadata": {
    "execution": {
     "iopub.execute_input": "2023-02-19T05:53:58.216076Z",
     "iopub.status.busy": "2023-02-19T05:53:58.215136Z",
     "iopub.status.idle": "2023-02-19T05:54:04.347365Z",
     "shell.execute_reply": "2023-02-19T05:54:04.346364Z"
    },
    "papermill": {
     "duration": 6.143518,
     "end_time": "2023-02-19T05:54:04.349663",
     "exception": false,
     "start_time": "2023-02-19T05:53:58.206145",
     "status": "completed"
    },
    "tags": []
   },
   "outputs": [],
   "source": [
    "# import libraries\n",
    "import os\n",
    "import zipfile\n",
    "import pandas as pd\n",
    "import os, shutil, pathlib\n",
    "import matplotlib.pyplot as plt\n",
    "import numpy as np\n",
    "\n",
    "# import TF\n",
    "from tensorflow import keras\n",
    "from tensorflow.keras import layers\n",
    "from tensorflow.keras.utils import image_dataset_from_directory"
   ]
  },
  {
   "cell_type": "code",
   "execution_count": 3,
   "id": "37bf79db",
   "metadata": {
    "execution": {
     "iopub.execute_input": "2023-02-19T05:54:04.368192Z",
     "iopub.status.busy": "2023-02-19T05:54:04.366376Z",
     "iopub.status.idle": "2023-02-19T05:54:04.375217Z",
     "shell.execute_reply": "2023-02-19T05:54:04.374324Z"
    },
    "papermill": {
     "duration": 0.019466,
     "end_time": "2023-02-19T05:54:04.377008",
     "exception": false,
     "start_time": "2023-02-19T05:54:04.357542",
     "status": "completed"
    },
    "tags": []
   },
   "outputs": [
    {
     "name": "stdout",
     "output_type": "stream",
     "text": [
      "/kaggle/input/dogs-vs-cats/test1.zip\n",
      "/kaggle/input/dogs-vs-cats/train.zip\n",
      "/kaggle/input/dogs-vs-cats/sampleSubmission.csv\n"
     ]
    }
   ],
   "source": [
    "for dirname, _, filenames in os.walk('/kaggle/input'):\n",
    "    for filename in filenames:\n",
    "        print(os.path.join(dirname, filename))"
   ]
  },
  {
   "cell_type": "code",
   "execution_count": 4,
   "id": "4f73cd07",
   "metadata": {
    "execution": {
     "iopub.execute_input": "2023-02-19T05:54:04.394931Z",
     "iopub.status.busy": "2023-02-19T05:54:04.393474Z",
     "iopub.status.idle": "2023-02-19T05:54:21.490232Z",
     "shell.execute_reply": "2023-02-19T05:54:21.489230Z"
    },
    "papermill": {
     "duration": 17.107721,
     "end_time": "2023-02-19T05:54:21.492506",
     "exception": false,
     "start_time": "2023-02-19T05:54:04.384785",
     "status": "completed"
    },
    "tags": []
   },
   "outputs": [],
   "source": [
    "with zipfile.ZipFile(\"../input/dogs-vs-cats/train.zip\",\"r\") as z:\n",
    "    z.extractall(\".\")\n",
    "    z.close()\n",
    "    \n",
    "with zipfile.ZipFile(\"../input/dogs-vs-cats/test1.zip\",\"r\") as z:\n",
    "    z.extractall(\".\")\n",
    "    z.close()"
   ]
  },
  {
   "cell_type": "code",
   "execution_count": 5,
   "id": "1c379b6f",
   "metadata": {
    "execution": {
     "iopub.execute_input": "2023-02-19T05:54:21.511059Z",
     "iopub.status.busy": "2023-02-19T05:54:21.509344Z",
     "iopub.status.idle": "2023-02-19T05:54:22.463396Z",
     "shell.execute_reply": "2023-02-19T05:54:22.462220Z"
    },
    "papermill": {
     "duration": 0.965711,
     "end_time": "2023-02-19T05:54:22.466125",
     "exception": false,
     "start_time": "2023-02-19T05:54:21.500414",
     "status": "completed"
    },
    "tags": []
   },
   "outputs": [
    {
     "name": "stdout",
     "output_type": "stream",
     "text": [
      "/bin/bash: /opt/conda/lib/libtinfo.so.6: no version information available (required by /bin/bash)\r\n",
      "__notebook__.ipynb  test1  train\r\n"
     ]
    }
   ],
   "source": [
    "!ls"
   ]
  },
  {
   "cell_type": "markdown",
   "id": "23a40fd1",
   "metadata": {
    "papermill": {
     "duration": 0.007464,
     "end_time": "2023-02-19T05:54:22.481568",
     "exception": false,
     "start_time": "2023-02-19T05:54:22.474104",
     "status": "completed"
    },
    "tags": []
   },
   "source": [
    "### Copy images to training, validation, and test directories"
   ]
  },
  {
   "cell_type": "code",
   "execution_count": 6,
   "id": "9f7b286c",
   "metadata": {
    "execution": {
     "iopub.execute_input": "2023-02-19T05:54:22.500234Z",
     "iopub.status.busy": "2023-02-19T05:54:22.498604Z",
     "iopub.status.idle": "2023-02-19T05:54:22.504948Z",
     "shell.execute_reply": "2023-02-19T05:54:22.504092Z"
    },
    "papermill": {
     "duration": 0.017712,
     "end_time": "2023-02-19T05:54:22.507170",
     "exception": false,
     "start_time": "2023-02-19T05:54:22.489458",
     "status": "completed"
    },
    "tags": []
   },
   "outputs": [],
   "source": [
    "# set paths\n",
    "original_dir = pathlib.Path(\"train\")\n",
    "new_base_dir = pathlib.Path(\"cats_vs_dogs_small\")"
   ]
  },
  {
   "cell_type": "code",
   "execution_count": 7,
   "id": "45a6a736",
   "metadata": {
    "execution": {
     "iopub.execute_input": "2023-02-19T05:54:22.524196Z",
     "iopub.status.busy": "2023-02-19T05:54:22.523400Z",
     "iopub.status.idle": "2023-02-19T05:54:22.529815Z",
     "shell.execute_reply": "2023-02-19T05:54:22.528940Z"
    },
    "papermill": {
     "duration": 0.016859,
     "end_time": "2023-02-19T05:54:22.531739",
     "exception": false,
     "start_time": "2023-02-19T05:54:22.514880",
     "status": "completed"
    },
    "tags": []
   },
   "outputs": [],
   "source": [
    "def make_subset(subset_name, start_index, end_index):\n",
    "    for category in (\"cat\", \"dog\"):\n",
    "        dir = new_base_dir / subset_name / category\n",
    "        os.makedirs(dir)\n",
    "        fnames = [f\"{category}.{i}.jpg\" for i in range(start_index, end_index)]\n",
    "        for fname in fnames:\n",
    "            shutil.copyfile(src=original_dir / fname, dst=dir / fname)"
   ]
  },
  {
   "cell_type": "code",
   "execution_count": 8,
   "id": "d9323e81",
   "metadata": {
    "execution": {
     "iopub.execute_input": "2023-02-19T05:54:22.548550Z",
     "iopub.status.busy": "2023-02-19T05:54:22.548259Z",
     "iopub.status.idle": "2023-02-19T05:54:23.103620Z",
     "shell.execute_reply": "2023-02-19T05:54:23.102643Z"
    },
    "papermill": {
     "duration": 0.566713,
     "end_time": "2023-02-19T05:54:23.106226",
     "exception": false,
     "start_time": "2023-02-19T05:54:22.539513",
     "status": "completed"
    },
    "tags": []
   },
   "outputs": [],
   "source": [
    "make_subset(\"train\", start_index=0, end_index=1000)\n",
    "make_subset(\"validation\", start_index=1000, end_index=1500)\n",
    "make_subset(\"test\", start_index=1500, end_index=2500)"
   ]
  },
  {
   "cell_type": "code",
   "execution_count": 9,
   "id": "5fbd1fdd",
   "metadata": {
    "execution": {
     "iopub.execute_input": "2023-02-19T05:54:23.129232Z",
     "iopub.status.busy": "2023-02-19T05:54:23.128664Z",
     "iopub.status.idle": "2023-02-19T05:54:26.048690Z",
     "shell.execute_reply": "2023-02-19T05:54:26.047754Z"
    },
    "papermill": {
     "duration": 2.937077,
     "end_time": "2023-02-19T05:54:26.051383",
     "exception": false,
     "start_time": "2023-02-19T05:54:23.114306",
     "status": "completed"
    },
    "tags": []
   },
   "outputs": [
    {
     "name": "stdout",
     "output_type": "stream",
     "text": [
      "Found 2000 files belonging to 2 classes.\n",
      "Found 1000 files belonging to 2 classes.\n",
      "Found 2000 files belonging to 2 classes.\n"
     ]
    }
   ],
   "source": [
    "train_dataset = image_dataset_from_directory(\n",
    "    new_base_dir / \"train\",\n",
    "    image_size=(180, 180),\n",
    "    batch_size=32)\n",
    "validation_dataset = image_dataset_from_directory(\n",
    "    new_base_dir / \"validation\",\n",
    "    image_size=(180, 180),\n",
    "    batch_size=32)\n",
    "test_dataset = image_dataset_from_directory(\n",
    "    new_base_dir / \"test\",\n",
    "    image_size=(180, 180),\n",
    "    batch_size=32)"
   ]
  },
  {
   "cell_type": "code",
   "execution_count": 10,
   "id": "03587819",
   "metadata": {
    "execution": {
     "iopub.execute_input": "2023-02-19T05:54:26.068635Z",
     "iopub.status.busy": "2023-02-19T05:54:26.068331Z",
     "iopub.status.idle": "2023-02-19T05:54:27.037448Z",
     "shell.execute_reply": "2023-02-19T05:54:27.036257Z"
    },
    "papermill": {
     "duration": 0.980907,
     "end_time": "2023-02-19T05:54:27.040424",
     "exception": false,
     "start_time": "2023-02-19T05:54:26.059517",
     "status": "completed"
    },
    "tags": []
   },
   "outputs": [
    {
     "name": "stdout",
     "output_type": "stream",
     "text": [
      "/bin/bash: /opt/conda/lib/libtinfo.so.6: no version information available (required by /bin/bash)\r\n",
      "test  train  validation\r\n"
     ]
    }
   ],
   "source": [
    "!ls cats_vs_dogs_small/"
   ]
  },
  {
   "cell_type": "markdown",
   "id": "106857e8",
   "metadata": {
    "papermill": {
     "duration": 0.007981,
     "end_time": "2023-02-19T05:54:27.057091",
     "exception": false,
     "start_time": "2023-02-19T05:54:27.049110",
     "status": "completed"
    },
    "tags": []
   },
   "source": [
    "# 8.3.1 Feature Extraction"
   ]
  },
  {
   "cell_type": "code",
   "execution_count": 11,
   "id": "d9b50d2d",
   "metadata": {
    "execution": {
     "iopub.execute_input": "2023-02-19T05:54:27.075181Z",
     "iopub.status.busy": "2023-02-19T05:54:27.074792Z",
     "iopub.status.idle": "2023-02-19T05:54:30.433718Z",
     "shell.execute_reply": "2023-02-19T05:54:30.432712Z"
    },
    "papermill": {
     "duration": 3.371053,
     "end_time": "2023-02-19T05:54:30.436242",
     "exception": false,
     "start_time": "2023-02-19T05:54:27.065189",
     "status": "completed"
    },
    "tags": []
   },
   "outputs": [
    {
     "name": "stdout",
     "output_type": "stream",
     "text": [
      "Downloading data from https://storage.googleapis.com/tensorflow/keras-applications/vgg16/vgg16_weights_tf_dim_ordering_tf_kernels_notop.h5\n",
      "58889256/58889256 [==============================] - 3s 0us/step\n"
     ]
    }
   ],
   "source": [
    "# instantiate the VGG16 convolutional base\n",
    "conv_base = keras.applications.vgg16.VGG16(\n",
    "    weights=\"imagenet\",\n",
    "    include_top=False,        # not to incluse the densely connected classifier\n",
    "    input_shape=(180, 180, 3) # optional, the network can process inputs any size, pass here to see how feature map shrink\n",
    ")"
   ]
  },
  {
   "cell_type": "code",
   "execution_count": 12,
   "id": "4c6cef38",
   "metadata": {
    "execution": {
     "iopub.execute_input": "2023-02-19T05:54:30.459175Z",
     "iopub.status.busy": "2023-02-19T05:54:30.458350Z",
     "iopub.status.idle": "2023-02-19T05:54:30.499519Z",
     "shell.execute_reply": "2023-02-19T05:54:30.498731Z"
    },
    "papermill": {
     "duration": 0.086837,
     "end_time": "2023-02-19T05:54:30.533846",
     "exception": false,
     "start_time": "2023-02-19T05:54:30.447009",
     "status": "completed"
    },
    "tags": []
   },
   "outputs": [
    {
     "name": "stdout",
     "output_type": "stream",
     "text": [
      "Model: \"vgg16\"\n",
      "_________________________________________________________________\n",
      " Layer (type)                Output Shape              Param #   \n",
      "=================================================================\n",
      " input_1 (InputLayer)        [(None, 180, 180, 3)]     0         \n",
      "                                                                 \n",
      " block1_conv1 (Conv2D)       (None, 180, 180, 64)      1792      \n",
      "                                                                 \n",
      " block1_conv2 (Conv2D)       (None, 180, 180, 64)      36928     \n",
      "                                                                 \n",
      " block1_pool (MaxPooling2D)  (None, 90, 90, 64)        0         \n",
      "                                                                 \n",
      " block2_conv1 (Conv2D)       (None, 90, 90, 128)       73856     \n",
      "                                                                 \n",
      " block2_conv2 (Conv2D)       (None, 90, 90, 128)       147584    \n",
      "                                                                 \n",
      " block2_pool (MaxPooling2D)  (None, 45, 45, 128)       0         \n",
      "                                                                 \n",
      " block3_conv1 (Conv2D)       (None, 45, 45, 256)       295168    \n",
      "                                                                 \n",
      " block3_conv2 (Conv2D)       (None, 45, 45, 256)       590080    \n",
      "                                                                 \n",
      " block3_conv3 (Conv2D)       (None, 45, 45, 256)       590080    \n",
      "                                                                 \n",
      " block3_pool (MaxPooling2D)  (None, 22, 22, 256)       0         \n",
      "                                                                 \n",
      " block4_conv1 (Conv2D)       (None, 22, 22, 512)       1180160   \n",
      "                                                                 \n",
      " block4_conv2 (Conv2D)       (None, 22, 22, 512)       2359808   \n",
      "                                                                 \n",
      " block4_conv3 (Conv2D)       (None, 22, 22, 512)       2359808   \n",
      "                                                                 \n",
      " block4_pool (MaxPooling2D)  (None, 11, 11, 512)       0         \n",
      "                                                                 \n",
      " block5_conv1 (Conv2D)       (None, 11, 11, 512)       2359808   \n",
      "                                                                 \n",
      " block5_conv2 (Conv2D)       (None, 11, 11, 512)       2359808   \n",
      "                                                                 \n",
      " block5_conv3 (Conv2D)       (None, 11, 11, 512)       2359808   \n",
      "                                                                 \n",
      " block5_pool (MaxPooling2D)  (None, 5, 5, 512)         0         \n",
      "                                                                 \n",
      "=================================================================\n",
      "Total params: 14,714,688\n",
      "Trainable params: 14,714,688\n",
      "Non-trainable params: 0\n",
      "_________________________________________________________________\n"
     ]
    }
   ],
   "source": [
    "conv_base.summary()"
   ]
  },
  {
   "cell_type": "markdown",
   "id": "c32f6dcd",
   "metadata": {
    "papermill": {
     "duration": 0.0126,
     "end_time": "2023-02-19T05:54:30.559515",
     "exception": false,
     "start_time": "2023-02-19T05:54:30.546915",
     "status": "completed"
    },
    "tags": []
   },
   "source": [
    "**Note**: Here we have 2 ways\n",
    "- Run the convolutional base over the dataset, record its output to numpy array on disk and then use data as input to a standablone, densely connected classifier similar to those you saw in chapter 4. This solution is fast and cheap to run, becuase it only requires running the convolutional base once for every input image and the convolutional base is by far the most expensive part of the pipeline. However, this technique won't allow us to use data augmentation.\n",
    "- Extend the model we have (conv_base) by adding Dense layers on top, and run thw whole thing from end to end on input data. This will allow us to use data augmentation, becuase every input image goes thru the conv_base every time it's seen by the model. But for the same reason, this technique is far more expensive than the first."
   ]
  },
  {
   "cell_type": "markdown",
   "id": "5a17a604",
   "metadata": {
    "papermill": {
     "duration": 0.013283,
     "end_time": "2023-02-19T05:54:30.585792",
     "exception": false,
     "start_time": "2023-02-19T05:54:30.572509",
     "status": "completed"
    },
    "tags": []
   },
   "source": [
    "## A. Extracting the VGG16 features and corresponding labels"
   ]
  },
  {
   "cell_type": "code",
   "execution_count": 13,
   "id": "2ae490fb",
   "metadata": {
    "execution": {
     "iopub.execute_input": "2023-02-19T05:54:30.614079Z",
     "iopub.status.busy": "2023-02-19T05:54:30.613716Z",
     "iopub.status.idle": "2023-02-19T05:54:57.161979Z",
     "shell.execute_reply": "2023-02-19T05:54:57.160938Z"
    },
    "papermill": {
     "duration": 26.56487,
     "end_time": "2023-02-19T05:54:57.164376",
     "exception": false,
     "start_time": "2023-02-19T05:54:30.599506",
     "status": "completed"
    },
    "tags": []
   },
   "outputs": [
    {
     "name": "stdout",
     "output_type": "stream",
     "text": [
      "1/1 [==============================] - 5s 5s/step\n",
      "1/1 [==============================] - 0s 29ms/step\n",
      "1/1 [==============================] - 0s 29ms/step\n",
      "1/1 [==============================] - 0s 29ms/step\n",
      "1/1 [==============================] - 0s 23ms/step\n",
      "1/1 [==============================] - 0s 24ms/step\n",
      "1/1 [==============================] - 0s 39ms/step\n",
      "1/1 [==============================] - 0s 28ms/step\n",
      "1/1 [==============================] - 0s 28ms/step\n",
      "1/1 [==============================] - 0s 28ms/step\n",
      "1/1 [==============================] - 0s 30ms/step\n",
      "1/1 [==============================] - 0s 28ms/step\n",
      "1/1 [==============================] - 0s 28ms/step\n",
      "1/1 [==============================] - 0s 22ms/step\n",
      "1/1 [==============================] - 0s 28ms/step\n",
      "1/1 [==============================] - 0s 28ms/step\n",
      "1/1 [==============================] - 0s 28ms/step\n",
      "1/1 [==============================] - 0s 25ms/step\n",
      "1/1 [==============================] - 0s 29ms/step\n",
      "1/1 [==============================] - 0s 22ms/step\n",
      "1/1 [==============================] - 0s 24ms/step\n",
      "1/1 [==============================] - 0s 22ms/step\n",
      "1/1 [==============================] - 0s 21ms/step\n",
      "1/1 [==============================] - 0s 27ms/step\n",
      "1/1 [==============================] - 0s 22ms/step\n",
      "1/1 [==============================] - 0s 22ms/step\n",
      "1/1 [==============================] - 0s 23ms/step\n",
      "1/1 [==============================] - 0s 27ms/step\n",
      "1/1 [==============================] - 0s 24ms/step\n",
      "1/1 [==============================] - 0s 27ms/step\n",
      "1/1 [==============================] - 0s 29ms/step\n",
      "1/1 [==============================] - 0s 22ms/step\n",
      "1/1 [==============================] - 0s 24ms/step\n",
      "1/1 [==============================] - 0s 24ms/step\n",
      "1/1 [==============================] - 0s 22ms/step\n",
      "1/1 [==============================] - 0s 23ms/step\n",
      "1/1 [==============================] - 0s 22ms/step\n",
      "1/1 [==============================] - 0s 23ms/step\n",
      "1/1 [==============================] - 0s 22ms/step\n",
      "1/1 [==============================] - 0s 22ms/step\n",
      "1/1 [==============================] - 0s 22ms/step\n",
      "1/1 [==============================] - 0s 28ms/step\n",
      "1/1 [==============================] - 0s 22ms/step\n",
      "1/1 [==============================] - 0s 22ms/step\n",
      "1/1 [==============================] - 0s 21ms/step\n",
      "1/1 [==============================] - 0s 21ms/step\n",
      "1/1 [==============================] - 0s 22ms/step\n",
      "1/1 [==============================] - 0s 22ms/step\n",
      "1/1 [==============================] - 0s 22ms/step\n",
      "1/1 [==============================] - 0s 22ms/step\n",
      "1/1 [==============================] - 0s 23ms/step\n",
      "1/1 [==============================] - 0s 22ms/step\n",
      "1/1 [==============================] - 0s 22ms/step\n",
      "1/1 [==============================] - 0s 27ms/step\n",
      "1/1 [==============================] - 0s 21ms/step\n",
      "1/1 [==============================] - 0s 21ms/step\n",
      "1/1 [==============================] - 0s 28ms/step\n",
      "1/1 [==============================] - 0s 21ms/step\n",
      "1/1 [==============================] - 0s 21ms/step\n",
      "1/1 [==============================] - 0s 21ms/step\n",
      "1/1 [==============================] - 0s 21ms/step\n",
      "1/1 [==============================] - 0s 22ms/step\n",
      "1/1 [==============================] - 0s 429ms/step\n",
      "1/1 [==============================] - 0s 21ms/step\n",
      "1/1 [==============================] - 0s 22ms/step\n",
      "1/1 [==============================] - 0s 29ms/step\n",
      "1/1 [==============================] - 0s 28ms/step\n",
      "1/1 [==============================] - 0s 29ms/step\n",
      "1/1 [==============================] - 0s 22ms/step\n",
      "1/1 [==============================] - 0s 22ms/step\n",
      "1/1 [==============================] - 0s 23ms/step\n",
      "1/1 [==============================] - 0s 23ms/step\n",
      "1/1 [==============================] - 0s 22ms/step\n",
      "1/1 [==============================] - 0s 22ms/step\n",
      "1/1 [==============================] - 0s 28ms/step\n",
      "1/1 [==============================] - 0s 22ms/step\n",
      "1/1 [==============================] - 0s 28ms/step\n",
      "1/1 [==============================] - 0s 22ms/step\n",
      "1/1 [==============================] - 0s 28ms/step\n",
      "1/1 [==============================] - 0s 23ms/step\n",
      "1/1 [==============================] - 0s 25ms/step\n",
      "1/1 [==============================] - 0s 25ms/step\n",
      "1/1 [==============================] - 0s 22ms/step\n",
      "1/1 [==============================] - 0s 22ms/step\n",
      "1/1 [==============================] - 0s 21ms/step\n",
      "1/1 [==============================] - 0s 22ms/step\n",
      "1/1 [==============================] - 0s 21ms/step\n",
      "1/1 [==============================] - 0s 27ms/step\n",
      "1/1 [==============================] - 0s 22ms/step\n",
      "1/1 [==============================] - 0s 22ms/step\n",
      "1/1 [==============================] - 0s 22ms/step\n",
      "1/1 [==============================] - 0s 22ms/step\n",
      "1/1 [==============================] - 0s 22ms/step\n",
      "1/1 [==============================] - 0s 22ms/step\n",
      "1/1 [==============================] - 0s 241ms/step\n",
      "1/1 [==============================] - 0s 23ms/step\n",
      "1/1 [==============================] - 0s 24ms/step\n",
      "1/1 [==============================] - 0s 28ms/step\n",
      "1/1 [==============================] - 0s 22ms/step\n",
      "1/1 [==============================] - 0s 22ms/step\n",
      "1/1 [==============================] - 0s 22ms/step\n",
      "1/1 [==============================] - 0s 24ms/step\n",
      "1/1 [==============================] - 0s 23ms/step\n",
      "1/1 [==============================] - 0s 22ms/step\n",
      "1/1 [==============================] - 0s 22ms/step\n",
      "1/1 [==============================] - 0s 29ms/step\n",
      "1/1 [==============================] - 0s 28ms/step\n",
      "1/1 [==============================] - 0s 22ms/step\n",
      "1/1 [==============================] - 0s 22ms/step\n",
      "1/1 [==============================] - 0s 23ms/step\n",
      "1/1 [==============================] - 0s 22ms/step\n",
      "1/1 [==============================] - 0s 22ms/step\n",
      "1/1 [==============================] - 0s 28ms/step\n",
      "1/1 [==============================] - 0s 22ms/step\n",
      "1/1 [==============================] - 0s 22ms/step\n",
      "1/1 [==============================] - 0s 22ms/step\n",
      "1/1 [==============================] - 0s 22ms/step\n",
      "1/1 [==============================] - 0s 22ms/step\n",
      "1/1 [==============================] - 0s 22ms/step\n",
      "1/1 [==============================] - 0s 22ms/step\n",
      "1/1 [==============================] - 0s 24ms/step\n",
      "1/1 [==============================] - 0s 22ms/step\n",
      "1/1 [==============================] - 0s 26ms/step\n",
      "1/1 [==============================] - 0s 22ms/step\n",
      "1/1 [==============================] - 0s 22ms/step\n",
      "1/1 [==============================] - 0s 22ms/step\n",
      "1/1 [==============================] - 0s 28ms/step\n",
      "1/1 [==============================] - 0s 21ms/step\n",
      "1/1 [==============================] - 0s 21ms/step\n",
      "1/1 [==============================] - 0s 28ms/step\n",
      "1/1 [==============================] - 0s 22ms/step\n",
      "1/1 [==============================] - 0s 21ms/step\n",
      "1/1 [==============================] - 0s 22ms/step\n",
      "1/1 [==============================] - 0s 23ms/step\n",
      "1/1 [==============================] - 0s 22ms/step\n",
      "1/1 [==============================] - 0s 22ms/step\n",
      "1/1 [==============================] - 0s 22ms/step\n",
      "1/1 [==============================] - 0s 22ms/step\n",
      "1/1 [==============================] - 0s 21ms/step\n",
      "1/1 [==============================] - 0s 21ms/step\n",
      "1/1 [==============================] - 0s 29ms/step\n",
      "1/1 [==============================] - 0s 22ms/step\n",
      "1/1 [==============================] - 0s 28ms/step\n",
      "1/1 [==============================] - 0s 21ms/step\n",
      "1/1 [==============================] - 0s 23ms/step\n",
      "1/1 [==============================] - 0s 28ms/step\n",
      "1/1 [==============================] - 0s 22ms/step\n",
      "1/1 [==============================] - 0s 25ms/step\n",
      "1/1 [==============================] - 0s 28ms/step\n",
      "1/1 [==============================] - 0s 42ms/step\n",
      "1/1 [==============================] - 0s 32ms/step\n",
      "1/1 [==============================] - 0s 32ms/step\n",
      "1/1 [==============================] - 0s 27ms/step\n",
      "1/1 [==============================] - 0s 33ms/step\n",
      "1/1 [==============================] - 0s 22ms/step\n",
      "1/1 [==============================] - 0s 22ms/step\n",
      "1/1 [==============================] - 0s 23ms/step\n",
      "1/1 [==============================] - 0s 20ms/step\n"
     ]
    }
   ],
   "source": [
    "def get_features_and_labels(dataset):\n",
    "    all_features = []\n",
    "    all_labels = []\n",
    "    \n",
    "    for images, labels in dataset:\n",
    "        preprocessed_images = keras.applications.vgg16.preprocess_input(images)\n",
    "        features = conv_base.predict(preprocessed_images)\n",
    "        all_features.append(features)\n",
    "        all_labels.append(labels)\n",
    "    return np.concatenate(all_features), np.concatenate(all_labels)\n",
    "\n",
    "train_features, train_labels = get_features_and_labels(train_dataset)\n",
    "val_features, val_labels = get_features_and_labels(validation_dataset)\n",
    "test_features, test_labels = get_features_and_labels(test_dataset)"
   ]
  },
  {
   "cell_type": "code",
   "execution_count": 14,
   "id": "f85406d8",
   "metadata": {
    "execution": {
     "iopub.execute_input": "2023-02-19T05:54:57.225237Z",
     "iopub.status.busy": "2023-02-19T05:54:57.224330Z",
     "iopub.status.idle": "2023-02-19T05:54:57.232656Z",
     "shell.execute_reply": "2023-02-19T05:54:57.231732Z"
    },
    "papermill": {
     "duration": 0.041218,
     "end_time": "2023-02-19T05:54:57.234998",
     "exception": false,
     "start_time": "2023-02-19T05:54:57.193780",
     "status": "completed"
    },
    "tags": []
   },
   "outputs": [
    {
     "data": {
      "text/plain": [
       "(2000, 5, 5, 512)"
      ]
     },
     "execution_count": 14,
     "metadata": {},
     "output_type": "execute_result"
    }
   ],
   "source": [
    "train_features.shape"
   ]
  },
  {
   "cell_type": "markdown",
   "id": "0c600ee8",
   "metadata": {
    "papermill": {
     "duration": 0.028383,
     "end_time": "2023-02-19T05:54:57.292445",
     "exception": false,
     "start_time": "2023-02-19T05:54:57.264062",
     "status": "completed"
    },
    "tags": []
   },
   "source": [
    "### Define and train densely connected classifier"
   ]
  },
  {
   "cell_type": "code",
   "execution_count": 15,
   "id": "3b523ae2",
   "metadata": {
    "execution": {
     "iopub.execute_input": "2023-02-19T05:54:57.351251Z",
     "iopub.status.busy": "2023-02-19T05:54:57.350884Z",
     "iopub.status.idle": "2023-02-19T05:54:57.383069Z",
     "shell.execute_reply": "2023-02-19T05:54:57.382136Z"
    },
    "papermill": {
     "duration": 0.064077,
     "end_time": "2023-02-19T05:54:57.385343",
     "exception": false,
     "start_time": "2023-02-19T05:54:57.321266",
     "status": "completed"
    },
    "tags": []
   },
   "outputs": [],
   "source": [
    "inputs = keras.Input(shape=(5, 5, 512))\n",
    "x = layers.Flatten()(inputs)\n",
    "x = layers.Dense(256)(x)\n",
    "x = layers.Dropout(0.5)(x)\n",
    "outputs = layers.Dense(1, activation=\"sigmoid\")(x)\n",
    "model = keras.Model(inputs, outputs)"
   ]
  },
  {
   "cell_type": "code",
   "execution_count": 16,
   "id": "68b758ef",
   "metadata": {
    "execution": {
     "iopub.execute_input": "2023-02-19T05:54:57.446211Z",
     "iopub.status.busy": "2023-02-19T05:54:57.445297Z",
     "iopub.status.idle": "2023-02-19T05:55:05.966344Z",
     "shell.execute_reply": "2023-02-19T05:55:05.965396Z"
    },
    "papermill": {
     "duration": 8.554555,
     "end_time": "2023-02-19T05:55:05.968633",
     "exception": false,
     "start_time": "2023-02-19T05:54:57.414078",
     "status": "completed"
    },
    "tags": []
   },
   "outputs": [
    {
     "name": "stdout",
     "output_type": "stream",
     "text": [
      "Epoch 1/20\n",
      "63/63 [==============================] - 1s 9ms/step - loss: 11.6261 - accuracy: 0.9275 - val_loss: 10.2493 - val_accuracy: 0.9380\n",
      "Epoch 2/20\n",
      "63/63 [==============================] - 0s 7ms/step - loss: 5.1430 - accuracy: 0.9730 - val_loss: 6.2700 - val_accuracy: 0.9680\n",
      "Epoch 3/20\n",
      "63/63 [==============================] - 0s 5ms/step - loss: 1.9885 - accuracy: 0.9860 - val_loss: 9.1295 - val_accuracy: 0.9600\n",
      "Epoch 4/20\n",
      "63/63 [==============================] - 0s 7ms/step - loss: 1.3301 - accuracy: 0.9870 - val_loss: 4.7229 - val_accuracy: 0.9760\n",
      "Epoch 5/20\n",
      "63/63 [==============================] - 0s 6ms/step - loss: 1.0251 - accuracy: 0.9910 - val_loss: 3.9545 - val_accuracy: 0.9820\n",
      "Epoch 6/20\n",
      "63/63 [==============================] - 0s 5ms/step - loss: 1.0707 - accuracy: 0.9920 - val_loss: 7.1210 - val_accuracy: 0.9720\n",
      "Epoch 7/20\n",
      "63/63 [==============================] - 0s 5ms/step - loss: 0.3222 - accuracy: 0.9970 - val_loss: 4.7954 - val_accuracy: 0.9810\n",
      "Epoch 8/20\n",
      "63/63 [==============================] - 0s 6ms/step - loss: 0.3231 - accuracy: 0.9965 - val_loss: 3.9983 - val_accuracy: 0.9800\n",
      "Epoch 9/20\n",
      "63/63 [==============================] - 0s 7ms/step - loss: 0.5358 - accuracy: 0.9960 - val_loss: 3.6849 - val_accuracy: 0.9810\n",
      "Epoch 10/20\n",
      "63/63 [==============================] - 0s 6ms/step - loss: 0.0168 - accuracy: 0.9990 - val_loss: 4.1078 - val_accuracy: 0.9810\n",
      "Epoch 11/20\n",
      "63/63 [==============================] - 0s 5ms/step - loss: 0.4226 - accuracy: 0.9955 - val_loss: 4.8339 - val_accuracy: 0.9780\n",
      "Epoch 12/20\n",
      "63/63 [==============================] - 0s 5ms/step - loss: 0.1609 - accuracy: 0.9980 - val_loss: 5.9847 - val_accuracy: 0.9700\n",
      "Epoch 13/20\n",
      "63/63 [==============================] - 0s 5ms/step - loss: 0.0927 - accuracy: 0.9985 - val_loss: 4.5034 - val_accuracy: 0.9800\n",
      "Epoch 14/20\n",
      "63/63 [==============================] - 0s 8ms/step - loss: 0.2996 - accuracy: 0.9980 - val_loss: 4.8878 - val_accuracy: 0.9770\n",
      "Epoch 15/20\n",
      "63/63 [==============================] - 0s 7ms/step - loss: 0.7950 - accuracy: 0.9940 - val_loss: 5.1572 - val_accuracy: 0.9770\n",
      "Epoch 16/20\n",
      "63/63 [==============================] - 0s 6ms/step - loss: 0.0652 - accuracy: 0.9990 - val_loss: 5.3454 - val_accuracy: 0.9750\n",
      "Epoch 17/20\n",
      "63/63 [==============================] - 0s 5ms/step - loss: 3.2890e-16 - accuracy: 1.0000 - val_loss: 5.3454 - val_accuracy: 0.9750\n",
      "Epoch 18/20\n",
      "63/63 [==============================] - 0s 6ms/step - loss: 0.1208 - accuracy: 0.9985 - val_loss: 8.7772 - val_accuracy: 0.9690\n",
      "Epoch 19/20\n",
      "63/63 [==============================] - 0s 5ms/step - loss: 0.1442 - accuracy: 0.9980 - val_loss: 5.6991 - val_accuracy: 0.9750\n",
      "Epoch 20/20\n",
      "63/63 [==============================] - 0s 5ms/step - loss: 2.0854e-07 - accuracy: 1.0000 - val_loss: 5.6851 - val_accuracy: 0.9720\n"
     ]
    }
   ],
   "source": [
    "model.compile(loss=\"binary_crossentropy\",\n",
    "    optimizer=\"rmsprop\",\n",
    "    metrics=[\"accuracy\"],\n",
    ")\n",
    "\n",
    "callbacks = [\n",
    "    keras.callbacks.ModelCheckpoint(\n",
    "    filepath=\"feature_extraction.keras\",\n",
    "    save_best_only=True,\n",
    "    monitor=\"val_loss\")\n",
    "]\n",
    "\n",
    "history = model.fit(\n",
    "    train_features, train_labels,\n",
    "    epochs=20,\n",
    "    validation_data=(val_features, val_labels),\n",
    "callbacks=callbacks)"
   ]
  },
  {
   "cell_type": "code",
   "execution_count": 17,
   "id": "f73c2d25",
   "metadata": {
    "execution": {
     "iopub.execute_input": "2023-02-19T05:55:06.043625Z",
     "iopub.status.busy": "2023-02-19T05:55:06.042642Z",
     "iopub.status.idle": "2023-02-19T05:55:06.521972Z",
     "shell.execute_reply": "2023-02-19T05:55:06.520871Z"
    },
    "papermill": {
     "duration": 0.51905,
     "end_time": "2023-02-19T05:55:06.524174",
     "exception": false,
     "start_time": "2023-02-19T05:55:06.005124",
     "status": "completed"
    },
    "tags": []
   },
   "outputs": [
    {
     "data": {
      "image/png": "[encoded data removed]",
      "text/plain": [
       "<Figure size 640x480 with 1 Axes>"
      ]
     },
     "metadata": {},
     "output_type": "display_data"
    },
    {
     "data": {
      "image/png": "[encoded data removed]",
      "text/plain": [
       "<Figure size 640x480 with 1 Axes>"
      ]
     },
     "metadata": {},
     "output_type": "display_data"
    }
   ],
   "source": [
    "acc = history.history[\"accuracy\"]\n",
    "val_acc = history.history[\"val_accuracy\"]\n",
    "loss = history.history[\"loss\"]\n",
    "val_loss = history.history[\"val_loss\"]\n",
    "epochs = range(1, len(acc) + 1)\n",
    "plt.plot(epochs, acc, \"bo\", label=\"Training accuracy\")\n",
    "plt.plot(epochs, val_acc, \"b\", label=\"Validation accuracy\")\n",
    "plt.title(\"Training and validation accuracy\")\n",
    "plt.legend()\n",
    "plt.figure()\n",
    "plt.plot(epochs, loss, \"bo\", label=\"Training loss\")\n",
    "plt.plot(epochs, val_loss, \"b\", label=\"Validation loss\")\n",
    "plt.title(\"Training and validation loss\")\n",
    "plt.legend()\n",
    "plt.show()"
   ]
  },
  {
   "cell_type": "markdown",
   "id": "9a473062",
   "metadata": {
    "papermill": {
     "duration": 0.036806,
     "end_time": "2023-02-19T05:55:06.598329",
     "exception": false,
     "start_time": "2023-02-19T05:55:06.561523",
     "status": "completed"
    },
    "tags": []
   },
   "source": [
    "## B. Feature Extraction Together With Data Augmentation\n",
    "- First, we need to freeze the convolutional base. Freezing a layer or a set of layers means preventing thei weights from being updated during training. If we don't do this, the representations that were previously learned by the convolutional base will be modified during training."
   ]
  },
  {
   "cell_type": "code",
   "execution_count": 18,
   "id": "a8e5d063",
   "metadata": {
    "execution": {
     "iopub.execute_input": "2023-02-19T05:55:06.674337Z",
     "iopub.status.busy": "2023-02-19T05:55:06.673369Z",
     "iopub.status.idle": "2023-02-19T05:55:06.951245Z",
     "shell.execute_reply": "2023-02-19T05:55:06.950185Z"
    },
    "papermill": {
     "duration": 0.318775,
     "end_time": "2023-02-19T05:55:06.954005",
     "exception": false,
     "start_time": "2023-02-19T05:55:06.635230",
     "status": "completed"
    },
    "tags": []
   },
   "outputs": [],
   "source": [
    "# import the model\n",
    "conv_base = keras.applications.vgg16.VGG16(weights=\"imagenet\", include_top=False)\n",
    "\n",
    "# freeze layer\n",
    "conv_base.trainable = False"
   ]
  },
  {
   "cell_type": "code",
   "execution_count": 19,
   "id": "1e502681",
   "metadata": {
    "execution": {
     "iopub.execute_input": "2023-02-19T05:55:07.032008Z",
     "iopub.status.busy": "2023-02-19T05:55:07.031618Z",
     "iopub.status.idle": "2023-02-19T05:55:07.039152Z",
     "shell.execute_reply": "2023-02-19T05:55:07.038181Z"
    },
    "papermill": {
     "duration": 0.049741,
     "end_time": "2023-02-19T05:55:07.041776",
     "exception": false,
     "start_time": "2023-02-19T05:55:06.992035",
     "status": "completed"
    },
    "tags": []
   },
   "outputs": [
    {
     "name": "stdout",
     "output_type": "stream",
     "text": [
      "This is the number of trainable weights before freezing the conv base: 26\n",
      "This is the number of trainable weights after freezing the conv base: 0\n"
     ]
    }
   ],
   "source": [
    "# let print out the list of trainable weights before and after freezing\n",
    "conv_base.trainable = True\n",
    "print(\"This is the number of trainable weights before freezing the conv base:\", len(conv_base.trainable_weights))\n",
    "\n",
    "conv_base.trainable = False\n",
    "print(\"This is the number of trainable weights after freezing the conv base:\", len(conv_base.trainable_weights))"
   ]
  },
  {
   "cell_type": "markdown",
   "id": "42890d9c",
   "metadata": {
    "papermill": {
     "duration": 0.037451,
     "end_time": "2023-02-19T05:55:07.117434",
     "exception": false,
     "start_time": "2023-02-19T05:55:07.079983",
     "status": "completed"
    },
    "tags": []
   },
   "source": [
    "### Adding data augmentation stage and classifier to the convolutional base"
   ]
  },
  {
   "cell_type": "code",
   "execution_count": 20,
   "id": "ce0d8dcc",
   "metadata": {
    "execution": {
     "iopub.execute_input": "2023-02-19T05:55:07.262958Z",
     "iopub.status.busy": "2023-02-19T05:55:07.261736Z",
     "iopub.status.idle": "2023-02-19T05:55:07.430668Z",
     "shell.execute_reply": "2023-02-19T05:55:07.429707Z"
    },
    "papermill": {
     "duration": 0.24813,
     "end_time": "2023-02-19T05:55:07.433693",
     "exception": false,
     "start_time": "2023-02-19T05:55:07.185563",
     "status": "completed"
    },
    "tags": []
   },
   "outputs": [],
   "source": [
    "data_augmentation = keras.Sequential(\n",
    "    [\n",
    "        layers.RandomFlip(\"horizontal\"),\n",
    "        layers.RandomRotation(0.1),\n",
    "        layers.RandomZoom(0.2),\n",
    "    ]\n",
    ")\n",
    "\n",
    "inputs = keras.Input(shape=(180, 180, 3))\n",
    "\n",
    "x = data_augmentation(inputs)\n",
    "\n",
    "x = keras.applications.vgg16.preprocess_input(x)\n",
    "\n",
    "x = conv_base(x)\n",
    "x = layers.Flatten()(x)\n",
    "x = layers.Dense(256)(x)\n",
    "x = layers.Dropout(0.5)(x)\n",
    "\n",
    "outputs = layers.Dense(1, activation=\"sigmoid\")(x)\n",
    "\n",
    "model = keras.Model(inputs, outputs)\n",
    "model.compile(loss=\"binary_crossentropy\", optimizer=\"rmsprop\", metrics=[\"accuracy\"])"
   ]
  },
  {
   "cell_type": "code",
   "execution_count": 21,
   "id": "501f92b3",
   "metadata": {
    "execution": {
     "iopub.execute_input": "2023-02-19T05:55:07.549473Z",
     "iopub.status.busy": "2023-02-19T05:55:07.548907Z",
     "iopub.status.idle": "2023-02-19T05:55:07.584748Z",
     "shell.execute_reply": "2023-02-19T05:55:07.584052Z"
    },
    "papermill": {
     "duration": 0.125122,
     "end_time": "2023-02-19T05:55:07.617237",
     "exception": false,
     "start_time": "2023-02-19T05:55:07.492115",
     "status": "completed"
    },
    "tags": []
   },
   "outputs": [
    {
     "name": "stdout",
     "output_type": "stream",
     "text": [
      "Model: \"model_1\"\n",
      "_________________________________________________________________\n",
      " Layer (type)                Output Shape              Param #   \n",
      "=================================================================\n",
      " input_4 (InputLayer)        [(None, 180, 180, 3)]     0         \n",
      "                                                                 \n",
      " sequential (Sequential)     (None, 180, 180, 3)       0         \n",
      "                                                                 \n",
      " tf.__operators__.getitem (S  (None, 180, 180, 3)      0         \n",
      " licingOpLambda)                                                 \n",
      "                                                                 \n",
      " tf.nn.bias_add (TFOpLambda)  (None, 180, 180, 3)      0         \n",
      "                                                                 \n",
      " vgg16 (Functional)          (None, None, None, 512)   14714688  \n",
      "                                                                 \n",
      " flatten_1 (Flatten)         (None, 12800)             0         \n",
      "                                                                 \n",
      " dense_2 (Dense)             (None, 256)               3277056   \n",
      "                                                                 \n",
      " dropout_1 (Dropout)         (None, 256)               0         \n",
      "                                                                 \n",
      " dense_3 (Dense)             (None, 1)                 257       \n",
      "                                                                 \n",
      "=================================================================\n",
      "Total params: 17,992,001\n",
      "Trainable params: 3,277,313\n",
      "Non-trainable params: 14,714,688\n",
      "_________________________________________________________________\n"
     ]
    }
   ],
   "source": [
    "model.summary()"
   ]
  },
  {
   "cell_type": "markdown",
   "id": "dbff606f",
   "metadata": {
    "papermill": {
     "duration": 0.0446,
     "end_time": "2023-02-19T05:55:07.727122",
     "exception": false,
     "start_time": "2023-02-19T05:55:07.682522",
     "status": "completed"
    },
    "tags": []
   },
   "source": [
    "**Note**: with this set up, only the weights from 2 Dense layers we added will be trained. This way only works if you have access to GPU."
   ]
  },
  {
   "cell_type": "code",
   "execution_count": 22,
   "id": "65b1482a",
   "metadata": {
    "execution": {
     "iopub.execute_input": "2023-02-19T05:55:07.808256Z",
     "iopub.status.busy": "2023-02-19T05:55:07.807869Z",
     "iopub.status.idle": "2023-02-19T05:55:07.812586Z",
     "shell.execute_reply": "2023-02-19T05:55:07.811575Z"
    },
    "papermill": {
     "duration": 0.047641,
     "end_time": "2023-02-19T05:55:07.814789",
     "exception": false,
     "start_time": "2023-02-19T05:55:07.767148",
     "status": "completed"
    },
    "tags": []
   },
   "outputs": [],
   "source": [
    "callbacks = [\n",
    "    keras.callbacks.ModelCheckpoint(\n",
    "        filepath=\"feature_extraction_with_data_augmentation.keras\",\n",
    "        save_best_only=True,\n",
    "        monitor=\"val_loss\"\n",
    "    )\n",
    "]"
   ]
  },
  {
   "cell_type": "code",
   "execution_count": 23,
   "id": "cebe0df5",
   "metadata": {
    "execution": {
     "iopub.execute_input": "2023-02-19T05:55:07.894428Z",
     "iopub.status.busy": "2023-02-19T05:55:07.894062Z",
     "iopub.status.idle": "2023-02-19T05:58:09.028947Z",
     "shell.execute_reply": "2023-02-19T05:58:09.027736Z"
    },
    "papermill": {
     "duration": 181.177123,
     "end_time": "2023-02-19T05:58:09.031535",
     "exception": false,
     "start_time": "2023-02-19T05:55:07.854412",
     "status": "completed"
    },
    "tags": []
   },
   "outputs": [
    {
     "name": "stdout",
     "output_type": "stream",
     "text": [
      "Epoch 1/20\n",
      "63/63 [==============================] - 9s 124ms/step - loss: 18.8539 - accuracy: 0.9025 - val_loss: 3.4335 - val_accuracy: 0.9730\n",
      "Epoch 2/20\n",
      "63/63 [==============================] - 8s 123ms/step - loss: 6.7617 - accuracy: 0.9460 - val_loss: 41.1807 - val_accuracy: 0.8460\n",
      "Epoch 3/20\n",
      "63/63 [==============================] - 8s 125ms/step - loss: 6.8212 - accuracy: 0.9530 - val_loss: 2.8929 - val_accuracy: 0.9720\n",
      "Epoch 4/20\n",
      "63/63 [==============================] - 8s 123ms/step - loss: 6.4853 - accuracy: 0.9565 - val_loss: 3.1655 - val_accuracy: 0.9780\n",
      "Epoch 5/20\n",
      "63/63 [==============================] - 8s 120ms/step - loss: 3.1975 - accuracy: 0.9725 - val_loss: 4.4753 - val_accuracy: 0.9720\n",
      "Epoch 6/20\n",
      "63/63 [==============================] - 8s 119ms/step - loss: 4.1466 - accuracy: 0.9620 - val_loss: 2.9800 - val_accuracy: 0.9760\n",
      "Epoch 7/20\n",
      "63/63 [==============================] - 8s 124ms/step - loss: 3.8399 - accuracy: 0.9705 - val_loss: 2.9093 - val_accuracy: 0.9780\n",
      "Epoch 8/20\n",
      "63/63 [==============================] - 8s 120ms/step - loss: 2.7749 - accuracy: 0.9745 - val_loss: 3.3159 - val_accuracy: 0.9740\n",
      "Epoch 9/20\n",
      "63/63 [==============================] - 8s 120ms/step - loss: 2.9495 - accuracy: 0.9725 - val_loss: 2.4208 - val_accuracy: 0.9790\n",
      "Epoch 10/20\n",
      "63/63 [==============================] - 8s 126ms/step - loss: 3.0566 - accuracy: 0.9720 - val_loss: 2.6886 - val_accuracy: 0.9790\n",
      "Epoch 11/20\n",
      "63/63 [==============================] - 8s 123ms/step - loss: 1.9661 - accuracy: 0.9755 - val_loss: 3.4644 - val_accuracy: 0.9740\n",
      "Epoch 12/20\n",
      "63/63 [==============================] - 8s 120ms/step - loss: 2.5209 - accuracy: 0.9760 - val_loss: 2.9835 - val_accuracy: 0.9740\n",
      "Epoch 13/20\n",
      "63/63 [==============================] - 8s 121ms/step - loss: 1.9153 - accuracy: 0.9785 - val_loss: 2.9921 - val_accuracy: 0.9730\n",
      "Epoch 14/20\n",
      "63/63 [==============================] - 8s 125ms/step - loss: 2.0599 - accuracy: 0.9770 - val_loss: 3.1494 - val_accuracy: 0.9760\n",
      "Epoch 15/20\n",
      "63/63 [==============================] - 8s 120ms/step - loss: 1.9075 - accuracy: 0.9810 - val_loss: 3.1706 - val_accuracy: 0.9770\n",
      "Epoch 16/20\n",
      "63/63 [==============================] - 8s 120ms/step - loss: 1.7486 - accuracy: 0.9800 - val_loss: 3.6835 - val_accuracy: 0.9690\n",
      "Epoch 17/20\n",
      "63/63 [==============================] - 8s 118ms/step - loss: 1.4771 - accuracy: 0.9785 - val_loss: 2.7612 - val_accuracy: 0.9750\n",
      "Epoch 18/20\n",
      "63/63 [==============================] - 8s 126ms/step - loss: 1.4579 - accuracy: 0.9800 - val_loss: 2.9844 - val_accuracy: 0.9770\n",
      "Epoch 19/20\n",
      "63/63 [==============================] - 8s 120ms/step - loss: 1.0779 - accuracy: 0.9835 - val_loss: 2.8549 - val_accuracy: 0.9750\n",
      "Epoch 20/20\n",
      "63/63 [==============================] - 8s 121ms/step - loss: 1.2821 - accuracy: 0.9820 - val_loss: 3.1018 - val_accuracy: 0.9740\n"
     ]
    }
   ],
   "source": [
    "history = model.fit(\n",
    "    train_dataset,\n",
    "    epochs=20,\n",
    "    validation_data=validation_dataset,\n",
    "    callbacks=callbacks\n",
    ")"
   ]
  },
  {
   "cell_type": "code",
   "execution_count": 24,
   "id": "c616fc61",
   "metadata": {
    "execution": {
     "iopub.execute_input": "2023-02-19T05:58:09.252547Z",
     "iopub.status.busy": "2023-02-19T05:58:09.252195Z",
     "iopub.status.idle": "2023-02-19T05:58:09.697736Z",
     "shell.execute_reply": "2023-02-19T05:58:09.696815Z"
    },
    "papermill": {
     "duration": 0.553941,
     "end_time": "2023-02-19T05:58:09.699799",
     "exception": false,
     "start_time": "2023-02-19T05:58:09.145858",
     "status": "completed"
    },
    "tags": []
   },
   "outputs": [
    {
     "data": {
      "image/png": "[encoded data removed]",
      "text/plain": [
       "<Figure size 640x480 with 1 Axes>"
      ]
     },
     "metadata": {},
     "output_type": "display_data"
    },
    {
     "data": {
      "image/png": "[encoded data removed]",
      "text/plain": [
       "<Figure size 640x480 with 1 Axes>"
      ]
     },
     "metadata": {},
     "output_type": "display_data"
    }
   ],
   "source": [
    "acc = history.history[\"accuracy\"]\n",
    "val_acc = history.history[\"val_accuracy\"]\n",
    "loss = history.history[\"loss\"]\n",
    "val_loss = history.history[\"val_loss\"]\n",
    "epochs = range(1, len(acc) + 1)\n",
    "plt.plot(epochs, acc, \"bo\", label=\"Training accuracy\")\n",
    "plt.plot(epochs, val_acc, \"b\", label=\"Validation accuracy\")\n",
    "plt.title(\"Training and validation accuracy\")\n",
    "plt.legend()\n",
    "plt.figure()\n",
    "plt.plot(epochs, loss, \"bo\", label=\"Training loss\")\n",
    "plt.plot(epochs, val_loss, \"b\", label=\"Validation loss\")\n",
    "plt.title(\"Training and validation loss\")\n",
    "plt.legend()\n",
    "plt.show()"
   ]
  },
  {
   "cell_type": "code",
   "execution_count": 25,
   "id": "3cc14f44",
   "metadata": {
    "execution": {
     "iopub.execute_input": "2023-02-19T05:58:09.911480Z",
     "iopub.status.busy": "2023-02-19T05:58:09.911135Z",
     "iopub.status.idle": "2023-02-19T05:58:14.461951Z",
     "shell.execute_reply": "2023-02-19T05:58:14.460956Z"
    },
    "papermill": {
     "duration": 4.663762,
     "end_time": "2023-02-19T05:58:14.468678",
     "exception": false,
     "start_time": "2023-02-19T05:58:09.804916",
     "status": "completed"
    },
    "tags": []
   },
   "outputs": [
    {
     "name": "stdout",
     "output_type": "stream",
     "text": [
      "63/63 [==============================] - 4s 59ms/step - loss: 4.1430 - accuracy: 0.9745\n",
      "Test accuracy: 0.975\n"
     ]
    }
   ],
   "source": [
    "test_model = keras.models.load_model(\"feature_extraction_with_data_augmentation.keras\")\n",
    "test_loss, test_acc = test_model.evaluate(test_dataset)\n",
    "print(f\"Test accuracy: {test_acc:.3f}\")"
   ]
  },
  {
   "cell_type": "markdown",
   "id": "da84cc3c",
   "metadata": {
    "papermill": {
     "duration": 0.19123,
     "end_time": "2023-02-19T05:58:14.955743",
     "exception": false,
     "start_time": "2023-02-19T05:58:14.764513",
     "status": "completed"
    },
    "tags": []
   },
   "source": [
    "# 8.3.2. Fine-tuning a pretrained model\n",
    "- For this application, we will fine-tune the last 3 convolutional layers. which means all layers up to block4_pool should be frozen, and the layers block5_conv1, block5_conv2, and block5_conv3 should be trainable.\n",
    "- "
   ]
  },
  {
   "cell_type": "code",
   "execution_count": 26,
   "id": "c4fdb0c6",
   "metadata": {
    "execution": {
     "iopub.execute_input": "2023-02-19T05:58:15.330460Z",
     "iopub.status.busy": "2023-02-19T05:58:15.329903Z",
     "iopub.status.idle": "2023-02-19T05:58:15.665095Z",
     "shell.execute_reply": "2023-02-19T05:58:15.663859Z"
    },
    "papermill": {
     "duration": 0.525307,
     "end_time": "2023-02-19T05:58:15.668540",
     "exception": false,
     "start_time": "2023-02-19T05:58:15.143233",
     "status": "completed"
    },
    "tags": []
   },
   "outputs": [],
   "source": [
    "# import the model\n",
    "conv_base = keras.applications.vgg16.VGG16(weights=\"imagenet\", include_top=False)\n",
    "\n",
    "# freeze layer\n",
    "conv_base.trainable = False"
   ]
  },
  {
   "cell_type": "code",
   "execution_count": 27,
   "id": "5cad3491",
   "metadata": {
    "execution": {
     "iopub.execute_input": "2023-02-19T05:58:16.024488Z",
     "iopub.status.busy": "2023-02-19T05:58:16.024123Z",
     "iopub.status.idle": "2023-02-19T05:58:16.071986Z",
     "shell.execute_reply": "2023-02-19T05:58:16.071197Z"
    },
    "papermill": {
     "duration": 0.189622,
     "end_time": "2023-02-19T05:58:16.097922",
     "exception": false,
     "start_time": "2023-02-19T05:58:15.908300",
     "status": "completed"
    },
    "tags": []
   },
   "outputs": [
    {
     "name": "stdout",
     "output_type": "stream",
     "text": [
      "Model: \"vgg16\"\n",
      "_________________________________________________________________\n",
      " Layer (type)                Output Shape              Param #   \n",
      "=================================================================\n",
      " input_5 (InputLayer)        [(None, None, None, 3)]   0         \n",
      "                                                                 \n",
      " block1_conv1 (Conv2D)       (None, None, None, 64)    1792      \n",
      "                                                                 \n",
      " block1_conv2 (Conv2D)       (None, None, None, 64)    36928     \n",
      "                                                                 \n",
      " block1_pool (MaxPooling2D)  (None, None, None, 64)    0         \n",
      "                                                                 \n",
      " block2_conv1 (Conv2D)       (None, None, None, 128)   73856     \n",
      "                                                                 \n",
      " block2_conv2 (Conv2D)       (None, None, None, 128)   147584    \n",
      "                                                                 \n",
      " block2_pool (MaxPooling2D)  (None, None, None, 128)   0         \n",
      "                                                                 \n",
      " block3_conv1 (Conv2D)       (None, None, None, 256)   295168    \n",
      "                                                                 \n",
      " block3_conv2 (Conv2D)       (None, None, None, 256)   590080    \n",
      "                                                                 \n",
      " block3_conv3 (Conv2D)       (None, None, None, 256)   590080    \n",
      "                                                                 \n",
      " block3_pool (MaxPooling2D)  (None, None, None, 256)   0         \n",
      "                                                                 \n",
      " block4_conv1 (Conv2D)       (None, None, None, 512)   1180160   \n",
      "                                                                 \n",
      " block4_conv2 (Conv2D)       (None, None, None, 512)   2359808   \n",
      "                                                                 \n",
      " block4_conv3 (Conv2D)       (None, None, None, 512)   2359808   \n",
      "                                                                 \n",
      " block4_pool (MaxPooling2D)  (None, None, None, 512)   0         \n",
      "                                                                 \n",
      " block5_conv1 (Conv2D)       (None, None, None, 512)   2359808   \n",
      "                                                                 \n",
      " block5_conv2 (Conv2D)       (None, None, None, 512)   2359808   \n",
      "                                                                 \n",
      " block5_conv3 (Conv2D)       (None, None, None, 512)   2359808   \n",
      "                                                                 \n",
      " block5_pool (MaxPooling2D)  (None, None, None, 512)   0         \n",
      "                                                                 \n",
      "=================================================================\n",
      "Total params: 14,714,688\n",
      "Trainable params: 0\n",
      "Non-trainable params: 14,714,688\n",
      "_________________________________________________________________\n"
     ]
    }
   ],
   "source": [
    " conv_base.summary()"
   ]
  },
  {
   "cell_type": "markdown",
   "id": "cca020fd",
   "metadata": {
    "papermill": {
     "duration": 0.114305,
     "end_time": "2023-02-19T05:58:16.326034",
     "exception": false,
     "start_time": "2023-02-19T05:58:16.211729",
     "status": "completed"
    },
    "tags": []
   },
   "source": [
    "### Freeze all layers until the fourth from the last"
   ]
  },
  {
   "cell_type": "code",
   "execution_count": 28,
   "id": "0e0f9188",
   "metadata": {
    "execution": {
     "iopub.execute_input": "2023-02-19T05:58:16.551804Z",
     "iopub.status.busy": "2023-02-19T05:58:16.551448Z",
     "iopub.status.idle": "2023-02-19T05:58:16.557091Z",
     "shell.execute_reply": "2023-02-19T05:58:16.556283Z"
    },
    "papermill": {
     "duration": 0.121277,
     "end_time": "2023-02-19T05:58:16.559128",
     "exception": false,
     "start_time": "2023-02-19T05:58:16.437851",
     "status": "completed"
    },
    "tags": []
   },
   "outputs": [],
   "source": [
    "conv_base.trainable = True\n",
    "for layer in conv_base.layers[:-4]:\n",
    "    layer.trainable = False"
   ]
  },
  {
   "cell_type": "markdown",
   "id": "581af86b",
   "metadata": {
    "papermill": {
     "duration": 0.110839,
     "end_time": "2023-02-19T05:58:16.781425",
     "exception": false,
     "start_time": "2023-02-19T05:58:16.670586",
     "status": "completed"
    },
    "tags": []
   },
   "source": [
    "### Fine-tuning the model"
   ]
  },
  {
   "cell_type": "code",
   "execution_count": 29,
   "id": "5c82e479",
   "metadata": {
    "execution": {
     "iopub.execute_input": "2023-02-19T05:58:17.008596Z",
     "iopub.status.busy": "2023-02-19T05:58:17.008245Z",
     "iopub.status.idle": "2023-02-19T06:02:47.982736Z",
     "shell.execute_reply": "2023-02-19T06:02:47.981763Z"
    },
    "papermill": {
     "duration": 271.090305,
     "end_time": "2023-02-19T06:02:47.985033",
     "exception": false,
     "start_time": "2023-02-19T05:58:16.894728",
     "status": "completed"
    },
    "tags": []
   },
   "outputs": [
    {
     "name": "stdout",
     "output_type": "stream",
     "text": [
      "Epoch 1/30\n",
      "63/63 [==============================] - 9s 124ms/step - loss: 1.1997 - accuracy: 0.9870 - val_loss: 3.0685 - val_accuracy: 0.9750\n",
      "Epoch 2/30\n",
      "63/63 [==============================] - 8s 121ms/step - loss: 1.1328 - accuracy: 0.9845 - val_loss: 3.0375 - val_accuracy: 0.9750\n",
      "Epoch 3/30\n",
      "63/63 [==============================] - 8s 124ms/step - loss: 1.1272 - accuracy: 0.9820 - val_loss: 3.0168 - val_accuracy: 0.9770\n",
      "Epoch 4/30\n",
      "63/63 [==============================] - 8s 131ms/step - loss: 1.1608 - accuracy: 0.9875 - val_loss: 2.9942 - val_accuracy: 0.9760\n",
      "Epoch 5/30\n",
      "63/63 [==============================] - 8s 123ms/step - loss: 1.1509 - accuracy: 0.9860 - val_loss: 2.9829 - val_accuracy: 0.9770\n",
      "Epoch 6/30\n",
      "63/63 [==============================] - 8s 117ms/step - loss: 0.9486 - accuracy: 0.9885 - val_loss: 2.9959 - val_accuracy: 0.9740\n",
      "Epoch 7/30\n",
      "63/63 [==============================] - 8s 125ms/step - loss: 0.7358 - accuracy: 0.9910 - val_loss: 2.9954 - val_accuracy: 0.9740\n",
      "Epoch 8/30\n",
      "63/63 [==============================] - 8s 118ms/step - loss: 1.5819 - accuracy: 0.9795 - val_loss: 2.9920 - val_accuracy: 0.9740\n",
      "Epoch 9/30\n",
      "63/63 [==============================] - 8s 118ms/step - loss: 0.8581 - accuracy: 0.9875 - val_loss: 2.9959 - val_accuracy: 0.9740\n",
      "Epoch 10/30\n",
      "63/63 [==============================] - 8s 122ms/step - loss: 0.7603 - accuracy: 0.9865 - val_loss: 3.0439 - val_accuracy: 0.9740\n",
      "Epoch 11/30\n",
      "63/63 [==============================] - 8s 121ms/step - loss: 0.8524 - accuracy: 0.9860 - val_loss: 2.9894 - val_accuracy: 0.9740\n",
      "Epoch 12/30\n",
      "63/63 [==============================] - 8s 124ms/step - loss: 0.9869 - accuracy: 0.9870 - val_loss: 2.9756 - val_accuracy: 0.9740\n",
      "Epoch 13/30\n",
      "63/63 [==============================] - 8s 121ms/step - loss: 0.7703 - accuracy: 0.9875 - val_loss: 2.9848 - val_accuracy: 0.9740\n",
      "Epoch 14/30\n",
      "63/63 [==============================] - 8s 129ms/step - loss: 0.6056 - accuracy: 0.9865 - val_loss: 2.9279 - val_accuracy: 0.9740\n",
      "Epoch 15/30\n",
      "63/63 [==============================] - 8s 122ms/step - loss: 0.7931 - accuracy: 0.9870 - val_loss: 2.9126 - val_accuracy: 0.9740\n",
      "Epoch 16/30\n",
      "63/63 [==============================] - 8s 124ms/step - loss: 0.5745 - accuracy: 0.9915 - val_loss: 2.9062 - val_accuracy: 0.9740\n",
      "Epoch 17/30\n",
      "63/63 [==============================] - 8s 125ms/step - loss: 0.8645 - accuracy: 0.9865 - val_loss: 2.8872 - val_accuracy: 0.9740\n",
      "Epoch 18/30\n",
      "63/63 [==============================] - 8s 128ms/step - loss: 1.1649 - accuracy: 0.9870 - val_loss: 2.8724 - val_accuracy: 0.9740\n",
      "Epoch 19/30\n",
      "63/63 [==============================] - 8s 118ms/step - loss: 0.7692 - accuracy: 0.9900 - val_loss: 2.8946 - val_accuracy: 0.9730\n",
      "Epoch 20/30\n",
      "63/63 [==============================] - 8s 118ms/step - loss: 0.6734 - accuracy: 0.9895 - val_loss: 2.8781 - val_accuracy: 0.9730\n",
      "Epoch 21/30\n",
      "63/63 [==============================] - 8s 128ms/step - loss: 0.6857 - accuracy: 0.9845 - val_loss: 2.8538 - val_accuracy: 0.9730\n",
      "Epoch 22/30\n",
      "63/63 [==============================] - 8s 121ms/step - loss: 0.6836 - accuracy: 0.9875 - val_loss: 2.8615 - val_accuracy: 0.9730\n",
      "Epoch 23/30\n",
      "63/63 [==============================] - 8s 120ms/step - loss: 0.6669 - accuracy: 0.9885 - val_loss: 2.8539 - val_accuracy: 0.9730\n",
      "Epoch 24/30\n",
      "63/63 [==============================] - 9s 134ms/step - loss: 0.6874 - accuracy: 0.9900 - val_loss: 2.8314 - val_accuracy: 0.9730\n",
      "Epoch 25/30\n",
      "63/63 [==============================] - 8s 122ms/step - loss: 0.5398 - accuracy: 0.9895 - val_loss: 2.8124 - val_accuracy: 0.9730\n",
      "Epoch 26/30\n",
      "63/63 [==============================] - 8s 122ms/step - loss: 0.5442 - accuracy: 0.9895 - val_loss: 2.8046 - val_accuracy: 0.9730\n",
      "Epoch 27/30\n",
      "63/63 [==============================] - 8s 122ms/step - loss: 0.6490 - accuracy: 0.9910 - val_loss: 2.8166 - val_accuracy: 0.9730\n",
      "Epoch 28/30\n",
      "63/63 [==============================] - 8s 126ms/step - loss: 0.6785 - accuracy: 0.9865 - val_loss: 2.8091 - val_accuracy: 0.9730\n",
      "Epoch 29/30\n",
      "63/63 [==============================] - 8s 120ms/step - loss: 0.6052 - accuracy: 0.9890 - val_loss: 2.7913 - val_accuracy: 0.9750\n",
      "Epoch 30/30\n",
      "63/63 [==============================] - 8s 118ms/step - loss: 0.7963 - accuracy: 0.9850 - val_loss: 2.8097 - val_accuracy: 0.9730\n"
     ]
    }
   ],
   "source": [
    "model.compile(loss=\"binary_crossentropy\",\n",
    "    optimizer=keras.optimizers.RMSprop(learning_rate=1e-5),\n",
    "    metrics=[\"accuracy\"])\n",
    "\n",
    "callbacks = [\n",
    "    keras.callbacks.ModelCheckpoint(\n",
    "    filepath=\"fine_tuning.keras\",\n",
    "    save_best_only=True,\n",
    "    monitor=\"val_loss\")\n",
    "]\n",
    "\n",
    "history = model.fit(\n",
    "    train_dataset,\n",
    "    epochs=30,\n",
    "    validation_data=validation_dataset,\n",
    "    callbacks=callbacks)"
   ]
  },
  {
   "cell_type": "code",
   "execution_count": 30,
   "id": "dfbef3ed",
   "metadata": {
    "execution": {
     "iopub.execute_input": "2023-02-19T06:02:48.412555Z",
     "iopub.status.busy": "2023-02-19T06:02:48.412205Z",
     "iopub.status.idle": "2023-02-19T06:02:53.002763Z",
     "shell.execute_reply": "2023-02-19T06:02:53.000332Z"
    },
    "papermill": {
     "duration": 4.807049,
     "end_time": "2023-02-19T06:02:53.005195",
     "exception": false,
     "start_time": "2023-02-19T06:02:48.198146",
     "status": "completed"
    },
    "tags": []
   },
   "outputs": [
    {
     "name": "stdout",
     "output_type": "stream",
     "text": [
      "63/63 [==============================] - 4s 59ms/step - loss: 2.2653 - accuracy: 0.9800\n",
      "Test accuracy: 0.980\n"
     ]
    }
   ],
   "source": [
    "# test model\n",
    "model = keras.models.load_model(\"fine_tuning.keras\")\n",
    "test_loss, test_acc = model.evaluate(test_dataset)\n",
    "print(f\"Test accuracy: {test_acc:.3f}\")"
   ]
  }
 ],
 "metadata": {
  "kernelspec": {
   "display_name": "Python 3",
   "language": "python",
   "name": "python3"
  },
  "language_info": {
   "codemirror_mode": {
    "name": "ipython",
    "version": 3
   },
   "file_extension": ".py",
   "mimetype": "text/x-python",
   "name": "python",
   "nbconvert_exporter": "python",
   "pygments_lexer": "ipython3",
   "version": "3.7.12"
  },
  "papermill": {
   "default_parameters": {},
   "duration": 546.672482,
   "end_time": "2023-02-19T06:02:56.395824",
   "environment_variables": {},
   "exception": null,
   "input_path": "__notebook__.ipynb",
   "output_path": "__notebook__.ipynb",
   "parameters": {},
   "start_time": "2023-02-19T05:53:49.723342",
   "version": "2.3.4"
  }
 },
 "nbformat": 4,
 "nbformat_minor": 5
}
