{
 "cells": [
  {
   "cell_type": "markdown",
   "id": "16e087f8",
   "metadata": {
    "_cell_guid": "b1076dfc-b9ad-4769-8c92-a6c4dae69d19",
    "_uuid": "8f2839f25d086af736a60e9eeb907d3b93b6e0e5",
    "papermill": {
     "duration": 0.009341,
     "end_time": "2023-02-05T04:23:39.068613",
     "exception": false,
     "start_time": "2023-02-05T04:23:39.059272",
     "status": "completed"
    },
    "tags": []
   },
   "source": [
    "# Classifying Flower Species: A Deep Learning Approach With Keras\n",
    "- **Date**: 2/4/2022.\n",
    "- **Author**: [Minh T. Nguyen](https://www.kaggle.com/minhbtnguyen).\n",
    "- **Dataset**: [UCI Iris Species](https://www.kaggle.com/datasets/uciml/iris).\n",
    "- **Task**: Classification.\n",
    "- **Framework**: Keras, Sklearn."
   ]
  },
  {
   "cell_type": "markdown",
   "id": "291fdc7c",
   "metadata": {
    "papermill": {
     "duration": 0.008367,
     "end_time": "2023-02-05T04:23:39.086313",
     "exception": false,
     "start_time": "2023-02-05T04:23:39.077946",
     "status": "completed"
    },
    "tags": []
   },
   "source": [
    "![](https://www.embedded-robotics.com/wp-content/uploads/2022/01/Iris-Dataset-Classification.png)"
   ]
  },
  {
   "cell_type": "code",
   "execution_count": 1,
   "id": "1eba4d4a",
   "metadata": {
    "execution": {
     "iopub.execute_input": "2023-02-05T04:23:39.105766Z",
     "iopub.status.busy": "2023-02-05T04:23:39.105066Z",
     "iopub.status.idle": "2023-02-05T04:23:44.842773Z",
     "shell.execute_reply": "2023-02-05T04:23:44.842057Z"
    },
    "papermill": {
     "duration": 5.749968,
     "end_time": "2023-02-05T04:23:44.844997",
     "exception": false,
     "start_time": "2023-02-05T04:23:39.095029",
     "status": "completed"
    },
    "tags": []
   },
   "outputs": [],
   "source": [
    "# import library\n",
    "import numpy as np\n",
    "import pandas as pd\n",
    "import os\n",
    "import matplotlib.pyplot as plt\n",
    "import copy\n",
    "\n",
    "# import tensorflow\n",
    "from sklearn.model_selection import train_test_split\n",
    "from tensorflow import keras\n",
    "from tensorflow.keras import layers\n",
    "from tensorflow.keras.utils import to_categorical"
   ]
  },
  {
   "cell_type": "markdown",
   "id": "f5b37437",
   "metadata": {
    "papermill": {
     "duration": 0.008355,
     "end_time": "2023-02-05T04:23:44.862599",
     "exception": false,
     "start_time": "2023-02-05T04:23:44.854244",
     "status": "completed"
    },
    "tags": []
   },
   "source": [
    "# 1. Import Dataset"
   ]
  },
  {
   "cell_type": "code",
   "execution_count": 2,
   "id": "0f82aefc",
   "metadata": {
    "execution": {
     "iopub.execute_input": "2023-02-05T04:23:44.882121Z",
     "iopub.status.busy": "2023-02-05T04:23:44.881526Z",
     "iopub.status.idle": "2023-02-05T04:23:44.892718Z",
     "shell.execute_reply": "2023-02-05T04:23:44.891846Z"
    },
    "papermill": {
     "duration": 0.023511,
     "end_time": "2023-02-05T04:23:44.895429",
     "exception": false,
     "start_time": "2023-02-05T04:23:44.871918",
     "status": "completed"
    },
    "tags": []
   },
   "outputs": [
    {
     "name": "stdout",
     "output_type": "stream",
     "text": [
      "/kaggle/input/iris/Iris.csv\n",
      "/kaggle/input/iris/database.sqlite\n"
     ]
    }
   ],
   "source": [
    "# connect with Kaggle directory\n",
    "for dirname, _, filenames in os.walk('/kaggle/input'):\n",
    "    for filename in filenames:\n",
    "        print(os.path.join(dirname, filename))"
   ]
  },
  {
   "cell_type": "code",
   "execution_count": 3,
   "id": "499f9418",
   "metadata": {
    "execution": {
     "iopub.execute_input": "2023-02-05T04:23:44.915659Z",
     "iopub.status.busy": "2023-02-05T04:23:44.915064Z",
     "iopub.status.idle": "2023-02-05T04:23:44.943691Z",
     "shell.execute_reply": "2023-02-05T04:23:44.942792Z"
    },
    "papermill": {
     "duration": 0.040413,
     "end_time": "2023-02-05T04:23:44.945490",
     "exception": false,
     "start_time": "2023-02-05T04:23:44.905077",
     "status": "completed"
    },
    "tags": []
   },
   "outputs": [
    {
     "data": {
      "text/html": [
       "<div>\n",
       "<style scoped>\n",
       "    .dataframe tbody tr th:only-of-type {\n",
       "        vertical-align: middle;\n",
       "    }\n",
       "\n",
       "    .dataframe tbody tr th {\n",
       "        vertical-align: top;\n",
       "    }\n",
       "\n",
       "    .dataframe thead th {\n",
       "        text-align: right;\n",
       "    }\n",
       "</style>\n",
       "<table border=\"1\" class=\"dataframe\">\n",
       "  <thead>\n",
       "    <tr style=\"text-align: right;\">\n",
       "      <th></th>\n",
       "      <th>Id</th>\n",
       "      <th>SepalLengthCm</th>\n",
       "      <th>SepalWidthCm</th>\n",
       "      <th>PetalLengthCm</th>\n",
       "      <th>PetalWidthCm</th>\n",
       "      <th>Species</th>\n",
       "    </tr>\n",
       "  </thead>\n",
       "  <tbody>\n",
       "    <tr>\n",
       "      <th>0</th>\n",
       "      <td>1</td>\n",
       "      <td>5.1</td>\n",
       "      <td>3.5</td>\n",
       "      <td>1.4</td>\n",
       "      <td>0.2</td>\n",
       "      <td>Iris-setosa</td>\n",
       "    </tr>\n",
       "    <tr>\n",
       "      <th>1</th>\n",
       "      <td>2</td>\n",
       "      <td>4.9</td>\n",
       "      <td>3.0</td>\n",
       "      <td>1.4</td>\n",
       "      <td>0.2</td>\n",
       "      <td>Iris-setosa</td>\n",
       "    </tr>\n",
       "    <tr>\n",
       "      <th>2</th>\n",
       "      <td>3</td>\n",
       "      <td>4.7</td>\n",
       "      <td>3.2</td>\n",
       "      <td>1.3</td>\n",
       "      <td>0.2</td>\n",
       "      <td>Iris-setosa</td>\n",
       "    </tr>\n",
       "    <tr>\n",
       "      <th>3</th>\n",
       "      <td>4</td>\n",
       "      <td>4.6</td>\n",
       "      <td>3.1</td>\n",
       "      <td>1.5</td>\n",
       "      <td>0.2</td>\n",
       "      <td>Iris-setosa</td>\n",
       "    </tr>\n",
       "    <tr>\n",
       "      <th>4</th>\n",
       "      <td>5</td>\n",
       "      <td>5.0</td>\n",
       "      <td>3.6</td>\n",
       "      <td>1.4</td>\n",
       "      <td>0.2</td>\n",
       "      <td>Iris-setosa</td>\n",
       "    </tr>\n",
       "  </tbody>\n",
       "</table>\n",
       "</div>"
      ],
      "text/plain": [
       "   Id  SepalLengthCm  SepalWidthCm  PetalLengthCm  PetalWidthCm      Species\n",
       "0   1            5.1           3.5            1.4           0.2  Iris-setosa\n",
       "1   2            4.9           3.0            1.4           0.2  Iris-setosa\n",
       "2   3            4.7           3.2            1.3           0.2  Iris-setosa\n",
       "3   4            4.6           3.1            1.5           0.2  Iris-setosa\n",
       "4   5            5.0           3.6            1.4           0.2  Iris-setosa"
      ]
     },
     "execution_count": 3,
     "metadata": {},
     "output_type": "execute_result"
    }
   ],
   "source": [
    "# import dataset\n",
    "df = pd.read_csv(\"/kaggle/input/iris/Iris.csv\")\n",
    "df.head()"
   ]
  },
  {
   "cell_type": "code",
   "execution_count": 4,
   "id": "f7e1adfe",
   "metadata": {
    "execution": {
     "iopub.execute_input": "2023-02-05T04:23:44.965361Z",
     "iopub.status.busy": "2023-02-05T04:23:44.964759Z",
     "iopub.status.idle": "2023-02-05T04:23:44.969406Z",
     "shell.execute_reply": "2023-02-05T04:23:44.968548Z"
    },
    "papermill": {
     "duration": 0.016669,
     "end_time": "2023-02-05T04:23:44.971076",
     "exception": false,
     "start_time": "2023-02-05T04:23:44.954407",
     "status": "completed"
    },
    "tags": []
   },
   "outputs": [
    {
     "name": "stdout",
     "output_type": "stream",
     "text": [
      "(150, 6)\n"
     ]
    }
   ],
   "source": [
    "# check the shape of the dataset\n",
    "print(df.shape)"
   ]
  },
  {
   "cell_type": "markdown",
   "id": "5ddcd4bc",
   "metadata": {
    "papermill": {
     "duration": 0.008865,
     "end_time": "2023-02-05T04:23:44.988750",
     "exception": false,
     "start_time": "2023-02-05T04:23:44.979885",
     "status": "completed"
    },
    "tags": []
   },
   "source": [
    "**Note**: The shape tells use that there are 150 rows (samples) and 6 columns."
   ]
  },
  {
   "cell_type": "markdown",
   "id": "6f1e8121",
   "metadata": {
    "papermill": {
     "duration": 0.008541,
     "end_time": "2023-02-05T04:23:45.006007",
     "exception": false,
     "start_time": "2023-02-05T04:23:44.997466",
     "status": "completed"
    },
    "tags": []
   },
   "source": [
    "# 2. Data Visualization & Analysis"
   ]
  },
  {
   "cell_type": "markdown",
   "id": "13dd14a1",
   "metadata": {
    "papermill": {
     "duration": 0.008396,
     "end_time": "2023-02-05T04:23:45.022987",
     "exception": false,
     "start_time": "2023-02-05T04:23:45.014591",
     "status": "completed"
    },
    "tags": []
   },
   "source": [
    "**Note**: Shape of the normal distribution (Gaussian distribution)\n",
    "\n",
    "![](https://cdn.scribbr.com/wp-content/uploads/2020/10/standard-normal-distribution-1024x633.png)"
   ]
  },
  {
   "cell_type": "markdown",
   "id": "891c8b5e",
   "metadata": {
    "papermill": {
     "duration": 0.008457,
     "end_time": "2023-02-05T04:23:45.040013",
     "exception": false,
     "start_time": "2023-02-05T04:23:45.031556",
     "status": "completed"
    },
    "tags": []
   },
   "source": [
    "**Note**: Let's plot the features (columns) of the dataset and see how they shape compared to the Gaussian distribution."
   ]
  },
  {
   "cell_type": "code",
   "execution_count": 5,
   "id": "d1fcd8d9",
   "metadata": {
    "execution": {
     "iopub.execute_input": "2023-02-05T04:23:45.059376Z",
     "iopub.status.busy": "2023-02-05T04:23:45.058807Z",
     "iopub.status.idle": "2023-02-05T04:23:45.298097Z",
     "shell.execute_reply": "2023-02-05T04:23:45.297077Z"
    },
    "papermill": {
     "duration": 0.250938,
     "end_time": "2023-02-05T04:23:45.299976",
     "exception": false,
     "start_time": "2023-02-05T04:23:45.049038",
     "status": "completed"
    },
    "tags": []
   },
   "outputs": [
    {
     "data": {
      "image/png": "[encoded data removed]",
      "text/plain": [
       "<Figure size 432x288 with 1 Axes>"
      ]
     },
     "metadata": {
      "needs_background": "light"
     },
     "output_type": "display_data"
    }
   ],
   "source": [
    "# plot the distribution for all 4 columns\n",
    "plt.title(\"Features Distribution\")\n",
    "df['SepalLengthCm'].plot(kind='kde')\n",
    "df['SepalWidthCm'].plot(kind='kde')\n",
    "df['PetalLengthCm'].plot(kind='kde')\n",
    "df['PetalWidthCm'].plot(kind='kde')\n",
    "plt.legend()\n",
    "plt.show()"
   ]
  },
  {
   "cell_type": "markdown",
   "id": "30aadc99",
   "metadata": {
    "papermill": {
     "duration": 0.009016,
     "end_time": "2023-02-05T04:23:45.318311",
     "exception": false,
     "start_time": "2023-02-05T04:23:45.309295",
     "status": "completed"
    },
    "tags": []
   },
   "source": [
    "**Note**: We can see that all 4 features \"behaves\" similar to the Gaussian Distribution with different mean and standard deviation. Although UCI claims that Iris Dataset is a real dataset, this plot add an additional confirmation as most of the dataset has Gaussian distribution. The data points near the mean are more frequent in occurrent that the data far from the mean.\n",
    "\n",
    "*[Reference](https://www.investopedia.com/terms/n/normaldistribution.asp#:~:text=Normal%20distribution%2C%20also%20known%20as,as%20a%20%22bell%20curve%22.).*"
   ]
  },
  {
   "cell_type": "markdown",
   "id": "19283ece",
   "metadata": {
    "papermill": {
     "duration": 0.009139,
     "end_time": "2023-02-05T04:23:45.336637",
     "exception": false,
     "start_time": "2023-02-05T04:23:45.327498",
     "status": "completed"
    },
    "tags": []
   },
   "source": [
    "# 3. Data Processing\n",
    "**Note**: There are ways to process raw data that suitable for types of data and how they are structure such as check NaN, feature engineering, normalization, data imputation,... However, for this dataset, I will do the following steps: \n",
    "- Check NaN.\n",
    "- Normalize the dataset\n",
    "- Split it into training and testing set."
   ]
  },
  {
   "cell_type": "markdown",
   "id": "7481018d",
   "metadata": {
    "papermill": {
     "duration": 0.009175,
     "end_time": "2023-02-05T04:23:45.355337",
     "exception": false,
     "start_time": "2023-02-05T04:23:45.346162",
     "status": "completed"
    },
    "tags": []
   },
   "source": [
    "## 3.1. Check Not-a-Number (NaN) Data"
   ]
  },
  {
   "cell_type": "code",
   "execution_count": 6,
   "id": "f998428e",
   "metadata": {
    "execution": {
     "iopub.execute_input": "2023-02-05T04:23:45.375755Z",
     "iopub.status.busy": "2023-02-05T04:23:45.375406Z",
     "iopub.status.idle": "2023-02-05T04:23:45.380788Z",
     "shell.execute_reply": "2023-02-05T04:23:45.379704Z"
    },
    "papermill": {
     "duration": 0.018001,
     "end_time": "2023-02-05T04:23:45.382705",
     "exception": false,
     "start_time": "2023-02-05T04:23:45.364704",
     "status": "completed"
    },
    "tags": []
   },
   "outputs": [
    {
     "name": "stdout",
     "output_type": "stream",
     "text": [
      "False\n"
     ]
    }
   ],
   "source": [
    "# Examine and replace missing values \n",
    "print(df.isnull().values.any())"
   ]
  },
  {
   "cell_type": "markdown",
   "id": "6d03a2da",
   "metadata": {
    "papermill": {
     "duration": 0.009187,
     "end_time": "2023-02-05T04:23:45.401263",
     "exception": false,
     "start_time": "2023-02-05T04:23:45.392076",
     "status": "completed"
    },
    "tags": []
   },
   "source": [
    "## 3.2. Normalize Dataset\n",
    "- Convert the label from text-based to number-based.\n",
    "- Split the data in to input features (X) and output label (y).\n",
    "- As Id is just an column for identification, we will not include it in the input features (X)."
   ]
  },
  {
   "cell_type": "code",
   "execution_count": 7,
   "id": "7d8c25ca",
   "metadata": {
    "execution": {
     "iopub.execute_input": "2023-02-05T04:23:45.421551Z",
     "iopub.status.busy": "2023-02-05T04:23:45.421248Z",
     "iopub.status.idle": "2023-02-05T04:23:45.425883Z",
     "shell.execute_reply": "2023-02-05T04:23:45.425207Z"
    },
    "papermill": {
     "duration": 0.017214,
     "end_time": "2023-02-05T04:23:45.427803",
     "exception": false,
     "start_time": "2023-02-05T04:23:45.410589",
     "status": "completed"
    },
    "tags": []
   },
   "outputs": [
    {
     "name": "stdout",
     "output_type": "stream",
     "text": [
      "['Iris-setosa' 'Iris-versicolor' 'Iris-virginica']\n"
     ]
    }
   ],
   "source": [
    "# check unique labels\n",
    "print(df[\"Species\"].unique())"
   ]
  },
  {
   "cell_type": "code",
   "execution_count": 8,
   "id": "b84feb04",
   "metadata": {
    "execution": {
     "iopub.execute_input": "2023-02-05T04:23:45.447874Z",
     "iopub.status.busy": "2023-02-05T04:23:45.447495Z",
     "iopub.status.idle": "2023-02-05T04:23:45.452853Z",
     "shell.execute_reply": "2023-02-05T04:23:45.452018Z"
    },
    "papermill": {
     "duration": 0.017306,
     "end_time": "2023-02-05T04:23:45.454485",
     "exception": false,
     "start_time": "2023-02-05T04:23:45.437179",
     "status": "completed"
    },
    "tags": []
   },
   "outputs": [],
   "source": [
    "# convert text-based to number-base label for output labels\n",
    "y = []\n",
    "\n",
    "for species in df[\"Species\"]:\n",
    "    if species == \"Iris-setosa\":\n",
    "        y.append(0)\n",
    "    elif species == \"Iris-versicolor\":\n",
    "        y.append(1)\n",
    "    else:\n",
    "        y.append(2)"
   ]
  },
  {
   "cell_type": "code",
   "execution_count": 9,
   "id": "096f1453",
   "metadata": {
    "execution": {
     "iopub.execute_input": "2023-02-05T04:23:45.474019Z",
     "iopub.status.busy": "2023-02-05T04:23:45.473678Z",
     "iopub.status.idle": "2023-02-05T04:23:45.479385Z",
     "shell.execute_reply": "2023-02-05T04:23:45.478496Z"
    },
    "papermill": {
     "duration": 0.018436,
     "end_time": "2023-02-05T04:23:45.481948",
     "exception": false,
     "start_time": "2023-02-05T04:23:45.463512",
     "status": "completed"
    },
    "tags": []
   },
   "outputs": [
    {
     "name": "stdout",
     "output_type": "stream",
     "text": [
      "(150, 4)\n"
     ]
    }
   ],
   "source": [
    "# get input features X \n",
    "X = df[list(df.columns[1:-1])]\n",
    "print(X.shape)"
   ]
  },
  {
   "cell_type": "code",
   "execution_count": 10,
   "id": "261ec38c",
   "metadata": {
    "execution": {
     "iopub.execute_input": "2023-02-05T04:23:45.502621Z",
     "iopub.status.busy": "2023-02-05T04:23:45.502309Z",
     "iopub.status.idle": "2023-02-05T04:23:45.507378Z",
     "shell.execute_reply": "2023-02-05T04:23:45.506789Z"
    },
    "papermill": {
     "duration": 0.016951,
     "end_time": "2023-02-05T04:23:45.509011",
     "exception": false,
     "start_time": "2023-02-05T04:23:45.492060",
     "status": "completed"
    },
    "tags": []
   },
   "outputs": [],
   "source": [
    "# partition into training/test/validation \n",
    "X_train, X_test, y_train, y_test = train_test_split(X, y, test_size=0.3, random_state=0)"
   ]
  },
  {
   "cell_type": "code",
   "execution_count": 11,
   "id": "23fbbcaa",
   "metadata": {
    "execution": {
     "iopub.execute_input": "2023-02-05T04:23:45.528848Z",
     "iopub.status.busy": "2023-02-05T04:23:45.528578Z",
     "iopub.status.idle": "2023-02-05T04:23:45.532338Z",
     "shell.execute_reply": "2023-02-05T04:23:45.531787Z"
    },
    "papermill": {
     "duration": 0.015537,
     "end_time": "2023-02-05T04:23:45.533833",
     "exception": false,
     "start_time": "2023-02-05T04:23:45.518296",
     "status": "completed"
    },
    "tags": []
   },
   "outputs": [],
   "source": [
    "# convert each label to one-hot-encoder\n",
    "y_train = to_categorical(y_train)\n",
    "y_test = to_categorical(y_test)"
   ]
  },
  {
   "cell_type": "code",
   "execution_count": 12,
   "id": "6295ceb8",
   "metadata": {
    "execution": {
     "iopub.execute_input": "2023-02-05T04:23:45.554667Z",
     "iopub.status.busy": "2023-02-05T04:23:45.553576Z",
     "iopub.status.idle": "2023-02-05T04:23:45.558735Z",
     "shell.execute_reply": "2023-02-05T04:23:45.557806Z"
    },
    "papermill": {
     "duration": 0.017517,
     "end_time": "2023-02-05T04:23:45.560524",
     "exception": false,
     "start_time": "2023-02-05T04:23:45.543007",
     "status": "completed"
    },
    "tags": []
   },
   "outputs": [
    {
     "name": "stdout",
     "output_type": "stream",
     "text": [
      "[0. 1. 0.]\n"
     ]
    }
   ],
   "source": [
    "# [0 1 0] == ['Iris-setosa' 'Iris-versicolor' 'Iris-virginica'], meaning the label is 'Iris-versicolor'\n",
    "print(y_train[0])"
   ]
  },
  {
   "cell_type": "code",
   "execution_count": 13,
   "id": "625231ef",
   "metadata": {
    "execution": {
     "iopub.execute_input": "2023-02-05T04:23:45.580927Z",
     "iopub.status.busy": "2023-02-05T04:23:45.580360Z",
     "iopub.status.idle": "2023-02-05T04:23:45.588169Z",
     "shell.execute_reply": "2023-02-05T04:23:45.587445Z"
    },
    "papermill": {
     "duration": 0.020028,
     "end_time": "2023-02-05T04:23:45.589955",
     "exception": false,
     "start_time": "2023-02-05T04:23:45.569927",
     "status": "completed"
    },
    "tags": []
   },
   "outputs": [],
   "source": [
    "# normalized training data\n",
    "mean = X_train.mean(axis=0)\n",
    "X_train -= mean\n",
    "std = X_train.std(axis=0)\n",
    "X_train /= std\n",
    "\n",
    "# normalized testing data\n",
    "X_test -= mean\n",
    "X_test /= std"
   ]
  },
  {
   "cell_type": "markdown",
   "id": "f6de62d4",
   "metadata": {
    "papermill": {
     "duration": 0.009222,
     "end_time": "2023-02-05T04:23:45.608645",
     "exception": false,
     "start_time": "2023-02-05T04:23:45.599423",
     "status": "completed"
    },
    "tags": []
   },
   "source": [
    "**Note**: that we normalize the test data based on the training data. We don't want to normalized the test data based on the training distribution as we want to test the model on the same distribution of what we train.\n"
   ]
  },
  {
   "cell_type": "code",
   "execution_count": 14,
   "id": "5944fa17",
   "metadata": {
    "execution": {
     "iopub.execute_input": "2023-02-05T04:23:45.630442Z",
     "iopub.status.busy": "2023-02-05T04:23:45.629755Z",
     "iopub.status.idle": "2023-02-05T04:23:45.634499Z",
     "shell.execute_reply": "2023-02-05T04:23:45.633363Z"
    },
    "papermill": {
     "duration": 0.017166,
     "end_time": "2023-02-05T04:23:45.636381",
     "exception": false,
     "start_time": "2023-02-05T04:23:45.619215",
     "status": "completed"
    },
    "tags": []
   },
   "outputs": [
    {
     "name": "stdout",
     "output_type": "stream",
     "text": [
      "(105, 4)\n",
      "(105, 3)\n"
     ]
    }
   ],
   "source": [
    "# check shape of training data\n",
    "print(X_train.shape)\n",
    "print(y_train.shape)"
   ]
  },
  {
   "cell_type": "code",
   "execution_count": 15,
   "id": "860e787d",
   "metadata": {
    "execution": {
     "iopub.execute_input": "2023-02-05T04:23:45.656353Z",
     "iopub.status.busy": "2023-02-05T04:23:45.656020Z",
     "iopub.status.idle": "2023-02-05T04:23:45.661109Z",
     "shell.execute_reply": "2023-02-05T04:23:45.659865Z"
    },
    "papermill": {
     "duration": 0.01707,
     "end_time": "2023-02-05T04:23:45.662721",
     "exception": false,
     "start_time": "2023-02-05T04:23:45.645651",
     "status": "completed"
    },
    "tags": []
   },
   "outputs": [
    {
     "name": "stdout",
     "output_type": "stream",
     "text": [
      "(45, 4)\n",
      "(45, 3)\n"
     ]
    }
   ],
   "source": [
    "# check shape of testing data\n",
    "print(X_test.shape)\n",
    "print(y_test.shape)"
   ]
  },
  {
   "cell_type": "markdown",
   "id": "b236066b",
   "metadata": {
    "papermill": {
     "duration": 0.00888,
     "end_time": "2023-02-05T04:23:45.680829",
     "exception": false,
     "start_time": "2023-02-05T04:23:45.671949",
     "status": "completed"
    },
    "tags": []
   },
   "source": [
    "# 4. Modeling\n",
    "**Note**: As the dataset is a fairly small dataset, we only need a small model. We can use a larger model, however, it will be a waste of computing power and risk to the large model to learn unwanted patterns."
   ]
  },
  {
   "cell_type": "code",
   "execution_count": 16,
   "id": "f60bc7c8",
   "metadata": {
    "execution": {
     "iopub.execute_input": "2023-02-05T04:23:45.700485Z",
     "iopub.status.busy": "2023-02-05T04:23:45.700203Z",
     "iopub.status.idle": "2023-02-05T04:23:45.705922Z",
     "shell.execute_reply": "2023-02-05T04:23:45.704950Z"
    },
    "papermill": {
     "duration": 0.017557,
     "end_time": "2023-02-05T04:23:45.707596",
     "exception": false,
     "start_time": "2023-02-05T04:23:45.690039",
     "status": "completed"
    },
    "tags": []
   },
   "outputs": [],
   "source": [
    "def build_model():\n",
    "    \"\"\"Build a deep learning model with 3 layers\n",
    "    while initialize optimizer, loss function, and metrics\n",
    "    \"\"\"\n",
    "    # contruct model\n",
    "    model = keras.Sequential([\n",
    "        layers.Dense(32, activation=\"relu\"),\n",
    "        layers.Dense(32, activation=\"relu\"),\n",
    "        layers.Dense(3, activation=\"sigmoid\"),\n",
    "    ])\n",
    "    \n",
    "    # initialize optimizer, loss function, and performance metrics\n",
    "    model.compile(optimizer=\"rmsprop\",\n",
    "                  loss=\"categorical_crossentropy\",\n",
    "                  metrics=[\"accuracy\"])\n",
    "    return model"
   ]
  },
  {
   "cell_type": "markdown",
   "id": "c1290a81",
   "metadata": {
    "papermill": {
     "duration": 0.008943,
     "end_time": "2023-02-05T04:23:45.725737",
     "exception": false,
     "start_time": "2023-02-05T04:23:45.716794",
     "status": "completed"
    },
    "tags": []
   },
   "source": [
    "# 5. K-Fold Validation\n",
    "**Note**: Right now, we don't know how well is our model's structure as well as the number of epochs to train (if we train the model too much, then the model will overfit!). For the larger dataset, we can simply take a portion of the traininig dataset as validation dataset and check the performance prior to training the entire training data. However, since the dataset is small, K-Fold validation will be a better choice. The image below showed how K-Fold validation works."
   ]
  },
  {
   "cell_type": "markdown",
   "id": "c63c328a",
   "metadata": {
    "papermill": {
     "duration": 0.008955,
     "end_time": "2023-02-05T04:23:45.743829",
     "exception": false,
     "start_time": "2023-02-05T04:23:45.734874",
     "status": "completed"
    },
    "tags": []
   },
   "source": [
    "![](https://scikit-learn.org/stable/_images/grid_search_cross_validation.png)\n",
    "\n",
    "[Reference](https://scikit-learn.org/stable/modules/cross_validation.html)."
   ]
  },
  {
   "cell_type": "code",
   "execution_count": 17,
   "id": "c789f206",
   "metadata": {
    "execution": {
     "iopub.execute_input": "2023-02-05T04:23:45.763315Z",
     "iopub.status.busy": "2023-02-05T04:23:45.763080Z",
     "iopub.status.idle": "2023-02-05T04:24:49.330871Z",
     "shell.execute_reply": "2023-02-05T04:24:49.330022Z"
    },
    "papermill": {
     "duration": 63.579846,
     "end_time": "2023-02-05T04:24:49.332941",
     "exception": false,
     "start_time": "2023-02-05T04:23:45.753095",
     "status": "completed"
    },
    "tags": []
   },
   "outputs": [
    {
     "name": "stdout",
     "output_type": "stream",
     "text": [
      "Processing fold #0\n"
     ]
    },
    {
     "name": "stderr",
     "output_type": "stream",
     "text": [
      "2023-02-05 04:23:45.798132: I tensorflow/core/common_runtime/process_util.cc:146] Creating new thread pool with default inter op setting: 2. Tune using inter_op_parallelism_threads for best performance.\n",
      "2023-02-05 04:23:45.888758: I tensorflow/compiler/mlir/mlir_graph_optimization_pass.cc:185] None of the MLIR Optimization Passes are enabled (registered 2)\n"
     ]
    },
    {
     "name": "stdout",
     "output_type": "stream",
     "text": [
      "Processing fold #1\n",
      "Processing fold #2\n",
      "Processing fold #3\n"
     ]
    }
   ],
   "source": [
    "num_epochs = 500\n",
    "k = 4\n",
    "num_val_samples = len(X_train) // k\n",
    "all_accuracy_history = []\n",
    "\n",
    "for i in range(k):\n",
    "    print(f\"Processing fold #{i}\")\n",
    "    \n",
    "    # split 1 fold for validation\n",
    "    val_data = X_train[i * num_val_samples: (i + 1) * num_val_samples]\n",
    "    val_targets = y_train[i * num_val_samples: (i + 1) * num_val_samples]\n",
    "    \n",
    "    # get the rest of 3 folds for training\n",
    "    partial_train_data = np.concatenate(\n",
    "        [X_train[:i * num_val_samples],\n",
    "        X_train[(i + 1) * num_val_samples:]],\n",
    "        axis=0\n",
    "    )\n",
    "    partial_train_targets = np.concatenate(\n",
    "        [y_train[:i * num_val_samples],\n",
    "        y_train[(i + 1) * num_val_samples:]],\n",
    "        axis=0\n",
    "    )\n",
    "    \n",
    "    # build model\n",
    "    model = build_model()\n",
    "    \n",
    "    # train model on training dataset\n",
    "    history = model.fit(partial_train_data, \n",
    "                        partial_train_targets,\n",
    "                        epochs=num_epochs, \n",
    "                        batch_size=16,\n",
    "                        validation_data=(val_data, val_targets),\n",
    "                        verbose=0) # verbose == training without print out every training epoch\n",
    "    \n",
    "    # log model performance\n",
    "    accuracy_history = history.history[\"val_accuracy\"]\n",
    "    all_accuracy_history.append(accuracy_history)"
   ]
  },
  {
   "cell_type": "code",
   "execution_count": 18,
   "id": "04a0fab2",
   "metadata": {
    "execution": {
     "iopub.execute_input": "2023-02-05T04:24:49.354319Z",
     "iopub.status.busy": "2023-02-05T04:24:49.353967Z",
     "iopub.status.idle": "2023-02-05T04:24:49.359551Z",
     "shell.execute_reply": "2023-02-05T04:24:49.358532Z"
    },
    "papermill": {
     "duration": 0.018354,
     "end_time": "2023-02-05T04:24:49.361422",
     "exception": false,
     "start_time": "2023-02-05T04:24:49.343068",
     "status": "completed"
    },
    "tags": []
   },
   "outputs": [
    {
     "name": "stdout",
     "output_type": "stream",
     "text": [
      "(4, 500)\n"
     ]
    }
   ],
   "source": [
    "# check shape: 4 accuracies result (each fold) x 500 epochs\n",
    "print(np.array(all_accuracy_history).shape)"
   ]
  },
  {
   "cell_type": "markdown",
   "id": "fbe45ce1",
   "metadata": {
    "papermill": {
     "duration": 0.009489,
     "end_time": "2023-02-05T04:24:49.380686",
     "exception": false,
     "start_time": "2023-02-05T04:24:49.371197",
     "status": "completed"
    },
    "tags": []
   },
   "source": [
    "Note: Let's convert (4 x 500) matrix to a list of size 500 so we can plot later by calculate the average of 4 (folds) accuracy at each epoch"
   ]
  },
  {
   "cell_type": "code",
   "execution_count": 19,
   "id": "85f89ec8",
   "metadata": {
    "execution": {
     "iopub.execute_input": "2023-02-05T04:24:49.401513Z",
     "iopub.status.busy": "2023-02-05T04:24:49.401218Z",
     "iopub.status.idle": "2023-02-05T04:24:49.411346Z",
     "shell.execute_reply": "2023-02-05T04:24:49.410436Z"
    },
    "papermill": {
     "duration": 0.022519,
     "end_time": "2023-02-05T04:24:49.412959",
     "exception": false,
     "start_time": "2023-02-05T04:24:49.390440",
     "status": "completed"
    },
    "tags": []
   },
   "outputs": [],
   "source": [
    "average_accurary_history = []\n",
    "\n",
    "# go thru 500 epochs\n",
    "for i in range(num_epochs):\n",
    "    temp = []\n",
    "    \n",
    "    # go thru each fold and get the accuracy at that epoch\n",
    "    for x in all_accuracy_history:\n",
    "        temp.append(x[i])\n",
    "    \n",
    "    # calculate the mean accuracy for that epoch\n",
    "    temp = np.mean(temp)\n",
    "    \n",
    "    # store in the average accuracy log\n",
    "    average_accurary_history.append(temp)"
   ]
  },
  {
   "cell_type": "code",
   "execution_count": 20,
   "id": "f8a5fb50",
   "metadata": {
    "execution": {
     "iopub.execute_input": "2023-02-05T04:24:49.434188Z",
     "iopub.status.busy": "2023-02-05T04:24:49.433605Z",
     "iopub.status.idle": "2023-02-05T04:24:49.437837Z",
     "shell.execute_reply": "2023-02-05T04:24:49.436825Z"
    },
    "papermill": {
     "duration": 0.016919,
     "end_time": "2023-02-05T04:24:49.439638",
     "exception": false,
     "start_time": "2023-02-05T04:24:49.422719",
     "status": "completed"
    },
    "tags": []
   },
   "outputs": [
    {
     "name": "stdout",
     "output_type": "stream",
     "text": [
      "500\n"
     ]
    }
   ],
   "source": [
    "# check shape\n",
    "print(len(average_accurary_history))"
   ]
  },
  {
   "cell_type": "code",
   "execution_count": 21,
   "id": "98636eed",
   "metadata": {
    "execution": {
     "iopub.execute_input": "2023-02-05T04:24:49.460524Z",
     "iopub.status.busy": "2023-02-05T04:24:49.460172Z",
     "iopub.status.idle": "2023-02-05T04:24:49.594075Z",
     "shell.execute_reply": "2023-02-05T04:24:49.592940Z"
    },
    "papermill": {
     "duration": 0.146892,
     "end_time": "2023-02-05T04:24:49.596160",
     "exception": false,
     "start_time": "2023-02-05T04:24:49.449268",
     "status": "completed"
    },
    "tags": []
   },
   "outputs": [
    {
     "data": {
      "image/png": "[encoded data removed]",
      "text/plain": [
       "<Figure size 432x288 with 1 Axes>"
      ]
     },
     "metadata": {
      "needs_background": "light"
     },
     "output_type": "display_data"
    }
   ],
   "source": [
    "# plot validation score from history\n",
    "plt.plot(range(1, len(average_accurary_history) + 1), average_accurary_history)\n",
    "plt.xlabel(\"Epochs\")\n",
    "plt.ylabel(\"Validation MAE\")\n",
    "plt.show()"
   ]
  },
  {
   "cell_type": "markdown",
   "id": "4de2d258",
   "metadata": {
    "papermill": {
     "duration": 0.010087,
     "end_time": "2023-02-05T04:24:49.617008",
     "exception": false,
     "start_time": "2023-02-05T04:24:49.606921",
     "status": "completed"
    },
    "tags": []
   },
   "source": [
    "**Analysis**: Here we can see that the model stopped improving after ~250 epochs. So let's retrain the model on a full training set for 250 epochs. \n",
    "\n",
    "**Note**: The validation accuracy is pretty good (~95%), so we don't have to change the model's architecture."
   ]
  },
  {
   "cell_type": "markdown",
   "id": "60116310",
   "metadata": {
    "papermill": {
     "duration": 0.01005,
     "end_time": "2023-02-05T04:24:49.637264",
     "exception": false,
     "start_time": "2023-02-05T04:24:49.627214",
     "status": "completed"
    },
    "tags": []
   },
   "source": [
    "# 6. Train Model on Full Training Dataset"
   ]
  },
  {
   "cell_type": "code",
   "execution_count": 22,
   "id": "13f8ab6d",
   "metadata": {
    "execution": {
     "iopub.execute_input": "2023-02-05T04:24:49.659222Z",
     "iopub.status.busy": "2023-02-05T04:24:49.658864Z",
     "iopub.status.idle": "2023-02-05T04:24:51.664808Z",
     "shell.execute_reply": "2023-02-05T04:24:51.663937Z"
    },
    "papermill": {
     "duration": 2.019086,
     "end_time": "2023-02-05T04:24:51.666630",
     "exception": false,
     "start_time": "2023-02-05T04:24:49.647544",
     "status": "completed"
    },
    "tags": []
   },
   "outputs": [
    {
     "data": {
      "text/plain": [
       "<keras.callbacks.History at 0x7f042a487350>"
      ]
     },
     "execution_count": 22,
     "metadata": {},
     "output_type": "execute_result"
    }
   ],
   "source": [
    "# create model\n",
    "model = build_model()\n",
    "\n",
    "# retrain model on full dataset \n",
    "model.fit(X_train, \n",
    "          y_train,\n",
    "          epochs=250, \n",
    "          batch_size=16,\n",
    "          verbose=0)"
   ]
  },
  {
   "cell_type": "code",
   "execution_count": 23,
   "id": "f6c61ee8",
   "metadata": {
    "execution": {
     "iopub.execute_input": "2023-02-05T04:24:51.689011Z",
     "iopub.status.busy": "2023-02-05T04:24:51.688619Z",
     "iopub.status.idle": "2023-02-05T04:24:51.838843Z",
     "shell.execute_reply": "2023-02-05T04:24:51.837820Z"
    },
    "papermill": {
     "duration": 0.163515,
     "end_time": "2023-02-05T04:24:51.840697",
     "exception": false,
     "start_time": "2023-02-05T04:24:51.677182",
     "status": "completed"
    },
    "tags": []
   },
   "outputs": [
    {
     "name": "stdout",
     "output_type": "stream",
     "text": [
      "2/2 [==============================] - 0s 3ms/step - loss: 0.1397 - accuracy: 0.9778\n"
     ]
    }
   ],
   "source": [
    "# test on the testing dataset\n",
    "results = model.evaluate(X_test, y_test)"
   ]
  },
  {
   "cell_type": "markdown",
   "id": "b373fa03",
   "metadata": {
    "papermill": {
     "duration": 0.010151,
     "end_time": "2023-02-05T04:24:51.861309",
     "exception": false,
     "start_time": "2023-02-05T04:24:51.851158",
     "status": "completed"
    },
    "tags": []
   },
   "source": [
    "**Analysis**: We can see that the loss is low and the accuracy of the model is high in the test dataset. Because it is higher than the validation accuracy, the model is not overfit!"
   ]
  },
  {
   "cell_type": "markdown",
   "id": "0ef67047",
   "metadata": {
    "papermill": {
     "duration": 0.010191,
     "end_time": "2023-02-05T04:24:51.881977",
     "exception": false,
     "start_time": "2023-02-05T04:24:51.871786",
     "status": "completed"
    },
    "tags": []
   },
   "source": [
    "# 7. Compare With Random Class\n",
    "**Note**: What if you want to check how is our model perform compare to a random classifier?"
   ]
  },
  {
   "cell_type": "code",
   "execution_count": 24,
   "id": "dd85b250",
   "metadata": {
    "execution": {
     "iopub.execute_input": "2023-02-05T04:24:51.903977Z",
     "iopub.status.busy": "2023-02-05T04:24:51.903619Z",
     "iopub.status.idle": "2023-02-05T04:24:51.909504Z",
     "shell.execute_reply": "2023-02-05T04:24:51.908427Z"
    },
    "papermill": {
     "duration": 0.018915,
     "end_time": "2023-02-05T04:24:51.911235",
     "exception": false,
     "start_time": "2023-02-05T04:24:51.892320",
     "status": "completed"
    },
    "tags": []
   },
   "outputs": [
    {
     "name": "stdout",
     "output_type": "stream",
     "text": [
      "0.5703703703703704\n"
     ]
    }
   ],
   "source": [
    "# make a copy of label\n",
    "y_test_copy = copy.copy(y_test)\n",
    "\n",
    "# randomly shuffle it\n",
    "np.random.shuffle(y_test_copy)\n",
    "\n",
    "# check how many match we got after shuffle\n",
    "hits_array = np.array(y_test) == np.array(y_test_copy)\n",
    "\n",
    "# print out mean\n",
    "print(hits_array.mean())"
   ]
  },
  {
   "cell_type": "markdown",
   "id": "36ce084f",
   "metadata": {
    "papermill": {
     "duration": 0.01008,
     "end_time": "2023-02-05T04:24:51.931723",
     "exception": false,
     "start_time": "2023-02-05T04:24:51.921643",
     "status": "completed"
    },
    "tags": []
   },
   "source": [
    "Note: A random classifier is 56% accuracy only so our model perform way better!"
   ]
  },
  {
   "cell_type": "markdown",
   "id": "ab3d447e",
   "metadata": {
    "papermill": {
     "duration": 0.010069,
     "end_time": "2023-02-05T04:24:51.952206",
     "exception": false,
     "start_time": "2023-02-05T04:24:51.942137",
     "status": "completed"
    },
    "tags": []
   },
   "source": [
    "# 8. Model \"Deployment\" Test\n",
    "**Note**: What if you want to see how our model perform during a \"deployment\" process? Let's test it on a sample on the testing dataset"
   ]
  },
  {
   "cell_type": "code",
   "execution_count": 25,
   "id": "ce74cf79",
   "metadata": {
    "execution": {
     "iopub.execute_input": "2023-02-05T04:24:51.974421Z",
     "iopub.status.busy": "2023-02-05T04:24:51.974092Z",
     "iopub.status.idle": "2023-02-05T04:24:52.077849Z",
     "shell.execute_reply": "2023-02-05T04:24:52.076948Z"
    },
    "papermill": {
     "duration": 0.117568,
     "end_time": "2023-02-05T04:24:52.080149",
     "exception": false,
     "start_time": "2023-02-05T04:24:51.962581",
     "status": "completed"
    },
    "tags": []
   },
   "outputs": [],
   "source": [
    "# make prediction on all test dataset\n",
    "predictions = model.predict(X_test)"
   ]
  },
  {
   "cell_type": "code",
   "execution_count": 26,
   "id": "6c952c4d",
   "metadata": {
    "execution": {
     "iopub.execute_input": "2023-02-05T04:24:52.103213Z",
     "iopub.status.busy": "2023-02-05T04:24:52.102444Z",
     "iopub.status.idle": "2023-02-05T04:24:52.107473Z",
     "shell.execute_reply": "2023-02-05T04:24:52.106370Z"
    },
    "papermill": {
     "duration": 0.018874,
     "end_time": "2023-02-05T04:24:52.109568",
     "exception": false,
     "start_time": "2023-02-05T04:24:52.090694",
     "status": "completed"
    },
    "tags": []
   },
   "outputs": [
    {
     "name": "stdout",
     "output_type": "stream",
     "text": [
      "2\n",
      "2\n"
     ]
    }
   ],
   "source": [
    "print(np.argmax(predictions[0]))\n",
    "print(np.argmax(y_test[0]))"
   ]
  },
  {
   "cell_type": "markdown",
   "id": "86eb7929",
   "metadata": {
    "papermill": {
     "duration": 0.010133,
     "end_time": "2023-02-05T04:24:52.130325",
     "exception": false,
     "start_time": "2023-02-05T04:24:52.120192",
     "status": "completed"
    },
    "tags": []
   },
   "source": [
    "**Note**: The prediction and the label are matched!"
   ]
  },
  {
   "cell_type": "markdown",
   "id": "20042a6c",
   "metadata": {
    "papermill": {
     "duration": 0.009967,
     "end_time": "2023-02-05T04:24:52.150677",
     "exception": false,
     "start_time": "2023-02-05T04:24:52.140710",
     "status": "completed"
    },
    "tags": []
   },
   "source": [
    "![](https://images.unsplash.com/photo-1558256720-a8ceb13f335d?ixlib=rb-4.0.3&ixid=MnwxMjA3fDB8MHxwaG90by1wYWdlfHx8fGVufDB8fHx8&auto=format&fit=crop&w=1170&q=80)"
   ]
  }
 ],
 "metadata": {
  "kernelspec": {
   "display_name": "Python 3",
   "language": "python",
   "name": "python3"
  },
  "language_info": {
   "codemirror_mode": {
    "name": "ipython",
    "version": 3
   },
   "file_extension": ".py",
   "mimetype": "text/x-python",
   "name": "python",
   "nbconvert_exporter": "python",
   "pygments_lexer": "ipython3",
   "version": "3.7.12"
  },
  "papermill": {
   "default_parameters": {},
   "duration": 82.941798,
   "end_time": "2023-02-05T04:24:55.322795",
   "environment_variables": {},
   "exception": null,
   "input_path": "__notebook__.ipynb",
   "output_path": "__notebook__.ipynb",
   "parameters": {},
   "start_time": "2023-02-05T04:23:32.380997",
   "version": "2.3.4"
  }
 },
 "nbformat": 4,
 "nbformat_minor": 5
}
