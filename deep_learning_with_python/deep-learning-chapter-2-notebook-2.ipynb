{
 "cells": [
  {
   "cell_type": "markdown",
   "id": "3bbf9fb4",
   "metadata": {
    "_cell_guid": "b1076dfc-b9ad-4769-8c92-a6c4dae69d19",
    "_uuid": "8f2839f25d086af736a60e9eeb907d3b93b6e0e5",
    "papermill": {
     "duration": 0.007756,
     "end_time": "2023-01-29T19:48:50.279480",
     "exception": false,
     "start_time": "2023-01-29T19:48:50.271724",
     "status": "completed"
    },
    "tags": []
   },
   "source": [
    "# Chapter 2. The Mathematical Building Blocks of Neural Networks\n",
    "\n",
    "## 2.2. Data Represenations for Neural Networks"
   ]
  },
  {
   "cell_type": "markdown",
   "id": "68b0c3f5",
   "metadata": {
    "papermill": {
     "duration": 0.005791,
     "end_time": "2023-01-29T19:48:50.291399",
     "exception": false,
     "start_time": "2023-01-29T19:48:50.285608",
     "status": "completed"
    },
    "tags": []
   },
   "source": [
    "**Note**: Multi-dimentional numpy arrays are called tensor. Its a container for data. For example, matrix is a rank-2 tensors."
   ]
  },
  {
   "cell_type": "code",
   "execution_count": 1,
   "id": "f173a3dc",
   "metadata": {
    "execution": {
     "iopub.execute_input": "2023-01-29T19:48:50.305678Z",
     "iopub.status.busy": "2023-01-29T19:48:50.305057Z",
     "iopub.status.idle": "2023-01-29T19:48:57.419928Z",
     "shell.execute_reply": "2023-01-29T19:48:57.418571Z"
    },
    "papermill": {
     "duration": 7.125517,
     "end_time": "2023-01-29T19:48:57.422910",
     "exception": false,
     "start_time": "2023-01-29T19:48:50.297393",
     "status": "completed"
    },
    "tags": []
   },
   "outputs": [],
   "source": [
    "import numpy as np\n",
    "from tensorflow.keras.datasets import mnist\n",
    "import matplotlib.pyplot as plt"
   ]
  },
  {
   "cell_type": "markdown",
   "id": "3abd4835",
   "metadata": {
    "papermill": {
     "duration": 0.005843,
     "end_time": "2023-01-29T19:48:57.435157",
     "exception": false,
     "start_time": "2023-01-29T19:48:57.429314",
     "status": "completed"
    },
    "tags": []
   },
   "source": [
    "### Scalar (Rank-0 tensors)"
   ]
  },
  {
   "cell_type": "code",
   "execution_count": 2,
   "id": "7c0968d6",
   "metadata": {
    "execution": {
     "iopub.execute_input": "2023-01-29T19:48:57.450524Z",
     "iopub.status.busy": "2023-01-29T19:48:57.449844Z",
     "iopub.status.idle": "2023-01-29T19:48:57.456177Z",
     "shell.execute_reply": "2023-01-29T19:48:57.454822Z"
    },
    "papermill": {
     "duration": 0.018006,
     "end_time": "2023-01-29T19:48:57.460015",
     "exception": false,
     "start_time": "2023-01-29T19:48:57.442009",
     "status": "completed"
    },
    "tags": []
   },
   "outputs": [
    {
     "name": "stdout",
     "output_type": "stream",
     "text": [
      "12\n",
      "0\n"
     ]
    }
   ],
   "source": [
    "x = np.array(12)\n",
    "print(x)\n",
    "print(x.ndim)"
   ]
  },
  {
   "cell_type": "markdown",
   "id": "46711962",
   "metadata": {
    "papermill": {
     "duration": 0.005856,
     "end_time": "2023-01-29T19:48:57.473172",
     "exception": false,
     "start_time": "2023-01-29T19:48:57.467316",
     "status": "completed"
    },
    "tags": []
   },
   "source": [
    "### Vector (Rank-1 tensors)"
   ]
  },
  {
   "cell_type": "code",
   "execution_count": 3,
   "id": "e05a620b",
   "metadata": {
    "execution": {
     "iopub.execute_input": "2023-01-29T19:48:57.487465Z",
     "iopub.status.busy": "2023-01-29T19:48:57.487062Z",
     "iopub.status.idle": "2023-01-29T19:48:57.495367Z",
     "shell.execute_reply": "2023-01-29T19:48:57.493926Z"
    },
    "papermill": {
     "duration": 0.019465,
     "end_time": "2023-01-29T19:48:57.498815",
     "exception": false,
     "start_time": "2023-01-29T19:48:57.479350",
     "status": "completed"
    },
    "tags": []
   },
   "outputs": [
    {
     "name": "stdout",
     "output_type": "stream",
     "text": [
      "[1 2 3 4]\n",
      "1\n"
     ]
    }
   ],
   "source": [
    "x = np.array([1,2,3,4])\n",
    "print(x)\n",
    "print(x.ndim)"
   ]
  },
  {
   "cell_type": "markdown",
   "id": "65f8892f",
   "metadata": {
    "papermill": {
     "duration": 0.006233,
     "end_time": "2023-01-29T19:48:57.512972",
     "exception": false,
     "start_time": "2023-01-29T19:48:57.506739",
     "status": "completed"
    },
    "tags": []
   },
   "source": [
    "### Matrices (Rank-2 tensors)"
   ]
  },
  {
   "cell_type": "code",
   "execution_count": 4,
   "id": "0a708252",
   "metadata": {
    "execution": {
     "iopub.execute_input": "2023-01-29T19:48:57.528090Z",
     "iopub.status.busy": "2023-01-29T19:48:57.527657Z",
     "iopub.status.idle": "2023-01-29T19:48:57.534430Z",
     "shell.execute_reply": "2023-01-29T19:48:57.532827Z"
    },
    "papermill": {
     "duration": 0.018105,
     "end_time": "2023-01-29T19:48:57.537813",
     "exception": false,
     "start_time": "2023-01-29T19:48:57.519708",
     "status": "completed"
    },
    "tags": []
   },
   "outputs": [
    {
     "name": "stdout",
     "output_type": "stream",
     "text": [
      "[[1 2 3 4]\n",
      " [5 6 7 8]]\n",
      "2\n"
     ]
    }
   ],
   "source": [
    "x = np.array([\n",
    "    [1,2,3,4],\n",
    "    [5,6,7,8],\n",
    "])\n",
    "print(x)\n",
    "print(x.ndim)"
   ]
  },
  {
   "cell_type": "markdown",
   "id": "379d2214",
   "metadata": {
    "papermill": {
     "duration": 0.006033,
     "end_time": "2023-01-29T19:48:57.551342",
     "exception": false,
     "start_time": "2023-01-29T19:48:57.545309",
     "status": "completed"
    },
    "tags": []
   },
   "source": [
    "### Analyse MNIST Dataset"
   ]
  },
  {
   "cell_type": "code",
   "execution_count": 5,
   "id": "a4c96571",
   "metadata": {
    "execution": {
     "iopub.execute_input": "2023-01-29T19:48:57.565359Z",
     "iopub.status.busy": "2023-01-29T19:48:57.564949Z",
     "iopub.status.idle": "2023-01-29T19:48:59.449236Z",
     "shell.execute_reply": "2023-01-29T19:48:59.448046Z"
    },
    "papermill": {
     "duration": 1.894488,
     "end_time": "2023-01-29T19:48:59.451963",
     "exception": false,
     "start_time": "2023-01-29T19:48:57.557475",
     "status": "completed"
    },
    "tags": []
   },
   "outputs": [
    {
     "name": "stdout",
     "output_type": "stream",
     "text": [
      "Downloading data from https://storage.googleapis.com/tensorflow/tf-keras-datasets/mnist.npz\n",
      "11493376/11490434 [==============================] - 1s 0us/step\n",
      "11501568/11490434 [==============================] - 1s 0us/step\n"
     ]
    }
   ],
   "source": [
    "# load MNIST dataset\n",
    "(train_images, train_labels), (test_images, test_labels) = mnist.load_data()"
   ]
  },
  {
   "cell_type": "code",
   "execution_count": 6,
   "id": "37f0a0eb",
   "metadata": {
    "execution": {
     "iopub.execute_input": "2023-01-29T19:48:59.470268Z",
     "iopub.status.busy": "2023-01-29T19:48:59.469839Z",
     "iopub.status.idle": "2023-01-29T19:48:59.476115Z",
     "shell.execute_reply": "2023-01-29T19:48:59.475020Z"
    },
    "papermill": {
     "duration": 0.01846,
     "end_time": "2023-01-29T19:48:59.479286",
     "exception": false,
     "start_time": "2023-01-29T19:48:59.460826",
     "status": "completed"
    },
    "tags": []
   },
   "outputs": [
    {
     "name": "stdout",
     "output_type": "stream",
     "text": [
      "3\n",
      "(60000, 28, 28)\n",
      "uint8\n"
     ]
    }
   ],
   "source": [
    "# check dimension, shape, datatype\n",
    "print(train_images.ndim)\n",
    "print(train_images.shape)\n",
    "print(train_images.dtype)"
   ]
  },
  {
   "cell_type": "code",
   "execution_count": 7,
   "id": "e2808afb",
   "metadata": {
    "execution": {
     "iopub.execute_input": "2023-01-29T19:48:59.497663Z",
     "iopub.status.busy": "2023-01-29T19:48:59.497246Z",
     "iopub.status.idle": "2023-01-29T19:48:59.724350Z",
     "shell.execute_reply": "2023-01-29T19:48:59.723424Z"
    },
    "papermill": {
     "duration": 0.238652,
     "end_time": "2023-01-29T19:48:59.726589",
     "exception": false,
     "start_time": "2023-01-29T19:48:59.487937",
     "status": "completed"
    },
    "tags": []
   },
   "outputs": [
    {
     "data": {
      "image/png": "[encoded data removed]",
      "text/plain": [
       "<Figure size 432x288 with 1 Axes>"
      ]
     },
     "metadata": {
      "needs_background": "light"
     },
     "output_type": "display_data"
    }
   ],
   "source": [
    "# show the image\n",
    "digit = train_images[3]\n",
    "plt.imshow(digit, cmap=plt.cm.binary)\n",
    "plt.show()"
   ]
  },
  {
   "cell_type": "markdown",
   "id": "3902e4fe",
   "metadata": {
    "papermill": {
     "duration": 0.007536,
     "end_time": "2023-01-29T19:48:59.742093",
     "exception": false,
     "start_time": "2023-01-29T19:48:59.734557",
     "status": "completed"
    },
    "tags": []
   },
   "source": [
    "### Manipulating tensors in Numpy"
   ]
  },
  {
   "cell_type": "code",
   "execution_count": 8,
   "id": "79cb487f",
   "metadata": {
    "execution": {
     "iopub.execute_input": "2023-01-29T19:48:59.759984Z",
     "iopub.status.busy": "2023-01-29T19:48:59.759272Z",
     "iopub.status.idle": "2023-01-29T19:48:59.766339Z",
     "shell.execute_reply": "2023-01-29T19:48:59.765008Z"
    },
    "papermill": {
     "duration": 0.018963,
     "end_time": "2023-01-29T19:48:59.768837",
     "exception": false,
     "start_time": "2023-01-29T19:48:59.749874",
     "status": "completed"
    },
    "tags": []
   },
   "outputs": [
    {
     "name": "stdout",
     "output_type": "stream",
     "text": [
      "(90, 28, 28)\n",
      "(90, 28, 28)\n",
      "(90, 28, 28)\n"
     ]
    }
   ],
   "source": [
    "# collect a group of image\n",
    "my_slice = train_images[10:100]\n",
    "print(my_slice.shape)\n",
    "\n",
    "# similar represenation\n",
    "my_slice = train_images[10:100, :, :]\n",
    "print(my_slice.shape)\n",
    "\n",
    "# similar representation\n",
    "my_slice = train_images[10:100, 0:28, 0:28]\n",
    "print(my_slice.shape)"
   ]
  },
  {
   "cell_type": "markdown",
   "id": "d6ab3ba1",
   "metadata": {
    "papermill": {
     "duration": 0.007715,
     "end_time": "2023-01-29T19:48:59.784841",
     "exception": false,
     "start_time": "2023-01-29T19:48:59.777126",
     "status": "completed"
    },
    "tags": []
   },
   "source": [
    "### The notion of data batches\n",
    "**Note**: the first axis is called batch dimension or batch axis"
   ]
  },
  {
   "cell_type": "code",
   "execution_count": 9,
   "id": "61009b64",
   "metadata": {
    "execution": {
     "iopub.execute_input": "2023-01-29T19:48:59.803903Z",
     "iopub.status.busy": "2023-01-29T19:48:59.802681Z",
     "iopub.status.idle": "2023-01-29T19:48:59.810348Z",
     "shell.execute_reply": "2023-01-29T19:48:59.808842Z"
    },
    "papermill": {
     "duration": 0.019863,
     "end_time": "2023-01-29T19:48:59.813135",
     "exception": false,
     "start_time": "2023-01-29T19:48:59.793272",
     "status": "completed"
    },
    "tags": []
   },
   "outputs": [
    {
     "name": "stdout",
     "output_type": "stream",
     "text": [
      "(128, 28, 28)\n"
     ]
    }
   ],
   "source": [
    "n = 3\n",
    "batch = train_images[128 * n:128 * (n + 1)]\n",
    "print(batch.shape)"
   ]
  },
  {
   "cell_type": "markdown",
   "id": "fd058aac",
   "metadata": {
    "papermill": {
     "duration": 0.008096,
     "end_time": "2023-01-29T19:48:59.829275",
     "exception": false,
     "start_time": "2023-01-29T19:48:59.821179",
     "status": "completed"
    },
    "tags": []
   },
   "source": [
    "### Other types of data tensors\n",
    "- Vector data is a Rank-2 tensor. Ex: (samples, features).\n",
    "- Timeseries data or sequence data is a Rank-3 tensor. Ex: (samples, timesteps, features).\n",
    "- Images is a Rank-4 tensor. Ex: (samples, height, width, channels).\n",
    "- Video is a Rank-5 tensor. Ex: (samples, frames, height, width, channels)."
   ]
  },
  {
   "cell_type": "markdown",
   "id": "053820fc",
   "metadata": {
    "papermill": {
     "duration": 0.00744,
     "end_time": "2023-01-29T19:48:59.844605",
     "exception": false,
     "start_time": "2023-01-29T19:48:59.837165",
     "status": "completed"
    },
    "tags": []
   },
   "source": [
    "### Tensor Operators"
   ]
  },
  {
   "cell_type": "markdown",
   "id": "dde6e519",
   "metadata": {
    "papermill": {
     "duration": 0.007492,
     "end_time": "2023-01-29T19:48:59.860142",
     "exception": false,
     "start_time": "2023-01-29T19:48:59.852650",
     "status": "completed"
    },
    "tags": []
   },
   "source": [
    "This is how activation function works\n",
    "\n",
    "```python\n",
    "# keras\n",
    "keras.layers.Dense(512, activation=\"relu\")\n",
    "\n",
    "# math\n",
    "output = relu(dot(input, W) + b)\n",
    "\n",
    "# python\n",
    "def naive_relu(x):\n",
    "    assert len(x.shape) == 2\n",
    "    x = x.copy()\n",
    "    for i in range(x.shape[0]):\n",
    "        for j in range(x.shape[1]):\n",
    "            x[i, j] = max(x[i, j], 0)\n",
    "    return x\n",
    "```"
   ]
  },
  {
   "cell_type": "markdown",
   "id": "de74dea2",
   "metadata": {
    "papermill": {
     "duration": 0.008069,
     "end_time": "2023-01-29T19:48:59.876543",
     "exception": false,
     "start_time": "2023-01-29T19:48:59.868474",
     "status": "completed"
    },
    "tags": []
   },
   "source": [
    "### Broadcasting"
   ]
  },
  {
   "cell_type": "code",
   "execution_count": 10,
   "id": "ee32c0eb",
   "metadata": {
    "execution": {
     "iopub.execute_input": "2023-01-29T19:48:59.894636Z",
     "iopub.status.busy": "2023-01-29T19:48:59.893954Z",
     "iopub.status.idle": "2023-01-29T19:48:59.900520Z",
     "shell.execute_reply": "2023-01-29T19:48:59.899006Z"
    },
    "papermill": {
     "duration": 0.018852,
     "end_time": "2023-01-29T19:48:59.903366",
     "exception": false,
     "start_time": "2023-01-29T19:48:59.884514",
     "status": "completed"
    },
    "tags": []
   },
   "outputs": [
    {
     "name": "stdout",
     "output_type": "stream",
     "text": [
      "(2, 4)\n",
      "(10,)\n"
     ]
    }
   ],
   "source": [
    "X = np.random.random((32, 10))\n",
    "y = np.random.random((10,))\n",
    "print(x.shape)\n",
    "print(y.shape)"
   ]
  },
  {
   "cell_type": "code",
   "execution_count": 11,
   "id": "f388555c",
   "metadata": {
    "execution": {
     "iopub.execute_input": "2023-01-29T19:48:59.921456Z",
     "iopub.status.busy": "2023-01-29T19:48:59.921044Z",
     "iopub.status.idle": "2023-01-29T19:48:59.926906Z",
     "shell.execute_reply": "2023-01-29T19:48:59.925608Z"
    },
    "papermill": {
     "duration": 0.017969,
     "end_time": "2023-01-29T19:48:59.929429",
     "exception": false,
     "start_time": "2023-01-29T19:48:59.911460",
     "status": "completed"
    },
    "tags": []
   },
   "outputs": [
    {
     "name": "stdout",
     "output_type": "stream",
     "text": [
      "(1, 10)\n"
     ]
    }
   ],
   "source": [
    "y = np.expand_dims(y, axis=0)\n",
    "print(y.shape)"
   ]
  },
  {
   "cell_type": "code",
   "execution_count": 12,
   "id": "00b7776c",
   "metadata": {
    "execution": {
     "iopub.execute_input": "2023-01-29T19:48:59.948244Z",
     "iopub.status.busy": "2023-01-29T19:48:59.947441Z",
     "iopub.status.idle": "2023-01-29T19:48:59.954242Z",
     "shell.execute_reply": "2023-01-29T19:48:59.952372Z"
    },
    "papermill": {
     "duration": 0.019013,
     "end_time": "2023-01-29T19:48:59.956833",
     "exception": false,
     "start_time": "2023-01-29T19:48:59.937820",
     "status": "completed"
    },
    "tags": []
   },
   "outputs": [
    {
     "name": "stdout",
     "output_type": "stream",
     "text": [
      "(32, 10)\n"
     ]
    }
   ],
   "source": [
    "Y = np.concatenate([y] * 32, axis=0) \n",
    "print(Y.shape)"
   ]
  },
  {
   "cell_type": "markdown",
   "id": "37686d01",
   "metadata": {
    "papermill": {
     "duration": 0.007849,
     "end_time": "2023-01-29T19:48:59.972940",
     "exception": false,
     "start_time": "2023-01-29T19:48:59.965091",
     "status": "completed"
    },
    "tags": []
   },
   "source": [
    "### So what is Deep Learning?\n",
    "- Uncrumpling a paper balls: finding neat represenations for complex, highly folded data manifods in high-dim spaces.\n",
    "- Deep Learning is good as it takes the approach to incrementally decomposing a complicated geometric transformation into a long chain of elementary ones."
   ]
  },
  {
   "cell_type": "markdown",
   "id": "23560fec",
   "metadata": {
    "papermill": {
     "duration": 0.007732,
     "end_time": "2023-01-29T19:48:59.988911",
     "exception": false,
     "start_time": "2023-01-29T19:48:59.981179",
     "status": "completed"
    },
    "tags": []
   },
   "source": [
    "### Engine of Neural Networks: Gradient-based Optimization\n",
    "- Derivative of a tensor operation is called gradient.\n",
    "- Momentum addresses two issues with SGD: convergence speed and local minima. The optimization process could get stuck at the local minimum instead of making its way to the global minimum"
   ]
  },
  {
   "cell_type": "markdown",
   "id": "deb17e9b",
   "metadata": {
    "papermill": {
     "duration": 0.007727,
     "end_time": "2023-01-29T19:49:00.004630",
     "exception": false,
     "start_time": "2023-01-29T19:48:59.996903",
     "status": "completed"
    },
    "tags": []
   },
   "source": [
    "### Chaining Derivatives: The Backpropagation Algorithm\n",
    "- The chain rule: ```grad(y, x) == grad(y, x1) * grad(x1, x)```.\n",
    "- Computation graph is successful as it treat computation as data. This means that you could distributed any computation without having to write a distribution logic yourself.\n",
    "- Backpropagation is simply the application of the chain rule to a computation graph.\n",
    "- Automatic differentiation in TF implement the computation graph so we don't have to implement backprop ourselves."
   ]
  },
  {
   "cell_type": "code",
   "execution_count": null,
   "id": "dc8f3521",
   "metadata": {
    "papermill": {
     "duration": 0.00781,
     "end_time": "2023-01-29T19:49:00.020995",
     "exception": false,
     "start_time": "2023-01-29T19:49:00.013185",
     "status": "completed"
    },
    "tags": []
   },
   "outputs": [],
   "source": []
  }
 ],
 "metadata": {
  "kernelspec": {
   "display_name": "Python 3",
   "language": "python",
   "name": "python3"
  },
  "language_info": {
   "codemirror_mode": {
    "name": "ipython",
    "version": 3
   },
   "file_extension": ".py",
   "mimetype": "text/x-python",
   "name": "python",
   "nbconvert_exporter": "python",
   "pygments_lexer": "ipython3",
   "version": "3.7.12"
  },
  "papermill": {
   "default_parameters": {},
   "duration": 22.142283,
   "end_time": "2023-01-29T19:49:03.489948",
   "environment_variables": {},
   "exception": null,
   "input_path": "__notebook__.ipynb",
   "output_path": "__notebook__.ipynb",
   "parameters": {},
   "start_time": "2023-01-29T19:48:41.347665",
   "version": "2.3.4"
  }
 },
 "nbformat": 4,
 "nbformat_minor": 5
}
