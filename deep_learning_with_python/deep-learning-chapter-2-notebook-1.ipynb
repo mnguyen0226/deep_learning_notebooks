{
 "cells": [
  {
   "cell_type": "markdown",
   "id": "5ab98177",
   "metadata": {
    "execution": {
     "iopub.execute_input": "2023-01-29T00:51:46.290122Z",
     "iopub.status.busy": "2023-01-29T00:51:46.289593Z",
     "iopub.status.idle": "2023-01-29T00:51:46.303142Z",
     "shell.execute_reply": "2023-01-29T00:51:46.301545Z",
     "shell.execute_reply.started": "2023-01-29T00:51:46.290064Z"
    },
    "papermill": {
     "duration": 0.005405,
     "end_time": "2023-01-29T02:40:51.187143",
     "exception": false,
     "start_time": "2023-01-29T02:40:51.181738",
     "status": "completed"
    },
    "tags": []
   },
   "source": [
    "# Chapter 2. The Mathematical Building Blocks of Neural Networks"
   ]
  },
  {
   "cell_type": "markdown",
   "id": "555b53ef",
   "metadata": {
    "papermill": {
     "duration": 0.004065,
     "end_time": "2023-01-29T02:40:51.195826",
     "exception": false,
     "start_time": "2023-01-29T02:40:51.191761",
     "status": "completed"
    },
    "tags": []
   },
   "source": [
    "## 2.1. A first look at a neural network"
   ]
  },
  {
   "cell_type": "code",
   "execution_count": 1,
   "id": "22af8c0a",
   "metadata": {
    "execution": {
     "iopub.execute_input": "2023-01-29T02:40:51.206125Z",
     "iopub.status.busy": "2023-01-29T02:40:51.205748Z",
     "iopub.status.idle": "2023-01-29T02:40:57.911506Z",
     "shell.execute_reply": "2023-01-29T02:40:57.910143Z"
    },
    "papermill": {
     "duration": 6.714064,
     "end_time": "2023-01-29T02:40:57.914240",
     "exception": false,
     "start_time": "2023-01-29T02:40:51.200176",
     "status": "completed"
    },
    "tags": []
   },
   "outputs": [],
   "source": [
    "# import library\n",
    "from tensorflow.keras.datasets import mnist\n",
    "from tensorflow import keras\n",
    "from tensorflow.keras import layers\n",
    "import numpy as np"
   ]
  },
  {
   "cell_type": "code",
   "execution_count": 2,
   "id": "068a1073",
   "metadata": {
    "execution": {
     "iopub.execute_input": "2023-01-29T02:40:57.924990Z",
     "iopub.status.busy": "2023-01-29T02:40:57.924339Z",
     "iopub.status.idle": "2023-01-29T02:40:57.929651Z",
     "shell.execute_reply": "2023-01-29T02:40:57.928239Z"
    },
    "papermill": {
     "duration": 0.013395,
     "end_time": "2023-01-29T02:40:57.932145",
     "exception": false,
     "start_time": "2023-01-29T02:40:57.918750",
     "status": "completed"
    },
    "tags": []
   },
   "outputs": [],
   "source": [
    "# reference: https://bic-berkeley.github.io/psych-214-fall-2016/printing_floating.html\n",
    "np.set_printoptions(precision=8)"
   ]
  },
  {
   "cell_type": "markdown",
   "id": "56394e43",
   "metadata": {
    "papermill": {
     "duration": 0.004226,
     "end_time": "2023-01-29T02:40:57.940992",
     "exception": false,
     "start_time": "2023-01-29T02:40:57.936766",
     "status": "completed"
    },
    "tags": []
   },
   "source": [
    "### Import Dataset"
   ]
  },
  {
   "cell_type": "code",
   "execution_count": 3,
   "id": "d3a8f1aa",
   "metadata": {
    "execution": {
     "iopub.execute_input": "2023-01-29T02:40:57.951720Z",
     "iopub.status.busy": "2023-01-29T02:40:57.951094Z",
     "iopub.status.idle": "2023-01-29T02:40:59.294679Z",
     "shell.execute_reply": "2023-01-29T02:40:59.293004Z"
    },
    "papermill": {
     "duration": 1.352035,
     "end_time": "2023-01-29T02:40:59.297323",
     "exception": false,
     "start_time": "2023-01-29T02:40:57.945288",
     "status": "completed"
    },
    "tags": []
   },
   "outputs": [
    {
     "name": "stdout",
     "output_type": "stream",
     "text": [
      "Downloading data from https://storage.googleapis.com/tensorflow/tf-keras-datasets/mnist.npz\n",
      "11493376/11490434 [==============================] - 1s 0us/step\n",
      "11501568/11490434 [==============================] - 1s 0us/step\n"
     ]
    }
   ],
   "source": [
    "# load MNIST dataset\n",
    "(train_images, train_labels), (test_images, test_labels) = mnist.load_data()"
   ]
  },
  {
   "cell_type": "code",
   "execution_count": 4,
   "id": "32299c7b",
   "metadata": {
    "execution": {
     "iopub.execute_input": "2023-01-29T02:40:59.309605Z",
     "iopub.status.busy": "2023-01-29T02:40:59.309207Z",
     "iopub.status.idle": "2023-01-29T02:40:59.314550Z",
     "shell.execute_reply": "2023-01-29T02:40:59.312983Z"
    },
    "papermill": {
     "duration": 0.013922,
     "end_time": "2023-01-29T02:40:59.316798",
     "exception": false,
     "start_time": "2023-01-29T02:40:59.302876",
     "status": "completed"
    },
    "tags": []
   },
   "outputs": [
    {
     "name": "stdout",
     "output_type": "stream",
     "text": [
      "(60000, 28, 28)\n",
      "(10000, 28, 28)\n"
     ]
    }
   ],
   "source": [
    "# check shape\n",
    "print(train_images.shape)\n",
    "print(test_images.shape)"
   ]
  },
  {
   "cell_type": "markdown",
   "id": "bcf7fcfd",
   "metadata": {
    "papermill": {
     "duration": 0.005395,
     "end_time": "2023-01-29T02:40:59.328177",
     "exception": false,
     "start_time": "2023-01-29T02:40:59.322782",
     "status": "completed"
    },
    "tags": []
   },
   "source": [
    "### Build Model"
   ]
  },
  {
   "cell_type": "code",
   "execution_count": 5,
   "id": "f8bf2b66",
   "metadata": {
    "execution": {
     "iopub.execute_input": "2023-01-29T02:40:59.340826Z",
     "iopub.status.busy": "2023-01-29T02:40:59.340417Z",
     "iopub.status.idle": "2023-01-29T02:40:59.408887Z",
     "shell.execute_reply": "2023-01-29T02:40:59.407967Z"
    },
    "papermill": {
     "duration": 0.077083,
     "end_time": "2023-01-29T02:40:59.410746",
     "exception": false,
     "start_time": "2023-01-29T02:40:59.333663",
     "status": "completed"
    },
    "tags": []
   },
   "outputs": [
    {
     "name": "stderr",
     "output_type": "stream",
     "text": [
      "2023-01-29 02:40:59.385503: I tensorflow/core/common_runtime/process_util.cc:146] Creating new thread pool with default inter op setting: 2. Tune using inter_op_parallelism_threads for best performance.\n"
     ]
    }
   ],
   "source": [
    "# build neural network\n",
    "model = keras.Sequential([\n",
    "    layers.Dense(512, activation=\"relu\"),\n",
    "    layers.Dense(10, activation=\"softmax\")\n",
    "])"
   ]
  },
  {
   "cell_type": "code",
   "execution_count": 6,
   "id": "91c24800",
   "metadata": {
    "execution": {
     "iopub.execute_input": "2023-01-29T02:40:59.423846Z",
     "iopub.status.busy": "2023-01-29T02:40:59.423218Z",
     "iopub.status.idle": "2023-01-29T02:40:59.445132Z",
     "shell.execute_reply": "2023-01-29T02:40:59.443841Z"
    },
    "papermill": {
     "duration": 0.031212,
     "end_time": "2023-01-29T02:40:59.447544",
     "exception": false,
     "start_time": "2023-01-29T02:40:59.416332",
     "status": "completed"
    },
    "tags": []
   },
   "outputs": [],
   "source": [
    "# compile model: add optimization\n",
    "model.compile(optimizer=\"rmsprop\",\n",
    "             loss=\"sparse_categorical_crossentropy\",\n",
    "             metrics=[\"accuracy\"])"
   ]
  },
  {
   "cell_type": "markdown",
   "id": "5959b09a",
   "metadata": {
    "papermill": {
     "duration": 0.005262,
     "end_time": "2023-01-29T02:40:59.458854",
     "exception": false,
     "start_time": "2023-01-29T02:40:59.453592",
     "status": "completed"
    },
    "tags": []
   },
   "source": [
    "**Note**: the input shape of the image is 512 = 28 x 28, so we need to reshape this"
   ]
  },
  {
   "cell_type": "markdown",
   "id": "f5208032",
   "metadata": {
    "papermill": {
     "duration": 0.005205,
     "end_time": "2023-01-29T02:40:59.469650",
     "exception": false,
     "start_time": "2023-01-29T02:40:59.464445",
     "status": "completed"
    },
    "tags": []
   },
   "source": [
    "### Feature Engineering"
   ]
  },
  {
   "cell_type": "code",
   "execution_count": 7,
   "id": "183b862c",
   "metadata": {
    "execution": {
     "iopub.execute_input": "2023-01-29T02:40:59.482298Z",
     "iopub.status.busy": "2023-01-29T02:40:59.481956Z",
     "iopub.status.idle": "2023-01-29T02:40:59.541778Z",
     "shell.execute_reply": "2023-01-29T02:40:59.540619Z"
    },
    "papermill": {
     "duration": 0.069234,
     "end_time": "2023-01-29T02:40:59.544416",
     "exception": false,
     "start_time": "2023-01-29T02:40:59.475182",
     "status": "completed"
    },
    "tags": []
   },
   "outputs": [],
   "source": [
    "# reshape input and normalized it\n",
    "train_images = train_images.reshape((60000, 28 * 28))\n",
    "train_images = train_images.astype(\"float32\") / 255\n",
    "\n",
    "test_images = test_images.reshape((10000, 28 * 28))\n",
    "test_images = test_images.astype(\"float32\") / 255"
   ]
  },
  {
   "cell_type": "markdown",
   "id": "641de94f",
   "metadata": {
    "papermill": {
     "duration": 0.00519,
     "end_time": "2023-01-29T02:40:59.555698",
     "exception": false,
     "start_time": "2023-01-29T02:40:59.550508",
     "status": "completed"
    },
    "tags": []
   },
   "source": [
    "### Train Model"
   ]
  },
  {
   "cell_type": "code",
   "execution_count": 8,
   "id": "abd96e06",
   "metadata": {
    "execution": {
     "iopub.execute_input": "2023-01-29T02:40:59.568713Z",
     "iopub.status.busy": "2023-01-29T02:40:59.568356Z",
     "iopub.status.idle": "2023-01-29T02:41:16.543248Z",
     "shell.execute_reply": "2023-01-29T02:41:16.541477Z"
    },
    "papermill": {
     "duration": 16.985201,
     "end_time": "2023-01-29T02:41:16.546279",
     "exception": false,
     "start_time": "2023-01-29T02:40:59.561078",
     "status": "completed"
    },
    "tags": []
   },
   "outputs": [
    {
     "name": "stderr",
     "output_type": "stream",
     "text": [
      "2023-01-29 02:40:59.903057: I tensorflow/compiler/mlir/mlir_graph_optimization_pass.cc:185] None of the MLIR Optimization Passes are enabled (registered 2)\n"
     ]
    },
    {
     "name": "stdout",
     "output_type": "stream",
     "text": [
      "Epoch 1/5\n",
      "469/469 [==============================] - 4s 7ms/step - loss: 0.2559 - accuracy: 0.9261\n",
      "Epoch 2/5\n",
      "469/469 [==============================] - 3s 7ms/step - loss: 0.1038 - accuracy: 0.9689\n",
      "Epoch 3/5\n",
      "469/469 [==============================] - 3s 7ms/step - loss: 0.0684 - accuracy: 0.9792\n",
      "Epoch 4/5\n",
      "469/469 [==============================] - 3s 7ms/step - loss: 0.0485 - accuracy: 0.9856\n",
      "Epoch 5/5\n",
      "469/469 [==============================] - 4s 7ms/step - loss: 0.0372 - accuracy: 0.9889\n"
     ]
    },
    {
     "data": {
      "text/plain": [
       "<keras.callbacks.History at 0x7f6e953e1c10>"
      ]
     },
     "execution_count": 8,
     "metadata": {},
     "output_type": "execute_result"
    }
   ],
   "source": [
    "# train the model\n",
    "model.fit(train_images, train_labels, epochs=5, batch_size=128)"
   ]
  },
  {
   "cell_type": "code",
   "execution_count": 9,
   "id": "66456551",
   "metadata": {
    "execution": {
     "iopub.execute_input": "2023-01-29T02:41:16.593367Z",
     "iopub.status.busy": "2023-01-29T02:41:16.592936Z",
     "iopub.status.idle": "2023-01-29T02:41:16.701603Z",
     "shell.execute_reply": "2023-01-29T02:41:16.699842Z"
    },
    "papermill": {
     "duration": 0.134883,
     "end_time": "2023-01-29T02:41:16.703830",
     "exception": false,
     "start_time": "2023-01-29T02:41:16.568947",
     "status": "completed"
    },
    "tags": []
   },
   "outputs": [
    {
     "data": {
      "text/plain": [
       "array([8.8546548e-09, 1.3109719e-11, 3.4533289e-07, 3.5175533e-05,\n",
       "       4.9776541e-12, 1.2499955e-08, 1.2581968e-13, 9.9996328e-01,\n",
       "       6.2665464e-08, 1.0738448e-06], dtype=float32)"
      ]
     },
     "execution_count": 9,
     "metadata": {},
     "output_type": "execute_result"
    }
   ],
   "source": [
    "# make prediction with model\n",
    "test_digits = test_images[0:10]\n",
    "predictions = model.predict(test_digits)\n",
    "predictions[0]"
   ]
  },
  {
   "cell_type": "code",
   "execution_count": 10,
   "id": "f94edd4b",
   "metadata": {
    "execution": {
     "iopub.execute_input": "2023-01-29T02:41:16.751253Z",
     "iopub.status.busy": "2023-01-29T02:41:16.750187Z",
     "iopub.status.idle": "2023-01-29T02:41:16.756899Z",
     "shell.execute_reply": "2023-01-29T02:41:16.754807Z"
    },
    "papermill": {
     "duration": 0.033994,
     "end_time": "2023-01-29T02:41:16.760238",
     "exception": false,
     "start_time": "2023-01-29T02:41:16.726244",
     "status": "completed"
    },
    "tags": []
   },
   "outputs": [
    {
     "name": "stdout",
     "output_type": "stream",
     "text": [
      "7\n"
     ]
    }
   ],
   "source": [
    "# from the prediction, get the index off the highest probability\n",
    "print(predictions[0].argmax())"
   ]
  },
  {
   "cell_type": "code",
   "execution_count": 11,
   "id": "451e5a2c",
   "metadata": {
    "execution": {
     "iopub.execute_input": "2023-01-29T02:41:16.807164Z",
     "iopub.status.busy": "2023-01-29T02:41:16.806791Z",
     "iopub.status.idle": "2023-01-29T02:41:16.813147Z",
     "shell.execute_reply": "2023-01-29T02:41:16.811488Z"
    },
    "papermill": {
     "duration": 0.032548,
     "end_time": "2023-01-29T02:41:16.815636",
     "exception": false,
     "start_time": "2023-01-29T02:41:16.783088",
     "status": "completed"
    },
    "tags": []
   },
   "outputs": [
    {
     "name": "stdout",
     "output_type": "stream",
     "text": [
      "0.9999633\n",
      "7\n"
     ]
    }
   ],
   "source": [
    "# print prediction value\n",
    "print(predictions[0][7])\n",
    "\n",
    "# check test label\n",
    "print(test_labels[0])"
   ]
  },
  {
   "cell_type": "markdown",
   "id": "9025ed05",
   "metadata": {
    "papermill": {
     "duration": 0.022012,
     "end_time": "2023-01-29T02:41:16.860093",
     "exception": false,
     "start_time": "2023-01-29T02:41:16.838081",
     "status": "completed"
    },
    "tags": []
   },
   "source": [
    "### Evaluate Model On Test Dataset"
   ]
  },
  {
   "cell_type": "code",
   "execution_count": 12,
   "id": "ed950da4",
   "metadata": {
    "execution": {
     "iopub.execute_input": "2023-01-29T02:41:16.906559Z",
     "iopub.status.busy": "2023-01-29T02:41:16.906119Z",
     "iopub.status.idle": "2023-01-29T02:41:17.854743Z",
     "shell.execute_reply": "2023-01-29T02:41:17.853803Z"
    },
    "papermill": {
     "duration": 0.974335,
     "end_time": "2023-01-29T02:41:17.856701",
     "exception": false,
     "start_time": "2023-01-29T02:41:16.882366",
     "status": "completed"
    },
    "tags": []
   },
   "outputs": [
    {
     "name": "stdout",
     "output_type": "stream",
     "text": [
      "313/313 [==============================] - 1s 2ms/step - loss: 0.0668 - accuracy: 0.9796\n",
      "test_acc: 0.9796000123023987\n"
     ]
    }
   ],
   "source": [
    "test_loss, test_acc = model.evaluate(test_images, test_labels)\n",
    "print(f\"test_acc: {test_acc}\")"
   ]
  },
  {
   "cell_type": "markdown",
   "id": "c2644cf9",
   "metadata": {
    "papermill": {
     "duration": 0.023177,
     "end_time": "2023-01-29T02:41:17.904281",
     "exception": false,
     "start_time": "2023-01-29T02:41:17.881104",
     "status": "completed"
    },
    "tags": []
   },
   "source": [
    "**Note**: as the model training accuracy > testing accuracy, this is overfit. This means that the model does not perform well"
   ]
  }
 ],
 "metadata": {
  "kernelspec": {
   "display_name": "Python 3",
   "language": "python",
   "name": "python3"
  },
  "language_info": {
   "codemirror_mode": {
    "name": "ipython",
    "version": 3
   },
   "file_extension": ".py",
   "mimetype": "text/x-python",
   "name": "python",
   "nbconvert_exporter": "python",
   "pygments_lexer": "ipython3",
   "version": "3.7.12"
  },
  "papermill": {
   "default_parameters": {},
   "duration": 38.075413,
   "end_time": "2023-01-29T02:41:21.396233",
   "environment_variables": {},
   "exception": null,
   "input_path": "__notebook__.ipynb",
   "output_path": "__notebook__.ipynb",
   "parameters": {},
   "start_time": "2023-01-29T02:40:43.320820",
   "version": "2.3.4"
  }
 },
 "nbformat": 4,
 "nbformat_minor": 5
}
