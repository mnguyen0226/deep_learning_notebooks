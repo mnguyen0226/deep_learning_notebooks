{
 "cells": [
  {
   "cell_type": "markdown",
   "id": "22e9522e",
   "metadata": {
    "_cell_guid": "b1076dfc-b9ad-4769-8c92-a6c4dae69d19",
    "_uuid": "8f2839f25d086af736a60e9eeb907d3b93b6e0e5",
    "papermill": {
     "duration": 0.010674,
     "end_time": "2023-02-17T03:45:13.327785",
     "exception": false,
     "start_time": "2023-02-17T03:45:13.317111",
     "status": "completed"
    },
    "tags": []
   },
   "source": [
    "# 7. Working with Keras: A Deep Dive\n",
    "# 7.2.1. The Sequential Models"
   ]
  },
  {
   "cell_type": "markdown",
   "id": "7e077109",
   "metadata": {
    "papermill": {
     "duration": 0.009484,
     "end_time": "2023-02-17T03:45:13.347251",
     "exception": false,
     "start_time": "2023-02-17T03:45:13.337767",
     "status": "completed"
    },
    "tags": []
   },
   "source": [
    "## Build a simple 2-layer model"
   ]
  },
  {
   "cell_type": "code",
   "execution_count": 1,
   "id": "e5ea22b4",
   "metadata": {
    "execution": {
     "iopub.execute_input": "2023-02-17T03:45:13.368226Z",
     "iopub.status.busy": "2023-02-17T03:45:13.367736Z",
     "iopub.status.idle": "2023-02-17T03:45:20.901053Z",
     "shell.execute_reply": "2023-02-17T03:45:20.899913Z"
    },
    "papermill": {
     "duration": 7.547143,
     "end_time": "2023-02-17T03:45:20.904049",
     "exception": false,
     "start_time": "2023-02-17T03:45:13.356906",
     "status": "completed"
    },
    "tags": []
   },
   "outputs": [],
   "source": [
    "# import library\n",
    "from tensorflow import keras\n",
    "from tensorflow.keras import layers\n",
    "import numpy as np"
   ]
  },
  {
   "cell_type": "code",
   "execution_count": 2,
   "id": "765e3bad",
   "metadata": {
    "execution": {
     "iopub.execute_input": "2023-02-17T03:45:20.925755Z",
     "iopub.status.busy": "2023-02-17T03:45:20.925129Z",
     "iopub.status.idle": "2023-02-17T03:45:20.988222Z",
     "shell.execute_reply": "2023-02-17T03:45:20.986960Z"
    },
    "papermill": {
     "duration": 0.076664,
     "end_time": "2023-02-17T03:45:20.990925",
     "exception": false,
     "start_time": "2023-02-17T03:45:20.914261",
     "status": "completed"
    },
    "tags": []
   },
   "outputs": [
    {
     "name": "stderr",
     "output_type": "stream",
     "text": [
      "2023-02-17 03:45:20.953625: W tensorflow/stream_executor/platform/default/dso_loader.cc:64] Could not load dynamic library 'libcuda.so.1'; dlerror: libcuda.so.1: cannot open shared object file: No such file or directory; LD_LIBRARY_PATH: /usr/local/cuda/lib64:/usr/local/cuda/lib:/usr/local/lib/x86_64-linux-gnu:/usr/local/nvidia/lib:/usr/local/nvidia/lib64::/opt/conda/lib\n",
      "2023-02-17 03:45:20.953678: W tensorflow/stream_executor/cuda/cuda_driver.cc:269] failed call to cuInit: UNKNOWN ERROR (303)\n"
     ]
    }
   ],
   "source": [
    "# create model\n",
    "model = keras.Sequential([\n",
    "    layers.Dense(64, activation=\"relu\"),\n",
    "    layers.Dense(10, activation=\"softmax\")\n",
    "])"
   ]
  },
  {
   "cell_type": "markdown",
   "id": "774eb9db",
   "metadata": {
    "papermill": {
     "duration": 0.009904,
     "end_time": "2023-02-17T03:45:21.011204",
     "exception": false,
     "start_time": "2023-02-17T03:45:21.001300",
     "status": "completed"
    },
    "tags": []
   },
   "source": [
    "**Note**: The layers are only built (aka init weights) when they are called for the first time, as the shape of the layers' weights depends on the shape of their input. Until the input shape is known, they can't be created."
   ]
  },
  {
   "cell_type": "code",
   "execution_count": 3,
   "id": "ff64a6c3",
   "metadata": {
    "execution": {
     "iopub.execute_input": "2023-02-17T03:45:21.032749Z",
     "iopub.status.busy": "2023-02-17T03:45:21.032377Z",
     "iopub.status.idle": "2023-02-17T03:45:21.037507Z",
     "shell.execute_reply": "2023-02-17T03:45:21.036384Z"
    },
    "papermill": {
     "duration": 0.017969,
     "end_time": "2023-02-17T03:45:21.039387",
     "exception": false,
     "start_time": "2023-02-17T03:45:21.021418",
     "status": "completed"
    },
    "tags": []
   },
   "outputs": [],
   "source": [
    "# if we don't train the model on anything or build it, there will be no weight\n",
    "# model.weights"
   ]
  },
  {
   "cell_type": "code",
   "execution_count": 4,
   "id": "3bd97630",
   "metadata": {
    "execution": {
     "iopub.execute_input": "2023-02-17T03:45:21.061568Z",
     "iopub.status.busy": "2023-02-17T03:45:21.061090Z",
     "iopub.status.idle": "2023-02-17T03:45:21.112178Z",
     "shell.execute_reply": "2023-02-17T03:45:21.111486Z"
    },
    "papermill": {
     "duration": 0.064678,
     "end_time": "2023-02-17T03:45:21.114407",
     "exception": false,
     "start_time": "2023-02-17T03:45:21.049729",
     "status": "completed"
    },
    "tags": []
   },
   "outputs": [],
   "source": [
    "# build the model\n",
    "model.build(input_shape=(None, 4))"
   ]
  },
  {
   "cell_type": "code",
   "execution_count": 5,
   "id": "a8da19c1",
   "metadata": {
    "execution": {
     "iopub.execute_input": "2023-02-17T03:45:21.135961Z",
     "iopub.status.busy": "2023-02-17T03:45:21.135346Z",
     "iopub.status.idle": "2023-02-17T03:45:21.152975Z",
     "shell.execute_reply": "2023-02-17T03:45:21.152300Z"
    },
    "papermill": {
     "duration": 0.030753,
     "end_time": "2023-02-17T03:45:21.155296",
     "exception": false,
     "start_time": "2023-02-17T03:45:21.124543",
     "status": "completed"
    },
    "tags": []
   },
   "outputs": [
    {
     "data": {
      "text/plain": [
       "[<tf.Variable 'dense/kernel:0' shape=(4, 64) dtype=float32, numpy=\n",
       " array([[-0.20988956,  0.2547118 , -0.16024497,  0.06808627,  0.2641191 ,\n",
       "         -0.26319614,  0.29402292, -0.03363341, -0.04103112, -0.00200161,\n",
       "         -0.04792534, -0.10001785,  0.23360223,  0.19868344,  0.2149347 ,\n",
       "         -0.16130106,  0.03855383,  0.04265401, -0.07757513, -0.2014072 ,\n",
       "         -0.11175038,  0.19921678,  0.23305768, -0.23680355,  0.20934176,\n",
       "          0.14053482, -0.00700581, -0.02600721, -0.04308033,  0.01137376,\n",
       "          0.2181338 ,  0.04340428,  0.03980139, -0.02305305, -0.10622855,\n",
       "         -0.2119411 ,  0.03625441, -0.01005188,  0.00549555,  0.2352438 ,\n",
       "          0.08531776, -0.20846252,  0.18605012, -0.12050377, -0.23076981,\n",
       "         -0.15062006,  0.1172502 , -0.10980976,  0.03994972,  0.00546014,\n",
       "         -0.10270727,  0.15632716, -0.25215518, -0.08548412,  0.21119082,\n",
       "          0.14637017,  0.00224784, -0.01480141, -0.22850448, -0.22900036,\n",
       "          0.29012513, -0.09597129,  0.25455713,  0.0875611 ],\n",
       "        [-0.04776181, -0.2702475 , -0.08432436,  0.19386548,  0.02265999,\n",
       "          0.02864739, -0.16292165, -0.0721283 ,  0.23007667, -0.2902966 ,\n",
       "          0.02871573,  0.24357116, -0.07552713,  0.22014737, -0.27142334,\n",
       "         -0.20695956, -0.11992034,  0.29340774,  0.14000097, -0.11452521,\n",
       "         -0.15407754, -0.06171104, -0.24432203,  0.15459058,  0.22880828,\n",
       "          0.04385695, -0.1310859 ,  0.2245847 ,  0.16164944,  0.17013043,\n",
       "         -0.0437904 ,  0.11729297,  0.22866023, -0.29596525, -0.04947454,\n",
       "          0.2693689 , -0.19488311,  0.10312396,  0.07979006, -0.12916687,\n",
       "          0.09580222, -0.12910482, -0.28898466,  0.1628128 ,  0.27610314,\n",
       "          0.14556077, -0.01685354, -0.11566685, -0.19086431, -0.05239931,\n",
       "         -0.00823548, -0.18845329,  0.1698075 , -0.2632492 ,  0.11636925,\n",
       "         -0.0937019 , -0.21254939,  0.11175257, -0.24600056,  0.2428838 ,\n",
       "         -0.09670052, -0.09627694, -0.02764544, -0.10609597],\n",
       "        [ 0.06364027, -0.2635946 ,  0.106352  , -0.11984053,  0.17206973,\n",
       "          0.22359079,  0.1755617 , -0.11350362,  0.02836752, -0.11728786,\n",
       "          0.26639038, -0.15993592, -0.16039895, -0.07537536, -0.19904616,\n",
       "         -0.15527108, -0.16759051, -0.2811962 ,  0.11034912, -0.01740587,\n",
       "          0.25639254, -0.01328954, -0.29608247,  0.20071515,  0.16684994,\n",
       "          0.25610995,  0.15113777, -0.16147903, -0.25171036, -0.08215916,\n",
       "         -0.21905059, -0.00912455,  0.15148509, -0.11154684, -0.09697644,\n",
       "          0.09341237, -0.08710876, -0.22880602,  0.22168279, -0.10360287,\n",
       "          0.11167482, -0.10662153, -0.08327104,  0.25346386,  0.0156976 ,\n",
       "          0.07187864,  0.0986059 ,  0.245439  , -0.14217022, -0.19701368,\n",
       "         -0.02294803, -0.09130673,  0.0100553 ,  0.09717211, -0.19622318,\n",
       "         -0.16869482, -0.29479495,  0.0437603 , -0.1594998 ,  0.12701178,\n",
       "          0.14707845,  0.20419091,  0.01328322, -0.29487914],\n",
       "        [ 0.2887085 ,  0.2844681 ,  0.26177925,  0.15718657, -0.05623439,\n",
       "         -0.12714946,  0.02150235, -0.01081547,  0.1740525 , -0.22534528,\n",
       "          0.04393053, -0.2598119 ,  0.2507242 , -0.00419274, -0.11208898,\n",
       "         -0.03365189, -0.15953556, -0.17262518, -0.10420747, -0.02712101,\n",
       "         -0.08799416,  0.27972728,  0.24386191,  0.17086264, -0.24757548,\n",
       "          0.00765517, -0.28088826, -0.24583767, -0.07936308, -0.19906309,\n",
       "         -0.04040644,  0.2665158 , -0.2857278 ,  0.20476323, -0.25026852,\n",
       "          0.07437447, -0.25095356,  0.1383917 ,  0.27032286, -0.16392455,\n",
       "          0.17840424,  0.1493251 ,  0.16940928, -0.14047858, -0.24258834,\n",
       "         -0.07158461, -0.01784289, -0.25436527,  0.01997596, -0.15056872,\n",
       "         -0.26558253,  0.2537743 , -0.2198061 , -0.23016408, -0.1852832 ,\n",
       "          0.19104901,  0.07037079,  0.2511288 , -0.28319234, -0.11558193,\n",
       "          0.20633084, -0.05352287, -0.19249298,  0.16949788]],\n",
       "       dtype=float32)>,\n",
       " <tf.Variable 'dense/bias:0' shape=(64,) dtype=float32, numpy=\n",
       " array([0., 0., 0., 0., 0., 0., 0., 0., 0., 0., 0., 0., 0., 0., 0., 0., 0.,\n",
       "        0., 0., 0., 0., 0., 0., 0., 0., 0., 0., 0., 0., 0., 0., 0., 0., 0.,\n",
       "        0., 0., 0., 0., 0., 0., 0., 0., 0., 0., 0., 0., 0., 0., 0., 0., 0.,\n",
       "        0., 0., 0., 0., 0., 0., 0., 0., 0., 0., 0., 0., 0.], dtype=float32)>,\n",
       " <tf.Variable 'dense_1/kernel:0' shape=(64, 10) dtype=float32, numpy=\n",
       " array([[-0.13531384, -0.20653999,  0.10256436, -0.11533999,  0.04341894,\n",
       "         -0.04878061, -0.27521408, -0.25206113,  0.12047154, -0.10361765],\n",
       "        [ 0.12223914,  0.23097315, -0.20367189,  0.04629579, -0.04398912,\n",
       "         -0.2516163 ,  0.19789943,  0.17473412, -0.02634627, -0.22969417],\n",
       "        [ 0.22791162, -0.16745606, -0.2023467 , -0.24032913,  0.2561868 ,\n",
       "         -0.2844991 ,  0.03184751, -0.11960717,  0.06223947, -0.14131123],\n",
       "        [ 0.25232378, -0.25595543, -0.16464478,  0.01479465,  0.16923827,\n",
       "         -0.20315588,  0.18864614, -0.17941934,  0.06641269,  0.24054596],\n",
       "        [ 0.16422346, -0.2073711 ,  0.25338456, -0.09219852, -0.22837164,\n",
       "         -0.10722271,  0.24494043,  0.22220704, -0.09608048,  0.01719242],\n",
       "        [ 0.15911636,  0.1247161 ,  0.24310789, -0.24839246, -0.15444362,\n",
       "         -0.2587788 ,  0.10520843, -0.11684041, -0.2724896 , -0.2192064 ],\n",
       "        [-0.17275731, -0.02873811, -0.10324475, -0.25438836,  0.20589769,\n",
       "          0.24491033,  0.05753559,  0.11002144,  0.09899977, -0.25357538],\n",
       "        [ 0.08355889, -0.16435719, -0.17646521,  0.20059693, -0.26934534,\n",
       "         -0.26448366,  0.01106387, -0.17543302, -0.12959507,  0.24412915],\n",
       "        [-0.2615211 , -0.03549336, -0.12405519, -0.04251641, -0.06630841,\n",
       "          0.18017799,  0.0678311 , -0.21078312, -0.08311048, -0.25002736],\n",
       "        [ 0.13817474, -0.087494  ,  0.09395176, -0.24937746, -0.27307162,\n",
       "         -0.08133036,  0.11686939,  0.26642957, -0.15471518,  0.02730227],\n",
       "        [ 0.14188781,  0.1671716 , -0.20888537, -0.24735206, -0.07389739,\n",
       "         -0.1637728 , -0.2530493 ,  0.23899326,  0.24968705, -0.03605181],\n",
       "        [-0.15820251, -0.13530074,  0.1414105 , -0.001504  , -0.18826623,\n",
       "         -0.25927764, -0.103636  ,  0.11553574,  0.04506347,  0.24949065],\n",
       "        [ 0.1739808 , -0.25839564, -0.17935985, -0.26017556,  0.00559807,\n",
       "          0.1371592 , -0.14678778, -0.04575519,  0.22220865,  0.2539175 ],\n",
       "        [-0.09301786, -0.19433334, -0.07409413,  0.06812838, -0.10202743,\n",
       "          0.15570045,  0.21887943,  0.04219168,  0.1415787 , -0.07814385],\n",
       "        [-0.0228624 ,  0.16969708, -0.14125189,  0.14596665, -0.09172016,\n",
       "         -0.01718366,  0.20986983, -0.27882555,  0.1418629 , -0.15111522],\n",
       "        [-0.13772275,  0.17200586, -0.11078994,  0.01150325, -0.20343937,\n",
       "          0.03854457,  0.22071818, -0.09370287, -0.12810884,  0.06402218],\n",
       "        [-0.00762135,  0.02353451, -0.22136758,  0.0063667 , -0.25756007,\n",
       "          0.06204966, -0.10374501,  0.21006194,  0.01613188, -0.03555995],\n",
       "        [ 0.04909861, -0.06518376,  0.07164279,  0.16351184, -0.10813521,\n",
       "         -0.09126647,  0.25171956,  0.15207756, -0.1745614 ,  0.08942252],\n",
       "        [ 0.10001397,  0.01834953,  0.0919269 , -0.16537675,  0.00475726,\n",
       "          0.14517018,  0.08648348, -0.2654785 , -0.13157092, -0.2542143 ],\n",
       "        [ 0.08350104,  0.24742004, -0.26744857, -0.07318346,  0.02570301,\n",
       "          0.03170493,  0.27501217, -0.09723209, -0.15499522, -0.08993332],\n",
       "        [-0.08865599,  0.09487525,  0.22530982, -0.07721724, -0.18597919,\n",
       "          0.21346787,  0.00420642,  0.1776382 , -0.27358323, -0.21924484],\n",
       "        [ 0.07027733,  0.03569165,  0.12438071,  0.07276818,  0.0681296 ,\n",
       "         -0.26493222,  0.21896097,  0.13969037, -0.2509903 , -0.12261933],\n",
       "        [-0.21337256, -0.00609311,  0.11424413, -0.01296648,  0.02619168,\n",
       "         -0.27495345,  0.0160104 ,  0.16885775,  0.24094632, -0.1590017 ],\n",
       "        [-0.06610644, -0.16634926,  0.1586059 , -0.21240847, -0.14171958,\n",
       "         -0.2605099 , -0.09984371,  0.2845219 ,  0.08592245,  0.00807899],\n",
       "        [-0.2527964 , -0.02030101,  0.12533721, -0.00739929, -0.26580268,\n",
       "          0.08936021, -0.07303458, -0.09229492,  0.06073397,  0.23514947],\n",
       "        [ 0.23869988, -0.15404552,  0.26643285,  0.12550741, -0.16554886,\n",
       "          0.02678326,  0.23028287, -0.25116628,  0.07033008,  0.2647787 ],\n",
       "        [-0.00806841,  0.23937973,  0.22340813,  0.08477512, -0.28225356,\n",
       "         -0.09354164,  0.26359174, -0.1757589 ,  0.19072348,  0.16418895],\n",
       "        [ 0.26786247,  0.2577432 ,  0.1441145 ,  0.18600735, -0.11918245,\n",
       "         -0.14778887, -0.01457959,  0.2070218 , -0.28371012, -0.26857492],\n",
       "        [-0.08718443, -0.27215335,  0.16188157, -0.10022104, -0.01032287,\n",
       "         -0.01530552,  0.05773151,  0.22758433,  0.27995762, -0.00436166],\n",
       "        [-0.05066256,  0.07446527,  0.1693522 , -0.16640642,  0.25933352,\n",
       "         -0.16055371, -0.07371171,  0.0228782 , -0.18105486,  0.06439161],\n",
       "        [ 0.2735223 , -0.23075   , -0.0569886 , -0.17276934,  0.1124087 ,\n",
       "          0.23761651,  0.05707562,  0.27548674,  0.01826304,  0.0230194 ],\n",
       "        [-0.10978532, -0.07358095, -0.10436314,  0.10999334,  0.12622729,\n",
       "         -0.01533124,  0.17174298,  0.04265937,  0.18582717,  0.21429226],\n",
       "        [-0.16137618, -0.1782532 , -0.10853751, -0.00816691,  0.14264932,\n",
       "          0.0461503 ,  0.22949228,  0.162213  ,  0.15328375, -0.2647789 ],\n",
       "        [ 0.07304054, -0.09464082, -0.27363518,  0.06762105, -0.13875955,\n",
       "         -0.02666968,  0.001344  , -0.08766875, -0.05557597,  0.07097274],\n",
       "        [-0.25065044, -0.28400007, -0.02757612,  0.03516471, -0.02110142,\n",
       "         -0.19692765, -0.01389322,  0.24696055, -0.27110344, -0.02963182],\n",
       "        [ 0.173017  , -0.07086492,  0.22699651,  0.13285959,  0.15338719,\n",
       "         -0.2107498 ,  0.14742485, -0.06558669,  0.04144436, -0.17041433],\n",
       "        [ 0.25658098, -0.06378362,  0.09648693,  0.16646224,  0.10561189,\n",
       "          0.20517352,  0.07930449, -0.00973836,  0.04504737, -0.15671547],\n",
       "        [ 0.15704691,  0.20398065, -0.04296829, -0.25065506, -0.07557717,\n",
       "         -0.17973821,  0.18730396, -0.17623031, -0.19879636,  0.18248942],\n",
       "        [-0.24756747, -0.2418601 , -0.06309542, -0.16462244, -0.15786564,\n",
       "          0.05321443, -0.26937622,  0.26449296,  0.00155458, -0.14900103],\n",
       "        [ 0.2178658 , -0.1104769 , -0.06355041,  0.13324276,  0.12636381,\n",
       "         -0.14538763,  0.25999418,  0.19590098,  0.09024507, -0.05472177],\n",
       "        [-0.2071698 , -0.05212088,  0.10900325, -0.18602556,  0.14604813,\n",
       "         -0.12196556,  0.24008504,  0.2653574 , -0.24723679,  0.11288676],\n",
       "        [ 0.245567  , -0.20754096,  0.06965268, -0.0871934 , -0.2098811 ,\n",
       "         -0.1298248 , -0.0997712 ,  0.0031637 , -0.28392383,  0.2613791 ],\n",
       "        [ 0.07860482, -0.22217003,  0.07542333,  0.12850836, -0.01179308,\n",
       "         -0.26041785,  0.27562353,  0.13345897,  0.2713491 , -0.17563954],\n",
       "        [-0.00670695, -0.27241927, -0.03636579, -0.25502053,  0.2512606 ,\n",
       "         -0.15771106,  0.22545609,  0.22261438,  0.19346416,  0.1160683 ],\n",
       "        [ 0.23871455,  0.1861248 ,  0.1651122 , -0.02681854, -0.03709534,\n",
       "         -0.02759948,  0.13968542, -0.02274814, -0.1518937 , -0.26065478],\n",
       "        [-0.09399161, -0.05409835,  0.03659418,  0.12812975, -0.2189024 ,\n",
       "          0.28259024, -0.2764077 ,  0.1429731 ,  0.04752153, -0.07740638],\n",
       "        [ 0.0561499 , -0.2664058 ,  0.07025418,  0.02430028,  0.11546871,\n",
       "          0.15708777, -0.10564923, -0.18105112, -0.2806411 , -0.21869275],\n",
       "        [ 0.20206809, -0.16455746, -0.02021858, -0.13513835, -0.24949911,\n",
       "         -0.06672151, -0.16180864,  0.03228071, -0.25821057, -0.27122626],\n",
       "        [ 0.17623094, -0.07757175, -0.196188  ,  0.03725481,  0.13039005,\n",
       "         -0.20474535,  0.24214795,  0.15369391, -0.18628612, -0.13497318],\n",
       "        [ 0.21928713,  0.17709738, -0.1978629 ,  0.10197848,  0.15195537,\n",
       "         -0.07938404,  0.13496912, -0.13532417, -0.2123735 , -0.14615151],\n",
       "        [-0.23969689, -0.26552752, -0.24944378,  0.10127041, -0.27769217,\n",
       "          0.27663788, -0.00379786,  0.13988453,  0.20012107,  0.03618604],\n",
       "        [-0.2029632 ,  0.23527935,  0.1085045 , -0.01143143,  0.27506253,\n",
       "         -0.25128073,  0.12587094,  0.2175453 ,  0.15831941, -0.14072576],\n",
       "        [-0.24891609, -0.20125204,  0.06408042,  0.08385196,  0.09988993,\n",
       "         -0.12578534,  0.16299969,  0.04713523, -0.03929195, -0.17993414],\n",
       "        [-0.05156541, -0.24327098,  0.14685601,  0.1351583 ,  0.04006284,\n",
       "          0.24351314, -0.12159951,  0.2580767 , -0.2570815 , -0.2504134 ],\n",
       "        [ 0.16813773, -0.22780931, -0.05035746,  0.08051208,  0.27294073,\n",
       "          0.06950727, -0.16039357,  0.01931497,  0.2405673 ,  0.2484149 ],\n",
       "        [ 0.08257496, -0.27564585,  0.18424264,  0.27826664,  0.04574957,\n",
       "         -0.25489107,  0.13570619,  0.19119707, -0.27686688, -0.13939819],\n",
       "        [-0.06249678,  0.2746025 , -0.02890566,  0.17510858,  0.25274912,\n",
       "          0.05590856, -0.11512615,  0.12979907,  0.20417705,  0.02020609],\n",
       "        [ 0.25936708, -0.07764533, -0.13931774,  0.08927894,  0.2601436 ,\n",
       "          0.01923522,  0.10735041, -0.05712125,  0.10016277, -0.25951058],\n",
       "        [ 0.0740149 ,  0.03815955, -0.00126022,  0.19793037,  0.2546756 ,\n",
       "          0.09492847,  0.28341988,  0.16815266, -0.07823516,  0.1970694 ],\n",
       "        [-0.01791593,  0.02749255,  0.27916685,  0.22275224, -0.1140423 ,\n",
       "          0.09484524,  0.28301486, -0.22896552,  0.2352505 ,  0.15317696],\n",
       "        [-0.10154378, -0.05905019,  0.19768706, -0.26800743,  0.08464301,\n",
       "          0.17339921, -0.08026497, -0.04138796, -0.2664523 , -0.13110676],\n",
       "        [ 0.11073542,  0.12143317, -0.09144875,  0.20600796, -0.00173551,\n",
       "          0.15150756,  0.28413936,  0.16098249,  0.07603025, -0.24696359],\n",
       "        [-0.1832865 , -0.20311663, -0.11716038, -0.19297284,  0.17746136,\n",
       "         -0.18957065, -0.14866905,  0.14864299, -0.03248689, -0.146889  ],\n",
       "        [ 0.09587851, -0.02134961, -0.08906612, -0.22716327,  0.13237032,\n",
       "         -0.1919964 , -0.18702352, -0.11925143,  0.07408673, -0.00984254]],\n",
       "       dtype=float32)>,\n",
       " <tf.Variable 'dense_1/bias:0' shape=(10,) dtype=float32, numpy=array([0., 0., 0., 0., 0., 0., 0., 0., 0., 0.], dtype=float32)>]"
      ]
     },
     "execution_count": 5,
     "metadata": {},
     "output_type": "execute_result"
    }
   ],
   "source": [
    "# check weight again, it's random as we did not train\n",
    "model.weights"
   ]
  },
  {
   "cell_type": "code",
   "execution_count": 6,
   "id": "c79c20fe",
   "metadata": {
    "execution": {
     "iopub.execute_input": "2023-02-17T03:45:21.177979Z",
     "iopub.status.busy": "2023-02-17T03:45:21.177144Z",
     "iopub.status.idle": "2023-02-17T03:45:21.196100Z",
     "shell.execute_reply": "2023-02-17T03:45:21.195225Z"
    },
    "papermill": {
     "duration": 0.032673,
     "end_time": "2023-02-17T03:45:21.198300",
     "exception": false,
     "start_time": "2023-02-17T03:45:21.165627",
     "status": "completed"
    },
    "tags": []
   },
   "outputs": [
    {
     "name": "stdout",
     "output_type": "stream",
     "text": [
      "Model: \"sequential\"\n",
      "_________________________________________________________________\n",
      " Layer (type)                Output Shape              Param #   \n",
      "=================================================================\n",
      " dense (Dense)               (None, 64)                320       \n",
      "                                                                 \n",
      " dense_1 (Dense)             (None, 10)                650       \n",
      "                                                                 \n",
      "=================================================================\n",
      "Total params: 970\n",
      "Trainable params: 970\n",
      "Non-trainable params: 0\n",
      "_________________________________________________________________\n"
     ]
    }
   ],
   "source": [
    "# check model summary\n",
    "model.summary()"
   ]
  },
  {
   "cell_type": "markdown",
   "id": "3cd805a8",
   "metadata": {
    "papermill": {
     "duration": 0.010633,
     "end_time": "2023-02-17T03:45:21.220150",
     "exception": false,
     "start_time": "2023-02-17T03:45:21.209517",
     "status": "completed"
    },
    "tags": []
   },
   "source": [
    "**Note**: You can actually name the model"
   ]
  },
  {
   "cell_type": "code",
   "execution_count": 7,
   "id": "9b4d6578",
   "metadata": {
    "execution": {
     "iopub.execute_input": "2023-02-17T03:45:21.244113Z",
     "iopub.status.busy": "2023-02-17T03:45:21.243758Z",
     "iopub.status.idle": "2023-02-17T03:45:21.472034Z",
     "shell.execute_reply": "2023-02-17T03:45:21.470913Z"
    },
    "papermill": {
     "duration": 0.242943,
     "end_time": "2023-02-17T03:45:21.474222",
     "exception": false,
     "start_time": "2023-02-17T03:45:21.231279",
     "status": "completed"
    },
    "tags": []
   },
   "outputs": [
    {
     "data": {
      "image/png": "[encoded data removed]",
      "text/plain": [
       "<IPython.core.display.Image object>"
      ]
     },
     "execution_count": 7,
     "metadata": {},
     "output_type": "execute_result"
    }
   ],
   "source": [
    "keras.utils.plot_model(model, \"simple_classifier.png\")"
   ]
  },
  {
   "cell_type": "markdown",
   "id": "0c327ea9",
   "metadata": {
    "papermill": {
     "duration": 0.010723,
     "end_time": "2023-02-17T03:45:21.496312",
     "exception": false,
     "start_time": "2023-02-17T03:45:21.485589",
     "status": "completed"
    },
    "tags": []
   },
   "source": [
    "## Build a simple 2-layer model with name initialization"
   ]
  },
  {
   "cell_type": "code",
   "execution_count": 8,
   "id": "8ff78bed",
   "metadata": {
    "execution": {
     "iopub.execute_input": "2023-02-17T03:45:21.520084Z",
     "iopub.status.busy": "2023-02-17T03:45:21.519705Z",
     "iopub.status.idle": "2023-02-17T03:45:21.558587Z",
     "shell.execute_reply": "2023-02-17T03:45:21.557251Z"
    },
    "papermill": {
     "duration": 0.057093,
     "end_time": "2023-02-17T03:45:21.564306",
     "exception": false,
     "start_time": "2023-02-17T03:45:21.507213",
     "status": "completed"
    },
    "tags": []
   },
   "outputs": [
    {
     "name": "stdout",
     "output_type": "stream",
     "text": [
      "Model: \"minh's model\"\n",
      "_________________________________________________________________\n",
      " Layer (type)                Output Shape              Param #   \n",
      "=================================================================\n",
      " first_layer (Dense)         (None, 64)                256       \n",
      "                                                                 \n",
      " last_layer (Dense)          (None, 10)                650       \n",
      "                                                                 \n",
      "=================================================================\n",
      "Total params: 906\n",
      "Trainable params: 906\n",
      "Non-trainable params: 0\n",
      "_________________________________________________________________\n"
     ]
    }
   ],
   "source": [
    "# create a model\n",
    "model = keras.Sequential(name=\"minh's model\")\n",
    "model.add(layers.Dense(64, activation=\"relu\", name=\"first_layer\"))\n",
    "model.add(layers.Dense(10, activation=\"softmax\", name=\"last_layer\"))\n",
    "\n",
    "# build model (not train on any data)\n",
    "model.build((None, 3))\n",
    "\n",
    "# print summary\n",
    "model.summary()"
   ]
  },
  {
   "cell_type": "code",
   "execution_count": 9,
   "id": "76ee85e3",
   "metadata": {
    "execution": {
     "iopub.execute_input": "2023-02-17T03:45:21.590995Z",
     "iopub.status.busy": "2023-02-17T03:45:21.590594Z",
     "iopub.status.idle": "2023-02-17T03:45:21.659899Z",
     "shell.execute_reply": "2023-02-17T03:45:21.658512Z"
    },
    "papermill": {
     "duration": 0.085782,
     "end_time": "2023-02-17T03:45:21.662632",
     "exception": false,
     "start_time": "2023-02-17T03:45:21.576850",
     "status": "completed"
    },
    "tags": []
   },
   "outputs": [
    {
     "data": {
      "image/png": "[encoded data removed]",
      "text/plain": [
       "<IPython.core.display.Image object>"
      ]
     },
     "execution_count": 9,
     "metadata": {},
     "output_type": "execute_result"
    }
   ],
   "source": [
    "keras.utils.plot_model(model, \"simple_classifier.png\")"
   ]
  },
  {
   "cell_type": "markdown",
   "id": "afa6c2ad",
   "metadata": {
    "papermill": {
     "duration": 0.011612,
     "end_time": "2023-02-17T03:45:21.686571",
     "exception": false,
     "start_time": "2023-02-17T03:45:21.674959",
     "status": "completed"
    },
    "tags": []
   },
   "source": [
    "# 7.2.2. The Functional API\n",
    "- Sequential model is easy to use but its application is extremely limited: it can only express models with a single input and a single output, applying one layer after the other in a sequential fashion. In practice, it's pretty common to encounter model with multiple inputs (image and its metadata), multiple outputs (different things you want to predict at once), or nonlinear topology.\n"
   ]
  },
  {
   "cell_type": "markdown",
   "id": "67b60585",
   "metadata": {
    "papermill": {
     "duration": 0.01181,
     "end_time": "2023-02-17T03:45:21.710434",
     "exception": false,
     "start_time": "2023-02-17T03:45:21.698624",
     "status": "completed"
    },
    "tags": []
   },
   "source": [
    "## A. Build a simple Functional model with 3 Dense layers"
   ]
  },
  {
   "cell_type": "code",
   "execution_count": 10,
   "id": "b411fec9",
   "metadata": {
    "execution": {
     "iopub.execute_input": "2023-02-17T03:45:21.736855Z",
     "iopub.status.busy": "2023-02-17T03:45:21.735836Z",
     "iopub.status.idle": "2023-02-17T03:45:21.769357Z",
     "shell.execute_reply": "2023-02-17T03:45:21.768157Z"
    },
    "papermill": {
     "duration": 0.049117,
     "end_time": "2023-02-17T03:45:21.771702",
     "exception": false,
     "start_time": "2023-02-17T03:45:21.722585",
     "status": "completed"
    },
    "tags": []
   },
   "outputs": [],
   "source": [
    "# init inputs\n",
    "inputs = keras.Input(shape=(3,), name=\"my_input\")\n",
    "\n",
    "# binding layers\n",
    "features_1 = layers.Dense(64, activation=\"relu\")(inputs)\n",
    "features_2 = layers.Dense(32, activation=\"relu\")(features_1)\n",
    "outputs = layers.Dense(10, activation=\"softmax\")(features_2)\n",
    "\n",
    "# connect layers\n",
    "model = keras.Model(inputs=inputs, outputs=outputs)"
   ]
  },
  {
   "cell_type": "code",
   "execution_count": 11,
   "id": "f2ecbd2e",
   "metadata": {
    "execution": {
     "iopub.execute_input": "2023-02-17T03:45:21.798302Z",
     "iopub.status.busy": "2023-02-17T03:45:21.797837Z",
     "iopub.status.idle": "2023-02-17T03:45:21.822813Z",
     "shell.execute_reply": "2023-02-17T03:45:21.822107Z"
    },
    "papermill": {
     "duration": 0.040313,
     "end_time": "2023-02-17T03:45:21.824499",
     "exception": false,
     "start_time": "2023-02-17T03:45:21.784186",
     "status": "completed"
    },
    "tags": []
   },
   "outputs": [
    {
     "name": "stdout",
     "output_type": "stream",
     "text": [
      "Model: \"model\"\n",
      "_________________________________________________________________\n",
      " Layer (type)                Output Shape              Param #   \n",
      "=================================================================\n",
      " my_input (InputLayer)       [(None, 3)]               0         \n",
      "                                                                 \n",
      " dense_2 (Dense)             (None, 64)                256       \n",
      "                                                                 \n",
      " dense_3 (Dense)             (None, 32)                2080      \n",
      "                                                                 \n",
      " dense_4 (Dense)             (None, 10)                330       \n",
      "                                                                 \n",
      "=================================================================\n",
      "Total params: 2,666\n",
      "Trainable params: 2,666\n",
      "Non-trainable params: 0\n",
      "_________________________________________________________________\n"
     ]
    }
   ],
   "source": [
    "model.summary()"
   ]
  },
  {
   "cell_type": "code",
   "execution_count": 12,
   "id": "41dc1048",
   "metadata": {
    "execution": {
     "iopub.execute_input": "2023-02-17T03:45:21.851512Z",
     "iopub.status.busy": "2023-02-17T03:45:21.851116Z",
     "iopub.status.idle": "2023-02-17T03:45:21.909066Z",
     "shell.execute_reply": "2023-02-17T03:45:21.908235Z"
    },
    "papermill": {
     "duration": 0.073407,
     "end_time": "2023-02-17T03:45:21.910776",
     "exception": false,
     "start_time": "2023-02-17T03:45:21.837369",
     "status": "completed"
    },
    "tags": []
   },
   "outputs": [
    {
     "data": {
      "image/png": "[encoded data removed]",
      "text/plain": [
       "<IPython.core.display.Image object>"
      ]
     },
     "execution_count": 12,
     "metadata": {},
     "output_type": "execute_result"
    }
   ],
   "source": [
    "keras.utils.plot_model(model, \"simple_classifier.png\")"
   ]
  },
  {
   "cell_type": "markdown",
   "id": "df029bf4",
   "metadata": {
    "papermill": {
     "duration": 0.012771,
     "end_time": "2023-02-17T03:45:21.937218",
     "exception": false,
     "start_time": "2023-02-17T03:45:21.924447",
     "status": "completed"
    },
    "tags": []
   },
   "source": [
    "## B. Build a multi-input, multi-output Functional model\n",
    "- Says, you want to build a system to rank customer support tickers by priority and route them to the appropriate department. Your model has 3 inputs:\n",
    "    - The title of the ticket (text input).\n",
    "    - The text body of the ticket (text input).\n",
    "    - Any tags added by the user (categorical input, assumed here to be one-hot encoded).\n",
    "- Now, we can encode the text input as arrays of 1s and 0s of size vocabulary_size, so now, your model also has 2 outputs:\n",
    "    - The priority score of the ticket, a scalar between 0 and 1 (sigmoid output).\n",
    "    - The department that should handle the ticket (a softmax over the set of department)."
   ]
  },
  {
   "cell_type": "markdown",
   "id": "f92ba539",
   "metadata": {
    "papermill": {
     "duration": 0.01305,
     "end_time": "2023-02-17T03:45:21.964107",
     "exception": false,
     "start_time": "2023-02-17T03:45:21.951057",
     "status": "completed"
    },
    "tags": []
   },
   "source": [
    "### Build a model"
   ]
  },
  {
   "cell_type": "code",
   "execution_count": 13,
   "id": "14b43a07",
   "metadata": {
    "execution": {
     "iopub.execute_input": "2023-02-17T03:45:21.993619Z",
     "iopub.status.busy": "2023-02-17T03:45:21.992347Z",
     "iopub.status.idle": "2023-02-17T03:45:22.045666Z",
     "shell.execute_reply": "2023-02-17T03:45:22.044595Z"
    },
    "papermill": {
     "duration": 0.070706,
     "end_time": "2023-02-17T03:45:22.048040",
     "exception": false,
     "start_time": "2023-02-17T03:45:21.977334",
     "status": "completed"
    },
    "tags": []
   },
   "outputs": [],
   "source": [
    "vocab_size = 10000\n",
    "num_tags = 100\n",
    "num_departments = 4\n",
    "\n",
    "# define model input\n",
    "title = keras.Input(shape=(vocab_size,), name=\"title\")\n",
    "text_body = keras.Input(shape=(vocab_size,), name=\"text_body\")\n",
    "tags = keras.Input(shape=(num_tags,), name=\"tags\")\n",
    "\n",
    "# define layers\n",
    "features = layers.Concatenate()([title, text_body, tags])\n",
    "features = layers.Dense(64, activation=\"relu\")(features)\n",
    "\n",
    "# define model output\n",
    "priority = layers.Dense(1, activation=\"sigmoid\", name=\"priority\")(features)\n",
    "department = layers.Dense(num_departments, activation=\"softmax\", name=\"department\")(features)\n",
    "\n",
    "# binding model\n",
    "model = keras.Model(inputs=[title, text_body, tags], outputs=[priority, department])"
   ]
  },
  {
   "cell_type": "markdown",
   "id": "cdea20f3",
   "metadata": {
    "papermill": {
     "duration": 0.01272,
     "end_time": "2023-02-17T03:45:22.074251",
     "exception": false,
     "start_time": "2023-02-17T03:45:22.061531",
     "status": "completed"
    },
    "tags": []
   },
   "source": [
    "## C. Train a model by providing lists of input and target arrays"
   ]
  },
  {
   "cell_type": "code",
   "execution_count": 14,
   "id": "b10a7131",
   "metadata": {
    "execution": {
     "iopub.execute_input": "2023-02-17T03:45:22.102286Z",
     "iopub.status.busy": "2023-02-17T03:45:22.101894Z",
     "iopub.status.idle": "2023-02-17T03:45:22.308004Z",
     "shell.execute_reply": "2023-02-17T03:45:22.306478Z"
    },
    "papermill": {
     "duration": 0.223291,
     "end_time": "2023-02-17T03:45:22.310584",
     "exception": false,
     "start_time": "2023-02-17T03:45:22.087293",
     "status": "completed"
    },
    "tags": []
   },
   "outputs": [],
   "source": [
    "num_samples = 1280\n",
    "\n",
    "# create dummy input data\n",
    "title_data = np.random.randint(low=0, high=2, size=(num_samples, vocab_size))\n",
    "text_body_data = np.random.randint(low=0, high=2, size=(num_samples, vocab_size))\n",
    "tags_data = np.random.randint(low=0, high=2, size=(num_samples, num_tags))\n",
    "\n",
    "# create dummy target data\n",
    "priority_data = np.random.random(size=(num_samples, 1))\n",
    "department_data = np.random.randint(0, 2, size=(num_samples, num_departments))"
   ]
  },
  {
   "cell_type": "code",
   "execution_count": 15,
   "id": "85b328f7",
   "metadata": {
    "execution": {
     "iopub.execute_input": "2023-02-17T03:45:22.339508Z",
     "iopub.status.busy": "2023-02-17T03:45:22.339114Z",
     "iopub.status.idle": "2023-02-17T03:45:25.032025Z",
     "shell.execute_reply": "2023-02-17T03:45:25.031208Z"
    },
    "papermill": {
     "duration": 2.709978,
     "end_time": "2023-02-17T03:45:25.034351",
     "exception": false,
     "start_time": "2023-02-17T03:45:22.324373",
     "status": "completed"
    },
    "tags": []
   },
   "outputs": [
    {
     "name": "stdout",
     "output_type": "stream",
     "text": [
      "40/40 [==============================] - 1s 11ms/step - loss: 27.9233 - priority_loss: 0.3274 - department_loss: 27.5959 - priority_mean_absolute_error: 0.4958 - department_accuracy: 0.3016\n",
      "40/40 [==============================] - 0s 5ms/step - loss: 31.6032 - priority_loss: 0.3314 - department_loss: 31.2718 - priority_mean_absolute_error: 0.4986 - department_accuracy: 0.0609\n",
      "40/40 [==============================] - 0s 5ms/step\n"
     ]
    }
   ],
   "source": [
    "# build model\n",
    "model.compile(optimizer=\"rmsprop\",\n",
    "              loss=[\"mean_squared_error\", \"categorical_crossentropy\"], # loss for regression (priority_data), loss for multi-class classification (department data)\n",
    "              metrics=[[\"mean_absolute_error\"], [\"accuracy\"]]) # metrics for regression, classification\n",
    "\n",
    "# train model on data\n",
    "model.fit(x=[title_data, text_body_data, tags_data],\n",
    "          y=[priority_data, department_data],\n",
    "          epochs=1)\n",
    "\n",
    "# evaluate model on data\n",
    "model.evaluate(x=[title_data, text_body_data, tags_data],\n",
    "               y=[priority_data, department_data])\n",
    "\n",
    "# predict\n",
    "priority_preds, department_preds = model.predict([title_data, text_body_data, tags_data])"
   ]
  },
  {
   "cell_type": "markdown",
   "id": "033ddf68",
   "metadata": {
    "papermill": {
     "duration": 0.014387,
     "end_time": "2023-02-17T03:45:25.063514",
     "exception": false,
     "start_time": "2023-02-17T03:45:25.049127",
     "status": "completed"
    },
    "tags": []
   },
   "source": [
    "**Note**: if you don't want to rely on the input order in the case that you got many inputs and outputs. The good thing is that you can activally specify which loss, metrics belong to which data."
   ]
  },
  {
   "cell_type": "code",
   "execution_count": 16,
   "id": "a629dc58",
   "metadata": {
    "execution": {
     "iopub.execute_input": "2023-02-17T03:45:25.094634Z",
     "iopub.status.busy": "2023-02-17T03:45:25.093626Z",
     "iopub.status.idle": "2023-02-17T03:45:25.142497Z",
     "shell.execute_reply": "2023-02-17T03:45:25.141699Z"
    },
    "papermill": {
     "duration": 0.066893,
     "end_time": "2023-02-17T03:45:25.144867",
     "exception": false,
     "start_time": "2023-02-17T03:45:25.077974",
     "status": "completed"
    },
    "tags": []
   },
   "outputs": [],
   "source": [
    "vocab_size = 10000\n",
    "num_tags = 100\n",
    "num_departments = 4\n",
    "\n",
    "# define model input\n",
    "title = keras.Input(shape=(vocab_size,), name=\"title\")\n",
    "text_body = keras.Input(shape=(vocab_size,), name=\"text_body\")\n",
    "tags = keras.Input(shape=(num_tags,), name=\"tags\")\n",
    "\n",
    "# define layers\n",
    "features = layers.Concatenate(name=\"concatenation_layer\")([title, text_body, tags])\n",
    "features = layers.Dense(64, activation=\"relu\", name=\"dense_layer\")(features)\n",
    "\n",
    "# define model output\n",
    "priority = layers.Dense(1, activation=\"sigmoid\", name=\"priority\")(features)\n",
    "department = layers.Dense(num_departments, activation=\"softmax\", name=\"department\")(features)\n",
    "\n",
    "# binding model\n",
    "model = keras.Model(inputs=[title, text_body, tags], outputs=[priority, department])"
   ]
  },
  {
   "cell_type": "code",
   "execution_count": 17,
   "id": "0bc4ac81",
   "metadata": {
    "execution": {
     "iopub.execute_input": "2023-02-17T03:45:25.175816Z",
     "iopub.status.busy": "2023-02-17T03:45:25.175025Z",
     "iopub.status.idle": "2023-02-17T03:45:27.338620Z",
     "shell.execute_reply": "2023-02-17T03:45:27.337097Z"
    },
    "papermill": {
     "duration": 2.181746,
     "end_time": "2023-02-17T03:45:27.341083",
     "exception": false,
     "start_time": "2023-02-17T03:45:25.159337",
     "status": "completed"
    },
    "tags": []
   },
   "outputs": [
    {
     "name": "stdout",
     "output_type": "stream",
     "text": [
      "40/40 [==============================] - 1s 11ms/step - loss: 36.8467 - priority_loss: 0.3295 - department_loss: 36.5172 - priority_mean_squared_error: 0.3295 - department_accuracy: 0.2602\n",
      "40/40 [==============================] - 0s 5ms/step - loss: 34.7926 - priority_loss: 0.3342 - department_loss: 34.4584 - priority_mean_squared_error: 0.3342 - department_accuracy: 0.1406\n",
      "40/40 [==============================] - 0s 5ms/step\n"
     ]
    }
   ],
   "source": [
    "# build model\n",
    "model.compile(optimizer=\"rmsprop\",\n",
    "              loss={\"priority\": \"mean_squared_error\",\n",
    "                    \"department\": \"categorical_crossentropy\"},\n",
    "              metrics={\"priority\": [\"mean_squared_error\"],\n",
    "                       \"department\": [\"accuracy\"]})\n",
    "\n",
    "# train model on data (dictionary ey is based on the input's and output's names)\n",
    "model.fit(x={\"title\": title_data,\n",
    "             \"text_body\": text_body_data,\n",
    "             \"tags\": tags_data},\n",
    "          y={\"priority\": priority_data,\n",
    "             \"department\": department_data},\n",
    "          epochs=1)\n",
    "\n",
    "# evaluate model on data\n",
    "model.evaluate(x={\"title\": title_data, \"text_body\": text_body_data,\"tags\": tags_data},\n",
    "               y={\"priority\": priority_data, \"department\": department_data})\n",
    "\n",
    "# make prediction on data\n",
    "priority_preds, department_preds = model.predict({\"title\": title_data, \"text_body\": text_body_data, \"tags\": tags_data})"
   ]
  },
  {
   "cell_type": "markdown",
   "id": "10eb0a8b",
   "metadata": {
    "papermill": {
     "duration": 0.015018,
     "end_time": "2023-02-17T03:45:27.371953",
     "exception": false,
     "start_time": "2023-02-17T03:45:27.356935",
     "status": "completed"
    },
    "tags": []
   },
   "source": [
    "**Note**: The functional API is very powerful as it access to layer connectivity. The functional model is an explitcit graph data structure. This makes the model possible to inspect how layers are connect and resue previous graph nodes (layer outputs as part of new model."
   ]
  },
  {
   "cell_type": "code",
   "execution_count": 18,
   "id": "710f66f2",
   "metadata": {
    "execution": {
     "iopub.execute_input": "2023-02-17T03:45:27.404156Z",
     "iopub.status.busy": "2023-02-17T03:45:27.403767Z",
     "iopub.status.idle": "2023-02-17T03:45:27.534464Z",
     "shell.execute_reply": "2023-02-17T03:45:27.532464Z"
    },
    "papermill": {
     "duration": 0.150084,
     "end_time": "2023-02-17T03:45:27.537542",
     "exception": false,
     "start_time": "2023-02-17T03:45:27.387458",
     "status": "completed"
    },
    "tags": []
   },
   "outputs": [
    {
     "data": {
      "image/png": "[encoded data removed]",
      "text/plain": [
       "<IPython.core.display.Image object>"
      ]
     },
     "execution_count": 18,
     "metadata": {},
     "output_type": "execute_result"
    }
   ],
   "source": [
    "# high level visualization of model\n",
    "keras.utils.plot_model(model, \"my_model.png\")"
   ]
  },
  {
   "cell_type": "code",
   "execution_count": 19,
   "id": "8c2d2ba1",
   "metadata": {
    "execution": {
     "iopub.execute_input": "2023-02-17T03:45:27.573707Z",
     "iopub.status.busy": "2023-02-17T03:45:27.573283Z",
     "iopub.status.idle": "2023-02-17T03:45:27.703054Z",
     "shell.execute_reply": "2023-02-17T03:45:27.702056Z"
    },
    "papermill": {
     "duration": 0.149236,
     "end_time": "2023-02-17T03:45:27.705104",
     "exception": false,
     "start_time": "2023-02-17T03:45:27.555868",
     "status": "completed"
    },
    "tags": []
   },
   "outputs": [
    {
     "data": {
      "image/png": "[encoded data removed]",
      "text/plain": [
       "<IPython.core.display.Image object>"
      ]
     },
     "execution_count": 19,
     "metadata": {},
     "output_type": "execute_result"
    }
   ],
   "source": [
    "# detailed high level visualization of model\n",
    "keras.utils.plot_model(model, \"my_model.png\", show_shapes=True)"
   ]
  },
  {
   "cell_type": "markdown",
   "id": "8939f208",
   "metadata": {
    "papermill": {
     "duration": 0.016638,
     "end_time": "2023-02-17T03:45:27.738646",
     "exception": false,
     "start_time": "2023-02-17T03:45:27.722008",
     "status": "completed"
    },
    "tags": []
   },
   "source": [
    "**Note**: \"None\" == batch size. This means that the model allows batches of any size."
   ]
  },
  {
   "cell_type": "markdown",
   "id": "53e12776",
   "metadata": {
    "papermill": {
     "duration": 0.01608,
     "end_time": "2023-02-17T03:45:27.771945",
     "exception": false,
     "start_time": "2023-02-17T03:45:27.755865",
     "status": "completed"
    },
    "tags": []
   },
   "source": [
    "### Retrieve the inputs or output of a layer in a Functional model"
   ]
  },
  {
   "cell_type": "code",
   "execution_count": 20,
   "id": "091de008",
   "metadata": {
    "execution": {
     "iopub.execute_input": "2023-02-17T03:45:27.806946Z",
     "iopub.status.busy": "2023-02-17T03:45:27.806536Z",
     "iopub.status.idle": "2023-02-17T03:45:27.813762Z",
     "shell.execute_reply": "2023-02-17T03:45:27.812692Z"
    },
    "papermill": {
     "duration": 0.027069,
     "end_time": "2023-02-17T03:45:27.815665",
     "exception": false,
     "start_time": "2023-02-17T03:45:27.788596",
     "status": "completed"
    },
    "tags": []
   },
   "outputs": [
    {
     "data": {
      "text/plain": [
       "[<keras.engine.input_layer.InputLayer at 0x7f4398c6e550>,\n",
       " <keras.engine.input_layer.InputLayer at 0x7f430c16b6d0>,\n",
       " <keras.engine.input_layer.InputLayer at 0x7f4398cff5d0>,\n",
       " <keras.layers.merging.concatenate.Concatenate at 0x7f430c1b8590>,\n",
       " <keras.layers.core.dense.Dense at 0x7f43047f2150>,\n",
       " <keras.layers.core.dense.Dense at 0x7f430c01ae90>,\n",
       " <keras.layers.core.dense.Dense at 0x7f4398ce2210>]"
      ]
     },
     "execution_count": 20,
     "metadata": {},
     "output_type": "execute_result"
    }
   ],
   "source": [
    "model.layers"
   ]
  },
  {
   "cell_type": "code",
   "execution_count": 21,
   "id": "5ed1a784",
   "metadata": {
    "execution": {
     "iopub.execute_input": "2023-02-17T03:45:27.850003Z",
     "iopub.status.busy": "2023-02-17T03:45:27.849651Z",
     "iopub.status.idle": "2023-02-17T03:45:27.856902Z",
     "shell.execute_reply": "2023-02-17T03:45:27.855888Z"
    },
    "papermill": {
     "duration": 0.026716,
     "end_time": "2023-02-17T03:45:27.858799",
     "exception": false,
     "start_time": "2023-02-17T03:45:27.832083",
     "status": "completed"
    },
    "tags": []
   },
   "outputs": [
    {
     "data": {
      "text/plain": [
       "[<KerasTensor: shape=(None, 10000) dtype=float32 (created by layer 'title')>,\n",
       " <KerasTensor: shape=(None, 10000) dtype=float32 (created by layer 'text_body')>,\n",
       " <KerasTensor: shape=(None, 100) dtype=float32 (created by layer 'tags')>]"
      ]
     },
     "execution_count": 21,
     "metadata": {},
     "output_type": "execute_result"
    }
   ],
   "source": [
    "model.layers[3].input # 3 == 3rd table, start from 0"
   ]
  },
  {
   "cell_type": "code",
   "execution_count": 22,
   "id": "746fbe86",
   "metadata": {
    "execution": {
     "iopub.execute_input": "2023-02-17T03:45:27.893623Z",
     "iopub.status.busy": "2023-02-17T03:45:27.893205Z",
     "iopub.status.idle": "2023-02-17T03:45:27.900229Z",
     "shell.execute_reply": "2023-02-17T03:45:27.898700Z"
    },
    "papermill": {
     "duration": 0.027267,
     "end_time": "2023-02-17T03:45:27.902556",
     "exception": false,
     "start_time": "2023-02-17T03:45:27.875289",
     "status": "completed"
    },
    "tags": []
   },
   "outputs": [
    {
     "data": {
      "text/plain": [
       "<KerasTensor: shape=(None, 20100) dtype=float32 (created by layer 'concatenation_layer')>"
      ]
     },
     "execution_count": 22,
     "metadata": {},
     "output_type": "execute_result"
    }
   ],
   "source": [
    "model.layers[3].output"
   ]
  },
  {
   "cell_type": "markdown",
   "id": "d7018a45",
   "metadata": {
    "papermill": {
     "duration": 0.016445,
     "end_time": "2023-02-17T03:45:27.935798",
     "exception": false,
     "start_time": "2023-02-17T03:45:27.919353",
     "status": "completed"
    },
    "tags": []
   },
   "source": [
    "### Feature Extraction\n",
    "- As we have access to trained layer, we can create models that reuse intermediate features from another model.\n",
    "- Says, you want to create another output from previous model, you want to classify \"quick\", \"medium\", \"difficult\" for how long the ticket got to resolve."
   ]
  },
  {
   "cell_type": "code",
   "execution_count": 23,
   "id": "fa930218",
   "metadata": {
    "execution": {
     "iopub.execute_input": "2023-02-17T03:45:27.971031Z",
     "iopub.status.busy": "2023-02-17T03:45:27.970618Z",
     "iopub.status.idle": "2023-02-17T03:45:27.976687Z",
     "shell.execute_reply": "2023-02-17T03:45:27.976030Z"
    },
    "papermill": {
     "duration": 0.026657,
     "end_time": "2023-02-17T03:45:27.979047",
     "exception": false,
     "start_time": "2023-02-17T03:45:27.952390",
     "status": "completed"
    },
    "tags": []
   },
   "outputs": [
    {
     "data": {
      "text/plain": [
       "<KerasTensor: shape=(None, 64) dtype=float32 (created by layer 'dense_layer')>"
      ]
     },
     "execution_count": 23,
     "metadata": {},
     "output_type": "execute_result"
    }
   ],
   "source": [
    "# get the output layer of the previous model\n",
    "features = model.layers[4].output # 4 == 4th table, start from 0\n",
    "features"
   ]
  },
  {
   "cell_type": "code",
   "execution_count": 24,
   "id": "d944da04",
   "metadata": {
    "execution": {
     "iopub.execute_input": "2023-02-17T03:45:28.014899Z",
     "iopub.status.busy": "2023-02-17T03:45:28.014455Z",
     "iopub.status.idle": "2023-02-17T03:45:28.036429Z",
     "shell.execute_reply": "2023-02-17T03:45:28.034961Z"
    },
    "papermill": {
     "duration": 0.042816,
     "end_time": "2023-02-17T03:45:28.039076",
     "exception": false,
     "start_time": "2023-02-17T03:45:27.996260",
     "status": "completed"
    },
    "tags": []
   },
   "outputs": [],
   "source": [
    "# rewrote the output layer\n",
    "difficulty = layers.Dense(3, activation=\"softmax\", name= \"difficulty\")(features) # softmax for multi-class classification (signle label)\n",
    "\n",
    "# binding model\n",
    "model = keras.Model(inputs=[title, text_body, tags], outputs=[priority, department, difficulty])"
   ]
  },
  {
   "cell_type": "code",
   "execution_count": 25,
   "id": "4201e734",
   "metadata": {
    "execution": {
     "iopub.execute_input": "2023-02-17T03:45:28.074704Z",
     "iopub.status.busy": "2023-02-17T03:45:28.074374Z",
     "iopub.status.idle": "2023-02-17T03:45:28.201223Z",
     "shell.execute_reply": "2023-02-17T03:45:28.200393Z"
    },
    "papermill": {
     "duration": 0.146951,
     "end_time": "2023-02-17T03:45:28.203097",
     "exception": false,
     "start_time": "2023-02-17T03:45:28.056146",
     "status": "completed"
    },
    "tags": []
   },
   "outputs": [
    {
     "data": {
      "image/png": "[encoded data removed]",
      "text/plain": [
       "<IPython.core.display.Image object>"
      ]
     },
     "execution_count": 25,
     "metadata": {},
     "output_type": "execute_result"
    }
   ],
   "source": [
    "keras.utils.plot_model(model, \"updated_ticket_classifier.png\", show_shapes=True)"
   ]
  },
  {
   "cell_type": "markdown",
   "id": "44852111",
   "metadata": {
    "papermill": {
     "duration": 0.017443,
     "end_time": "2023-02-17T03:45:28.238584",
     "exception": false,
     "start_time": "2023-02-17T03:45:28.221141",
     "status": "completed"
    },
    "tags": []
   },
   "source": [
    "# 7.2.3. Subclassing the Model class\n",
    "- This model-building pattern is the most advance one, as you have to build everything from scratch.\n",
    "    - ```__init__()```: define the layers the model will use.\n",
    "    - ```call()```: define the forward pass of the model, reusing the layers.\n",
    "    - Instantiate your subclass, and call it on data to create its weights.\n",
    "- What's the difference between Layer subclass and the Model sub class? \n",
    "    - The layer is a building block you use to create models\n",
    "    - Tthe model is the top level object that you will actually train, export to inference/deployment,...\n",
    "    - Model has ```fit(), evaluate(), predict()``` methods and Layer don't.\n",
    "- You can then compile the model similar to how Sequential and Functional model did.\n",
    "- Why use this methods over Functional API?\n",
    "    - It enable you to build models that can't be expressed as DAG of layer. If the ```call()``` function has for-loop or recursive call, you can put your logic into it.\n",
    "    - Acts as blackbox. Very secure.\n",
    "- Tradeoff? \n",
    "    - You can't use ```summary()```\n",
    "    - You can't use ```plot_model()```\n",
    "    - You can't do feature extraction."
   ]
  },
  {
   "cell_type": "markdown",
   "id": "35edea36",
   "metadata": {
    "papermill": {
     "duration": 0.017335,
     "end_time": "2023-02-17T03:45:28.273639",
     "exception": false,
     "start_time": "2023-02-17T03:45:28.256304",
     "status": "completed"
    },
    "tags": []
   },
   "source": [
    "## Build a multi-input, multi-output Functional model using subclasses model\n"
   ]
  },
  {
   "cell_type": "code",
   "execution_count": 26,
   "id": "ee6fab7b",
   "metadata": {
    "execution": {
     "iopub.execute_input": "2023-02-17T03:45:28.311036Z",
     "iopub.status.busy": "2023-02-17T03:45:28.309813Z",
     "iopub.status.idle": "2023-02-17T03:45:28.318745Z",
     "shell.execute_reply": "2023-02-17T03:45:28.317561Z"
    },
    "papermill": {
     "duration": 0.029505,
     "end_time": "2023-02-17T03:45:28.320730",
     "exception": false,
     "start_time": "2023-02-17T03:45:28.291225",
     "status": "completed"
    },
    "tags": []
   },
   "outputs": [],
   "source": [
    "class CustomerTicketModel(keras.Model):\n",
    "    \n",
    "    def __init__(self, num_departments):\n",
    "        \"\"\"Constructor\"\"\"\n",
    "        super().__init__()\n",
    "        \n",
    "        # define sub layers\n",
    "        self.concat_layer = layers.Concatenate()\n",
    "        self.mixing_layer = layers.Dense(64, activation=\"relu\")\n",
    "        self.priority_scorer = layers.Dense(1, activation=\"sigmoid\") # regression\n",
    "        self.department_classifier = layers.Dense(num_departments, activation=\"softmax\") # multi-class classification\n",
    "        \n",
    "    def call(self, inputs):\n",
    "        \"\"\"Forward pass\"\"\"\n",
    "        # define input layers\n",
    "        title = inputs[\"title\"]\n",
    "        text_body = inputs[\"text_body\"]\n",
    "        tags = inputs[\"tags\"]\n",
    "        \n",
    "        # define mixing layers\n",
    "        features = self.concat_layer([title, text_body, tags])\n",
    "        features = self.mixing_layer(features)\n",
    "        \n",
    "        # define output layers\n",
    "        priority = self.priority_scorer(features)\n",
    "        department = self.department_classifier(features)\n",
    "        \n",
    "        return priority, department"
   ]
  },
  {
   "cell_type": "code",
   "execution_count": 27,
   "id": "3b0e2455",
   "metadata": {
    "execution": {
     "iopub.execute_input": "2023-02-17T03:45:28.357706Z",
     "iopub.status.busy": "2023-02-17T03:45:28.357315Z",
     "iopub.status.idle": "2023-02-17T03:45:28.598406Z",
     "shell.execute_reply": "2023-02-17T03:45:28.597008Z"
    },
    "papermill": {
     "duration": 0.263244,
     "end_time": "2023-02-17T03:45:28.601673",
     "exception": false,
     "start_time": "2023-02-17T03:45:28.338429",
     "status": "completed"
    },
    "tags": []
   },
   "outputs": [],
   "source": [
    "# initialize & build model\n",
    "model = CustomerTicketModel(num_departments=4)\n",
    "\n",
    "# fetch input data into model\n",
    "priority, department = model({\"title\": title_data, \"text_body\": text_body_data, \"tags\": tags_data})"
   ]
  },
  {
   "cell_type": "code",
   "execution_count": 28,
   "id": "89c2f850",
   "metadata": {
    "execution": {
     "iopub.execute_input": "2023-02-17T03:45:28.647066Z",
     "iopub.status.busy": "2023-02-17T03:45:28.645986Z",
     "iopub.status.idle": "2023-02-17T03:45:31.113998Z",
     "shell.execute_reply": "2023-02-17T03:45:31.112606Z"
    },
    "papermill": {
     "duration": 2.490313,
     "end_time": "2023-02-17T03:45:31.116535",
     "exception": false,
     "start_time": "2023-02-17T03:45:28.626222",
     "status": "completed"
    },
    "tags": []
   },
   "outputs": [
    {
     "name": "stdout",
     "output_type": "stream",
     "text": [
      "40/40 [==============================] - 1s 11ms/step - loss: 29.6216 - output_1_loss: 0.3277 - output_2_loss: 29.2939 - output_1_mean_absolute_error: 0.4931 - output_2_accuracy: 0.3242\n",
      "40/40 [==============================] - 0s 5ms/step - loss: 14.6346 - output_1_loss: 0.3342 - output_2_loss: 14.3004 - output_1_mean_absolute_error: 0.5014 - output_2_accuracy: 0.0625\n",
      "40/40 [==============================] - 0s 5ms/step\n"
     ]
    }
   ],
   "source": [
    "# build model\n",
    "model.compile(optimizer=\"rmsprop\",\n",
    "              loss=[\"mean_squared_error\", \"categorical_crossentropy\"],\n",
    "              metrics=[[\"mean_absolute_error\"], [\"accuracy\"]]) \n",
    "\n",
    "# train model on data (dictionary is based on the input's and output's names)\n",
    "model.fit(x={\"title\": title_data,\n",
    "             \"text_body\": text_body_data,\n",
    "             \"tags\": tags_data},\n",
    "          y=[priority_data, department_data], epochs=1)\n",
    "\n",
    "model.evaluate(x={\"title\": title_data, \"text_body\": text_body_data, \"tags\": tags_data},\n",
    "               y=[priority_data, department_data])\n",
    "\n",
    "# make prediction on data\n",
    "priority_preds, department_preds = model.predict({\"title\": title_data, \"text_body\": text_body_data, \"tags\": tags_data})"
   ]
  },
  {
   "cell_type": "markdown",
   "id": "c050bd28",
   "metadata": {
    "papermill": {
     "duration": 0.018129,
     "end_time": "2023-02-17T03:45:31.153699",
     "exception": false,
     "start_time": "2023-02-17T03:45:31.135570",
     "status": "completed"
    },
    "tags": []
   },
   "source": [
    "# 7.2.4. Mixing & Matching Different Components"
   ]
  },
  {
   "cell_type": "markdown",
   "id": "63a60758",
   "metadata": {
    "papermill": {
     "duration": 0.018169,
     "end_time": "2023-02-17T03:45:31.190530",
     "exception": false,
     "start_time": "2023-02-17T03:45:31.172361",
     "status": "completed"
    },
    "tags": []
   },
   "source": [
    "## Build a Functional model that includes a subclassed model"
   ]
  },
  {
   "cell_type": "code",
   "execution_count": 29,
   "id": "367a1fa1",
   "metadata": {
    "execution": {
     "iopub.execute_input": "2023-02-17T03:45:31.228940Z",
     "iopub.status.busy": "2023-02-17T03:45:31.228620Z",
     "iopub.status.idle": "2023-02-17T03:45:31.234522Z",
     "shell.execute_reply": "2023-02-17T03:45:31.233741Z"
    },
    "papermill": {
     "duration": 0.02715,
     "end_time": "2023-02-17T03:45:31.236261",
     "exception": false,
     "start_time": "2023-02-17T03:45:31.209111",
     "status": "completed"
    },
    "tags": []
   },
   "outputs": [],
   "source": [
    "class Classifier(keras.Model):\n",
    "    def __init__(self, num_classes=2):\n",
    "        \"\"\"Constructor\"\"\"\n",
    "        super().__init__()\n",
    "        if num_classes == 2:\n",
    "            num_units = 1\n",
    "            activation = \"sigmoid\"\n",
    "        else:\n",
    "            num_units = num_classes\n",
    "            activation = \"softmax\"\n",
    "        self.dense = layers.Dense(num_units, activation=activation)\n",
    "        \n",
    "    def call(self, inputs):\n",
    "        return self.dense(inputs)"
   ]
  },
  {
   "cell_type": "code",
   "execution_count": 30,
   "id": "304d73ed",
   "metadata": {
    "execution": {
     "iopub.execute_input": "2023-02-17T03:45:31.275462Z",
     "iopub.status.busy": "2023-02-17T03:45:31.275068Z",
     "iopub.status.idle": "2023-02-17T03:45:31.329014Z",
     "shell.execute_reply": "2023-02-17T03:45:31.327609Z"
    },
    "papermill": {
     "duration": 0.076713,
     "end_time": "2023-02-17T03:45:31.331484",
     "exception": false,
     "start_time": "2023-02-17T03:45:31.254771",
     "status": "completed"
    },
    "tags": []
   },
   "outputs": [],
   "source": [
    "inputs = keras.Input(shape=(3,))\n",
    "features = layers.Dense(64, activation=\"relu\")(inputs)\n",
    "outputs = Classifier(num_classes=10)(features)\n",
    "model = keras.Model(inputs=inputs, outputs=outputs)"
   ]
  },
  {
   "cell_type": "markdown",
   "id": "71d26536",
   "metadata": {
    "papermill": {
     "duration": 0.01805,
     "end_time": "2023-02-17T03:45:31.368346",
     "exception": false,
     "start_time": "2023-02-17T03:45:31.350296",
     "status": "completed"
    },
    "tags": []
   },
   "source": [
    "# Build a Sub class model that includes a Functional model"
   ]
  },
  {
   "cell_type": "code",
   "execution_count": 31,
   "id": "75120caa",
   "metadata": {
    "execution": {
     "iopub.execute_input": "2023-02-17T03:45:31.408068Z",
     "iopub.status.busy": "2023-02-17T03:45:31.407553Z",
     "iopub.status.idle": "2023-02-17T03:45:31.423139Z",
     "shell.execute_reply": "2023-02-17T03:45:31.422446Z"
    },
    "papermill": {
     "duration": 0.037891,
     "end_time": "2023-02-17T03:45:31.425209",
     "exception": false,
     "start_time": "2023-02-17T03:45:31.387318",
     "status": "completed"
    },
    "tags": []
   },
   "outputs": [],
   "source": [
    "inputs = keras.Input(shape=(64,))\n",
    "outputs = layers.Dense(1, activation=\"sigmoid\")(inputs)\n",
    "binary_classifier = keras.Model(inputs=inputs, outputs=outputs)"
   ]
  },
  {
   "cell_type": "code",
   "execution_count": 32,
   "id": "e2c8e3e3",
   "metadata": {
    "execution": {
     "iopub.execute_input": "2023-02-17T03:45:31.463961Z",
     "iopub.status.busy": "2023-02-17T03:45:31.463461Z",
     "iopub.status.idle": "2023-02-17T03:45:31.468825Z",
     "shell.execute_reply": "2023-02-17T03:45:31.468213Z"
    },
    "papermill": {
     "duration": 0.026902,
     "end_time": "2023-02-17T03:45:31.470654",
     "exception": false,
     "start_time": "2023-02-17T03:45:31.443752",
     "status": "completed"
    },
    "tags": []
   },
   "outputs": [],
   "source": [
    "class MyModel(keras.Model):\n",
    "    def __init__(self, num_classes=2):\n",
    "        super().__init__()\n",
    "        self.dense = layers.Dense(64, activation=\"relu\")\n",
    "        self.classifier = binary_classifier\n",
    "        \n",
    "    def call(self, inputs):\n",
    "        features = self.dense(inputs)\n",
    "        return self.classifier(features)"
   ]
  },
  {
   "cell_type": "code",
   "execution_count": 33,
   "id": "c069ab87",
   "metadata": {
    "execution": {
     "iopub.execute_input": "2023-02-17T03:45:31.509585Z",
     "iopub.status.busy": "2023-02-17T03:45:31.509061Z",
     "iopub.status.idle": "2023-02-17T03:45:31.540063Z",
     "shell.execute_reply": "2023-02-17T03:45:31.539265Z"
    },
    "papermill": {
     "duration": 0.053107,
     "end_time": "2023-02-17T03:45:31.542495",
     "exception": false,
     "start_time": "2023-02-17T03:45:31.489388",
     "status": "completed"
    },
    "tags": []
   },
   "outputs": [],
   "source": [
    "model = MyModel()"
   ]
  },
  {
   "cell_type": "code",
   "execution_count": 34,
   "id": "03572947",
   "metadata": {
    "execution": {
     "iopub.execute_input": "2023-02-17T03:45:31.581295Z",
     "iopub.status.busy": "2023-02-17T03:45:31.580681Z",
     "iopub.status.idle": "2023-02-17T03:45:31.586818Z",
     "shell.execute_reply": "2023-02-17T03:45:31.585965Z"
    },
    "papermill": {
     "duration": 0.02857,
     "end_time": "2023-02-17T03:45:31.589512",
     "exception": false,
     "start_time": "2023-02-17T03:45:31.560942",
     "status": "completed"
    },
    "tags": []
   },
   "outputs": [
    {
     "data": {
      "text/plain": [
       "<__main__.MyModel at 0x7f430c164e10>"
      ]
     },
     "execution_count": 34,
     "metadata": {},
     "output_type": "execute_result"
    }
   ],
   "source": [
    "model"
   ]
  }
 ],
 "metadata": {
  "kernelspec": {
   "display_name": "Python 3",
   "language": "python",
   "name": "python3"
  },
  "language_info": {
   "codemirror_mode": {
    "name": "ipython",
    "version": 3
   },
   "file_extension": ".py",
   "mimetype": "text/x-python",
   "name": "python",
   "nbconvert_exporter": "python",
   "pygments_lexer": "ipython3",
   "version": "3.7.12"
  },
  "papermill": {
   "default_parameters": {},
   "duration": 29.03341,
   "end_time": "2023-02-17T03:45:35.106652",
   "environment_variables": {},
   "exception": null,
   "input_path": "__notebook__.ipynb",
   "output_path": "__notebook__.ipynb",
   "parameters": {},
   "start_time": "2023-02-17T03:45:06.073242",
   "version": "2.3.4"
  }
 },
 "nbformat": 4,
 "nbformat_minor": 5
}
