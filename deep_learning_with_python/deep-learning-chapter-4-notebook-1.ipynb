{
 "cells": [
  {
   "cell_type": "markdown",
   "id": "8280905c",
   "metadata": {
    "_cell_guid": "b1076dfc-b9ad-4769-8c92-a6c4dae69d19",
    "_uuid": "8f2839f25d086af736a60e9eeb907d3b93b6e0e5",
    "papermill": {
     "duration": 0.008897,
     "end_time": "2023-02-03T06:44:14.674480",
     "exception": false,
     "start_time": "2023-02-03T06:44:14.665583",
     "status": "completed"
    },
    "tags": []
   },
   "source": [
    "# Chapter 4.1: Classifying Movie Reviews: A Binary Classification"
   ]
  },
  {
   "cell_type": "code",
   "execution_count": 1,
   "id": "7ceee5e5",
   "metadata": {
    "execution": {
     "iopub.execute_input": "2023-02-03T06:44:14.691261Z",
     "iopub.status.busy": "2023-02-03T06:44:14.690607Z",
     "iopub.status.idle": "2023-02-03T06:44:21.781617Z",
     "shell.execute_reply": "2023-02-03T06:44:21.780429Z"
    },
    "papermill": {
     "duration": 7.102914,
     "end_time": "2023-02-03T06:44:21.784642",
     "exception": false,
     "start_time": "2023-02-03T06:44:14.681728",
     "status": "completed"
    },
    "tags": []
   },
   "outputs": [],
   "source": [
    "# import library\n",
    "import numpy as np\n",
    "import matplotlib.pyplot as plt\n",
    "\n",
    "# import TF\n",
    "from tensorflow.keras.datasets import imdb\n",
    "from tensorflow import keras\n",
    "from tensorflow.keras import layers"
   ]
  },
  {
   "cell_type": "markdown",
   "id": "02c7c833",
   "metadata": {
    "papermill": {
     "duration": 0.0069,
     "end_time": "2023-02-03T06:44:21.798884",
     "exception": false,
     "start_time": "2023-02-03T06:44:21.791984",
     "status": "completed"
    },
    "tags": []
   },
   "source": [
    "# 4.1.1. The IMBD Dataset\n",
    "- About: a set of 50k highly polarized reviews from Internet Movie Database. They are split into 25k reviews for training and 25k reviews for testing, each set consisting of 50% negative and 50% positive reviews.\n",
    "- The dataset has been processed and embedded into keras."
   ]
  },
  {
   "cell_type": "code",
   "execution_count": 2,
   "id": "4f075b00",
   "metadata": {
    "execution": {
     "iopub.execute_input": "2023-02-03T06:44:21.816257Z",
     "iopub.status.busy": "2023-02-03T06:44:21.815241Z",
     "iopub.status.idle": "2023-02-03T06:44:28.274839Z",
     "shell.execute_reply": "2023-02-03T06:44:28.273338Z"
    },
    "papermill": {
     "duration": 6.47152,
     "end_time": "2023-02-03T06:44:28.277744",
     "exception": false,
     "start_time": "2023-02-03T06:44:21.806224",
     "status": "completed"
    },
    "tags": []
   },
   "outputs": [
    {
     "name": "stdout",
     "output_type": "stream",
     "text": [
      "Downloading data from https://storage.googleapis.com/tensorflow/tf-keras-datasets/imdb.npz\n",
      "17465344/17464789 [==============================] - 0s 0us/step\n",
      "17473536/17464789 [==============================] - 0s 0us/step\n"
     ]
    }
   ],
   "source": [
    "# load the dataset, 10k is the number of uniques words in the dataset\n",
    "(train_data, train_labels), (test_data, test_labels) = imdb.load_data(num_words=10000)"
   ]
  },
  {
   "cell_type": "markdown",
   "id": "83584ea9",
   "metadata": {
    "papermill": {
     "duration": 0.007301,
     "end_time": "2023-02-03T06:44:28.292755",
     "exception": false,
     "start_time": "2023-02-03T06:44:28.285454",
     "status": "completed"
    },
    "tags": []
   },
   "source": [
    "**Note**: variables in train_data and test_data are lists of reviews; each review is a list of word indices (encoding a sequence of words). The Labels are 0s and 1s with 0s is negative review and 1 is positive review."
   ]
  },
  {
   "cell_type": "code",
   "execution_count": 3,
   "id": "2d3c8e55",
   "metadata": {
    "execution": {
     "iopub.execute_input": "2023-02-03T06:44:28.309879Z",
     "iopub.status.busy": "2023-02-03T06:44:28.309453Z",
     "iopub.status.idle": "2023-02-03T06:44:28.316686Z",
     "shell.execute_reply": "2023-02-03T06:44:28.315183Z"
    },
    "papermill": {
     "duration": 0.018902,
     "end_time": "2023-02-03T06:44:28.319241",
     "exception": false,
     "start_time": "2023-02-03T06:44:28.300339",
     "status": "completed"
    },
    "tags": []
   },
   "outputs": [
    {
     "name": "stdout",
     "output_type": "stream",
     "text": [
      "[1, 14, 22, 16, 43, 530, 973, 1622, 1385, 65, 458, 4468, 66, 3941, 4, 173, 36, 256, 5, 25, 100, 43, 838, 112, 50, 670, 2, 9, 35, 480, 284, 5, 150, 4, 172, 112, 167, 2, 336, 385, 39, 4, 172, 4536, 1111, 17, 546, 38, 13, 447, 4, 192, 50, 16, 6, 147, 2025, 19, 14, 22, 4, 1920, 4613, 469, 4, 22, 71, 87, 12, 16, 43, 530, 38, 76, 15, 13, 1247, 4, 22, 17, 515, 17, 12, 16, 626, 18, 2, 5, 62, 386, 12, 8, 316, 8, 106, 5, 4, 2223, 5244, 16, 480, 66, 3785, 33, 4, 130, 12, 16, 38, 619, 5, 25, 124, 51, 36, 135, 48, 25, 1415, 33, 6, 22, 12, 215, 28, 77, 52, 5, 14, 407, 16, 82, 2, 8, 4, 107, 117, 5952, 15, 256, 4, 2, 7, 3766, 5, 723, 36, 71, 43, 530, 476, 26, 400, 317, 46, 7, 4, 2, 1029, 13, 104, 88, 4, 381, 15, 297, 98, 32, 2071, 56, 26, 141, 6, 194, 7486, 18, 4, 226, 22, 21, 134, 476, 26, 480, 5, 144, 30, 5535, 18, 51, 36, 28, 224, 92, 25, 104, 4, 226, 65, 16, 38, 1334, 88, 12, 16, 283, 5, 16, 4472, 113, 103, 32, 15, 16, 5345, 19, 178, 32]\n",
      "0\n"
     ]
    }
   ],
   "source": [
    "print(train_data[0])\n",
    "print(test_labels[0])"
   ]
  },
  {
   "cell_type": "markdown",
   "id": "06ff988d",
   "metadata": {
    "papermill": {
     "duration": 0.007458,
     "end_time": "2023-02-03T06:44:28.334690",
     "exception": false,
     "start_time": "2023-02-03T06:44:28.327232",
     "status": "completed"
    },
    "tags": []
   },
   "source": [
    "**Note**: The training data has been encode into numerical values. However, we can convert it back to English words."
   ]
  },
  {
   "cell_type": "code",
   "execution_count": 4,
   "id": "e0b002f5",
   "metadata": {
    "execution": {
     "iopub.execute_input": "2023-02-03T06:44:28.354119Z",
     "iopub.status.busy": "2023-02-03T06:44:28.353687Z",
     "iopub.status.idle": "2023-02-03T06:44:28.639262Z",
     "shell.execute_reply": "2023-02-03T06:44:28.637329Z"
    },
    "papermill": {
     "duration": 0.300738,
     "end_time": "2023-02-03T06:44:28.643304",
     "exception": false,
     "start_time": "2023-02-03T06:44:28.342566",
     "status": "completed"
    },
    "tags": []
   },
   "outputs": [
    {
     "name": "stdout",
     "output_type": "stream",
     "text": [
      "Downloading data from https://storage.googleapis.com/tensorflow/tf-keras-datasets/imdb_word_index.json\n",
      "1646592/1641221 [==============================] - 0s 0us/step\n",
      "1654784/1641221 [==============================] - 0s 0us/step\n",
      "? this film was just brilliant casting location scenery story direction everyone's really suited the part they played and you could just imagine being there robert ? is an amazing actor and now the same being director ? father came from the same scottish island as myself so i loved the fact there was a real connection with this film the witty remarks throughout the film were great it was just brilliant so much that i bought the film as soon as it was released for ? and would recommend it to everyone to watch and the fly fishing was amazing really cried at the end it was so sad and you know what they say if you cry at a film it must have been good and this definitely was also ? to the two little boy's that played the ? of norman and paul they were just brilliant children are often left out of the ? list i think because the stars that play them all grown up are such a big profile for the whole film but these children are amazing and should be praised for what they have done don't you think the whole story was so lovely because it was true and was someone's life after all that was shared with us all\n"
     ]
    }
   ],
   "source": [
    "# sample of reverse encoding data to English\n",
    "\n",
    "# word_index is a dictionary mapping words to an integer index\n",
    "word_index = imdb.get_word_index()\n",
    "\n",
    "# reversed it, mapping integer indices to words\n",
    "reversed_word_index = dict([(value, key) for (key, value) in word_index.items()])\n",
    "\n",
    "# decodes the review. Note that the indices are offset by 3 because 0, 1, 2 are reversed indiced for \"padding\", \"start of sequence\", and \"unknown\"\n",
    "decoded_review = \" \".join([reversed_word_index.get(i - 3, \"?\") for i in train_data[0]])\n",
    "print(decoded_review)"
   ]
  },
  {
   "cell_type": "markdown",
   "id": "900dc9a2",
   "metadata": {
    "papermill": {
     "duration": 0.007737,
     "end_time": "2023-02-03T06:44:28.660031",
     "exception": false,
     "start_time": "2023-02-03T06:44:28.652294",
     "status": "completed"
    },
    "tags": []
   },
   "source": [
    "# 4.1.2. Preparing the data\n",
    "- You can't feed the list of integer into NN, we need to make them uniform.\n",
    "    - Pad the list so that they have the same shape (samples, max_length).\n",
    "    - Multi-hot encode your lists to turn them into vectors of 0s and 1s."
   ]
  },
  {
   "cell_type": "code",
   "execution_count": 5,
   "id": "853893e7",
   "metadata": {
    "execution": {
     "iopub.execute_input": "2023-02-03T06:44:28.677856Z",
     "iopub.status.busy": "2023-02-03T06:44:28.677417Z",
     "iopub.status.idle": "2023-02-03T06:44:28.684676Z",
     "shell.execute_reply": "2023-02-03T06:44:28.683280Z"
    },
    "papermill": {
     "duration": 0.018809,
     "end_time": "2023-02-03T06:44:28.686860",
     "exception": false,
     "start_time": "2023-02-03T06:44:28.668051",
     "status": "completed"
    },
    "tags": []
   },
   "outputs": [],
   "source": [
    "def vectorize_sequences(sequences, dimension=10000):\n",
    "    # create an all-zero matrix of shape (len(sequences), dimension)\n",
    "    results = np.zeros((len(sequences), dimension))\n",
    "    \n",
    "    # go thru each sequence, then go thru each encoded words, the make it 1\n",
    "    for i, sequence in enumerate(sequences):\n",
    "        for j in sequence:\n",
    "            results[i, j] = 1.\n",
    "    return results"
   ]
  },
  {
   "cell_type": "code",
   "execution_count": 6,
   "id": "5ea96c08",
   "metadata": {
    "execution": {
     "iopub.execute_input": "2023-02-03T06:44:28.704798Z",
     "iopub.status.busy": "2023-02-03T06:44:28.704308Z",
     "iopub.status.idle": "2023-02-03T06:44:33.643474Z",
     "shell.execute_reply": "2023-02-03T06:44:33.642083Z"
    },
    "papermill": {
     "duration": 4.952026,
     "end_time": "2023-02-03T06:44:33.646668",
     "exception": false,
     "start_time": "2023-02-03T06:44:28.694642",
     "status": "completed"
    },
    "tags": []
   },
   "outputs": [],
   "source": [
    "# vectorize training and test data\n",
    "x_train = vectorize_sequences(train_data)\n",
    "x_test = vectorize_sequences(test_data)"
   ]
  },
  {
   "cell_type": "code",
   "execution_count": 7,
   "id": "032b889a",
   "metadata": {
    "execution": {
     "iopub.execute_input": "2023-02-03T06:44:33.665397Z",
     "iopub.status.busy": "2023-02-03T06:44:33.664922Z",
     "iopub.status.idle": "2023-02-03T06:44:33.671698Z",
     "shell.execute_reply": "2023-02-03T06:44:33.670465Z"
    },
    "papermill": {
     "duration": 0.01948,
     "end_time": "2023-02-03T06:44:33.674419",
     "exception": false,
     "start_time": "2023-02-03T06:44:33.654939",
     "status": "completed"
    },
    "tags": []
   },
   "outputs": [
    {
     "name": "stdout",
     "output_type": "stream",
     "text": [
      "[1, 14, 22, 16, 43, 530, 973, 1622, 1385, 65, 458, 4468, 66, 3941, 4, 173, 36, 256, 5, 25, 100, 43, 838, 112, 50, 670, 2, 9, 35, 480, 284, 5, 150, 4, 172, 112, 167, 2, 336, 385, 39, 4, 172, 4536, 1111, 17, 546, 38, 13, 447, 4, 192, 50, 16, 6, 147, 2025, 19, 14, 22, 4, 1920, 4613, 469, 4, 22, 71, 87, 12, 16, 43, 530, 38, 76, 15, 13, 1247, 4, 22, 17, 515, 17, 12, 16, 626, 18, 2, 5, 62, 386, 12, 8, 316, 8, 106, 5, 4, 2223, 5244, 16, 480, 66, 3785, 33, 4, 130, 12, 16, 38, 619, 5, 25, 124, 51, 36, 135, 48, 25, 1415, 33, 6, 22, 12, 215, 28, 77, 52, 5, 14, 407, 16, 82, 2, 8, 4, 107, 117, 5952, 15, 256, 4, 2, 7, 3766, 5, 723, 36, 71, 43, 530, 476, 26, 400, 317, 46, 7, 4, 2, 1029, 13, 104, 88, 4, 381, 15, 297, 98, 32, 2071, 56, 26, 141, 6, 194, 7486, 18, 4, 226, 22, 21, 134, 476, 26, 480, 5, 144, 30, 5535, 18, 51, 36, 28, 224, 92, 25, 104, 4, 226, 65, 16, 38, 1334, 88, 12, 16, 283, 5, 16, 4472, 113, 103, 32, 15, 16, 5345, 19, 178, 32]\n",
      "[0. 1. 1. ... 0. 0. 0.]\n"
     ]
    }
   ],
   "source": [
    "print(train_data[0])\n",
    "print(x_train[0])"
   ]
  },
  {
   "cell_type": "code",
   "execution_count": 8,
   "id": "e0a85723",
   "metadata": {
    "execution": {
     "iopub.execute_input": "2023-02-03T06:44:33.692874Z",
     "iopub.status.busy": "2023-02-03T06:44:33.692451Z",
     "iopub.status.idle": "2023-02-03T06:44:33.699317Z",
     "shell.execute_reply": "2023-02-03T06:44:33.697929Z"
    },
    "papermill": {
     "duration": 0.019162,
     "end_time": "2023-02-03T06:44:33.701852",
     "exception": false,
     "start_time": "2023-02-03T06:44:33.682690",
     "status": "completed"
    },
    "tags": []
   },
   "outputs": [],
   "source": [
    "# vectorize labels\n",
    "y_train = np.asarray(train_labels).astype(\"float32\")\n",
    "y_test = np.asarray(test_labels).astype(\"float32\")"
   ]
  },
  {
   "cell_type": "code",
   "execution_count": 9,
   "id": "68c2d730",
   "metadata": {
    "execution": {
     "iopub.execute_input": "2023-02-03T06:44:33.719482Z",
     "iopub.status.busy": "2023-02-03T06:44:33.719103Z",
     "iopub.status.idle": "2023-02-03T06:44:33.726149Z",
     "shell.execute_reply": "2023-02-03T06:44:33.724849Z"
    },
    "papermill": {
     "duration": 0.01944,
     "end_time": "2023-02-03T06:44:33.729301",
     "exception": false,
     "start_time": "2023-02-03T06:44:33.709861",
     "status": "completed"
    },
    "tags": []
   },
   "outputs": [
    {
     "name": "stdout",
     "output_type": "stream",
     "text": [
      "[1. 0. 0. ... 0. 1. 0.]\n",
      "[0. 1. 1. ... 0. 0. 0.]\n"
     ]
    }
   ],
   "source": [
    "print(y_train)\n",
    "print(y_test)"
   ]
  },
  {
   "cell_type": "markdown",
   "id": "010fb502",
   "metadata": {
    "papermill": {
     "duration": 0.007934,
     "end_time": "2023-02-03T06:44:33.745624",
     "exception": false,
     "start_time": "2023-02-03T06:44:33.737690",
     "status": "completed"
    },
    "tags": []
   },
   "source": [
    "# 4.1.3. Build Model\n",
    "- As the data and labels are vectors of 1s and 0s, we just need Dense Layer.\n",
    "- Questions:\n",
    "    - How many layers to use?\n",
    "    - How many units to choose for each layer?\n",
    "    - Learn later in Chapter 5.\n",
    "    - Architecture Dense(units = 16) -> Dense(units = 16) -> Dense(units = 1)\n",
    "    - Note at each layer: output = relu(dot(input, W) + b)"
   ]
  },
  {
   "cell_type": "code",
   "execution_count": 10,
   "id": "a8e70a08",
   "metadata": {
    "execution": {
     "iopub.execute_input": "2023-02-03T06:44:33.764169Z",
     "iopub.status.busy": "2023-02-03T06:44:33.763735Z",
     "iopub.status.idle": "2023-02-03T06:44:33.836603Z",
     "shell.execute_reply": "2023-02-03T06:44:33.835322Z"
    },
    "papermill": {
     "duration": 0.085489,
     "end_time": "2023-02-03T06:44:33.839479",
     "exception": false,
     "start_time": "2023-02-03T06:44:33.753990",
     "status": "completed"
    },
    "tags": []
   },
   "outputs": [
    {
     "name": "stderr",
     "output_type": "stream",
     "text": [
      "2023-02-03 06:44:33.811049: I tensorflow/core/common_runtime/process_util.cc:146] Creating new thread pool with default inter op setting: 2. Tune using inter_op_parallelism_threads for best performance.\n"
     ]
    }
   ],
   "source": [
    "# create model\n",
    "model = keras.Sequential([\n",
    "    layers.Dense(16, activation=\"relu\"),  # (input_dimension, 16)\n",
    "    layers.Dense(16, activation=\"relu\"),  # (16, 16), relu will zero out negative values\n",
    "    layers.Dense(1, activation=\"sigmoid\") # (16, 1), sigmoid so that output is probability, sigmoise squashes arbitray value into [0,1] which is the probability output\n",
    "])"
   ]
  },
  {
   "cell_type": "markdown",
   "id": "ea9c7f3e",
   "metadata": {
    "papermill": {
     "duration": 0.008104,
     "end_time": "2023-02-03T06:44:33.856024",
     "exception": false,
     "start_time": "2023-02-03T06:44:33.847920",
     "status": "completed"
    },
    "tags": []
   },
   "source": [
    "**Note on Model Architecture**: if you build the model too large, it may learn unwanted patterns\n",
    "\n",
    "**Note on Loss Function**: As you are doing binary classification and the output is a probability, the best loss is *binary_crossentropy* loss or *mse*. *cross-entropy* is better to use when the model is outputing probability.\n",
    "\n",
    "**Note on Optimizer**: RMSProp as default good for any problem"
   ]
  },
  {
   "cell_type": "code",
   "execution_count": 11,
   "id": "636dfe2f",
   "metadata": {
    "execution": {
     "iopub.execute_input": "2023-02-03T06:44:33.875741Z",
     "iopub.status.busy": "2023-02-03T06:44:33.874331Z",
     "iopub.status.idle": "2023-02-03T06:44:33.900271Z",
     "shell.execute_reply": "2023-02-03T06:44:33.899333Z"
    },
    "papermill": {
     "duration": 0.03886,
     "end_time": "2023-02-03T06:44:33.903194",
     "exception": false,
     "start_time": "2023-02-03T06:44:33.864334",
     "status": "completed"
    },
    "tags": []
   },
   "outputs": [],
   "source": [
    "# compile model\n",
    "model.compile(optimizer=\"rmsprop\",\n",
    "              loss=\"binary_crossentropy\",\n",
    "              metrics=[\"accuracy\"])"
   ]
  },
  {
   "cell_type": "markdown",
   "id": "750c4af8",
   "metadata": {
    "papermill": {
     "duration": 0.008072,
     "end_time": "2023-02-03T06:44:33.920316",
     "exception": false,
     "start_time": "2023-02-03T06:44:33.912244",
     "status": "completed"
    },
    "tags": []
   },
   "source": [
    "# 4.1.4. Train & Validate Model\n",
    "- Instead of training the model in the entire dataset, we use validation dataset to see the performance."
   ]
  },
  {
   "cell_type": "code",
   "execution_count": 12,
   "id": "b3beaa26",
   "metadata": {
    "execution": {
     "iopub.execute_input": "2023-02-03T06:44:33.939522Z",
     "iopub.status.busy": "2023-02-03T06:44:33.938594Z",
     "iopub.status.idle": "2023-02-03T06:44:33.944150Z",
     "shell.execute_reply": "2023-02-03T06:44:33.943296Z"
    },
    "papermill": {
     "duration": 0.018069,
     "end_time": "2023-02-03T06:44:33.946533",
     "exception": false,
     "start_time": "2023-02-03T06:44:33.928464",
     "status": "completed"
    },
    "tags": []
   },
   "outputs": [],
   "source": [
    "# validate dataset of 10k rows\n",
    "x_val = x_train[:10000]\n",
    "partial_x_train = x_train[10000:]\n",
    "y_val = y_train[:10000]\n",
    "partial_y_train = y_train[10000:]"
   ]
  },
  {
   "cell_type": "code",
   "execution_count": 13,
   "id": "810cb419",
   "metadata": {
    "execution": {
     "iopub.execute_input": "2023-02-03T06:44:33.964483Z",
     "iopub.status.busy": "2023-02-03T06:44:33.964068Z",
     "iopub.status.idle": "2023-02-03T06:44:33.971849Z",
     "shell.execute_reply": "2023-02-03T06:44:33.970011Z"
    },
    "papermill": {
     "duration": 0.019883,
     "end_time": "2023-02-03T06:44:33.974548",
     "exception": false,
     "start_time": "2023-02-03T06:44:33.954665",
     "status": "completed"
    },
    "tags": []
   },
   "outputs": [
    {
     "name": "stdout",
     "output_type": "stream",
     "text": [
      "(10000, 10000)\n",
      "(15000, 10000)\n",
      "(10000,)\n",
      "(15000,)\n"
     ]
    }
   ],
   "source": [
    "# check shape\n",
    "print(x_val.shape)\n",
    "print(partial_x_train.shape)\n",
    "print(y_val.shape)\n",
    "print(partial_y_train.shape)"
   ]
  },
  {
   "cell_type": "markdown",
   "id": "e18a373e",
   "metadata": {
    "papermill": {
     "duration": 0.007779,
     "end_time": "2023-02-03T06:44:33.991093",
     "exception": false,
     "start_time": "2023-02-03T06:44:33.983314",
     "status": "completed"
    },
    "tags": []
   },
   "source": [
    "**Note**: \n",
    "- Train the model for 20 epochs (20 iterations over all samples) in mini batch of 512 samples.\n",
    "- Monitor loss and accuracy on validation dataset."
   ]
  },
  {
   "cell_type": "code",
   "execution_count": 14,
   "id": "6dd69cf0",
   "metadata": {
    "execution": {
     "iopub.execute_input": "2023-02-03T06:44:34.010464Z",
     "iopub.status.busy": "2023-02-03T06:44:34.009612Z",
     "iopub.status.idle": "2023-02-03T06:46:58.021041Z",
     "shell.execute_reply": "2023-02-03T06:46:58.019615Z"
    },
    "papermill": {
     "duration": 144.024828,
     "end_time": "2023-02-03T06:46:58.023887",
     "exception": false,
     "start_time": "2023-02-03T06:44:33.999059",
     "status": "completed"
    },
    "tags": []
   },
   "outputs": [
    {
     "name": "stderr",
     "output_type": "stream",
     "text": [
      "2023-02-03 06:44:35.352525: I tensorflow/compiler/mlir/mlir_graph_optimization_pass.cc:185] None of the MLIR Optimization Passes are enabled (registered 2)\n"
     ]
    },
    {
     "name": "stdout",
     "output_type": "stream",
     "text": [
      "Epoch 1/20\n",
      "1250/1250 [==============================] - 9s 6ms/step - loss: 0.3427 - accuracy: 0.8587 - val_loss: 0.2745 - val_accuracy: 0.8902\n",
      "Epoch 2/20\n",
      "1250/1250 [==============================] - 6s 5ms/step - loss: 0.2171 - accuracy: 0.9198 - val_loss: 0.2790 - val_accuracy: 0.8916\n",
      "Epoch 3/20\n",
      "1250/1250 [==============================] - 6s 5ms/step - loss: 0.1793 - accuracy: 0.9341 - val_loss: 0.2948 - val_accuracy: 0.8895\n",
      "Epoch 4/20\n",
      "1250/1250 [==============================] - 6s 5ms/step - loss: 0.1559 - accuracy: 0.9442 - val_loss: 0.2993 - val_accuracy: 0.8867\n",
      "Epoch 5/20\n",
      "1250/1250 [==============================] - 6s 5ms/step - loss: 0.1379 - accuracy: 0.9515 - val_loss: 0.3326 - val_accuracy: 0.8859\n",
      "Epoch 6/20\n",
      "1250/1250 [==============================] - 7s 6ms/step - loss: 0.1229 - accuracy: 0.9583 - val_loss: 0.3542 - val_accuracy: 0.8867\n",
      "Epoch 7/20\n",
      "1250/1250 [==============================] - 6s 5ms/step - loss: 0.1095 - accuracy: 0.9636 - val_loss: 0.3711 - val_accuracy: 0.8832\n",
      "Epoch 8/20\n",
      "1250/1250 [==============================] - 6s 5ms/step - loss: 0.0948 - accuracy: 0.9701 - val_loss: 0.3936 - val_accuracy: 0.8829\n",
      "Epoch 9/20\n",
      "1250/1250 [==============================] - 6s 5ms/step - loss: 0.0816 - accuracy: 0.9747 - val_loss: 0.4931 - val_accuracy: 0.8772\n",
      "Epoch 10/20\n",
      "1250/1250 [==============================] - 6s 5ms/step - loss: 0.0703 - accuracy: 0.9794 - val_loss: 0.5062 - val_accuracy: 0.8779\n",
      "Epoch 11/20\n",
      "1250/1250 [==============================] - 7s 6ms/step - loss: 0.0602 - accuracy: 0.9834 - val_loss: 0.5681 - val_accuracy: 0.8764\n",
      "Epoch 12/20\n",
      "1250/1250 [==============================] - 6s 5ms/step - loss: 0.0492 - accuracy: 0.9875 - val_loss: 0.6782 - val_accuracy: 0.8694\n",
      "Epoch 13/20\n",
      "1250/1250 [==============================] - 6s 5ms/step - loss: 0.0409 - accuracy: 0.9901 - val_loss: 0.7148 - val_accuracy: 0.8714\n",
      "Epoch 14/20\n",
      "1250/1250 [==============================] - 6s 5ms/step - loss: 0.0348 - accuracy: 0.9915 - val_loss: 0.8075 - val_accuracy: 0.8683\n",
      "Epoch 15/20\n",
      "1250/1250 [==============================] - 6s 5ms/step - loss: 0.0299 - accuracy: 0.9936 - val_loss: 0.9310 - val_accuracy: 0.8682\n",
      "Epoch 16/20\n",
      "1250/1250 [==============================] - 7s 6ms/step - loss: 0.0242 - accuracy: 0.9951 - val_loss: 0.9874 - val_accuracy: 0.8673\n",
      "Epoch 17/20\n",
      "1250/1250 [==============================] - 6s 5ms/step - loss: 0.0197 - accuracy: 0.9957 - val_loss: 1.1763 - val_accuracy: 0.8590\n",
      "Epoch 18/20\n",
      "1250/1250 [==============================] - 6s 5ms/step - loss: 0.0152 - accuracy: 0.9965 - val_loss: 1.1770 - val_accuracy: 0.8653\n",
      "Epoch 19/20\n",
      "1250/1250 [==============================] - 6s 5ms/step - loss: 0.0117 - accuracy: 0.9973 - val_loss: 1.3419 - val_accuracy: 0.8636\n",
      "Epoch 20/20\n",
      "1250/1250 [==============================] - 6s 5ms/step - loss: 0.0106 - accuracy: 0.9979 - val_loss: 1.4312 - val_accuracy: 0.8620\n"
     ]
    }
   ],
   "source": [
    "# train model\n",
    "history = model.fit(partial_x_train,\n",
    "                    partial_y_train,\n",
    "                    epochs=20,\n",
    "                    batch_size=12,\n",
    "                    validation_data=(x_val, y_val))"
   ]
  },
  {
   "cell_type": "code",
   "execution_count": 15,
   "id": "38455b6d",
   "metadata": {
    "execution": {
     "iopub.execute_input": "2023-02-03T06:46:58.284026Z",
     "iopub.status.busy": "2023-02-03T06:46:58.283356Z",
     "iopub.status.idle": "2023-02-03T06:46:58.293449Z",
     "shell.execute_reply": "2023-02-03T06:46:58.291994Z"
    },
    "papermill": {
     "duration": 0.14254,
     "end_time": "2023-02-03T06:46:58.295744",
     "exception": false,
     "start_time": "2023-02-03T06:46:58.153204",
     "status": "completed"
    },
    "tags": []
   },
   "outputs": [
    {
     "data": {
      "text/plain": [
       "dict_keys(['loss', 'accuracy', 'val_loss', 'val_accuracy'])"
      ]
     },
     "execution_count": 15,
     "metadata": {},
     "output_type": "execute_result"
    }
   ],
   "source": [
    "# plot the history \n",
    "history_dict = history.history\n",
    "history_dict.keys()"
   ]
  },
  {
   "cell_type": "code",
   "execution_count": 16,
   "id": "b9d0e0af",
   "metadata": {
    "execution": {
     "iopub.execute_input": "2023-02-03T06:46:58.556869Z",
     "iopub.status.busy": "2023-02-03T06:46:58.555351Z",
     "iopub.status.idle": "2023-02-03T06:46:58.838633Z",
     "shell.execute_reply": "2023-02-03T06:46:58.837806Z"
    },
    "papermill": {
     "duration": 0.416843,
     "end_time": "2023-02-03T06:46:58.840960",
     "exception": false,
     "start_time": "2023-02-03T06:46:58.424117",
     "status": "completed"
    },
    "tags": []
   },
   "outputs": [
    {
     "data": {
      "image/png": "[encoded data removed]",
      "text/plain": [
       "<Figure size 432x288 with 1 Axes>"
      ]
     },
     "metadata": {
      "needs_background": "light"
     },
     "output_type": "display_data"
    }
   ],
   "source": [
    "# plot the training and validation loss from history\n",
    "history_dict = history.history\n",
    "loss_values = history_dict[\"loss\"]\n",
    "val_loss_values = history_dict[\"val_loss\"]\n",
    "epochs = range(1, len(loss_values) + 1)\n",
    "\n",
    "plt.plot(epochs, loss_values, \"bo\", label=\"Training Loss\")\n",
    "plt.plot(epochs, val_loss_values, \"b\", label=\"Validation Loss\")\n",
    "plt.title(\"Training and Validation Loss\")\n",
    "plt.xlabel(\"Epochs\")\n",
    "plt.ylabel(\"Loss\")\n",
    "plt.legend()\n",
    "plt.show()"
   ]
  },
  {
   "cell_type": "code",
   "execution_count": 17,
   "id": "eb000a35",
   "metadata": {
    "execution": {
     "iopub.execute_input": "2023-02-03T06:46:59.103426Z",
     "iopub.status.busy": "2023-02-03T06:46:59.102614Z",
     "iopub.status.idle": "2023-02-03T06:46:59.350137Z",
     "shell.execute_reply": "2023-02-03T06:46:59.348801Z"
    },
    "papermill": {
     "duration": 0.382846,
     "end_time": "2023-02-03T06:46:59.352817",
     "exception": false,
     "start_time": "2023-02-03T06:46:58.969971",
     "status": "completed"
    },
    "tags": []
   },
   "outputs": [
    {
     "data": {
      "image/png": "[encoded data removed]",
      "text/plain": [
       "<Figure size 432x288 with 1 Axes>"
      ]
     },
     "metadata": {
      "needs_background": "light"
     },
     "output_type": "display_data"
    }
   ],
   "source": [
    "# plot the training and validation accuracy from history\n",
    "plt.clf() # clear figure\n",
    "acc = history_dict[\"accuracy\"]\n",
    "val_acc = history_dict[\"val_accuracy\"]\n",
    "plt.plot(epochs, acc, \"bo\", label=\"Training acc\")\n",
    "plt.plot(epochs, val_acc, \"b\", label=\"Validation acc\")\n",
    "plt.title(\"Training and validation accuracy\")\n",
    "plt.xlabel(\"Epochs\")\n",
    "plt.ylabel(\"Accuracy\")\n",
    "plt.legend()\n",
    "plt.show()"
   ]
  },
  {
   "cell_type": "markdown",
   "id": "a8672b8c",
   "metadata": {
    "papermill": {
     "duration": 0.131449,
     "end_time": "2023-02-03T06:46:59.613276",
     "exception": false,
     "start_time": "2023-02-03T06:46:59.481827",
     "status": "completed"
    },
    "tags": []
   },
   "source": [
    "# 4.1.5. Analysis\n",
    "- From the two plots, we see that the model is overfit, aka we over optimize on the training dataset and the model is not generalized."
   ]
  },
  {
   "cell_type": "markdown",
   "id": "7e272f6d",
   "metadata": {
    "papermill": {
     "duration": 0.131689,
     "end_time": "2023-02-03T06:46:59.948547",
     "exception": false,
     "start_time": "2023-02-03T06:46:59.816858",
     "status": "completed"
    },
    "tags": []
   },
   "source": [
    "# 4.1.6. Retrain Model"
   ]
  },
  {
   "cell_type": "code",
   "execution_count": 18,
   "id": "318f02a0",
   "metadata": {
    "execution": {
     "iopub.execute_input": "2023-02-03T06:47:00.218519Z",
     "iopub.status.busy": "2023-02-03T06:47:00.217752Z",
     "iopub.status.idle": "2023-02-03T06:47:00.227628Z",
     "shell.execute_reply": "2023-02-03T06:47:00.226825Z"
    },
    "papermill": {
     "duration": 0.147009,
     "end_time": "2023-02-03T06:47:00.230408",
     "exception": false,
     "start_time": "2023-02-03T06:47:00.083399",
     "status": "completed"
    },
    "tags": []
   },
   "outputs": [],
   "source": [
    "# create model\n",
    "model = keras.Sequential([\n",
    "    layers.Dense(16, activation=\"relu\"),  # (input_dimension, 16)\n",
    "    layers.Dense(16, activation=\"relu\"),  # (16, 16), relu will zero out negative values\n",
    "    layers.Dense(1, activation=\"sigmoid\") # (16, 1), sigmoid so that output is probability, sigmoise squashes arbitray value into [0,1] which is the probability output\n",
    "])"
   ]
  },
  {
   "cell_type": "code",
   "execution_count": 19,
   "id": "58558ce1",
   "metadata": {
    "execution": {
     "iopub.execute_input": "2023-02-03T06:47:00.532830Z",
     "iopub.status.busy": "2023-02-03T06:47:00.532333Z",
     "iopub.status.idle": "2023-02-03T06:47:09.162699Z",
     "shell.execute_reply": "2023-02-03T06:47:09.160977Z"
    },
    "papermill": {
     "duration": 8.769707,
     "end_time": "2023-02-03T06:47:09.165658",
     "exception": false,
     "start_time": "2023-02-03T06:47:00.395951",
     "status": "completed"
    },
    "tags": []
   },
   "outputs": [
    {
     "name": "stdout",
     "output_type": "stream",
     "text": [
      "Epoch 1/4\n",
      "49/49 [==============================] - 1s 14ms/step - loss: 0.4747 - accuracy: 0.8087\n",
      "Epoch 2/4\n",
      "49/49 [==============================] - 1s 14ms/step - loss: 0.2742 - accuracy: 0.9073\n",
      "Epoch 3/4\n",
      "49/49 [==============================] - 1s 14ms/step - loss: 0.2074 - accuracy: 0.9303\n",
      "Epoch 4/4\n",
      "49/49 [==============================] - 1s 13ms/step - loss: 0.1703 - accuracy: 0.9417\n",
      "782/782 [==============================] - 2s 2ms/step - loss: 0.2963 - accuracy: 0.8812\n"
     ]
    }
   ],
   "source": [
    "model.compile(optimizer=\"rmsprop\", loss=\"binary_crossentropy\", metrics=[\"accuracy\"])\n",
    "model.fit(x_train, y_train, epochs=4, batch_size=512)\n",
    "results = model.evaluate(x_test, y_test)"
   ]
  },
  {
   "cell_type": "code",
   "execution_count": 20,
   "id": "b2a68a7e",
   "metadata": {
    "execution": {
     "iopub.execute_input": "2023-02-03T06:47:09.437394Z",
     "iopub.status.busy": "2023-02-03T06:47:09.436871Z",
     "iopub.status.idle": "2023-02-03T06:47:09.443161Z",
     "shell.execute_reply": "2023-02-03T06:47:09.441705Z"
    },
    "papermill": {
     "duration": 0.144953,
     "end_time": "2023-02-03T06:47:09.446109",
     "exception": false,
     "start_time": "2023-02-03T06:47:09.301156",
     "status": "completed"
    },
    "tags": []
   },
   "outputs": [
    {
     "name": "stdout",
     "output_type": "stream",
     "text": [
      "[0.2962503433227539, 0.8811600208282471]\n"
     ]
    }
   ],
   "source": [
    "# print out test loss and test accuracy\n",
    "print(results)"
   ]
  },
  {
   "cell_type": "code",
   "execution_count": 21,
   "id": "63b299ba",
   "metadata": {
    "execution": {
     "iopub.execute_input": "2023-02-03T06:47:09.721061Z",
     "iopub.status.busy": "2023-02-03T06:47:09.719835Z",
     "iopub.status.idle": "2023-02-03T06:47:12.519747Z",
     "shell.execute_reply": "2023-02-03T06:47:12.518541Z"
    },
    "papermill": {
     "duration": 2.94044,
     "end_time": "2023-02-03T06:47:12.522585",
     "exception": false,
     "start_time": "2023-02-03T06:47:09.582145",
     "status": "completed"
    },
    "tags": []
   },
   "outputs": [
    {
     "data": {
      "text/plain": [
       "array([[0.24786013],\n",
       "       [0.99767786],\n",
       "       [0.909508  ],\n",
       "       ...,\n",
       "       [0.14659196],\n",
       "       [0.10956538],\n",
       "       [0.6202767 ]], dtype=float32)"
      ]
     },
     "execution_count": 21,
     "metadata": {},
     "output_type": "execute_result"
    }
   ],
   "source": [
    "# predict on test dataset\n",
    "model.predict(x_test)"
   ]
  }
 ],
 "metadata": {
  "kernelspec": {
   "display_name": "Python 3",
   "language": "python",
   "name": "python3"
  },
  "language_info": {
   "codemirror_mode": {
    "name": "ipython",
    "version": 3
   },
   "file_extension": ".py",
   "mimetype": "text/x-python",
   "name": "python",
   "nbconvert_exporter": "python",
   "pygments_lexer": "ipython3",
   "version": "3.7.12"
  },
  "papermill": {
   "default_parameters": {},
   "duration": 190.375508,
   "end_time": "2023-02-03T06:47:15.796945",
   "environment_variables": {},
   "exception": null,
   "input_path": "__notebook__.ipynb",
   "output_path": "__notebook__.ipynb",
   "parameters": {},
   "start_time": "2023-02-03T06:44:05.421437",
   "version": "2.3.4"
  }
 },
 "nbformat": 4,
 "nbformat_minor": 5
}
