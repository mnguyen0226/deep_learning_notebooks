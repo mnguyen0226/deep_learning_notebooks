{
 "cells": [
  {
   "cell_type": "markdown",
   "id": "1e2fa4b2",
   "metadata": {
    "_cell_guid": "b1076dfc-b9ad-4769-8c92-a6c4dae69d19",
    "_uuid": "8f2839f25d086af736a60e9eeb907d3b93b6e0e5",
    "papermill": {
     "duration": 0.006534,
     "end_time": "2023-01-29T19:47:38.272994",
     "exception": false,
     "start_time": "2023-01-29T19:47:38.266460",
     "status": "completed"
    },
    "tags": []
   },
   "source": [
    "# Chapter 2. The Mathematical Building Blocks of Neural Networks\n",
    "\n",
    "## Reimplement Neural Network from Scratch Using Tensorflow\n",
    "- We won't use Keras, just TF API."
   ]
  },
  {
   "cell_type": "code",
   "execution_count": 1,
   "id": "f8133790",
   "metadata": {
    "execution": {
     "iopub.execute_input": "2023-01-29T19:47:38.286523Z",
     "iopub.status.busy": "2023-01-29T19:47:38.285411Z",
     "iopub.status.idle": "2023-01-29T19:47:45.368465Z",
     "shell.execute_reply": "2023-01-29T19:47:45.367429Z"
    },
    "papermill": {
     "duration": 7.093871,
     "end_time": "2023-01-29T19:47:45.372149",
     "exception": false,
     "start_time": "2023-01-29T19:47:38.278278",
     "status": "completed"
    },
    "tags": []
   },
   "outputs": [],
   "source": [
    "import tensorflow as tf\n",
    "from tensorflow.keras import optimizers\n",
    "from tensorflow.keras.datasets import mnist\n",
    "import math\n",
    "import numpy as np"
   ]
  },
  {
   "cell_type": "markdown",
   "id": "a7f21329",
   "metadata": {
    "papermill": {
     "duration": 0.004817,
     "end_time": "2023-01-29T19:47:45.382229",
     "exception": false,
     "start_time": "2023-01-29T19:47:45.377412",
     "status": "completed"
    },
    "tags": []
   },
   "source": [
    "### Simple Dense Class\n",
    "- Remember the activation layer: ```output = activation(dot(W, input) + b)```"
   ]
  },
  {
   "cell_type": "code",
   "execution_count": 2,
   "id": "8effda1f",
   "metadata": {
    "execution": {
     "iopub.execute_input": "2023-01-29T19:47:45.398963Z",
     "iopub.status.busy": "2023-01-29T19:47:45.398245Z",
     "iopub.status.idle": "2023-01-29T19:47:45.407073Z",
     "shell.execute_reply": "2023-01-29T19:47:45.405579Z"
    },
    "papermill": {
     "duration": 0.021539,
     "end_time": "2023-01-29T19:47:45.410182",
     "exception": false,
     "start_time": "2023-01-29T19:47:45.388643",
     "status": "completed"
    },
    "tags": []
   },
   "outputs": [],
   "source": [
    "class NaiveDense:\n",
    "    def __init__(self, input_size, output_size, activation):\n",
    "        self.activation = activation\n",
    "        \n",
    "        # create a matrix W, of shape (input_size, output_size) initialized with random values\n",
    "        w_shape = (input_size, output_size)\n",
    "        w_initial_value = tf.random.uniform(w_shape, minval=0, maxval=1e-1)\n",
    "        self.W = tf.Variable(w_initial_value)\n",
    "        \n",
    "        # create a vector b of shape (output_size,) initialized with 0s\n",
    "        b_shape = (output_size,)\n",
    "        b_initial_value = tf.zeros(b_shape)\n",
    "        self.b = tf.Variable(b_initial_value)\n",
    "        \n",
    "    def __call__(self, inputs):\n",
    "        # apply forward pass\n",
    "        return self.activation(tf.matmul(inputs, self.W) + self.b)\n",
    "\n",
    "    @property\n",
    "    def weights(self):\n",
    "        # method to retrieve layer's weights\n",
    "        return [self.W, self.b]"
   ]
  },
  {
   "cell_type": "markdown",
   "id": "49f16365",
   "metadata": {
    "papermill": {
     "duration": 0.004827,
     "end_time": "2023-01-29T19:47:45.420211",
     "exception": false,
     "start_time": "2023-01-29T19:47:45.415384",
     "status": "completed"
    },
    "tags": []
   },
   "source": [
    "### Simple Sequential Class\n",
    "- Sequential class to chain the layers in order. It also has a weights property to easily keep track of layers' parameters."
   ]
  },
  {
   "cell_type": "code",
   "execution_count": 3,
   "id": "cc298aa9",
   "metadata": {
    "execution": {
     "iopub.execute_input": "2023-01-29T19:47:45.432219Z",
     "iopub.status.busy": "2023-01-29T19:47:45.431509Z",
     "iopub.status.idle": "2023-01-29T19:47:45.438696Z",
     "shell.execute_reply": "2023-01-29T19:47:45.437276Z"
    },
    "papermill": {
     "duration": 0.016094,
     "end_time": "2023-01-29T19:47:45.441291",
     "exception": false,
     "start_time": "2023-01-29T19:47:45.425197",
     "status": "completed"
    },
    "tags": []
   },
   "outputs": [],
   "source": [
    "class NaiveSequential:\n",
    "    def __init__(self, layers):\n",
    "        self.layers = layers\n",
    "        \n",
    "    def __call__(self, inputs):\n",
    "        x = inputs\n",
    "        for layer in self.layers:\n",
    "            x = layer(x)\n",
    "        return x\n",
    "    \n",
    "    @property\n",
    "    def weights(self):\n",
    "        weights = []\n",
    "        for layer in self.layers:\n",
    "            weights += layer.weights\n",
    "        return weights"
   ]
  },
  {
   "cell_type": "code",
   "execution_count": 4,
   "id": "5f7895d4",
   "metadata": {
    "execution": {
     "iopub.execute_input": "2023-01-29T19:47:45.453652Z",
     "iopub.status.busy": "2023-01-29T19:47:45.453246Z",
     "iopub.status.idle": "2023-01-29T19:47:45.546838Z",
     "shell.execute_reply": "2023-01-29T19:47:45.545150Z"
    },
    "papermill": {
     "duration": 0.103966,
     "end_time": "2023-01-29T19:47:45.550342",
     "exception": false,
     "start_time": "2023-01-29T19:47:45.446376",
     "status": "completed"
    },
    "tags": []
   },
   "outputs": [
    {
     "name": "stderr",
     "output_type": "stream",
     "text": [
      "2023-01-29 19:47:45.485930: I tensorflow/core/common_runtime/process_util.cc:146] Creating new thread pool with default inter op setting: 2. Tune using inter_op_parallelism_threads for best performance.\n"
     ]
    }
   ],
   "source": [
    "# example \n",
    "model = NaiveSequential([\n",
    "    NaiveDense(input_size=28 * 28, output_size=512, activation=tf.nn.relu),\n",
    "    NaiveDense(input_size=512, output_size=10, activation=tf.nn.softmax)\n",
    "])\n",
    "\n",
    "assert len(model.weights) == 4"
   ]
  },
  {
   "cell_type": "markdown",
   "id": "b75c0316",
   "metadata": {
    "execution": {
     "iopub.execute_input": "2023-01-29T19:21:32.297759Z",
     "iopub.status.busy": "2023-01-29T19:21:32.297309Z",
     "iopub.status.idle": "2023-01-29T19:21:32.303867Z",
     "shell.execute_reply": "2023-01-29T19:21:32.302627Z",
     "shell.execute_reply.started": "2023-01-29T19:21:32.297726Z"
    },
    "papermill": {
     "duration": 0.004738,
     "end_time": "2023-01-29T19:47:45.560430",
     "exception": false,
     "start_time": "2023-01-29T19:47:45.555692",
     "status": "completed"
    },
    "tags": []
   },
   "source": [
    "### A Batch Generator\n",
    "- We need a way to iterate over the MNIST data in min-batches"
   ]
  },
  {
   "cell_type": "code",
   "execution_count": 5,
   "id": "fee81d6a",
   "metadata": {
    "execution": {
     "iopub.execute_input": "2023-01-29T19:47:45.572859Z",
     "iopub.status.busy": "2023-01-29T19:47:45.572097Z",
     "iopub.status.idle": "2023-01-29T19:47:45.579074Z",
     "shell.execute_reply": "2023-01-29T19:47:45.578153Z"
    },
    "papermill": {
     "duration": 0.016002,
     "end_time": "2023-01-29T19:47:45.581470",
     "exception": false,
     "start_time": "2023-01-29T19:47:45.565468",
     "status": "completed"
    },
    "tags": []
   },
   "outputs": [],
   "source": [
    "class BatchGenerator:\n",
    "    def __init__(self, images, labels, batch_size=128):\n",
    "        assert len(images) == len(labels)\n",
    "        self.index = 0\n",
    "        self.images = images\n",
    "        self.labels = labels\n",
    "        self.batch_size = batch_size\n",
    "        self.num_batches = math.ceil(len(images) / batch_size)\n",
    "    \n",
    "    def next(self):\n",
    "        images = self.images[self.index : self.index + self.batch_size]\n",
    "        labels = self.labels[self.index : self.index + self.batch_size]\n",
    "        self.index += self.batch_size\n",
    "        return images, labels"
   ]
  },
  {
   "cell_type": "markdown",
   "id": "cc71afb7",
   "metadata": {
    "papermill": {
     "duration": 0.005105,
     "end_time": "2023-01-29T19:47:45.591681",
     "exception": false,
     "start_time": "2023-01-29T19:47:45.586576",
     "status": "completed"
    },
    "tags": []
   },
   "source": [
    "### Running 1 Training Step\n",
    "- Steps to updates the weights ofh te model after running it on one batch of data:\n",
    "    - Compute the predictions of the model for the images in the batch.\n",
    "    - Computer the loss value for these predictions, given the actual labels.\n",
    "    - Compute the gradient of the loss with regard to the model's weights.\n",
    "    - Move the weights by a small amount in the direction opposite to the gradient.\n",
    "- **Note**: GradientTape will \"record” the tensor operations that run inside it, in the form of a computation graph (sometimes called a “tape”). This graph can then be used to retrieve the gradient of any output with respect to any variable or set of variables (instances of the tf.Variable class)."
   ]
  },
  {
   "cell_type": "code",
   "execution_count": 6,
   "id": "6acc1301",
   "metadata": {
    "execution": {
     "iopub.execute_input": "2023-01-29T19:47:45.603911Z",
     "iopub.status.busy": "2023-01-29T19:47:45.603177Z",
     "iopub.status.idle": "2023-01-29T19:47:45.608754Z",
     "shell.execute_reply": "2023-01-29T19:47:45.607360Z"
    },
    "papermill": {
     "duration": 0.014987,
     "end_time": "2023-01-29T19:47:45.611643",
     "exception": false,
     "start_time": "2023-01-29T19:47:45.596656",
     "status": "completed"
    },
    "tags": []
   },
   "outputs": [],
   "source": [
    "learning_rate = 1e-3\n",
    "\n",
    "def update_weights(gradients, weights):\n",
    "    for g, w in zip(gradients, weights):\n",
    "        w.assign_sub(g * learning_rate)"
   ]
  },
  {
   "cell_type": "code",
   "execution_count": 7,
   "id": "b09713f3",
   "metadata": {
    "execution": {
     "iopub.execute_input": "2023-01-29T19:47:45.624727Z",
     "iopub.status.busy": "2023-01-29T19:47:45.623853Z",
     "iopub.status.idle": "2023-01-29T19:47:45.631159Z",
     "shell.execute_reply": "2023-01-29T19:47:45.630107Z"
    },
    "papermill": {
     "duration": 0.016807,
     "end_time": "2023-01-29T19:47:45.634011",
     "exception": false,
     "start_time": "2023-01-29T19:47:45.617204",
     "status": "completed"
    },
    "tags": []
   },
   "outputs": [],
   "source": [
    "def one_training_step(model, images_batch, labels_batch):\n",
    "    # forward pass and record with tape\n",
    "    with tf.GradientTape() as tape:\n",
    "        predictions = model(images_batch)\n",
    "        per_sample_losses = tf.keras.losses.sparse_categorical_crossentropy(labels_batch, predictions)\n",
    "        average_loss = tf.reduce_mean(per_sample_losses)\n",
    "    \n",
    "    # compute gradient of the loss with regard to the weights\n",
    "    gradients = tape.gradient(average_loss, model.weights)\n",
    "    \n",
    "    # update the weights using gradient\n",
    "    update_weights(gradients, model.weights)\n",
    "    \n",
    "    return average_loss"
   ]
  },
  {
   "cell_type": "code",
   "execution_count": 8,
   "id": "df691567",
   "metadata": {
    "execution": {
     "iopub.execute_input": "2023-01-29T19:47:45.646977Z",
     "iopub.status.busy": "2023-01-29T19:47:45.646138Z",
     "iopub.status.idle": "2023-01-29T19:47:45.651932Z",
     "shell.execute_reply": "2023-01-29T19:47:45.651027Z"
    },
    "papermill": {
     "duration": 0.015165,
     "end_time": "2023-01-29T19:47:45.654492",
     "exception": false,
     "start_time": "2023-01-29T19:47:45.639327",
     "status": "completed"
    },
    "tags": []
   },
   "outputs": [],
   "source": [
    "optimizer = optimizers.SGD(learning_rate)"
   ]
  },
  {
   "cell_type": "code",
   "execution_count": 9,
   "id": "ad2ce8f4",
   "metadata": {
    "execution": {
     "iopub.execute_input": "2023-01-29T19:47:45.666685Z",
     "iopub.status.busy": "2023-01-29T19:47:45.666226Z",
     "iopub.status.idle": "2023-01-29T19:47:45.673897Z",
     "shell.execute_reply": "2023-01-29T19:47:45.672630Z"
    },
    "papermill": {
     "duration": 0.016757,
     "end_time": "2023-01-29T19:47:45.676352",
     "exception": false,
     "start_time": "2023-01-29T19:47:45.659595",
     "status": "completed"
    },
    "tags": []
   },
   "outputs": [],
   "source": [
    "def update_weights(gradients, weights):\n",
    "    optimizer.apply_gradients(zip(gradients, weights))"
   ]
  },
  {
   "cell_type": "markdown",
   "id": "807c0dfa",
   "metadata": {
    "papermill": {
     "duration": 0.00487,
     "end_time": "2023-01-29T19:47:45.686456",
     "exception": false,
     "start_time": "2023-01-29T19:47:45.681586",
     "status": "completed"
    },
    "tags": []
   },
   "source": [
    "### Full Training Loop"
   ]
  },
  {
   "cell_type": "code",
   "execution_count": 10,
   "id": "806dcf3b",
   "metadata": {
    "execution": {
     "iopub.execute_input": "2023-01-29T19:47:45.698672Z",
     "iopub.status.busy": "2023-01-29T19:47:45.698257Z",
     "iopub.status.idle": "2023-01-29T19:47:45.704836Z",
     "shell.execute_reply": "2023-01-29T19:47:45.703760Z"
    },
    "papermill": {
     "duration": 0.015512,
     "end_time": "2023-01-29T19:47:45.707132",
     "exception": false,
     "start_time": "2023-01-29T19:47:45.691620",
     "status": "completed"
    },
    "tags": []
   },
   "outputs": [],
   "source": [
    "def fit(model, images, labels, epochs, batch_size=128):\n",
    "    for epoch_counter in range(epochs):\n",
    "        print(f\"Epoch {epoch_counter}\")\n",
    "        batch_generator = BatchGenerator(images, labels)\n",
    "        for batch_counter in range(batch_generator.num_batches):\n",
    "            images_batch, labels_batch = batch_generator.next()\n",
    "            loss = one_training_step(model, images_batch, labels_batch)\n",
    "            if batch_counter % 100 == 0:\n",
    "                print(f\"loss at batch {batch_counter}: {loss:.2f}\")"
   ]
  },
  {
   "cell_type": "code",
   "execution_count": 11,
   "id": "83fd47e9",
   "metadata": {
    "execution": {
     "iopub.execute_input": "2023-01-29T19:47:45.720203Z",
     "iopub.status.busy": "2023-01-29T19:47:45.719035Z",
     "iopub.status.idle": "2023-01-29T19:48:31.669562Z",
     "shell.execute_reply": "2023-01-29T19:48:31.668629Z"
    },
    "papermill": {
     "duration": 45.959681,
     "end_time": "2023-01-29T19:48:31.672339",
     "exception": false,
     "start_time": "2023-01-29T19:47:45.712658",
     "status": "completed"
    },
    "tags": []
   },
   "outputs": [
    {
     "name": "stdout",
     "output_type": "stream",
     "text": [
      "Downloading data from https://storage.googleapis.com/tensorflow/tf-keras-datasets/mnist.npz\n",
      "11493376/11490434 [==============================] - 1s 0us/step\n",
      "11501568/11490434 [==============================] - 1s 0us/step\n",
      "Epoch 0\n",
      "loss at batch 0: 8.69\n",
      "loss at batch 100: 2.19\n",
      "loss at batch 200: 2.18\n",
      "loss at batch 300: 2.09\n",
      "loss at batch 400: 2.19\n",
      "Epoch 1\n",
      "loss at batch 0: 1.88\n",
      "loss at batch 100: 1.84\n",
      "loss at batch 200: 1.80\n",
      "loss at batch 300: 1.70\n",
      "loss at batch 400: 1.79\n",
      "Epoch 2\n",
      "loss at batch 0: 1.57\n",
      "loss at batch 100: 1.55\n",
      "loss at batch 200: 1.49\n",
      "loss at batch 300: 1.42\n",
      "loss at batch 400: 1.48\n",
      "Epoch 3\n",
      "loss at batch 0: 1.31\n",
      "loss at batch 100: 1.31\n",
      "loss at batch 200: 1.23\n",
      "loss at batch 300: 1.21\n",
      "loss at batch 400: 1.26\n",
      "Epoch 4\n",
      "loss at batch 0: 1.12\n",
      "loss at batch 100: 1.14\n",
      "loss at batch 200: 1.04\n",
      "loss at batch 300: 1.05\n",
      "loss at batch 400: 1.10\n",
      "Epoch 5\n",
      "loss at batch 0: 0.98\n",
      "loss at batch 100: 1.00\n",
      "loss at batch 200: 0.90\n",
      "loss at batch 300: 0.93\n",
      "loss at batch 400: 0.98\n",
      "Epoch 6\n",
      "loss at batch 0: 0.87\n",
      "loss at batch 100: 0.90\n",
      "loss at batch 200: 0.80\n",
      "loss at batch 300: 0.84\n",
      "loss at batch 400: 0.90\n",
      "Epoch 7\n",
      "loss at batch 0: 0.79\n",
      "loss at batch 100: 0.82\n",
      "loss at batch 200: 0.73\n",
      "loss at batch 300: 0.77\n",
      "loss at batch 400: 0.83\n",
      "Epoch 8\n",
      "loss at batch 0: 0.73\n",
      "loss at batch 100: 0.75\n",
      "loss at batch 200: 0.66\n",
      "loss at batch 300: 0.72\n",
      "loss at batch 400: 0.78\n",
      "Epoch 9\n",
      "loss at batch 0: 0.68\n",
      "loss at batch 100: 0.70\n",
      "loss at batch 200: 0.62\n",
      "loss at batch 300: 0.67\n",
      "loss at batch 400: 0.74\n"
     ]
    }
   ],
   "source": [
    "(train_images, train_labels), (test_images, test_labels) = mnist.load_data()\n",
    "train_images = train_images.reshape((60000, 28 * 28))\n",
    "train_images = train_images.astype(\"float32\") / 255\n",
    "test_images = test_images.reshape((10000, 28 * 28))\n",
    "test_images = test_images.astype(\"float32\") / 255\n",
    "fit(model, train_images, train_labels, epochs=10, batch_size=128)"
   ]
  },
  {
   "cell_type": "markdown",
   "id": "f428498a",
   "metadata": {
    "papermill": {
     "duration": 0.008443,
     "end_time": "2023-01-29T19:48:31.689729",
     "exception": false,
     "start_time": "2023-01-29T19:48:31.681286",
     "status": "completed"
    },
    "tags": []
   },
   "source": [
    "### Evaluate model"
   ]
  },
  {
   "cell_type": "code",
   "execution_count": 12,
   "id": "54fac517",
   "metadata": {
    "execution": {
     "iopub.execute_input": "2023-01-29T19:48:31.709919Z",
     "iopub.status.busy": "2023-01-29T19:48:31.708602Z",
     "iopub.status.idle": "2023-01-29T19:48:31.826934Z",
     "shell.execute_reply": "2023-01-29T19:48:31.825614Z"
    },
    "papermill": {
     "duration": 0.131093,
     "end_time": "2023-01-29T19:48:31.829674",
     "exception": false,
     "start_time": "2023-01-29T19:48:31.698581",
     "status": "completed"
    },
    "tags": []
   },
   "outputs": [
    {
     "name": "stdout",
     "output_type": "stream",
     "text": [
      "accuracy: 0.82\n"
     ]
    }
   ],
   "source": [
    "predictions = model(test_images)\n",
    "predictions = predictions.numpy()\n",
    "predicted_labels = np.argmax(predictions, axis=1)\n",
    "matches = predicted_labels == test_labels\n",
    "print(f\"accuracy: {matches.mean():.2f}\")"
   ]
  }
 ],
 "metadata": {
  "kernelspec": {
   "display_name": "Python 3",
   "language": "python",
   "name": "python3"
  },
  "language_info": {
   "codemirror_mode": {
    "name": "ipython",
    "version": 3
   },
   "file_extension": ".py",
   "mimetype": "text/x-python",
   "name": "python",
   "nbconvert_exporter": "python",
   "pygments_lexer": "ipython3",
   "version": "3.7.12"
  },
  "papermill": {
   "default_parameters": {},
   "duration": 67.2612,
   "end_time": "2023-01-29T19:48:34.614918",
   "environment_variables": {},
   "exception": null,
   "input_path": "__notebook__.ipynb",
   "output_path": "__notebook__.ipynb",
   "parameters": {},
   "start_time": "2023-01-29T19:47:27.353718",
   "version": "2.3.4"
  }
 },
 "nbformat": 4,
 "nbformat_minor": 5
}
