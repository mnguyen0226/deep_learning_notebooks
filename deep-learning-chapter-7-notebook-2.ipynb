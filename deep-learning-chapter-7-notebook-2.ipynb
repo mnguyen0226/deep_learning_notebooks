{
 "cells": [
  {
   "cell_type": "markdown",
   "id": "0d2ae447",
   "metadata": {
    "_cell_guid": "b1076dfc-b9ad-4769-8c92-a6c4dae69d19",
    "_uuid": "8f2839f25d086af736a60e9eeb907d3b93b6e0e5",
    "papermill": {
     "duration": 0.012068,
     "end_time": "2023-02-17T20:11:43.985721",
     "exception": false,
     "start_time": "2023-02-17T20:11:43.973653",
     "status": "completed"
    },
    "tags": []
   },
   "source": [
    "# 7.3 Using built-in training and evaluation loops\n",
    "- The standard way to build machine learning model is to compile(), fit(), evaluate(), predict()\n",
    "- There are more way to customize the process:\n",
    "    - Provide your own custom metrics.\n",
    "    - Write your own calll backs.\n",
    "    - Monitor and visualize your results."
   ]
  },
  {
   "cell_type": "code",
   "execution_count": 1,
   "id": "3f0ba91d",
   "metadata": {
    "execution": {
     "iopub.execute_input": "2023-02-17T20:11:44.004686Z",
     "iopub.status.busy": "2023-02-17T20:11:44.004234Z",
     "iopub.status.idle": "2023-02-17T20:11:51.653592Z",
     "shell.execute_reply": "2023-02-17T20:11:51.652548Z"
    },
    "papermill": {
     "duration": 7.662779,
     "end_time": "2023-02-17T20:11:51.656816",
     "exception": false,
     "start_time": "2023-02-17T20:11:43.994037",
     "status": "completed"
    },
    "tags": []
   },
   "outputs": [],
   "source": [
    "# import libraries\n",
    "from tensorflow.keras.datasets import mnist\n",
    "from tensorflow import keras\n",
    "from tensorflow.keras import layers\n",
    "import tensorflow as tf\n",
    "import matplotlib.pyplot as plt"
   ]
  },
  {
   "cell_type": "markdown",
   "id": "f879b786",
   "metadata": {
    "papermill": {
     "duration": 0.007915,
     "end_time": "2023-02-17T20:11:51.673198",
     "exception": false,
     "start_time": "2023-02-17T20:11:51.665283",
     "status": "completed"
    },
    "tags": []
   },
   "source": [
    "## A. ML General Workflow: compile(), fit(), evaluate(), predict()"
   ]
  },
  {
   "cell_type": "code",
   "execution_count": 2,
   "id": "a7f9c8ec",
   "metadata": {
    "execution": {
     "iopub.execute_input": "2023-02-17T20:11:51.692550Z",
     "iopub.status.busy": "2023-02-17T20:11:51.691576Z",
     "iopub.status.idle": "2023-02-17T20:11:51.697564Z",
     "shell.execute_reply": "2023-02-17T20:11:51.696704Z"
    },
    "papermill": {
     "duration": 0.018231,
     "end_time": "2023-02-17T20:11:51.699774",
     "exception": false,
     "start_time": "2023-02-17T20:11:51.681543",
     "status": "completed"
    },
    "tags": []
   },
   "outputs": [],
   "source": [
    "def get_mnist_model():\n",
    "    # create a model using Functional API\n",
    "    inputs = keras.Input(shape=(28 * 28,))\n",
    "    features = layers.Dense(512, activation=\"relu\")(inputs)\n",
    "    features = layers.Dropout(0.5)(features)\n",
    "    outputs = layers.Dense(10, activation=\"softmax\")(features) # multi-class classification, single output\n",
    "    model = keras.Model(inputs, outputs)\n",
    "    return model"
   ]
  },
  {
   "cell_type": "code",
   "execution_count": 3,
   "id": "44eed824",
   "metadata": {
    "execution": {
     "iopub.execute_input": "2023-02-17T20:11:51.718893Z",
     "iopub.status.busy": "2023-02-17T20:11:51.718185Z",
     "iopub.status.idle": "2023-02-17T20:11:53.734584Z",
     "shell.execute_reply": "2023-02-17T20:11:53.733638Z"
    },
    "papermill": {
     "duration": 2.028687,
     "end_time": "2023-02-17T20:11:53.737205",
     "exception": false,
     "start_time": "2023-02-17T20:11:51.708518",
     "status": "completed"
    },
    "tags": []
   },
   "outputs": [
    {
     "name": "stdout",
     "output_type": "stream",
     "text": [
      "Downloading data from https://storage.googleapis.com/tensorflow/tf-keras-datasets/mnist.npz\n",
      "11490434/11490434 [==============================] - 1s 0us/step\n"
     ]
    }
   ],
   "source": [
    "# load dataset\n",
    "(images, labels), (test_images, test_labels) = mnist.load_data()\n",
    "\n",
    "# flatten images\n",
    "images = images.reshape((60000, 28 * 28)).astype(\"float32\") / 255\n",
    "test_images = test_images.reshape((10000, 28 * 28)).astype(\"float32\") / 255\n",
    "\n",
    "# get the training and validation set\n",
    "train_images, val_images = images[10000:], images[:10000]\n",
    "train_labels, val_labels = labels[10000:], labels[:10000]"
   ]
  },
  {
   "cell_type": "code",
   "execution_count": 4,
   "id": "c2c34dc9",
   "metadata": {
    "execution": {
     "iopub.execute_input": "2023-02-17T20:11:53.760397Z",
     "iopub.status.busy": "2023-02-17T20:11:53.759964Z",
     "iopub.status.idle": "2023-02-17T20:12:37.374661Z",
     "shell.execute_reply": "2023-02-17T20:12:37.373393Z"
    },
    "papermill": {
     "duration": 43.629127,
     "end_time": "2023-02-17T20:12:37.377267",
     "exception": false,
     "start_time": "2023-02-17T20:11:53.748140",
     "status": "completed"
    },
    "tags": []
   },
   "outputs": [
    {
     "name": "stderr",
     "output_type": "stream",
     "text": [
      "2023-02-17 20:11:53.799281: W tensorflow/stream_executor/platform/default/dso_loader.cc:64] Could not load dynamic library 'libcuda.so.1'; dlerror: libcuda.so.1: cannot open shared object file: No such file or directory; LD_LIBRARY_PATH: /usr/local/cuda/lib64:/usr/local/cuda/lib:/usr/local/lib/x86_64-linux-gnu:/usr/local/nvidia/lib:/usr/local/nvidia/lib64::/opt/conda/lib\n",
      "2023-02-17 20:11:53.799346: W tensorflow/stream_executor/cuda/cuda_driver.cc:269] failed call to cuInit: UNKNOWN ERROR (303)\n"
     ]
    },
    {
     "name": "stdout",
     "output_type": "stream",
     "text": [
      "Epoch 1/3\n",
      "1563/1563 [==============================] - 9s 6ms/step - loss: 0.2951 - accuracy: 0.9126 - val_loss: 0.1452 - val_accuracy: 0.9580\n",
      "Epoch 2/3\n",
      "1563/1563 [==============================] - 9s 5ms/step - loss: 0.1661 - accuracy: 0.9529 - val_loss: 0.1180 - val_accuracy: 0.9678\n",
      "Epoch 3/3\n",
      "1563/1563 [==============================] - 8s 5ms/step - loss: 0.1423 - accuracy: 0.9620 - val_loss: 0.1219 - val_accuracy: 0.9692\n",
      "313/313 [==============================] - 1s 2ms/step - loss: 0.1147 - accuracy: 0.9706\n",
      "313/313 [==============================] - 1s 2ms/step\n"
     ]
    }
   ],
   "source": [
    "# create a model\n",
    "model = get_mnist_model()\n",
    "\n",
    "# compile the model by specifying its optimizer, loss functionn, and metrics\n",
    "model.compile(optimizer=\"rmsprop\",\n",
    "              loss=\"sparse_categorical_crossentropy\",\n",
    "              metrics=[\"accuracy\"])\n",
    "\n",
    "# train and validate the model\n",
    "model.fit(train_images, train_labels, epochs=3, validation_data=(val_images, val_labels))\n",
    "\n",
    "# test model\n",
    "test_metrics = model.evaluate(test_images, test_labels)\n",
    "predictions = model.predict(test_images)"
   ]
  },
  {
   "cell_type": "markdown",
   "id": "9e9129fb",
   "metadata": {
    "papermill": {
     "duration": 0.039202,
     "end_time": "2023-02-17T20:12:37.456278",
     "exception": false,
     "start_time": "2023-02-17T20:12:37.417076",
     "status": "completed"
    },
    "tags": []
   },
   "source": [
    "## B. Write your own metrics\n",
    "- Keras has Metric class, however, the variables aren't updated via backpropagation, so we need to write the state-update logic."
   ]
  },
  {
   "cell_type": "markdown",
   "id": "50b31319",
   "metadata": {
    "papermill": {
     "duration": 0.039384,
     "end_time": "2023-02-17T20:12:37.535845",
     "exception": false,
     "start_time": "2023-02-17T20:12:37.496461",
     "status": "completed"
    },
    "tags": []
   },
   "source": [
    "### Implement a custom metric by subclassing the Metric class"
   ]
  },
  {
   "cell_type": "code",
   "execution_count": 5,
   "id": "d323ba51",
   "metadata": {
    "execution": {
     "iopub.execute_input": "2023-02-17T20:12:37.616535Z",
     "iopub.status.busy": "2023-02-17T20:12:37.616146Z",
     "iopub.status.idle": "2023-02-17T20:12:37.626661Z",
     "shell.execute_reply": "2023-02-17T20:12:37.625481Z"
    },
    "papermill": {
     "duration": 0.054131,
     "end_time": "2023-02-17T20:12:37.629156",
     "exception": false,
     "start_time": "2023-02-17T20:12:37.575025",
     "status": "completed"
    },
    "tags": []
   },
   "outputs": [],
   "source": [
    "class RootMeanSquaredError(keras.metrics.Metric):\n",
    "    def __init__(self, name=\"rmse\", **kwargs):\n",
    "        \"\"\"Constructor\"\"\"\n",
    "        super().__init__(name=name, **kwargs)\n",
    "        self.mse_sum = self.add_weight(name=\"mse_sum\", initializer=\"zeros\")\n",
    "        self.total_samples = self.add_weight(\n",
    "            name=\"total_samples\", initializer=\"zeros\", dtype=\"int32\"\n",
    "        )\n",
    "    \n",
    "    def update_state(self, y_true, y_pred, sample_weight=None):\n",
    "        \"\"\"Implement state updates\"\"\"\n",
    "        y_true = tf.one_hot(y_true, depth=tf.shape(y_pred)[1])\n",
    "        mse = tf.reduce_sum(tf.square(y_true - y_pred))\n",
    "        self.mse_sum.assign_add(mse)\n",
    "        num_samples = tf.shape(y_pred)[0]\n",
    "        self.total_samples.assign_add(num_samples)\n",
    "        \n",
    "    def result(self):\n",
    "        \"\"\"Return the values of the metrics\"\"\"\n",
    "        return tf.sqrt(self.mse_sum / tf.cast(self.total_samples, tf.float32))\n",
    "    \n",
    "    def reset_state(self):\n",
    "        \"\"\"Reset without reinitialize\"\"\"\n",
    "        self.mse_sum.assign(0.)\n",
    "        self.total_samples.assign(0)"
   ]
  },
  {
   "cell_type": "code",
   "execution_count": 6,
   "id": "4b18e66e",
   "metadata": {
    "execution": {
     "iopub.execute_input": "2023-02-17T20:12:37.710880Z",
     "iopub.status.busy": "2023-02-17T20:12:37.710454Z",
     "iopub.status.idle": "2023-02-17T20:13:07.066132Z",
     "shell.execute_reply": "2023-02-17T20:13:07.064803Z"
    },
    "papermill": {
     "duration": 29.400005,
     "end_time": "2023-02-17T20:13:07.069046",
     "exception": false,
     "start_time": "2023-02-17T20:12:37.669041",
     "status": "completed"
    },
    "tags": []
   },
   "outputs": [
    {
     "name": "stdout",
     "output_type": "stream",
     "text": [
      "Epoch 1/3\n",
      "1563/1563 [==============================] - 10s 6ms/step - loss: 0.2971 - accuracy: 0.9124 - rmse: 7.1814 - val_loss: 0.1519 - val_accuracy: 0.9562 - val_rmse: 7.3549\n",
      "Epoch 2/3\n",
      "1563/1563 [==============================] - 9s 5ms/step - loss: 0.1671 - accuracy: 0.9528 - rmse: 7.3544 - val_loss: 0.1290 - val_accuracy: 0.9644 - val_rmse: 7.4005\n",
      "Epoch 3/3\n",
      "1563/1563 [==============================] - 9s 6ms/step - loss: 0.1409 - accuracy: 0.9626 - rmse: 7.3874 - val_loss: 0.1219 - val_accuracy: 0.9691 - val_rmse: 7.4200\n",
      "313/313 [==============================] - 1s 2ms/step - loss: 0.1122 - accuracy: 0.9704 - rmse: 7.4333\n"
     ]
    }
   ],
   "source": [
    "# build a model\n",
    "model = get_mnist_model()\n",
    "\n",
    "# initilize optimizer, loss, metrics\n",
    "model.compile(optimizer=\"rmsprop\",\n",
    "              loss=\"sparse_categorical_crossentropy\",\n",
    "              metrics=[\"accuracy\", RootMeanSquaredError()])\n",
    "\n",
    "# train model\n",
    "model.fit(train_images, train_labels, epochs=3, validation_data=(val_images, val_labels))\n",
    "\n",
    "# test model\n",
    "test_metrics = model.evaluate(test_images, test_labels)"
   ]
  },
  {
   "cell_type": "markdown",
   "id": "4c4eda51",
   "metadata": {
    "papermill": {
     "duration": 0.068712,
     "end_time": "2023-02-17T20:13:07.207769",
     "exception": false,
     "start_time": "2023-02-17T20:13:07.139057",
     "status": "completed"
    },
    "tags": []
   },
   "source": [
    "## C. Using callbacks\n",
    "- Training your model with `fit()` can take a lot of resource, thus `callback` object is callled by the model at various points during training. The object has access to all the available data about the state of the model and its performance. \n",
    "- It can have some actions:\n",
    "    - interrupt training.\n",
    "    - save a model.\n",
    "    - load a different weight set.\n",
    "    - alter the state of the model\n",
    "- Some examples of using callbacks:\n",
    "    - Model checkpointing: Saving the current state of the model at different points during training.\n",
    "    - Early stopping: Interrupt training when the validation loss is no longer improving.\n",
    "    - Dynamically adjusting the value of certain parameter during training: such as the learning rate of the optimizer.\n",
    "    - Logging training and validationn metrics during training, or visualizing the representations learned by the model as they're updated.\n",
    "- Some of the function calls;\n",
    "```python\n",
    "keras.callbacks.ModelCheckpoint\n",
    "keras.callbacks.EarlyStopping\n",
    "keras.callbacks.LearningRateScheduler\n",
    "keras.callbacks.ReduceLROnPlateau\n",
    "keras.callbacks.CSVLogger\n",
    "```"
   ]
  },
  {
   "cell_type": "markdown",
   "id": "4fd25b55",
   "metadata": {
    "papermill": {
     "duration": 0.068591,
     "end_time": "2023-02-17T20:13:07.345491",
     "exception": false,
     "start_time": "2023-02-17T20:13:07.276900",
     "status": "completed"
    },
    "tags": []
   },
   "source": [
    "### The EarlyStopping & ModelCheckpoint Callbacks\n",
    "- When you are training, there are many things you can't predict such as number of epochs. Previously, we have to retrain from scratch, which is wasteful of resource. A better way is to stop training when you measure that the validation loss is no longer improving.\n",
    "- Let's write the code using callbacks argument in the `fit()` method."
   ]
  },
  {
   "cell_type": "code",
   "execution_count": 7,
   "id": "6be45e4b",
   "metadata": {
    "execution": {
     "iopub.execute_input": "2023-02-17T20:13:07.486653Z",
     "iopub.status.busy": "2023-02-17T20:13:07.486228Z",
     "iopub.status.idle": "2023-02-17T20:13:07.492692Z",
     "shell.execute_reply": "2023-02-17T20:13:07.491287Z"
    },
    "papermill": {
     "duration": 0.080631,
     "end_time": "2023-02-17T20:13:07.495127",
     "exception": false,
     "start_time": "2023-02-17T20:13:07.414496",
     "status": "completed"
    },
    "tags": []
   },
   "outputs": [],
   "source": [
    "# callbackks are passed to the model via fit() which takes a list of call backs\n",
    "callback_list = [\n",
    "    # interrupts training when improvement stops\n",
    "    keras.callbacks.EarlyStopping( \n",
    "        monitor=\"val_accuracy\", # monitors the model's validation accuracy\n",
    "        patience=2,             # innterrupt training when accuracy has stopped improving for 2 epochs\n",
    "    ),\n",
    "    \n",
    "    keras.callbacks.ModelCheckpoint(\n",
    "        filepath=\"checkpoint_path.keras\", # save the current weights after every epochs\n",
    "        monitor=\"val_loss\",  # don't overwrite the model file unless val_loss has improoved which allow you to keep the best model seen during training\n",
    "        save_best_only=True,\n",
    "    )\n",
    "]"
   ]
  },
  {
   "cell_type": "code",
   "execution_count": 8,
   "id": "a5fe3920",
   "metadata": {
    "execution": {
     "iopub.execute_input": "2023-02-17T20:13:07.634549Z",
     "iopub.status.busy": "2023-02-17T20:13:07.634093Z",
     "iopub.status.idle": "2023-02-17T20:14:33.245792Z",
     "shell.execute_reply": "2023-02-17T20:14:33.244556Z"
    },
    "papermill": {
     "duration": 85.684425,
     "end_time": "2023-02-17T20:14:33.248425",
     "exception": false,
     "start_time": "2023-02-17T20:13:07.564000",
     "status": "completed"
    },
    "tags": []
   },
   "outputs": [
    {
     "name": "stdout",
     "output_type": "stream",
     "text": [
      "Epoch 1/10\n",
      "1563/1563 [==============================] - 9s 6ms/step - loss: 0.2940 - accuracy: 0.9129 - val_loss: 0.1575 - val_accuracy: 0.9552\n",
      "Epoch 2/10\n",
      "1563/1563 [==============================] - 8s 5ms/step - loss: 0.1648 - accuracy: 0.9537 - val_loss: 0.1194 - val_accuracy: 0.9683\n",
      "Epoch 3/10\n",
      "1563/1563 [==============================] - 8s 5ms/step - loss: 0.1415 - accuracy: 0.9624 - val_loss: 0.1152 - val_accuracy: 0.9704\n",
      "Epoch 4/10\n",
      "1563/1563 [==============================] - 9s 6ms/step - loss: 0.1265 - accuracy: 0.9674 - val_loss: 0.1062 - val_accuracy: 0.9744\n",
      "Epoch 5/10\n",
      "1563/1563 [==============================] - 9s 5ms/step - loss: 0.1165 - accuracy: 0.9708 - val_loss: 0.1064 - val_accuracy: 0.9759\n",
      "Epoch 6/10\n",
      "1563/1563 [==============================] - 8s 5ms/step - loss: 0.1091 - accuracy: 0.9728 - val_loss: 0.1054 - val_accuracy: 0.9759\n",
      "Epoch 7/10\n",
      "1563/1563 [==============================] - 9s 6ms/step - loss: 0.1086 - accuracy: 0.9743 - val_loss: 0.1061 - val_accuracy: 0.9777\n",
      "Epoch 8/10\n",
      "1563/1563 [==============================] - 8s 5ms/step - loss: 0.1013 - accuracy: 0.9766 - val_loss: 0.1100 - val_accuracy: 0.9773\n",
      "Epoch 9/10\n",
      "1563/1563 [==============================] - 8s 5ms/step - loss: 0.0989 - accuracy: 0.9781 - val_loss: 0.1116 - val_accuracy: 0.9781\n",
      "Epoch 10/10\n",
      "1563/1563 [==============================] - 8s 5ms/step - loss: 0.0990 - accuracy: 0.9783 - val_loss: 0.1221 - val_accuracy: 0.9765\n"
     ]
    },
    {
     "data": {
      "text/plain": [
       "<keras.callbacks.History at 0x7f54a86eafd0>"
      ]
     },
     "execution_count": 8,
     "metadata": {},
     "output_type": "execute_result"
    }
   ],
   "source": [
    "# build model\n",
    "model = get_mnist_model()\n",
    "\n",
    "# compile the model\n",
    "model.compile(optimizer=\"rmsprop\",\n",
    "              loss=\"sparse_categorical_crossentropy\",\n",
    "              metrics=[\"accuracy\"])\n",
    "\n",
    "# train and validate the model\n",
    "model.fit(train_images, train_labels, epochs=10, callbacks=callback_list, validation_data=(val_images, val_labels))"
   ]
  },
  {
   "cell_type": "code",
   "execution_count": 9,
   "id": "cae0d5f3",
   "metadata": {
    "execution": {
     "iopub.execute_input": "2023-02-17T20:14:33.576601Z",
     "iopub.status.busy": "2023-02-17T20:14:33.576197Z",
     "iopub.status.idle": "2023-02-17T20:14:33.581308Z",
     "shell.execute_reply": "2023-02-17T20:14:33.580093Z"
    },
    "papermill": {
     "duration": 0.172835,
     "end_time": "2023-02-17T20:14:33.583809",
     "exception": false,
     "start_time": "2023-02-17T20:14:33.410974",
     "status": "completed"
    },
    "tags": []
   },
   "outputs": [],
   "source": [
    "# # you can always save the model manually after training\n",
    "# model.save(\"my_checkpoint_path\")\n",
    "\n",
    "# # load the model\n",
    "# model = keras.models.load_model(\"my_checkpoint_path.keras\")"
   ]
  },
  {
   "cell_type": "markdown",
   "id": "36ec1794",
   "metadata": {
    "papermill": {
     "duration": 0.162837,
     "end_time": "2023-02-17T20:14:33.910526",
     "exception": false,
     "start_time": "2023-02-17T20:14:33.747689",
     "status": "completed"
    },
    "tags": []
   },
   "source": [
    "### Create a custom callback by subclassing the Callback class"
   ]
  },
  {
   "cell_type": "code",
   "execution_count": 10,
   "id": "6ca6f883",
   "metadata": {
    "execution": {
     "iopub.execute_input": "2023-02-17T20:14:34.237025Z",
     "iopub.status.busy": "2023-02-17T20:14:34.236608Z",
     "iopub.status.idle": "2023-02-17T20:14:34.243978Z",
     "shell.execute_reply": "2023-02-17T20:14:34.243169Z"
    },
    "papermill": {
     "duration": 0.173125,
     "end_time": "2023-02-17T20:14:34.246020",
     "exception": false,
     "start_time": "2023-02-17T20:14:34.072895",
     "status": "completed"
    },
    "tags": []
   },
   "outputs": [],
   "source": [
    "class LossHistory(keras.callbacks.Callback):\n",
    "    def on_train_begin(self, logs):\n",
    "        \"\"\"Called at the start of training\"\"\"\n",
    "        self.per_batch_losses = []\n",
    "        \n",
    "    def on_batch_end(self, batch, logs):\n",
    "        \"\"\"Called right after processing each batch\"\"\"\n",
    "        self.per_batch_losses.append(logs.get(\"loss\"))\n",
    "        \n",
    "    def on_epoch_end(self, epoch, logs):\n",
    "        plt.clf()\n",
    "        plt.plot(range(len(self.per_batch_losses)), self.per_batch_losses,\n",
    "        label=\"Training loss for each batch\")\n",
    "        plt.xlabel(f\"Batch (epoch {epoch})\")\n",
    "        plt.ylabel(\"Loss\")\n",
    "        plt.legend()\n",
    "        plt.savefig(f\"plot_at_epoch_{epoch}\")\n",
    "        self.per_batch_losses = []"
   ]
  },
  {
   "cell_type": "code",
   "execution_count": 11,
   "id": "6b64a027",
   "metadata": {
    "execution": {
     "iopub.execute_input": "2023-02-17T20:14:34.648903Z",
     "iopub.status.busy": "2023-02-17T20:14:34.647722Z",
     "iopub.status.idle": "2023-02-17T20:16:03.468010Z",
     "shell.execute_reply": "2023-02-17T20:16:03.467161Z"
    },
    "papermill": {
     "duration": 88.990107,
     "end_time": "2023-02-17T20:16:03.470387",
     "exception": false,
     "start_time": "2023-02-17T20:14:34.480280",
     "status": "completed"
    },
    "tags": []
   },
   "outputs": [
    {
     "name": "stdout",
     "output_type": "stream",
     "text": [
      "Epoch 1/10\n",
      "1563/1563 [==============================] - 10s 6ms/step - loss: 0.2917 - accuracy: 0.9144 - val_loss: 0.1496 - val_accuracy: 0.9566\n",
      "Epoch 2/10\n",
      "1563/1563 [==============================] - 9s 6ms/step - loss: 0.1620 - accuracy: 0.9542 - val_loss: 0.1314 - val_accuracy: 0.9654\n",
      "Epoch 3/10\n",
      "1563/1563 [==============================] - 9s 5ms/step - loss: 0.1390 - accuracy: 0.9629 - val_loss: 0.1093 - val_accuracy: 0.9720\n",
      "Epoch 4/10\n",
      "1563/1563 [==============================] - 9s 6ms/step - loss: 0.1225 - accuracy: 0.9680 - val_loss: 0.1131 - val_accuracy: 0.9728\n",
      "Epoch 5/10\n",
      "1563/1563 [==============================] - 9s 6ms/step - loss: 0.1173 - accuracy: 0.9702 - val_loss: 0.1129 - val_accuracy: 0.9748\n",
      "Epoch 6/10\n",
      "1563/1563 [==============================] - 8s 5ms/step - loss: 0.1115 - accuracy: 0.9727 - val_loss: 0.1127 - val_accuracy: 0.9739\n",
      "Epoch 7/10\n",
      "1563/1563 [==============================] - 9s 5ms/step - loss: 0.1066 - accuracy: 0.9748 - val_loss: 0.1032 - val_accuracy: 0.9775\n",
      "Epoch 8/10\n",
      "1563/1563 [==============================] - 9s 6ms/step - loss: 0.0983 - accuracy: 0.9770 - val_loss: 0.1072 - val_accuracy: 0.9770\n",
      "Epoch 9/10\n",
      "1563/1563 [==============================] - 8s 5ms/step - loss: 0.0976 - accuracy: 0.9779 - val_loss: 0.1143 - val_accuracy: 0.9772\n",
      "Epoch 10/10\n",
      "1563/1563 [==============================] - 9s 5ms/step - loss: 0.0965 - accuracy: 0.9788 - val_loss: 0.1108 - val_accuracy: 0.9792\n"
     ]
    },
    {
     "data": {
      "text/plain": [
       "<keras.callbacks.History at 0x7f54a8d9f410>"
      ]
     },
     "execution_count": 11,
     "metadata": {},
     "output_type": "execute_result"
    },
    {
     "data": {
      "image/png": "[encoded data removed]",
      "text/plain": [
       "<Figure size 640x480 with 1 Axes>"
      ]
     },
     "metadata": {},
     "output_type": "display_data"
    }
   ],
   "source": [
    "# build the model\n",
    "model = get_mnist_model()\n",
    "\n",
    "# init the model optimizer, loss, metrics\n",
    "model.compile(optimizer=\"rmsprop\",\n",
    "              loss=\"sparse_categorical_crossentropy\",\n",
    "              metrics=[\"accuracy\"])\n",
    "\n",
    "# train and validate the model\n",
    "model.fit(train_images, train_labels, epochs=10, callbacks=[LossHistory()], validation_data=(val_images, val_labels))"
   ]
  },
  {
   "cell_type": "markdown",
   "id": "91521775",
   "metadata": {
    "papermill": {
     "duration": 0.257874,
     "end_time": "2023-02-17T20:16:03.988682",
     "exception": false,
     "start_time": "2023-02-17T20:16:03.730808",
     "status": "completed"
    },
    "tags": []
   },
   "source": [
    "### Monitoring & Visualization with TensorBoard"
   ]
  },
  {
   "cell_type": "code",
   "execution_count": 12,
   "id": "6a734b91",
   "metadata": {
    "execution": {
     "iopub.execute_input": "2023-02-17T20:16:04.567265Z",
     "iopub.status.busy": "2023-02-17T20:16:04.566560Z",
     "iopub.status.idle": "2023-02-17T20:18:27.155251Z",
     "shell.execute_reply": "2023-02-17T20:18:27.154023Z"
    },
    "papermill": {
     "duration": 143.26582,
     "end_time": "2023-02-17T20:18:27.511086",
     "exception": false,
     "start_time": "2023-02-17T20:16:04.245266",
     "status": "completed"
    },
    "tags": []
   },
   "outputs": [
    {
     "name": "stdout",
     "output_type": "stream",
     "text": [
      "Epoch 1/10\n",
      "1563/1563 [==============================] - 9s 5ms/step - loss: 0.2925 - accuracy: 0.9137 - val_loss: 0.1487 - val_accuracy: 0.9579\n",
      "Epoch 2/10\n",
      "1563/1563 [==============================] - 8s 5ms/step - loss: 0.1643 - accuracy: 0.9536 - val_loss: 0.1193 - val_accuracy: 0.9671\n",
      "Epoch 3/10\n",
      "1563/1563 [==============================] - 8s 5ms/step - loss: 0.1362 - accuracy: 0.9634 - val_loss: 0.1137 - val_accuracy: 0.9720\n",
      "Epoch 4/10\n",
      "1563/1563 [==============================] - 8s 5ms/step - loss: 0.1241 - accuracy: 0.9681 - val_loss: 0.1130 - val_accuracy: 0.9714\n",
      "Epoch 5/10\n",
      "1563/1563 [==============================] - 9s 6ms/step - loss: 0.1172 - accuracy: 0.9701 - val_loss: 0.1123 - val_accuracy: 0.9741\n",
      "Epoch 6/10\n",
      "1563/1563 [==============================] - 8s 5ms/step - loss: 0.1126 - accuracy: 0.9727 - val_loss: 0.1085 - val_accuracy: 0.9761\n",
      "Epoch 7/10\n",
      "1563/1563 [==============================] - 8s 5ms/step - loss: 0.1088 - accuracy: 0.9751 - val_loss: 0.1095 - val_accuracy: 0.9775\n",
      "Epoch 8/10\n",
      "1563/1563 [==============================] - 8s 5ms/step - loss: 0.1009 - accuracy: 0.9770 - val_loss: 0.1190 - val_accuracy: 0.9770\n",
      "Epoch 9/10\n",
      "1563/1563 [==============================] - 8s 5ms/step - loss: 0.0961 - accuracy: 0.9781 - val_loss: 0.1177 - val_accuracy: 0.9778\n",
      "Epoch 10/10\n",
      "1563/1563 [==============================] - 8s 5ms/step - loss: 0.0942 - accuracy: 0.9780 - val_loss: 0.1231 - val_accuracy: 0.9776\n"
     ]
    },
    {
     "data": {
      "text/plain": [
       "<keras.callbacks.History at 0x7f54a8c5bd90>"
      ]
     },
     "execution_count": 12,
     "metadata": {},
     "output_type": "execute_result"
    }
   ],
   "source": [
    "# build model\n",
    "model = get_mnist_model()\n",
    "\n",
    "# init the model optimizer, loss, metrics\n",
    "model.compile(optimizer=\"rmsprop\",\n",
    "    loss=\"sparse_categorical_crossentropy\",\n",
    "    metrics=[\"accuracy\"])\n",
    "\n",
    "tensorboard = keras.callbacks.TensorBoard(\n",
    "    log_dir=\"/full_path_to_your_log_dir\",\n",
    ")\n",
    "\n",
    "# train and validate the model\n",
    "model.fit(train_images, train_labels,\n",
    "    epochs=10,\n",
    "    validation_data=(val_images, val_labels),\n",
    "    callbacks=[tensorboard])"
   ]
  },
  {
   "cell_type": "code",
   "execution_count": 13,
   "id": "5cc64bfd",
   "metadata": {
    "execution": {
     "iopub.execute_input": "2023-02-17T20:18:28.281429Z",
     "iopub.status.busy": "2023-02-17T20:18:28.280982Z",
     "iopub.status.idle": "2023-02-17T20:18:54.165181Z",
     "shell.execute_reply": "2023-02-17T20:18:54.164143Z"
    },
    "papermill": {
     "duration": 26.303974,
     "end_time": "2023-02-17T20:18:54.167775",
     "exception": false,
     "start_time": "2023-02-17T20:18:27.863801",
     "status": "completed"
    },
    "tags": []
   },
   "outputs": [
    {
     "name": "stdout",
     "output_type": "stream",
     "text": [
      "/bin/bash: /opt/conda/lib/libtinfo.so.6: no version information available (required by /bin/bash)\r\n",
      "Requirement already satisfied: tensorboard in /opt/conda/lib/python3.7/site-packages (2.9.1)\r\n",
      "Collecting protobuf<3.20,>=3.9.2\r\n",
      "  Downloading protobuf-3.19.6-cp37-cp37m-manylinux_2_17_x86_64.manylinux2014_x86_64.whl (1.1 MB)\r\n",
      "\u001b[2K     \u001b[90m━━━━━━━━━━━━━━━━━━━━━━━━━━━━━━━━━━━━━━━━\u001b[0m \u001b[32m1.1/1.1 MB\u001b[0m \u001b[31m1.3 MB/s\u001b[0m eta \u001b[36m0:00:00\u001b[0m\r\n",
      "\u001b[?25hRequirement already satisfied: requests<3,>=2.21.0 in /opt/conda/lib/python3.7/site-packages (from tensorboard) (2.28.1)\r\n",
      "Requirement already satisfied: tensorboard-data-server<0.7.0,>=0.6.0 in /opt/conda/lib/python3.7/site-packages (from tensorboard) (0.6.1)\r\n",
      "Requirement already satisfied: grpcio>=1.24.3 in /opt/conda/lib/python3.7/site-packages (from tensorboard) (1.48.1)\r\n",
      "Requirement already satisfied: google-auth-oauthlib<0.5,>=0.4.1 in /opt/conda/lib/python3.7/site-packages (from tensorboard) (0.4.6)\r\n",
      "Requirement already satisfied: markdown>=2.6.8 in /opt/conda/lib/python3.7/site-packages (from tensorboard) (3.4.1)\r\n",
      "Requirement already satisfied: absl-py>=0.4 in /opt/conda/lib/python3.7/site-packages (from tensorboard) (1.2.0)\r\n",
      "Requirement already satisfied: numpy>=1.12.0 in /opt/conda/lib/python3.7/site-packages (from tensorboard) (1.21.6)\r\n",
      "Requirement already satisfied: werkzeug>=1.0.1 in /opt/conda/lib/python3.7/site-packages (from tensorboard) (2.2.2)\r\n",
      "Requirement already satisfied: wheel>=0.26 in /opt/conda/lib/python3.7/site-packages (from tensorboard) (0.37.1)\r\n",
      "Requirement already satisfied: tensorboard-plugin-wit>=1.6.0 in /opt/conda/lib/python3.7/site-packages (from tensorboard) (1.8.1)\r\n",
      "Requirement already satisfied: setuptools>=41.0.0 in /opt/conda/lib/python3.7/site-packages (from tensorboard) (59.8.0)\r\n",
      "Requirement already satisfied: google-auth<3,>=1.6.3 in /opt/conda/lib/python3.7/site-packages (from tensorboard) (1.35.0)\r\n",
      "Requirement already satisfied: rsa<5,>=3.1.4 in /opt/conda/lib/python3.7/site-packages (from google-auth<3,>=1.6.3->tensorboard) (4.9)\r\n",
      "Requirement already satisfied: six>=1.9.0 in /opt/conda/lib/python3.7/site-packages (from google-auth<3,>=1.6.3->tensorboard) (1.16.0)\r\n",
      "Requirement already satisfied: pyasn1-modules>=0.2.1 in /opt/conda/lib/python3.7/site-packages (from google-auth<3,>=1.6.3->tensorboard) (0.2.7)\r\n",
      "Requirement already satisfied: cachetools<5.0,>=2.0.0 in /opt/conda/lib/python3.7/site-packages (from google-auth<3,>=1.6.3->tensorboard) (4.2.4)\r\n",
      "Requirement already satisfied: requests-oauthlib>=0.7.0 in /opt/conda/lib/python3.7/site-packages (from google-auth-oauthlib<0.5,>=0.4.1->tensorboard) (1.3.1)\r\n",
      "Requirement already satisfied: importlib-metadata>=4.4 in /opt/conda/lib/python3.7/site-packages (from markdown>=2.6.8->tensorboard) (6.0.0)\r\n",
      "Requirement already satisfied: certifi>=2017.4.17 in /opt/conda/lib/python3.7/site-packages (from requests<3,>=2.21.0->tensorboard) (2022.12.7)\r\n",
      "Requirement already satisfied: charset-normalizer<3,>=2 in /opt/conda/lib/python3.7/site-packages (from requests<3,>=2.21.0->tensorboard) (2.1.1)\r\n",
      "Requirement already satisfied: idna<4,>=2.5 in /opt/conda/lib/python3.7/site-packages (from requests<3,>=2.21.0->tensorboard) (3.3)\r\n",
      "Requirement already satisfied: urllib3<1.27,>=1.21.1 in /opt/conda/lib/python3.7/site-packages (from requests<3,>=2.21.0->tensorboard) (1.26.11)\r\n",
      "Requirement already satisfied: MarkupSafe>=2.1.1 in /opt/conda/lib/python3.7/site-packages (from werkzeug>=1.0.1->tensorboard) (2.1.2)\r\n",
      "Requirement already satisfied: zipp>=0.5 in /opt/conda/lib/python3.7/site-packages (from importlib-metadata>=4.4->markdown>=2.6.8->tensorboard) (3.8.1)\r\n",
      "Requirement already satisfied: typing-extensions>=3.6.4 in /opt/conda/lib/python3.7/site-packages (from importlib-metadata>=4.4->markdown>=2.6.8->tensorboard) (4.1.1)\r\n",
      "Requirement already satisfied: pyasn1<0.5.0,>=0.4.6 in /opt/conda/lib/python3.7/site-packages (from pyasn1-modules>=0.2.1->google-auth<3,>=1.6.3->tensorboard) (0.4.8)\r\n",
      "Requirement already satisfied: oauthlib>=3.0.0 in /opt/conda/lib/python3.7/site-packages (from requests-oauthlib>=0.7.0->google-auth-oauthlib<0.5,>=0.4.1->tensorboard) (3.2.1)\r\n",
      "Installing collected packages: protobuf\r\n",
      "  Attempting uninstall: protobuf\r\n",
      "    Found existing installation: protobuf 3.20.3\r\n",
      "    Uninstalling protobuf-3.20.3:\r\n",
      "      Successfully uninstalled protobuf-3.20.3\r\n",
      "\u001b[31mERROR: pip's dependency resolver does not currently take into account all the packages that are installed. This behaviour is the source of the following dependency conflicts.\r\n",
      "tfx-bsl 1.10.1 requires google-api-python-client<2,>=1.7.11, but you have google-api-python-client 2.61.0 which is incompatible.\r\n",
      "tfx-bsl 1.10.1 requires pyarrow<7,>=6, but you have pyarrow 9.0.0 which is incompatible.\r\n",
      "tensorflow-transform 1.10.1 requires pyarrow<7,>=6, but you have pyarrow 9.0.0 which is incompatible.\r\n",
      "tensorflow-serving-api 2.10.0 requires tensorflow<3,>=2.10.0, but you have tensorflow 2.9.2 which is incompatible.\r\n",
      "ortools 9.5.2237 requires protobuf>=4.21.5, but you have protobuf 3.19.6 which is incompatible.\r\n",
      "onnx 1.13.0 requires protobuf<4,>=3.20.2, but you have protobuf 3.19.6 which is incompatible.\r\n",
      "google-cloud-logging 3.2.2 requires google-cloud-core<3.0.0dev,>=2.0.0, but you have google-cloud-core 1.7.3 which is incompatible.\r\n",
      "google-api-core 1.33.0 requires protobuf<4.0.0dev,>=3.20.1, but you have protobuf 3.19.6 which is incompatible.\r\n",
      "gcsfs 2022.8.2 requires fsspec==2022.8.2, but you have fsspec 2023.1.0 which is incompatible.\r\n",
      "apache-beam 2.41.0 requires dill<0.3.2,>=0.3.1.1, but you have dill 0.3.6 which is incompatible.\r\n",
      "apache-beam 2.41.0 requires pyarrow<8.0.0,>=0.15.1, but you have pyarrow 9.0.0 which is incompatible.\u001b[0m\u001b[31m\r\n",
      "\u001b[0mSuccessfully installed protobuf-3.19.6\r\n",
      "\u001b[33mWARNING: Running pip as the 'root' user can result in broken permissions and conflicting behaviour with the system package manager. It is recommended to use a virtual environment instead: https://pip.pypa.io/warnings/venv\u001b[0m\u001b[33m\r\n",
      "\u001b[0m"
     ]
    }
   ],
   "source": [
    "!pip install tensorboard"
   ]
  },
  {
   "cell_type": "code",
   "execution_count": 14,
   "id": "fc2bdcc8",
   "metadata": {
    "execution": {
     "iopub.execute_input": "2023-02-17T20:18:54.895544Z",
     "iopub.status.busy": "2023-02-17T20:18:54.895058Z",
     "iopub.status.idle": "2023-02-17T20:19:00.957885Z",
     "shell.execute_reply": "2023-02-17T20:19:00.956486Z"
    },
    "papermill": {
     "duration": 6.431041,
     "end_time": "2023-02-17T20:19:00.960898",
     "exception": false,
     "start_time": "2023-02-17T20:18:54.529857",
     "status": "completed"
    },
    "tags": []
   },
   "outputs": [
    {
     "data": {
      "text/html": [
       "\n",
       "      <iframe id=\"tensorboard-frame-914b96baa2b7e0e9\" width=\"100%\" height=\"800\" frameborder=\"0\">\n",
       "      </iframe>\n",
       "      <script>\n",
       "        (function() {\n",
       "          const frame = document.getElementById(\"tensorboard-frame-914b96baa2b7e0e9\");\n",
       "          const url = new URL(\"/\", window.location);\n",
       "          const port = 6006;\n",
       "          if (port) {\n",
       "            url.port = port;\n",
       "          }\n",
       "          frame.src = url;\n",
       "        })();\n",
       "      </script>\n",
       "    "
      ],
      "text/plain": [
       "<IPython.core.display.HTML object>"
      ]
     },
     "metadata": {},
     "output_type": "display_data"
    }
   ],
   "source": [
    "%load_ext tensorboard\n",
    "%tensorboard --logdir /full_path_to_your_log_dir"
   ]
  },
  {
   "cell_type": "markdown",
   "id": "3254805f",
   "metadata": {
    "papermill": {
     "duration": 0.360526,
     "end_time": "2023-02-17T20:19:01.677206",
     "exception": false,
     "start_time": "2023-02-17T20:19:01.316680",
     "status": "completed"
    },
    "tags": []
   },
   "source": [
    "## D. Write your own training & evaluation loop\n",
    "- The function fit() will not work for task with no explicit targets are presented such as gneerative learning, self-supervised learning, or reinforcement learning."
   ]
  },
  {
   "cell_type": "markdown",
   "id": "169fd517",
   "metadata": {
    "papermill": {
     "duration": 0.35279,
     "end_time": "2023-02-17T20:19:02.444538",
     "exception": false,
     "start_time": "2023-02-17T20:19:02.091748",
     "status": "completed"
    },
    "tags": []
   },
   "source": [
    "### A step-by-step training loop - fit() with many features"
   ]
  },
  {
   "cell_type": "code",
   "execution_count": 15,
   "id": "c91502f3",
   "metadata": {
    "execution": {
     "iopub.execute_input": "2023-02-17T20:19:03.159731Z",
     "iopub.status.busy": "2023-02-17T20:19:03.158934Z",
     "iopub.status.idle": "2023-02-17T20:19:03.212624Z",
     "shell.execute_reply": "2023-02-17T20:19:03.211381Z"
    },
    "papermill": {
     "duration": 0.415928,
     "end_time": "2023-02-17T20:19:03.215261",
     "exception": false,
     "start_time": "2023-02-17T20:19:02.799333",
     "status": "completed"
    },
    "tags": []
   },
   "outputs": [],
   "source": [
    "model = get_mnist_model()\n",
    "\n",
    "# loss function\n",
    "loss_fn = keras.losses.SparseCategoricalCrossentropy()\n",
    "\n",
    "# optimizer\n",
    "optimizer = keras.optimizers.RMSprop()\n",
    "\n",
    "# list of metrics to monitor\n",
    "metrics = [keras.metrics.SparseCategoricalAccuracy()]\n",
    "\n",
    "# list of metrics to track the loss average\n",
    "loss_tracking_metric = keras.metrics.Mean()\n",
    "\n",
    "def train_step(inputs, targets):\n",
    "    with tf.GradientTape() as tape:\n",
    "        predictions = model(inputs, training=True)\n",
    "        loss = loss_fn(targets, predictions)\n",
    "    gradients = tape.gradient(loss, model.trainable_weights)\n",
    "    optimizer.apply_gradients(zip(gradients, model.trainable_weights))\n",
    "    \n",
    "    # keep track of metrics\n",
    "    logs = {}\n",
    "    for metric in metrics:\n",
    "        metric.update_state(targets, predictions)\n",
    "        logs[metric.name] = metric.result()\n",
    "        \n",
    "    # keep track of loss average\n",
    "    loss_tracking_metric.update_state(loss)\n",
    "    logs[\"loss\"] = loss_tracking_metric.result()\n",
    "    \n",
    "    # return the current values of the metrics and loss\n",
    "    return logs\n",
    "\n",
    "def reset_metrics():\n",
    "    for metric in metrics:\n",
    "        metric.reset_state()\n",
    "    loss_tracking_metric.reset_state()"
   ]
  },
  {
   "cell_type": "code",
   "execution_count": 16,
   "id": "80c63e91",
   "metadata": {
    "execution": {
     "iopub.execute_input": "2023-02-17T20:19:03.985389Z",
     "iopub.status.busy": "2023-02-17T20:19:03.984601Z",
     "iopub.status.idle": "2023-02-17T20:20:46.781246Z",
     "shell.execute_reply": "2023-02-17T20:20:46.779975Z"
    },
    "papermill": {
     "duration": 103.567903,
     "end_time": "2023-02-17T20:20:47.138629",
     "exception": false,
     "start_time": "2023-02-17T20:19:03.570726",
     "status": "completed"
    },
    "tags": []
   },
   "outputs": [
    {
     "name": "stdout",
     "output_type": "stream",
     "text": [
      "Results at the end of epoch 0\n",
      "...sparse_categorical_accuracy: 0.9124\n",
      "...loss: 0.2924\n",
      "Results at the end of epoch 1\n",
      "...sparse_categorical_accuracy: 0.9535\n",
      "...loss: 0.1649\n",
      "Results at the end of epoch 2\n",
      "...sparse_categorical_accuracy: 0.9625\n",
      "...loss: 0.1429\n"
     ]
    }
   ],
   "source": [
    "training_dataset = tf.data.Dataset.from_tensor_slices((train_images, train_labels))\n",
    "training_dataset = training_dataset.batch(32)\n",
    "epochs = 3\n",
    "\n",
    "for epoch in range(epochs):\n",
    "    reset_metrics()\n",
    "    for inputs_batch, targets_batch in training_dataset:\n",
    "        logs = train_step(inputs_batch, targets_batch)\n",
    "    print(f\"Results at the end of epoch {epoch}\")\n",
    "    for key, value in logs.items():\n",
    "        print(f\"...{key}: {value:.4f}\")"
   ]
  },
  {
   "cell_type": "markdown",
   "id": "1c1e66ee",
   "metadata": {
    "papermill": {
     "duration": 0.412279,
     "end_time": "2023-02-17T20:20:47.907307",
     "exception": false,
     "start_time": "2023-02-17T20:20:47.495028",
     "status": "completed"
    },
    "tags": []
   },
   "source": [
    "### A step-by-step evaluation loop - evaluate() with many features"
   ]
  },
  {
   "cell_type": "code",
   "execution_count": 17,
   "id": "acf2ceb0",
   "metadata": {
    "execution": {
     "iopub.execute_input": "2023-02-17T20:20:48.622120Z",
     "iopub.status.busy": "2023-02-17T20:20:48.621698Z",
     "iopub.status.idle": "2023-02-17T20:20:50.621468Z",
     "shell.execute_reply": "2023-02-17T20:20:50.620336Z"
    },
    "papermill": {
     "duration": 2.358806,
     "end_time": "2023-02-17T20:20:50.624431",
     "exception": false,
     "start_time": "2023-02-17T20:20:48.265625",
     "status": "completed"
    },
    "tags": []
   },
   "outputs": [
    {
     "name": "stdout",
     "output_type": "stream",
     "text": [
      "Evaluation results:\n",
      "...val_sparse_categorical_accuracy: 0.9683\n",
      "...val_loss: 0.1295\n"
     ]
    }
   ],
   "source": [
    "def test_step(inputs, targets):\n",
    "    predictions = model(inputs, training=False)\n",
    "    loss = loss_fn(targets, predictions)\n",
    "    logs = {}\n",
    "    for metric in metrics:\n",
    "        metric.update_state(targets, predictions)\n",
    "        logs[\"val_\" + metric.name] = metric.result()\n",
    "    loss_tracking_metric.update_state(loss)\n",
    "    logs[\"val_loss\"] = loss_tracking_metric.result()\n",
    "    return logs\n",
    "    \n",
    "val_dataset = tf.data.Dataset.from_tensor_slices((val_images, val_labels))\n",
    "val_dataset = val_dataset.batch(32)\n",
    "reset_metrics()\n",
    "\n",
    "for inputs_batch, targets_batch in val_dataset:\n",
    "    logs = test_step(inputs_batch, targets_batch)\n",
    "    \n",
    "print(\"Evaluation results:\")\n",
    "for key, value in logs.items():\n",
    "    print(f\"...{key}: {value:.4f}\")"
   ]
  },
  {
   "cell_type": "markdown",
   "id": "3eeb3edf",
   "metadata": {
    "papermill": {
     "duration": 0.360924,
     "end_time": "2023-02-17T20:20:51.343342",
     "exception": false,
     "start_time": "2023-02-17T20:20:50.982418",
     "status": "completed"
    },
    "tags": []
   },
   "source": [
    "### Make it fast with tf.function\n",
    "- Note that the customed fit() and evaluate() function is slower despeite the same logic. This is because TF code is executed line by line. It's more performant to compile your TF code into a computation graph that can be globally optimized in a way that code interpreted line by line can't. We can do this by using a decorator."
   ]
  },
  {
   "cell_type": "code",
   "execution_count": 18,
   "id": "c5c0e83e",
   "metadata": {
    "execution": {
     "iopub.execute_input": "2023-02-17T20:20:52.120442Z",
     "iopub.status.busy": "2023-02-17T20:20:52.119302Z",
     "iopub.status.idle": "2023-02-17T20:20:53.439791Z",
     "shell.execute_reply": "2023-02-17T20:20:53.438256Z"
    },
    "papermill": {
     "duration": 1.680385,
     "end_time": "2023-02-17T20:20:53.442569",
     "exception": false,
     "start_time": "2023-02-17T20:20:51.762184",
     "status": "completed"
    },
    "tags": []
   },
   "outputs": [
    {
     "name": "stdout",
     "output_type": "stream",
     "text": [
      "Evaluation results:\n",
      "...val_sparse_categorical_accuracy: 0.9683\n",
      "...val_loss: 0.1295\n"
     ]
    }
   ],
   "source": [
    "@tf.function\n",
    "def test_step(inputs, targets):\n",
    "    predictions = model(inputs, training=False)\n",
    "    loss = loss_fn(targets, predictions)\n",
    "    logs = {}\n",
    "    for metric in metrics:\n",
    "        metric.update_state(targets, predictions)\n",
    "        logs[\"val_\" + metric.name] = metric.result()\n",
    "    loss_tracking_metric.update_state(loss)\n",
    "    logs[\"val_loss\"] = loss_tracking_metric.result()\n",
    "    return logs\n",
    "    \n",
    "val_dataset = tf.data.Dataset.from_tensor_slices((val_images, val_labels))\n",
    "val_dataset = val_dataset.batch(32)\n",
    "reset_metrics()\n",
    "\n",
    "for inputs_batch, targets_batch in val_dataset:\n",
    "    logs = test_step(inputs_batch, targets_batch)\n",
    "    \n",
    "print(\"Evaluation results:\")\n",
    "for key, value in logs.items():\n",
    "    print(f\"...{key}: {value:.4f}\")"
   ]
  },
  {
   "cell_type": "markdown",
   "id": "4e39bfb1",
   "metadata": {
    "papermill": {
     "duration": 0.356017,
     "end_time": "2023-02-17T20:20:54.157355",
     "exception": false,
     "start_time": "2023-02-17T20:20:53.801338",
     "status": "completed"
    },
    "tags": []
   },
   "source": [
    "### Leveraging fit() with a custom training loop\n",
    "- When writing your customed training and evaluation loop from scratch, you will have to write a lot of code. What if you want to leverage the power of built-in Keras trainning logic? There is a way: you can provide a custom training step function and let the framework do the rest.\n",
    "- To do this, you will have to overrite the train_step() of the Model class.\n",
    "- Steps:\n",
    "    - Create a new class of subclasses keras.Model\n",
    "    - Overrite the method train_step(self, data.\n",
    "    - Implement a metrics property that tracks the model's Metric instances, this enables the model to automatically call reset_state() on the model's metricsat the start of each epoch and at the start of each epoch and at the start of a call to evalute(), so you don't have to do it by hand.\n",
    "   "
   ]
  },
  {
   "cell_type": "code",
   "execution_count": 19,
   "id": "a35fbd48",
   "metadata": {
    "execution": {
     "iopub.execute_input": "2023-02-17T20:20:54.943452Z",
     "iopub.status.busy": "2023-02-17T20:20:54.942622Z",
     "iopub.status.idle": "2023-02-17T20:20:54.955401Z",
     "shell.execute_reply": "2023-02-17T20:20:54.954233Z"
    },
    "papermill": {
     "duration": 0.437545,
     "end_time": "2023-02-17T20:20:54.958434",
     "exception": false,
     "start_time": "2023-02-17T20:20:54.520889",
     "status": "completed"
    },
    "tags": []
   },
   "outputs": [],
   "source": [
    "loss_fn = keras.losses.SparseCategoricalCrossentropy()\n",
    "\n",
    "# metric object to track the average of per-batch losses during training and evaluation.\n",
    "loss_tracker = keras.metrics.Mean(name=\"loss\")\n",
    "\n",
    "class CustomModel(keras.Model):\n",
    "    def train_step(self, data):\n",
    "        \"\"\"Override the train_step method\"\"\"\n",
    "        inputs, targets = data\n",
    "        with tf.GradientTape() as tape:\n",
    "            predictions = self(inputs, training=True)\n",
    "            loss = loss_fn(targets, predictions)\n",
    "        gradients = tape.gradient(loss, model.trainable_weights)\n",
    "        optimizer.apply_gradients(zip(gradients, model.trainable_weights))\n",
    "        \n",
    "        # update the loss tracker metrics that tracks the average of the loss\n",
    "        loss_tracker.update_state(loss)\n",
    "        \n",
    "        # return the average loss \n",
    "        return {\"loss\": loss_tracker.result()}\n",
    "    \n",
    "    @property\n",
    "    def metrics(self):\n",
    "        return [loss_tracker]"
   ]
  },
  {
   "cell_type": "code",
   "execution_count": 20,
   "id": "6c031815",
   "metadata": {
    "execution": {
     "iopub.execute_input": "2023-02-17T20:20:55.691161Z",
     "iopub.status.busy": "2023-02-17T20:20:55.689949Z",
     "iopub.status.idle": "2023-02-17T20:21:37.253457Z",
     "shell.execute_reply": "2023-02-17T20:21:37.252355Z"
    },
    "papermill": {
     "duration": 42.317447,
     "end_time": "2023-02-17T20:21:37.643998",
     "exception": false,
     "start_time": "2023-02-17T20:20:55.326551",
     "status": "completed"
    },
    "tags": []
   },
   "outputs": [
    {
     "name": "stdout",
     "output_type": "stream",
     "text": [
      "Epoch 1/3\n",
      "1563/1563 [==============================] - 8s 5ms/step - loss: 0.2929\n",
      "Epoch 2/3\n",
      "1563/1563 [==============================] - 7s 5ms/step - loss: 0.1667\n",
      "Epoch 3/3\n",
      "1563/1563 [==============================] - 7s 5ms/step - loss: 0.1378\n"
     ]
    },
    {
     "data": {
      "text/plain": [
       "<keras.callbacks.History at 0x7f54a9e49b50>"
      ]
     },
     "execution_count": 20,
     "metadata": {},
     "output_type": "execute_result"
    }
   ],
   "source": [
    "inputs = keras.Input(shape=(28 * 28,))\n",
    "features = layers.Dense(512, activation=\"relu\")(inputs)\n",
    "features = layers.Dropout(0.5)(features)\n",
    "outputs = layers.Dense(10, activation=\"softmax\")(features)\n",
    "model = CustomModel(inputs, outputs)\n",
    "model.compile(optimizer=keras.optimizers.RMSprop())\n",
    "model.fit(train_images, train_labels, epochs=3)"
   ]
  },
  {
   "cell_type": "markdown",
   "id": "50cf2f6a",
   "metadata": {
    "papermill": {
     "duration": 0.383423,
     "end_time": "2023-02-17T20:21:38.474313",
     "exception": false,
     "start_time": "2023-02-17T20:21:38.090890",
     "status": "completed"
    },
    "tags": []
   },
   "source": [
    "**Note**: What about configure the metrics and the loss via compile()"
   ]
  },
  {
   "cell_type": "code",
   "execution_count": 21,
   "id": "67040771",
   "metadata": {
    "execution": {
     "iopub.execute_input": "2023-02-17T20:21:39.241919Z",
     "iopub.status.busy": "2023-02-17T20:21:39.241483Z",
     "iopub.status.idle": "2023-02-17T20:21:39.249030Z",
     "shell.execute_reply": "2023-02-17T20:21:39.247847Z"
    },
    "papermill": {
     "duration": 0.393012,
     "end_time": "2023-02-17T20:21:39.251316",
     "exception": false,
     "start_time": "2023-02-17T20:21:38.858304",
     "status": "completed"
    },
    "tags": []
   },
   "outputs": [],
   "source": [
    "class CustomModel(keras.Model):\n",
    "    def train_step(self, data):\n",
    "        inputs, targets = data\n",
    "        with tf.GradientTape() as tape:\n",
    "            predictions = self(inputs, training=True)\n",
    "            loss = self.compiled_loss(targets, predictions)\n",
    "        gradients = tape.gradient(loss, model.trainable_weights)\n",
    "        optimizer.apply_gradients(zip(gradients, model.trainable_weights))\n",
    "        self.compiled_metrics.update_state(targets, predictions)\n",
    "        return {m.name: m.result() for m in self.metrics}"
   ]
  },
  {
   "cell_type": "code",
   "execution_count": 22,
   "id": "223469df",
   "metadata": {
    "execution": {
     "iopub.execute_input": "2023-02-17T20:21:40.084122Z",
     "iopub.status.busy": "2023-02-17T20:21:40.083397Z",
     "iopub.status.idle": "2023-02-17T20:22:04.345731Z",
     "shell.execute_reply": "2023-02-17T20:22:04.344804Z"
    },
    "papermill": {
     "duration": 24.712018,
     "end_time": "2023-02-17T20:22:04.348185",
     "exception": false,
     "start_time": "2023-02-17T20:21:39.636167",
     "status": "completed"
    },
    "tags": []
   },
   "outputs": [
    {
     "name": "stdout",
     "output_type": "stream",
     "text": [
      "Epoch 1/3\n",
      "1563/1563 [==============================] - 8s 5ms/step - loss: 0.2959 - sparse_categorical_accuracy: 0.9130\n",
      "Epoch 2/3\n",
      "1563/1563 [==============================] - 8s 5ms/step - loss: 0.1707 - sparse_categorical_accuracy: 0.9532\n",
      "Epoch 3/3\n",
      "1563/1563 [==============================] - 8s 5ms/step - loss: 0.1391 - sparse_categorical_accuracy: 0.9636\n"
     ]
    },
    {
     "data": {
      "text/plain": [
       "<keras.callbacks.History at 0x7f5543e43910>"
      ]
     },
     "execution_count": 22,
     "metadata": {},
     "output_type": "execute_result"
    }
   ],
   "source": [
    "inputs = keras.Input(shape=(28 * 28,))\n",
    "features = layers.Dense(512, activation=\"relu\")(inputs)\n",
    "features = layers.Dropout(0.5)(features)\n",
    "outputs = layers.Dense(10, activation=\"softmax\")(features)\n",
    "\n",
    "model = CustomModel(inputs, outputs)\n",
    "\n",
    "model.compile(optimizer=keras.optimizers.RMSprop(),\n",
    "              loss=keras.losses.SparseCategoricalCrossentropy(),\n",
    "              metrics=[keras.metrics.SparseCategoricalAccuracy()])\n",
    "model.fit(train_images, train_labels, epochs=3)"
   ]
  }
 ],
 "metadata": {
  "kernelspec": {
   "display_name": "Python 3",
   "language": "python",
   "name": "python3"
  },
  "language_info": {
   "codemirror_mode": {
    "name": "ipython",
    "version": 3
   },
   "file_extension": ".py",
   "mimetype": "text/x-python",
   "name": "python",
   "nbconvert_exporter": "python",
   "pygments_lexer": "ipython3",
   "version": "3.7.12"
  },
  "papermill": {
   "default_parameters": {},
   "duration": 631.8975,
   "end_time": "2023-02-17T20:22:07.492007",
   "environment_variables": {},
   "exception": null,
   "input_path": "__notebook__.ipynb",
   "output_path": "__notebook__.ipynb",
   "parameters": {},
   "start_time": "2023-02-17T20:11:35.594507",
   "version": "2.3.4"
  }
 },
 "nbformat": 4,
 "nbformat_minor": 5
}
