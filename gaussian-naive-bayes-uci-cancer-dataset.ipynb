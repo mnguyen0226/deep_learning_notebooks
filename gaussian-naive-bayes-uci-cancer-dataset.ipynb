{
 "cells": [
  {
   "cell_type": "markdown",
   "id": "adcbf53d",
   "metadata": {
    "_cell_guid": "b1076dfc-b9ad-4769-8c92-a6c4dae69d19",
    "_uuid": "8f2839f25d086af736a60e9eeb907d3b93b6e0e5",
    "papermill": {
     "duration": 0.021432,
     "end_time": "2023-02-03T20:21:38.644717",
     "exception": false,
     "start_time": "2023-02-03T20:21:38.623285",
     "status": "completed"
    },
    "tags": []
   },
   "source": [
    "# Gaussian Naive Bayes Classifier for Breast Cancer Dataset\n",
    "- Implement a simple program using GaussianNB() to classify the data samples (including train and test data samples). Report the prediction accuracy and confusion matrix of the classifier.\n",
    "- Add (30-dimensional) zero-mean Gaussian noises with different variances (at least 5, e.g., 50, 100, 200, 400, 800) to the features of the dataset; train Gaussian Naïve Bayes classifiers to classify the noisy datasets and report the prediction accuracies and confusion matrices of the classifiers."
   ]
  },
  {
   "cell_type": "code",
   "execution_count": 1,
   "id": "ed6fc80a",
   "metadata": {
    "execution": {
     "iopub.execute_input": "2023-02-03T20:21:38.688092Z",
     "iopub.status.busy": "2023-02-03T20:21:38.687493Z",
     "iopub.status.idle": "2023-02-03T20:21:39.780994Z",
     "shell.execute_reply": "2023-02-03T20:21:39.779816Z"
    },
    "papermill": {
     "duration": 1.119099,
     "end_time": "2023-02-03T20:21:39.783935",
     "exception": false,
     "start_time": "2023-02-03T20:21:38.664836",
     "status": "completed"
    },
    "tags": []
   },
   "outputs": [],
   "source": [
    "# import libraries\n",
    "import numpy as np \n",
    "import pandas as pd \n",
    "import matplotlib.pyplot as plt\n",
    "from sklearn.model_selection import train_test_split\n",
    "from sklearn.naive_bayes import GaussianNB\n",
    "from sklearn import preprocessing\n",
    "from sklearn import metrics\n",
    "import os\n",
    "import math"
   ]
  },
  {
   "cell_type": "code",
   "execution_count": 2,
   "id": "19c428ab",
   "metadata": {
    "execution": {
     "iopub.execute_input": "2023-02-03T20:21:39.826756Z",
     "iopub.status.busy": "2023-02-03T20:21:39.825857Z",
     "iopub.status.idle": "2023-02-03T20:21:39.846829Z",
     "shell.execute_reply": "2023-02-03T20:21:39.845596Z"
    },
    "papermill": {
     "duration": 0.046625,
     "end_time": "2023-02-03T20:21:39.850624",
     "exception": false,
     "start_time": "2023-02-03T20:21:39.803999",
     "status": "completed"
    },
    "tags": []
   },
   "outputs": [
    {
     "name": "stdout",
     "output_type": "stream",
     "text": [
      "/kaggle/input/breast-cancer-wisconsin-data/data.csv\n"
     ]
    }
   ],
   "source": [
    "# connect to Kaggle open-source database\n",
    "for dirname, _, filenames in os.walk('/kaggle/input'):\n",
    "    for filename in filenames:\n",
    "        print(os.path.join(dirname, filename))"
   ]
  },
  {
   "cell_type": "markdown",
   "id": "9c9d67ec",
   "metadata": {
    "papermill": {
     "duration": 0.019337,
     "end_time": "2023-02-03T20:21:39.891040",
     "exception": false,
     "start_time": "2023-02-03T20:21:39.871703",
     "status": "completed"
    },
    "tags": []
   },
   "source": [
    "# 1. Data Processing "
   ]
  },
  {
   "cell_type": "code",
   "execution_count": 3,
   "id": "857d8cef",
   "metadata": {
    "execution": {
     "iopub.execute_input": "2023-02-03T20:21:39.931532Z",
     "iopub.status.busy": "2023-02-03T20:21:39.931110Z",
     "iopub.status.idle": "2023-02-03T20:21:39.984958Z",
     "shell.execute_reply": "2023-02-03T20:21:39.983696Z"
    },
    "papermill": {
     "duration": 0.07734,
     "end_time": "2023-02-03T20:21:39.987941",
     "exception": false,
     "start_time": "2023-02-03T20:21:39.910601",
     "status": "completed"
    },
    "tags": []
   },
   "outputs": [
    {
     "data": {
      "text/html": [
       "<div>\n",
       "<style scoped>\n",
       "    .dataframe tbody tr th:only-of-type {\n",
       "        vertical-align: middle;\n",
       "    }\n",
       "\n",
       "    .dataframe tbody tr th {\n",
       "        vertical-align: top;\n",
       "    }\n",
       "\n",
       "    .dataframe thead th {\n",
       "        text-align: right;\n",
       "    }\n",
       "</style>\n",
       "<table border=\"1\" class=\"dataframe\">\n",
       "  <thead>\n",
       "    <tr style=\"text-align: right;\">\n",
       "      <th></th>\n",
       "      <th>id</th>\n",
       "      <th>diagnosis</th>\n",
       "      <th>radius_mean</th>\n",
       "      <th>texture_mean</th>\n",
       "      <th>perimeter_mean</th>\n",
       "      <th>area_mean</th>\n",
       "      <th>smoothness_mean</th>\n",
       "      <th>compactness_mean</th>\n",
       "      <th>concavity_mean</th>\n",
       "      <th>concave points_mean</th>\n",
       "      <th>...</th>\n",
       "      <th>texture_worst</th>\n",
       "      <th>perimeter_worst</th>\n",
       "      <th>area_worst</th>\n",
       "      <th>smoothness_worst</th>\n",
       "      <th>compactness_worst</th>\n",
       "      <th>concavity_worst</th>\n",
       "      <th>concave points_worst</th>\n",
       "      <th>symmetry_worst</th>\n",
       "      <th>fractal_dimension_worst</th>\n",
       "      <th>Unnamed: 32</th>\n",
       "    </tr>\n",
       "  </thead>\n",
       "  <tbody>\n",
       "    <tr>\n",
       "      <th>0</th>\n",
       "      <td>842302</td>\n",
       "      <td>M</td>\n",
       "      <td>17.99</td>\n",
       "      <td>10.38</td>\n",
       "      <td>122.80</td>\n",
       "      <td>1001.0</td>\n",
       "      <td>0.11840</td>\n",
       "      <td>0.27760</td>\n",
       "      <td>0.3001</td>\n",
       "      <td>0.14710</td>\n",
       "      <td>...</td>\n",
       "      <td>17.33</td>\n",
       "      <td>184.60</td>\n",
       "      <td>2019.0</td>\n",
       "      <td>0.1622</td>\n",
       "      <td>0.6656</td>\n",
       "      <td>0.7119</td>\n",
       "      <td>0.2654</td>\n",
       "      <td>0.4601</td>\n",
       "      <td>0.11890</td>\n",
       "      <td>NaN</td>\n",
       "    </tr>\n",
       "    <tr>\n",
       "      <th>1</th>\n",
       "      <td>842517</td>\n",
       "      <td>M</td>\n",
       "      <td>20.57</td>\n",
       "      <td>17.77</td>\n",
       "      <td>132.90</td>\n",
       "      <td>1326.0</td>\n",
       "      <td>0.08474</td>\n",
       "      <td>0.07864</td>\n",
       "      <td>0.0869</td>\n",
       "      <td>0.07017</td>\n",
       "      <td>...</td>\n",
       "      <td>23.41</td>\n",
       "      <td>158.80</td>\n",
       "      <td>1956.0</td>\n",
       "      <td>0.1238</td>\n",
       "      <td>0.1866</td>\n",
       "      <td>0.2416</td>\n",
       "      <td>0.1860</td>\n",
       "      <td>0.2750</td>\n",
       "      <td>0.08902</td>\n",
       "      <td>NaN</td>\n",
       "    </tr>\n",
       "    <tr>\n",
       "      <th>2</th>\n",
       "      <td>84300903</td>\n",
       "      <td>M</td>\n",
       "      <td>19.69</td>\n",
       "      <td>21.25</td>\n",
       "      <td>130.00</td>\n",
       "      <td>1203.0</td>\n",
       "      <td>0.10960</td>\n",
       "      <td>0.15990</td>\n",
       "      <td>0.1974</td>\n",
       "      <td>0.12790</td>\n",
       "      <td>...</td>\n",
       "      <td>25.53</td>\n",
       "      <td>152.50</td>\n",
       "      <td>1709.0</td>\n",
       "      <td>0.1444</td>\n",
       "      <td>0.4245</td>\n",
       "      <td>0.4504</td>\n",
       "      <td>0.2430</td>\n",
       "      <td>0.3613</td>\n",
       "      <td>0.08758</td>\n",
       "      <td>NaN</td>\n",
       "    </tr>\n",
       "    <tr>\n",
       "      <th>3</th>\n",
       "      <td>84348301</td>\n",
       "      <td>M</td>\n",
       "      <td>11.42</td>\n",
       "      <td>20.38</td>\n",
       "      <td>77.58</td>\n",
       "      <td>386.1</td>\n",
       "      <td>0.14250</td>\n",
       "      <td>0.28390</td>\n",
       "      <td>0.2414</td>\n",
       "      <td>0.10520</td>\n",
       "      <td>...</td>\n",
       "      <td>26.50</td>\n",
       "      <td>98.87</td>\n",
       "      <td>567.7</td>\n",
       "      <td>0.2098</td>\n",
       "      <td>0.8663</td>\n",
       "      <td>0.6869</td>\n",
       "      <td>0.2575</td>\n",
       "      <td>0.6638</td>\n",
       "      <td>0.17300</td>\n",
       "      <td>NaN</td>\n",
       "    </tr>\n",
       "    <tr>\n",
       "      <th>4</th>\n",
       "      <td>84358402</td>\n",
       "      <td>M</td>\n",
       "      <td>20.29</td>\n",
       "      <td>14.34</td>\n",
       "      <td>135.10</td>\n",
       "      <td>1297.0</td>\n",
       "      <td>0.10030</td>\n",
       "      <td>0.13280</td>\n",
       "      <td>0.1980</td>\n",
       "      <td>0.10430</td>\n",
       "      <td>...</td>\n",
       "      <td>16.67</td>\n",
       "      <td>152.20</td>\n",
       "      <td>1575.0</td>\n",
       "      <td>0.1374</td>\n",
       "      <td>0.2050</td>\n",
       "      <td>0.4000</td>\n",
       "      <td>0.1625</td>\n",
       "      <td>0.2364</td>\n",
       "      <td>0.07678</td>\n",
       "      <td>NaN</td>\n",
       "    </tr>\n",
       "  </tbody>\n",
       "</table>\n",
       "<p>5 rows × 33 columns</p>\n",
       "</div>"
      ],
      "text/plain": [
       "         id diagnosis  radius_mean  texture_mean  perimeter_mean  area_mean  \\\n",
       "0    842302         M        17.99         10.38          122.80     1001.0   \n",
       "1    842517         M        20.57         17.77          132.90     1326.0   \n",
       "2  84300903         M        19.69         21.25          130.00     1203.0   \n",
       "3  84348301         M        11.42         20.38           77.58      386.1   \n",
       "4  84358402         M        20.29         14.34          135.10     1297.0   \n",
       "\n",
       "   smoothness_mean  compactness_mean  concavity_mean  concave points_mean  \\\n",
       "0          0.11840           0.27760          0.3001              0.14710   \n",
       "1          0.08474           0.07864          0.0869              0.07017   \n",
       "2          0.10960           0.15990          0.1974              0.12790   \n",
       "3          0.14250           0.28390          0.2414              0.10520   \n",
       "4          0.10030           0.13280          0.1980              0.10430   \n",
       "\n",
       "   ...  texture_worst  perimeter_worst  area_worst  smoothness_worst  \\\n",
       "0  ...          17.33           184.60      2019.0            0.1622   \n",
       "1  ...          23.41           158.80      1956.0            0.1238   \n",
       "2  ...          25.53           152.50      1709.0            0.1444   \n",
       "3  ...          26.50            98.87       567.7            0.2098   \n",
       "4  ...          16.67           152.20      1575.0            0.1374   \n",
       "\n",
       "   compactness_worst  concavity_worst  concave points_worst  symmetry_worst  \\\n",
       "0             0.6656           0.7119                0.2654          0.4601   \n",
       "1             0.1866           0.2416                0.1860          0.2750   \n",
       "2             0.4245           0.4504                0.2430          0.3613   \n",
       "3             0.8663           0.6869                0.2575          0.6638   \n",
       "4             0.2050           0.4000                0.1625          0.2364   \n",
       "\n",
       "   fractal_dimension_worst  Unnamed: 32  \n",
       "0                  0.11890          NaN  \n",
       "1                  0.08902          NaN  \n",
       "2                  0.08758          NaN  \n",
       "3                  0.17300          NaN  \n",
       "4                  0.07678          NaN  \n",
       "\n",
       "[5 rows x 33 columns]"
      ]
     },
     "execution_count": 3,
     "metadata": {},
     "output_type": "execute_result"
    }
   ],
   "source": [
    "# import dataset\n",
    "df = pd.read_csv(\"/kaggle/input/breast-cancer-wisconsin-data/data.csv\")\n",
    "df.head()"
   ]
  },
  {
   "cell_type": "code",
   "execution_count": 4,
   "id": "93a92af2",
   "metadata": {
    "execution": {
     "iopub.execute_input": "2023-02-03T20:21:40.030749Z",
     "iopub.status.busy": "2023-02-03T20:21:40.029960Z",
     "iopub.status.idle": "2023-02-03T20:21:40.060073Z",
     "shell.execute_reply": "2023-02-03T20:21:40.058667Z"
    },
    "papermill": {
     "duration": 0.055086,
     "end_time": "2023-02-03T20:21:40.063623",
     "exception": false,
     "start_time": "2023-02-03T20:21:40.008537",
     "status": "completed"
    },
    "tags": []
   },
   "outputs": [
    {
     "name": "stdout",
     "output_type": "stream",
     "text": [
      "<class 'pandas.core.frame.DataFrame'>\n",
      "RangeIndex: 569 entries, 0 to 568\n",
      "Data columns (total 33 columns):\n",
      " #   Column                   Non-Null Count  Dtype  \n",
      "---  ------                   --------------  -----  \n",
      " 0   id                       569 non-null    int64  \n",
      " 1   diagnosis                569 non-null    object \n",
      " 2   radius_mean              569 non-null    float64\n",
      " 3   texture_mean             569 non-null    float64\n",
      " 4   perimeter_mean           569 non-null    float64\n",
      " 5   area_mean                569 non-null    float64\n",
      " 6   smoothness_mean          569 non-null    float64\n",
      " 7   compactness_mean         569 non-null    float64\n",
      " 8   concavity_mean           569 non-null    float64\n",
      " 9   concave points_mean      569 non-null    float64\n",
      " 10  symmetry_mean            569 non-null    float64\n",
      " 11  fractal_dimension_mean   569 non-null    float64\n",
      " 12  radius_se                569 non-null    float64\n",
      " 13  texture_se               569 non-null    float64\n",
      " 14  perimeter_se             569 non-null    float64\n",
      " 15  area_se                  569 non-null    float64\n",
      " 16  smoothness_se            569 non-null    float64\n",
      " 17  compactness_se           569 non-null    float64\n",
      " 18  concavity_se             569 non-null    float64\n",
      " 19  concave points_se        569 non-null    float64\n",
      " 20  symmetry_se              569 non-null    float64\n",
      " 21  fractal_dimension_se     569 non-null    float64\n",
      " 22  radius_worst             569 non-null    float64\n",
      " 23  texture_worst            569 non-null    float64\n",
      " 24  perimeter_worst          569 non-null    float64\n",
      " 25  area_worst               569 non-null    float64\n",
      " 26  smoothness_worst         569 non-null    float64\n",
      " 27  compactness_worst        569 non-null    float64\n",
      " 28  concavity_worst          569 non-null    float64\n",
      " 29  concave points_worst     569 non-null    float64\n",
      " 30  symmetry_worst           569 non-null    float64\n",
      " 31  fractal_dimension_worst  569 non-null    float64\n",
      " 32  Unnamed: 32              0 non-null      float64\n",
      "dtypes: float64(31), int64(1), object(1)\n",
      "memory usage: 146.8+ KB\n"
     ]
    }
   ],
   "source": [
    "# check datatype\n",
    "df.info()"
   ]
  },
  {
   "cell_type": "markdown",
   "id": "6ba138bc",
   "metadata": {
    "papermill": {
     "duration": 0.026785,
     "end_time": "2023-02-03T20:21:40.112456",
     "exception": false,
     "start_time": "2023-02-03T20:21:40.085671",
     "status": "completed"
    },
    "tags": []
   },
   "source": [
    "**Note**: we will drop *id* and *Unnamed* columns as they does not contribute to the learning process of the model."
   ]
  },
  {
   "cell_type": "markdown",
   "id": "3fc4338f",
   "metadata": {
    "papermill": {
     "duration": 0.021352,
     "end_time": "2023-02-03T20:21:40.155289",
     "exception": false,
     "start_time": "2023-02-03T20:21:40.133937",
     "status": "completed"
    },
    "tags": []
   },
   "source": [
    "## 1.1. Data Visualization\n",
    "Let's plot the malignent and benign cancer data points."
   ]
  },
  {
   "cell_type": "code",
   "execution_count": 5,
   "id": "b9dfd10a",
   "metadata": {
    "execution": {
     "iopub.execute_input": "2023-02-03T20:21:40.198494Z",
     "iopub.status.busy": "2023-02-03T20:21:40.197708Z",
     "iopub.status.idle": "2023-02-03T20:21:40.456882Z",
     "shell.execute_reply": "2023-02-03T20:21:40.455783Z"
    },
    "papermill": {
     "duration": 0.283589,
     "end_time": "2023-02-03T20:21:40.459609",
     "exception": false,
     "start_time": "2023-02-03T20:21:40.176020",
     "status": "completed"
    },
    "tags": []
   },
   "outputs": [
    {
     "data": {
      "image/png": "[encoded data removed]",
      "text/plain": [
       "<Figure size 432x288 with 1 Axes>"
      ]
     },
     "metadata": {
      "needs_background": "light"
     },
     "output_type": "display_data"
    }
   ],
   "source": [
    "# plot the distribution of points\n",
    "plt.title(\"Radius & Texture Data Distribution\")\n",
    "df['radius_mean'].plot(kind='kde')\n",
    "df['texture_mean'].plot(kind='kde')\n",
    "plt.legend()\n",
    "plt.show()"
   ]
  },
  {
   "cell_type": "markdown",
   "id": "0b8d4b47",
   "metadata": {
    "papermill": {
     "duration": 0.020094,
     "end_time": "2023-02-03T20:21:40.500017",
     "exception": false,
     "start_time": "2023-02-03T20:21:40.479923",
     "status": "completed"
    },
    "tags": []
   },
   "source": [
    "## 1.2. Data Processing"
   ]
  },
  {
   "cell_type": "code",
   "execution_count": 6,
   "id": "a4ff0a0b",
   "metadata": {
    "execution": {
     "iopub.execute_input": "2023-02-03T20:21:40.542306Z",
     "iopub.status.busy": "2023-02-03T20:21:40.541855Z",
     "iopub.status.idle": "2023-02-03T20:21:40.549782Z",
     "shell.execute_reply": "2023-02-03T20:21:40.548539Z"
    },
    "papermill": {
     "duration": 0.032119,
     "end_time": "2023-02-03T20:21:40.552371",
     "exception": false,
     "start_time": "2023-02-03T20:21:40.520252",
     "status": "completed"
    },
    "tags": []
   },
   "outputs": [],
   "source": [
    "# drop columns\n",
    "df = df.drop(['id'], axis=1)\n",
    "df = df.drop(['Unnamed: 32'], axis=1)"
   ]
  },
  {
   "cell_type": "code",
   "execution_count": 7,
   "id": "d4a96215",
   "metadata": {
    "execution": {
     "iopub.execute_input": "2023-02-03T20:21:40.594731Z",
     "iopub.status.busy": "2023-02-03T20:21:40.594347Z",
     "iopub.status.idle": "2023-02-03T20:21:40.600373Z",
     "shell.execute_reply": "2023-02-03T20:21:40.599293Z"
    },
    "papermill": {
     "duration": 0.030503,
     "end_time": "2023-02-03T20:21:40.603234",
     "exception": false,
     "start_time": "2023-02-03T20:21:40.572731",
     "status": "completed"
    },
    "tags": []
   },
   "outputs": [
    {
     "name": "stdout",
     "output_type": "stream",
     "text": [
      "False\n"
     ]
    }
   ],
   "source": [
    "# Examine and replace missing values \n",
    "print(df.isnull().values.any())"
   ]
  },
  {
   "cell_type": "markdown",
   "id": "d88e4351",
   "metadata": {
    "papermill": {
     "duration": 0.020642,
     "end_time": "2023-02-03T20:21:40.644981",
     "exception": false,
     "start_time": "2023-02-03T20:21:40.624339",
     "status": "completed"
    },
    "tags": []
   },
   "source": [
    "**Note**: split the dataset into input features and labels."
   ]
  },
  {
   "cell_type": "code",
   "execution_count": 8,
   "id": "bd3fe7df",
   "metadata": {
    "execution": {
     "iopub.execute_input": "2023-02-03T20:21:40.687854Z",
     "iopub.status.busy": "2023-02-03T20:21:40.687078Z",
     "iopub.status.idle": "2023-02-03T20:21:40.692732Z",
     "shell.execute_reply": "2023-02-03T20:21:40.691901Z"
    },
    "papermill": {
     "duration": 0.029325,
     "end_time": "2023-02-03T20:21:40.694795",
     "exception": false,
     "start_time": "2023-02-03T20:21:40.665470",
     "status": "completed"
    },
    "tags": []
   },
   "outputs": [],
   "source": [
    "# convert character into numerical value for easily calculate the \n",
    "df['diagnosis'] = [1 if i == 'M' else 0 for i in df['diagnosis']]"
   ]
  },
  {
   "cell_type": "code",
   "execution_count": 9,
   "id": "21ed4aeb",
   "metadata": {
    "execution": {
     "iopub.execute_input": "2023-02-03T20:21:40.737287Z",
     "iopub.status.busy": "2023-02-03T20:21:40.736849Z",
     "iopub.status.idle": "2023-02-03T20:21:40.766650Z",
     "shell.execute_reply": "2023-02-03T20:21:40.765462Z"
    },
    "papermill": {
     "duration": 0.054746,
     "end_time": "2023-02-03T20:21:40.769672",
     "exception": false,
     "start_time": "2023-02-03T20:21:40.714926",
     "status": "completed"
    },
    "tags": []
   },
   "outputs": [
    {
     "data": {
      "text/html": [
       "<div>\n",
       "<style scoped>\n",
       "    .dataframe tbody tr th:only-of-type {\n",
       "        vertical-align: middle;\n",
       "    }\n",
       "\n",
       "    .dataframe tbody tr th {\n",
       "        vertical-align: top;\n",
       "    }\n",
       "\n",
       "    .dataframe thead th {\n",
       "        text-align: right;\n",
       "    }\n",
       "</style>\n",
       "<table border=\"1\" class=\"dataframe\">\n",
       "  <thead>\n",
       "    <tr style=\"text-align: right;\">\n",
       "      <th></th>\n",
       "      <th>diagnosis</th>\n",
       "      <th>radius_mean</th>\n",
       "      <th>texture_mean</th>\n",
       "      <th>perimeter_mean</th>\n",
       "      <th>area_mean</th>\n",
       "      <th>smoothness_mean</th>\n",
       "      <th>compactness_mean</th>\n",
       "      <th>concavity_mean</th>\n",
       "      <th>concave points_mean</th>\n",
       "      <th>symmetry_mean</th>\n",
       "      <th>...</th>\n",
       "      <th>radius_worst</th>\n",
       "      <th>texture_worst</th>\n",
       "      <th>perimeter_worst</th>\n",
       "      <th>area_worst</th>\n",
       "      <th>smoothness_worst</th>\n",
       "      <th>compactness_worst</th>\n",
       "      <th>concavity_worst</th>\n",
       "      <th>concave points_worst</th>\n",
       "      <th>symmetry_worst</th>\n",
       "      <th>fractal_dimension_worst</th>\n",
       "    </tr>\n",
       "  </thead>\n",
       "  <tbody>\n",
       "    <tr>\n",
       "      <th>0</th>\n",
       "      <td>1</td>\n",
       "      <td>17.99</td>\n",
       "      <td>10.38</td>\n",
       "      <td>122.80</td>\n",
       "      <td>1001.0</td>\n",
       "      <td>0.11840</td>\n",
       "      <td>0.27760</td>\n",
       "      <td>0.3001</td>\n",
       "      <td>0.14710</td>\n",
       "      <td>0.2419</td>\n",
       "      <td>...</td>\n",
       "      <td>25.38</td>\n",
       "      <td>17.33</td>\n",
       "      <td>184.60</td>\n",
       "      <td>2019.0</td>\n",
       "      <td>0.1622</td>\n",
       "      <td>0.6656</td>\n",
       "      <td>0.7119</td>\n",
       "      <td>0.2654</td>\n",
       "      <td>0.4601</td>\n",
       "      <td>0.11890</td>\n",
       "    </tr>\n",
       "    <tr>\n",
       "      <th>1</th>\n",
       "      <td>1</td>\n",
       "      <td>20.57</td>\n",
       "      <td>17.77</td>\n",
       "      <td>132.90</td>\n",
       "      <td>1326.0</td>\n",
       "      <td>0.08474</td>\n",
       "      <td>0.07864</td>\n",
       "      <td>0.0869</td>\n",
       "      <td>0.07017</td>\n",
       "      <td>0.1812</td>\n",
       "      <td>...</td>\n",
       "      <td>24.99</td>\n",
       "      <td>23.41</td>\n",
       "      <td>158.80</td>\n",
       "      <td>1956.0</td>\n",
       "      <td>0.1238</td>\n",
       "      <td>0.1866</td>\n",
       "      <td>0.2416</td>\n",
       "      <td>0.1860</td>\n",
       "      <td>0.2750</td>\n",
       "      <td>0.08902</td>\n",
       "    </tr>\n",
       "    <tr>\n",
       "      <th>2</th>\n",
       "      <td>1</td>\n",
       "      <td>19.69</td>\n",
       "      <td>21.25</td>\n",
       "      <td>130.00</td>\n",
       "      <td>1203.0</td>\n",
       "      <td>0.10960</td>\n",
       "      <td>0.15990</td>\n",
       "      <td>0.1974</td>\n",
       "      <td>0.12790</td>\n",
       "      <td>0.2069</td>\n",
       "      <td>...</td>\n",
       "      <td>23.57</td>\n",
       "      <td>25.53</td>\n",
       "      <td>152.50</td>\n",
       "      <td>1709.0</td>\n",
       "      <td>0.1444</td>\n",
       "      <td>0.4245</td>\n",
       "      <td>0.4504</td>\n",
       "      <td>0.2430</td>\n",
       "      <td>0.3613</td>\n",
       "      <td>0.08758</td>\n",
       "    </tr>\n",
       "    <tr>\n",
       "      <th>3</th>\n",
       "      <td>1</td>\n",
       "      <td>11.42</td>\n",
       "      <td>20.38</td>\n",
       "      <td>77.58</td>\n",
       "      <td>386.1</td>\n",
       "      <td>0.14250</td>\n",
       "      <td>0.28390</td>\n",
       "      <td>0.2414</td>\n",
       "      <td>0.10520</td>\n",
       "      <td>0.2597</td>\n",
       "      <td>...</td>\n",
       "      <td>14.91</td>\n",
       "      <td>26.50</td>\n",
       "      <td>98.87</td>\n",
       "      <td>567.7</td>\n",
       "      <td>0.2098</td>\n",
       "      <td>0.8663</td>\n",
       "      <td>0.6869</td>\n",
       "      <td>0.2575</td>\n",
       "      <td>0.6638</td>\n",
       "      <td>0.17300</td>\n",
       "    </tr>\n",
       "    <tr>\n",
       "      <th>4</th>\n",
       "      <td>1</td>\n",
       "      <td>20.29</td>\n",
       "      <td>14.34</td>\n",
       "      <td>135.10</td>\n",
       "      <td>1297.0</td>\n",
       "      <td>0.10030</td>\n",
       "      <td>0.13280</td>\n",
       "      <td>0.1980</td>\n",
       "      <td>0.10430</td>\n",
       "      <td>0.1809</td>\n",
       "      <td>...</td>\n",
       "      <td>22.54</td>\n",
       "      <td>16.67</td>\n",
       "      <td>152.20</td>\n",
       "      <td>1575.0</td>\n",
       "      <td>0.1374</td>\n",
       "      <td>0.2050</td>\n",
       "      <td>0.4000</td>\n",
       "      <td>0.1625</td>\n",
       "      <td>0.2364</td>\n",
       "      <td>0.07678</td>\n",
       "    </tr>\n",
       "  </tbody>\n",
       "</table>\n",
       "<p>5 rows × 31 columns</p>\n",
       "</div>"
      ],
      "text/plain": [
       "   diagnosis  radius_mean  texture_mean  perimeter_mean  area_mean  \\\n",
       "0          1        17.99         10.38          122.80     1001.0   \n",
       "1          1        20.57         17.77          132.90     1326.0   \n",
       "2          1        19.69         21.25          130.00     1203.0   \n",
       "3          1        11.42         20.38           77.58      386.1   \n",
       "4          1        20.29         14.34          135.10     1297.0   \n",
       "\n",
       "   smoothness_mean  compactness_mean  concavity_mean  concave points_mean  \\\n",
       "0          0.11840           0.27760          0.3001              0.14710   \n",
       "1          0.08474           0.07864          0.0869              0.07017   \n",
       "2          0.10960           0.15990          0.1974              0.12790   \n",
       "3          0.14250           0.28390          0.2414              0.10520   \n",
       "4          0.10030           0.13280          0.1980              0.10430   \n",
       "\n",
       "   symmetry_mean  ...  radius_worst  texture_worst  perimeter_worst  \\\n",
       "0         0.2419  ...         25.38          17.33           184.60   \n",
       "1         0.1812  ...         24.99          23.41           158.80   \n",
       "2         0.2069  ...         23.57          25.53           152.50   \n",
       "3         0.2597  ...         14.91          26.50            98.87   \n",
       "4         0.1809  ...         22.54          16.67           152.20   \n",
       "\n",
       "   area_worst  smoothness_worst  compactness_worst  concavity_worst  \\\n",
       "0      2019.0            0.1622             0.6656           0.7119   \n",
       "1      1956.0            0.1238             0.1866           0.2416   \n",
       "2      1709.0            0.1444             0.4245           0.4504   \n",
       "3       567.7            0.2098             0.8663           0.6869   \n",
       "4      1575.0            0.1374             0.2050           0.4000   \n",
       "\n",
       "   concave points_worst  symmetry_worst  fractal_dimension_worst  \n",
       "0                0.2654          0.4601                  0.11890  \n",
       "1                0.1860          0.2750                  0.08902  \n",
       "2                0.2430          0.3613                  0.08758  \n",
       "3                0.2575          0.6638                  0.17300  \n",
       "4                0.1625          0.2364                  0.07678  \n",
       "\n",
       "[5 rows x 31 columns]"
      ]
     },
     "execution_count": 9,
     "metadata": {},
     "output_type": "execute_result"
    }
   ],
   "source": [
    "df.head()"
   ]
  },
  {
   "cell_type": "code",
   "execution_count": 10,
   "id": "b8ecc062",
   "metadata": {
    "execution": {
     "iopub.execute_input": "2023-02-03T20:21:40.813316Z",
     "iopub.status.busy": "2023-02-03T20:21:40.812660Z",
     "iopub.status.idle": "2023-02-03T20:21:40.819106Z",
     "shell.execute_reply": "2023-02-03T20:21:40.818290Z"
    },
    "papermill": {
     "duration": 0.031189,
     "end_time": "2023-02-03T20:21:40.821726",
     "exception": false,
     "start_time": "2023-02-03T20:21:40.790537",
     "status": "completed"
    },
    "tags": []
   },
   "outputs": [],
   "source": [
    "# split the dataset into input features and target label\n",
    "X = df.drop([\"diagnosis\"], axis=1)\n",
    "y = df['diagnosis'].to_numpy().reshape(-1, 1)"
   ]
  },
  {
   "cell_type": "code",
   "execution_count": 11,
   "id": "a3eb9f7a",
   "metadata": {
    "execution": {
     "iopub.execute_input": "2023-02-03T20:21:40.866082Z",
     "iopub.status.busy": "2023-02-03T20:21:40.865434Z",
     "iopub.status.idle": "2023-02-03T20:21:40.871998Z",
     "shell.execute_reply": "2023-02-03T20:21:40.870514Z"
    },
    "papermill": {
     "duration": 0.031614,
     "end_time": "2023-02-03T20:21:40.874771",
     "exception": false,
     "start_time": "2023-02-03T20:21:40.843157",
     "status": "completed"
    },
    "tags": []
   },
   "outputs": [
    {
     "name": "stdout",
     "output_type": "stream",
     "text": [
      "(569, 30)\n",
      "(569, 1)\n"
     ]
    }
   ],
   "source": [
    "# check shapes\n",
    "print(X.shape)\n",
    "print(y.shape)"
   ]
  },
  {
   "cell_type": "code",
   "execution_count": 12,
   "id": "230735df",
   "metadata": {
    "execution": {
     "iopub.execute_input": "2023-02-03T20:21:40.919091Z",
     "iopub.status.busy": "2023-02-03T20:21:40.918690Z",
     "iopub.status.idle": "2023-02-03T20:21:40.929705Z",
     "shell.execute_reply": "2023-02-03T20:21:40.928546Z"
    },
    "papermill": {
     "duration": 0.036929,
     "end_time": "2023-02-03T20:21:40.932204",
     "exception": false,
     "start_time": "2023-02-03T20:21:40.895275",
     "status": "completed"
    },
    "tags": []
   },
   "outputs": [],
   "source": [
    "# data normalization\n",
    "X_scaler = preprocessing.MinMaxScaler(feature_range=(-1,1))\n",
    "X = X_scaler.fit_transform(X)\n",
    "\n",
    "y_scaler = preprocessing.MinMaxScaler(feature_range=(-1,1))\n",
    "y = y_scaler.fit_transform(y)"
   ]
  },
  {
   "cell_type": "code",
   "execution_count": 13,
   "id": "925a8965",
   "metadata": {
    "execution": {
     "iopub.execute_input": "2023-02-03T20:21:40.975672Z",
     "iopub.status.busy": "2023-02-03T20:21:40.975284Z",
     "iopub.status.idle": "2023-02-03T20:21:40.981501Z",
     "shell.execute_reply": "2023-02-03T20:21:40.980306Z"
    },
    "papermill": {
     "duration": 0.030851,
     "end_time": "2023-02-03T20:21:40.983876",
     "exception": false,
     "start_time": "2023-02-03T20:21:40.953025",
     "status": "completed"
    },
    "tags": []
   },
   "outputs": [],
   "source": [
    "# partition into training/test/validation \n",
    "X_train, X_test, y_train, y_test = train_test_split(X, y, test_size=0.3, random_state=0)"
   ]
  },
  {
   "cell_type": "markdown",
   "id": "5aafceaf",
   "metadata": {
    "papermill": {
     "duration": 0.02155,
     "end_time": "2023-02-03T20:21:41.026415",
     "exception": false,
     "start_time": "2023-02-03T20:21:41.004865",
     "status": "completed"
    },
    "tags": []
   },
   "source": [
    "# 2. Gaussian Naive Bayes On Original Dataset"
   ]
  },
  {
   "cell_type": "markdown",
   "id": "aa4ad73f",
   "metadata": {
    "papermill": {
     "duration": 0.020411,
     "end_time": "2023-02-03T20:21:41.068725",
     "exception": false,
     "start_time": "2023-02-03T20:21:41.048314",
     "status": "completed"
    },
    "tags": []
   },
   "source": [
    "## 2.1. Create Model"
   ]
  },
  {
   "cell_type": "code",
   "execution_count": 14,
   "id": "6bd1873a",
   "metadata": {
    "execution": {
     "iopub.execute_input": "2023-02-03T20:21:41.113003Z",
     "iopub.status.busy": "2023-02-03T20:21:41.111845Z",
     "iopub.status.idle": "2023-02-03T20:21:41.116418Z",
     "shell.execute_reply": "2023-02-03T20:21:41.115612Z"
    },
    "papermill": {
     "duration": 0.028937,
     "end_time": "2023-02-03T20:21:41.118601",
     "exception": false,
     "start_time": "2023-02-03T20:21:41.089664",
     "status": "completed"
    },
    "tags": []
   },
   "outputs": [],
   "source": [
    "# create model\n",
    "gnb1 = GaussianNB()"
   ]
  },
  {
   "cell_type": "markdown",
   "id": "4d5a6e72",
   "metadata": {
    "papermill": {
     "duration": 0.022311,
     "end_time": "2023-02-03T20:21:41.161826",
     "exception": false,
     "start_time": "2023-02-03T20:21:41.139515",
     "status": "completed"
    },
    "tags": []
   },
   "source": [
    "## 2.2. Train Model"
   ]
  },
  {
   "cell_type": "code",
   "execution_count": 15,
   "id": "2f1fe112",
   "metadata": {
    "execution": {
     "iopub.execute_input": "2023-02-03T20:21:41.207182Z",
     "iopub.status.busy": "2023-02-03T20:21:41.206160Z",
     "iopub.status.idle": "2023-02-03T20:21:41.220665Z",
     "shell.execute_reply": "2023-02-03T20:21:41.219158Z"
    },
    "papermill": {
     "duration": 0.040369,
     "end_time": "2023-02-03T20:21:41.223426",
     "exception": false,
     "start_time": "2023-02-03T20:21:41.183057",
     "status": "completed"
    },
    "tags": []
   },
   "outputs": [
    {
     "name": "stderr",
     "output_type": "stream",
     "text": [
      "/opt/conda/lib/python3.7/site-packages/sklearn/utils/validation.py:993: DataConversionWarning: A column-vector y was passed when a 1d array was expected. Please change the shape of y to (n_samples, ), for example using ravel().\n",
      "  y = column_or_1d(y, warn=True)\n"
     ]
    },
    {
     "data": {
      "text/plain": [
       "GaussianNB()"
      ]
     },
     "execution_count": 15,
     "metadata": {},
     "output_type": "execute_result"
    }
   ],
   "source": [
    "# train model on training dataset\n",
    "gnb1.fit(X_train, y_train)"
   ]
  },
  {
   "cell_type": "markdown",
   "id": "47b7dcd4",
   "metadata": {
    "papermill": {
     "duration": 0.020412,
     "end_time": "2023-02-03T20:21:41.264744",
     "exception": false,
     "start_time": "2023-02-03T20:21:41.244332",
     "status": "completed"
    },
    "tags": []
   },
   "source": [
    "## 2.3. Test Model"
   ]
  },
  {
   "cell_type": "code",
   "execution_count": 16,
   "id": "1c9798ec",
   "metadata": {
    "execution": {
     "iopub.execute_input": "2023-02-03T20:21:41.308375Z",
     "iopub.status.busy": "2023-02-03T20:21:41.307951Z",
     "iopub.status.idle": "2023-02-03T20:21:41.329414Z",
     "shell.execute_reply": "2023-02-03T20:21:41.328211Z"
    },
    "papermill": {
     "duration": 0.046572,
     "end_time": "2023-02-03T20:21:41.332106",
     "exception": false,
     "start_time": "2023-02-03T20:21:41.285534",
     "status": "completed"
    },
    "tags": []
   },
   "outputs": [
    {
     "name": "stdout",
     "output_type": "stream",
     "text": [
      "Training MSE = 0.231156\n",
      "Validating MSE = 0.350877\n",
      "F1 Score = 0.883721\n",
      "Precision Score = 0.863636\n",
      "Recall Score = 0.904762\n",
      "ROC-AUC Score = 0.910714\n",
      "\n",
      "-----------------------------\n",
      "SUBMIT\n",
      "-----------------------------\n",
      "Accuracy = 0.912281\n",
      "Confusion Matrix = \n",
      "[[99  9]\n",
      " [ 6 57]]\n",
      "True Negative: 99\n",
      "False Positive: 9\n",
      "False Negative: 6\n",
      "True Positive: 57\n"
     ]
    }
   ],
   "source": [
    "# predict on validate set\n",
    "y_test_pred = gnb1.predict(X_test)\n",
    "\n",
    "# predict on train set\n",
    "y_train_pred = gnb1.predict(X_train)\n",
    "\n",
    "accuracy = metrics.accuracy_score(y_test, y_test_pred)\n",
    "f1 = metrics.f1_score(y_test, y_test_pred)\n",
    "prec = metrics.precision_score(y_test, y_test_pred)\n",
    "recall = metrics.recall_score(y_test, y_test_pred)\n",
    "roc_auc = metrics.roc_auc_score(y_test, y_test_pred)\n",
    "cm = metrics.confusion_matrix(y_test.squeeze(), y_test_pred.squeeze())\n",
    "tn, fp, fn, tp = metrics.confusion_matrix(y_test.squeeze(), y_test_pred.squeeze()).ravel()\n",
    "\n",
    "print(\"Training MSE = %f\" % metrics.mean_squared_error(y_train, y_train_pred))\n",
    "print(\"Validating MSE = %f\" % metrics.mean_squared_error(y_test, y_test_pred))\n",
    "print('F1 Score = %f' % (f1))\n",
    "print('Precision Score = %f' % (prec))\n",
    "print('Recall Score = %f' % (recall))\n",
    "print('ROC-AUC Score = %f' % (roc_auc))\n",
    "print('\\n-----------------------------')\n",
    "print('SUBMIT')\n",
    "print('-----------------------------')\n",
    "print('Accuracy = %f' % (accuracy))\n",
    "print(f'Confusion Matrix = \\n{cm}')\n",
    "print(f'True Negative: {tn}')\n",
    "print(f'False Positive: {fp}')\n",
    "print(f'False Negative: {fn}')\n",
    "print(f'True Positive: {tp}')"
   ]
  },
  {
   "cell_type": "markdown",
   "id": "541cc3eb",
   "metadata": {
    "papermill": {
     "duration": 0.020853,
     "end_time": "2023-02-03T20:21:41.374142",
     "exception": false,
     "start_time": "2023-02-03T20:21:41.353289",
     "status": "completed"
    },
    "tags": []
   },
   "source": [
    "# 3. Gaussian Naive Bayes On Noisy Dataset"
   ]
  },
  {
   "cell_type": "markdown",
   "id": "aaf82133",
   "metadata": {
    "papermill": {
     "duration": 0.020676,
     "end_time": "2023-02-03T20:21:41.415922",
     "exception": false,
     "start_time": "2023-02-03T20:21:41.395246",
     "status": "completed"
    },
    "tags": []
   },
   "source": [
    "## 3.1. Data Processing"
   ]
  },
  {
   "cell_type": "code",
   "execution_count": 17,
   "id": "508cdfd3",
   "metadata": {
    "execution": {
     "iopub.execute_input": "2023-02-03T20:21:41.459663Z",
     "iopub.status.busy": "2023-02-03T20:21:41.459284Z",
     "iopub.status.idle": "2023-02-03T20:21:41.491281Z",
     "shell.execute_reply": "2023-02-03T20:21:41.490442Z"
    },
    "papermill": {
     "duration": 0.056397,
     "end_time": "2023-02-03T20:21:41.493412",
     "exception": false,
     "start_time": "2023-02-03T20:21:41.437015",
     "status": "completed"
    },
    "tags": []
   },
   "outputs": [
    {
     "data": {
      "text/html": [
       "<div>\n",
       "<style scoped>\n",
       "    .dataframe tbody tr th:only-of-type {\n",
       "        vertical-align: middle;\n",
       "    }\n",
       "\n",
       "    .dataframe tbody tr th {\n",
       "        vertical-align: top;\n",
       "    }\n",
       "\n",
       "    .dataframe thead th {\n",
       "        text-align: right;\n",
       "    }\n",
       "</style>\n",
       "<table border=\"1\" class=\"dataframe\">\n",
       "  <thead>\n",
       "    <tr style=\"text-align: right;\">\n",
       "      <th></th>\n",
       "      <th>id</th>\n",
       "      <th>diagnosis</th>\n",
       "      <th>radius_mean</th>\n",
       "      <th>texture_mean</th>\n",
       "      <th>perimeter_mean</th>\n",
       "      <th>area_mean</th>\n",
       "      <th>smoothness_mean</th>\n",
       "      <th>compactness_mean</th>\n",
       "      <th>concavity_mean</th>\n",
       "      <th>concave points_mean</th>\n",
       "      <th>...</th>\n",
       "      <th>texture_worst</th>\n",
       "      <th>perimeter_worst</th>\n",
       "      <th>area_worst</th>\n",
       "      <th>smoothness_worst</th>\n",
       "      <th>compactness_worst</th>\n",
       "      <th>concavity_worst</th>\n",
       "      <th>concave points_worst</th>\n",
       "      <th>symmetry_worst</th>\n",
       "      <th>fractal_dimension_worst</th>\n",
       "      <th>Unnamed: 32</th>\n",
       "    </tr>\n",
       "  </thead>\n",
       "  <tbody>\n",
       "    <tr>\n",
       "      <th>0</th>\n",
       "      <td>842302</td>\n",
       "      <td>M</td>\n",
       "      <td>17.99</td>\n",
       "      <td>10.38</td>\n",
       "      <td>122.80</td>\n",
       "      <td>1001.0</td>\n",
       "      <td>0.11840</td>\n",
       "      <td>0.27760</td>\n",
       "      <td>0.3001</td>\n",
       "      <td>0.14710</td>\n",
       "      <td>...</td>\n",
       "      <td>17.33</td>\n",
       "      <td>184.60</td>\n",
       "      <td>2019.0</td>\n",
       "      <td>0.1622</td>\n",
       "      <td>0.6656</td>\n",
       "      <td>0.7119</td>\n",
       "      <td>0.2654</td>\n",
       "      <td>0.4601</td>\n",
       "      <td>0.11890</td>\n",
       "      <td>NaN</td>\n",
       "    </tr>\n",
       "    <tr>\n",
       "      <th>1</th>\n",
       "      <td>842517</td>\n",
       "      <td>M</td>\n",
       "      <td>20.57</td>\n",
       "      <td>17.77</td>\n",
       "      <td>132.90</td>\n",
       "      <td>1326.0</td>\n",
       "      <td>0.08474</td>\n",
       "      <td>0.07864</td>\n",
       "      <td>0.0869</td>\n",
       "      <td>0.07017</td>\n",
       "      <td>...</td>\n",
       "      <td>23.41</td>\n",
       "      <td>158.80</td>\n",
       "      <td>1956.0</td>\n",
       "      <td>0.1238</td>\n",
       "      <td>0.1866</td>\n",
       "      <td>0.2416</td>\n",
       "      <td>0.1860</td>\n",
       "      <td>0.2750</td>\n",
       "      <td>0.08902</td>\n",
       "      <td>NaN</td>\n",
       "    </tr>\n",
       "    <tr>\n",
       "      <th>2</th>\n",
       "      <td>84300903</td>\n",
       "      <td>M</td>\n",
       "      <td>19.69</td>\n",
       "      <td>21.25</td>\n",
       "      <td>130.00</td>\n",
       "      <td>1203.0</td>\n",
       "      <td>0.10960</td>\n",
       "      <td>0.15990</td>\n",
       "      <td>0.1974</td>\n",
       "      <td>0.12790</td>\n",
       "      <td>...</td>\n",
       "      <td>25.53</td>\n",
       "      <td>152.50</td>\n",
       "      <td>1709.0</td>\n",
       "      <td>0.1444</td>\n",
       "      <td>0.4245</td>\n",
       "      <td>0.4504</td>\n",
       "      <td>0.2430</td>\n",
       "      <td>0.3613</td>\n",
       "      <td>0.08758</td>\n",
       "      <td>NaN</td>\n",
       "    </tr>\n",
       "    <tr>\n",
       "      <th>3</th>\n",
       "      <td>84348301</td>\n",
       "      <td>M</td>\n",
       "      <td>11.42</td>\n",
       "      <td>20.38</td>\n",
       "      <td>77.58</td>\n",
       "      <td>386.1</td>\n",
       "      <td>0.14250</td>\n",
       "      <td>0.28390</td>\n",
       "      <td>0.2414</td>\n",
       "      <td>0.10520</td>\n",
       "      <td>...</td>\n",
       "      <td>26.50</td>\n",
       "      <td>98.87</td>\n",
       "      <td>567.7</td>\n",
       "      <td>0.2098</td>\n",
       "      <td>0.8663</td>\n",
       "      <td>0.6869</td>\n",
       "      <td>0.2575</td>\n",
       "      <td>0.6638</td>\n",
       "      <td>0.17300</td>\n",
       "      <td>NaN</td>\n",
       "    </tr>\n",
       "    <tr>\n",
       "      <th>4</th>\n",
       "      <td>84358402</td>\n",
       "      <td>M</td>\n",
       "      <td>20.29</td>\n",
       "      <td>14.34</td>\n",
       "      <td>135.10</td>\n",
       "      <td>1297.0</td>\n",
       "      <td>0.10030</td>\n",
       "      <td>0.13280</td>\n",
       "      <td>0.1980</td>\n",
       "      <td>0.10430</td>\n",
       "      <td>...</td>\n",
       "      <td>16.67</td>\n",
       "      <td>152.20</td>\n",
       "      <td>1575.0</td>\n",
       "      <td>0.1374</td>\n",
       "      <td>0.2050</td>\n",
       "      <td>0.4000</td>\n",
       "      <td>0.1625</td>\n",
       "      <td>0.2364</td>\n",
       "      <td>0.07678</td>\n",
       "      <td>NaN</td>\n",
       "    </tr>\n",
       "  </tbody>\n",
       "</table>\n",
       "<p>5 rows × 33 columns</p>\n",
       "</div>"
      ],
      "text/plain": [
       "         id diagnosis  radius_mean  texture_mean  perimeter_mean  area_mean  \\\n",
       "0    842302         M        17.99         10.38          122.80     1001.0   \n",
       "1    842517         M        20.57         17.77          132.90     1326.0   \n",
       "2  84300903         M        19.69         21.25          130.00     1203.0   \n",
       "3  84348301         M        11.42         20.38           77.58      386.1   \n",
       "4  84358402         M        20.29         14.34          135.10     1297.0   \n",
       "\n",
       "   smoothness_mean  compactness_mean  concavity_mean  concave points_mean  \\\n",
       "0          0.11840           0.27760          0.3001              0.14710   \n",
       "1          0.08474           0.07864          0.0869              0.07017   \n",
       "2          0.10960           0.15990          0.1974              0.12790   \n",
       "3          0.14250           0.28390          0.2414              0.10520   \n",
       "4          0.10030           0.13280          0.1980              0.10430   \n",
       "\n",
       "   ...  texture_worst  perimeter_worst  area_worst  smoothness_worst  \\\n",
       "0  ...          17.33           184.60      2019.0            0.1622   \n",
       "1  ...          23.41           158.80      1956.0            0.1238   \n",
       "2  ...          25.53           152.50      1709.0            0.1444   \n",
       "3  ...          26.50            98.87       567.7            0.2098   \n",
       "4  ...          16.67           152.20      1575.0            0.1374   \n",
       "\n",
       "   compactness_worst  concavity_worst  concave points_worst  symmetry_worst  \\\n",
       "0             0.6656           0.7119                0.2654          0.4601   \n",
       "1             0.1866           0.2416                0.1860          0.2750   \n",
       "2             0.4245           0.4504                0.2430          0.3613   \n",
       "3             0.8663           0.6869                0.2575          0.6638   \n",
       "4             0.2050           0.4000                0.1625          0.2364   \n",
       "\n",
       "   fractal_dimension_worst  Unnamed: 32  \n",
       "0                  0.11890          NaN  \n",
       "1                  0.08902          NaN  \n",
       "2                  0.08758          NaN  \n",
       "3                  0.17300          NaN  \n",
       "4                  0.07678          NaN  \n",
       "\n",
       "[5 rows x 33 columns]"
      ]
     },
     "execution_count": 17,
     "metadata": {},
     "output_type": "execute_result"
    }
   ],
   "source": [
    "# re-import dataset\n",
    "df = pd.read_csv(\"/kaggle/input/breast-cancer-wisconsin-data/data.csv\")\n",
    "df.head()"
   ]
  },
  {
   "cell_type": "code",
   "execution_count": 18,
   "id": "1d494416",
   "metadata": {
    "execution": {
     "iopub.execute_input": "2023-02-03T20:21:41.538383Z",
     "iopub.status.busy": "2023-02-03T20:21:41.537957Z",
     "iopub.status.idle": "2023-02-03T20:21:41.545492Z",
     "shell.execute_reply": "2023-02-03T20:21:41.544217Z"
    },
    "papermill": {
     "duration": 0.032753,
     "end_time": "2023-02-03T20:21:41.548014",
     "exception": false,
     "start_time": "2023-02-03T20:21:41.515261",
     "status": "completed"
    },
    "tags": []
   },
   "outputs": [],
   "source": [
    "# drop columns\n",
    "df = df.drop(['id'], axis=1)\n",
    "df = df.drop(['Unnamed: 32'], axis=1)"
   ]
  },
  {
   "cell_type": "code",
   "execution_count": 19,
   "id": "fb70655e",
   "metadata": {
    "execution": {
     "iopub.execute_input": "2023-02-03T20:21:41.592654Z",
     "iopub.status.busy": "2023-02-03T20:21:41.592171Z",
     "iopub.status.idle": "2023-02-03T20:21:41.598319Z",
     "shell.execute_reply": "2023-02-03T20:21:41.597482Z"
    },
    "papermill": {
     "duration": 0.031279,
     "end_time": "2023-02-03T20:21:41.600832",
     "exception": false,
     "start_time": "2023-02-03T20:21:41.569553",
     "status": "completed"
    },
    "tags": []
   },
   "outputs": [],
   "source": [
    "# convert character into numerical value for easily calculate the \n",
    "df['diagnosis'] = [1 if i == 'M' else 0 for i in df['diagnosis']]"
   ]
  },
  {
   "cell_type": "code",
   "execution_count": 20,
   "id": "bfe4a797",
   "metadata": {
    "execution": {
     "iopub.execute_input": "2023-02-03T20:21:41.645645Z",
     "iopub.status.busy": "2023-02-03T20:21:41.644904Z",
     "iopub.status.idle": "2023-02-03T20:21:41.651574Z",
     "shell.execute_reply": "2023-02-03T20:21:41.650314Z"
    },
    "papermill": {
     "duration": 0.032342,
     "end_time": "2023-02-03T20:21:41.654418",
     "exception": false,
     "start_time": "2023-02-03T20:21:41.622076",
     "status": "completed"
    },
    "tags": []
   },
   "outputs": [],
   "source": [
    "# split the dataset into input features and target label\n",
    "X = df.drop([\"diagnosis\"], axis=1)\n",
    "y = df['diagnosis'].to_numpy().reshape(-1, 1)"
   ]
  },
  {
   "cell_type": "code",
   "execution_count": 21,
   "id": "87b66873",
   "metadata": {
    "execution": {
     "iopub.execute_input": "2023-02-03T20:21:41.699427Z",
     "iopub.status.busy": "2023-02-03T20:21:41.698999Z",
     "iopub.status.idle": "2023-02-03T20:21:41.704757Z",
     "shell.execute_reply": "2023-02-03T20:21:41.703516Z"
    },
    "papermill": {
     "duration": 0.031952,
     "end_time": "2023-02-03T20:21:41.707664",
     "exception": false,
     "start_time": "2023-02-03T20:21:41.675712",
     "status": "completed"
    },
    "tags": []
   },
   "outputs": [
    {
     "name": "stdout",
     "output_type": "stream",
     "text": [
      "(569, 30)\n",
      "(569, 1)\n"
     ]
    }
   ],
   "source": [
    "# check shapes\n",
    "print(X.shape)\n",
    "print(y.shape)"
   ]
  },
  {
   "cell_type": "code",
   "execution_count": 22,
   "id": "a133917c",
   "metadata": {
    "execution": {
     "iopub.execute_input": "2023-02-03T20:21:41.752091Z",
     "iopub.status.busy": "2023-02-03T20:21:41.751696Z",
     "iopub.status.idle": "2023-02-03T20:21:41.780729Z",
     "shell.execute_reply": "2023-02-03T20:21:41.779570Z"
    },
    "papermill": {
     "duration": 0.054282,
     "end_time": "2023-02-03T20:21:41.783281",
     "exception": false,
     "start_time": "2023-02-03T20:21:41.728999",
     "status": "completed"
    },
    "tags": []
   },
   "outputs": [
    {
     "data": {
      "text/html": [
       "<div>\n",
       "<style scoped>\n",
       "    .dataframe tbody tr th:only-of-type {\n",
       "        vertical-align: middle;\n",
       "    }\n",
       "\n",
       "    .dataframe tbody tr th {\n",
       "        vertical-align: top;\n",
       "    }\n",
       "\n",
       "    .dataframe thead th {\n",
       "        text-align: right;\n",
       "    }\n",
       "</style>\n",
       "<table border=\"1\" class=\"dataframe\">\n",
       "  <thead>\n",
       "    <tr style=\"text-align: right;\">\n",
       "      <th></th>\n",
       "      <th>radius_mean</th>\n",
       "      <th>texture_mean</th>\n",
       "      <th>perimeter_mean</th>\n",
       "      <th>area_mean</th>\n",
       "      <th>smoothness_mean</th>\n",
       "      <th>compactness_mean</th>\n",
       "      <th>concavity_mean</th>\n",
       "      <th>concave points_mean</th>\n",
       "      <th>symmetry_mean</th>\n",
       "      <th>fractal_dimension_mean</th>\n",
       "      <th>...</th>\n",
       "      <th>radius_worst</th>\n",
       "      <th>texture_worst</th>\n",
       "      <th>perimeter_worst</th>\n",
       "      <th>area_worst</th>\n",
       "      <th>smoothness_worst</th>\n",
       "      <th>compactness_worst</th>\n",
       "      <th>concavity_worst</th>\n",
       "      <th>concave points_worst</th>\n",
       "      <th>symmetry_worst</th>\n",
       "      <th>fractal_dimension_worst</th>\n",
       "    </tr>\n",
       "  </thead>\n",
       "  <tbody>\n",
       "    <tr>\n",
       "      <th>0</th>\n",
       "      <td>17.99</td>\n",
       "      <td>10.38</td>\n",
       "      <td>122.80</td>\n",
       "      <td>1001.0</td>\n",
       "      <td>0.11840</td>\n",
       "      <td>0.27760</td>\n",
       "      <td>0.3001</td>\n",
       "      <td>0.14710</td>\n",
       "      <td>0.2419</td>\n",
       "      <td>0.07871</td>\n",
       "      <td>...</td>\n",
       "      <td>25.38</td>\n",
       "      <td>17.33</td>\n",
       "      <td>184.60</td>\n",
       "      <td>2019.0</td>\n",
       "      <td>0.1622</td>\n",
       "      <td>0.6656</td>\n",
       "      <td>0.7119</td>\n",
       "      <td>0.2654</td>\n",
       "      <td>0.4601</td>\n",
       "      <td>0.11890</td>\n",
       "    </tr>\n",
       "    <tr>\n",
       "      <th>1</th>\n",
       "      <td>20.57</td>\n",
       "      <td>17.77</td>\n",
       "      <td>132.90</td>\n",
       "      <td>1326.0</td>\n",
       "      <td>0.08474</td>\n",
       "      <td>0.07864</td>\n",
       "      <td>0.0869</td>\n",
       "      <td>0.07017</td>\n",
       "      <td>0.1812</td>\n",
       "      <td>0.05667</td>\n",
       "      <td>...</td>\n",
       "      <td>24.99</td>\n",
       "      <td>23.41</td>\n",
       "      <td>158.80</td>\n",
       "      <td>1956.0</td>\n",
       "      <td>0.1238</td>\n",
       "      <td>0.1866</td>\n",
       "      <td>0.2416</td>\n",
       "      <td>0.1860</td>\n",
       "      <td>0.2750</td>\n",
       "      <td>0.08902</td>\n",
       "    </tr>\n",
       "    <tr>\n",
       "      <th>2</th>\n",
       "      <td>19.69</td>\n",
       "      <td>21.25</td>\n",
       "      <td>130.00</td>\n",
       "      <td>1203.0</td>\n",
       "      <td>0.10960</td>\n",
       "      <td>0.15990</td>\n",
       "      <td>0.1974</td>\n",
       "      <td>0.12790</td>\n",
       "      <td>0.2069</td>\n",
       "      <td>0.05999</td>\n",
       "      <td>...</td>\n",
       "      <td>23.57</td>\n",
       "      <td>25.53</td>\n",
       "      <td>152.50</td>\n",
       "      <td>1709.0</td>\n",
       "      <td>0.1444</td>\n",
       "      <td>0.4245</td>\n",
       "      <td>0.4504</td>\n",
       "      <td>0.2430</td>\n",
       "      <td>0.3613</td>\n",
       "      <td>0.08758</td>\n",
       "    </tr>\n",
       "    <tr>\n",
       "      <th>3</th>\n",
       "      <td>11.42</td>\n",
       "      <td>20.38</td>\n",
       "      <td>77.58</td>\n",
       "      <td>386.1</td>\n",
       "      <td>0.14250</td>\n",
       "      <td>0.28390</td>\n",
       "      <td>0.2414</td>\n",
       "      <td>0.10520</td>\n",
       "      <td>0.2597</td>\n",
       "      <td>0.09744</td>\n",
       "      <td>...</td>\n",
       "      <td>14.91</td>\n",
       "      <td>26.50</td>\n",
       "      <td>98.87</td>\n",
       "      <td>567.7</td>\n",
       "      <td>0.2098</td>\n",
       "      <td>0.8663</td>\n",
       "      <td>0.6869</td>\n",
       "      <td>0.2575</td>\n",
       "      <td>0.6638</td>\n",
       "      <td>0.17300</td>\n",
       "    </tr>\n",
       "    <tr>\n",
       "      <th>4</th>\n",
       "      <td>20.29</td>\n",
       "      <td>14.34</td>\n",
       "      <td>135.10</td>\n",
       "      <td>1297.0</td>\n",
       "      <td>0.10030</td>\n",
       "      <td>0.13280</td>\n",
       "      <td>0.1980</td>\n",
       "      <td>0.10430</td>\n",
       "      <td>0.1809</td>\n",
       "      <td>0.05883</td>\n",
       "      <td>...</td>\n",
       "      <td>22.54</td>\n",
       "      <td>16.67</td>\n",
       "      <td>152.20</td>\n",
       "      <td>1575.0</td>\n",
       "      <td>0.1374</td>\n",
       "      <td>0.2050</td>\n",
       "      <td>0.4000</td>\n",
       "      <td>0.1625</td>\n",
       "      <td>0.2364</td>\n",
       "      <td>0.07678</td>\n",
       "    </tr>\n",
       "  </tbody>\n",
       "</table>\n",
       "<p>5 rows × 30 columns</p>\n",
       "</div>"
      ],
      "text/plain": [
       "   radius_mean  texture_mean  perimeter_mean  area_mean  smoothness_mean  \\\n",
       "0        17.99         10.38          122.80     1001.0          0.11840   \n",
       "1        20.57         17.77          132.90     1326.0          0.08474   \n",
       "2        19.69         21.25          130.00     1203.0          0.10960   \n",
       "3        11.42         20.38           77.58      386.1          0.14250   \n",
       "4        20.29         14.34          135.10     1297.0          0.10030   \n",
       "\n",
       "   compactness_mean  concavity_mean  concave points_mean  symmetry_mean  \\\n",
       "0           0.27760          0.3001              0.14710         0.2419   \n",
       "1           0.07864          0.0869              0.07017         0.1812   \n",
       "2           0.15990          0.1974              0.12790         0.2069   \n",
       "3           0.28390          0.2414              0.10520         0.2597   \n",
       "4           0.13280          0.1980              0.10430         0.1809   \n",
       "\n",
       "   fractal_dimension_mean  ...  radius_worst  texture_worst  perimeter_worst  \\\n",
       "0                 0.07871  ...         25.38          17.33           184.60   \n",
       "1                 0.05667  ...         24.99          23.41           158.80   \n",
       "2                 0.05999  ...         23.57          25.53           152.50   \n",
       "3                 0.09744  ...         14.91          26.50            98.87   \n",
       "4                 0.05883  ...         22.54          16.67           152.20   \n",
       "\n",
       "   area_worst  smoothness_worst  compactness_worst  concavity_worst  \\\n",
       "0      2019.0            0.1622             0.6656           0.7119   \n",
       "1      1956.0            0.1238             0.1866           0.2416   \n",
       "2      1709.0            0.1444             0.4245           0.4504   \n",
       "3       567.7            0.2098             0.8663           0.6869   \n",
       "4      1575.0            0.1374             0.2050           0.4000   \n",
       "\n",
       "   concave points_worst  symmetry_worst  fractal_dimension_worst  \n",
       "0                0.2654          0.4601                  0.11890  \n",
       "1                0.1860          0.2750                  0.08902  \n",
       "2                0.2430          0.3613                  0.08758  \n",
       "3                0.2575          0.6638                  0.17300  \n",
       "4                0.1625          0.2364                  0.07678  \n",
       "\n",
       "[5 rows x 30 columns]"
      ]
     },
     "execution_count": 22,
     "metadata": {},
     "output_type": "execute_result"
    }
   ],
   "source": [
    "X.head()"
   ]
  },
  {
   "cell_type": "code",
   "execution_count": 23,
   "id": "5ce57b45",
   "metadata": {
    "execution": {
     "iopub.execute_input": "2023-02-03T20:21:41.828347Z",
     "iopub.status.busy": "2023-02-03T20:21:41.827841Z",
     "iopub.status.idle": "2023-02-03T20:21:41.838810Z",
     "shell.execute_reply": "2023-02-03T20:21:41.837685Z"
    },
    "papermill": {
     "duration": 0.036499,
     "end_time": "2023-02-03T20:21:41.841357",
     "exception": false,
     "start_time": "2023-02-03T20:21:41.804858",
     "status": "completed"
    },
    "tags": []
   },
   "outputs": [],
   "source": [
    "# create noisy Gaussian-distributed noisy data with same matrix size\n",
    "# Reference: https://stackoverflow.com/questions/46093073/adding-gaussian-noise-to-a-dataset-of-floating-points-and-save-it-python\n",
    "\n",
    "# zero-mean noise with variance 50\n",
    "noise_1 = np.random.normal(loc=0, scale=math.sqrt(50), size=[569, 30]) \n",
    "\n",
    "# zero-mean noise with variance 100\n",
    "noise_2 = np.random.normal(loc=0, scale=math.sqrt(100), size=[569, 30]) \n",
    "\n",
    "# zero-mean noise with variance 200\n",
    "noise_3 = np.random.normal(loc=0, scale=math.sqrt(200), size=[569, 30]) \n",
    "\n",
    "# zero-mean noise with variance 400\n",
    "noise_4 = np.random.normal(loc=0, scale=math.sqrt(400), size=[569, 30]) \n",
    "\n",
    "# zero-mean noise with variance 800\n",
    "noise_5 = np.random.normal(loc=0, scale=math.sqrt(800), size=[569, 30]) "
   ]
  },
  {
   "cell_type": "markdown",
   "id": "9ab31b54",
   "metadata": {
    "papermill": {
     "duration": 0.021751,
     "end_time": "2023-02-03T20:21:41.885186",
     "exception": false,
     "start_time": "2023-02-03T20:21:41.863435",
     "status": "completed"
    },
    "tags": []
   },
   "source": [
    "## 3.2. Case 1: Add Noise 1 To The Dataset"
   ]
  },
  {
   "cell_type": "markdown",
   "id": "7fd379f6",
   "metadata": {
    "papermill": {
     "duration": 0.021796,
     "end_time": "2023-02-03T20:21:41.929275",
     "exception": false,
     "start_time": "2023-02-03T20:21:41.907479",
     "status": "completed"
    },
    "tags": []
   },
   "source": [
    "### 3.2.1. Data Processing"
   ]
  },
  {
   "cell_type": "code",
   "execution_count": 24,
   "id": "35986965",
   "metadata": {
    "execution": {
     "iopub.execute_input": "2023-02-03T20:21:41.975257Z",
     "iopub.status.busy": "2023-02-03T20:21:41.974800Z",
     "iopub.status.idle": "2023-02-03T20:21:41.980827Z",
     "shell.execute_reply": "2023-02-03T20:21:41.979702Z"
    },
    "papermill": {
     "duration": 0.032053,
     "end_time": "2023-02-03T20:21:41.983385",
     "exception": false,
     "start_time": "2023-02-03T20:21:41.951332",
     "status": "completed"
    },
    "tags": []
   },
   "outputs": [],
   "source": [
    "# add noise to dataset\n",
    "X1 = X + noise_1"
   ]
  },
  {
   "cell_type": "code",
   "execution_count": 25,
   "id": "16293422",
   "metadata": {
    "execution": {
     "iopub.execute_input": "2023-02-03T20:21:42.029456Z",
     "iopub.status.busy": "2023-02-03T20:21:42.028731Z",
     "iopub.status.idle": "2023-02-03T20:21:42.060813Z",
     "shell.execute_reply": "2023-02-03T20:21:42.058011Z"
    },
    "papermill": {
     "duration": 0.058762,
     "end_time": "2023-02-03T20:21:42.063926",
     "exception": false,
     "start_time": "2023-02-03T20:21:42.005164",
     "status": "completed"
    },
    "tags": []
   },
   "outputs": [
    {
     "data": {
      "text/html": [
       "<div>\n",
       "<style scoped>\n",
       "    .dataframe tbody tr th:only-of-type {\n",
       "        vertical-align: middle;\n",
       "    }\n",
       "\n",
       "    .dataframe tbody tr th {\n",
       "        vertical-align: top;\n",
       "    }\n",
       "\n",
       "    .dataframe thead th {\n",
       "        text-align: right;\n",
       "    }\n",
       "</style>\n",
       "<table border=\"1\" class=\"dataframe\">\n",
       "  <thead>\n",
       "    <tr style=\"text-align: right;\">\n",
       "      <th></th>\n",
       "      <th>radius_mean</th>\n",
       "      <th>texture_mean</th>\n",
       "      <th>perimeter_mean</th>\n",
       "      <th>area_mean</th>\n",
       "      <th>smoothness_mean</th>\n",
       "      <th>compactness_mean</th>\n",
       "      <th>concavity_mean</th>\n",
       "      <th>concave points_mean</th>\n",
       "      <th>symmetry_mean</th>\n",
       "      <th>fractal_dimension_mean</th>\n",
       "      <th>...</th>\n",
       "      <th>radius_worst</th>\n",
       "      <th>texture_worst</th>\n",
       "      <th>perimeter_worst</th>\n",
       "      <th>area_worst</th>\n",
       "      <th>smoothness_worst</th>\n",
       "      <th>compactness_worst</th>\n",
       "      <th>concavity_worst</th>\n",
       "      <th>concave points_worst</th>\n",
       "      <th>symmetry_worst</th>\n",
       "      <th>fractal_dimension_worst</th>\n",
       "    </tr>\n",
       "  </thead>\n",
       "  <tbody>\n",
       "    <tr>\n",
       "      <th>0</th>\n",
       "      <td>11.293584</td>\n",
       "      <td>10.096037</td>\n",
       "      <td>132.561111</td>\n",
       "      <td>995.144215</td>\n",
       "      <td>-1.836150</td>\n",
       "      <td>-2.056588</td>\n",
       "      <td>10.022499</td>\n",
       "      <td>4.484563</td>\n",
       "      <td>4.770951</td>\n",
       "      <td>9.473964</td>\n",
       "      <td>...</td>\n",
       "      <td>35.362867</td>\n",
       "      <td>13.061877</td>\n",
       "      <td>190.749126</td>\n",
       "      <td>2020.687029</td>\n",
       "      <td>2.097618</td>\n",
       "      <td>17.250511</td>\n",
       "      <td>5.219314</td>\n",
       "      <td>-8.947701</td>\n",
       "      <td>-4.502409</td>\n",
       "      <td>5.894352</td>\n",
       "    </tr>\n",
       "    <tr>\n",
       "      <th>1</th>\n",
       "      <td>11.565622</td>\n",
       "      <td>24.608019</td>\n",
       "      <td>127.875620</td>\n",
       "      <td>1324.461697</td>\n",
       "      <td>8.015848</td>\n",
       "      <td>-2.978110</td>\n",
       "      <td>5.983057</td>\n",
       "      <td>0.282012</td>\n",
       "      <td>-7.619165</td>\n",
       "      <td>0.278156</td>\n",
       "      <td>...</td>\n",
       "      <td>17.123631</td>\n",
       "      <td>16.502078</td>\n",
       "      <td>153.367260</td>\n",
       "      <td>1967.101079</td>\n",
       "      <td>-2.966337</td>\n",
       "      <td>1.088127</td>\n",
       "      <td>5.703537</td>\n",
       "      <td>-2.993572</td>\n",
       "      <td>3.565813</td>\n",
       "      <td>-9.478696</td>\n",
       "    </tr>\n",
       "    <tr>\n",
       "      <th>2</th>\n",
       "      <td>16.686252</td>\n",
       "      <td>27.080851</td>\n",
       "      <td>121.322932</td>\n",
       "      <td>1200.647941</td>\n",
       "      <td>7.587831</td>\n",
       "      <td>-5.440449</td>\n",
       "      <td>-6.834941</td>\n",
       "      <td>3.702628</td>\n",
       "      <td>-8.037224</td>\n",
       "      <td>-14.878826</td>\n",
       "      <td>...</td>\n",
       "      <td>17.585391</td>\n",
       "      <td>22.186750</td>\n",
       "      <td>156.391580</td>\n",
       "      <td>1705.866893</td>\n",
       "      <td>4.974501</td>\n",
       "      <td>7.514040</td>\n",
       "      <td>1.461932</td>\n",
       "      <td>2.731687</td>\n",
       "      <td>-11.557846</td>\n",
       "      <td>0.534811</td>\n",
       "    </tr>\n",
       "    <tr>\n",
       "      <th>3</th>\n",
       "      <td>17.624743</td>\n",
       "      <td>22.685254</td>\n",
       "      <td>70.329707</td>\n",
       "      <td>384.080995</td>\n",
       "      <td>-1.512067</td>\n",
       "      <td>-17.606034</td>\n",
       "      <td>10.614289</td>\n",
       "      <td>3.977970</td>\n",
       "      <td>-8.285628</td>\n",
       "      <td>8.699961</td>\n",
       "      <td>...</td>\n",
       "      <td>10.614963</td>\n",
       "      <td>25.294364</td>\n",
       "      <td>108.713867</td>\n",
       "      <td>563.015555</td>\n",
       "      <td>12.709467</td>\n",
       "      <td>-6.123498</td>\n",
       "      <td>4.789287</td>\n",
       "      <td>-3.434207</td>\n",
       "      <td>-2.189754</td>\n",
       "      <td>0.382869</td>\n",
       "    </tr>\n",
       "    <tr>\n",
       "      <th>4</th>\n",
       "      <td>21.593674</td>\n",
       "      <td>7.050464</td>\n",
       "      <td>133.675659</td>\n",
       "      <td>1297.936556</td>\n",
       "      <td>0.132470</td>\n",
       "      <td>-10.252575</td>\n",
       "      <td>4.045365</td>\n",
       "      <td>10.693652</td>\n",
       "      <td>-4.588106</td>\n",
       "      <td>0.551070</td>\n",
       "      <td>...</td>\n",
       "      <td>25.140515</td>\n",
       "      <td>22.599050</td>\n",
       "      <td>167.602308</td>\n",
       "      <td>1574.340713</td>\n",
       "      <td>-3.256226</td>\n",
       "      <td>-18.564052</td>\n",
       "      <td>-6.053526</td>\n",
       "      <td>3.940933</td>\n",
       "      <td>-0.271549</td>\n",
       "      <td>-18.380601</td>\n",
       "    </tr>\n",
       "  </tbody>\n",
       "</table>\n",
       "<p>5 rows × 30 columns</p>\n",
       "</div>"
      ],
      "text/plain": [
       "   radius_mean  texture_mean  perimeter_mean    area_mean  smoothness_mean  \\\n",
       "0    11.293584     10.096037      132.561111   995.144215        -1.836150   \n",
       "1    11.565622     24.608019      127.875620  1324.461697         8.015848   \n",
       "2    16.686252     27.080851      121.322932  1200.647941         7.587831   \n",
       "3    17.624743     22.685254       70.329707   384.080995        -1.512067   \n",
       "4    21.593674      7.050464      133.675659  1297.936556         0.132470   \n",
       "\n",
       "   compactness_mean  concavity_mean  concave points_mean  symmetry_mean  \\\n",
       "0         -2.056588       10.022499             4.484563       4.770951   \n",
       "1         -2.978110        5.983057             0.282012      -7.619165   \n",
       "2         -5.440449       -6.834941             3.702628      -8.037224   \n",
       "3        -17.606034       10.614289             3.977970      -8.285628   \n",
       "4        -10.252575        4.045365            10.693652      -4.588106   \n",
       "\n",
       "   fractal_dimension_mean  ...  radius_worst  texture_worst  perimeter_worst  \\\n",
       "0                9.473964  ...     35.362867      13.061877       190.749126   \n",
       "1                0.278156  ...     17.123631      16.502078       153.367260   \n",
       "2              -14.878826  ...     17.585391      22.186750       156.391580   \n",
       "3                8.699961  ...     10.614963      25.294364       108.713867   \n",
       "4                0.551070  ...     25.140515      22.599050       167.602308   \n",
       "\n",
       "    area_worst  smoothness_worst  compactness_worst  concavity_worst  \\\n",
       "0  2020.687029          2.097618          17.250511         5.219314   \n",
       "1  1967.101079         -2.966337           1.088127         5.703537   \n",
       "2  1705.866893          4.974501           7.514040         1.461932   \n",
       "3   563.015555         12.709467          -6.123498         4.789287   \n",
       "4  1574.340713         -3.256226         -18.564052        -6.053526   \n",
       "\n",
       "   concave points_worst  symmetry_worst  fractal_dimension_worst  \n",
       "0             -8.947701       -4.502409                 5.894352  \n",
       "1             -2.993572        3.565813                -9.478696  \n",
       "2              2.731687      -11.557846                 0.534811  \n",
       "3             -3.434207       -2.189754                 0.382869  \n",
       "4              3.940933       -0.271549               -18.380601  \n",
       "\n",
       "[5 rows x 30 columns]"
      ]
     },
     "execution_count": 25,
     "metadata": {},
     "output_type": "execute_result"
    }
   ],
   "source": [
    "# view dataset\n",
    "X1.head()"
   ]
  },
  {
   "cell_type": "code",
   "execution_count": 26,
   "id": "b2241daf",
   "metadata": {
    "execution": {
     "iopub.execute_input": "2023-02-03T20:21:42.121789Z",
     "iopub.status.busy": "2023-02-03T20:21:42.120823Z",
     "iopub.status.idle": "2023-02-03T20:21:42.148515Z",
     "shell.execute_reply": "2023-02-03T20:21:42.146702Z"
    },
    "papermill": {
     "duration": 0.063508,
     "end_time": "2023-02-03T20:21:42.151781",
     "exception": false,
     "start_time": "2023-02-03T20:21:42.088273",
     "status": "completed"
    },
    "tags": []
   },
   "outputs": [
    {
     "data": {
      "text/html": [
       "<div>\n",
       "<style scoped>\n",
       "    .dataframe tbody tr th:only-of-type {\n",
       "        vertical-align: middle;\n",
       "    }\n",
       "\n",
       "    .dataframe tbody tr th {\n",
       "        vertical-align: top;\n",
       "    }\n",
       "\n",
       "    .dataframe thead th {\n",
       "        text-align: right;\n",
       "    }\n",
       "</style>\n",
       "<table border=\"1\" class=\"dataframe\">\n",
       "  <thead>\n",
       "    <tr style=\"text-align: right;\">\n",
       "      <th></th>\n",
       "      <th>radius_mean</th>\n",
       "      <th>texture_mean</th>\n",
       "      <th>perimeter_mean</th>\n",
       "      <th>area_mean</th>\n",
       "      <th>smoothness_mean</th>\n",
       "      <th>compactness_mean</th>\n",
       "      <th>concavity_mean</th>\n",
       "      <th>concave points_mean</th>\n",
       "      <th>symmetry_mean</th>\n",
       "      <th>fractal_dimension_mean</th>\n",
       "      <th>...</th>\n",
       "      <th>radius_worst</th>\n",
       "      <th>texture_worst</th>\n",
       "      <th>perimeter_worst</th>\n",
       "      <th>area_worst</th>\n",
       "      <th>smoothness_worst</th>\n",
       "      <th>compactness_worst</th>\n",
       "      <th>concavity_worst</th>\n",
       "      <th>concave points_worst</th>\n",
       "      <th>symmetry_worst</th>\n",
       "      <th>fractal_dimension_worst</th>\n",
       "    </tr>\n",
       "  </thead>\n",
       "  <tbody>\n",
       "    <tr>\n",
       "      <th>0</th>\n",
       "      <td>11.293584</td>\n",
       "      <td>10.096037</td>\n",
       "      <td>132.561111</td>\n",
       "      <td>995.144215</td>\n",
       "      <td>-1.836150</td>\n",
       "      <td>-2.056588</td>\n",
       "      <td>10.022499</td>\n",
       "      <td>4.484563</td>\n",
       "      <td>4.770951</td>\n",
       "      <td>9.473964</td>\n",
       "      <td>...</td>\n",
       "      <td>35.362867</td>\n",
       "      <td>13.061877</td>\n",
       "      <td>190.749126</td>\n",
       "      <td>2020.687029</td>\n",
       "      <td>2.097618</td>\n",
       "      <td>17.250511</td>\n",
       "      <td>5.219314</td>\n",
       "      <td>-8.947701</td>\n",
       "      <td>-4.502409</td>\n",
       "      <td>5.894352</td>\n",
       "    </tr>\n",
       "    <tr>\n",
       "      <th>1</th>\n",
       "      <td>11.565622</td>\n",
       "      <td>24.608019</td>\n",
       "      <td>127.875620</td>\n",
       "      <td>1324.461697</td>\n",
       "      <td>8.015848</td>\n",
       "      <td>-2.978110</td>\n",
       "      <td>5.983057</td>\n",
       "      <td>0.282012</td>\n",
       "      <td>-7.619165</td>\n",
       "      <td>0.278156</td>\n",
       "      <td>...</td>\n",
       "      <td>17.123631</td>\n",
       "      <td>16.502078</td>\n",
       "      <td>153.367260</td>\n",
       "      <td>1967.101079</td>\n",
       "      <td>-2.966337</td>\n",
       "      <td>1.088127</td>\n",
       "      <td>5.703537</td>\n",
       "      <td>-2.993572</td>\n",
       "      <td>3.565813</td>\n",
       "      <td>-9.478696</td>\n",
       "    </tr>\n",
       "    <tr>\n",
       "      <th>2</th>\n",
       "      <td>16.686252</td>\n",
       "      <td>27.080851</td>\n",
       "      <td>121.322932</td>\n",
       "      <td>1200.647941</td>\n",
       "      <td>7.587831</td>\n",
       "      <td>-5.440449</td>\n",
       "      <td>-6.834941</td>\n",
       "      <td>3.702628</td>\n",
       "      <td>-8.037224</td>\n",
       "      <td>-14.878826</td>\n",
       "      <td>...</td>\n",
       "      <td>17.585391</td>\n",
       "      <td>22.186750</td>\n",
       "      <td>156.391580</td>\n",
       "      <td>1705.866893</td>\n",
       "      <td>4.974501</td>\n",
       "      <td>7.514040</td>\n",
       "      <td>1.461932</td>\n",
       "      <td>2.731687</td>\n",
       "      <td>-11.557846</td>\n",
       "      <td>0.534811</td>\n",
       "    </tr>\n",
       "    <tr>\n",
       "      <th>3</th>\n",
       "      <td>17.624743</td>\n",
       "      <td>22.685254</td>\n",
       "      <td>70.329707</td>\n",
       "      <td>384.080995</td>\n",
       "      <td>-1.512067</td>\n",
       "      <td>-17.606034</td>\n",
       "      <td>10.614289</td>\n",
       "      <td>3.977970</td>\n",
       "      <td>-8.285628</td>\n",
       "      <td>8.699961</td>\n",
       "      <td>...</td>\n",
       "      <td>10.614963</td>\n",
       "      <td>25.294364</td>\n",
       "      <td>108.713867</td>\n",
       "      <td>563.015555</td>\n",
       "      <td>12.709467</td>\n",
       "      <td>-6.123498</td>\n",
       "      <td>4.789287</td>\n",
       "      <td>-3.434207</td>\n",
       "      <td>-2.189754</td>\n",
       "      <td>0.382869</td>\n",
       "    </tr>\n",
       "    <tr>\n",
       "      <th>4</th>\n",
       "      <td>21.593674</td>\n",
       "      <td>7.050464</td>\n",
       "      <td>133.675659</td>\n",
       "      <td>1297.936556</td>\n",
       "      <td>0.132470</td>\n",
       "      <td>-10.252575</td>\n",
       "      <td>4.045365</td>\n",
       "      <td>10.693652</td>\n",
       "      <td>-4.588106</td>\n",
       "      <td>0.551070</td>\n",
       "      <td>...</td>\n",
       "      <td>25.140515</td>\n",
       "      <td>22.599050</td>\n",
       "      <td>167.602308</td>\n",
       "      <td>1574.340713</td>\n",
       "      <td>-3.256226</td>\n",
       "      <td>-18.564052</td>\n",
       "      <td>-6.053526</td>\n",
       "      <td>3.940933</td>\n",
       "      <td>-0.271549</td>\n",
       "      <td>-18.380601</td>\n",
       "    </tr>\n",
       "  </tbody>\n",
       "</table>\n",
       "<p>5 rows × 30 columns</p>\n",
       "</div>"
      ],
      "text/plain": [
       "   radius_mean  texture_mean  perimeter_mean    area_mean  smoothness_mean  \\\n",
       "0    11.293584     10.096037      132.561111   995.144215        -1.836150   \n",
       "1    11.565622     24.608019      127.875620  1324.461697         8.015848   \n",
       "2    16.686252     27.080851      121.322932  1200.647941         7.587831   \n",
       "3    17.624743     22.685254       70.329707   384.080995        -1.512067   \n",
       "4    21.593674      7.050464      133.675659  1297.936556         0.132470   \n",
       "\n",
       "   compactness_mean  concavity_mean  concave points_mean  symmetry_mean  \\\n",
       "0         -2.056588       10.022499             4.484563       4.770951   \n",
       "1         -2.978110        5.983057             0.282012      -7.619165   \n",
       "2         -5.440449       -6.834941             3.702628      -8.037224   \n",
       "3        -17.606034       10.614289             3.977970      -8.285628   \n",
       "4        -10.252575        4.045365            10.693652      -4.588106   \n",
       "\n",
       "   fractal_dimension_mean  ...  radius_worst  texture_worst  perimeter_worst  \\\n",
       "0                9.473964  ...     35.362867      13.061877       190.749126   \n",
       "1                0.278156  ...     17.123631      16.502078       153.367260   \n",
       "2              -14.878826  ...     17.585391      22.186750       156.391580   \n",
       "3                8.699961  ...     10.614963      25.294364       108.713867   \n",
       "4                0.551070  ...     25.140515      22.599050       167.602308   \n",
       "\n",
       "    area_worst  smoothness_worst  compactness_worst  concavity_worst  \\\n",
       "0  2020.687029          2.097618          17.250511         5.219314   \n",
       "1  1967.101079         -2.966337           1.088127         5.703537   \n",
       "2  1705.866893          4.974501           7.514040         1.461932   \n",
       "3   563.015555         12.709467          -6.123498         4.789287   \n",
       "4  1574.340713         -3.256226         -18.564052        -6.053526   \n",
       "\n",
       "   concave points_worst  symmetry_worst  fractal_dimension_worst  \n",
       "0             -8.947701       -4.502409                 5.894352  \n",
       "1             -2.993572        3.565813                -9.478696  \n",
       "2              2.731687      -11.557846                 0.534811  \n",
       "3             -3.434207       -2.189754                 0.382869  \n",
       "4              3.940933       -0.271549               -18.380601  \n",
       "\n",
       "[5 rows x 30 columns]"
      ]
     },
     "execution_count": 26,
     "metadata": {},
     "output_type": "execute_result"
    }
   ],
   "source": [
    "# view dataset\n",
    "X1.head()"
   ]
  },
  {
   "cell_type": "code",
   "execution_count": 27,
   "id": "4851cc02",
   "metadata": {
    "execution": {
     "iopub.execute_input": "2023-02-03T20:21:42.201284Z",
     "iopub.status.busy": "2023-02-03T20:21:42.200258Z",
     "iopub.status.idle": "2023-02-03T20:21:42.387317Z",
     "shell.execute_reply": "2023-02-03T20:21:42.386046Z"
    },
    "papermill": {
     "duration": 0.213881,
     "end_time": "2023-02-03T20:21:42.390437",
     "exception": false,
     "start_time": "2023-02-03T20:21:42.176556",
     "status": "completed"
    },
    "tags": []
   },
   "outputs": [
    {
     "data": {
      "image/png": "[encoded data removed]",
      "text/plain": [
       "<Figure size 432x288 with 1 Axes>"
      ]
     },
     "metadata": {
      "needs_background": "light"
     },
     "output_type": "display_data"
    }
   ],
   "source": [
    "# plot the distribution of points\n",
    "plt.title(\"Malignant Radius & Texture Data Distribution\")\n",
    "X1['radius_mean'].plot(kind='kde')\n",
    "X1['texture_mean'].plot(kind='kde')\n",
    "plt.legend()\n",
    "plt.show()"
   ]
  },
  {
   "cell_type": "code",
   "execution_count": 28,
   "id": "08715104",
   "metadata": {
    "execution": {
     "iopub.execute_input": "2023-02-03T20:21:42.438617Z",
     "iopub.status.busy": "2023-02-03T20:21:42.437625Z",
     "iopub.status.idle": "2023-02-03T20:21:42.449840Z",
     "shell.execute_reply": "2023-02-03T20:21:42.448707Z"
    },
    "papermill": {
     "duration": 0.038836,
     "end_time": "2023-02-03T20:21:42.452485",
     "exception": false,
     "start_time": "2023-02-03T20:21:42.413649",
     "status": "completed"
    },
    "tags": []
   },
   "outputs": [],
   "source": [
    "# data normalization\n",
    "X1_scaler = preprocessing.MinMaxScaler(feature_range=(-1,1))\n",
    "X1 = X1_scaler.fit_transform(X1)\n",
    "\n",
    "y_scaler = preprocessing.MinMaxScaler(feature_range=(-1,1))\n",
    "y = y_scaler.fit_transform(y)"
   ]
  },
  {
   "cell_type": "code",
   "execution_count": 29,
   "id": "ad052ed7",
   "metadata": {
    "execution": {
     "iopub.execute_input": "2023-02-03T20:21:42.500712Z",
     "iopub.status.busy": "2023-02-03T20:21:42.499959Z",
     "iopub.status.idle": "2023-02-03T20:21:42.506055Z",
     "shell.execute_reply": "2023-02-03T20:21:42.505255Z"
    },
    "papermill": {
     "duration": 0.032856,
     "end_time": "2023-02-03T20:21:42.508450",
     "exception": false,
     "start_time": "2023-02-03T20:21:42.475594",
     "status": "completed"
    },
    "tags": []
   },
   "outputs": [],
   "source": [
    "# partition into training/test/validation \n",
    "X_train, X_test, y_train, y_test = train_test_split(X1, y, test_size=0.3, random_state=0)"
   ]
  },
  {
   "cell_type": "markdown",
   "id": "e7795d70",
   "metadata": {
    "papermill": {
     "duration": 0.022729,
     "end_time": "2023-02-03T20:21:42.553892",
     "exception": false,
     "start_time": "2023-02-03T20:21:42.531163",
     "status": "completed"
    },
    "tags": []
   },
   "source": [
    "### 3.2.2. Create Model"
   ]
  },
  {
   "cell_type": "code",
   "execution_count": 30,
   "id": "c79a7d58",
   "metadata": {
    "execution": {
     "iopub.execute_input": "2023-02-03T20:21:42.601901Z",
     "iopub.status.busy": "2023-02-03T20:21:42.600786Z",
     "iopub.status.idle": "2023-02-03T20:21:42.606103Z",
     "shell.execute_reply": "2023-02-03T20:21:42.605298Z"
    },
    "papermill": {
     "duration": 0.031711,
     "end_time": "2023-02-03T20:21:42.608418",
     "exception": false,
     "start_time": "2023-02-03T20:21:42.576707",
     "status": "completed"
    },
    "tags": []
   },
   "outputs": [],
   "source": [
    "# create model\n",
    "gnb2_1 = GaussianNB()"
   ]
  },
  {
   "cell_type": "markdown",
   "id": "f2d56fa4",
   "metadata": {
    "papermill": {
     "duration": 0.022291,
     "end_time": "2023-02-03T20:21:42.653640",
     "exception": false,
     "start_time": "2023-02-03T20:21:42.631349",
     "status": "completed"
    },
    "tags": []
   },
   "source": [
    "### 3.2.3. Train Model"
   ]
  },
  {
   "cell_type": "code",
   "execution_count": 31,
   "id": "2ce64a1f",
   "metadata": {
    "execution": {
     "iopub.execute_input": "2023-02-03T20:21:42.701114Z",
     "iopub.status.busy": "2023-02-03T20:21:42.700289Z",
     "iopub.status.idle": "2023-02-03T20:21:42.709847Z",
     "shell.execute_reply": "2023-02-03T20:21:42.708459Z"
    },
    "papermill": {
     "duration": 0.036014,
     "end_time": "2023-02-03T20:21:42.712204",
     "exception": false,
     "start_time": "2023-02-03T20:21:42.676190",
     "status": "completed"
    },
    "tags": []
   },
   "outputs": [
    {
     "name": "stderr",
     "output_type": "stream",
     "text": [
      "/opt/conda/lib/python3.7/site-packages/sklearn/utils/validation.py:993: DataConversionWarning: A column-vector y was passed when a 1d array was expected. Please change the shape of y to (n_samples, ), for example using ravel().\n",
      "  y = column_or_1d(y, warn=True)\n"
     ]
    },
    {
     "data": {
      "text/plain": [
       "GaussianNB()"
      ]
     },
     "execution_count": 31,
     "metadata": {},
     "output_type": "execute_result"
    }
   ],
   "source": [
    "# train model on training dataset\n",
    "gnb2_1.fit(X_train, y_train)"
   ]
  },
  {
   "cell_type": "markdown",
   "id": "c8c6af7a",
   "metadata": {
    "papermill": {
     "duration": 0.023241,
     "end_time": "2023-02-03T20:21:42.758908",
     "exception": false,
     "start_time": "2023-02-03T20:21:42.735667",
     "status": "completed"
    },
    "tags": []
   },
   "source": [
    "### 3.2.4. Test Model"
   ]
  },
  {
   "cell_type": "code",
   "execution_count": 32,
   "id": "d2d8fae3",
   "metadata": {
    "execution": {
     "iopub.execute_input": "2023-02-03T20:21:42.807220Z",
     "iopub.status.busy": "2023-02-03T20:21:42.806772Z",
     "iopub.status.idle": "2023-02-03T20:21:42.827808Z",
     "shell.execute_reply": "2023-02-03T20:21:42.826579Z"
    },
    "papermill": {
     "duration": 0.04847,
     "end_time": "2023-02-03T20:21:42.830362",
     "exception": false,
     "start_time": "2023-02-03T20:21:42.781892",
     "status": "completed"
    },
    "tags": []
   },
   "outputs": [
    {
     "name": "stdout",
     "output_type": "stream",
     "text": [
      "Training MSE = 0.361809\n",
      "Validating MSE = 0.304094\n",
      "F1 Score = 0.890756\n",
      "Precision Score = 0.946429\n",
      "Recall Score = 0.841270\n",
      "ROC-AUC Score = 0.906746\n",
      "\n",
      "-----------------------------\n",
      "SUBMIT\n",
      "-----------------------------\n",
      "Accuracy = 0.923977\n",
      "Confusion Matrix = \n",
      "[[105   3]\n",
      " [ 10  53]]\n",
      "True Negative: 105\n",
      "False Positive: 3\n",
      "False Negative: 10\n",
      "True Positive: 53\n"
     ]
    }
   ],
   "source": [
    "# predict on validate set\n",
    "y_test_pred = gnb2_1.predict(X_test)\n",
    "\n",
    "# predict on train set\n",
    "y_train_pred = gnb2_1.predict(X_train)\n",
    "\n",
    "accuracy = metrics.accuracy_score(y_test, y_test_pred)\n",
    "f1 = metrics.f1_score(y_test, y_test_pred)\n",
    "prec = metrics.precision_score(y_test, y_test_pred)\n",
    "recall = metrics.recall_score(y_test, y_test_pred)\n",
    "roc_auc = metrics.roc_auc_score(y_test, y_test_pred)\n",
    "cm = metrics.confusion_matrix(y_test.squeeze(), y_test_pred.squeeze())\n",
    "tn, fp, fn, tp = metrics.confusion_matrix(y_test.squeeze(), y_test_pred.squeeze()).ravel()\n",
    "\n",
    "print(\"Training MSE = %f\" % metrics.mean_squared_error(y_train, y_train_pred))\n",
    "print(\"Validating MSE = %f\" % metrics.mean_squared_error(y_test, y_test_pred))\n",
    "print('F1 Score = %f' % (f1))\n",
    "print('Precision Score = %f' % (prec))\n",
    "print('Recall Score = %f' % (recall))\n",
    "print('ROC-AUC Score = %f' % (roc_auc))\n",
    "print('\\n-----------------------------')\n",
    "print('SUBMIT')\n",
    "print('-----------------------------')\n",
    "print('Accuracy = %f' % (accuracy))\n",
    "print(f'Confusion Matrix = \\n{cm}')\n",
    "print(f'True Negative: {tn}')\n",
    "print(f'False Positive: {fp}')\n",
    "print(f'False Negative: {fn}')\n",
    "print(f'True Positive: {tp}')"
   ]
  },
  {
   "cell_type": "markdown",
   "id": "c52a5649",
   "metadata": {
    "papermill": {
     "duration": 0.023201,
     "end_time": "2023-02-03T20:21:42.876629",
     "exception": false,
     "start_time": "2023-02-03T20:21:42.853428",
     "status": "completed"
    },
    "tags": []
   },
   "source": [
    "## 3.3. Case 2: Add Noise 2 To The Dataset"
   ]
  },
  {
   "cell_type": "markdown",
   "id": "ae458dbc",
   "metadata": {
    "papermill": {
     "duration": 0.022558,
     "end_time": "2023-02-03T20:21:42.922066",
     "exception": false,
     "start_time": "2023-02-03T20:21:42.899508",
     "status": "completed"
    },
    "tags": []
   },
   "source": [
    "### 3.3.1. Data Processing"
   ]
  },
  {
   "cell_type": "code",
   "execution_count": 33,
   "id": "caa1dec6",
   "metadata": {
    "execution": {
     "iopub.execute_input": "2023-02-03T20:21:42.969782Z",
     "iopub.status.busy": "2023-02-03T20:21:42.969365Z",
     "iopub.status.idle": "2023-02-03T20:21:42.975190Z",
     "shell.execute_reply": "2023-02-03T20:21:42.974141Z"
    },
    "papermill": {
     "duration": 0.032603,
     "end_time": "2023-02-03T20:21:42.977625",
     "exception": false,
     "start_time": "2023-02-03T20:21:42.945022",
     "status": "completed"
    },
    "tags": []
   },
   "outputs": [],
   "source": [
    "# add noise to dataset\n",
    "X2 = X + noise_2"
   ]
  },
  {
   "cell_type": "code",
   "execution_count": 34,
   "id": "95db8383",
   "metadata": {
    "execution": {
     "iopub.execute_input": "2023-02-03T20:21:43.025879Z",
     "iopub.status.busy": "2023-02-03T20:21:43.025498Z",
     "iopub.status.idle": "2023-02-03T20:21:43.049934Z",
     "shell.execute_reply": "2023-02-03T20:21:43.049125Z"
    },
    "papermill": {
     "duration": 0.05143,
     "end_time": "2023-02-03T20:21:43.052250",
     "exception": false,
     "start_time": "2023-02-03T20:21:43.000820",
     "status": "completed"
    },
    "tags": []
   },
   "outputs": [
    {
     "data": {
      "text/html": [
       "<div>\n",
       "<style scoped>\n",
       "    .dataframe tbody tr th:only-of-type {\n",
       "        vertical-align: middle;\n",
       "    }\n",
       "\n",
       "    .dataframe tbody tr th {\n",
       "        vertical-align: top;\n",
       "    }\n",
       "\n",
       "    .dataframe thead th {\n",
       "        text-align: right;\n",
       "    }\n",
       "</style>\n",
       "<table border=\"1\" class=\"dataframe\">\n",
       "  <thead>\n",
       "    <tr style=\"text-align: right;\">\n",
       "      <th></th>\n",
       "      <th>radius_mean</th>\n",
       "      <th>texture_mean</th>\n",
       "      <th>perimeter_mean</th>\n",
       "      <th>area_mean</th>\n",
       "      <th>smoothness_mean</th>\n",
       "      <th>compactness_mean</th>\n",
       "      <th>concavity_mean</th>\n",
       "      <th>concave points_mean</th>\n",
       "      <th>symmetry_mean</th>\n",
       "      <th>fractal_dimension_mean</th>\n",
       "      <th>...</th>\n",
       "      <th>radius_worst</th>\n",
       "      <th>texture_worst</th>\n",
       "      <th>perimeter_worst</th>\n",
       "      <th>area_worst</th>\n",
       "      <th>smoothness_worst</th>\n",
       "      <th>compactness_worst</th>\n",
       "      <th>concavity_worst</th>\n",
       "      <th>concave points_worst</th>\n",
       "      <th>symmetry_worst</th>\n",
       "      <th>fractal_dimension_worst</th>\n",
       "    </tr>\n",
       "  </thead>\n",
       "  <tbody>\n",
       "    <tr>\n",
       "      <th>0</th>\n",
       "      <td>14.709850</td>\n",
       "      <td>5.997011</td>\n",
       "      <td>133.472316</td>\n",
       "      <td>998.893628</td>\n",
       "      <td>-10.915696</td>\n",
       "      <td>3.008967</td>\n",
       "      <td>0.643860</td>\n",
       "      <td>2.171644</td>\n",
       "      <td>2.298087</td>\n",
       "      <td>17.848529</td>\n",
       "      <td>...</td>\n",
       "      <td>28.476017</td>\n",
       "      <td>28.544697</td>\n",
       "      <td>184.679799</td>\n",
       "      <td>2019.102098</td>\n",
       "      <td>1.789053</td>\n",
       "      <td>14.051644</td>\n",
       "      <td>5.101639</td>\n",
       "      <td>-13.950437</td>\n",
       "      <td>-0.917700</td>\n",
       "      <td>-19.324599</td>\n",
       "    </tr>\n",
       "    <tr>\n",
       "      <th>1</th>\n",
       "      <td>23.255358</td>\n",
       "      <td>20.965029</td>\n",
       "      <td>140.289817</td>\n",
       "      <td>1317.421055</td>\n",
       "      <td>0.885179</td>\n",
       "      <td>15.716215</td>\n",
       "      <td>-7.902671</td>\n",
       "      <td>8.188579</td>\n",
       "      <td>0.942236</td>\n",
       "      <td>6.906758</td>\n",
       "      <td>...</td>\n",
       "      <td>14.894915</td>\n",
       "      <td>38.534199</td>\n",
       "      <td>172.241980</td>\n",
       "      <td>1959.550642</td>\n",
       "      <td>8.163608</td>\n",
       "      <td>-8.365889</td>\n",
       "      <td>-7.637540</td>\n",
       "      <td>13.182847</td>\n",
       "      <td>-14.069907</td>\n",
       "      <td>-4.768281</td>\n",
       "    </tr>\n",
       "    <tr>\n",
       "      <th>2</th>\n",
       "      <td>34.725951</td>\n",
       "      <td>23.893681</td>\n",
       "      <td>122.617805</td>\n",
       "      <td>1215.246833</td>\n",
       "      <td>2.201533</td>\n",
       "      <td>-9.248384</td>\n",
       "      <td>13.692745</td>\n",
       "      <td>-16.439038</td>\n",
       "      <td>-5.757682</td>\n",
       "      <td>-7.343156</td>\n",
       "      <td>...</td>\n",
       "      <td>29.143865</td>\n",
       "      <td>7.241848</td>\n",
       "      <td>150.907075</td>\n",
       "      <td>1706.692115</td>\n",
       "      <td>9.523560</td>\n",
       "      <td>-20.589420</td>\n",
       "      <td>10.649398</td>\n",
       "      <td>3.266314</td>\n",
       "      <td>-2.423085</td>\n",
       "      <td>-4.366970</td>\n",
       "    </tr>\n",
       "    <tr>\n",
       "      <th>3</th>\n",
       "      <td>13.777342</td>\n",
       "      <td>36.497495</td>\n",
       "      <td>70.419996</td>\n",
       "      <td>395.350418</td>\n",
       "      <td>-7.878364</td>\n",
       "      <td>1.906155</td>\n",
       "      <td>-18.566481</td>\n",
       "      <td>-11.412188</td>\n",
       "      <td>2.588399</td>\n",
       "      <td>3.089216</td>\n",
       "      <td>...</td>\n",
       "      <td>5.389278</td>\n",
       "      <td>20.531293</td>\n",
       "      <td>103.661187</td>\n",
       "      <td>573.341882</td>\n",
       "      <td>8.007609</td>\n",
       "      <td>3.167243</td>\n",
       "      <td>11.098766</td>\n",
       "      <td>9.604193</td>\n",
       "      <td>2.909710</td>\n",
       "      <td>2.133881</td>\n",
       "    </tr>\n",
       "    <tr>\n",
       "      <th>4</th>\n",
       "      <td>29.077517</td>\n",
       "      <td>24.646030</td>\n",
       "      <td>127.793732</td>\n",
       "      <td>1295.288108</td>\n",
       "      <td>11.726426</td>\n",
       "      <td>7.022491</td>\n",
       "      <td>19.553326</td>\n",
       "      <td>-0.566602</td>\n",
       "      <td>7.995613</td>\n",
       "      <td>9.140175</td>\n",
       "      <td>...</td>\n",
       "      <td>13.716389</td>\n",
       "      <td>18.510272</td>\n",
       "      <td>145.603417</td>\n",
       "      <td>1568.577019</td>\n",
       "      <td>-7.826494</td>\n",
       "      <td>1.080221</td>\n",
       "      <td>4.877497</td>\n",
       "      <td>11.464481</td>\n",
       "      <td>22.056430</td>\n",
       "      <td>1.440903</td>\n",
       "    </tr>\n",
       "  </tbody>\n",
       "</table>\n",
       "<p>5 rows × 30 columns</p>\n",
       "</div>"
      ],
      "text/plain": [
       "   radius_mean  texture_mean  perimeter_mean    area_mean  smoothness_mean  \\\n",
       "0    14.709850      5.997011      133.472316   998.893628       -10.915696   \n",
       "1    23.255358     20.965029      140.289817  1317.421055         0.885179   \n",
       "2    34.725951     23.893681      122.617805  1215.246833         2.201533   \n",
       "3    13.777342     36.497495       70.419996   395.350418        -7.878364   \n",
       "4    29.077517     24.646030      127.793732  1295.288108        11.726426   \n",
       "\n",
       "   compactness_mean  concavity_mean  concave points_mean  symmetry_mean  \\\n",
       "0          3.008967        0.643860             2.171644       2.298087   \n",
       "1         15.716215       -7.902671             8.188579       0.942236   \n",
       "2         -9.248384       13.692745           -16.439038      -5.757682   \n",
       "3          1.906155      -18.566481           -11.412188       2.588399   \n",
       "4          7.022491       19.553326            -0.566602       7.995613   \n",
       "\n",
       "   fractal_dimension_mean  ...  radius_worst  texture_worst  perimeter_worst  \\\n",
       "0               17.848529  ...     28.476017      28.544697       184.679799   \n",
       "1                6.906758  ...     14.894915      38.534199       172.241980   \n",
       "2               -7.343156  ...     29.143865       7.241848       150.907075   \n",
       "3                3.089216  ...      5.389278      20.531293       103.661187   \n",
       "4                9.140175  ...     13.716389      18.510272       145.603417   \n",
       "\n",
       "    area_worst  smoothness_worst  compactness_worst  concavity_worst  \\\n",
       "0  2019.102098          1.789053          14.051644         5.101639   \n",
       "1  1959.550642          8.163608          -8.365889        -7.637540   \n",
       "2  1706.692115          9.523560         -20.589420        10.649398   \n",
       "3   573.341882          8.007609           3.167243        11.098766   \n",
       "4  1568.577019         -7.826494           1.080221         4.877497   \n",
       "\n",
       "   concave points_worst  symmetry_worst  fractal_dimension_worst  \n",
       "0            -13.950437       -0.917700               -19.324599  \n",
       "1             13.182847      -14.069907                -4.768281  \n",
       "2              3.266314       -2.423085                -4.366970  \n",
       "3              9.604193        2.909710                 2.133881  \n",
       "4             11.464481       22.056430                 1.440903  \n",
       "\n",
       "[5 rows x 30 columns]"
      ]
     },
     "execution_count": 34,
     "metadata": {},
     "output_type": "execute_result"
    }
   ],
   "source": [
    "# view dataset\n",
    "X2.head()"
   ]
  },
  {
   "cell_type": "code",
   "execution_count": 35,
   "id": "3ae70f9b",
   "metadata": {
    "execution": {
     "iopub.execute_input": "2023-02-03T20:21:43.101650Z",
     "iopub.status.busy": "2023-02-03T20:21:43.100732Z",
     "iopub.status.idle": "2023-02-03T20:21:43.308728Z",
     "shell.execute_reply": "2023-02-03T20:21:43.307327Z"
    },
    "papermill": {
     "duration": 0.235429,
     "end_time": "2023-02-03T20:21:43.311533",
     "exception": false,
     "start_time": "2023-02-03T20:21:43.076104",
     "status": "completed"
    },
    "tags": []
   },
   "outputs": [
    {
     "data": {
      "image/png": "[encoded data removed]",
      "text/plain": [
       "<Figure size 432x288 with 1 Axes>"
      ]
     },
     "metadata": {
      "needs_background": "light"
     },
     "output_type": "display_data"
    }
   ],
   "source": [
    "# plot the distribution of points\n",
    "plt.title(\"Malignant Radius & Texture Data Distribution\")\n",
    "X2['radius_mean'].plot(kind='kde')\n",
    "X2['texture_mean'].plot(kind='kde')\n",
    "plt.legend()\n",
    "plt.show()"
   ]
  },
  {
   "cell_type": "code",
   "execution_count": 36,
   "id": "ffb86df8",
   "metadata": {
    "execution": {
     "iopub.execute_input": "2023-02-03T20:21:43.360944Z",
     "iopub.status.busy": "2023-02-03T20:21:43.360543Z",
     "iopub.status.idle": "2023-02-03T20:21:43.371403Z",
     "shell.execute_reply": "2023-02-03T20:21:43.369929Z"
    },
    "papermill": {
     "duration": 0.038437,
     "end_time": "2023-02-03T20:21:43.373769",
     "exception": false,
     "start_time": "2023-02-03T20:21:43.335332",
     "status": "completed"
    },
    "tags": []
   },
   "outputs": [],
   "source": [
    "# data normalization\n",
    "X2_scaler = preprocessing.MinMaxScaler(feature_range=(-1,1))\n",
    "X2 = X2_scaler.fit_transform(X2)\n",
    "\n",
    "y_scaler = preprocessing.MinMaxScaler(feature_range=(-1,1))\n",
    "y = y_scaler.fit_transform(y)"
   ]
  },
  {
   "cell_type": "code",
   "execution_count": 37,
   "id": "24ad5f55",
   "metadata": {
    "execution": {
     "iopub.execute_input": "2023-02-03T20:21:43.423476Z",
     "iopub.status.busy": "2023-02-03T20:21:43.423039Z",
     "iopub.status.idle": "2023-02-03T20:21:43.429248Z",
     "shell.execute_reply": "2023-02-03T20:21:43.428180Z"
    },
    "papermill": {
     "duration": 0.033716,
     "end_time": "2023-02-03T20:21:43.431732",
     "exception": false,
     "start_time": "2023-02-03T20:21:43.398016",
     "status": "completed"
    },
    "tags": []
   },
   "outputs": [],
   "source": [
    "# partition into training/test/validation \n",
    "X_train, X_test, y_train, y_test = train_test_split(X2, y, test_size=0.3, random_state=0)"
   ]
  },
  {
   "cell_type": "markdown",
   "id": "f60ade0b",
   "metadata": {
    "papermill": {
     "duration": 0.023645,
     "end_time": "2023-02-03T20:21:43.479259",
     "exception": false,
     "start_time": "2023-02-03T20:21:43.455614",
     "status": "completed"
    },
    "tags": []
   },
   "source": [
    "### 3.3.2. Create Model"
   ]
  },
  {
   "cell_type": "code",
   "execution_count": 38,
   "id": "3fb44390",
   "metadata": {
    "execution": {
     "iopub.execute_input": "2023-02-03T20:21:43.529483Z",
     "iopub.status.busy": "2023-02-03T20:21:43.528638Z",
     "iopub.status.idle": "2023-02-03T20:21:43.533860Z",
     "shell.execute_reply": "2023-02-03T20:21:43.532634Z"
    },
    "papermill": {
     "duration": 0.032943,
     "end_time": "2023-02-03T20:21:43.536238",
     "exception": false,
     "start_time": "2023-02-03T20:21:43.503295",
     "status": "completed"
    },
    "tags": []
   },
   "outputs": [],
   "source": [
    "# create model\n",
    "gnb2_2 = GaussianNB()"
   ]
  },
  {
   "cell_type": "markdown",
   "id": "3582da17",
   "metadata": {
    "papermill": {
     "duration": 0.023327,
     "end_time": "2023-02-03T20:21:43.583486",
     "exception": false,
     "start_time": "2023-02-03T20:21:43.560159",
     "status": "completed"
    },
    "tags": []
   },
   "source": [
    "### 3.3.3. Train Model"
   ]
  },
  {
   "cell_type": "code",
   "execution_count": 39,
   "id": "5f3a2ca8",
   "metadata": {
    "execution": {
     "iopub.execute_input": "2023-02-03T20:21:43.632862Z",
     "iopub.status.busy": "2023-02-03T20:21:43.632488Z",
     "iopub.status.idle": "2023-02-03T20:21:43.641107Z",
     "shell.execute_reply": "2023-02-03T20:21:43.639400Z"
    },
    "papermill": {
     "duration": 0.036165,
     "end_time": "2023-02-03T20:21:43.643313",
     "exception": false,
     "start_time": "2023-02-03T20:21:43.607148",
     "status": "completed"
    },
    "tags": []
   },
   "outputs": [
    {
     "name": "stderr",
     "output_type": "stream",
     "text": [
      "/opt/conda/lib/python3.7/site-packages/sklearn/utils/validation.py:993: DataConversionWarning: A column-vector y was passed when a 1d array was expected. Please change the shape of y to (n_samples, ), for example using ravel().\n",
      "  y = column_or_1d(y, warn=True)\n"
     ]
    },
    {
     "data": {
      "text/plain": [
       "GaussianNB()"
      ]
     },
     "execution_count": 39,
     "metadata": {},
     "output_type": "execute_result"
    }
   ],
   "source": [
    "# train model on training dataset\n",
    "gnb2_2.fit(X_train, y_train)"
   ]
  },
  {
   "cell_type": "markdown",
   "id": "fb145244",
   "metadata": {
    "papermill": {
     "duration": 0.027083,
     "end_time": "2023-02-03T20:21:43.694873",
     "exception": false,
     "start_time": "2023-02-03T20:21:43.667790",
     "status": "completed"
    },
    "tags": []
   },
   "source": [
    "### 3.3.4. Test Model"
   ]
  },
  {
   "cell_type": "code",
   "execution_count": 40,
   "id": "d0ebe660",
   "metadata": {
    "execution": {
     "iopub.execute_input": "2023-02-03T20:21:43.748268Z",
     "iopub.status.busy": "2023-02-03T20:21:43.747823Z",
     "iopub.status.idle": "2023-02-03T20:21:43.767803Z",
     "shell.execute_reply": "2023-02-03T20:21:43.766621Z"
    },
    "papermill": {
     "duration": 0.047633,
     "end_time": "2023-02-03T20:21:43.770241",
     "exception": false,
     "start_time": "2023-02-03T20:21:43.722608",
     "status": "completed"
    },
    "tags": []
   },
   "outputs": [
    {
     "name": "stdout",
     "output_type": "stream",
     "text": [
      "Training MSE = 0.351759\n",
      "Validating MSE = 0.304094\n",
      "F1 Score = 0.892562\n",
      "Precision Score = 0.931034\n",
      "Recall Score = 0.857143\n",
      "ROC-AUC Score = 0.910053\n",
      "\n",
      "-----------------------------\n",
      "SUBMIT\n",
      "-----------------------------\n",
      "Accuracy = 0.923977\n",
      "Confusion Matrix = \n",
      "[[104   4]\n",
      " [  9  54]]\n",
      "True Negative: 104\n",
      "False Positive: 4\n",
      "False Negative: 9\n",
      "True Positive: 54\n"
     ]
    }
   ],
   "source": [
    "# predict on validate set\n",
    "y_test_pred = gnb2_2.predict(X_test)\n",
    "\n",
    "# predict on train set\n",
    "y_train_pred = gnb2_2.predict(X_train)\n",
    "\n",
    "accuracy = metrics.accuracy_score(y_test, y_test_pred)\n",
    "f1 = metrics.f1_score(y_test, y_test_pred)\n",
    "prec = metrics.precision_score(y_test, y_test_pred)\n",
    "recall = metrics.recall_score(y_test, y_test_pred)\n",
    "roc_auc = metrics.roc_auc_score(y_test, y_test_pred)\n",
    "cm = metrics.confusion_matrix(y_test.squeeze(), y_test_pred.squeeze())\n",
    "tn, fp, fn, tp = metrics.confusion_matrix(y_test.squeeze(), y_test_pred.squeeze()).ravel()\n",
    "\n",
    "print(\"Training MSE = %f\" % metrics.mean_squared_error(y_train, y_train_pred))\n",
    "print(\"Validating MSE = %f\" % metrics.mean_squared_error(y_test, y_test_pred))\n",
    "print('F1 Score = %f' % (f1))\n",
    "print('Precision Score = %f' % (prec))\n",
    "print('Recall Score = %f' % (recall))\n",
    "print('ROC-AUC Score = %f' % (roc_auc))\n",
    "print('\\n-----------------------------')\n",
    "print('SUBMIT')\n",
    "print('-----------------------------')\n",
    "print('Accuracy = %f' % (accuracy))\n",
    "print(f'Confusion Matrix = \\n{cm}')\n",
    "print(f'True Negative: {tn}')\n",
    "print(f'False Positive: {fp}')\n",
    "print(f'False Negative: {fn}')\n",
    "print(f'True Positive: {tp}')"
   ]
  },
  {
   "cell_type": "markdown",
   "id": "ab9e7ae5",
   "metadata": {
    "papermill": {
     "duration": 0.023972,
     "end_time": "2023-02-03T20:21:43.818289",
     "exception": false,
     "start_time": "2023-02-03T20:21:43.794317",
     "status": "completed"
    },
    "tags": []
   },
   "source": [
    "## 3.4. Case 3: Add Noise 3 To The Dataset"
   ]
  },
  {
   "cell_type": "markdown",
   "id": "855e2be5",
   "metadata": {
    "papermill": {
     "duration": 0.023648,
     "end_time": "2023-02-03T20:21:43.866976",
     "exception": false,
     "start_time": "2023-02-03T20:21:43.843328",
     "status": "completed"
    },
    "tags": []
   },
   "source": [
    "### 3.4.1. Data Processing"
   ]
  },
  {
   "cell_type": "code",
   "execution_count": 41,
   "id": "91028068",
   "metadata": {
    "execution": {
     "iopub.execute_input": "2023-02-03T20:21:43.917860Z",
     "iopub.status.busy": "2023-02-03T20:21:43.917457Z",
     "iopub.status.idle": "2023-02-03T20:21:43.923353Z",
     "shell.execute_reply": "2023-02-03T20:21:43.922400Z"
    },
    "papermill": {
     "duration": 0.034711,
     "end_time": "2023-02-03T20:21:43.925667",
     "exception": false,
     "start_time": "2023-02-03T20:21:43.890956",
     "status": "completed"
    },
    "tags": []
   },
   "outputs": [],
   "source": [
    "# add noise to dataset\n",
    "X3 = X + noise_3"
   ]
  },
  {
   "cell_type": "code",
   "execution_count": 42,
   "id": "80607401",
   "metadata": {
    "execution": {
     "iopub.execute_input": "2023-02-03T20:21:43.976924Z",
     "iopub.status.busy": "2023-02-03T20:21:43.976088Z",
     "iopub.status.idle": "2023-02-03T20:21:44.001412Z",
     "shell.execute_reply": "2023-02-03T20:21:44.000171Z"
    },
    "papermill": {
     "duration": 0.054521,
     "end_time": "2023-02-03T20:21:44.004316",
     "exception": false,
     "start_time": "2023-02-03T20:21:43.949795",
     "status": "completed"
    },
    "tags": []
   },
   "outputs": [
    {
     "data": {
      "text/html": [
       "<div>\n",
       "<style scoped>\n",
       "    .dataframe tbody tr th:only-of-type {\n",
       "        vertical-align: middle;\n",
       "    }\n",
       "\n",
       "    .dataframe tbody tr th {\n",
       "        vertical-align: top;\n",
       "    }\n",
       "\n",
       "    .dataframe thead th {\n",
       "        text-align: right;\n",
       "    }\n",
       "</style>\n",
       "<table border=\"1\" class=\"dataframe\">\n",
       "  <thead>\n",
       "    <tr style=\"text-align: right;\">\n",
       "      <th></th>\n",
       "      <th>radius_mean</th>\n",
       "      <th>texture_mean</th>\n",
       "      <th>perimeter_mean</th>\n",
       "      <th>area_mean</th>\n",
       "      <th>smoothness_mean</th>\n",
       "      <th>compactness_mean</th>\n",
       "      <th>concavity_mean</th>\n",
       "      <th>concave points_mean</th>\n",
       "      <th>symmetry_mean</th>\n",
       "      <th>fractal_dimension_mean</th>\n",
       "      <th>...</th>\n",
       "      <th>radius_worst</th>\n",
       "      <th>texture_worst</th>\n",
       "      <th>perimeter_worst</th>\n",
       "      <th>area_worst</th>\n",
       "      <th>smoothness_worst</th>\n",
       "      <th>compactness_worst</th>\n",
       "      <th>concavity_worst</th>\n",
       "      <th>concave points_worst</th>\n",
       "      <th>symmetry_worst</th>\n",
       "      <th>fractal_dimension_worst</th>\n",
       "    </tr>\n",
       "  </thead>\n",
       "  <tbody>\n",
       "    <tr>\n",
       "      <th>0</th>\n",
       "      <td>64.928860</td>\n",
       "      <td>19.164324</td>\n",
       "      <td>122.325598</td>\n",
       "      <td>998.547324</td>\n",
       "      <td>-22.574598</td>\n",
       "      <td>5.783698</td>\n",
       "      <td>7.308290</td>\n",
       "      <td>3.404637</td>\n",
       "      <td>10.608266</td>\n",
       "      <td>-3.328945</td>\n",
       "      <td>...</td>\n",
       "      <td>41.925566</td>\n",
       "      <td>19.615359</td>\n",
       "      <td>168.553170</td>\n",
       "      <td>2030.153311</td>\n",
       "      <td>-0.164282</td>\n",
       "      <td>-35.369696</td>\n",
       "      <td>3.417064</td>\n",
       "      <td>17.724380</td>\n",
       "      <td>-16.799652</td>\n",
       "      <td>19.900817</td>\n",
       "    </tr>\n",
       "    <tr>\n",
       "      <th>1</th>\n",
       "      <td>37.695606</td>\n",
       "      <td>17.470437</td>\n",
       "      <td>156.682846</td>\n",
       "      <td>1324.395595</td>\n",
       "      <td>-11.593700</td>\n",
       "      <td>-0.361839</td>\n",
       "      <td>14.920773</td>\n",
       "      <td>13.113382</td>\n",
       "      <td>13.985914</td>\n",
       "      <td>11.413313</td>\n",
       "      <td>...</td>\n",
       "      <td>41.122597</td>\n",
       "      <td>24.245434</td>\n",
       "      <td>176.660018</td>\n",
       "      <td>1960.237800</td>\n",
       "      <td>4.313494</td>\n",
       "      <td>6.787084</td>\n",
       "      <td>19.205742</td>\n",
       "      <td>32.036920</td>\n",
       "      <td>-13.451498</td>\n",
       "      <td>21.104112</td>\n",
       "    </tr>\n",
       "    <tr>\n",
       "      <th>2</th>\n",
       "      <td>0.035901</td>\n",
       "      <td>18.061982</td>\n",
       "      <td>111.102168</td>\n",
       "      <td>1176.987970</td>\n",
       "      <td>16.188005</td>\n",
       "      <td>18.736594</td>\n",
       "      <td>0.058630</td>\n",
       "      <td>3.497833</td>\n",
       "      <td>-8.854275</td>\n",
       "      <td>2.565611</td>\n",
       "      <td>...</td>\n",
       "      <td>16.966799</td>\n",
       "      <td>21.250125</td>\n",
       "      <td>160.442774</td>\n",
       "      <td>1715.343305</td>\n",
       "      <td>-6.641242</td>\n",
       "      <td>15.465656</td>\n",
       "      <td>1.086339</td>\n",
       "      <td>-2.813305</td>\n",
       "      <td>-9.546295</td>\n",
       "      <td>-6.821985</td>\n",
       "    </tr>\n",
       "    <tr>\n",
       "      <th>3</th>\n",
       "      <td>12.512498</td>\n",
       "      <td>35.634624</td>\n",
       "      <td>81.778835</td>\n",
       "      <td>387.423182</td>\n",
       "      <td>12.144428</td>\n",
       "      <td>-0.155993</td>\n",
       "      <td>6.091394</td>\n",
       "      <td>-6.505290</td>\n",
       "      <td>2.192198</td>\n",
       "      <td>-4.266251</td>\n",
       "      <td>...</td>\n",
       "      <td>1.630602</td>\n",
       "      <td>1.703242</td>\n",
       "      <td>94.360174</td>\n",
       "      <td>560.195208</td>\n",
       "      <td>12.295618</td>\n",
       "      <td>22.997915</td>\n",
       "      <td>-2.346819</td>\n",
       "      <td>-12.768138</td>\n",
       "      <td>-25.604327</td>\n",
       "      <td>22.379419</td>\n",
       "    </tr>\n",
       "    <tr>\n",
       "      <th>4</th>\n",
       "      <td>43.164257</td>\n",
       "      <td>25.635857</td>\n",
       "      <td>132.676592</td>\n",
       "      <td>1292.629549</td>\n",
       "      <td>-9.565892</td>\n",
       "      <td>-35.615431</td>\n",
       "      <td>-1.460817</td>\n",
       "      <td>16.856147</td>\n",
       "      <td>-3.728491</td>\n",
       "      <td>-23.640416</td>\n",
       "      <td>...</td>\n",
       "      <td>14.086758</td>\n",
       "      <td>25.333511</td>\n",
       "      <td>144.537202</td>\n",
       "      <td>1603.697885</td>\n",
       "      <td>-1.502455</td>\n",
       "      <td>-3.552035</td>\n",
       "      <td>3.840769</td>\n",
       "      <td>-8.992061</td>\n",
       "      <td>-15.687381</td>\n",
       "      <td>9.671469</td>\n",
       "    </tr>\n",
       "  </tbody>\n",
       "</table>\n",
       "<p>5 rows × 30 columns</p>\n",
       "</div>"
      ],
      "text/plain": [
       "   radius_mean  texture_mean  perimeter_mean    area_mean  smoothness_mean  \\\n",
       "0    64.928860     19.164324      122.325598   998.547324       -22.574598   \n",
       "1    37.695606     17.470437      156.682846  1324.395595       -11.593700   \n",
       "2     0.035901     18.061982      111.102168  1176.987970        16.188005   \n",
       "3    12.512498     35.634624       81.778835   387.423182        12.144428   \n",
       "4    43.164257     25.635857      132.676592  1292.629549        -9.565892   \n",
       "\n",
       "   compactness_mean  concavity_mean  concave points_mean  symmetry_mean  \\\n",
       "0          5.783698        7.308290             3.404637      10.608266   \n",
       "1         -0.361839       14.920773            13.113382      13.985914   \n",
       "2         18.736594        0.058630             3.497833      -8.854275   \n",
       "3         -0.155993        6.091394            -6.505290       2.192198   \n",
       "4        -35.615431       -1.460817            16.856147      -3.728491   \n",
       "\n",
       "   fractal_dimension_mean  ...  radius_worst  texture_worst  perimeter_worst  \\\n",
       "0               -3.328945  ...     41.925566      19.615359       168.553170   \n",
       "1               11.413313  ...     41.122597      24.245434       176.660018   \n",
       "2                2.565611  ...     16.966799      21.250125       160.442774   \n",
       "3               -4.266251  ...      1.630602       1.703242        94.360174   \n",
       "4              -23.640416  ...     14.086758      25.333511       144.537202   \n",
       "\n",
       "    area_worst  smoothness_worst  compactness_worst  concavity_worst  \\\n",
       "0  2030.153311         -0.164282         -35.369696         3.417064   \n",
       "1  1960.237800          4.313494           6.787084        19.205742   \n",
       "2  1715.343305         -6.641242          15.465656         1.086339   \n",
       "3   560.195208         12.295618          22.997915        -2.346819   \n",
       "4  1603.697885         -1.502455          -3.552035         3.840769   \n",
       "\n",
       "   concave points_worst  symmetry_worst  fractal_dimension_worst  \n",
       "0             17.724380      -16.799652                19.900817  \n",
       "1             32.036920      -13.451498                21.104112  \n",
       "2             -2.813305       -9.546295                -6.821985  \n",
       "3            -12.768138      -25.604327                22.379419  \n",
       "4             -8.992061      -15.687381                 9.671469  \n",
       "\n",
       "[5 rows x 30 columns]"
      ]
     },
     "execution_count": 42,
     "metadata": {},
     "output_type": "execute_result"
    }
   ],
   "source": [
    "# view dataset\n",
    "X3.head()"
   ]
  },
  {
   "cell_type": "code",
   "execution_count": 43,
   "id": "09e1a441",
   "metadata": {
    "execution": {
     "iopub.execute_input": "2023-02-03T20:21:44.057224Z",
     "iopub.status.busy": "2023-02-03T20:21:44.056439Z",
     "iopub.status.idle": "2023-02-03T20:21:44.248114Z",
     "shell.execute_reply": "2023-02-03T20:21:44.247226Z"
    },
    "papermill": {
     "duration": 0.22022,
     "end_time": "2023-02-03T20:21:44.250561",
     "exception": false,
     "start_time": "2023-02-03T20:21:44.030341",
     "status": "completed"
    },
    "tags": []
   },
   "outputs": [
    {
     "data": {
      "image/png": "[encoded data removed]",
      "text/plain": [
       "<Figure size 432x288 with 1 Axes>"
      ]
     },
     "metadata": {
      "needs_background": "light"
     },
     "output_type": "display_data"
    }
   ],
   "source": [
    "# plot the distribution of points\n",
    "plt.title(\"Malignant Radius & Texture Data Distribution\")\n",
    "X3['radius_mean'].plot(kind='kde')\n",
    "X3['texture_mean'].plot(kind='kde')\n",
    "plt.legend()\n",
    "plt.show()"
   ]
  },
  {
   "cell_type": "code",
   "execution_count": 44,
   "id": "c75d5904",
   "metadata": {
    "execution": {
     "iopub.execute_input": "2023-02-03T20:21:44.302705Z",
     "iopub.status.busy": "2023-02-03T20:21:44.302010Z",
     "iopub.status.idle": "2023-02-03T20:21:44.312152Z",
     "shell.execute_reply": "2023-02-03T20:21:44.311304Z"
    },
    "papermill": {
     "duration": 0.039017,
     "end_time": "2023-02-03T20:21:44.314559",
     "exception": false,
     "start_time": "2023-02-03T20:21:44.275542",
     "status": "completed"
    },
    "tags": []
   },
   "outputs": [],
   "source": [
    "# data normalization\n",
    "X3_scaler = preprocessing.MinMaxScaler(feature_range=(-1,1))\n",
    "X3 = X3_scaler.fit_transform(X3)\n",
    "\n",
    "y_scaler = preprocessing.MinMaxScaler(feature_range=(-1,1))\n",
    "y = y_scaler.fit_transform(y)"
   ]
  },
  {
   "cell_type": "code",
   "execution_count": 45,
   "id": "55ca10f1",
   "metadata": {
    "execution": {
     "iopub.execute_input": "2023-02-03T20:21:44.366743Z",
     "iopub.status.busy": "2023-02-03T20:21:44.366047Z",
     "iopub.status.idle": "2023-02-03T20:21:44.371953Z",
     "shell.execute_reply": "2023-02-03T20:21:44.371186Z"
    },
    "papermill": {
     "duration": 0.034736,
     "end_time": "2023-02-03T20:21:44.374366",
     "exception": false,
     "start_time": "2023-02-03T20:21:44.339630",
     "status": "completed"
    },
    "tags": []
   },
   "outputs": [],
   "source": [
    "# partition into training/test/validation \n",
    "X_train, X_test, y_train, y_test = train_test_split(X3, y, test_size=0.3, random_state=0)"
   ]
  },
  {
   "cell_type": "markdown",
   "id": "88cd9b3f",
   "metadata": {
    "papermill": {
     "duration": 0.02489,
     "end_time": "2023-02-03T20:21:44.424115",
     "exception": false,
     "start_time": "2023-02-03T20:21:44.399225",
     "status": "completed"
    },
    "tags": []
   },
   "source": [
    "### 3.4.2. Create Model"
   ]
  },
  {
   "cell_type": "code",
   "execution_count": 46,
   "id": "dd99058b",
   "metadata": {
    "execution": {
     "iopub.execute_input": "2023-02-03T20:21:44.476476Z",
     "iopub.status.busy": "2023-02-03T20:21:44.476041Z",
     "iopub.status.idle": "2023-02-03T20:21:44.480657Z",
     "shell.execute_reply": "2023-02-03T20:21:44.479386Z"
    },
    "papermill": {
     "duration": 0.034028,
     "end_time": "2023-02-03T20:21:44.483111",
     "exception": false,
     "start_time": "2023-02-03T20:21:44.449083",
     "status": "completed"
    },
    "tags": []
   },
   "outputs": [],
   "source": [
    "# create model\n",
    "gnb2_3 = GaussianNB()"
   ]
  },
  {
   "cell_type": "markdown",
   "id": "1dd55461",
   "metadata": {
    "papermill": {
     "duration": 0.024805,
     "end_time": "2023-02-03T20:21:44.533592",
     "exception": false,
     "start_time": "2023-02-03T20:21:44.508787",
     "status": "completed"
    },
    "tags": []
   },
   "source": [
    "### 3.4.3. Train Model"
   ]
  },
  {
   "cell_type": "code",
   "execution_count": 47,
   "id": "11c671ee",
   "metadata": {
    "execution": {
     "iopub.execute_input": "2023-02-03T20:21:44.586164Z",
     "iopub.status.busy": "2023-02-03T20:21:44.585335Z",
     "iopub.status.idle": "2023-02-03T20:21:44.595877Z",
     "shell.execute_reply": "2023-02-03T20:21:44.594785Z"
    },
    "papermill": {
     "duration": 0.040162,
     "end_time": "2023-02-03T20:21:44.598719",
     "exception": false,
     "start_time": "2023-02-03T20:21:44.558557",
     "status": "completed"
    },
    "tags": []
   },
   "outputs": [
    {
     "name": "stderr",
     "output_type": "stream",
     "text": [
      "/opt/conda/lib/python3.7/site-packages/sklearn/utils/validation.py:993: DataConversionWarning: A column-vector y was passed when a 1d array was expected. Please change the shape of y to (n_samples, ), for example using ravel().\n",
      "  y = column_or_1d(y, warn=True)\n"
     ]
    },
    {
     "data": {
      "text/plain": [
       "GaussianNB()"
      ]
     },
     "execution_count": 47,
     "metadata": {},
     "output_type": "execute_result"
    }
   ],
   "source": [
    "# train model on training dataset\n",
    "gnb2_3.fit(X_train, y_train)"
   ]
  },
  {
   "cell_type": "markdown",
   "id": "6369a391",
   "metadata": {
    "papermill": {
     "duration": 0.025135,
     "end_time": "2023-02-03T20:21:44.650099",
     "exception": false,
     "start_time": "2023-02-03T20:21:44.624964",
     "status": "completed"
    },
    "tags": []
   },
   "source": [
    "### 3.4.4. Test Model"
   ]
  },
  {
   "cell_type": "code",
   "execution_count": 48,
   "id": "53363817",
   "metadata": {
    "execution": {
     "iopub.execute_input": "2023-02-03T20:21:44.703274Z",
     "iopub.status.busy": "2023-02-03T20:21:44.702318Z",
     "iopub.status.idle": "2023-02-03T20:21:44.724431Z",
     "shell.execute_reply": "2023-02-03T20:21:44.723172Z"
    },
    "papermill": {
     "duration": 0.051576,
     "end_time": "2023-02-03T20:21:44.727406",
     "exception": false,
     "start_time": "2023-02-03T20:21:44.675830",
     "status": "completed"
    },
    "tags": []
   },
   "outputs": [
    {
     "name": "stdout",
     "output_type": "stream",
     "text": [
      "Training MSE = 0.371859\n",
      "Validating MSE = 0.374269\n",
      "F1 Score = 0.864407\n",
      "Precision Score = 0.927273\n",
      "Recall Score = 0.809524\n",
      "ROC-AUC Score = 0.886243\n",
      "\n",
      "-----------------------------\n",
      "SUBMIT\n",
      "-----------------------------\n",
      "Accuracy = 0.906433\n",
      "Confusion Matrix = \n",
      "[[104   4]\n",
      " [ 12  51]]\n",
      "True Negative: 104\n",
      "False Positive: 4\n",
      "False Negative: 12\n",
      "True Positive: 51\n"
     ]
    }
   ],
   "source": [
    "# predict on validate set\n",
    "y_test_pred = gnb2_3.predict(X_test)\n",
    "\n",
    "# predict on train set\n",
    "y_train_pred = gnb2_3.predict(X_train)\n",
    "\n",
    "accuracy = metrics.accuracy_score(y_test, y_test_pred)\n",
    "f1 = metrics.f1_score(y_test, y_test_pred)\n",
    "prec = metrics.precision_score(y_test, y_test_pred)\n",
    "recall = metrics.recall_score(y_test, y_test_pred)\n",
    "roc_auc = metrics.roc_auc_score(y_test, y_test_pred)\n",
    "cm = metrics.confusion_matrix(y_test.squeeze(), y_test_pred.squeeze())\n",
    "tn, fp, fn, tp = metrics.confusion_matrix(y_test.squeeze(), y_test_pred.squeeze()).ravel()\n",
    "\n",
    "print(\"Training MSE = %f\" % metrics.mean_squared_error(y_train, y_train_pred))\n",
    "print(\"Validating MSE = %f\" % metrics.mean_squared_error(y_test, y_test_pred))\n",
    "print('F1 Score = %f' % (f1))\n",
    "print('Precision Score = %f' % (prec))\n",
    "print('Recall Score = %f' % (recall))\n",
    "print('ROC-AUC Score = %f' % (roc_auc))\n",
    "print('\\n-----------------------------')\n",
    "print('SUBMIT')\n",
    "print('-----------------------------')\n",
    "print('Accuracy = %f' % (accuracy))\n",
    "print(f'Confusion Matrix = \\n{cm}')\n",
    "print(f'True Negative: {tn}')\n",
    "print(f'False Positive: {fp}')\n",
    "print(f'False Negative: {fn}')\n",
    "print(f'True Positive: {tp}')"
   ]
  },
  {
   "cell_type": "markdown",
   "id": "f2010d1f",
   "metadata": {
    "papermill": {
     "duration": 0.025098,
     "end_time": "2023-02-03T20:21:44.779364",
     "exception": false,
     "start_time": "2023-02-03T20:21:44.754266",
     "status": "completed"
    },
    "tags": []
   },
   "source": [
    "## 3.5. Case 4: Add Noise 4 To The Dataset"
   ]
  },
  {
   "cell_type": "markdown",
   "id": "1206b628",
   "metadata": {
    "papermill": {
     "duration": 0.025338,
     "end_time": "2023-02-03T20:21:44.829971",
     "exception": false,
     "start_time": "2023-02-03T20:21:44.804633",
     "status": "completed"
    },
    "tags": []
   },
   "source": [
    "### 3.5.1. Data Processing"
   ]
  },
  {
   "cell_type": "code",
   "execution_count": 49,
   "id": "16d0d902",
   "metadata": {
    "execution": {
     "iopub.execute_input": "2023-02-03T20:21:44.884422Z",
     "iopub.status.busy": "2023-02-03T20:21:44.883217Z",
     "iopub.status.idle": "2023-02-03T20:21:44.889361Z",
     "shell.execute_reply": "2023-02-03T20:21:44.888489Z"
    },
    "papermill": {
     "duration": 0.036256,
     "end_time": "2023-02-03T20:21:44.891668",
     "exception": false,
     "start_time": "2023-02-03T20:21:44.855412",
     "status": "completed"
    },
    "tags": []
   },
   "outputs": [],
   "source": [
    "# add noise to dataset\n",
    "X4 = X + noise_4"
   ]
  },
  {
   "cell_type": "code",
   "execution_count": 50,
   "id": "de6895dc",
   "metadata": {
    "execution": {
     "iopub.execute_input": "2023-02-03T20:21:44.946284Z",
     "iopub.status.busy": "2023-02-03T20:21:44.945608Z",
     "iopub.status.idle": "2023-02-03T20:21:44.971499Z",
     "shell.execute_reply": "2023-02-03T20:21:44.970226Z"
    },
    "papermill": {
     "duration": 0.056237,
     "end_time": "2023-02-03T20:21:44.973913",
     "exception": false,
     "start_time": "2023-02-03T20:21:44.917676",
     "status": "completed"
    },
    "tags": []
   },
   "outputs": [
    {
     "data": {
      "text/html": [
       "<div>\n",
       "<style scoped>\n",
       "    .dataframe tbody tr th:only-of-type {\n",
       "        vertical-align: middle;\n",
       "    }\n",
       "\n",
       "    .dataframe tbody tr th {\n",
       "        vertical-align: top;\n",
       "    }\n",
       "\n",
       "    .dataframe thead th {\n",
       "        text-align: right;\n",
       "    }\n",
       "</style>\n",
       "<table border=\"1\" class=\"dataframe\">\n",
       "  <thead>\n",
       "    <tr style=\"text-align: right;\">\n",
       "      <th></th>\n",
       "      <th>radius_mean</th>\n",
       "      <th>texture_mean</th>\n",
       "      <th>perimeter_mean</th>\n",
       "      <th>area_mean</th>\n",
       "      <th>smoothness_mean</th>\n",
       "      <th>compactness_mean</th>\n",
       "      <th>concavity_mean</th>\n",
       "      <th>concave points_mean</th>\n",
       "      <th>symmetry_mean</th>\n",
       "      <th>fractal_dimension_mean</th>\n",
       "      <th>...</th>\n",
       "      <th>radius_worst</th>\n",
       "      <th>texture_worst</th>\n",
       "      <th>perimeter_worst</th>\n",
       "      <th>area_worst</th>\n",
       "      <th>smoothness_worst</th>\n",
       "      <th>compactness_worst</th>\n",
       "      <th>concavity_worst</th>\n",
       "      <th>concave points_worst</th>\n",
       "      <th>symmetry_worst</th>\n",
       "      <th>fractal_dimension_worst</th>\n",
       "    </tr>\n",
       "  </thead>\n",
       "  <tbody>\n",
       "    <tr>\n",
       "      <th>0</th>\n",
       "      <td>37.571455</td>\n",
       "      <td>38.577579</td>\n",
       "      <td>164.277180</td>\n",
       "      <td>989.221326</td>\n",
       "      <td>17.431119</td>\n",
       "      <td>-15.751521</td>\n",
       "      <td>-34.291123</td>\n",
       "      <td>-18.089915</td>\n",
       "      <td>-31.704176</td>\n",
       "      <td>21.332072</td>\n",
       "      <td>...</td>\n",
       "      <td>85.451262</td>\n",
       "      <td>30.474413</td>\n",
       "      <td>166.502776</td>\n",
       "      <td>2031.041776</td>\n",
       "      <td>-12.600709</td>\n",
       "      <td>3.833064</td>\n",
       "      <td>28.460244</td>\n",
       "      <td>8.937093</td>\n",
       "      <td>21.719693</td>\n",
       "      <td>-26.550462</td>\n",
       "    </tr>\n",
       "    <tr>\n",
       "      <th>1</th>\n",
       "      <td>49.091713</td>\n",
       "      <td>9.595379</td>\n",
       "      <td>160.156230</td>\n",
       "      <td>1288.190055</td>\n",
       "      <td>-18.248159</td>\n",
       "      <td>22.196717</td>\n",
       "      <td>35.326599</td>\n",
       "      <td>7.892177</td>\n",
       "      <td>-4.232071</td>\n",
       "      <td>13.425869</td>\n",
       "      <td>...</td>\n",
       "      <td>3.806801</td>\n",
       "      <td>27.310440</td>\n",
       "      <td>155.124422</td>\n",
       "      <td>1957.526335</td>\n",
       "      <td>3.296933</td>\n",
       "      <td>5.796760</td>\n",
       "      <td>-2.586408</td>\n",
       "      <td>9.518137</td>\n",
       "      <td>0.972923</td>\n",
       "      <td>-23.163470</td>\n",
       "    </tr>\n",
       "    <tr>\n",
       "      <th>2</th>\n",
       "      <td>28.508424</td>\n",
       "      <td>28.208021</td>\n",
       "      <td>126.638753</td>\n",
       "      <td>1191.658763</td>\n",
       "      <td>-11.561833</td>\n",
       "      <td>-6.615825</td>\n",
       "      <td>10.035356</td>\n",
       "      <td>-36.149343</td>\n",
       "      <td>22.499226</td>\n",
       "      <td>-4.223923</td>\n",
       "      <td>...</td>\n",
       "      <td>-5.951436</td>\n",
       "      <td>33.089038</td>\n",
       "      <td>148.829518</td>\n",
       "      <td>1699.716740</td>\n",
       "      <td>-4.134517</td>\n",
       "      <td>2.827207</td>\n",
       "      <td>-1.603791</td>\n",
       "      <td>-9.162923</td>\n",
       "      <td>-1.992051</td>\n",
       "      <td>-32.306740</td>\n",
       "    </tr>\n",
       "    <tr>\n",
       "      <th>3</th>\n",
       "      <td>40.957546</td>\n",
       "      <td>67.390964</td>\n",
       "      <td>38.497062</td>\n",
       "      <td>376.478802</td>\n",
       "      <td>-12.312895</td>\n",
       "      <td>-46.227098</td>\n",
       "      <td>-21.941960</td>\n",
       "      <td>27.506215</td>\n",
       "      <td>15.182358</td>\n",
       "      <td>10.034768</td>\n",
       "      <td>...</td>\n",
       "      <td>36.570764</td>\n",
       "      <td>30.596388</td>\n",
       "      <td>116.714155</td>\n",
       "      <td>558.033384</td>\n",
       "      <td>33.624009</td>\n",
       "      <td>-7.450231</td>\n",
       "      <td>-33.081004</td>\n",
       "      <td>-16.753121</td>\n",
       "      <td>2.645293</td>\n",
       "      <td>16.604160</td>\n",
       "    </tr>\n",
       "    <tr>\n",
       "      <th>4</th>\n",
       "      <td>7.392858</td>\n",
       "      <td>42.849888</td>\n",
       "      <td>156.680540</td>\n",
       "      <td>1294.406043</td>\n",
       "      <td>-4.261368</td>\n",
       "      <td>66.027046</td>\n",
       "      <td>7.332529</td>\n",
       "      <td>-7.480870</td>\n",
       "      <td>5.177173</td>\n",
       "      <td>7.453888</td>\n",
       "      <td>...</td>\n",
       "      <td>-8.133291</td>\n",
       "      <td>25.581871</td>\n",
       "      <td>178.976825</td>\n",
       "      <td>1555.684842</td>\n",
       "      <td>-24.326763</td>\n",
       "      <td>38.825109</td>\n",
       "      <td>-0.989499</td>\n",
       "      <td>20.262380</td>\n",
       "      <td>32.934735</td>\n",
       "      <td>-0.502025</td>\n",
       "    </tr>\n",
       "  </tbody>\n",
       "</table>\n",
       "<p>5 rows × 30 columns</p>\n",
       "</div>"
      ],
      "text/plain": [
       "   radius_mean  texture_mean  perimeter_mean    area_mean  smoothness_mean  \\\n",
       "0    37.571455     38.577579      164.277180   989.221326        17.431119   \n",
       "1    49.091713      9.595379      160.156230  1288.190055       -18.248159   \n",
       "2    28.508424     28.208021      126.638753  1191.658763       -11.561833   \n",
       "3    40.957546     67.390964       38.497062   376.478802       -12.312895   \n",
       "4     7.392858     42.849888      156.680540  1294.406043        -4.261368   \n",
       "\n",
       "   compactness_mean  concavity_mean  concave points_mean  symmetry_mean  \\\n",
       "0        -15.751521      -34.291123           -18.089915     -31.704176   \n",
       "1         22.196717       35.326599             7.892177      -4.232071   \n",
       "2         -6.615825       10.035356           -36.149343      22.499226   \n",
       "3        -46.227098      -21.941960            27.506215      15.182358   \n",
       "4         66.027046        7.332529            -7.480870       5.177173   \n",
       "\n",
       "   fractal_dimension_mean  ...  radius_worst  texture_worst  perimeter_worst  \\\n",
       "0               21.332072  ...     85.451262      30.474413       166.502776   \n",
       "1               13.425869  ...      3.806801      27.310440       155.124422   \n",
       "2               -4.223923  ...     -5.951436      33.089038       148.829518   \n",
       "3               10.034768  ...     36.570764      30.596388       116.714155   \n",
       "4                7.453888  ...     -8.133291      25.581871       178.976825   \n",
       "\n",
       "    area_worst  smoothness_worst  compactness_worst  concavity_worst  \\\n",
       "0  2031.041776        -12.600709           3.833064        28.460244   \n",
       "1  1957.526335          3.296933           5.796760        -2.586408   \n",
       "2  1699.716740         -4.134517           2.827207        -1.603791   \n",
       "3   558.033384         33.624009          -7.450231       -33.081004   \n",
       "4  1555.684842        -24.326763          38.825109        -0.989499   \n",
       "\n",
       "   concave points_worst  symmetry_worst  fractal_dimension_worst  \n",
       "0              8.937093       21.719693               -26.550462  \n",
       "1              9.518137        0.972923               -23.163470  \n",
       "2             -9.162923       -1.992051               -32.306740  \n",
       "3            -16.753121        2.645293                16.604160  \n",
       "4             20.262380       32.934735                -0.502025  \n",
       "\n",
       "[5 rows x 30 columns]"
      ]
     },
     "execution_count": 50,
     "metadata": {},
     "output_type": "execute_result"
    }
   ],
   "source": [
    "# view dataset\n",
    "X4.head()"
   ]
  },
  {
   "cell_type": "code",
   "execution_count": 51,
   "id": "5b91342a",
   "metadata": {
    "execution": {
     "iopub.execute_input": "2023-02-03T20:21:45.029256Z",
     "iopub.status.busy": "2023-02-03T20:21:45.028219Z",
     "iopub.status.idle": "2023-02-03T20:21:45.233376Z",
     "shell.execute_reply": "2023-02-03T20:21:45.232155Z"
    },
    "papermill": {
     "duration": 0.23589,
     "end_time": "2023-02-03T20:21:45.236028",
     "exception": false,
     "start_time": "2023-02-03T20:21:45.000138",
     "status": "completed"
    },
    "tags": []
   },
   "outputs": [
    {
     "data": {
      "image/png": "[encoded data removed]",
      "text/plain": [
       "<Figure size 432x288 with 1 Axes>"
      ]
     },
     "metadata": {
      "needs_background": "light"
     },
     "output_type": "display_data"
    }
   ],
   "source": [
    "# plot the distribution of points\n",
    "plt.title(\"Malignant Radius & Texture Data Distribution\")\n",
    "X4['radius_mean'].plot(kind='kde')\n",
    "X4['texture_mean'].plot(kind='kde')\n",
    "plt.legend()\n",
    "plt.show()"
   ]
  },
  {
   "cell_type": "code",
   "execution_count": 52,
   "id": "a9ba737b",
   "metadata": {
    "execution": {
     "iopub.execute_input": "2023-02-03T20:21:45.291378Z",
     "iopub.status.busy": "2023-02-03T20:21:45.290701Z",
     "iopub.status.idle": "2023-02-03T20:21:45.300834Z",
     "shell.execute_reply": "2023-02-03T20:21:45.299994Z"
    },
    "papermill": {
     "duration": 0.04082,
     "end_time": "2023-02-03T20:21:45.303267",
     "exception": false,
     "start_time": "2023-02-03T20:21:45.262447",
     "status": "completed"
    },
    "tags": []
   },
   "outputs": [],
   "source": [
    "# data normalization\n",
    "X4_scaler = preprocessing.MinMaxScaler(feature_range=(-1,1))\n",
    "X4 = X4_scaler.fit_transform(X4)\n",
    "\n",
    "y_scaler = preprocessing.MinMaxScaler(feature_range=(-1,1))\n",
    "y = y_scaler.fit_transform(y)"
   ]
  },
  {
   "cell_type": "code",
   "execution_count": 53,
   "id": "689a4c04",
   "metadata": {
    "execution": {
     "iopub.execute_input": "2023-02-03T20:21:45.358725Z",
     "iopub.status.busy": "2023-02-03T20:21:45.358026Z",
     "iopub.status.idle": "2023-02-03T20:21:45.364012Z",
     "shell.execute_reply": "2023-02-03T20:21:45.363201Z"
    },
    "papermill": {
     "duration": 0.036241,
     "end_time": "2023-02-03T20:21:45.366356",
     "exception": false,
     "start_time": "2023-02-03T20:21:45.330115",
     "status": "completed"
    },
    "tags": []
   },
   "outputs": [],
   "source": [
    "# partition into training/test/validation \n",
    "X_train, X_test, y_train, y_test = train_test_split(X4, y, test_size=0.3, random_state=0)"
   ]
  },
  {
   "cell_type": "markdown",
   "id": "bb0710ba",
   "metadata": {
    "papermill": {
     "duration": 0.026014,
     "end_time": "2023-02-03T20:21:45.418525",
     "exception": false,
     "start_time": "2023-02-03T20:21:45.392511",
     "status": "completed"
    },
    "tags": []
   },
   "source": [
    "### 3.5.2. Create Model"
   ]
  },
  {
   "cell_type": "code",
   "execution_count": 54,
   "id": "3925b682",
   "metadata": {
    "execution": {
     "iopub.execute_input": "2023-02-03T20:21:45.473176Z",
     "iopub.status.busy": "2023-02-03T20:21:45.472742Z",
     "iopub.status.idle": "2023-02-03T20:21:45.477528Z",
     "shell.execute_reply": "2023-02-03T20:21:45.476276Z"
    },
    "papermill": {
     "duration": 0.034998,
     "end_time": "2023-02-03T20:21:45.479868",
     "exception": false,
     "start_time": "2023-02-03T20:21:45.444870",
     "status": "completed"
    },
    "tags": []
   },
   "outputs": [],
   "source": [
    "# create model\n",
    "gnb2_4 = GaussianNB()"
   ]
  },
  {
   "cell_type": "markdown",
   "id": "df811cd0",
   "metadata": {
    "papermill": {
     "duration": 0.026223,
     "end_time": "2023-02-03T20:21:45.532253",
     "exception": false,
     "start_time": "2023-02-03T20:21:45.506030",
     "status": "completed"
    },
    "tags": []
   },
   "source": [
    "### 3.5.3. Train Model"
   ]
  },
  {
   "cell_type": "code",
   "execution_count": 55,
   "id": "d2cec91f",
   "metadata": {
    "execution": {
     "iopub.execute_input": "2023-02-03T20:21:45.586848Z",
     "iopub.status.busy": "2023-02-03T20:21:45.585990Z",
     "iopub.status.idle": "2023-02-03T20:21:45.596256Z",
     "shell.execute_reply": "2023-02-03T20:21:45.594831Z"
    },
    "papermill": {
     "duration": 0.042085,
     "end_time": "2023-02-03T20:21:45.600381",
     "exception": false,
     "start_time": "2023-02-03T20:21:45.558296",
     "status": "completed"
    },
    "tags": []
   },
   "outputs": [
    {
     "name": "stderr",
     "output_type": "stream",
     "text": [
      "/opt/conda/lib/python3.7/site-packages/sklearn/utils/validation.py:993: DataConversionWarning: A column-vector y was passed when a 1d array was expected. Please change the shape of y to (n_samples, ), for example using ravel().\n",
      "  y = column_or_1d(y, warn=True)\n"
     ]
    },
    {
     "data": {
      "text/plain": [
       "GaussianNB()"
      ]
     },
     "execution_count": 55,
     "metadata": {},
     "output_type": "execute_result"
    }
   ],
   "source": [
    "# train model on training dataset\n",
    "gnb2_4.fit(X_train, y_train)"
   ]
  },
  {
   "cell_type": "markdown",
   "id": "ea56e308",
   "metadata": {
    "papermill": {
     "duration": 0.026249,
     "end_time": "2023-02-03T20:21:45.654682",
     "exception": false,
     "start_time": "2023-02-03T20:21:45.628433",
     "status": "completed"
    },
    "tags": []
   },
   "source": [
    "### 3.5.4. Test Model"
   ]
  },
  {
   "cell_type": "code",
   "execution_count": 56,
   "id": "cda2a038",
   "metadata": {
    "execution": {
     "iopub.execute_input": "2023-02-03T20:21:45.711305Z",
     "iopub.status.busy": "2023-02-03T20:21:45.710489Z",
     "iopub.status.idle": "2023-02-03T20:21:45.731242Z",
     "shell.execute_reply": "2023-02-03T20:21:45.729452Z"
    },
    "papermill": {
     "duration": 0.053162,
     "end_time": "2023-02-03T20:21:45.734423",
     "exception": false,
     "start_time": "2023-02-03T20:21:45.681261",
     "status": "completed"
    },
    "tags": []
   },
   "outputs": [
    {
     "name": "stdout",
     "output_type": "stream",
     "text": [
      "Training MSE = 0.432161\n",
      "Validating MSE = 0.350877\n",
      "F1 Score = 0.873950\n",
      "Precision Score = 0.928571\n",
      "Recall Score = 0.825397\n",
      "ROC-AUC Score = 0.894180\n",
      "\n",
      "-----------------------------\n",
      "SUBMIT\n",
      "-----------------------------\n",
      "Accuracy = 0.912281\n",
      "Confusion Matrix = \n",
      "[[104   4]\n",
      " [ 11  52]]\n",
      "True Negative: 104\n",
      "False Positive: 4\n",
      "False Negative: 11\n",
      "True Positive: 52\n"
     ]
    }
   ],
   "source": [
    "# predict on validate set\n",
    "y_test_pred = gnb2_4.predict(X_test)\n",
    "\n",
    "# predict on train set\n",
    "y_train_pred = gnb2_4.predict(X_train)\n",
    "\n",
    "accuracy = metrics.accuracy_score(y_test, y_test_pred)\n",
    "f1 = metrics.f1_score(y_test, y_test_pred)\n",
    "prec = metrics.precision_score(y_test, y_test_pred)\n",
    "recall = metrics.recall_score(y_test, y_test_pred)\n",
    "roc_auc = metrics.roc_auc_score(y_test, y_test_pred)\n",
    "cm = metrics.confusion_matrix(y_test.squeeze(), y_test_pred.squeeze())\n",
    "tn, fp, fn, tp = metrics.confusion_matrix(y_test.squeeze(), y_test_pred.squeeze()).ravel()\n",
    "\n",
    "print(\"Training MSE = %f\" % metrics.mean_squared_error(y_train, y_train_pred))\n",
    "print(\"Validating MSE = %f\" % metrics.mean_squared_error(y_test, y_test_pred))\n",
    "print('F1 Score = %f' % (f1))\n",
    "print('Precision Score = %f' % (prec))\n",
    "print('Recall Score = %f' % (recall))\n",
    "print('ROC-AUC Score = %f' % (roc_auc))\n",
    "print('\\n-----------------------------')\n",
    "print('SUBMIT')\n",
    "print('-----------------------------')\n",
    "print('Accuracy = %f' % (accuracy))\n",
    "print(f'Confusion Matrix = \\n{cm}')\n",
    "print(f'True Negative: {tn}')\n",
    "print(f'False Positive: {fp}')\n",
    "print(f'False Negative: {fn}')\n",
    "print(f'True Positive: {tp}')"
   ]
  },
  {
   "cell_type": "markdown",
   "id": "52c0dadd",
   "metadata": {
    "papermill": {
     "duration": 0.027927,
     "end_time": "2023-02-03T20:21:45.789690",
     "exception": false,
     "start_time": "2023-02-03T20:21:45.761763",
     "status": "completed"
    },
    "tags": []
   },
   "source": [
    "## 3.6. Case 5: Add Noise 5 To The Dataset"
   ]
  },
  {
   "cell_type": "markdown",
   "id": "5d8c3220",
   "metadata": {
    "papermill": {
     "duration": 0.02619,
     "end_time": "2023-02-03T20:21:45.842583",
     "exception": false,
     "start_time": "2023-02-03T20:21:45.816393",
     "status": "completed"
    },
    "tags": []
   },
   "source": [
    "### 3.6.1. Data Processing"
   ]
  },
  {
   "cell_type": "code",
   "execution_count": 57,
   "id": "479bf4de",
   "metadata": {
    "execution": {
     "iopub.execute_input": "2023-02-03T20:21:45.900270Z",
     "iopub.status.busy": "2023-02-03T20:21:45.898734Z",
     "iopub.status.idle": "2023-02-03T20:21:45.904634Z",
     "shell.execute_reply": "2023-02-03T20:21:45.903827Z"
    },
    "papermill": {
     "duration": 0.037728,
     "end_time": "2023-02-03T20:21:45.907008",
     "exception": false,
     "start_time": "2023-02-03T20:21:45.869280",
     "status": "completed"
    },
    "tags": []
   },
   "outputs": [],
   "source": [
    "# add noise to dataset\n",
    "X5 = X + noise_5"
   ]
  },
  {
   "cell_type": "code",
   "execution_count": 58,
   "id": "009c56a9",
   "metadata": {
    "execution": {
     "iopub.execute_input": "2023-02-03T20:21:45.964187Z",
     "iopub.status.busy": "2023-02-03T20:21:45.963749Z",
     "iopub.status.idle": "2023-02-03T20:21:45.989227Z",
     "shell.execute_reply": "2023-02-03T20:21:45.988064Z"
    },
    "papermill": {
     "duration": 0.056494,
     "end_time": "2023-02-03T20:21:45.991901",
     "exception": false,
     "start_time": "2023-02-03T20:21:45.935407",
     "status": "completed"
    },
    "tags": []
   },
   "outputs": [
    {
     "data": {
      "text/html": [
       "<div>\n",
       "<style scoped>\n",
       "    .dataframe tbody tr th:only-of-type {\n",
       "        vertical-align: middle;\n",
       "    }\n",
       "\n",
       "    .dataframe tbody tr th {\n",
       "        vertical-align: top;\n",
       "    }\n",
       "\n",
       "    .dataframe thead th {\n",
       "        text-align: right;\n",
       "    }\n",
       "</style>\n",
       "<table border=\"1\" class=\"dataframe\">\n",
       "  <thead>\n",
       "    <tr style=\"text-align: right;\">\n",
       "      <th></th>\n",
       "      <th>radius_mean</th>\n",
       "      <th>texture_mean</th>\n",
       "      <th>perimeter_mean</th>\n",
       "      <th>area_mean</th>\n",
       "      <th>smoothness_mean</th>\n",
       "      <th>compactness_mean</th>\n",
       "      <th>concavity_mean</th>\n",
       "      <th>concave points_mean</th>\n",
       "      <th>symmetry_mean</th>\n",
       "      <th>fractal_dimension_mean</th>\n",
       "      <th>...</th>\n",
       "      <th>radius_worst</th>\n",
       "      <th>texture_worst</th>\n",
       "      <th>perimeter_worst</th>\n",
       "      <th>area_worst</th>\n",
       "      <th>smoothness_worst</th>\n",
       "      <th>compactness_worst</th>\n",
       "      <th>concavity_worst</th>\n",
       "      <th>concave points_worst</th>\n",
       "      <th>symmetry_worst</th>\n",
       "      <th>fractal_dimension_worst</th>\n",
       "    </tr>\n",
       "  </thead>\n",
       "  <tbody>\n",
       "    <tr>\n",
       "      <th>0</th>\n",
       "      <td>42.986064</td>\n",
       "      <td>-1.508346</td>\n",
       "      <td>105.245099</td>\n",
       "      <td>1051.557972</td>\n",
       "      <td>-21.199232</td>\n",
       "      <td>-30.238527</td>\n",
       "      <td>-27.833676</td>\n",
       "      <td>-17.408690</td>\n",
       "      <td>17.397042</td>\n",
       "      <td>26.083739</td>\n",
       "      <td>...</td>\n",
       "      <td>44.754475</td>\n",
       "      <td>28.910691</td>\n",
       "      <td>209.463392</td>\n",
       "      <td>2022.027048</td>\n",
       "      <td>4.630047</td>\n",
       "      <td>29.774991</td>\n",
       "      <td>24.119755</td>\n",
       "      <td>17.717576</td>\n",
       "      <td>46.032883</td>\n",
       "      <td>28.136987</td>\n",
       "    </tr>\n",
       "    <tr>\n",
       "      <th>1</th>\n",
       "      <td>1.576341</td>\n",
       "      <td>32.639566</td>\n",
       "      <td>122.003085</td>\n",
       "      <td>1294.817681</td>\n",
       "      <td>42.074753</td>\n",
       "      <td>32.757052</td>\n",
       "      <td>-15.356804</td>\n",
       "      <td>13.284753</td>\n",
       "      <td>-31.045220</td>\n",
       "      <td>29.118303</td>\n",
       "      <td>...</td>\n",
       "      <td>17.489479</td>\n",
       "      <td>-12.556954</td>\n",
       "      <td>188.373148</td>\n",
       "      <td>1986.903498</td>\n",
       "      <td>5.423944</td>\n",
       "      <td>16.390981</td>\n",
       "      <td>-3.082010</td>\n",
       "      <td>-36.073133</td>\n",
       "      <td>41.599962</td>\n",
       "      <td>-46.640463</td>\n",
       "    </tr>\n",
       "    <tr>\n",
       "      <th>2</th>\n",
       "      <td>30.542100</td>\n",
       "      <td>-3.845142</td>\n",
       "      <td>120.415249</td>\n",
       "      <td>1215.327994</td>\n",
       "      <td>-15.709419</td>\n",
       "      <td>-44.093000</td>\n",
       "      <td>66.369644</td>\n",
       "      <td>-47.854349</td>\n",
       "      <td>12.144186</td>\n",
       "      <td>-35.530766</td>\n",
       "      <td>...</td>\n",
       "      <td>91.240937</td>\n",
       "      <td>24.653858</td>\n",
       "      <td>156.685799</td>\n",
       "      <td>1738.400705</td>\n",
       "      <td>-3.107084</td>\n",
       "      <td>-49.444789</td>\n",
       "      <td>-29.335068</td>\n",
       "      <td>51.094038</td>\n",
       "      <td>22.556909</td>\n",
       "      <td>10.975524</td>\n",
       "    </tr>\n",
       "    <tr>\n",
       "      <th>3</th>\n",
       "      <td>25.144763</td>\n",
       "      <td>10.445568</td>\n",
       "      <td>67.038837</td>\n",
       "      <td>369.892667</td>\n",
       "      <td>17.812073</td>\n",
       "      <td>-58.259543</td>\n",
       "      <td>19.558778</td>\n",
       "      <td>-37.037241</td>\n",
       "      <td>0.154527</td>\n",
       "      <td>-42.562473</td>\n",
       "      <td>...</td>\n",
       "      <td>32.127728</td>\n",
       "      <td>48.015943</td>\n",
       "      <td>116.046234</td>\n",
       "      <td>555.121819</td>\n",
       "      <td>41.041269</td>\n",
       "      <td>19.777395</td>\n",
       "      <td>52.051796</td>\n",
       "      <td>-18.862752</td>\n",
       "      <td>-4.034671</td>\n",
       "      <td>34.365525</td>\n",
       "    </tr>\n",
       "    <tr>\n",
       "      <th>4</th>\n",
       "      <td>35.907094</td>\n",
       "      <td>39.766069</td>\n",
       "      <td>156.817718</td>\n",
       "      <td>1298.367941</td>\n",
       "      <td>-40.681863</td>\n",
       "      <td>9.791915</td>\n",
       "      <td>-33.746915</td>\n",
       "      <td>32.380436</td>\n",
       "      <td>19.155420</td>\n",
       "      <td>10.579784</td>\n",
       "      <td>...</td>\n",
       "      <td>21.440719</td>\n",
       "      <td>40.574573</td>\n",
       "      <td>162.912637</td>\n",
       "      <td>1540.076420</td>\n",
       "      <td>33.015073</td>\n",
       "      <td>-53.162416</td>\n",
       "      <td>-12.840007</td>\n",
       "      <td>-18.091067</td>\n",
       "      <td>-22.559268</td>\n",
       "      <td>-1.991746</td>\n",
       "    </tr>\n",
       "  </tbody>\n",
       "</table>\n",
       "<p>5 rows × 30 columns</p>\n",
       "</div>"
      ],
      "text/plain": [
       "   radius_mean  texture_mean  perimeter_mean    area_mean  smoothness_mean  \\\n",
       "0    42.986064     -1.508346      105.245099  1051.557972       -21.199232   \n",
       "1     1.576341     32.639566      122.003085  1294.817681        42.074753   \n",
       "2    30.542100     -3.845142      120.415249  1215.327994       -15.709419   \n",
       "3    25.144763     10.445568       67.038837   369.892667        17.812073   \n",
       "4    35.907094     39.766069      156.817718  1298.367941       -40.681863   \n",
       "\n",
       "   compactness_mean  concavity_mean  concave points_mean  symmetry_mean  \\\n",
       "0        -30.238527      -27.833676           -17.408690      17.397042   \n",
       "1         32.757052      -15.356804            13.284753     -31.045220   \n",
       "2        -44.093000       66.369644           -47.854349      12.144186   \n",
       "3        -58.259543       19.558778           -37.037241       0.154527   \n",
       "4          9.791915      -33.746915            32.380436      19.155420   \n",
       "\n",
       "   fractal_dimension_mean  ...  radius_worst  texture_worst  perimeter_worst  \\\n",
       "0               26.083739  ...     44.754475      28.910691       209.463392   \n",
       "1               29.118303  ...     17.489479     -12.556954       188.373148   \n",
       "2              -35.530766  ...     91.240937      24.653858       156.685799   \n",
       "3              -42.562473  ...     32.127728      48.015943       116.046234   \n",
       "4               10.579784  ...     21.440719      40.574573       162.912637   \n",
       "\n",
       "    area_worst  smoothness_worst  compactness_worst  concavity_worst  \\\n",
       "0  2022.027048          4.630047          29.774991        24.119755   \n",
       "1  1986.903498          5.423944          16.390981        -3.082010   \n",
       "2  1738.400705         -3.107084         -49.444789       -29.335068   \n",
       "3   555.121819         41.041269          19.777395        52.051796   \n",
       "4  1540.076420         33.015073         -53.162416       -12.840007   \n",
       "\n",
       "   concave points_worst  symmetry_worst  fractal_dimension_worst  \n",
       "0             17.717576       46.032883                28.136987  \n",
       "1            -36.073133       41.599962               -46.640463  \n",
       "2             51.094038       22.556909                10.975524  \n",
       "3            -18.862752       -4.034671                34.365525  \n",
       "4            -18.091067      -22.559268                -1.991746  \n",
       "\n",
       "[5 rows x 30 columns]"
      ]
     },
     "execution_count": 58,
     "metadata": {},
     "output_type": "execute_result"
    }
   ],
   "source": [
    "# view dataset\n",
    "X5.head()"
   ]
  },
  {
   "cell_type": "code",
   "execution_count": 59,
   "id": "ef927ed8",
   "metadata": {
    "execution": {
     "iopub.execute_input": "2023-02-03T20:21:46.050266Z",
     "iopub.status.busy": "2023-02-03T20:21:46.049191Z",
     "iopub.status.idle": "2023-02-03T20:21:46.250482Z",
     "shell.execute_reply": "2023-02-03T20:21:46.249219Z"
    },
    "papermill": {
     "duration": 0.234881,
     "end_time": "2023-02-03T20:21:46.253868",
     "exception": false,
     "start_time": "2023-02-03T20:21:46.018987",
     "status": "completed"
    },
    "tags": []
   },
   "outputs": [
    {
     "data": {
      "image/png": "[encoded data removed]",
      "text/plain": [
       "<Figure size 432x288 with 1 Axes>"
      ]
     },
     "metadata": {
      "needs_background": "light"
     },
     "output_type": "display_data"
    }
   ],
   "source": [
    "# plot the distribution of points\n",
    "plt.title(\"Malignant Radius & Texture Data Distribution\")\n",
    "X5['radius_mean'].plot(kind='kde')\n",
    "X5['texture_mean'].plot(kind='kde')\n",
    "plt.legend()\n",
    "plt.show()"
   ]
  },
  {
   "cell_type": "code",
   "execution_count": 60,
   "id": "72debc86",
   "metadata": {
    "execution": {
     "iopub.execute_input": "2023-02-03T20:21:46.311956Z",
     "iopub.status.busy": "2023-02-03T20:21:46.311268Z",
     "iopub.status.idle": "2023-02-03T20:21:46.321844Z",
     "shell.execute_reply": "2023-02-03T20:21:46.320520Z"
    },
    "papermill": {
     "duration": 0.043026,
     "end_time": "2023-02-03T20:21:46.324621",
     "exception": false,
     "start_time": "2023-02-03T20:21:46.281595",
     "status": "completed"
    },
    "tags": []
   },
   "outputs": [],
   "source": [
    "# data normalization\n",
    "X5_scaler = preprocessing.MinMaxScaler(feature_range=(-1,1))\n",
    "X5 = X5_scaler.fit_transform(X5)\n",
    "\n",
    "y_scaler = preprocessing.MinMaxScaler(feature_range=(-1,1))\n",
    "y = y_scaler.fit_transform(y)"
   ]
  },
  {
   "cell_type": "code",
   "execution_count": 61,
   "id": "1dea4ff2",
   "metadata": {
    "execution": {
     "iopub.execute_input": "2023-02-03T20:21:46.382199Z",
     "iopub.status.busy": "2023-02-03T20:21:46.381705Z",
     "iopub.status.idle": "2023-02-03T20:21:46.388905Z",
     "shell.execute_reply": "2023-02-03T20:21:46.387716Z"
    },
    "papermill": {
     "duration": 0.039269,
     "end_time": "2023-02-03T20:21:46.391333",
     "exception": false,
     "start_time": "2023-02-03T20:21:46.352064",
     "status": "completed"
    },
    "tags": []
   },
   "outputs": [],
   "source": [
    "# partition into training/test/validation \n",
    "X_train, X_test, y_train, y_test = train_test_split(X5, y, test_size=0.3, random_state=0)"
   ]
  },
  {
   "cell_type": "markdown",
   "id": "242e8b00",
   "metadata": {
    "papermill": {
     "duration": 0.026842,
     "end_time": "2023-02-03T20:21:46.446253",
     "exception": false,
     "start_time": "2023-02-03T20:21:46.419411",
     "status": "completed"
    },
    "tags": []
   },
   "source": [
    "### 3.6.2. Create Model"
   ]
  },
  {
   "cell_type": "code",
   "execution_count": 62,
   "id": "c0b06b1d",
   "metadata": {
    "execution": {
     "iopub.execute_input": "2023-02-03T20:21:46.502619Z",
     "iopub.status.busy": "2023-02-03T20:21:46.502060Z",
     "iopub.status.idle": "2023-02-03T20:21:46.507390Z",
     "shell.execute_reply": "2023-02-03T20:21:46.506107Z"
    },
    "papermill": {
     "duration": 0.036188,
     "end_time": "2023-02-03T20:21:46.509742",
     "exception": false,
     "start_time": "2023-02-03T20:21:46.473554",
     "status": "completed"
    },
    "tags": []
   },
   "outputs": [],
   "source": [
    "# create model\n",
    "gnb2_5 = GaussianNB()"
   ]
  },
  {
   "cell_type": "markdown",
   "id": "7c298710",
   "metadata": {
    "papermill": {
     "duration": 0.027467,
     "end_time": "2023-02-03T20:21:46.564209",
     "exception": false,
     "start_time": "2023-02-03T20:21:46.536742",
     "status": "completed"
    },
    "tags": []
   },
   "source": [
    "### 3.6.3. Train Model"
   ]
  },
  {
   "cell_type": "code",
   "execution_count": 63,
   "id": "8303b560",
   "metadata": {
    "execution": {
     "iopub.execute_input": "2023-02-03T20:21:46.622224Z",
     "iopub.status.busy": "2023-02-03T20:21:46.620939Z",
     "iopub.status.idle": "2023-02-03T20:21:46.631281Z",
     "shell.execute_reply": "2023-02-03T20:21:46.629362Z"
    },
    "papermill": {
     "duration": 0.042467,
     "end_time": "2023-02-03T20:21:46.634263",
     "exception": false,
     "start_time": "2023-02-03T20:21:46.591796",
     "status": "completed"
    },
    "tags": []
   },
   "outputs": [
    {
     "name": "stderr",
     "output_type": "stream",
     "text": [
      "/opt/conda/lib/python3.7/site-packages/sklearn/utils/validation.py:993: DataConversionWarning: A column-vector y was passed when a 1d array was expected. Please change the shape of y to (n_samples, ), for example using ravel().\n",
      "  y = column_or_1d(y, warn=True)\n"
     ]
    },
    {
     "data": {
      "text/plain": [
       "GaussianNB()"
      ]
     },
     "execution_count": 63,
     "metadata": {},
     "output_type": "execute_result"
    }
   ],
   "source": [
    "# train model on training dataset\n",
    "gnb2_5.fit(X_train, y_train)"
   ]
  },
  {
   "cell_type": "markdown",
   "id": "e40ff1b8",
   "metadata": {
    "papermill": {
     "duration": 0.027133,
     "end_time": "2023-02-03T20:21:46.688944",
     "exception": false,
     "start_time": "2023-02-03T20:21:46.661811",
     "status": "completed"
    },
    "tags": []
   },
   "source": [
    "### 3.6.4. Test Model"
   ]
  },
  {
   "cell_type": "code",
   "execution_count": 64,
   "id": "e66f7b2e",
   "metadata": {
    "execution": {
     "iopub.execute_input": "2023-02-03T20:21:46.746166Z",
     "iopub.status.busy": "2023-02-03T20:21:46.745389Z",
     "iopub.status.idle": "2023-02-03T20:21:46.765585Z",
     "shell.execute_reply": "2023-02-03T20:21:46.764210Z"
    },
    "papermill": {
     "duration": 0.051845,
     "end_time": "2023-02-03T20:21:46.768399",
     "exception": false,
     "start_time": "2023-02-03T20:21:46.716554",
     "status": "completed"
    },
    "tags": []
   },
   "outputs": [
    {
     "name": "stdout",
     "output_type": "stream",
     "text": [
      "Training MSE = 0.432161\n",
      "Validating MSE = 0.280702\n",
      "F1 Score = 0.898305\n",
      "Precision Score = 0.963636\n",
      "Recall Score = 0.841270\n",
      "ROC-AUC Score = 0.911376\n",
      "\n",
      "-----------------------------\n",
      "SUBMIT\n",
      "-----------------------------\n",
      "Accuracy = 0.929825\n",
      "Confusion Matrix = \n",
      "[[106   2]\n",
      " [ 10  53]]\n",
      "True Negative: 106\n",
      "False Positive: 2\n",
      "False Negative: 10\n",
      "True Positive: 53\n"
     ]
    }
   ],
   "source": [
    "# predict on validate set\n",
    "y_test_pred = gnb2_5.predict(X_test)\n",
    "\n",
    "# predict on train set\n",
    "y_train_pred = gnb2_5.predict(X_train)\n",
    "\n",
    "accuracy = metrics.accuracy_score(y_test, y_test_pred)\n",
    "f1 = metrics.f1_score(y_test, y_test_pred)\n",
    "prec = metrics.precision_score(y_test, y_test_pred)\n",
    "recall = metrics.recall_score(y_test, y_test_pred)\n",
    "roc_auc = metrics.roc_auc_score(y_test, y_test_pred)\n",
    "cm = metrics.confusion_matrix(y_test.squeeze(), y_test_pred.squeeze())\n",
    "tn, fp, fn, tp = metrics.confusion_matrix(y_test.squeeze(), y_test_pred.squeeze()).ravel()\n",
    "\n",
    "print(\"Training MSE = %f\" % metrics.mean_squared_error(y_train, y_train_pred))\n",
    "print(\"Validating MSE = %f\" % metrics.mean_squared_error(y_test, y_test_pred))\n",
    "print('F1 Score = %f' % (f1))\n",
    "print('Precision Score = %f' % (prec))\n",
    "print('Recall Score = %f' % (recall))\n",
    "print('ROC-AUC Score = %f' % (roc_auc))\n",
    "print('\\n-----------------------------')\n",
    "print('SUBMIT')\n",
    "print('-----------------------------')\n",
    "print('Accuracy = %f' % (accuracy))\n",
    "print(f'Confusion Matrix = \\n{cm}')\n",
    "print(f'True Negative: {tn}')\n",
    "print(f'False Positive: {fp}')\n",
    "print(f'False Negative: {fn}')\n",
    "print(f'True Positive: {tp}')"
   ]
  }
 ],
 "metadata": {
  "kernelspec": {
   "display_name": "Python 3",
   "language": "python",
   "name": "python3"
  },
  "language_info": {
   "codemirror_mode": {
    "name": "ipython",
    "version": 3
   },
   "file_extension": ".py",
   "mimetype": "text/x-python",
   "name": "python",
   "nbconvert_exporter": "python",
   "pygments_lexer": "ipython3",
   "version": "3.7.12"
  },
  "papermill": {
   "default_parameters": {},
   "duration": 17.633867,
   "end_time": "2023-02-03T20:21:47.619938",
   "environment_variables": {},
   "exception": null,
   "input_path": "__notebook__.ipynb",
   "output_path": "__notebook__.ipynb",
   "parameters": {},
   "start_time": "2023-02-03T20:21:29.986071",
   "version": "2.3.4"
  }
 },
 "nbformat": 4,
 "nbformat_minor": 5
}
