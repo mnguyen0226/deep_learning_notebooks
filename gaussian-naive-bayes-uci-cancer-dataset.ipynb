{
 "cells": [
  {
   "cell_type": "markdown",
   "id": "da07415a",
   "metadata": {
    "_cell_guid": "b1076dfc-b9ad-4769-8c92-a6c4dae69d19",
    "_uuid": "8f2839f25d086af736a60e9eeb907d3b93b6e0e5",
    "papermill": {
     "duration": 0.011308,
     "end_time": "2023-02-02T23:47:39.200791",
     "exception": false,
     "start_time": "2023-02-02T23:47:39.189483",
     "status": "completed"
    },
    "tags": []
   },
   "source": [
    "# Gaussian Naive Bayes Classifier for Breast Cancer Dataset\n",
    "- Implement a simple program using GaussianNB() to classify the data samples (including train and test data samples). Report the prediction accuracy and confusion matrix of the classifier.\n",
    "- Add (30-dimensional) zero-mean Gaussian noises with different variances (at least 5, e.g., 50, 100, 200, 400, 800) to the features of the dataset; train Gaussian Naïve Bayes classifiers to classify the noisy datasets and report the prediction accuracies and confusion matrices of the classifiers."
   ]
  },
  {
   "cell_type": "code",
   "execution_count": 1,
   "id": "b1effcdd",
   "metadata": {
    "execution": {
     "iopub.execute_input": "2023-02-02T23:47:39.224271Z",
     "iopub.status.busy": "2023-02-02T23:47:39.223666Z",
     "iopub.status.idle": "2023-02-02T23:47:40.933321Z",
     "shell.execute_reply": "2023-02-02T23:47:40.931878Z"
    },
    "papermill": {
     "duration": 1.726126,
     "end_time": "2023-02-02T23:47:40.936917",
     "exception": false,
     "start_time": "2023-02-02T23:47:39.210791",
     "status": "completed"
    },
    "tags": []
   },
   "outputs": [],
   "source": [
    "# import libraries\n",
    "import numpy as np \n",
    "import pandas as pd \n",
    "import matplotlib.pyplot as plt\n",
    "from sklearn.model_selection import train_test_split\n",
    "from sklearn.naive_bayes import GaussianNB\n",
    "from sklearn import preprocessing\n",
    "from sklearn import metrics\n",
    "import os\n",
    "import math"
   ]
  },
  {
   "cell_type": "code",
   "execution_count": 2,
   "id": "b3c931e3",
   "metadata": {
    "execution": {
     "iopub.execute_input": "2023-02-02T23:47:40.959378Z",
     "iopub.status.busy": "2023-02-02T23:47:40.958845Z",
     "iopub.status.idle": "2023-02-02T23:47:40.972190Z",
     "shell.execute_reply": "2023-02-02T23:47:40.971020Z"
    },
    "papermill": {
     "duration": 0.029175,
     "end_time": "2023-02-02T23:47:40.976196",
     "exception": false,
     "start_time": "2023-02-02T23:47:40.947021",
     "status": "completed"
    },
    "tags": []
   },
   "outputs": [
    {
     "name": "stdout",
     "output_type": "stream",
     "text": [
      "/kaggle/input/breast-cancer-wisconsin-data/data.csv\n"
     ]
    }
   ],
   "source": [
    "# connect to Kaggle open-source database\n",
    "for dirname, _, filenames in os.walk('/kaggle/input'):\n",
    "    for filename in filenames:\n",
    "        print(os.path.join(dirname, filename))"
   ]
  },
  {
   "cell_type": "markdown",
   "id": "56fb4dcc",
   "metadata": {
    "papermill": {
     "duration": 0.00948,
     "end_time": "2023-02-02T23:47:40.996062",
     "exception": false,
     "start_time": "2023-02-02T23:47:40.986582",
     "status": "completed"
    },
    "tags": []
   },
   "source": [
    "# 1. Data Processing "
   ]
  },
  {
   "cell_type": "code",
   "execution_count": 3,
   "id": "a314f34c",
   "metadata": {
    "execution": {
     "iopub.execute_input": "2023-02-02T23:47:41.020457Z",
     "iopub.status.busy": "2023-02-02T23:47:41.019885Z",
     "iopub.status.idle": "2023-02-02T23:47:41.092236Z",
     "shell.execute_reply": "2023-02-02T23:47:41.090497Z"
    },
    "papermill": {
     "duration": 0.08923,
     "end_time": "2023-02-02T23:47:41.095838",
     "exception": false,
     "start_time": "2023-02-02T23:47:41.006608",
     "status": "completed"
    },
    "tags": []
   },
   "outputs": [
    {
     "data": {
      "text/html": [
       "<div>\n",
       "<style scoped>\n",
       "    .dataframe tbody tr th:only-of-type {\n",
       "        vertical-align: middle;\n",
       "    }\n",
       "\n",
       "    .dataframe tbody tr th {\n",
       "        vertical-align: top;\n",
       "    }\n",
       "\n",
       "    .dataframe thead th {\n",
       "        text-align: right;\n",
       "    }\n",
       "</style>\n",
       "<table border=\"1\" class=\"dataframe\">\n",
       "  <thead>\n",
       "    <tr style=\"text-align: right;\">\n",
       "      <th></th>\n",
       "      <th>id</th>\n",
       "      <th>diagnosis</th>\n",
       "      <th>radius_mean</th>\n",
       "      <th>texture_mean</th>\n",
       "      <th>perimeter_mean</th>\n",
       "      <th>area_mean</th>\n",
       "      <th>smoothness_mean</th>\n",
       "      <th>compactness_mean</th>\n",
       "      <th>concavity_mean</th>\n",
       "      <th>concave points_mean</th>\n",
       "      <th>...</th>\n",
       "      <th>texture_worst</th>\n",
       "      <th>perimeter_worst</th>\n",
       "      <th>area_worst</th>\n",
       "      <th>smoothness_worst</th>\n",
       "      <th>compactness_worst</th>\n",
       "      <th>concavity_worst</th>\n",
       "      <th>concave points_worst</th>\n",
       "      <th>symmetry_worst</th>\n",
       "      <th>fractal_dimension_worst</th>\n",
       "      <th>Unnamed: 32</th>\n",
       "    </tr>\n",
       "  </thead>\n",
       "  <tbody>\n",
       "    <tr>\n",
       "      <th>0</th>\n",
       "      <td>842302</td>\n",
       "      <td>M</td>\n",
       "      <td>17.99</td>\n",
       "      <td>10.38</td>\n",
       "      <td>122.80</td>\n",
       "      <td>1001.0</td>\n",
       "      <td>0.11840</td>\n",
       "      <td>0.27760</td>\n",
       "      <td>0.3001</td>\n",
       "      <td>0.14710</td>\n",
       "      <td>...</td>\n",
       "      <td>17.33</td>\n",
       "      <td>184.60</td>\n",
       "      <td>2019.0</td>\n",
       "      <td>0.1622</td>\n",
       "      <td>0.6656</td>\n",
       "      <td>0.7119</td>\n",
       "      <td>0.2654</td>\n",
       "      <td>0.4601</td>\n",
       "      <td>0.11890</td>\n",
       "      <td>NaN</td>\n",
       "    </tr>\n",
       "    <tr>\n",
       "      <th>1</th>\n",
       "      <td>842517</td>\n",
       "      <td>M</td>\n",
       "      <td>20.57</td>\n",
       "      <td>17.77</td>\n",
       "      <td>132.90</td>\n",
       "      <td>1326.0</td>\n",
       "      <td>0.08474</td>\n",
       "      <td>0.07864</td>\n",
       "      <td>0.0869</td>\n",
       "      <td>0.07017</td>\n",
       "      <td>...</td>\n",
       "      <td>23.41</td>\n",
       "      <td>158.80</td>\n",
       "      <td>1956.0</td>\n",
       "      <td>0.1238</td>\n",
       "      <td>0.1866</td>\n",
       "      <td>0.2416</td>\n",
       "      <td>0.1860</td>\n",
       "      <td>0.2750</td>\n",
       "      <td>0.08902</td>\n",
       "      <td>NaN</td>\n",
       "    </tr>\n",
       "    <tr>\n",
       "      <th>2</th>\n",
       "      <td>84300903</td>\n",
       "      <td>M</td>\n",
       "      <td>19.69</td>\n",
       "      <td>21.25</td>\n",
       "      <td>130.00</td>\n",
       "      <td>1203.0</td>\n",
       "      <td>0.10960</td>\n",
       "      <td>0.15990</td>\n",
       "      <td>0.1974</td>\n",
       "      <td>0.12790</td>\n",
       "      <td>...</td>\n",
       "      <td>25.53</td>\n",
       "      <td>152.50</td>\n",
       "      <td>1709.0</td>\n",
       "      <td>0.1444</td>\n",
       "      <td>0.4245</td>\n",
       "      <td>0.4504</td>\n",
       "      <td>0.2430</td>\n",
       "      <td>0.3613</td>\n",
       "      <td>0.08758</td>\n",
       "      <td>NaN</td>\n",
       "    </tr>\n",
       "    <tr>\n",
       "      <th>3</th>\n",
       "      <td>84348301</td>\n",
       "      <td>M</td>\n",
       "      <td>11.42</td>\n",
       "      <td>20.38</td>\n",
       "      <td>77.58</td>\n",
       "      <td>386.1</td>\n",
       "      <td>0.14250</td>\n",
       "      <td>0.28390</td>\n",
       "      <td>0.2414</td>\n",
       "      <td>0.10520</td>\n",
       "      <td>...</td>\n",
       "      <td>26.50</td>\n",
       "      <td>98.87</td>\n",
       "      <td>567.7</td>\n",
       "      <td>0.2098</td>\n",
       "      <td>0.8663</td>\n",
       "      <td>0.6869</td>\n",
       "      <td>0.2575</td>\n",
       "      <td>0.6638</td>\n",
       "      <td>0.17300</td>\n",
       "      <td>NaN</td>\n",
       "    </tr>\n",
       "    <tr>\n",
       "      <th>4</th>\n",
       "      <td>84358402</td>\n",
       "      <td>M</td>\n",
       "      <td>20.29</td>\n",
       "      <td>14.34</td>\n",
       "      <td>135.10</td>\n",
       "      <td>1297.0</td>\n",
       "      <td>0.10030</td>\n",
       "      <td>0.13280</td>\n",
       "      <td>0.1980</td>\n",
       "      <td>0.10430</td>\n",
       "      <td>...</td>\n",
       "      <td>16.67</td>\n",
       "      <td>152.20</td>\n",
       "      <td>1575.0</td>\n",
       "      <td>0.1374</td>\n",
       "      <td>0.2050</td>\n",
       "      <td>0.4000</td>\n",
       "      <td>0.1625</td>\n",
       "      <td>0.2364</td>\n",
       "      <td>0.07678</td>\n",
       "      <td>NaN</td>\n",
       "    </tr>\n",
       "  </tbody>\n",
       "</table>\n",
       "<p>5 rows × 33 columns</p>\n",
       "</div>"
      ],
      "text/plain": [
       "         id diagnosis  radius_mean  texture_mean  perimeter_mean  area_mean  \\\n",
       "0    842302         M        17.99         10.38          122.80     1001.0   \n",
       "1    842517         M        20.57         17.77          132.90     1326.0   \n",
       "2  84300903         M        19.69         21.25          130.00     1203.0   \n",
       "3  84348301         M        11.42         20.38           77.58      386.1   \n",
       "4  84358402         M        20.29         14.34          135.10     1297.0   \n",
       "\n",
       "   smoothness_mean  compactness_mean  concavity_mean  concave points_mean  \\\n",
       "0          0.11840           0.27760          0.3001              0.14710   \n",
       "1          0.08474           0.07864          0.0869              0.07017   \n",
       "2          0.10960           0.15990          0.1974              0.12790   \n",
       "3          0.14250           0.28390          0.2414              0.10520   \n",
       "4          0.10030           0.13280          0.1980              0.10430   \n",
       "\n",
       "   ...  texture_worst  perimeter_worst  area_worst  smoothness_worst  \\\n",
       "0  ...          17.33           184.60      2019.0            0.1622   \n",
       "1  ...          23.41           158.80      1956.0            0.1238   \n",
       "2  ...          25.53           152.50      1709.0            0.1444   \n",
       "3  ...          26.50            98.87       567.7            0.2098   \n",
       "4  ...          16.67           152.20      1575.0            0.1374   \n",
       "\n",
       "   compactness_worst  concavity_worst  concave points_worst  symmetry_worst  \\\n",
       "0             0.6656           0.7119                0.2654          0.4601   \n",
       "1             0.1866           0.2416                0.1860          0.2750   \n",
       "2             0.4245           0.4504                0.2430          0.3613   \n",
       "3             0.8663           0.6869                0.2575          0.6638   \n",
       "4             0.2050           0.4000                0.1625          0.2364   \n",
       "\n",
       "   fractal_dimension_worst  Unnamed: 32  \n",
       "0                  0.11890          NaN  \n",
       "1                  0.08902          NaN  \n",
       "2                  0.08758          NaN  \n",
       "3                  0.17300          NaN  \n",
       "4                  0.07678          NaN  \n",
       "\n",
       "[5 rows x 33 columns]"
      ]
     },
     "execution_count": 3,
     "metadata": {},
     "output_type": "execute_result"
    }
   ],
   "source": [
    "# import dataset\n",
    "df = pd.read_csv(\"/kaggle/input/breast-cancer-wisconsin-data/data.csv\")\n",
    "df.head()"
   ]
  },
  {
   "cell_type": "code",
   "execution_count": 4,
   "id": "dca3099a",
   "metadata": {
    "execution": {
     "iopub.execute_input": "2023-02-02T23:47:41.121106Z",
     "iopub.status.busy": "2023-02-02T23:47:41.120537Z",
     "iopub.status.idle": "2023-02-02T23:47:41.161043Z",
     "shell.execute_reply": "2023-02-02T23:47:41.158570Z"
    },
    "papermill": {
     "duration": 0.056847,
     "end_time": "2023-02-02T23:47:41.164418",
     "exception": false,
     "start_time": "2023-02-02T23:47:41.107571",
     "status": "completed"
    },
    "tags": []
   },
   "outputs": [
    {
     "name": "stdout",
     "output_type": "stream",
     "text": [
      "<class 'pandas.core.frame.DataFrame'>\n",
      "RangeIndex: 569 entries, 0 to 568\n",
      "Data columns (total 33 columns):\n",
      " #   Column                   Non-Null Count  Dtype  \n",
      "---  ------                   --------------  -----  \n",
      " 0   id                       569 non-null    int64  \n",
      " 1   diagnosis                569 non-null    object \n",
      " 2   radius_mean              569 non-null    float64\n",
      " 3   texture_mean             569 non-null    float64\n",
      " 4   perimeter_mean           569 non-null    float64\n",
      " 5   area_mean                569 non-null    float64\n",
      " 6   smoothness_mean          569 non-null    float64\n",
      " 7   compactness_mean         569 non-null    float64\n",
      " 8   concavity_mean           569 non-null    float64\n",
      " 9   concave points_mean      569 non-null    float64\n",
      " 10  symmetry_mean            569 non-null    float64\n",
      " 11  fractal_dimension_mean   569 non-null    float64\n",
      " 12  radius_se                569 non-null    float64\n",
      " 13  texture_se               569 non-null    float64\n",
      " 14  perimeter_se             569 non-null    float64\n",
      " 15  area_se                  569 non-null    float64\n",
      " 16  smoothness_se            569 non-null    float64\n",
      " 17  compactness_se           569 non-null    float64\n",
      " 18  concavity_se             569 non-null    float64\n",
      " 19  concave points_se        569 non-null    float64\n",
      " 20  symmetry_se              569 non-null    float64\n",
      " 21  fractal_dimension_se     569 non-null    float64\n",
      " 22  radius_worst             569 non-null    float64\n",
      " 23  texture_worst            569 non-null    float64\n",
      " 24  perimeter_worst          569 non-null    float64\n",
      " 25  area_worst               569 non-null    float64\n",
      " 26  smoothness_worst         569 non-null    float64\n",
      " 27  compactness_worst        569 non-null    float64\n",
      " 28  concavity_worst          569 non-null    float64\n",
      " 29  concave points_worst     569 non-null    float64\n",
      " 30  symmetry_worst           569 non-null    float64\n",
      " 31  fractal_dimension_worst  569 non-null    float64\n",
      " 32  Unnamed: 32              0 non-null      float64\n",
      "dtypes: float64(31), int64(1), object(1)\n",
      "memory usage: 146.8+ KB\n"
     ]
    }
   ],
   "source": [
    "# check datatype\n",
    "df.info()"
   ]
  },
  {
   "cell_type": "markdown",
   "id": "1c4255fb",
   "metadata": {
    "papermill": {
     "duration": 0.010423,
     "end_time": "2023-02-02T23:47:41.185888",
     "exception": false,
     "start_time": "2023-02-02T23:47:41.175465",
     "status": "completed"
    },
    "tags": []
   },
   "source": [
    "**Note**: we will drop *id* and *Unnamed* columns as they does not contribute to the learning process of the model."
   ]
  },
  {
   "cell_type": "markdown",
   "id": "3fdf6033",
   "metadata": {
    "papermill": {
     "duration": 0.009671,
     "end_time": "2023-02-02T23:47:41.207691",
     "exception": false,
     "start_time": "2023-02-02T23:47:41.198020",
     "status": "completed"
    },
    "tags": []
   },
   "source": [
    "## 1.1. Data Visualization\n",
    "Let's plot the malignent and benign cancer data points."
   ]
  },
  {
   "cell_type": "code",
   "execution_count": 5,
   "id": "545775b8",
   "metadata": {
    "execution": {
     "iopub.execute_input": "2023-02-02T23:47:41.231192Z",
     "iopub.status.busy": "2023-02-02T23:47:41.230636Z",
     "iopub.status.idle": "2023-02-02T23:47:41.597385Z",
     "shell.execute_reply": "2023-02-02T23:47:41.596013Z"
    },
    "papermill": {
     "duration": 0.382568,
     "end_time": "2023-02-02T23:47:41.600590",
     "exception": false,
     "start_time": "2023-02-02T23:47:41.218022",
     "status": "completed"
    },
    "tags": []
   },
   "outputs": [
    {
     "data": {
      "image/png": "[encoded data removed]",
      "text/plain": [
       "<Figure size 432x288 with 1 Axes>"
      ]
     },
     "metadata": {
      "needs_background": "light"
     },
     "output_type": "display_data"
    }
   ],
   "source": [
    "# plot the distribution of points\n",
    "plt.title(\"Radius & Texture Data Distribution\")\n",
    "df['radius_mean'].plot(kind='kde')\n",
    "df['texture_mean'].plot(kind='kde')\n",
    "plt.legend()\n",
    "plt.show()"
   ]
  },
  {
   "cell_type": "markdown",
   "id": "3fda24c8",
   "metadata": {
    "papermill": {
     "duration": 0.010052,
     "end_time": "2023-02-02T23:47:41.621190",
     "exception": false,
     "start_time": "2023-02-02T23:47:41.611138",
     "status": "completed"
    },
    "tags": []
   },
   "source": [
    "## 1.2. Data Processing"
   ]
  },
  {
   "cell_type": "code",
   "execution_count": 6,
   "id": "5adcf3aa",
   "metadata": {
    "execution": {
     "iopub.execute_input": "2023-02-02T23:47:41.644982Z",
     "iopub.status.busy": "2023-02-02T23:47:41.644165Z",
     "iopub.status.idle": "2023-02-02T23:47:41.652271Z",
     "shell.execute_reply": "2023-02-02T23:47:41.651284Z"
    },
    "papermill": {
     "duration": 0.02317,
     "end_time": "2023-02-02T23:47:41.654940",
     "exception": false,
     "start_time": "2023-02-02T23:47:41.631770",
     "status": "completed"
    },
    "tags": []
   },
   "outputs": [],
   "source": [
    "# drop columns\n",
    "df = df.drop(['id'], axis=1)\n",
    "df = df.drop(['Unnamed: 32'], axis=1)"
   ]
  },
  {
   "cell_type": "code",
   "execution_count": 7,
   "id": "f0320c10",
   "metadata": {
    "execution": {
     "iopub.execute_input": "2023-02-02T23:47:41.678699Z",
     "iopub.status.busy": "2023-02-02T23:47:41.677930Z",
     "iopub.status.idle": "2023-02-02T23:47:41.686211Z",
     "shell.execute_reply": "2023-02-02T23:47:41.684461Z"
    },
    "papermill": {
     "duration": 0.024253,
     "end_time": "2023-02-02T23:47:41.689689",
     "exception": false,
     "start_time": "2023-02-02T23:47:41.665436",
     "status": "completed"
    },
    "tags": []
   },
   "outputs": [
    {
     "name": "stdout",
     "output_type": "stream",
     "text": [
      "False\n"
     ]
    }
   ],
   "source": [
    "# Examine and replace missing values \n",
    "print(df.isnull().values.any())"
   ]
  },
  {
   "cell_type": "markdown",
   "id": "1f7be876",
   "metadata": {
    "papermill": {
     "duration": 0.010222,
     "end_time": "2023-02-02T23:47:41.711228",
     "exception": false,
     "start_time": "2023-02-02T23:47:41.701006",
     "status": "completed"
    },
    "tags": []
   },
   "source": [
    "**Note**: split the dataset into input features and labels."
   ]
  },
  {
   "cell_type": "code",
   "execution_count": 8,
   "id": "2487b3e6",
   "metadata": {
    "execution": {
     "iopub.execute_input": "2023-02-02T23:47:41.735498Z",
     "iopub.status.busy": "2023-02-02T23:47:41.735014Z",
     "iopub.status.idle": "2023-02-02T23:47:41.742662Z",
     "shell.execute_reply": "2023-02-02T23:47:41.741184Z"
    },
    "papermill": {
     "duration": 0.023468,
     "end_time": "2023-02-02T23:47:41.745552",
     "exception": false,
     "start_time": "2023-02-02T23:47:41.722084",
     "status": "completed"
    },
    "tags": []
   },
   "outputs": [],
   "source": [
    "# convert character into numerical value for easily calculate the \n",
    "df['diagnosis'] = [1 if i == 'M' else 0 for i in df['diagnosis']]"
   ]
  },
  {
   "cell_type": "code",
   "execution_count": 9,
   "id": "d921e3d8",
   "metadata": {
    "execution": {
     "iopub.execute_input": "2023-02-02T23:47:41.770649Z",
     "iopub.status.busy": "2023-02-02T23:47:41.770142Z",
     "iopub.status.idle": "2023-02-02T23:47:41.803403Z",
     "shell.execute_reply": "2023-02-02T23:47:41.802056Z"
    },
    "papermill": {
     "duration": 0.04943,
     "end_time": "2023-02-02T23:47:41.806303",
     "exception": false,
     "start_time": "2023-02-02T23:47:41.756873",
     "status": "completed"
    },
    "tags": []
   },
   "outputs": [
    {
     "data": {
      "text/html": [
       "<div>\n",
       "<style scoped>\n",
       "    .dataframe tbody tr th:only-of-type {\n",
       "        vertical-align: middle;\n",
       "    }\n",
       "\n",
       "    .dataframe tbody tr th {\n",
       "        vertical-align: top;\n",
       "    }\n",
       "\n",
       "    .dataframe thead th {\n",
       "        text-align: right;\n",
       "    }\n",
       "</style>\n",
       "<table border=\"1\" class=\"dataframe\">\n",
       "  <thead>\n",
       "    <tr style=\"text-align: right;\">\n",
       "      <th></th>\n",
       "      <th>diagnosis</th>\n",
       "      <th>radius_mean</th>\n",
       "      <th>texture_mean</th>\n",
       "      <th>perimeter_mean</th>\n",
       "      <th>area_mean</th>\n",
       "      <th>smoothness_mean</th>\n",
       "      <th>compactness_mean</th>\n",
       "      <th>concavity_mean</th>\n",
       "      <th>concave points_mean</th>\n",
       "      <th>symmetry_mean</th>\n",
       "      <th>...</th>\n",
       "      <th>radius_worst</th>\n",
       "      <th>texture_worst</th>\n",
       "      <th>perimeter_worst</th>\n",
       "      <th>area_worst</th>\n",
       "      <th>smoothness_worst</th>\n",
       "      <th>compactness_worst</th>\n",
       "      <th>concavity_worst</th>\n",
       "      <th>concave points_worst</th>\n",
       "      <th>symmetry_worst</th>\n",
       "      <th>fractal_dimension_worst</th>\n",
       "    </tr>\n",
       "  </thead>\n",
       "  <tbody>\n",
       "    <tr>\n",
       "      <th>0</th>\n",
       "      <td>1</td>\n",
       "      <td>17.99</td>\n",
       "      <td>10.38</td>\n",
       "      <td>122.80</td>\n",
       "      <td>1001.0</td>\n",
       "      <td>0.11840</td>\n",
       "      <td>0.27760</td>\n",
       "      <td>0.3001</td>\n",
       "      <td>0.14710</td>\n",
       "      <td>0.2419</td>\n",
       "      <td>...</td>\n",
       "      <td>25.38</td>\n",
       "      <td>17.33</td>\n",
       "      <td>184.60</td>\n",
       "      <td>2019.0</td>\n",
       "      <td>0.1622</td>\n",
       "      <td>0.6656</td>\n",
       "      <td>0.7119</td>\n",
       "      <td>0.2654</td>\n",
       "      <td>0.4601</td>\n",
       "      <td>0.11890</td>\n",
       "    </tr>\n",
       "    <tr>\n",
       "      <th>1</th>\n",
       "      <td>1</td>\n",
       "      <td>20.57</td>\n",
       "      <td>17.77</td>\n",
       "      <td>132.90</td>\n",
       "      <td>1326.0</td>\n",
       "      <td>0.08474</td>\n",
       "      <td>0.07864</td>\n",
       "      <td>0.0869</td>\n",
       "      <td>0.07017</td>\n",
       "      <td>0.1812</td>\n",
       "      <td>...</td>\n",
       "      <td>24.99</td>\n",
       "      <td>23.41</td>\n",
       "      <td>158.80</td>\n",
       "      <td>1956.0</td>\n",
       "      <td>0.1238</td>\n",
       "      <td>0.1866</td>\n",
       "      <td>0.2416</td>\n",
       "      <td>0.1860</td>\n",
       "      <td>0.2750</td>\n",
       "      <td>0.08902</td>\n",
       "    </tr>\n",
       "    <tr>\n",
       "      <th>2</th>\n",
       "      <td>1</td>\n",
       "      <td>19.69</td>\n",
       "      <td>21.25</td>\n",
       "      <td>130.00</td>\n",
       "      <td>1203.0</td>\n",
       "      <td>0.10960</td>\n",
       "      <td>0.15990</td>\n",
       "      <td>0.1974</td>\n",
       "      <td>0.12790</td>\n",
       "      <td>0.2069</td>\n",
       "      <td>...</td>\n",
       "      <td>23.57</td>\n",
       "      <td>25.53</td>\n",
       "      <td>152.50</td>\n",
       "      <td>1709.0</td>\n",
       "      <td>0.1444</td>\n",
       "      <td>0.4245</td>\n",
       "      <td>0.4504</td>\n",
       "      <td>0.2430</td>\n",
       "      <td>0.3613</td>\n",
       "      <td>0.08758</td>\n",
       "    </tr>\n",
       "    <tr>\n",
       "      <th>3</th>\n",
       "      <td>1</td>\n",
       "      <td>11.42</td>\n",
       "      <td>20.38</td>\n",
       "      <td>77.58</td>\n",
       "      <td>386.1</td>\n",
       "      <td>0.14250</td>\n",
       "      <td>0.28390</td>\n",
       "      <td>0.2414</td>\n",
       "      <td>0.10520</td>\n",
       "      <td>0.2597</td>\n",
       "      <td>...</td>\n",
       "      <td>14.91</td>\n",
       "      <td>26.50</td>\n",
       "      <td>98.87</td>\n",
       "      <td>567.7</td>\n",
       "      <td>0.2098</td>\n",
       "      <td>0.8663</td>\n",
       "      <td>0.6869</td>\n",
       "      <td>0.2575</td>\n",
       "      <td>0.6638</td>\n",
       "      <td>0.17300</td>\n",
       "    </tr>\n",
       "    <tr>\n",
       "      <th>4</th>\n",
       "      <td>1</td>\n",
       "      <td>20.29</td>\n",
       "      <td>14.34</td>\n",
       "      <td>135.10</td>\n",
       "      <td>1297.0</td>\n",
       "      <td>0.10030</td>\n",
       "      <td>0.13280</td>\n",
       "      <td>0.1980</td>\n",
       "      <td>0.10430</td>\n",
       "      <td>0.1809</td>\n",
       "      <td>...</td>\n",
       "      <td>22.54</td>\n",
       "      <td>16.67</td>\n",
       "      <td>152.20</td>\n",
       "      <td>1575.0</td>\n",
       "      <td>0.1374</td>\n",
       "      <td>0.2050</td>\n",
       "      <td>0.4000</td>\n",
       "      <td>0.1625</td>\n",
       "      <td>0.2364</td>\n",
       "      <td>0.07678</td>\n",
       "    </tr>\n",
       "  </tbody>\n",
       "</table>\n",
       "<p>5 rows × 31 columns</p>\n",
       "</div>"
      ],
      "text/plain": [
       "   diagnosis  radius_mean  texture_mean  perimeter_mean  area_mean  \\\n",
       "0          1        17.99         10.38          122.80     1001.0   \n",
       "1          1        20.57         17.77          132.90     1326.0   \n",
       "2          1        19.69         21.25          130.00     1203.0   \n",
       "3          1        11.42         20.38           77.58      386.1   \n",
       "4          1        20.29         14.34          135.10     1297.0   \n",
       "\n",
       "   smoothness_mean  compactness_mean  concavity_mean  concave points_mean  \\\n",
       "0          0.11840           0.27760          0.3001              0.14710   \n",
       "1          0.08474           0.07864          0.0869              0.07017   \n",
       "2          0.10960           0.15990          0.1974              0.12790   \n",
       "3          0.14250           0.28390          0.2414              0.10520   \n",
       "4          0.10030           0.13280          0.1980              0.10430   \n",
       "\n",
       "   symmetry_mean  ...  radius_worst  texture_worst  perimeter_worst  \\\n",
       "0         0.2419  ...         25.38          17.33           184.60   \n",
       "1         0.1812  ...         24.99          23.41           158.80   \n",
       "2         0.2069  ...         23.57          25.53           152.50   \n",
       "3         0.2597  ...         14.91          26.50            98.87   \n",
       "4         0.1809  ...         22.54          16.67           152.20   \n",
       "\n",
       "   area_worst  smoothness_worst  compactness_worst  concavity_worst  \\\n",
       "0      2019.0            0.1622             0.6656           0.7119   \n",
       "1      1956.0            0.1238             0.1866           0.2416   \n",
       "2      1709.0            0.1444             0.4245           0.4504   \n",
       "3       567.7            0.2098             0.8663           0.6869   \n",
       "4      1575.0            0.1374             0.2050           0.4000   \n",
       "\n",
       "   concave points_worst  symmetry_worst  fractal_dimension_worst  \n",
       "0                0.2654          0.4601                  0.11890  \n",
       "1                0.1860          0.2750                  0.08902  \n",
       "2                0.2430          0.3613                  0.08758  \n",
       "3                0.2575          0.6638                  0.17300  \n",
       "4                0.1625          0.2364                  0.07678  \n",
       "\n",
       "[5 rows x 31 columns]"
      ]
     },
     "execution_count": 9,
     "metadata": {},
     "output_type": "execute_result"
    }
   ],
   "source": [
    "df.head()"
   ]
  },
  {
   "cell_type": "code",
   "execution_count": 10,
   "id": "2af6eada",
   "metadata": {
    "execution": {
     "iopub.execute_input": "2023-02-02T23:47:41.831398Z",
     "iopub.status.busy": "2023-02-02T23:47:41.830865Z",
     "iopub.status.idle": "2023-02-02T23:47:41.838837Z",
     "shell.execute_reply": "2023-02-02T23:47:41.837371Z"
    },
    "papermill": {
     "duration": 0.02377,
     "end_time": "2023-02-02T23:47:41.841443",
     "exception": false,
     "start_time": "2023-02-02T23:47:41.817673",
     "status": "completed"
    },
    "tags": []
   },
   "outputs": [],
   "source": [
    "# split the dataset into input features and target label\n",
    "X = df.drop([\"diagnosis\"], axis=1)\n",
    "y = df['diagnosis'].to_numpy().reshape(-1, 1)"
   ]
  },
  {
   "cell_type": "code",
   "execution_count": 11,
   "id": "d2d7c92f",
   "metadata": {
    "execution": {
     "iopub.execute_input": "2023-02-02T23:47:41.866503Z",
     "iopub.status.busy": "2023-02-02T23:47:41.865977Z",
     "iopub.status.idle": "2023-02-02T23:47:41.873024Z",
     "shell.execute_reply": "2023-02-02T23:47:41.871503Z"
    },
    "papermill": {
     "duration": 0.023872,
     "end_time": "2023-02-02T23:47:41.876479",
     "exception": false,
     "start_time": "2023-02-02T23:47:41.852607",
     "status": "completed"
    },
    "tags": []
   },
   "outputs": [
    {
     "name": "stdout",
     "output_type": "stream",
     "text": [
      "(569, 30)\n",
      "(569, 1)\n"
     ]
    }
   ],
   "source": [
    "# check shapes\n",
    "print(X.shape)\n",
    "print(y.shape)"
   ]
  },
  {
   "cell_type": "code",
   "execution_count": 12,
   "id": "38557953",
   "metadata": {
    "execution": {
     "iopub.execute_input": "2023-02-02T23:47:41.902504Z",
     "iopub.status.busy": "2023-02-02T23:47:41.902000Z",
     "iopub.status.idle": "2023-02-02T23:47:41.915454Z",
     "shell.execute_reply": "2023-02-02T23:47:41.914006Z"
    },
    "papermill": {
     "duration": 0.030393,
     "end_time": "2023-02-02T23:47:41.918903",
     "exception": false,
     "start_time": "2023-02-02T23:47:41.888510",
     "status": "completed"
    },
    "tags": []
   },
   "outputs": [],
   "source": [
    "# data normalization\n",
    "X_scaler = preprocessing.MinMaxScaler(feature_range=(-1,1))\n",
    "X = X_scaler.fit_transform(X)\n",
    "\n",
    "y_scaler = preprocessing.MinMaxScaler(feature_range=(-1,1))\n",
    "y = y_scaler.fit_transform(y)"
   ]
  },
  {
   "cell_type": "code",
   "execution_count": 13,
   "id": "525486ce",
   "metadata": {
    "execution": {
     "iopub.execute_input": "2023-02-02T23:47:41.945646Z",
     "iopub.status.busy": "2023-02-02T23:47:41.945124Z",
     "iopub.status.idle": "2023-02-02T23:47:41.952814Z",
     "shell.execute_reply": "2023-02-02T23:47:41.951309Z"
    },
    "papermill": {
     "duration": 0.025487,
     "end_time": "2023-02-02T23:47:41.955981",
     "exception": false,
     "start_time": "2023-02-02T23:47:41.930494",
     "status": "completed"
    },
    "tags": []
   },
   "outputs": [],
   "source": [
    "# partition into training/test/validation \n",
    "X_train, X_test, y_train, y_test = train_test_split(X, y, test_size=0.3, random_state=0)"
   ]
  },
  {
   "cell_type": "markdown",
   "id": "e8dec416",
   "metadata": {
    "papermill": {
     "duration": 0.011168,
     "end_time": "2023-02-02T23:47:41.979216",
     "exception": false,
     "start_time": "2023-02-02T23:47:41.968048",
     "status": "completed"
    },
    "tags": []
   },
   "source": [
    "# 2. Gaussian Naive Bayes On Original Dataset"
   ]
  },
  {
   "cell_type": "code",
   "execution_count": 14,
   "id": "4c998540",
   "metadata": {
    "execution": {
     "iopub.execute_input": "2023-02-02T23:47:42.005872Z",
     "iopub.status.busy": "2023-02-02T23:47:42.004915Z",
     "iopub.status.idle": "2023-02-02T23:47:42.009899Z",
     "shell.execute_reply": "2023-02-02T23:47:42.008872Z"
    },
    "papermill": {
     "duration": 0.021432,
     "end_time": "2023-02-02T23:47:42.012539",
     "exception": false,
     "start_time": "2023-02-02T23:47:41.991107",
     "status": "completed"
    },
    "tags": []
   },
   "outputs": [],
   "source": [
    "# create model\n",
    "gnb1 = GaussianNB()"
   ]
  },
  {
   "cell_type": "code",
   "execution_count": 15,
   "id": "a18ea195",
   "metadata": {
    "execution": {
     "iopub.execute_input": "2023-02-02T23:47:42.038932Z",
     "iopub.status.busy": "2023-02-02T23:47:42.037957Z",
     "iopub.status.idle": "2023-02-02T23:47:42.055783Z",
     "shell.execute_reply": "2023-02-02T23:47:42.054183Z"
    },
    "papermill": {
     "duration": 0.034485,
     "end_time": "2023-02-02T23:47:42.058919",
     "exception": false,
     "start_time": "2023-02-02T23:47:42.024434",
     "status": "completed"
    },
    "tags": []
   },
   "outputs": [
    {
     "name": "stderr",
     "output_type": "stream",
     "text": [
      "/opt/conda/lib/python3.7/site-packages/sklearn/utils/validation.py:993: DataConversionWarning: A column-vector y was passed when a 1d array was expected. Please change the shape of y to (n_samples, ), for example using ravel().\n",
      "  y = column_or_1d(y, warn=True)\n"
     ]
    },
    {
     "data": {
      "text/plain": [
       "GaussianNB()"
      ]
     },
     "execution_count": 15,
     "metadata": {},
     "output_type": "execute_result"
    }
   ],
   "source": [
    "# train model on training dataset\n",
    "gnb1.fit(X_train, y_train)"
   ]
  },
  {
   "cell_type": "code",
   "execution_count": 16,
   "id": "a1e832b9",
   "metadata": {
    "execution": {
     "iopub.execute_input": "2023-02-02T23:47:42.085846Z",
     "iopub.status.busy": "2023-02-02T23:47:42.085305Z",
     "iopub.status.idle": "2023-02-02T23:47:42.114948Z",
     "shell.execute_reply": "2023-02-02T23:47:42.112267Z"
    },
    "papermill": {
     "duration": 0.047491,
     "end_time": "2023-02-02T23:47:42.118477",
     "exception": false,
     "start_time": "2023-02-02T23:47:42.070986",
     "status": "completed"
    },
    "tags": []
   },
   "outputs": [
    {
     "name": "stdout",
     "output_type": "stream",
     "text": [
      "Training MSE = 0.231156\n",
      "Validating MSE = 0.350877\n",
      "F1 Score = 0.883721\n",
      "Precision Score = 0.863636\n",
      "Recall Score = 0.904762\n",
      "ROC-AUC Score = 0.910714\n",
      "\n",
      "-----------------------------\n",
      "SUBMIT\n",
      "-----------------------------\n",
      "Accuracy = 0.912281\n",
      "Confusion Matrix = \n",
      "[[99  9]\n",
      " [ 6 57]]\n",
      "True Negative: 99\n",
      "False Positive: 9\n",
      "False Negative: 6\n",
      "True Positive: 57\n"
     ]
    }
   ],
   "source": [
    "# predict on validate set\n",
    "y_test_pred = gnb1.predict(X_test)\n",
    "\n",
    "# predict on train set\n",
    "y_train_pred = gnb1.predict(X_train)\n",
    "\n",
    "accuracy = metrics.accuracy_score(y_test, y_test_pred)\n",
    "f1 = metrics.f1_score(y_test, y_test_pred)\n",
    "prec = metrics.precision_score(y_test, y_test_pred)\n",
    "recall = metrics.recall_score(y_test, y_test_pred)\n",
    "roc_auc = metrics.roc_auc_score(y_test, y_test_pred)\n",
    "cm = metrics.confusion_matrix(y_test.squeeze(), y_test_pred.squeeze())\n",
    "tn, fp, fn, tp = metrics.confusion_matrix(y_test.squeeze(), y_test_pred.squeeze()).ravel()\n",
    "\n",
    "print(\"Training MSE = %f\" % metrics.mean_squared_error(y_train, y_train_pred))\n",
    "print(\"Validating MSE = %f\" % metrics.mean_squared_error(y_test, y_test_pred))\n",
    "print('F1 Score = %f' % (f1))\n",
    "print('Precision Score = %f' % (prec))\n",
    "print('Recall Score = %f' % (recall))\n",
    "print('ROC-AUC Score = %f' % (roc_auc))\n",
    "print('\\n-----------------------------')\n",
    "print('SUBMIT')\n",
    "print('-----------------------------')\n",
    "print('Accuracy = %f' % (accuracy))\n",
    "print(f'Confusion Matrix = \\n{cm}')\n",
    "print(f'True Negative: {tn}')\n",
    "print(f'False Positive: {fp}')\n",
    "print(f'False Negative: {fn}')\n",
    "print(f'True Positive: {tp}')"
   ]
  },
  {
   "cell_type": "markdown",
   "id": "81df2a33",
   "metadata": {
    "papermill": {
     "duration": 0.011292,
     "end_time": "2023-02-02T23:47:42.141848",
     "exception": false,
     "start_time": "2023-02-02T23:47:42.130556",
     "status": "completed"
    },
    "tags": []
   },
   "source": [
    "# 3. Gaussian Naive Bayes On Noisy Dataset"
   ]
  },
  {
   "cell_type": "code",
   "execution_count": 17,
   "id": "80d7930f",
   "metadata": {
    "execution": {
     "iopub.execute_input": "2023-02-02T23:47:42.168266Z",
     "iopub.status.busy": "2023-02-02T23:47:42.167726Z",
     "iopub.status.idle": "2023-02-02T23:47:42.211382Z",
     "shell.execute_reply": "2023-02-02T23:47:42.209714Z"
    },
    "papermill": {
     "duration": 0.060955,
     "end_time": "2023-02-02T23:47:42.214451",
     "exception": false,
     "start_time": "2023-02-02T23:47:42.153496",
     "status": "completed"
    },
    "tags": []
   },
   "outputs": [
    {
     "data": {
      "text/html": [
       "<div>\n",
       "<style scoped>\n",
       "    .dataframe tbody tr th:only-of-type {\n",
       "        vertical-align: middle;\n",
       "    }\n",
       "\n",
       "    .dataframe tbody tr th {\n",
       "        vertical-align: top;\n",
       "    }\n",
       "\n",
       "    .dataframe thead th {\n",
       "        text-align: right;\n",
       "    }\n",
       "</style>\n",
       "<table border=\"1\" class=\"dataframe\">\n",
       "  <thead>\n",
       "    <tr style=\"text-align: right;\">\n",
       "      <th></th>\n",
       "      <th>id</th>\n",
       "      <th>diagnosis</th>\n",
       "      <th>radius_mean</th>\n",
       "      <th>texture_mean</th>\n",
       "      <th>perimeter_mean</th>\n",
       "      <th>area_mean</th>\n",
       "      <th>smoothness_mean</th>\n",
       "      <th>compactness_mean</th>\n",
       "      <th>concavity_mean</th>\n",
       "      <th>concave points_mean</th>\n",
       "      <th>...</th>\n",
       "      <th>texture_worst</th>\n",
       "      <th>perimeter_worst</th>\n",
       "      <th>area_worst</th>\n",
       "      <th>smoothness_worst</th>\n",
       "      <th>compactness_worst</th>\n",
       "      <th>concavity_worst</th>\n",
       "      <th>concave points_worst</th>\n",
       "      <th>symmetry_worst</th>\n",
       "      <th>fractal_dimension_worst</th>\n",
       "      <th>Unnamed: 32</th>\n",
       "    </tr>\n",
       "  </thead>\n",
       "  <tbody>\n",
       "    <tr>\n",
       "      <th>0</th>\n",
       "      <td>842302</td>\n",
       "      <td>M</td>\n",
       "      <td>17.99</td>\n",
       "      <td>10.38</td>\n",
       "      <td>122.80</td>\n",
       "      <td>1001.0</td>\n",
       "      <td>0.11840</td>\n",
       "      <td>0.27760</td>\n",
       "      <td>0.3001</td>\n",
       "      <td>0.14710</td>\n",
       "      <td>...</td>\n",
       "      <td>17.33</td>\n",
       "      <td>184.60</td>\n",
       "      <td>2019.0</td>\n",
       "      <td>0.1622</td>\n",
       "      <td>0.6656</td>\n",
       "      <td>0.7119</td>\n",
       "      <td>0.2654</td>\n",
       "      <td>0.4601</td>\n",
       "      <td>0.11890</td>\n",
       "      <td>NaN</td>\n",
       "    </tr>\n",
       "    <tr>\n",
       "      <th>1</th>\n",
       "      <td>842517</td>\n",
       "      <td>M</td>\n",
       "      <td>20.57</td>\n",
       "      <td>17.77</td>\n",
       "      <td>132.90</td>\n",
       "      <td>1326.0</td>\n",
       "      <td>0.08474</td>\n",
       "      <td>0.07864</td>\n",
       "      <td>0.0869</td>\n",
       "      <td>0.07017</td>\n",
       "      <td>...</td>\n",
       "      <td>23.41</td>\n",
       "      <td>158.80</td>\n",
       "      <td>1956.0</td>\n",
       "      <td>0.1238</td>\n",
       "      <td>0.1866</td>\n",
       "      <td>0.2416</td>\n",
       "      <td>0.1860</td>\n",
       "      <td>0.2750</td>\n",
       "      <td>0.08902</td>\n",
       "      <td>NaN</td>\n",
       "    </tr>\n",
       "    <tr>\n",
       "      <th>2</th>\n",
       "      <td>84300903</td>\n",
       "      <td>M</td>\n",
       "      <td>19.69</td>\n",
       "      <td>21.25</td>\n",
       "      <td>130.00</td>\n",
       "      <td>1203.0</td>\n",
       "      <td>0.10960</td>\n",
       "      <td>0.15990</td>\n",
       "      <td>0.1974</td>\n",
       "      <td>0.12790</td>\n",
       "      <td>...</td>\n",
       "      <td>25.53</td>\n",
       "      <td>152.50</td>\n",
       "      <td>1709.0</td>\n",
       "      <td>0.1444</td>\n",
       "      <td>0.4245</td>\n",
       "      <td>0.4504</td>\n",
       "      <td>0.2430</td>\n",
       "      <td>0.3613</td>\n",
       "      <td>0.08758</td>\n",
       "      <td>NaN</td>\n",
       "    </tr>\n",
       "    <tr>\n",
       "      <th>3</th>\n",
       "      <td>84348301</td>\n",
       "      <td>M</td>\n",
       "      <td>11.42</td>\n",
       "      <td>20.38</td>\n",
       "      <td>77.58</td>\n",
       "      <td>386.1</td>\n",
       "      <td>0.14250</td>\n",
       "      <td>0.28390</td>\n",
       "      <td>0.2414</td>\n",
       "      <td>0.10520</td>\n",
       "      <td>...</td>\n",
       "      <td>26.50</td>\n",
       "      <td>98.87</td>\n",
       "      <td>567.7</td>\n",
       "      <td>0.2098</td>\n",
       "      <td>0.8663</td>\n",
       "      <td>0.6869</td>\n",
       "      <td>0.2575</td>\n",
       "      <td>0.6638</td>\n",
       "      <td>0.17300</td>\n",
       "      <td>NaN</td>\n",
       "    </tr>\n",
       "    <tr>\n",
       "      <th>4</th>\n",
       "      <td>84358402</td>\n",
       "      <td>M</td>\n",
       "      <td>20.29</td>\n",
       "      <td>14.34</td>\n",
       "      <td>135.10</td>\n",
       "      <td>1297.0</td>\n",
       "      <td>0.10030</td>\n",
       "      <td>0.13280</td>\n",
       "      <td>0.1980</td>\n",
       "      <td>0.10430</td>\n",
       "      <td>...</td>\n",
       "      <td>16.67</td>\n",
       "      <td>152.20</td>\n",
       "      <td>1575.0</td>\n",
       "      <td>0.1374</td>\n",
       "      <td>0.2050</td>\n",
       "      <td>0.4000</td>\n",
       "      <td>0.1625</td>\n",
       "      <td>0.2364</td>\n",
       "      <td>0.07678</td>\n",
       "      <td>NaN</td>\n",
       "    </tr>\n",
       "  </tbody>\n",
       "</table>\n",
       "<p>5 rows × 33 columns</p>\n",
       "</div>"
      ],
      "text/plain": [
       "         id diagnosis  radius_mean  texture_mean  perimeter_mean  area_mean  \\\n",
       "0    842302         M        17.99         10.38          122.80     1001.0   \n",
       "1    842517         M        20.57         17.77          132.90     1326.0   \n",
       "2  84300903         M        19.69         21.25          130.00     1203.0   \n",
       "3  84348301         M        11.42         20.38           77.58      386.1   \n",
       "4  84358402         M        20.29         14.34          135.10     1297.0   \n",
       "\n",
       "   smoothness_mean  compactness_mean  concavity_mean  concave points_mean  \\\n",
       "0          0.11840           0.27760          0.3001              0.14710   \n",
       "1          0.08474           0.07864          0.0869              0.07017   \n",
       "2          0.10960           0.15990          0.1974              0.12790   \n",
       "3          0.14250           0.28390          0.2414              0.10520   \n",
       "4          0.10030           0.13280          0.1980              0.10430   \n",
       "\n",
       "   ...  texture_worst  perimeter_worst  area_worst  smoothness_worst  \\\n",
       "0  ...          17.33           184.60      2019.0            0.1622   \n",
       "1  ...          23.41           158.80      1956.0            0.1238   \n",
       "2  ...          25.53           152.50      1709.0            0.1444   \n",
       "3  ...          26.50            98.87       567.7            0.2098   \n",
       "4  ...          16.67           152.20      1575.0            0.1374   \n",
       "\n",
       "   compactness_worst  concavity_worst  concave points_worst  symmetry_worst  \\\n",
       "0             0.6656           0.7119                0.2654          0.4601   \n",
       "1             0.1866           0.2416                0.1860          0.2750   \n",
       "2             0.4245           0.4504                0.2430          0.3613   \n",
       "3             0.8663           0.6869                0.2575          0.6638   \n",
       "4             0.2050           0.4000                0.1625          0.2364   \n",
       "\n",
       "   fractal_dimension_worst  Unnamed: 32  \n",
       "0                  0.11890          NaN  \n",
       "1                  0.08902          NaN  \n",
       "2                  0.08758          NaN  \n",
       "3                  0.17300          NaN  \n",
       "4                  0.07678          NaN  \n",
       "\n",
       "[5 rows x 33 columns]"
      ]
     },
     "execution_count": 17,
     "metadata": {},
     "output_type": "execute_result"
    }
   ],
   "source": [
    "# re-import dataset\n",
    "df = pd.read_csv(\"/kaggle/input/breast-cancer-wisconsin-data/data.csv\")\n",
    "df.head()"
   ]
  },
  {
   "cell_type": "code",
   "execution_count": 18,
   "id": "2b37ac61",
   "metadata": {
    "execution": {
     "iopub.execute_input": "2023-02-02T23:47:42.241927Z",
     "iopub.status.busy": "2023-02-02T23:47:42.240850Z",
     "iopub.status.idle": "2023-02-02T23:47:42.249533Z",
     "shell.execute_reply": "2023-02-02T23:47:42.248425Z"
    },
    "papermill": {
     "duration": 0.025829,
     "end_time": "2023-02-02T23:47:42.252437",
     "exception": false,
     "start_time": "2023-02-02T23:47:42.226608",
     "status": "completed"
    },
    "tags": []
   },
   "outputs": [],
   "source": [
    "# drop columns\n",
    "df = df.drop(['id'], axis=1)\n",
    "df = df.drop(['Unnamed: 32'], axis=1)"
   ]
  },
  {
   "cell_type": "code",
   "execution_count": 19,
   "id": "6180989b",
   "metadata": {
    "execution": {
     "iopub.execute_input": "2023-02-02T23:47:42.280898Z",
     "iopub.status.busy": "2023-02-02T23:47:42.279449Z",
     "iopub.status.idle": "2023-02-02T23:47:42.288842Z",
     "shell.execute_reply": "2023-02-02T23:47:42.287229Z"
    },
    "papermill": {
     "duration": 0.026561,
     "end_time": "2023-02-02T23:47:42.292336",
     "exception": false,
     "start_time": "2023-02-02T23:47:42.265775",
     "status": "completed"
    },
    "tags": []
   },
   "outputs": [],
   "source": [
    "# convert character into numerical value for easily calculate the \n",
    "df['diagnosis'] = [1 if i == 'M' else 0 for i in df['diagnosis']]"
   ]
  },
  {
   "cell_type": "code",
   "execution_count": 20,
   "id": "b511773a",
   "metadata": {
    "execution": {
     "iopub.execute_input": "2023-02-02T23:47:42.319373Z",
     "iopub.status.busy": "2023-02-02T23:47:42.318890Z",
     "iopub.status.idle": "2023-02-02T23:47:42.327552Z",
     "shell.execute_reply": "2023-02-02T23:47:42.325722Z"
    },
    "papermill": {
     "duration": 0.025991,
     "end_time": "2023-02-02T23:47:42.330780",
     "exception": false,
     "start_time": "2023-02-02T23:47:42.304789",
     "status": "completed"
    },
    "tags": []
   },
   "outputs": [],
   "source": [
    "# split the dataset into input features and target label\n",
    "X = df.drop([\"diagnosis\"], axis=1)\n",
    "y = df['diagnosis'].to_numpy().reshape(-1, 1)"
   ]
  },
  {
   "cell_type": "code",
   "execution_count": 21,
   "id": "cdb223af",
   "metadata": {
    "execution": {
     "iopub.execute_input": "2023-02-02T23:47:42.358659Z",
     "iopub.status.busy": "2023-02-02T23:47:42.358144Z",
     "iopub.status.idle": "2023-02-02T23:47:42.365502Z",
     "shell.execute_reply": "2023-02-02T23:47:42.363655Z"
    },
    "papermill": {
     "duration": 0.025455,
     "end_time": "2023-02-02T23:47:42.368769",
     "exception": false,
     "start_time": "2023-02-02T23:47:42.343314",
     "status": "completed"
    },
    "tags": []
   },
   "outputs": [
    {
     "name": "stdout",
     "output_type": "stream",
     "text": [
      "(569, 30)\n",
      "(569, 1)\n"
     ]
    }
   ],
   "source": [
    "# check shapes\n",
    "print(X.shape)\n",
    "print(y.shape)"
   ]
  },
  {
   "cell_type": "code",
   "execution_count": 22,
   "id": "1229e842",
   "metadata": {
    "execution": {
     "iopub.execute_input": "2023-02-02T23:47:42.398074Z",
     "iopub.status.busy": "2023-02-02T23:47:42.397472Z",
     "iopub.status.idle": "2023-02-02T23:47:42.434909Z",
     "shell.execute_reply": "2023-02-02T23:47:42.432987Z"
    },
    "papermill": {
     "duration": 0.056492,
     "end_time": "2023-02-02T23:47:42.439274",
     "exception": false,
     "start_time": "2023-02-02T23:47:42.382782",
     "status": "completed"
    },
    "tags": []
   },
   "outputs": [
    {
     "data": {
      "text/html": [
       "<div>\n",
       "<style scoped>\n",
       "    .dataframe tbody tr th:only-of-type {\n",
       "        vertical-align: middle;\n",
       "    }\n",
       "\n",
       "    .dataframe tbody tr th {\n",
       "        vertical-align: top;\n",
       "    }\n",
       "\n",
       "    .dataframe thead th {\n",
       "        text-align: right;\n",
       "    }\n",
       "</style>\n",
       "<table border=\"1\" class=\"dataframe\">\n",
       "  <thead>\n",
       "    <tr style=\"text-align: right;\">\n",
       "      <th></th>\n",
       "      <th>radius_mean</th>\n",
       "      <th>texture_mean</th>\n",
       "      <th>perimeter_mean</th>\n",
       "      <th>area_mean</th>\n",
       "      <th>smoothness_mean</th>\n",
       "      <th>compactness_mean</th>\n",
       "      <th>concavity_mean</th>\n",
       "      <th>concave points_mean</th>\n",
       "      <th>symmetry_mean</th>\n",
       "      <th>fractal_dimension_mean</th>\n",
       "      <th>...</th>\n",
       "      <th>radius_worst</th>\n",
       "      <th>texture_worst</th>\n",
       "      <th>perimeter_worst</th>\n",
       "      <th>area_worst</th>\n",
       "      <th>smoothness_worst</th>\n",
       "      <th>compactness_worst</th>\n",
       "      <th>concavity_worst</th>\n",
       "      <th>concave points_worst</th>\n",
       "      <th>symmetry_worst</th>\n",
       "      <th>fractal_dimension_worst</th>\n",
       "    </tr>\n",
       "  </thead>\n",
       "  <tbody>\n",
       "    <tr>\n",
       "      <th>0</th>\n",
       "      <td>17.99</td>\n",
       "      <td>10.38</td>\n",
       "      <td>122.80</td>\n",
       "      <td>1001.0</td>\n",
       "      <td>0.11840</td>\n",
       "      <td>0.27760</td>\n",
       "      <td>0.3001</td>\n",
       "      <td>0.14710</td>\n",
       "      <td>0.2419</td>\n",
       "      <td>0.07871</td>\n",
       "      <td>...</td>\n",
       "      <td>25.38</td>\n",
       "      <td>17.33</td>\n",
       "      <td>184.60</td>\n",
       "      <td>2019.0</td>\n",
       "      <td>0.1622</td>\n",
       "      <td>0.6656</td>\n",
       "      <td>0.7119</td>\n",
       "      <td>0.2654</td>\n",
       "      <td>0.4601</td>\n",
       "      <td>0.11890</td>\n",
       "    </tr>\n",
       "    <tr>\n",
       "      <th>1</th>\n",
       "      <td>20.57</td>\n",
       "      <td>17.77</td>\n",
       "      <td>132.90</td>\n",
       "      <td>1326.0</td>\n",
       "      <td>0.08474</td>\n",
       "      <td>0.07864</td>\n",
       "      <td>0.0869</td>\n",
       "      <td>0.07017</td>\n",
       "      <td>0.1812</td>\n",
       "      <td>0.05667</td>\n",
       "      <td>...</td>\n",
       "      <td>24.99</td>\n",
       "      <td>23.41</td>\n",
       "      <td>158.80</td>\n",
       "      <td>1956.0</td>\n",
       "      <td>0.1238</td>\n",
       "      <td>0.1866</td>\n",
       "      <td>0.2416</td>\n",
       "      <td>0.1860</td>\n",
       "      <td>0.2750</td>\n",
       "      <td>0.08902</td>\n",
       "    </tr>\n",
       "    <tr>\n",
       "      <th>2</th>\n",
       "      <td>19.69</td>\n",
       "      <td>21.25</td>\n",
       "      <td>130.00</td>\n",
       "      <td>1203.0</td>\n",
       "      <td>0.10960</td>\n",
       "      <td>0.15990</td>\n",
       "      <td>0.1974</td>\n",
       "      <td>0.12790</td>\n",
       "      <td>0.2069</td>\n",
       "      <td>0.05999</td>\n",
       "      <td>...</td>\n",
       "      <td>23.57</td>\n",
       "      <td>25.53</td>\n",
       "      <td>152.50</td>\n",
       "      <td>1709.0</td>\n",
       "      <td>0.1444</td>\n",
       "      <td>0.4245</td>\n",
       "      <td>0.4504</td>\n",
       "      <td>0.2430</td>\n",
       "      <td>0.3613</td>\n",
       "      <td>0.08758</td>\n",
       "    </tr>\n",
       "    <tr>\n",
       "      <th>3</th>\n",
       "      <td>11.42</td>\n",
       "      <td>20.38</td>\n",
       "      <td>77.58</td>\n",
       "      <td>386.1</td>\n",
       "      <td>0.14250</td>\n",
       "      <td>0.28390</td>\n",
       "      <td>0.2414</td>\n",
       "      <td>0.10520</td>\n",
       "      <td>0.2597</td>\n",
       "      <td>0.09744</td>\n",
       "      <td>...</td>\n",
       "      <td>14.91</td>\n",
       "      <td>26.50</td>\n",
       "      <td>98.87</td>\n",
       "      <td>567.7</td>\n",
       "      <td>0.2098</td>\n",
       "      <td>0.8663</td>\n",
       "      <td>0.6869</td>\n",
       "      <td>0.2575</td>\n",
       "      <td>0.6638</td>\n",
       "      <td>0.17300</td>\n",
       "    </tr>\n",
       "    <tr>\n",
       "      <th>4</th>\n",
       "      <td>20.29</td>\n",
       "      <td>14.34</td>\n",
       "      <td>135.10</td>\n",
       "      <td>1297.0</td>\n",
       "      <td>0.10030</td>\n",
       "      <td>0.13280</td>\n",
       "      <td>0.1980</td>\n",
       "      <td>0.10430</td>\n",
       "      <td>0.1809</td>\n",
       "      <td>0.05883</td>\n",
       "      <td>...</td>\n",
       "      <td>22.54</td>\n",
       "      <td>16.67</td>\n",
       "      <td>152.20</td>\n",
       "      <td>1575.0</td>\n",
       "      <td>0.1374</td>\n",
       "      <td>0.2050</td>\n",
       "      <td>0.4000</td>\n",
       "      <td>0.1625</td>\n",
       "      <td>0.2364</td>\n",
       "      <td>0.07678</td>\n",
       "    </tr>\n",
       "  </tbody>\n",
       "</table>\n",
       "<p>5 rows × 30 columns</p>\n",
       "</div>"
      ],
      "text/plain": [
       "   radius_mean  texture_mean  perimeter_mean  area_mean  smoothness_mean  \\\n",
       "0        17.99         10.38          122.80     1001.0          0.11840   \n",
       "1        20.57         17.77          132.90     1326.0          0.08474   \n",
       "2        19.69         21.25          130.00     1203.0          0.10960   \n",
       "3        11.42         20.38           77.58      386.1          0.14250   \n",
       "4        20.29         14.34          135.10     1297.0          0.10030   \n",
       "\n",
       "   compactness_mean  concavity_mean  concave points_mean  symmetry_mean  \\\n",
       "0           0.27760          0.3001              0.14710         0.2419   \n",
       "1           0.07864          0.0869              0.07017         0.1812   \n",
       "2           0.15990          0.1974              0.12790         0.2069   \n",
       "3           0.28390          0.2414              0.10520         0.2597   \n",
       "4           0.13280          0.1980              0.10430         0.1809   \n",
       "\n",
       "   fractal_dimension_mean  ...  radius_worst  texture_worst  perimeter_worst  \\\n",
       "0                 0.07871  ...         25.38          17.33           184.60   \n",
       "1                 0.05667  ...         24.99          23.41           158.80   \n",
       "2                 0.05999  ...         23.57          25.53           152.50   \n",
       "3                 0.09744  ...         14.91          26.50            98.87   \n",
       "4                 0.05883  ...         22.54          16.67           152.20   \n",
       "\n",
       "   area_worst  smoothness_worst  compactness_worst  concavity_worst  \\\n",
       "0      2019.0            0.1622             0.6656           0.7119   \n",
       "1      1956.0            0.1238             0.1866           0.2416   \n",
       "2      1709.0            0.1444             0.4245           0.4504   \n",
       "3       567.7            0.2098             0.8663           0.6869   \n",
       "4      1575.0            0.1374             0.2050           0.4000   \n",
       "\n",
       "   concave points_worst  symmetry_worst  fractal_dimension_worst  \n",
       "0                0.2654          0.4601                  0.11890  \n",
       "1                0.1860          0.2750                  0.08902  \n",
       "2                0.2430          0.3613                  0.08758  \n",
       "3                0.2575          0.6638                  0.17300  \n",
       "4                0.1625          0.2364                  0.07678  \n",
       "\n",
       "[5 rows x 30 columns]"
      ]
     },
     "execution_count": 22,
     "metadata": {},
     "output_type": "execute_result"
    }
   ],
   "source": [
    "X.head()"
   ]
  },
  {
   "cell_type": "code",
   "execution_count": 23,
   "id": "ccce9873",
   "metadata": {
    "execution": {
     "iopub.execute_input": "2023-02-02T23:47:42.469561Z",
     "iopub.status.busy": "2023-02-02T23:47:42.469063Z",
     "iopub.status.idle": "2023-02-02T23:47:42.481870Z",
     "shell.execute_reply": "2023-02-02T23:47:42.480474Z"
    },
    "papermill": {
     "duration": 0.031608,
     "end_time": "2023-02-02T23:47:42.485043",
     "exception": false,
     "start_time": "2023-02-02T23:47:42.453435",
     "status": "completed"
    },
    "tags": []
   },
   "outputs": [],
   "source": [
    "# create noisy Gaussian-distributed noisy data with same matrix size\n",
    "# Reference: https://stackoverflow.com/questions/46093073/adding-gaussian-noise-to-a-dataset-of-floating-points-and-save-it-python\n",
    "\n",
    "# zero-mean noise with variance 50\n",
    "noise_1 = np.random.normal(loc=0, scale=math.sqrt(50), size=[569, 30]) \n",
    "\n",
    "# zero-mean noise with variance 100\n",
    "noise_2 = np.random.normal(loc=0, scale=math.sqrt(100), size=[569, 30]) \n",
    "\n",
    "# zero-mean noise with variance 200\n",
    "noise_3 = np.random.normal(loc=0, scale=math.sqrt(200), size=[569, 30]) \n",
    "\n",
    "# zero-mean noise with variance 400\n",
    "noise_4 = np.random.normal(loc=0, scale=math.sqrt(400), size=[569, 30]) \n",
    "\n",
    "# zero-mean noise with variance 800\n",
    "noise_5 = np.random.normal(loc=0, scale=math.sqrt(800), size=[569, 30]) "
   ]
  },
  {
   "cell_type": "code",
   "execution_count": 24,
   "id": "f2b3f902",
   "metadata": {
    "execution": {
     "iopub.execute_input": "2023-02-02T23:47:42.514104Z",
     "iopub.status.busy": "2023-02-02T23:47:42.513505Z",
     "iopub.status.idle": "2023-02-02T23:47:42.523892Z",
     "shell.execute_reply": "2023-02-02T23:47:42.522356Z"
    },
    "papermill": {
     "duration": 0.028774,
     "end_time": "2023-02-02T23:47:42.527676",
     "exception": false,
     "start_time": "2023-02-02T23:47:42.498902",
     "status": "completed"
    },
    "tags": []
   },
   "outputs": [],
   "source": [
    "# add 5 gaussian noise to dataset\n",
    "X = X + noise_1 + noise_2 + noise_3 + noise_4 + noise_5"
   ]
  },
  {
   "cell_type": "code",
   "execution_count": 25,
   "id": "af2f08fb",
   "metadata": {
    "execution": {
     "iopub.execute_input": "2023-02-02T23:47:42.556520Z",
     "iopub.status.busy": "2023-02-02T23:47:42.555988Z",
     "iopub.status.idle": "2023-02-02T23:47:42.585622Z",
     "shell.execute_reply": "2023-02-02T23:47:42.584380Z"
    },
    "papermill": {
     "duration": 0.046564,
     "end_time": "2023-02-02T23:47:42.588316",
     "exception": false,
     "start_time": "2023-02-02T23:47:42.541752",
     "status": "completed"
    },
    "tags": []
   },
   "outputs": [
    {
     "data": {
      "text/html": [
       "<div>\n",
       "<style scoped>\n",
       "    .dataframe tbody tr th:only-of-type {\n",
       "        vertical-align: middle;\n",
       "    }\n",
       "\n",
       "    .dataframe tbody tr th {\n",
       "        vertical-align: top;\n",
       "    }\n",
       "\n",
       "    .dataframe thead th {\n",
       "        text-align: right;\n",
       "    }\n",
       "</style>\n",
       "<table border=\"1\" class=\"dataframe\">\n",
       "  <thead>\n",
       "    <tr style=\"text-align: right;\">\n",
       "      <th></th>\n",
       "      <th>radius_mean</th>\n",
       "      <th>texture_mean</th>\n",
       "      <th>perimeter_mean</th>\n",
       "      <th>area_mean</th>\n",
       "      <th>smoothness_mean</th>\n",
       "      <th>compactness_mean</th>\n",
       "      <th>concavity_mean</th>\n",
       "      <th>concave points_mean</th>\n",
       "      <th>symmetry_mean</th>\n",
       "      <th>fractal_dimension_mean</th>\n",
       "      <th>...</th>\n",
       "      <th>radius_worst</th>\n",
       "      <th>texture_worst</th>\n",
       "      <th>perimeter_worst</th>\n",
       "      <th>area_worst</th>\n",
       "      <th>smoothness_worst</th>\n",
       "      <th>compactness_worst</th>\n",
       "      <th>concavity_worst</th>\n",
       "      <th>concave points_worst</th>\n",
       "      <th>symmetry_worst</th>\n",
       "      <th>fractal_dimension_worst</th>\n",
       "    </tr>\n",
       "  </thead>\n",
       "  <tbody>\n",
       "    <tr>\n",
       "      <th>0</th>\n",
       "      <td>-21.553904</td>\n",
       "      <td>40.840750</td>\n",
       "      <td>163.421443</td>\n",
       "      <td>1015.809581</td>\n",
       "      <td>3.588585</td>\n",
       "      <td>74.462159</td>\n",
       "      <td>-4.088164</td>\n",
       "      <td>-12.374893</td>\n",
       "      <td>34.123656</td>\n",
       "      <td>-7.204060</td>\n",
       "      <td>...</td>\n",
       "      <td>-16.850051</td>\n",
       "      <td>64.314894</td>\n",
       "      <td>219.918855</td>\n",
       "      <td>2036.192265</td>\n",
       "      <td>4.792171</td>\n",
       "      <td>-33.747437</td>\n",
       "      <td>104.817107</td>\n",
       "      <td>-29.882232</td>\n",
       "      <td>-18.509291</td>\n",
       "      <td>-24.540838</td>\n",
       "    </tr>\n",
       "    <tr>\n",
       "      <th>1</th>\n",
       "      <td>-2.358596</td>\n",
       "      <td>21.166737</td>\n",
       "      <td>114.868824</td>\n",
       "      <td>1329.105436</td>\n",
       "      <td>-31.579756</td>\n",
       "      <td>-9.003749</td>\n",
       "      <td>84.858299</td>\n",
       "      <td>-25.473463</td>\n",
       "      <td>43.715556</td>\n",
       "      <td>-40.287006</td>\n",
       "      <td>...</td>\n",
       "      <td>42.236764</td>\n",
       "      <td>30.838591</td>\n",
       "      <td>151.597160</td>\n",
       "      <td>1930.474831</td>\n",
       "      <td>-7.614350</td>\n",
       "      <td>10.067797</td>\n",
       "      <td>1.726801</td>\n",
       "      <td>-2.096906</td>\n",
       "      <td>40.854021</td>\n",
       "      <td>20.754918</td>\n",
       "    </tr>\n",
       "    <tr>\n",
       "      <th>2</th>\n",
       "      <td>30.378836</td>\n",
       "      <td>26.353586</td>\n",
       "      <td>139.339732</td>\n",
       "      <td>1195.619362</td>\n",
       "      <td>-33.641754</td>\n",
       "      <td>-21.733314</td>\n",
       "      <td>50.954105</td>\n",
       "      <td>18.923826</td>\n",
       "      <td>-27.860686</td>\n",
       "      <td>36.805859</td>\n",
       "      <td>...</td>\n",
       "      <td>23.806316</td>\n",
       "      <td>-11.520292</td>\n",
       "      <td>174.742807</td>\n",
       "      <td>1748.900988</td>\n",
       "      <td>85.533322</td>\n",
       "      <td>16.937244</td>\n",
       "      <td>22.734269</td>\n",
       "      <td>66.753494</td>\n",
       "      <td>-56.247728</td>\n",
       "      <td>8.666895</td>\n",
       "    </tr>\n",
       "    <tr>\n",
       "      <th>3</th>\n",
       "      <td>45.894561</td>\n",
       "      <td>94.822800</td>\n",
       "      <td>71.837186</td>\n",
       "      <td>362.598815</td>\n",
       "      <td>27.969064</td>\n",
       "      <td>36.031836</td>\n",
       "      <td>-1.784961</td>\n",
       "      <td>43.757330</td>\n",
       "      <td>19.199819</td>\n",
       "      <td>-18.941119</td>\n",
       "      <td>...</td>\n",
       "      <td>88.272751</td>\n",
       "      <td>-58.272072</td>\n",
       "      <td>169.792312</td>\n",
       "      <td>612.702249</td>\n",
       "      <td>54.255899</td>\n",
       "      <td>-2.536026</td>\n",
       "      <td>41.543077</td>\n",
       "      <td>-56.178439</td>\n",
       "      <td>-23.078561</td>\n",
       "      <td>-4.181115</td>\n",
       "    </tr>\n",
       "    <tr>\n",
       "      <th>4</th>\n",
       "      <td>73.443581</td>\n",
       "      <td>25.977894</td>\n",
       "      <td>98.710393</td>\n",
       "      <td>1272.891106</td>\n",
       "      <td>-75.201594</td>\n",
       "      <td>41.871077</td>\n",
       "      <td>-38.834791</td>\n",
       "      <td>-0.289698</td>\n",
       "      <td>-40.228888</td>\n",
       "      <td>-18.435888</td>\n",
       "      <td>...</td>\n",
       "      <td>23.954268</td>\n",
       "      <td>50.230243</td>\n",
       "      <td>172.730498</td>\n",
       "      <td>1551.506417</td>\n",
       "      <td>-31.836983</td>\n",
       "      <td>33.635894</td>\n",
       "      <td>-11.763142</td>\n",
       "      <td>12.237814</td>\n",
       "      <td>-28.413821</td>\n",
       "      <td>25.583826</td>\n",
       "    </tr>\n",
       "  </tbody>\n",
       "</table>\n",
       "<p>5 rows × 30 columns</p>\n",
       "</div>"
      ],
      "text/plain": [
       "   radius_mean  texture_mean  perimeter_mean    area_mean  smoothness_mean  \\\n",
       "0   -21.553904     40.840750      163.421443  1015.809581         3.588585   \n",
       "1    -2.358596     21.166737      114.868824  1329.105436       -31.579756   \n",
       "2    30.378836     26.353586      139.339732  1195.619362       -33.641754   \n",
       "3    45.894561     94.822800       71.837186   362.598815        27.969064   \n",
       "4    73.443581     25.977894       98.710393  1272.891106       -75.201594   \n",
       "\n",
       "   compactness_mean  concavity_mean  concave points_mean  symmetry_mean  \\\n",
       "0         74.462159       -4.088164           -12.374893      34.123656   \n",
       "1         -9.003749       84.858299           -25.473463      43.715556   \n",
       "2        -21.733314       50.954105            18.923826     -27.860686   \n",
       "3         36.031836       -1.784961            43.757330      19.199819   \n",
       "4         41.871077      -38.834791            -0.289698     -40.228888   \n",
       "\n",
       "   fractal_dimension_mean  ...  radius_worst  texture_worst  perimeter_worst  \\\n",
       "0               -7.204060  ...    -16.850051      64.314894       219.918855   \n",
       "1              -40.287006  ...     42.236764      30.838591       151.597160   \n",
       "2               36.805859  ...     23.806316     -11.520292       174.742807   \n",
       "3              -18.941119  ...     88.272751     -58.272072       169.792312   \n",
       "4              -18.435888  ...     23.954268      50.230243       172.730498   \n",
       "\n",
       "    area_worst  smoothness_worst  compactness_worst  concavity_worst  \\\n",
       "0  2036.192265          4.792171         -33.747437       104.817107   \n",
       "1  1930.474831         -7.614350          10.067797         1.726801   \n",
       "2  1748.900988         85.533322          16.937244        22.734269   \n",
       "3   612.702249         54.255899          -2.536026        41.543077   \n",
       "4  1551.506417        -31.836983          33.635894       -11.763142   \n",
       "\n",
       "   concave points_worst  symmetry_worst  fractal_dimension_worst  \n",
       "0            -29.882232      -18.509291               -24.540838  \n",
       "1             -2.096906       40.854021                20.754918  \n",
       "2             66.753494      -56.247728                 8.666895  \n",
       "3            -56.178439      -23.078561                -4.181115  \n",
       "4             12.237814      -28.413821                25.583826  \n",
       "\n",
       "[5 rows x 30 columns]"
      ]
     },
     "execution_count": 25,
     "metadata": {},
     "output_type": "execute_result"
    }
   ],
   "source": [
    "# view dataset\n",
    "X.head()"
   ]
  },
  {
   "cell_type": "markdown",
   "id": "07d12479",
   "metadata": {
    "papermill": {
     "duration": 0.012023,
     "end_time": "2023-02-02T23:47:42.614444",
     "exception": false,
     "start_time": "2023-02-02T23:47:42.602421",
     "status": "completed"
    },
    "tags": []
   },
   "source": [
    "## 3.1. Data Visualization"
   ]
  },
  {
   "cell_type": "code",
   "execution_count": 26,
   "id": "7905b01a",
   "metadata": {
    "execution": {
     "iopub.execute_input": "2023-02-02T23:47:42.643846Z",
     "iopub.status.busy": "2023-02-02T23:47:42.643290Z",
     "iopub.status.idle": "2023-02-02T23:47:42.944195Z",
     "shell.execute_reply": "2023-02-02T23:47:42.942734Z"
    },
    "papermill": {
     "duration": 0.319954,
     "end_time": "2023-02-02T23:47:42.947491",
     "exception": false,
     "start_time": "2023-02-02T23:47:42.627537",
     "status": "completed"
    },
    "tags": []
   },
   "outputs": [
    {
     "data": {
      "image/png": "[encoded data removed]",
      "text/plain": [
       "<Figure size 432x288 with 1 Axes>"
      ]
     },
     "metadata": {
      "needs_background": "light"
     },
     "output_type": "display_data"
    }
   ],
   "source": [
    "# plot the distribution of points\n",
    "plt.title(\"Malignant Radius & Texture Data Distribution\")\n",
    "X['radius_mean'].plot(kind='kde')\n",
    "X['texture_mean'].plot(kind='kde')\n",
    "plt.legend()\n",
    "plt.show()"
   ]
  },
  {
   "cell_type": "markdown",
   "id": "56328457",
   "metadata": {
    "papermill": {
     "duration": 0.013838,
     "end_time": "2023-02-02T23:47:42.976343",
     "exception": false,
     "start_time": "2023-02-02T23:47:42.962505",
     "status": "completed"
    },
    "tags": []
   },
   "source": [
    "## 3.2. Data Processing"
   ]
  },
  {
   "cell_type": "code",
   "execution_count": 27,
   "id": "a8e549aa",
   "metadata": {
    "execution": {
     "iopub.execute_input": "2023-02-02T23:47:43.005926Z",
     "iopub.status.busy": "2023-02-02T23:47:43.005168Z",
     "iopub.status.idle": "2023-02-02T23:47:43.019339Z",
     "shell.execute_reply": "2023-02-02T23:47:43.017589Z"
    },
    "papermill": {
     "duration": 0.032718,
     "end_time": "2023-02-02T23:47:43.022723",
     "exception": false,
     "start_time": "2023-02-02T23:47:42.990005",
     "status": "completed"
    },
    "tags": []
   },
   "outputs": [],
   "source": [
    "# data normalization\n",
    "X_scaler = preprocessing.MinMaxScaler(feature_range=(-1,1))\n",
    "X = X_scaler.fit_transform(X)\n",
    "\n",
    "y_scaler = preprocessing.MinMaxScaler(feature_range=(-1,1))\n",
    "y = y_scaler.fit_transform(y)"
   ]
  },
  {
   "cell_type": "markdown",
   "id": "bde7d922",
   "metadata": {
    "papermill": {
     "duration": 0.012332,
     "end_time": "2023-02-02T23:47:43.048983",
     "exception": false,
     "start_time": "2023-02-02T23:47:43.036651",
     "status": "completed"
    },
    "tags": []
   },
   "source": [
    "## 3.3. Modeling"
   ]
  },
  {
   "cell_type": "code",
   "execution_count": 28,
   "id": "aba830ee",
   "metadata": {
    "execution": {
     "iopub.execute_input": "2023-02-02T23:47:43.077354Z",
     "iopub.status.busy": "2023-02-02T23:47:43.076788Z",
     "iopub.status.idle": "2023-02-02T23:47:43.083253Z",
     "shell.execute_reply": "2023-02-02T23:47:43.081494Z"
    },
    "papermill": {
     "duration": 0.024122,
     "end_time": "2023-02-02T23:47:43.086226",
     "exception": false,
     "start_time": "2023-02-02T23:47:43.062104",
     "status": "completed"
    },
    "tags": []
   },
   "outputs": [],
   "source": [
    "# create model\n",
    "gnb2 = GaussianNB()"
   ]
  },
  {
   "cell_type": "code",
   "execution_count": 29,
   "id": "ab6e263a",
   "metadata": {
    "execution": {
     "iopub.execute_input": "2023-02-02T23:47:43.114911Z",
     "iopub.status.busy": "2023-02-02T23:47:43.114325Z",
     "iopub.status.idle": "2023-02-02T23:47:43.128920Z",
     "shell.execute_reply": "2023-02-02T23:47:43.127078Z"
    },
    "papermill": {
     "duration": 0.03358,
     "end_time": "2023-02-02T23:47:43.133036",
     "exception": false,
     "start_time": "2023-02-02T23:47:43.099456",
     "status": "completed"
    },
    "tags": []
   },
   "outputs": [
    {
     "name": "stderr",
     "output_type": "stream",
     "text": [
      "/opt/conda/lib/python3.7/site-packages/sklearn/utils/validation.py:993: DataConversionWarning: A column-vector y was passed when a 1d array was expected. Please change the shape of y to (n_samples, ), for example using ravel().\n",
      "  y = column_or_1d(y, warn=True)\n"
     ]
    },
    {
     "data": {
      "text/plain": [
       "GaussianNB()"
      ]
     },
     "execution_count": 29,
     "metadata": {},
     "output_type": "execute_result"
    }
   ],
   "source": [
    "# train model on training dataset\n",
    "gnb2.fit(X_train, y_train)"
   ]
  },
  {
   "cell_type": "code",
   "execution_count": 30,
   "id": "b3e9c93f",
   "metadata": {
    "execution": {
     "iopub.execute_input": "2023-02-02T23:47:43.162787Z",
     "iopub.status.busy": "2023-02-02T23:47:43.162208Z",
     "iopub.status.idle": "2023-02-02T23:47:43.187769Z",
     "shell.execute_reply": "2023-02-02T23:47:43.185483Z"
    },
    "papermill": {
     "duration": 0.044692,
     "end_time": "2023-02-02T23:47:43.191668",
     "exception": false,
     "start_time": "2023-02-02T23:47:43.146976",
     "status": "completed"
    },
    "tags": []
   },
   "outputs": [
    {
     "name": "stdout",
     "output_type": "stream",
     "text": [
      "Training MSE = 0.231156\n",
      "Validating MSE = 0.350877\n",
      "F1 Score = 0.883721\n",
      "Precision Score = 0.863636\n",
      "Recall Score = 0.904762\n",
      "ROC-AUC Score = 0.910714\n",
      "\n",
      "-----------------------------\n",
      "SUBMIT\n",
      "-----------------------------\n",
      "Accuracy = 0.912281\n",
      "Confusion Matrix = \n",
      "[[99  9]\n",
      " [ 6 57]]\n",
      "True Negative: 99\n",
      "False Positive: 9\n",
      "False Negative: 6\n",
      "True Positive: 57\n"
     ]
    }
   ],
   "source": [
    "# predict on validate set\n",
    "y_test_pred = gnb2.predict(X_test)\n",
    "\n",
    "# predict on train set\n",
    "y_train_pred = gnb2.predict(X_train)\n",
    "\n",
    "accuracy = metrics.accuracy_score(y_test, y_test_pred)\n",
    "f1 = metrics.f1_score(y_test, y_test_pred)\n",
    "prec = metrics.precision_score(y_test, y_test_pred)\n",
    "recall = metrics.recall_score(y_test, y_test_pred)\n",
    "roc_auc = metrics.roc_auc_score(y_test, y_test_pred)\n",
    "cm = metrics.confusion_matrix(y_test.squeeze(), y_test_pred.squeeze())\n",
    "tn, fp, fn, tp = metrics.confusion_matrix(y_test.squeeze(), y_test_pred.squeeze()).ravel()\n",
    "\n",
    "print(\"Training MSE = %f\" % metrics.mean_squared_error(y_train, y_train_pred))\n",
    "print(\"Validating MSE = %f\" % metrics.mean_squared_error(y_test, y_test_pred))\n",
    "print('F1 Score = %f' % (f1))\n",
    "print('Precision Score = %f' % (prec))\n",
    "print('Recall Score = %f' % (recall))\n",
    "print('ROC-AUC Score = %f' % (roc_auc))\n",
    "print('\\n-----------------------------')\n",
    "print('SUBMIT')\n",
    "print('-----------------------------')\n",
    "print('Accuracy = %f' % (accuracy))\n",
    "print(f'Confusion Matrix = \\n{cm}')\n",
    "print(f'True Negative: {tn}')\n",
    "print(f'False Positive: {fp}')\n",
    "print(f'False Negative: {fn}')\n",
    "print(f'True Positive: {tp}')"
   ]
  }
 ],
 "metadata": {
  "kernelspec": {
   "display_name": "Python 3",
   "language": "python",
   "name": "python3"
  },
  "language_info": {
   "codemirror_mode": {
    "name": "ipython",
    "version": 3
   },
   "file_extension": ".py",
   "mimetype": "text/x-python",
   "name": "python",
   "nbconvert_exporter": "python",
   "pygments_lexer": "ipython3",
   "version": "3.7.12"
  },
  "papermill": {
   "default_parameters": {},
   "duration": 18.343987,
   "end_time": "2023-02-02T23:47:44.434249",
   "environment_variables": {},
   "exception": null,
   "input_path": "__notebook__.ipynb",
   "output_path": "__notebook__.ipynb",
   "parameters": {},
   "start_time": "2023-02-02T23:47:26.090262",
   "version": "2.3.4"
  }
 },
 "nbformat": 4,
 "nbformat_minor": 5
}
