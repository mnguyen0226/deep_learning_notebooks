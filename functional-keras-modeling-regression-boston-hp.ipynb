{
 "cells": [
  {
   "cell_type": "markdown",
   "id": "143bb49e",
   "metadata": {
    "_cell_guid": "b1076dfc-b9ad-4769-8c92-a6c4dae69d19",
    "_uuid": "8f2839f25d086af736a60e9eeb907d3b93b6e0e5",
    "papermill": {
     "duration": 0.013467,
     "end_time": "2023-02-18T03:19:24.375679",
     "exception": false,
     "start_time": "2023-02-18T03:19:24.362212",
     "status": "completed"
    },
    "tags": []
   },
   "source": [
    "# Predict Boston House Price: A Deep Learning Approach with Keras (Functional Modeling)\n",
    "- **Date**: 2/17/2023.\n",
    "- **Author**: [Minh T. Nguyen](https://www.kaggle.com/minhbtnguyen).\n",
    "- **Dataset**: [Boston House Prices](https://www.kaggle.com/datasets/fedesoriano/the-boston-houseprice-data).\n",
    "- **Task**: Regression.\n",
    "- **Framework**: Keras, Sklearn.\n",
    "\n",
    "**Note**: *I use Kaggle to learn from others and practice my skills so any comment or suggestion is welcome!* "
   ]
  },
  {
   "cell_type": "markdown",
   "id": "4085f59c",
   "metadata": {
    "papermill": {
     "duration": 0.010325,
     "end_time": "2023-02-18T03:19:24.397576",
     "exception": false,
     "start_time": "2023-02-18T03:19:24.387251",
     "status": "completed"
    },
    "tags": []
   },
   "source": [
    "![](https://images.unsplash.com/photo-1572128023846-8cf5791a1299?ixlib=rb-4.0.3&ixid=MnwxMjA3fDB8MHxwaG90by1wYWdlfHx8fGVufDB8fHx8&auto=format&fit=crop&w=1032&q=80)"
   ]
  },
  {
   "cell_type": "code",
   "execution_count": 1,
   "id": "bdc61eb0",
   "metadata": {
    "execution": {
     "iopub.execute_input": "2023-02-18T03:19:24.421054Z",
     "iopub.status.busy": "2023-02-18T03:19:24.420551Z",
     "iopub.status.idle": "2023-02-18T03:19:33.795298Z",
     "shell.execute_reply": "2023-02-18T03:19:33.793886Z"
    },
    "papermill": {
     "duration": 9.390231,
     "end_time": "2023-02-18T03:19:33.798390",
     "exception": false,
     "start_time": "2023-02-18T03:19:24.408159",
     "status": "completed"
    },
    "tags": []
   },
   "outputs": [],
   "source": [
    "# import libraries\n",
    "import numpy as np\n",
    "import pandas as pd\n",
    "import os \n",
    "import matplotlib.pyplot as plt\n",
    "import copy\n",
    "\n",
    "# import tensorflow\n",
    "from sklearn.model_selection import train_test_split\n",
    "from tensorflow import keras\n",
    "from tensorflow.keras import layers"
   ]
  },
  {
   "cell_type": "code",
   "execution_count": 2,
   "id": "ec35117d",
   "metadata": {
    "execution": {
     "iopub.execute_input": "2023-02-18T03:19:33.822134Z",
     "iopub.status.busy": "2023-02-18T03:19:33.821352Z",
     "iopub.status.idle": "2023-02-18T03:19:33.827542Z",
     "shell.execute_reply": "2023-02-18T03:19:33.825769Z"
    },
    "papermill": {
     "duration": 0.021009,
     "end_time": "2023-02-18T03:19:33.830215",
     "exception": false,
     "start_time": "2023-02-18T03:19:33.809206",
     "status": "completed"
    },
    "tags": []
   },
   "outputs": [],
   "source": [
    "# set random seed for same results when reproducing the notebook\n",
    "np.random.seed(0)"
   ]
  },
  {
   "cell_type": "markdown",
   "id": "c8fc7871",
   "metadata": {
    "papermill": {
     "duration": 0.010551,
     "end_time": "2023-02-18T03:19:33.851639",
     "exception": false,
     "start_time": "2023-02-18T03:19:33.841088",
     "status": "completed"
    },
    "tags": []
   },
   "source": [
    "# 1. Import Dataset"
   ]
  },
  {
   "cell_type": "code",
   "execution_count": 3,
   "id": "a7fd2f62",
   "metadata": {
    "execution": {
     "iopub.execute_input": "2023-02-18T03:19:33.875268Z",
     "iopub.status.busy": "2023-02-18T03:19:33.874805Z",
     "iopub.status.idle": "2023-02-18T03:19:33.891414Z",
     "shell.execute_reply": "2023-02-18T03:19:33.890533Z"
    },
    "papermill": {
     "duration": 0.031829,
     "end_time": "2023-02-18T03:19:33.894525",
     "exception": false,
     "start_time": "2023-02-18T03:19:33.862696",
     "status": "completed"
    },
    "tags": []
   },
   "outputs": [
    {
     "name": "stdout",
     "output_type": "stream",
     "text": [
      "/kaggle/input/the-boston-houseprice-data/boston.csv\n"
     ]
    }
   ],
   "source": [
    "# connect with Kaggle directory\n",
    "for dirname, _, filenames in os.walk('/kaggle/input'):\n",
    "    for filename in filenames:\n",
    "        print(os.path.join(dirname, filename))"
   ]
  },
  {
   "cell_type": "code",
   "execution_count": 4,
   "id": "631e82e3",
   "metadata": {
    "execution": {
     "iopub.execute_input": "2023-02-18T03:19:33.918396Z",
     "iopub.status.busy": "2023-02-18T03:19:33.917507Z",
     "iopub.status.idle": "2023-02-18T03:19:33.969295Z",
     "shell.execute_reply": "2023-02-18T03:19:33.968096Z"
    },
    "papermill": {
     "duration": 0.066384,
     "end_time": "2023-02-18T03:19:33.971818",
     "exception": false,
     "start_time": "2023-02-18T03:19:33.905434",
     "status": "completed"
    },
    "tags": []
   },
   "outputs": [
    {
     "data": {
      "text/html": [
       "<div>\n",
       "<style scoped>\n",
       "    .dataframe tbody tr th:only-of-type {\n",
       "        vertical-align: middle;\n",
       "    }\n",
       "\n",
       "    .dataframe tbody tr th {\n",
       "        vertical-align: top;\n",
       "    }\n",
       "\n",
       "    .dataframe thead th {\n",
       "        text-align: right;\n",
       "    }\n",
       "</style>\n",
       "<table border=\"1\" class=\"dataframe\">\n",
       "  <thead>\n",
       "    <tr style=\"text-align: right;\">\n",
       "      <th></th>\n",
       "      <th>CRIM</th>\n",
       "      <th>ZN</th>\n",
       "      <th>INDUS</th>\n",
       "      <th>CHAS</th>\n",
       "      <th>NOX</th>\n",
       "      <th>RM</th>\n",
       "      <th>AGE</th>\n",
       "      <th>DIS</th>\n",
       "      <th>RAD</th>\n",
       "      <th>TAX</th>\n",
       "      <th>PTRATIO</th>\n",
       "      <th>B</th>\n",
       "      <th>LSTAT</th>\n",
       "      <th>MEDV</th>\n",
       "    </tr>\n",
       "  </thead>\n",
       "  <tbody>\n",
       "    <tr>\n",
       "      <th>0</th>\n",
       "      <td>0.00632</td>\n",
       "      <td>18.0</td>\n",
       "      <td>2.31</td>\n",
       "      <td>0</td>\n",
       "      <td>0.538</td>\n",
       "      <td>6.575</td>\n",
       "      <td>65.2</td>\n",
       "      <td>4.0900</td>\n",
       "      <td>1</td>\n",
       "      <td>296.0</td>\n",
       "      <td>15.3</td>\n",
       "      <td>396.90</td>\n",
       "      <td>4.98</td>\n",
       "      <td>24.0</td>\n",
       "    </tr>\n",
       "    <tr>\n",
       "      <th>1</th>\n",
       "      <td>0.02731</td>\n",
       "      <td>0.0</td>\n",
       "      <td>7.07</td>\n",
       "      <td>0</td>\n",
       "      <td>0.469</td>\n",
       "      <td>6.421</td>\n",
       "      <td>78.9</td>\n",
       "      <td>4.9671</td>\n",
       "      <td>2</td>\n",
       "      <td>242.0</td>\n",
       "      <td>17.8</td>\n",
       "      <td>396.90</td>\n",
       "      <td>9.14</td>\n",
       "      <td>21.6</td>\n",
       "    </tr>\n",
       "    <tr>\n",
       "      <th>2</th>\n",
       "      <td>0.02729</td>\n",
       "      <td>0.0</td>\n",
       "      <td>7.07</td>\n",
       "      <td>0</td>\n",
       "      <td>0.469</td>\n",
       "      <td>7.185</td>\n",
       "      <td>61.1</td>\n",
       "      <td>4.9671</td>\n",
       "      <td>2</td>\n",
       "      <td>242.0</td>\n",
       "      <td>17.8</td>\n",
       "      <td>392.83</td>\n",
       "      <td>4.03</td>\n",
       "      <td>34.7</td>\n",
       "    </tr>\n",
       "    <tr>\n",
       "      <th>3</th>\n",
       "      <td>0.03237</td>\n",
       "      <td>0.0</td>\n",
       "      <td>2.18</td>\n",
       "      <td>0</td>\n",
       "      <td>0.458</td>\n",
       "      <td>6.998</td>\n",
       "      <td>45.8</td>\n",
       "      <td>6.0622</td>\n",
       "      <td>3</td>\n",
       "      <td>222.0</td>\n",
       "      <td>18.7</td>\n",
       "      <td>394.63</td>\n",
       "      <td>2.94</td>\n",
       "      <td>33.4</td>\n",
       "    </tr>\n",
       "    <tr>\n",
       "      <th>4</th>\n",
       "      <td>0.06905</td>\n",
       "      <td>0.0</td>\n",
       "      <td>2.18</td>\n",
       "      <td>0</td>\n",
       "      <td>0.458</td>\n",
       "      <td>7.147</td>\n",
       "      <td>54.2</td>\n",
       "      <td>6.0622</td>\n",
       "      <td>3</td>\n",
       "      <td>222.0</td>\n",
       "      <td>18.7</td>\n",
       "      <td>396.90</td>\n",
       "      <td>5.33</td>\n",
       "      <td>36.2</td>\n",
       "    </tr>\n",
       "  </tbody>\n",
       "</table>\n",
       "</div>"
      ],
      "text/plain": [
       "      CRIM    ZN  INDUS  CHAS    NOX     RM   AGE     DIS  RAD    TAX  \\\n",
       "0  0.00632  18.0   2.31     0  0.538  6.575  65.2  4.0900    1  296.0   \n",
       "1  0.02731   0.0   7.07     0  0.469  6.421  78.9  4.9671    2  242.0   \n",
       "2  0.02729   0.0   7.07     0  0.469  7.185  61.1  4.9671    2  242.0   \n",
       "3  0.03237   0.0   2.18     0  0.458  6.998  45.8  6.0622    3  222.0   \n",
       "4  0.06905   0.0   2.18     0  0.458  7.147  54.2  6.0622    3  222.0   \n",
       "\n",
       "   PTRATIO       B  LSTAT  MEDV  \n",
       "0     15.3  396.90   4.98  24.0  \n",
       "1     17.8  396.90   9.14  21.6  \n",
       "2     17.8  392.83   4.03  34.7  \n",
       "3     18.7  394.63   2.94  33.4  \n",
       "4     18.7  396.90   5.33  36.2  "
      ]
     },
     "execution_count": 4,
     "metadata": {},
     "output_type": "execute_result"
    }
   ],
   "source": [
    "# import dataset\n",
    "df = pd.read_csv(\"/kaggle/input/the-boston-houseprice-data/boston.csv\")\n",
    "df.head()"
   ]
  },
  {
   "cell_type": "code",
   "execution_count": 5,
   "id": "f7297fa2",
   "metadata": {
    "execution": {
     "iopub.execute_input": "2023-02-18T03:19:33.996282Z",
     "iopub.status.busy": "2023-02-18T03:19:33.995446Z",
     "iopub.status.idle": "2023-02-18T03:19:34.001464Z",
     "shell.execute_reply": "2023-02-18T03:19:33.999921Z"
    },
    "papermill": {
     "duration": 0.021687,
     "end_time": "2023-02-18T03:19:34.004827",
     "exception": false,
     "start_time": "2023-02-18T03:19:33.983140",
     "status": "completed"
    },
    "tags": []
   },
   "outputs": [
    {
     "name": "stdout",
     "output_type": "stream",
     "text": [
      "(506, 14)\n"
     ]
    }
   ],
   "source": [
    "# check the shape of the dataset\n",
    "print(df.shape)"
   ]
  },
  {
   "cell_type": "code",
   "execution_count": 6,
   "id": "4d385114",
   "metadata": {
    "execution": {
     "iopub.execute_input": "2023-02-18T03:19:34.029653Z",
     "iopub.status.busy": "2023-02-18T03:19:34.029152Z",
     "iopub.status.idle": "2023-02-18T03:19:34.037823Z",
     "shell.execute_reply": "2023-02-18T03:19:34.036648Z"
    },
    "papermill": {
     "duration": 0.023333,
     "end_time": "2023-02-18T03:19:34.040003",
     "exception": false,
     "start_time": "2023-02-18T03:19:34.016670",
     "status": "completed"
    },
    "tags": []
   },
   "outputs": [
    {
     "data": {
      "text/plain": [
       "CRIM       float64\n",
       "ZN         float64\n",
       "INDUS      float64\n",
       "CHAS         int64\n",
       "NOX        float64\n",
       "RM         float64\n",
       "AGE        float64\n",
       "DIS        float64\n",
       "RAD          int64\n",
       "TAX        float64\n",
       "PTRATIO    float64\n",
       "B          float64\n",
       "LSTAT      float64\n",
       "MEDV       float64\n",
       "dtype: object"
      ]
     },
     "execution_count": 6,
     "metadata": {},
     "output_type": "execute_result"
    }
   ],
   "source": [
    "# check datatypes of each feature\n",
    "df.dtypes"
   ]
  },
  {
   "cell_type": "markdown",
   "id": "8f8f72a7",
   "metadata": {
    "papermill": {
     "duration": 0.010776,
     "end_time": "2023-02-18T03:19:34.062047",
     "exception": false,
     "start_time": "2023-02-18T03:19:34.051271",
     "status": "completed"
    },
    "tags": []
   },
   "source": [
    "**Note**: From the metadata, we learn that each column has different meaning:\n",
    "- **CRIM**: per capita crime rate by town.\n",
    "- **ZN**: proportion of residential land zoned for lots over 25,000 sq.ft.\n",
    "- **INDUS**: proportion of non-retail business acres per town.\n",
    "- **CHAS**: Charles River dummy variable (1 if tract bounds river; 0 otherwise).\n",
    "- **NOX**: nitric oxides concentration (parts per 10 million) [parts/10M].\n",
    "- **RM**: average number of rooms per dwelling.\n",
    "- **AGE**: proportion of owner-occupied units built prior to 1940.\n",
    "- **DIS**: weighted distances to five Boston employment centres.\n",
    "- **RAD**: index of accessibility to radial highways.\n",
    "- **TAX**: full-value property-tax rate per `$10,000 [$/10k]`.\n",
    "- **PTRATIO**: pupil-teacher ratio by town.\n",
    "- **B**: The result of the equation B=1000(Bk - 0.63)^2 where Bk is the proportion of blacks by town.\n",
    "- **LSTAT**: % lower status of the population.\n",
    "- **MEDV**: Median value of owner-occupied homes in `$1000's [k$]`."
   ]
  },
  {
   "cell_type": "markdown",
   "id": "e50a4955",
   "metadata": {
    "papermill": {
     "duration": 0.011207,
     "end_time": "2023-02-18T03:19:34.084382",
     "exception": false,
     "start_time": "2023-02-18T03:19:34.073175",
     "status": "completed"
    },
    "tags": []
   },
   "source": [
    "# 2. Data Visualization & Analysis\n",
    "**Note**: From the table, we can see that the data has various ranges. Thus, we need to normalize all features into the same range so that the visualization of features won't be compressed.\n"
   ]
  },
  {
   "cell_type": "markdown",
   "id": "e9b2a436",
   "metadata": {
    "papermill": {
     "duration": 0.014581,
     "end_time": "2023-02-18T03:19:34.110437",
     "exception": false,
     "start_time": "2023-02-18T03:19:34.095856",
     "status": "completed"
    },
    "tags": []
   },
   "source": [
    "**Note**: Shape of the normal distribution (Gaussian distribution).\n",
    "\n",
    "![](https://cdn.scribbr.com/wp-content/uploads/2020/10/standard-normal-distribution-1024x633.png)"
   ]
  },
  {
   "cell_type": "markdown",
   "id": "63d69988",
   "metadata": {
    "papermill": {
     "duration": 0.012944,
     "end_time": "2023-02-18T03:19:34.137905",
     "exception": false,
     "start_time": "2023-02-18T03:19:34.124961",
     "status": "completed"
    },
    "tags": []
   },
   "source": [
    "**Note**: Let's plot the features (columns) of the dataset and see how they shape compared to the Gaussian distribution."
   ]
  },
  {
   "cell_type": "code",
   "execution_count": 7,
   "id": "5ec96ae2",
   "metadata": {
    "execution": {
     "iopub.execute_input": "2023-02-18T03:19:34.167286Z",
     "iopub.status.busy": "2023-02-18T03:19:34.166810Z",
     "iopub.status.idle": "2023-02-18T03:19:34.179746Z",
     "shell.execute_reply": "2023-02-18T03:19:34.178610Z"
    },
    "papermill": {
     "duration": 0.031946,
     "end_time": "2023-02-18T03:19:34.182584",
     "exception": false,
     "start_time": "2023-02-18T03:19:34.150638",
     "status": "completed"
    },
    "tags": []
   },
   "outputs": [],
   "source": [
    "# normalize the dataset prior to plot\n",
    "df_plot = df.copy() # made a copy of the dataframe here as we have different normalization process in the later step\n",
    "mean = df_plot.mean(axis=0)\n",
    "df_plot -= mean\n",
    "std = df_plot.std(axis=0)\n",
    "df_plot /= std"
   ]
  },
  {
   "cell_type": "code",
   "execution_count": 8,
   "id": "5dd5d914",
   "metadata": {
    "execution": {
     "iopub.execute_input": "2023-02-18T03:19:34.207722Z",
     "iopub.status.busy": "2023-02-18T03:19:34.206681Z",
     "iopub.status.idle": "2023-02-18T03:19:34.831665Z",
     "shell.execute_reply": "2023-02-18T03:19:34.830616Z"
    },
    "papermill": {
     "duration": 0.640603,
     "end_time": "2023-02-18T03:19:34.834245",
     "exception": false,
     "start_time": "2023-02-18T03:19:34.193642",
     "status": "completed"
    },
    "tags": []
   },
   "outputs": [
    {
     "data": {
      "image/png": "[encoded data removed]",
      "text/plain": [
       "<Figure size 640x480 with 1 Axes>"
      ]
     },
     "metadata": {},
     "output_type": "display_data"
    }
   ],
   "source": [
    "# plot the distribution for all 4 columns\n",
    "plt.title(\"Features Distribution\")\n",
    "df_plot['CRIM'].plot(kind='kde')\n",
    "df_plot['ZN'].plot(kind='kde')\n",
    "df_plot['INDUS'].plot(kind='kde')\n",
    "df_plot['CHAS'].plot(kind='kde')\n",
    "df_plot['NOX'].plot(kind='kde')\n",
    "df_plot['RM'].plot(kind='kde')\n",
    "df_plot['AGE'].plot(kind='kde')\n",
    "df_plot['DIS'].plot(kind='kde')\n",
    "df_plot['RAD'].plot(kind='kde')\n",
    "df_plot['TAX'].plot(kind='kde')\n",
    "df_plot['PTRATIO'].plot(kind='kde')\n",
    "df_plot['B'].plot(kind='kde')\n",
    "df_plot['LSTAT'].plot(kind='kde')\n",
    "df_plot['MEDV'].plot(kind='kde')\n",
    "\n",
    "plt.legend()\n",
    "plt.show()"
   ]
  },
  {
   "cell_type": "markdown",
   "id": "edc1db81",
   "metadata": {
    "papermill": {
     "duration": 0.012001,
     "end_time": "2023-02-18T03:19:34.858780",
     "exception": false,
     "start_time": "2023-02-18T03:19:34.846779",
     "status": "completed"
    },
    "tags": []
   },
   "source": [
    "**Note**: We can see that all 14 features \"behaves\" similar to the Gaussian Distribution with different mean and standard deviation. This plot add an additional confirmation as most of the dataset has Gaussian distribution. The data points near the mean are more frequent in occurrent that the data far from the mean.\n",
    "\n",
    "*[Reference](https://www.investopedia.com/terms/n/normaldistribution.asp#:~:text=Normal%20distribution%2C%20also%20known%20as,as%20a%20%22bell%20curve%22.).*"
   ]
  },
  {
   "cell_type": "markdown",
   "id": "8fb74f85",
   "metadata": {
    "papermill": {
     "duration": 0.012592,
     "end_time": "2023-02-18T03:19:34.883938",
     "exception": false,
     "start_time": "2023-02-18T03:19:34.871346",
     "status": "completed"
    },
    "tags": []
   },
   "source": [
    "# 3. Data Processing\n",
    "**Note**: There are ways to process raw data that suitable for types of data and how they are structure such as check NaN, feature engineering, normalization, data imputation,... However, for this dataset, I will do the following steps: \n",
    "- Check NaN.\n",
    "- Normalize the dataset.\n",
    "- Split it into training and testing set."
   ]
  },
  {
   "cell_type": "markdown",
   "id": "aef7e11f",
   "metadata": {
    "papermill": {
     "duration": 0.012477,
     "end_time": "2023-02-18T03:19:34.908717",
     "exception": false,
     "start_time": "2023-02-18T03:19:34.896240",
     "status": "completed"
    },
    "tags": []
   },
   "source": [
    "## 3.1. Check For Not-a-Number (NaN) Data"
   ]
  },
  {
   "cell_type": "code",
   "execution_count": 9,
   "id": "a50b6279",
   "metadata": {
    "execution": {
     "iopub.execute_input": "2023-02-18T03:19:34.935284Z",
     "iopub.status.busy": "2023-02-18T03:19:34.934823Z",
     "iopub.status.idle": "2023-02-18T03:19:34.941670Z",
     "shell.execute_reply": "2023-02-18T03:19:34.940648Z"
    },
    "papermill": {
     "duration": 0.023085,
     "end_time": "2023-02-18T03:19:34.944110",
     "exception": false,
     "start_time": "2023-02-18T03:19:34.921025",
     "status": "completed"
    },
    "tags": []
   },
   "outputs": [
    {
     "name": "stdout",
     "output_type": "stream",
     "text": [
      "False\n"
     ]
    }
   ],
   "source": [
    "# examine and replace missing values \n",
    "print(df.isnull().values.any())"
   ]
  },
  {
   "cell_type": "markdown",
   "id": "e2361b55",
   "metadata": {
    "papermill": {
     "duration": 0.012231,
     "end_time": "2023-02-18T03:19:34.969130",
     "exception": false,
     "start_time": "2023-02-18T03:19:34.956899",
     "status": "completed"
    },
    "tags": []
   },
   "source": [
    "## 3.2. Normalize & Split Dataset\n",
    "**Note**: Split the data in to input features (X) and output label (y)."
   ]
  },
  {
   "cell_type": "code",
   "execution_count": 10,
   "id": "e097fb18",
   "metadata": {
    "execution": {
     "iopub.execute_input": "2023-02-18T03:19:34.995949Z",
     "iopub.status.busy": "2023-02-18T03:19:34.995512Z",
     "iopub.status.idle": "2023-02-18T03:19:35.003682Z",
     "shell.execute_reply": "2023-02-18T03:19:35.002128Z"
    },
    "papermill": {
     "duration": 0.024542,
     "end_time": "2023-02-18T03:19:35.006222",
     "exception": false,
     "start_time": "2023-02-18T03:19:34.981680",
     "status": "completed"
    },
    "tags": []
   },
   "outputs": [
    {
     "name": "stdout",
     "output_type": "stream",
     "text": [
      "(506, 13)\n"
     ]
    }
   ],
   "source": [
    "# get input features X \n",
    "X = df[list(df.columns[0:-1])]\n",
    "print(X.shape)"
   ]
  },
  {
   "cell_type": "code",
   "execution_count": 11,
   "id": "07b8d2dc",
   "metadata": {
    "execution": {
     "iopub.execute_input": "2023-02-18T03:19:35.033377Z",
     "iopub.status.busy": "2023-02-18T03:19:35.032926Z",
     "iopub.status.idle": "2023-02-18T03:19:35.038468Z",
     "shell.execute_reply": "2023-02-18T03:19:35.037614Z"
    },
    "papermill": {
     "duration": 0.021909,
     "end_time": "2023-02-18T03:19:35.040701",
     "exception": false,
     "start_time": "2023-02-18T03:19:35.018792",
     "status": "completed"
    },
    "tags": []
   },
   "outputs": [
    {
     "name": "stdout",
     "output_type": "stream",
     "text": [
      "(506,)\n"
     ]
    }
   ],
   "source": [
    "# get output feature y\n",
    "y = df['MEDV']\n",
    "print(y.shape)"
   ]
  },
  {
   "cell_type": "code",
   "execution_count": 12,
   "id": "9cdb540d",
   "metadata": {
    "execution": {
     "iopub.execute_input": "2023-02-18T03:19:35.067958Z",
     "iopub.status.busy": "2023-02-18T03:19:35.067289Z",
     "iopub.status.idle": "2023-02-18T03:19:35.075950Z",
     "shell.execute_reply": "2023-02-18T03:19:35.074634Z"
    },
    "papermill": {
     "duration": 0.025416,
     "end_time": "2023-02-18T03:19:35.078689",
     "exception": false,
     "start_time": "2023-02-18T03:19:35.053273",
     "status": "completed"
    },
    "tags": []
   },
   "outputs": [],
   "source": [
    "# partition into training/test/validation \n",
    "X_train, X_test, y_train, y_test = train_test_split(X, y, test_size=0.3, random_state=0)"
   ]
  },
  {
   "cell_type": "code",
   "execution_count": 13,
   "id": "1781efc4",
   "metadata": {
    "execution": {
     "iopub.execute_input": "2023-02-18T03:19:35.106202Z",
     "iopub.status.busy": "2023-02-18T03:19:35.105727Z",
     "iopub.status.idle": "2023-02-18T03:19:35.111511Z",
     "shell.execute_reply": "2023-02-18T03:19:35.110671Z"
    },
    "papermill": {
     "duration": 0.022561,
     "end_time": "2023-02-18T03:19:35.114498",
     "exception": false,
     "start_time": "2023-02-18T03:19:35.091937",
     "status": "completed"
    },
    "tags": []
   },
   "outputs": [
    {
     "name": "stdout",
     "output_type": "stream",
     "text": [
      "X_shape has shape: (354, 13)\n",
      "X_test has shape: (152, 13)\n",
      "y_train has shape: (354,)\n",
      "y_test has shape: (152,)\n"
     ]
    }
   ],
   "source": [
    "# check shape\n",
    "print(f\"X_shape has shape: {X_train.shape}\")\n",
    "print(f\"X_test has shape: {X_test.shape}\")\n",
    "print(f\"y_train has shape: {y_train.shape}\")\n",
    "print(f\"y_test has shape: {y_test.shape}\")"
   ]
  },
  {
   "cell_type": "code",
   "execution_count": 14,
   "id": "0cdd77a7",
   "metadata": {
    "execution": {
     "iopub.execute_input": "2023-02-18T03:19:35.142444Z",
     "iopub.status.busy": "2023-02-18T03:19:35.141776Z",
     "iopub.status.idle": "2023-02-18T03:19:35.154006Z",
     "shell.execute_reply": "2023-02-18T03:19:35.152659Z"
    },
    "papermill": {
     "duration": 0.029114,
     "end_time": "2023-02-18T03:19:35.156786",
     "exception": false,
     "start_time": "2023-02-18T03:19:35.127672",
     "status": "completed"
    },
    "tags": []
   },
   "outputs": [],
   "source": [
    "# normalized training data\n",
    "mean = X_train.mean(axis=0)\n",
    "X_train -= mean\n",
    "std = X_train.std(axis=0)\n",
    "X_train /= std\n",
    "\n",
    "# normalized testing data\n",
    "X_test -= mean\n",
    "X_test /= std"
   ]
  },
  {
   "cell_type": "markdown",
   "id": "2f8d087d",
   "metadata": {
    "papermill": {
     "duration": 0.012274,
     "end_time": "2023-02-18T03:19:35.181691",
     "exception": false,
     "start_time": "2023-02-18T03:19:35.169417",
     "status": "completed"
    },
    "tags": []
   },
   "source": [
    "**Note**: that we normalize the test data based on the training data. We don't want to normalized the test data based on the training distribution as we want to test the model on the same distribution of what we train. By doing this, we will avoid the \"information leak\" issue where the model might happen to learn something from the validation set, which will make the validation result less reliable."
   ]
  },
  {
   "cell_type": "markdown",
   "id": "621130e5",
   "metadata": {
    "papermill": {
     "duration": 0.012211,
     "end_time": "2023-02-18T03:19:35.206408",
     "exception": false,
     "start_time": "2023-02-18T03:19:35.194197",
     "status": "completed"
    },
    "tags": []
   },
   "source": [
    "# 4. Modeling\n",
    "**Note**: As the dataset is a fairly small dataset, we only need a small model. We can use a larger model, however, it will be a waste of computing power and risk to the large model to learn unwanted patterns. In addition, if the model is too large, it will start to overfit right away which makes the validation loss curve looks choppy (due high-variance). If we limit the model's size, it will optimize less neuron and provide better quality"
   ]
  },
  {
   "cell_type": "code",
   "execution_count": 15,
   "id": "db174015",
   "metadata": {
    "execution": {
     "iopub.execute_input": "2023-02-18T03:19:35.234452Z",
     "iopub.status.busy": "2023-02-18T03:19:35.234008Z",
     "iopub.status.idle": "2023-02-18T03:19:35.243096Z",
     "shell.execute_reply": "2023-02-18T03:19:35.241595Z"
    },
    "papermill": {
     "duration": 0.026254,
     "end_time": "2023-02-18T03:19:35.245613",
     "exception": false,
     "start_time": "2023-02-18T03:19:35.219359",
     "status": "completed"
    },
    "tags": []
   },
   "outputs": [],
   "source": [
    "def build_model():\n",
    "    \"\"\"Build a deep learning model with 3 layers\n",
    "    while initialize optimizer, loss function, and metrics.\n",
    "    \n",
    "    @Return\n",
    "    model (keras.Sequential): built & compiled model.\n",
    "    \"\"\"\n",
    "    # contruct model\n",
    "    inputs = keras.Input(shape=(13,), name=\"input_layer\")\n",
    "    features = layers.Dense(64, activation=\"relu\", name=\"1st_fully_connected_layer\")(inputs)\n",
    "    features = layers.Dense(64, activation=\"relu\", name=\"2nd_fully_connected_layer\")(features)\n",
    "    outputs = layers.Dense(1, name=\"output_layer\")(features)\n",
    "    model = keras.Model(inputs=inputs, outputs=outputs)\n",
    "    \n",
    "    # initialize optimizer, loss function, and performance metrics\n",
    "    model.compile(optimizer=\"rmsprop\",\n",
    "                  loss=\"mse\",          # mse is a to-go loss function for regression\n",
    "                  metrics=[\"mae\"])\n",
    "    \n",
    "    return model"
   ]
  },
  {
   "cell_type": "markdown",
   "id": "ed35fc89",
   "metadata": {
    "papermill": {
     "duration": 0.012276,
     "end_time": "2023-02-18T03:19:35.270645",
     "exception": false,
     "start_time": "2023-02-18T03:19:35.258369",
     "status": "completed"
    },
    "tags": []
   },
   "source": [
    "# 5. K-Fold Validation\n",
    "**Note**: Right now, we don't know how well is our model's structure as well as the number of epochs to train (if we train the model too much, then the model will overfit!). For the larger dataset, we can simply take a portion of the traininig dataset as validation dataset and check the performance prior to training the entire training data. However, since the dataset is small, K-Fold validation will be a better choice. The image below showed how K-Fold validation works."
   ]
  },
  {
   "cell_type": "markdown",
   "id": "f5b5ecd0",
   "metadata": {
    "papermill": {
     "duration": 0.012282,
     "end_time": "2023-02-18T03:19:35.296055",
     "exception": false,
     "start_time": "2023-02-18T03:19:35.283773",
     "status": "completed"
    },
    "tags": []
   },
   "source": [
    "![](https://scikit-learn.org/stable/_images/grid_search_cross_validation.png)\n",
    "\n",
    "[Reference](https://scikit-learn.org/stable/modules/cross_validation.html)."
   ]
  },
  {
   "cell_type": "code",
   "execution_count": 16,
   "id": "6e13059b",
   "metadata": {
    "execution": {
     "iopub.execute_input": "2023-02-18T03:19:35.323251Z",
     "iopub.status.busy": "2023-02-18T03:19:35.322787Z",
     "iopub.status.idle": "2023-02-18T03:21:48.861671Z",
     "shell.execute_reply": "2023-02-18T03:21:48.859666Z"
    },
    "papermill": {
     "duration": 133.555873,
     "end_time": "2023-02-18T03:21:48.864517",
     "exception": false,
     "start_time": "2023-02-18T03:19:35.308644",
     "status": "completed"
    },
    "tags": []
   },
   "outputs": [
    {
     "name": "stdout",
     "output_type": "stream",
     "text": [
      "Processing fold #0\n"
     ]
    },
    {
     "name": "stderr",
     "output_type": "stream",
     "text": [
      "2023-02-18 03:19:35.373003: W tensorflow/stream_executor/platform/default/dso_loader.cc:64] Could not load dynamic library 'libcuda.so.1'; dlerror: libcuda.so.1: cannot open shared object file: No such file or directory; LD_LIBRARY_PATH: /usr/local/cuda/lib64:/usr/local/cuda/lib:/usr/local/lib/x86_64-linux-gnu:/usr/local/nvidia/lib:/usr/local/nvidia/lib64::/opt/conda/lib\n",
      "2023-02-18 03:19:35.373097: W tensorflow/stream_executor/cuda/cuda_driver.cc:269] failed call to cuInit: UNKNOWN ERROR (303)\n"
     ]
    },
    {
     "name": "stdout",
     "output_type": "stream",
     "text": [
      "Processing fold #1\n",
      "Processing fold #2\n",
      "Processing fold #3\n"
     ]
    }
   ],
   "source": [
    "num_epochs = 500\n",
    "k = 4\n",
    "num_val_samples = len(X_train) // k\n",
    "all_mae_histories = []\n",
    "\n",
    "for i in range(k):\n",
    "    print(f\"Processing fold #{i}\")\n",
    "    \n",
    "    # split 1 fold for validation\n",
    "    val_data = X_train[i * num_val_samples: (i + 1) * num_val_samples]\n",
    "    val_targets = y_train[i * num_val_samples: (i + 1) * num_val_samples]\n",
    "    \n",
    "    # get the rest of 3 folds for training\n",
    "    partial_train_data = np.concatenate(\n",
    "        [X_train[:i * num_val_samples],\n",
    "        X_train[(i + 1) * num_val_samples:]],\n",
    "        axis=0\n",
    "    )\n",
    "    partial_train_targets = np.concatenate(\n",
    "        [y_train[:i * num_val_samples],\n",
    "        y_train[(i + 1) * num_val_samples:]],\n",
    "        axis=0\n",
    "    )\n",
    "    \n",
    "    # build model\n",
    "    model = build_model()\n",
    "    \n",
    "    # train model on training dataset\n",
    "    history = model.fit(x=partial_train_data, \n",
    "                        y=partial_train_targets,\n",
    "                        epochs=num_epochs, \n",
    "                        batch_size=16,\n",
    "                        validation_data=(val_data, val_targets),\n",
    "                        verbose=0) # verbose == training without print out every training epoch\n",
    "    \n",
    "    # log model performance\n",
    "    mae_history = history.history[\"val_mae\"]\n",
    "    all_mae_histories.append(mae_history)"
   ]
  },
  {
   "cell_type": "code",
   "execution_count": 17,
   "id": "4165f2da",
   "metadata": {
    "execution": {
     "iopub.execute_input": "2023-02-18T03:21:48.893729Z",
     "iopub.status.busy": "2023-02-18T03:21:48.892634Z",
     "iopub.status.idle": "2023-02-18T03:21:48.902120Z",
     "shell.execute_reply": "2023-02-18T03:21:48.900255Z"
    },
    "papermill": {
     "duration": 0.027662,
     "end_time": "2023-02-18T03:21:48.905246",
     "exception": false,
     "start_time": "2023-02-18T03:21:48.877584",
     "status": "completed"
    },
    "tags": []
   },
   "outputs": [
    {
     "name": "stdout",
     "output_type": "stream",
     "text": [
      "(4, 500)\n"
     ]
    }
   ],
   "source": [
    "# basically, the matrix store 500 epochs (times) that re run K-fold and for each epoch we have 4 mae from a k-fold of that epoch.\n",
    "print(np.array(all_mae_histories).shape)"
   ]
  },
  {
   "cell_type": "code",
   "execution_count": 18,
   "id": "01b059b3",
   "metadata": {
    "execution": {
     "iopub.execute_input": "2023-02-18T03:21:48.936142Z",
     "iopub.status.busy": "2023-02-18T03:21:48.935398Z",
     "iopub.status.idle": "2023-02-18T03:21:48.947942Z",
     "shell.execute_reply": "2023-02-18T03:21:48.946530Z"
    },
    "papermill": {
     "duration": 0.031217,
     "end_time": "2023-02-18T03:21:48.951208",
     "exception": false,
     "start_time": "2023-02-18T03:21:48.919991",
     "status": "completed"
    },
    "tags": []
   },
   "outputs": [],
   "source": [
    "average_mae_history = []\n",
    "\n",
    "# go thru 500 epochs\n",
    "for i in range(num_epochs):\n",
    "    temp = []\n",
    "    \n",
    "    # go thru each fold and get the mae at that epoch\n",
    "    for x in all_mae_histories:\n",
    "        temp.append(x[i])\n",
    "    \n",
    "    # calculate the mean mae for that epoch\n",
    "    temp = np.mean(temp)\n",
    "    \n",
    "    # store in the average mae log\n",
    "    average_mae_history.append(temp)"
   ]
  },
  {
   "cell_type": "code",
   "execution_count": 19,
   "id": "fc588e90",
   "metadata": {
    "execution": {
     "iopub.execute_input": "2023-02-18T03:21:48.982442Z",
     "iopub.status.busy": "2023-02-18T03:21:48.982018Z",
     "iopub.status.idle": "2023-02-18T03:21:48.988579Z",
     "shell.execute_reply": "2023-02-18T03:21:48.987026Z"
    },
    "papermill": {
     "duration": 0.025679,
     "end_time": "2023-02-18T03:21:48.991508",
     "exception": false,
     "start_time": "2023-02-18T03:21:48.965829",
     "status": "completed"
    },
    "tags": []
   },
   "outputs": [
    {
     "name": "stdout",
     "output_type": "stream",
     "text": [
      "500\n"
     ]
    }
   ],
   "source": [
    "# check shape\n",
    "print(len(average_mae_history))"
   ]
  },
  {
   "cell_type": "code",
   "execution_count": 20,
   "id": "eb912614",
   "metadata": {
    "execution": {
     "iopub.execute_input": "2023-02-18T03:21:49.023146Z",
     "iopub.status.busy": "2023-02-18T03:21:49.022645Z",
     "iopub.status.idle": "2023-02-18T03:21:49.289543Z",
     "shell.execute_reply": "2023-02-18T03:21:49.288295Z"
    },
    "papermill": {
     "duration": 0.284988,
     "end_time": "2023-02-18T03:21:49.292144",
     "exception": false,
     "start_time": "2023-02-18T03:21:49.007156",
     "status": "completed"
    },
    "tags": []
   },
   "outputs": [
    {
     "data": {
      "image/png": "[encoded data removed]",
      "text/plain": [
       "<Figure size 640x480 with 1 Axes>"
      ]
     },
     "metadata": {},
     "output_type": "display_data"
    }
   ],
   "source": [
    "# plot validation score from history\n",
    "plt.plot(range(1, len(average_mae_history) + 1), average_mae_history)\n",
    "plt.title(\"Validation MAE vs Epochs of Deep Learning Model\")\n",
    "plt.xlabel(\"Epochs\")\n",
    "plt.ylabel(\"Validation MAE\")\n",
    "plt.show()"
   ]
  },
  {
   "cell_type": "markdown",
   "id": "fe156f02",
   "metadata": {
    "papermill": {
     "duration": 0.014782,
     "end_time": "2023-02-18T03:21:49.321373",
     "exception": false,
     "start_time": "2023-02-18T03:21:49.306591",
     "status": "completed"
    },
    "tags": []
   },
   "source": [
    "**Note**: the validation MAE for the first few epochs is dramatically higher than the values that follow. Let’s omit the first 10 data points, which are on a different scale than the rest of the curve."
   ]
  },
  {
   "cell_type": "code",
   "execution_count": 21,
   "id": "3f26a16a",
   "metadata": {
    "execution": {
     "iopub.execute_input": "2023-02-18T03:21:49.351173Z",
     "iopub.status.busy": "2023-02-18T03:21:49.350522Z",
     "iopub.status.idle": "2023-02-18T03:21:49.510106Z",
     "shell.execute_reply": "2023-02-18T03:21:49.508755Z"
    },
    "papermill": {
     "duration": 0.177484,
     "end_time": "2023-02-18T03:21:49.512686",
     "exception": false,
     "start_time": "2023-02-18T03:21:49.335202",
     "status": "completed"
    },
    "tags": []
   },
   "outputs": [
    {
     "data": {
      "image/png": "[encoded data removed]",
      "text/plain": [
       "<Figure size 640x480 with 1 Axes>"
      ]
     },
     "metadata": {},
     "output_type": "display_data"
    }
   ],
   "source": [
    "# plot the validation score, excluding the first 10 data points\n",
    "truncated_mae_history = average_mae_history[10:]\n",
    "plt.plot(range(1, len(truncated_mae_history) + 1), truncated_mae_history)\n",
    "plt.title(\"Validation MAE vs Epochs of Deep Learning Model\")\n",
    "plt.xlabel(\"Epochs\")\n",
    "plt.ylabel(\"Validation MAE\")\n",
    "plt.show()"
   ]
  },
  {
   "cell_type": "markdown",
   "id": "453d4bfa",
   "metadata": {
    "papermill": {
     "duration": 0.014198,
     "end_time": "2023-02-18T03:21:49.541479",
     "exception": false,
     "start_time": "2023-02-18T03:21:49.527281",
     "status": "completed"
    },
    "tags": []
   },
   "source": [
    "**Note**: validation MAE stops improving significantly after 300-400 epochs (this number includes the 10 epochs we omitted). Past that point, we start overfitting."
   ]
  },
  {
   "cell_type": "markdown",
   "id": "d680d279",
   "metadata": {
    "papermill": {
     "duration": 0.015014,
     "end_time": "2023-02-18T03:21:49.571663",
     "exception": false,
     "start_time": "2023-02-18T03:21:49.556649",
     "status": "completed"
    },
    "tags": []
   },
   "source": [
    "# 6. Train Model on Full Training Dataset & Test on Testing Dataset"
   ]
  },
  {
   "cell_type": "code",
   "execution_count": 22,
   "id": "d62a98bb",
   "metadata": {
    "execution": {
     "iopub.execute_input": "2023-02-18T03:21:49.603693Z",
     "iopub.status.busy": "2023-02-18T03:21:49.603293Z",
     "iopub.status.idle": "2023-02-18T03:22:03.483867Z",
     "shell.execute_reply": "2023-02-18T03:22:03.482427Z"
    },
    "papermill": {
     "duration": 13.9001,
     "end_time": "2023-02-18T03:22:03.486553",
     "exception": false,
     "start_time": "2023-02-18T03:21:49.586453",
     "status": "completed"
    },
    "tags": []
   },
   "outputs": [
    {
     "name": "stdout",
     "output_type": "stream",
     "text": [
      "5/5 [==============================] - 0s 2ms/step - loss: 13.9648 - mae: 2.5888\n",
      "Model: \"model_4\"\n",
      "_________________________________________________________________\n",
      " Layer (type)                Output Shape              Param #   \n",
      "=================================================================\n",
      " input_layer (InputLayer)    [(None, 13)]              0         \n",
      "                                                                 \n",
      " 1st_fully_connected_layer (  (None, 64)               896       \n",
      " Dense)                                                          \n",
      "                                                                 \n",
      " 2nd_fully_connected_layer (  (None, 64)               4160      \n",
      " Dense)                                                          \n",
      "                                                                 \n",
      " output_layer (Dense)        (None, 1)                 65        \n",
      "                                                                 \n",
      "=================================================================\n",
      "Total params: 5,121\n",
      "Trainable params: 5,121\n",
      "Non-trainable params: 0\n",
      "_________________________________________________________________\n"
     ]
    },
    {
     "data": {
      "image/png": "[encoded data removed]",
      "text/plain": [
       "<IPython.core.display.Image object>"
      ]
     },
     "execution_count": 22,
     "metadata": {},
     "output_type": "execute_result"
    }
   ],
   "source": [
    "# construct model\n",
    "model = build_model()\n",
    "\n",
    "# train final model from what we learn: aka epochs=350\n",
    "model.fit(X_train, y_train, epochs=350, batch_size=16, verbose=0)\n",
    "\n",
    "# evaluate the model on the test dataset\n",
    "test_mse_score, test_mae_score = model.evaluate(X_test, y_test)\n",
    "\n",
    "# show the model summary\n",
    "model.summary()\n",
    "    \n",
    "# plot the model architecture\n",
    "keras.utils.plot_model(model, \"my_model.png\", show_shapes=True)"
   ]
  },
  {
   "cell_type": "code",
   "execution_count": 23,
   "id": "ae9b93d7",
   "metadata": {
    "execution": {
     "iopub.execute_input": "2023-02-18T03:22:03.522079Z",
     "iopub.status.busy": "2023-02-18T03:22:03.521589Z",
     "iopub.status.idle": "2023-02-18T03:22:03.528971Z",
     "shell.execute_reply": "2023-02-18T03:22:03.527564Z"
    },
    "papermill": {
     "duration": 0.029069,
     "end_time": "2023-02-18T03:22:03.532699",
     "exception": false,
     "start_time": "2023-02-18T03:22:03.503630",
     "status": "completed"
    },
    "tags": []
   },
   "outputs": [
    {
     "name": "stdout",
     "output_type": "stream",
     "text": [
      "2.5887579917907715\n"
     ]
    }
   ],
   "source": [
    "print(test_mae_score)"
   ]
  },
  {
   "cell_type": "code",
   "execution_count": 24,
   "id": "37e17713",
   "metadata": {
    "execution": {
     "iopub.execute_input": "2023-02-18T03:22:03.567652Z",
     "iopub.status.busy": "2023-02-18T03:22:03.567223Z",
     "iopub.status.idle": "2023-02-18T03:22:03.573532Z",
     "shell.execute_reply": "2023-02-18T03:22:03.572394Z"
    },
    "papermill": {
     "duration": 0.02625,
     "end_time": "2023-02-18T03:22:03.575775",
     "exception": false,
     "start_time": "2023-02-18T03:22:03.549525",
     "status": "completed"
    },
    "tags": []
   },
   "outputs": [
    {
     "name": "stdout",
     "output_type": "stream",
     "text": [
      "The minimal house price is 5.0.\n",
      "The maximum house price is 50.0.\n"
     ]
    }
   ],
   "source": [
    "print(f\"The minimal house price is {min(y)}.\")\n",
    "print(f\"The maximum house price is {max(y)}.\")"
   ]
  },
  {
   "cell_type": "markdown",
   "id": "18712917",
   "metadata": {
    "papermill": {
     "duration": 0.016014,
     "end_time": "2023-02-18T03:22:03.608301",
     "exception": false,
     "start_time": "2023-02-18T03:22:03.592287",
     "status": "completed"
    },
    "tags": []
   },
   "source": [
    "**Note**: The MAE measure the difference between the predictions and the targets in regression. For this problem, if the MAE is 0.5, this means that the model prediction is off by `$500` on average. We see that the house price range is `$5000` to `$50,000`, thus, the fact that our model is off by `$2,543` in average is significant!"
   ]
  },
  {
   "cell_type": "markdown",
   "id": "c3d4b275",
   "metadata": {
    "papermill": {
     "duration": 0.016231,
     "end_time": "2023-02-18T03:22:03.641128",
     "exception": false,
     "start_time": "2023-02-18T03:22:03.624897",
     "status": "completed"
    },
    "tags": []
   },
   "source": [
    "# 7. Model \"Deployment\" Test\n",
    "**Note**: What if you want to see how our model perform during a \"deployment\" process? Let's test it on a sample on the testing dataset."
   ]
  },
  {
   "cell_type": "code",
   "execution_count": 25,
   "id": "b8b9fb03",
   "metadata": {
    "execution": {
     "iopub.execute_input": "2023-02-18T03:22:03.675950Z",
     "iopub.status.busy": "2023-02-18T03:22:03.675500Z",
     "iopub.status.idle": "2023-02-18T03:22:03.879533Z",
     "shell.execute_reply": "2023-02-18T03:22:03.878015Z"
    },
    "papermill": {
     "duration": 0.225317,
     "end_time": "2023-02-18T03:22:03.882927",
     "exception": false,
     "start_time": "2023-02-18T03:22:03.657610",
     "status": "completed"
    },
    "tags": []
   },
   "outputs": [
    {
     "name": "stdout",
     "output_type": "stream",
     "text": [
      "5/5 [==============================] - 0s 2ms/step\n"
     ]
    }
   ],
   "source": [
    "# predict on the entire test dataset\n",
    "predictions = model.predict(X_test)"
   ]
  },
  {
   "cell_type": "code",
   "execution_count": 26,
   "id": "96f659ca",
   "metadata": {
    "execution": {
     "iopub.execute_input": "2023-02-18T03:22:03.919226Z",
     "iopub.status.busy": "2023-02-18T03:22:03.918174Z",
     "iopub.status.idle": "2023-02-18T03:22:03.923815Z",
     "shell.execute_reply": "2023-02-18T03:22:03.922937Z"
    },
    "papermill": {
     "duration": 0.026419,
     "end_time": "2023-02-18T03:22:03.926230",
     "exception": false,
     "start_time": "2023-02-18T03:22:03.899811",
     "status": "completed"
    },
    "tags": []
   },
   "outputs": [
    {
     "name": "stdout",
     "output_type": "stream",
     "text": [
      "Model's prediction on the first house in the test dataset is: 20.266096115112305\n"
     ]
    }
   ],
   "source": [
    "# get the prediction value\n",
    "print(f\"Model's prediction on the first house in the test dataset is: {predictions[0][0]}\")"
   ]
  },
  {
   "cell_type": "code",
   "execution_count": 27,
   "id": "d206aebf",
   "metadata": {
    "execution": {
     "iopub.execute_input": "2023-02-18T03:22:03.962181Z",
     "iopub.status.busy": "2023-02-18T03:22:03.961144Z",
     "iopub.status.idle": "2023-02-18T03:22:03.968841Z",
     "shell.execute_reply": "2023-02-18T03:22:03.967552Z"
    },
    "papermill": {
     "duration": 0.029012,
     "end_time": "2023-02-18T03:22:03.972049",
     "exception": false,
     "start_time": "2023-02-18T03:22:03.943037",
     "status": "completed"
    },
    "tags": []
   },
   "outputs": [
    {
     "name": "stdout",
     "output_type": "stream",
     "text": [
      "329    22.6\n",
      "371    50.0\n",
      "219    23.0\n",
      "403     8.3\n",
      "78     21.2\n",
      "       ... \n",
      "4      36.2\n",
      "428    11.0\n",
      "385     7.2\n",
      "308    22.8\n",
      "5      28.7\n",
      "Name: MEDV, Length: 152, dtype: float64\n"
     ]
    }
   ],
   "source": [
    "# get all the labels and indices from test dataset\n",
    "print(y_test)"
   ]
  },
  {
   "cell_type": "markdown",
   "id": "707c9ff0",
   "metadata": {
    "papermill": {
     "duration": 0.016929,
     "end_time": "2023-02-18T03:22:04.005673",
     "exception": false,
     "start_time": "2023-02-18T03:22:03.988744",
     "status": "completed"
    },
    "tags": []
   },
   "source": [
    "**Note**: we see that the first house in the test dataset has index of 329. Here, the index is mixed up since we set random shuffle during the train/validate/test split in the data processing step."
   ]
  },
  {
   "cell_type": "code",
   "execution_count": 28,
   "id": "b074cbc3",
   "metadata": {
    "execution": {
     "iopub.execute_input": "2023-02-18T03:22:04.041389Z",
     "iopub.status.busy": "2023-02-18T03:22:04.040862Z",
     "iopub.status.idle": "2023-02-18T03:22:04.046592Z",
     "shell.execute_reply": "2023-02-18T03:22:04.045669Z"
    },
    "papermill": {
     "duration": 0.025948,
     "end_time": "2023-02-18T03:22:04.048895",
     "exception": false,
     "start_time": "2023-02-18T03:22:04.022947",
     "status": "completed"
    },
    "tags": []
   },
   "outputs": [
    {
     "name": "stdout",
     "output_type": "stream",
     "text": [
      "22.6\n"
     ]
    }
   ],
   "source": [
    "print(df['MEDV'][329])"
   ]
  },
  {
   "cell_type": "markdown",
   "id": "3d1aea21",
   "metadata": {
    "papermill": {
     "duration": 0.016632,
     "end_time": "2023-02-18T03:22:04.082659",
     "exception": false,
     "start_time": "2023-02-18T03:22:04.066027",
     "status": "completed"
    },
    "tags": []
   },
   "source": [
    "**Note**: We can see that the predicted price and the label do not offset by much (~`$2000`)."
   ]
  },
  {
   "cell_type": "markdown",
   "id": "784bd3f5",
   "metadata": {
    "papermill": {
     "duration": 0.018698,
     "end_time": "2023-02-18T03:22:04.118263",
     "exception": false,
     "start_time": "2023-02-18T03:22:04.099565",
     "status": "completed"
    },
    "tags": []
   },
   "source": [
    "![](https://images.unsplash.com/photo-1506551907304-60bb62ffc9b0?ixlib=rb-4.0.3&ixid=MnwxMjA3fDB8MHxwaG90by1wYWdlfHx8fGVufDB8fHx8&auto=format&fit=crop&w=1170&q=80)"
   ]
  }
 ],
 "metadata": {
  "kernelspec": {
   "display_name": "Python 3",
   "language": "python",
   "name": "python3"
  },
  "language_info": {
   "codemirror_mode": {
    "name": "ipython",
    "version": 3
   },
   "file_extension": ".py",
   "mimetype": "text/x-python",
   "name": "python",
   "nbconvert_exporter": "python",
   "pygments_lexer": "ipython3",
   "version": "3.7.12"
  },
  "papermill": {
   "default_parameters": {},
   "duration": 172.326507,
   "end_time": "2023-02-18T03:22:07.568757",
   "environment_variables": {},
   "exception": null,
   "input_path": "__notebook__.ipynb",
   "output_path": "__notebook__.ipynb",
   "parameters": {},
   "start_time": "2023-02-18T03:19:15.242250",
   "version": "2.3.4"
  }
 },
 "nbformat": 4,
 "nbformat_minor": 5
}
