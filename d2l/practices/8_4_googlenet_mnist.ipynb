{
 "cells": [
  {
   "cell_type": "markdown",
   "metadata": {},
   "source": [
    "# Question: Implement a Custom GoogLeNet-Inspired Model\n",
    "- Design and implement a simplified version of GoogLeNet for CIFAR-10 using PyTorh\n",
    "- Architecture:\n",
    "    - Build a custom InceptionBlock class with;\n",
    "        - 1x1 convolution branch\n",
    "        - 3x3 convolution branch\n",
    "        - 5x5 convolution branch\n",
    "        - A max pooling branch followed by a 1x1 convolution\n",
    "    - Concatenate the outputs of all branches along the channel dimension\n",
    "- Model Structure\n",
    "    - Use an initial 3x3 convolution layer with ReLU activation\n",
    "    - Stack at least 2 inception blocks with pooling layers between them\n",
    "    - Add a fully connected layer at the end to classify 10 classses\n",
    "- Training:\n",
    "    - Train your model on CIFAR-10 for 10 epochs\n",
    "    - Use Adam optimizer with a learning rate of 0.001 and CrossEntropyLoss\n",
    "    - Use a batch size of 64\n",
    "- Evaluation"
   ]
  },
  {
   "cell_type": "markdown",
   "metadata": {},
   "source": []
  }
 ],
 "metadata": {
  "language_info": {
   "name": "python"
  }
 },
 "nbformat": 4,
 "nbformat_minor": 2
}
